{
 "cells": [
  {
   "cell_type": "code",
   "execution_count": 3,
   "id": "ab6a89a2-027d-4e51-8924-eebf3b29b7cd",
   "metadata": {
    "tags": []
   },
   "outputs": [],
   "source": [
    "import pandas as pd"
   ]
  },
  {
   "cell_type": "code",
   "execution_count": 4,
   "id": "ce0c2f2e-54db-4803-9057-d740dcf48f63",
   "metadata": {
    "tags": []
   },
   "outputs": [
    {
     "name": "stderr",
     "output_type": "stream",
     "text": [
      "/opt/conda/lib/python3.7/site-packages/IPython/core/interactiveshell.py:3553: DtypeWarning: Columns (0,1,2,4,5,9,10,11,12,13,14,15,16,17,18,20,21,23,24,25,26,27,28,29,31,33,39,41,56,57,58,59,63,64,65,67,68,70,71,74,75,77,78,80,81,82,83,84,85,86,87,88,89,90,91,92,93,94,95,96,97,98,99,100,101,102,103,106,108,109,110,111,112,113,114,115,116,117,118,119,122,123,124,125,126,127,128,129,130,131,132,134,135,136,137,138,155,156,159,160,161,164,165) have mixed types.Specify dtype option on import or set low_memory=False.\n",
      "  exec(code_obj, self.user_global_ns, self.user_ns)\n"
     ]
    }
   ],
   "source": [
    "df_1 = pd.read_csv(\"s3://adl-core-sagemaker-studio/external/Deepali/IVA_cleaned_labelled_merged.csv\")\n",
    "df_2 = pd.read_csv(\"s3://adl-core-sagemaker-studio/external/Deepali/IVA_cleaned_labelled(session_id_added).csv\")\n",
    "df_3 = pd.read_csv(\"s3://adl-core-sagemaker-studio/external/IVA/combined_new_adult-child_outer_new.csv\")"
   ]
  },
  {
   "cell_type": "code",
   "execution_count": 5,
   "id": "44d8269b-f831-4ba3-852d-cae5050aaa7c",
   "metadata": {
    "tags": []
   },
   "outputs": [],
   "source": [
    "df = pd.concat([df_1,df_2,df_3], axis=0)"
   ]
  },
  {
   "cell_type": "code",
   "execution_count": 6,
   "id": "c2e218b3-ea45-4179-8bab-e6b6c66f83d3",
   "metadata": {
    "tags": []
   },
   "outputs": [],
   "source": [
    "# df.columns.to_list() \n",
    "#'client_id','person_internal_id','input_orig','unit_name',\n",
    "# 'labels','input_cleaned','input_cleaned_dl','next_unit_hit','input','session_start_cst',\n",
    "#  'business_page_name','search_text',"
   ]
  },
  {
   "cell_type": "code",
   "execution_count": 7,
   "id": "d87b679b-866a-4704-821b-1f051c999fed",
   "metadata": {
    "tags": []
   },
   "outputs": [],
   "source": [
    "df_4 = df[['client_id','person_internal_id','input_orig','unit_name','labels','input_cleaned','input_cleaned_dl',\n",
    "           'next_unit_hit','input','session_start_cst','business_page_name','search_text']].copy()"
   ]
  },
  {
   "cell_type": "code",
   "execution_count": 8,
   "id": "6208f52d-e71c-4d67-9ce9-4e1cb0d1a1c9",
   "metadata": {
    "tags": []
   },
   "outputs": [],
   "source": [
    "df_4['input_orig'] = df_4['input_orig'].str.split('|')"
   ]
  },
  {
   "cell_type": "code",
   "execution_count": 9,
   "id": "be13842c-a0d5-4201-82c1-cd039ec60ecd",
   "metadata": {
    "tags": []
   },
   "outputs": [],
   "source": [
    "df_4 = df_4.explode('input_orig')"
   ]
  },
  {
   "cell_type": "code",
   "execution_count": 10,
   "id": "f4bedc5b-e1a4-4948-9c28-634a590d3918",
   "metadata": {
    "tags": []
   },
   "outputs": [
    {
     "data": {
      "text/html": [
       "<div>\n",
       "<style scoped>\n",
       "    .dataframe tbody tr th:only-of-type {\n",
       "        vertical-align: middle;\n",
       "    }\n",
       "\n",
       "    .dataframe tbody tr th {\n",
       "        vertical-align: top;\n",
       "    }\n",
       "\n",
       "    .dataframe thead th {\n",
       "        text-align: right;\n",
       "    }\n",
       "</style>\n",
       "<table border=\"1\" class=\"dataframe\">\n",
       "  <thead>\n",
       "    <tr style=\"text-align: right;\">\n",
       "      <th></th>\n",
       "      <th>client_id</th>\n",
       "      <th>person_internal_id</th>\n",
       "      <th>input_orig</th>\n",
       "      <th>unit_name</th>\n",
       "      <th>labels</th>\n",
       "      <th>input_cleaned</th>\n",
       "      <th>input_cleaned_dl</th>\n",
       "      <th>next_unit_hit</th>\n",
       "      <th>input</th>\n",
       "      <th>session_start_cst</th>\n",
       "      <th>business_page_name</th>\n",
       "      <th>search_text</th>\n",
       "    </tr>\n",
       "  </thead>\n",
       "  <tbody>\n",
       "    <tr>\n",
       "      <th>0</th>\n",
       "      <td>245</td>\n",
       "      <td>342020022</td>\n",
       "      <td>does my fsa carry over</td>\n",
       "      <td>Flexible Spending Account (FSA) Rollover</td>\n",
       "      <td>NaN</td>\n",
       "      <td>NaN</td>\n",
       "      <td>NaN</td>\n",
       "      <td>NaN</td>\n",
       "      <td>NaN</td>\n",
       "      <td>NaN</td>\n",
       "      <td>NaN</td>\n",
       "      <td>NaN</td>\n",
       "    </tr>\n",
       "    <tr>\n",
       "      <th>1</th>\n",
       "      <td>936</td>\n",
       "      <td>12351089</td>\n",
       "      <td>hi</td>\n",
       "      <td>Hello | Paid Time Off Clarifier</td>\n",
       "      <td>NaN</td>\n",
       "      <td>NaN</td>\n",
       "      <td>NaN</td>\n",
       "      <td>NaN</td>\n",
       "      <td>NaN</td>\n",
       "      <td>NaN</td>\n",
       "      <td>NaN</td>\n",
       "      <td>NaN</td>\n",
       "    </tr>\n",
       "    <tr>\n",
       "      <th>1</th>\n",
       "      <td>936</td>\n",
       "      <td>12351089</td>\n",
       "      <td>leave/time off</td>\n",
       "      <td>Hello | Paid Time Off Clarifier</td>\n",
       "      <td>NaN</td>\n",
       "      <td>NaN</td>\n",
       "      <td>NaN</td>\n",
       "      <td>NaN</td>\n",
       "      <td>NaN</td>\n",
       "      <td>NaN</td>\n",
       "      <td>NaN</td>\n",
       "      <td>NaN</td>\n",
       "    </tr>\n",
       "    <tr>\n",
       "      <th>2</th>\n",
       "      <td>936</td>\n",
       "      <td>32861032</td>\n",
       "      <td>How much does covid pay cover</td>\n",
       "      <td>Natural Disaster</td>\n",
       "      <td>NaN</td>\n",
       "      <td>NaN</td>\n",
       "      <td>NaN</td>\n",
       "      <td>NaN</td>\n",
       "      <td>NaN</td>\n",
       "      <td>NaN</td>\n",
       "      <td>NaN</td>\n",
       "      <td>NaN</td>\n",
       "    </tr>\n",
       "    <tr>\n",
       "      <th>3</th>\n",
       "      <td>5888</td>\n",
       "      <td>379001056</td>\n",
       "      <td>I want to roll my future builder into an ira</td>\n",
       "      <td>401k/403b/457 Clarifier | I Don't Know</td>\n",
       "      <td>NaN</td>\n",
       "      <td>NaN</td>\n",
       "      <td>NaN</td>\n",
       "      <td>NaN</td>\n",
       "      <td>NaN</td>\n",
       "      <td>NaN</td>\n",
       "      <td>NaN</td>\n",
       "      <td>NaN</td>\n",
       "    </tr>\n",
       "  </tbody>\n",
       "</table>\n",
       "</div>"
      ],
      "text/plain": [
       "   client_id  person_internal_id  \\\n",
       "0        245           342020022   \n",
       "1        936            12351089   \n",
       "1        936            12351089   \n",
       "2        936            32861032   \n",
       "3       5888           379001056   \n",
       "\n",
       "                                      input_orig  \\\n",
       "0                         does my fsa carry over   \n",
       "1                                            hi    \n",
       "1                                 leave/time off   \n",
       "2                  How much does covid pay cover   \n",
       "3  I want to roll my future builder into an ira    \n",
       "\n",
       "                                  unit_name labels input_cleaned  \\\n",
       "0  Flexible Spending Account (FSA) Rollover    NaN           NaN   \n",
       "1           Hello | Paid Time Off Clarifier    NaN           NaN   \n",
       "1           Hello | Paid Time Off Clarifier    NaN           NaN   \n",
       "2                          Natural Disaster    NaN           NaN   \n",
       "3    401k/403b/457 Clarifier | I Don't Know    NaN           NaN   \n",
       "\n",
       "  input_cleaned_dl next_unit_hit input session_start_cst business_page_name  \\\n",
       "0              NaN           NaN   NaN               NaN                NaN   \n",
       "1              NaN           NaN   NaN               NaN                NaN   \n",
       "1              NaN           NaN   NaN               NaN                NaN   \n",
       "2              NaN           NaN   NaN               NaN                NaN   \n",
       "3              NaN           NaN   NaN               NaN                NaN   \n",
       "\n",
       "  search_text  \n",
       "0         NaN  \n",
       "1         NaN  \n",
       "1         NaN  \n",
       "2         NaN  \n",
       "3         NaN  "
      ]
     },
     "execution_count": 10,
     "metadata": {},
     "output_type": "execute_result"
    }
   ],
   "source": [
    "df_4.head()"
   ]
  },
  {
   "cell_type": "code",
   "execution_count": 11,
   "id": "7ed86598-d975-4fdf-b1d9-9faf8a10b7df",
   "metadata": {
    "tags": []
   },
   "outputs": [
    {
     "data": {
      "text/plain": [
       "(5906010, 12)"
      ]
     },
     "execution_count": 11,
     "metadata": {},
     "output_type": "execute_result"
    }
   ],
   "source": [
    "df_4.shape"
   ]
  },
  {
   "cell_type": "code",
   "execution_count": 12,
   "id": "174fc693-c03e-457f-9eb7-e8939ad43673",
   "metadata": {
    "tags": []
   },
   "outputs": [],
   "source": [
    "# select the columns to stack\n",
    "cols_to_stack = ['input',  'input_orig']\n",
    "\n",
    "# stack the columns using melt\n",
    "stacked = pd.melt(df_4, id_vars=['client_id','person_internal_id','search_text', 'business_page_name',\n",
    "                                 'labels','unit_name','next_unit_hit'], \n",
    "                  value_vars=cols_to_stack, var_name='stacked_cols', value_name='stacked_input')"
   ]
  },
  {
   "cell_type": "code",
   "execution_count": 13,
   "id": "5714ef6c-7dab-4ca7-bc5f-77b3f0f1a030",
   "metadata": {
    "tags": []
   },
   "outputs": [
    {
     "data": {
      "text/html": [
       "<div>\n",
       "<style scoped>\n",
       "    .dataframe tbody tr th:only-of-type {\n",
       "        vertical-align: middle;\n",
       "    }\n",
       "\n",
       "    .dataframe tbody tr th {\n",
       "        vertical-align: top;\n",
       "    }\n",
       "\n",
       "    .dataframe thead th {\n",
       "        text-align: right;\n",
       "    }\n",
       "</style>\n",
       "<table border=\"1\" class=\"dataframe\">\n",
       "  <thead>\n",
       "    <tr style=\"text-align: right;\">\n",
       "      <th></th>\n",
       "      <th>client_id</th>\n",
       "      <th>person_internal_id</th>\n",
       "      <th>search_text</th>\n",
       "      <th>business_page_name</th>\n",
       "      <th>labels</th>\n",
       "      <th>unit_name</th>\n",
       "      <th>next_unit_hit</th>\n",
       "      <th>stacked_cols</th>\n",
       "      <th>stacked_input</th>\n",
       "    </tr>\n",
       "  </thead>\n",
       "  <tbody>\n",
       "    <tr>\n",
       "      <th>0</th>\n",
       "      <td>245</td>\n",
       "      <td>342020022</td>\n",
       "      <td>NaN</td>\n",
       "      <td>NaN</td>\n",
       "      <td>NaN</td>\n",
       "      <td>Flexible Spending Account (FSA) Rollover</td>\n",
       "      <td>NaN</td>\n",
       "      <td>input</td>\n",
       "      <td>NaN</td>\n",
       "    </tr>\n",
       "    <tr>\n",
       "      <th>1</th>\n",
       "      <td>936</td>\n",
       "      <td>12351089</td>\n",
       "      <td>NaN</td>\n",
       "      <td>NaN</td>\n",
       "      <td>NaN</td>\n",
       "      <td>Hello | Paid Time Off Clarifier</td>\n",
       "      <td>NaN</td>\n",
       "      <td>input</td>\n",
       "      <td>NaN</td>\n",
       "    </tr>\n",
       "    <tr>\n",
       "      <th>2</th>\n",
       "      <td>936</td>\n",
       "      <td>12351089</td>\n",
       "      <td>NaN</td>\n",
       "      <td>NaN</td>\n",
       "      <td>NaN</td>\n",
       "      <td>Hello | Paid Time Off Clarifier</td>\n",
       "      <td>NaN</td>\n",
       "      <td>input</td>\n",
       "      <td>NaN</td>\n",
       "    </tr>\n",
       "    <tr>\n",
       "      <th>3</th>\n",
       "      <td>936</td>\n",
       "      <td>32861032</td>\n",
       "      <td>NaN</td>\n",
       "      <td>NaN</td>\n",
       "      <td>NaN</td>\n",
       "      <td>Natural Disaster</td>\n",
       "      <td>NaN</td>\n",
       "      <td>input</td>\n",
       "      <td>NaN</td>\n",
       "    </tr>\n",
       "    <tr>\n",
       "      <th>4</th>\n",
       "      <td>5888</td>\n",
       "      <td>379001056</td>\n",
       "      <td>NaN</td>\n",
       "      <td>NaN</td>\n",
       "      <td>NaN</td>\n",
       "      <td>401k/403b/457 Clarifier | I Don't Know</td>\n",
       "      <td>NaN</td>\n",
       "      <td>input</td>\n",
       "      <td>NaN</td>\n",
       "    </tr>\n",
       "  </tbody>\n",
       "</table>\n",
       "</div>"
      ],
      "text/plain": [
       "   client_id  person_internal_id search_text business_page_name labels  \\\n",
       "0        245           342020022         NaN                NaN    NaN   \n",
       "1        936            12351089         NaN                NaN    NaN   \n",
       "2        936            12351089         NaN                NaN    NaN   \n",
       "3        936            32861032         NaN                NaN    NaN   \n",
       "4       5888           379001056         NaN                NaN    NaN   \n",
       "\n",
       "                                  unit_name next_unit_hit stacked_cols  \\\n",
       "0  Flexible Spending Account (FSA) Rollover           NaN        input   \n",
       "1           Hello | Paid Time Off Clarifier           NaN        input   \n",
       "2           Hello | Paid Time Off Clarifier           NaN        input   \n",
       "3                          Natural Disaster           NaN        input   \n",
       "4    401k/403b/457 Clarifier | I Don't Know           NaN        input   \n",
       "\n",
       "  stacked_input  \n",
       "0           NaN  \n",
       "1           NaN  \n",
       "2           NaN  \n",
       "3           NaN  \n",
       "4           NaN  "
      ]
     },
     "execution_count": 13,
     "metadata": {},
     "output_type": "execute_result"
    }
   ],
   "source": [
    "stacked.head()"
   ]
  },
  {
   "cell_type": "code",
   "execution_count": 14,
   "id": "61702dc6-8947-47af-b0d7-73d472957178",
   "metadata": {
    "tags": []
   },
   "outputs": [],
   "source": [
    "CC_synonyms = [\n",
    "    \"Daycare\",\n",
    "    \"Nursery\",\n",
    "    \"Preschool\",\n",
    "    \"Babysitting\",\"Babysitter\",\n",
    "    \"Child minding\",\n",
    "    \"Early childhood education\",\n",
    "    \"Kindergarten\",\n",
    "    \"Child supervision\",\n",
    "    \"Child support services\",\n",
    "    \"Child welfare\",\n",
    "    \"Foster care\",\n",
    "    \"Nanny services\",\n",
    "    \"After school care\",\n",
    "    \"Playgroup\",\n",
    "    \"Child development center\",\"Early learning center\"\n",
    "]\n",
    "CC_synonyms = [word.lower() for word in CC_synonyms]\n",
    "# CC_synonyms"
   ]
  },
  {
   "cell_type": "code",
   "execution_count": null,
   "id": "1028b63e-4422-4e22-9d45-4d905be1319c",
   "metadata": {},
   "outputs": [],
   "source": []
  },
  {
   "cell_type": "code",
   "execution_count": null,
   "id": "6b4261d9-f59e-47a3-aa38-29824945895e",
   "metadata": {},
   "outputs": [],
   "source": []
  },
  {
   "cell_type": "code",
   "execution_count": 15,
   "id": "455d83db-9eb5-42dc-b6b4-939aab954acf",
   "metadata": {
    "tags": []
   },
   "outputs": [],
   "source": [
    "EC_synonyms = [\n",
    "    \"Senior care\",\n",
    "    \"Elderly care\",\n",
    "    \"Aging care\",\n",
    "    \"Geriatric care\",\n",
    "    \"Older adult care\",\n",
    "    \"Senior support\",\n",
    "    \"Elder support\",\n",
    "    \"Aging support\",\n",
    "    \"Geriatric support\",\n",
    "    \"Older adult support\",\n",
    "    \"Elderly assistance\",\n",
    "    \"Senior assistance\",\n",
    "    \"Aging assistance\",\n",
    "    \"Geriatric assistance\",\n",
    "    \"Older adult assistance\",\n",
    "    \"Elder caregiving\",\n",
    "    \"Senior caregiving\",\n",
    "    \"Aging caregiving\",\n",
    "    \"Geriatric caregiving\",\n",
    "    \"Older adult caregiving\",\n",
    "    \"Elderly services\",\n",
    "    \"Senior services\",\n",
    "    \"Aging services\",\n",
    "    \"Geriatric services\",\n",
    "    \"Older adult services\",\n",
    "    \"Elderly help\",\n",
    "    \"Senior help\",\n",
    "    \"Aging help\",\n",
    "    \"Geriatric help\",\n",
    "    \"Older adult help\"\n",
    "]"
   ]
  },
  {
   "cell_type": "code",
   "execution_count": 43,
   "id": "24000d21-e672-4279-8549-5f88184a5221",
   "metadata": {
    "tags": []
   },
   "outputs": [],
   "source": [
    "stacked_2 = stacked.copy()"
   ]
  },
  {
   "cell_type": "code",
   "execution_count": 48,
   "id": "f775568f-842b-45a4-88bb-10bf86722b8a",
   "metadata": {
    "tags": []
   },
   "outputs": [],
   "source": [
    "stacked_2.to_csv('stacked_2.csv')"
   ]
  },
  {
   "cell_type": "code",
   "execution_count": 44,
   "id": "2a2673b2-8726-4d8e-9998-97c5b2a6d6be",
   "metadata": {
    "tags": []
   },
   "outputs": [],
   "source": [
    "# import pandas as pd\n",
    "\n",
    "# # Convert the content of the specified columns to lowercase\n",
    "# stacked_2['stacked_input'] = stacked_2['stacked_input'].str.lower()\n",
    "# stacked_2['business_page_name'] = stacked_2['business_page_name'].str.lower()\n",
    "# stacked_2['search_text'] = stacked_2['search_text'].str.lower()\n",
    "\n",
    "# # Initialize the new columns with 0\n",
    "# stacked_2['iva_cc'] = 0\n",
    "# stacked_2['web_cc'] = 0\n",
    "# stacked_2['search_cc'] = 0\n",
    "\n",
    "# stacked_2.fillna(0, inplace=True)\n",
    "# # Search for CC synonyms and update the new columns accordingly\n",
    "# for synonym in CC_synonyms:\n",
    "#     stacked_2['iva_cc'] = stacked_2['stacked_input'].str.contains(synonym, na=False).astype(int)\n",
    "#     stacked_2['web_cc'] =  stacked_2['business_page_name'].str.contains(synonym, na=False).astype(int)\n",
    "#     stacked_2['search_cc'] = stacked_2['search_text'].str.contains(synonym, na=False).astype(int)\n",
    "\n",
    "# # Display the updated DataFrame\n",
    "# stacked_2.sample(10)"
   ]
  },
  {
   "cell_type": "code",
   "execution_count": 41,
   "id": "2f4194c7-e0af-47ac-a07a-25592e99c7cb",
   "metadata": {
    "tags": []
   },
   "outputs": [],
   "source": [
    "import pandas as pd\n",
    "from sklearn.feature_extraction.text import TfidfVectorizer\n",
    "from sklearn.metrics.pairwise import cosine_similarity\n",
    "from multiprocessing import Pool, cpu_count"
   ]
  },
  {
   "cell_type": "code",
   "execution_count": null,
   "id": "ad9cfae5-5663-4075-9a22-7b3d9557d08c",
   "metadata": {
    "tags": []
   },
   "outputs": [],
   "source": [
    "# Combine the text columns into a single column\n",
    "stacked_2.fillna('', inplace=True)\n",
    "stacked_2['combined_text'] = stacked_2['stacked_input'] + ' ' + stacked_2['business_page_name'] + ' ' + stacked_2['search_text']\n",
    "\n",
    "# Create the TF-IDF vectorizer\n",
    "vectorizer = TfidfVectorizer()\n",
    "\n",
    "# Fit and transform the combined text into TF-IDF vectors\n",
    "tfidf_vectors = vectorizer.fit_transform(stacked_2['combined_text'])\n",
    "\n",
    "# Compute the pairwise cosine similarity between the TF-IDF vectors\n",
    "cosine_similarities = cosine_similarity(tfidf_vectors)\n",
    "\n",
    "# Function to check if a text is similar to any of the synonyms\n",
    "def is_similar(text, synonyms, threshold):\n",
    "    vector = vectorizer.transform([text])\n",
    "    similarities = cosine_similarity(vector, tfidf_vectors)[0]\n",
    "    max_similarity = max(similarities)\n",
    "    if max_similarity >= threshold:\n",
    "        return True\n",
    "    return False\n",
    "\n",
    "# Update the 'iva_cc', 'web_cc', and 'search_cc' columns in parallel using multiprocessing\n",
    "threshold = 0.95  # Adjust the threshold as needed\n",
    "num_processes = cpu_count()  # Get the number of available CPU cores\n",
    "\n",
    "def process_row(row):\n",
    "    row['iva_cc'] = is_similar(row['stacked_input'], CC_synonyms, threshold)\n",
    "    row['web_cc'] = is_similar(row['business_page_name'], CC_synonyms, threshold)\n",
    "    row['search_cc'] = is_similar(row['search_text'], CC_synonyms, threshold)\n",
    "    return row\n",
    "\n",
    "def process_rows_parallel(data):\n",
    "    with Pool(processes=num_processes) as pool:\n",
    "        processed_data = pool.map(process_row, data)\n",
    "    return processed_data\n",
    "\n",
    "stacked_2_processed = process_rows_parallel(stacked_2.to_dict('records'))\n",
    "stacked_2 = pd.DataFrame(stacked_2_processed)\n",
    "\n",
    "# Convert the Boolean values to integers\n",
    "stacked_2['iva_cc'] = stacked_2['iva_cc'].astype(int)\n",
    "stacked_2['web_cc'] = stacked_2['web_cc'].astype(int)\n",
    "stacked_2['search_cc'] = stacked_2['search_cc'].astype(int)\n",
    "\n",
    "# Display the updated DataFrame\n",
    "print(stacked_2)"
   ]
  },
  {
   "cell_type": "code",
   "execution_count": 40,
   "id": "d490138c-ef40-4b7e-a2d0-f8eb77db0c22",
   "metadata": {},
   "outputs": [
    {
     "ename": "ValueError",
     "evalue": "a must be greater than 0 unless no samples are taken",
     "output_type": "error",
     "traceback": [
      "\u001b[0;31m---------------------------------------------------------------------------\u001b[0m",
      "\u001b[0;31mValueError\u001b[0m                                Traceback (most recent call last)",
      "\u001b[0;32m<ipython-input-40-74a5cc2937bf>\u001b[0m in \u001b[0;36m<module>\u001b[0;34m\u001b[0m\n\u001b[0;32m----> 1\u001b[0;31m \u001b[0mstacked_2\u001b[0m\u001b[0;34m[\u001b[0m\u001b[0mstacked_2\u001b[0m\u001b[0;34m[\u001b[0m\u001b[0;34m'search_cc'\u001b[0m\u001b[0;34m]\u001b[0m\u001b[0;34m==\u001b[0m\u001b[0;36m1\u001b[0m\u001b[0;34m]\u001b[0m\u001b[0;34m.\u001b[0m\u001b[0msample\u001b[0m\u001b[0;34m(\u001b[0m\u001b[0;34m)\u001b[0m\u001b[0;34m\u001b[0m\u001b[0;34m\u001b[0m\u001b[0m\n\u001b[0m",
      "\u001b[0;32m/opt/conda/lib/python3.7/site-packages/pandas/core/generic.py\u001b[0m in \u001b[0;36msample\u001b[0;34m(self, n, frac, replace, weights, random_state, axis, ignore_index)\u001b[0m\n\u001b[1;32m   5363\u001b[0m             )\n\u001b[1;32m   5364\u001b[0m \u001b[0;34m\u001b[0m\u001b[0m\n\u001b[0;32m-> 5365\u001b[0;31m         \u001b[0mlocs\u001b[0m \u001b[0;34m=\u001b[0m \u001b[0mrs\u001b[0m\u001b[0;34m.\u001b[0m\u001b[0mchoice\u001b[0m\u001b[0;34m(\u001b[0m\u001b[0maxis_length\u001b[0m\u001b[0;34m,\u001b[0m \u001b[0msize\u001b[0m\u001b[0;34m=\u001b[0m\u001b[0mn\u001b[0m\u001b[0;34m,\u001b[0m \u001b[0mreplace\u001b[0m\u001b[0;34m=\u001b[0m\u001b[0mreplace\u001b[0m\u001b[0;34m,\u001b[0m \u001b[0mp\u001b[0m\u001b[0;34m=\u001b[0m\u001b[0mweights\u001b[0m\u001b[0;34m)\u001b[0m\u001b[0;34m\u001b[0m\u001b[0;34m\u001b[0m\u001b[0m\n\u001b[0m\u001b[1;32m   5366\u001b[0m         \u001b[0mresult\u001b[0m \u001b[0;34m=\u001b[0m \u001b[0mself\u001b[0m\u001b[0;34m.\u001b[0m\u001b[0mtake\u001b[0m\u001b[0;34m(\u001b[0m\u001b[0mlocs\u001b[0m\u001b[0;34m,\u001b[0m \u001b[0maxis\u001b[0m\u001b[0;34m=\u001b[0m\u001b[0maxis\u001b[0m\u001b[0;34m)\u001b[0m\u001b[0;34m\u001b[0m\u001b[0;34m\u001b[0m\u001b[0m\n\u001b[1;32m   5367\u001b[0m         \u001b[0;32mif\u001b[0m \u001b[0mignore_index\u001b[0m\u001b[0;34m:\u001b[0m\u001b[0;34m\u001b[0m\u001b[0;34m\u001b[0m\u001b[0m\n",
      "\u001b[0;32mmtrand.pyx\u001b[0m in \u001b[0;36mnumpy.random.mtrand.RandomState.choice\u001b[0;34m()\u001b[0m\n",
      "\u001b[0;31mValueError\u001b[0m: a must be greater than 0 unless no samples are taken"
     ]
    }
   ],
   "source": [
    "stacked_2[stacked_2['search_cc']==1].sample()"
   ]
  },
  {
   "cell_type": "code",
   "execution_count": null,
   "id": "da48a6e5-fdda-48f3-a8f5-e04ec9ab7672",
   "metadata": {},
   "outputs": [],
   "source": []
  }
 ],
 "metadata": {
  "availableInstances": [
   {
    "_defaultOrder": 0,
    "_isFastLaunch": true,
    "category": "General purpose",
    "gpuNum": 0,
    "hideHardwareSpecs": false,
    "memoryGiB": 4,
    "name": "ml.t3.medium",
    "vcpuNum": 2
   },
   {
    "_defaultOrder": 1,
    "_isFastLaunch": false,
    "category": "General purpose",
    "gpuNum": 0,
    "hideHardwareSpecs": false,
    "memoryGiB": 8,
    "name": "ml.t3.large",
    "vcpuNum": 2
   },
   {
    "_defaultOrder": 2,
    "_isFastLaunch": false,
    "category": "General purpose",
    "gpuNum": 0,
    "hideHardwareSpecs": false,
    "memoryGiB": 16,
    "name": "ml.t3.xlarge",
    "vcpuNum": 4
   },
   {
    "_defaultOrder": 3,
    "_isFastLaunch": false,
    "category": "General purpose",
    "gpuNum": 0,
    "hideHardwareSpecs": false,
    "memoryGiB": 32,
    "name": "ml.t3.2xlarge",
    "vcpuNum": 8
   },
   {
    "_defaultOrder": 4,
    "_isFastLaunch": true,
    "category": "General purpose",
    "gpuNum": 0,
    "hideHardwareSpecs": false,
    "memoryGiB": 8,
    "name": "ml.m5.large",
    "vcpuNum": 2
   },
   {
    "_defaultOrder": 5,
    "_isFastLaunch": false,
    "category": "General purpose",
    "gpuNum": 0,
    "hideHardwareSpecs": false,
    "memoryGiB": 16,
    "name": "ml.m5.xlarge",
    "vcpuNum": 4
   },
   {
    "_defaultOrder": 6,
    "_isFastLaunch": false,
    "category": "General purpose",
    "gpuNum": 0,
    "hideHardwareSpecs": false,
    "memoryGiB": 32,
    "name": "ml.m5.2xlarge",
    "vcpuNum": 8
   },
   {
    "_defaultOrder": 7,
    "_isFastLaunch": false,
    "category": "General purpose",
    "gpuNum": 0,
    "hideHardwareSpecs": false,
    "memoryGiB": 64,
    "name": "ml.m5.4xlarge",
    "vcpuNum": 16
   },
   {
    "_defaultOrder": 8,
    "_isFastLaunch": false,
    "category": "General purpose",
    "gpuNum": 0,
    "hideHardwareSpecs": false,
    "memoryGiB": 128,
    "name": "ml.m5.8xlarge",
    "vcpuNum": 32
   },
   {
    "_defaultOrder": 9,
    "_isFastLaunch": false,
    "category": "General purpose",
    "gpuNum": 0,
    "hideHardwareSpecs": false,
    "memoryGiB": 192,
    "name": "ml.m5.12xlarge",
    "vcpuNum": 48
   },
   {
    "_defaultOrder": 10,
    "_isFastLaunch": false,
    "category": "General purpose",
    "gpuNum": 0,
    "hideHardwareSpecs": false,
    "memoryGiB": 256,
    "name": "ml.m5.16xlarge",
    "vcpuNum": 64
   },
   {
    "_defaultOrder": 11,
    "_isFastLaunch": false,
    "category": "General purpose",
    "gpuNum": 0,
    "hideHardwareSpecs": false,
    "memoryGiB": 384,
    "name": "ml.m5.24xlarge",
    "vcpuNum": 96
   },
   {
    "_defaultOrder": 12,
    "_isFastLaunch": false,
    "category": "General purpose",
    "gpuNum": 0,
    "hideHardwareSpecs": false,
    "memoryGiB": 8,
    "name": "ml.m5d.large",
    "vcpuNum": 2
   },
   {
    "_defaultOrder": 13,
    "_isFastLaunch": false,
    "category": "General purpose",
    "gpuNum": 0,
    "hideHardwareSpecs": false,
    "memoryGiB": 16,
    "name": "ml.m5d.xlarge",
    "vcpuNum": 4
   },
   {
    "_defaultOrder": 14,
    "_isFastLaunch": false,
    "category": "General purpose",
    "gpuNum": 0,
    "hideHardwareSpecs": false,
    "memoryGiB": 32,
    "name": "ml.m5d.2xlarge",
    "vcpuNum": 8
   },
   {
    "_defaultOrder": 15,
    "_isFastLaunch": false,
    "category": "General purpose",
    "gpuNum": 0,
    "hideHardwareSpecs": false,
    "memoryGiB": 64,
    "name": "ml.m5d.4xlarge",
    "vcpuNum": 16
   },
   {
    "_defaultOrder": 16,
    "_isFastLaunch": false,
    "category": "General purpose",
    "gpuNum": 0,
    "hideHardwareSpecs": false,
    "memoryGiB": 128,
    "name": "ml.m5d.8xlarge",
    "vcpuNum": 32
   },
   {
    "_defaultOrder": 17,
    "_isFastLaunch": false,
    "category": "General purpose",
    "gpuNum": 0,
    "hideHardwareSpecs": false,
    "memoryGiB": 192,
    "name": "ml.m5d.12xlarge",
    "vcpuNum": 48
   },
   {
    "_defaultOrder": 18,
    "_isFastLaunch": false,
    "category": "General purpose",
    "gpuNum": 0,
    "hideHardwareSpecs": false,
    "memoryGiB": 256,
    "name": "ml.m5d.16xlarge",
    "vcpuNum": 64
   },
   {
    "_defaultOrder": 19,
    "_isFastLaunch": false,
    "category": "General purpose",
    "gpuNum": 0,
    "hideHardwareSpecs": false,
    "memoryGiB": 384,
    "name": "ml.m5d.24xlarge",
    "vcpuNum": 96
   },
   {
    "_defaultOrder": 20,
    "_isFastLaunch": false,
    "category": "General purpose",
    "gpuNum": 0,
    "hideHardwareSpecs": true,
    "memoryGiB": 0,
    "name": "ml.geospatial.interactive",
    "supportedImageNames": [
     "sagemaker-geospatial-v1-0"
    ],
    "vcpuNum": 0
   },
   {
    "_defaultOrder": 21,
    "_isFastLaunch": true,
    "category": "Compute optimized",
    "gpuNum": 0,
    "hideHardwareSpecs": false,
    "memoryGiB": 4,
    "name": "ml.c5.large",
    "vcpuNum": 2
   },
   {
    "_defaultOrder": 22,
    "_isFastLaunch": false,
    "category": "Compute optimized",
    "gpuNum": 0,
    "hideHardwareSpecs": false,
    "memoryGiB": 8,
    "name": "ml.c5.xlarge",
    "vcpuNum": 4
   },
   {
    "_defaultOrder": 23,
    "_isFastLaunch": false,
    "category": "Compute optimized",
    "gpuNum": 0,
    "hideHardwareSpecs": false,
    "memoryGiB": 16,
    "name": "ml.c5.2xlarge",
    "vcpuNum": 8
   },
   {
    "_defaultOrder": 24,
    "_isFastLaunch": false,
    "category": "Compute optimized",
    "gpuNum": 0,
    "hideHardwareSpecs": false,
    "memoryGiB": 32,
    "name": "ml.c5.4xlarge",
    "vcpuNum": 16
   },
   {
    "_defaultOrder": 25,
    "_isFastLaunch": false,
    "category": "Compute optimized",
    "gpuNum": 0,
    "hideHardwareSpecs": false,
    "memoryGiB": 72,
    "name": "ml.c5.9xlarge",
    "vcpuNum": 36
   },
   {
    "_defaultOrder": 26,
    "_isFastLaunch": false,
    "category": "Compute optimized",
    "gpuNum": 0,
    "hideHardwareSpecs": false,
    "memoryGiB": 96,
    "name": "ml.c5.12xlarge",
    "vcpuNum": 48
   },
   {
    "_defaultOrder": 27,
    "_isFastLaunch": false,
    "category": "Compute optimized",
    "gpuNum": 0,
    "hideHardwareSpecs": false,
    "memoryGiB": 144,
    "name": "ml.c5.18xlarge",
    "vcpuNum": 72
   },
   {
    "_defaultOrder": 28,
    "_isFastLaunch": false,
    "category": "Compute optimized",
    "gpuNum": 0,
    "hideHardwareSpecs": false,
    "memoryGiB": 192,
    "name": "ml.c5.24xlarge",
    "vcpuNum": 96
   },
   {
    "_defaultOrder": 29,
    "_isFastLaunch": true,
    "category": "Accelerated computing",
    "gpuNum": 1,
    "hideHardwareSpecs": false,
    "memoryGiB": 16,
    "name": "ml.g4dn.xlarge",
    "vcpuNum": 4
   },
   {
    "_defaultOrder": 30,
    "_isFastLaunch": false,
    "category": "Accelerated computing",
    "gpuNum": 1,
    "hideHardwareSpecs": false,
    "memoryGiB": 32,
    "name": "ml.g4dn.2xlarge",
    "vcpuNum": 8
   },
   {
    "_defaultOrder": 31,
    "_isFastLaunch": false,
    "category": "Accelerated computing",
    "gpuNum": 1,
    "hideHardwareSpecs": false,
    "memoryGiB": 64,
    "name": "ml.g4dn.4xlarge",
    "vcpuNum": 16
   },
   {
    "_defaultOrder": 32,
    "_isFastLaunch": false,
    "category": "Accelerated computing",
    "gpuNum": 1,
    "hideHardwareSpecs": false,
    "memoryGiB": 128,
    "name": "ml.g4dn.8xlarge",
    "vcpuNum": 32
   },
   {
    "_defaultOrder": 33,
    "_isFastLaunch": false,
    "category": "Accelerated computing",
    "gpuNum": 4,
    "hideHardwareSpecs": false,
    "memoryGiB": 192,
    "name": "ml.g4dn.12xlarge",
    "vcpuNum": 48
   },
   {
    "_defaultOrder": 34,
    "_isFastLaunch": false,
    "category": "Accelerated computing",
    "gpuNum": 1,
    "hideHardwareSpecs": false,
    "memoryGiB": 256,
    "name": "ml.g4dn.16xlarge",
    "vcpuNum": 64
   },
   {
    "_defaultOrder": 35,
    "_isFastLaunch": false,
    "category": "Accelerated computing",
    "gpuNum": 1,
    "hideHardwareSpecs": false,
    "memoryGiB": 61,
    "name": "ml.p3.2xlarge",
    "vcpuNum": 8
   },
   {
    "_defaultOrder": 36,
    "_isFastLaunch": false,
    "category": "Accelerated computing",
    "gpuNum": 4,
    "hideHardwareSpecs": false,
    "memoryGiB": 244,
    "name": "ml.p3.8xlarge",
    "vcpuNum": 32
   },
   {
    "_defaultOrder": 37,
    "_isFastLaunch": false,
    "category": "Accelerated computing",
    "gpuNum": 8,
    "hideHardwareSpecs": false,
    "memoryGiB": 488,
    "name": "ml.p3.16xlarge",
    "vcpuNum": 64
   },
   {
    "_defaultOrder": 38,
    "_isFastLaunch": false,
    "category": "Accelerated computing",
    "gpuNum": 8,
    "hideHardwareSpecs": false,
    "memoryGiB": 768,
    "name": "ml.p3dn.24xlarge",
    "vcpuNum": 96
   },
   {
    "_defaultOrder": 39,
    "_isFastLaunch": false,
    "category": "Memory Optimized",
    "gpuNum": 0,
    "hideHardwareSpecs": false,
    "memoryGiB": 16,
    "name": "ml.r5.large",
    "vcpuNum": 2
   },
   {
    "_defaultOrder": 40,
    "_isFastLaunch": false,
    "category": "Memory Optimized",
    "gpuNum": 0,
    "hideHardwareSpecs": false,
    "memoryGiB": 32,
    "name": "ml.r5.xlarge",
    "vcpuNum": 4
   },
   {
    "_defaultOrder": 41,
    "_isFastLaunch": false,
    "category": "Memory Optimized",
    "gpuNum": 0,
    "hideHardwareSpecs": false,
    "memoryGiB": 64,
    "name": "ml.r5.2xlarge",
    "vcpuNum": 8
   },
   {
    "_defaultOrder": 42,
    "_isFastLaunch": false,
    "category": "Memory Optimized",
    "gpuNum": 0,
    "hideHardwareSpecs": false,
    "memoryGiB": 128,
    "name": "ml.r5.4xlarge",
    "vcpuNum": 16
   },
   {
    "_defaultOrder": 43,
    "_isFastLaunch": false,
    "category": "Memory Optimized",
    "gpuNum": 0,
    "hideHardwareSpecs": false,
    "memoryGiB": 256,
    "name": "ml.r5.8xlarge",
    "vcpuNum": 32
   },
   {
    "_defaultOrder": 44,
    "_isFastLaunch": false,
    "category": "Memory Optimized",
    "gpuNum": 0,
    "hideHardwareSpecs": false,
    "memoryGiB": 384,
    "name": "ml.r5.12xlarge",
    "vcpuNum": 48
   },
   {
    "_defaultOrder": 45,
    "_isFastLaunch": false,
    "category": "Memory Optimized",
    "gpuNum": 0,
    "hideHardwareSpecs": false,
    "memoryGiB": 512,
    "name": "ml.r5.16xlarge",
    "vcpuNum": 64
   },
   {
    "_defaultOrder": 46,
    "_isFastLaunch": false,
    "category": "Memory Optimized",
    "gpuNum": 0,
    "hideHardwareSpecs": false,
    "memoryGiB": 768,
    "name": "ml.r5.24xlarge",
    "vcpuNum": 96
   },
   {
    "_defaultOrder": 47,
    "_isFastLaunch": false,
    "category": "Accelerated computing",
    "gpuNum": 1,
    "hideHardwareSpecs": false,
    "memoryGiB": 16,
    "name": "ml.g5.xlarge",
    "vcpuNum": 4
   },
   {
    "_defaultOrder": 48,
    "_isFastLaunch": false,
    "category": "Accelerated computing",
    "gpuNum": 1,
    "hideHardwareSpecs": false,
    "memoryGiB": 32,
    "name": "ml.g5.2xlarge",
    "vcpuNum": 8
   },
   {
    "_defaultOrder": 49,
    "_isFastLaunch": false,
    "category": "Accelerated computing",
    "gpuNum": 1,
    "hideHardwareSpecs": false,
    "memoryGiB": 64,
    "name": "ml.g5.4xlarge",
    "vcpuNum": 16
   },
   {
    "_defaultOrder": 50,
    "_isFastLaunch": false,
    "category": "Accelerated computing",
    "gpuNum": 1,
    "hideHardwareSpecs": false,
    "memoryGiB": 128,
    "name": "ml.g5.8xlarge",
    "vcpuNum": 32
   },
   {
    "_defaultOrder": 51,
    "_isFastLaunch": false,
    "category": "Accelerated computing",
    "gpuNum": 1,
    "hideHardwareSpecs": false,
    "memoryGiB": 256,
    "name": "ml.g5.16xlarge",
    "vcpuNum": 64
   },
   {
    "_defaultOrder": 52,
    "_isFastLaunch": false,
    "category": "Accelerated computing",
    "gpuNum": 4,
    "hideHardwareSpecs": false,
    "memoryGiB": 192,
    "name": "ml.g5.12xlarge",
    "vcpuNum": 48
   },
   {
    "_defaultOrder": 53,
    "_isFastLaunch": false,
    "category": "Accelerated computing",
    "gpuNum": 4,
    "hideHardwareSpecs": false,
    "memoryGiB": 384,
    "name": "ml.g5.24xlarge",
    "vcpuNum": 96
   },
   {
    "_defaultOrder": 54,
    "_isFastLaunch": false,
    "category": "Accelerated computing",
    "gpuNum": 8,
    "hideHardwareSpecs": false,
    "memoryGiB": 768,
    "name": "ml.g5.48xlarge",
    "vcpuNum": 192
   },
   {
    "_defaultOrder": 55,
    "_isFastLaunch": false,
    "category": "Accelerated computing",
    "gpuNum": 8,
    "hideHardwareSpecs": false,
    "memoryGiB": 1152,
    "name": "ml.p4d.24xlarge",
    "vcpuNum": 96
   },
   {
    "_defaultOrder": 56,
    "_isFastLaunch": false,
    "category": "Accelerated computing",
    "gpuNum": 8,
    "hideHardwareSpecs": false,
    "memoryGiB": 1152,
    "name": "ml.p4de.24xlarge",
    "vcpuNum": 96
   }
  ],
  "instance_type": "ml.r5.24xlarge",
  "kernelspec": {
   "display_name": "Python 3 (Data Science)",
   "language": "python",
   "name": "python3__SAGEMAKER_INTERNAL__arn:aws:sagemaker:us-east-1:081325390199:image/datascience-1.0"
  },
  "language_info": {
   "codemirror_mode": {
    "name": "ipython",
    "version": 3
   },
   "file_extension": ".py",
   "mimetype": "text/x-python",
   "name": "python",
   "nbconvert_exporter": "python",
   "pygments_lexer": "ipython3",
   "version": "3.7.10"
  }
 },
 "nbformat": 4,
 "nbformat_minor": 5
}
