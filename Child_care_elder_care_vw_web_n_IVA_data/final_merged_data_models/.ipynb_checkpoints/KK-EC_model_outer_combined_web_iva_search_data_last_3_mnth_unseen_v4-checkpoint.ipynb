{
 "cells": [
  {
   "cell_type": "code",
   "execution_count": 216,
   "metadata": {},
   "outputs": [],
   "source": [
    "# !pip install pandas-profiling"
   ]
  },
  {
   "cell_type": "code",
   "execution_count": 217,
   "metadata": {},
   "outputs": [],
   "source": [
    "# !pip install spacy"
   ]
  },
  {
   "cell_type": "code",
   "execution_count": 218,
   "metadata": {},
   "outputs": [],
   "source": [
    "# !pip install en_core_web_sm-3.1.0-py3-none-any.whl"
   ]
  },
  {
   "cell_type": "code",
   "execution_count": 19,
   "metadata": {},
   "outputs": [],
   "source": [
    "import spacy\n",
    "import en_core_web_sm\n",
    "nlp = spacy.load(\"en_core_web_sm\")"
   ]
  },
  {
   "cell_type": "code",
   "execution_count": 53,
   "metadata": {},
   "outputs": [],
   "source": [
    "import pandas as pd"
   ]
  },
  {
   "cell_type": "code",
   "execution_count": 54,
   "metadata": {},
   "outputs": [
    {
     "name": "stderr",
     "output_type": "stream",
     "text": [
      "/tmp/ipykernel_19511/1765538524.py:1: DtypeWarning: Columns (0,1,2,4,5,9,10,11,12,13,14,15,16,17,18,20,21,23,24,25,26,27,28,29,31,33,39,41,56,57,58,59,63,64,65,67,68,70,71,74,75,77,78,80,81,82,83,84,85,86,87,88,89,90,91,92,93,94,95,96,97,98,99,100,101,102,103,106,108,109,110,111,112,113,114,115,116,117,118,119,122,123,124,125,126,127,128,129,130,131,132,134,135,136,137,138,155,156,159,160,161,164,165) have mixed types. Specify dtype option on import or set low_memory=False.\n",
      "  df_combined_web_iva_search = pd.read_csv(\"s3://adl-core-sagemaker-studio/external/IVA/combined_new_adult-child_outer_new.csv\")\n"
     ]
    }
   ],
   "source": [
    "df_combined_web_iva_search = pd.read_csv(\"s3://adl-core-sagemaker-studio/external/IVA/combined_new_adult-child_outer_new.csv\")"
   ]
  },
  {
   "cell_type": "code",
   "execution_count": 55,
   "metadata": {},
   "outputs": [
    {
     "data": {
      "text/html": [
       "<div>\n",
       "<style scoped>\n",
       "    .dataframe tbody tr th:only-of-type {\n",
       "        vertical-align: middle;\n",
       "    }\n",
       "\n",
       "    .dataframe tbody tr th {\n",
       "        vertical-align: top;\n",
       "    }\n",
       "\n",
       "    .dataframe thead th {\n",
       "        text-align: right;\n",
       "    }\n",
       "</style>\n",
       "<table border=\"1\" class=\"dataframe\">\n",
       "  <thead>\n",
       "    <tr style=\"text-align: right;\">\n",
       "      <th></th>\n",
       "      <th>agent_entitlement_client_name</th>\n",
       "      <th>agent_entitlement_access_key</th>\n",
       "      <th>channel</th>\n",
       "      <th>companytracking_clientid</th>\n",
       "      <th>companytracking_companyid</th>\n",
       "      <th>companytracking_companyname</th>\n",
       "      <th>companytracking_multitenantid</th>\n",
       "      <th>entry_id</th>\n",
       "      <th>entry_order</th>\n",
       "      <th>entry_type</th>\n",
       "      <th>...</th>\n",
       "      <th>load_timestamp</th>\n",
       "      <th>source_system_code</th>\n",
       "      <th>mobile_app_device_type</th>\n",
       "      <th>page_load_elapsed_time</th>\n",
       "      <th>mobile_app_type</th>\n",
       "      <th>session_create_date_cst_timezone_partition</th>\n",
       "      <th>platform_id_y</th>\n",
       "      <th>search_text</th>\n",
       "      <th>search_results</th>\n",
       "      <th>session_created_timestamp</th>\n",
       "    </tr>\n",
       "  </thead>\n",
       "  <tbody>\n",
       "    <tr>\n",
       "      <th>0</th>\n",
       "      <td>Enterprise</td>\n",
       "      <td>00000000-0000-0000-0000-000000000000</td>\n",
       "      <td>Web</td>\n",
       "      <td>8141.0</td>\n",
       "      <td>staples</td>\n",
       "      <td>staples</td>\n",
       "      <td>NaN</td>\n",
       "      <td>2292881.0</td>\n",
       "      <td>7.0</td>\n",
       "      <td>Typed Input</td>\n",
       "      <td>...</td>\n",
       "      <td>NaN</td>\n",
       "      <td>NaN</td>\n",
       "      <td>NaN</td>\n",
       "      <td>NaN</td>\n",
       "      <td>NaN</td>\n",
       "      <td>NaN</td>\n",
       "      <td>NaN</td>\n",
       "      <td>NaN</td>\n",
       "      <td>NaN</td>\n",
       "      <td>NaN</td>\n",
       "    </tr>\n",
       "    <tr>\n",
       "      <th>1</th>\n",
       "      <td>Enterprise</td>\n",
       "      <td>00000000-0000-0000-0000-000000000000</td>\n",
       "      <td>Web</td>\n",
       "      <td>8141.0</td>\n",
       "      <td>staples</td>\n",
       "      <td>staples</td>\n",
       "      <td>NaN</td>\n",
       "      <td>2330416.0</td>\n",
       "      <td>2.0</td>\n",
       "      <td>Typed Input</td>\n",
       "      <td>...</td>\n",
       "      <td>NaN</td>\n",
       "      <td>NaN</td>\n",
       "      <td>NaN</td>\n",
       "      <td>NaN</td>\n",
       "      <td>NaN</td>\n",
       "      <td>NaN</td>\n",
       "      <td>NaN</td>\n",
       "      <td>NaN</td>\n",
       "      <td>NaN</td>\n",
       "      <td>NaN</td>\n",
       "    </tr>\n",
       "    <tr>\n",
       "      <th>2</th>\n",
       "      <td>Enterprise</td>\n",
       "      <td>00000000-0000-0000-0000-000000000000</td>\n",
       "      <td>Web</td>\n",
       "      <td>8141.0</td>\n",
       "      <td>staples</td>\n",
       "      <td>staples</td>\n",
       "      <td>NaN</td>\n",
       "      <td>2615890.0</td>\n",
       "      <td>2.0</td>\n",
       "      <td>Typed Input</td>\n",
       "      <td>...</td>\n",
       "      <td>NaN</td>\n",
       "      <td>NaN</td>\n",
       "      <td>NaN</td>\n",
       "      <td>NaN</td>\n",
       "      <td>NaN</td>\n",
       "      <td>NaN</td>\n",
       "      <td>NaN</td>\n",
       "      <td>NaN</td>\n",
       "      <td>NaN</td>\n",
       "      <td>NaN</td>\n",
       "    </tr>\n",
       "    <tr>\n",
       "      <th>3</th>\n",
       "      <td>Enterprise</td>\n",
       "      <td>00000000-0000-0000-0000-000000000000</td>\n",
       "      <td>Web</td>\n",
       "      <td>8141.0</td>\n",
       "      <td>staples</td>\n",
       "      <td>staples</td>\n",
       "      <td>NaN</td>\n",
       "      <td>1332591.0</td>\n",
       "      <td>2.0</td>\n",
       "      <td>Typed Input</td>\n",
       "      <td>...</td>\n",
       "      <td>NaN</td>\n",
       "      <td>NaN</td>\n",
       "      <td>NaN</td>\n",
       "      <td>NaN</td>\n",
       "      <td>NaN</td>\n",
       "      <td>NaN</td>\n",
       "      <td>NaN</td>\n",
       "      <td>NaN</td>\n",
       "      <td>NaN</td>\n",
       "      <td>NaN</td>\n",
       "    </tr>\n",
       "    <tr>\n",
       "      <th>4</th>\n",
       "      <td>Enterprise</td>\n",
       "      <td>00000000-0000-0000-0000-000000000000</td>\n",
       "      <td>Web</td>\n",
       "      <td>8141.0</td>\n",
       "      <td>staples</td>\n",
       "      <td>staples</td>\n",
       "      <td>NaN</td>\n",
       "      <td>2421907.0</td>\n",
       "      <td>2.0</td>\n",
       "      <td>Typed Input</td>\n",
       "      <td>...</td>\n",
       "      <td>NaN</td>\n",
       "      <td>NaN</td>\n",
       "      <td>NaN</td>\n",
       "      <td>NaN</td>\n",
       "      <td>NaN</td>\n",
       "      <td>NaN</td>\n",
       "      <td>NaN</td>\n",
       "      <td>NaN</td>\n",
       "      <td>NaN</td>\n",
       "      <td>NaN</td>\n",
       "    </tr>\n",
       "  </tbody>\n",
       "</table>\n",
       "<p>5 rows × 170 columns</p>\n",
       "</div>"
      ],
      "text/plain": [
       "  agent_entitlement_client_name          agent_entitlement_access_key channel  \\\n",
       "0                    Enterprise  00000000-0000-0000-0000-000000000000     Web   \n",
       "1                    Enterprise  00000000-0000-0000-0000-000000000000     Web   \n",
       "2                    Enterprise  00000000-0000-0000-0000-000000000000     Web   \n",
       "3                    Enterprise  00000000-0000-0000-0000-000000000000     Web   \n",
       "4                    Enterprise  00000000-0000-0000-0000-000000000000     Web   \n",
       "\n",
       "   companytracking_clientid companytracking_companyid  \\\n",
       "0                    8141.0                   staples   \n",
       "1                    8141.0                   staples   \n",
       "2                    8141.0                   staples   \n",
       "3                    8141.0                   staples   \n",
       "4                    8141.0                   staples   \n",
       "\n",
       "  companytracking_companyname  companytracking_multitenantid   entry_id  \\\n",
       "0                     staples                            NaN  2292881.0   \n",
       "1                     staples                            NaN  2330416.0   \n",
       "2                     staples                            NaN  2615890.0   \n",
       "3                     staples                            NaN  1332591.0   \n",
       "4                     staples                            NaN  2421907.0   \n",
       "\n",
       "   entry_order   entry_type  ... load_timestamp source_system_code  \\\n",
       "0          7.0  Typed Input  ...            NaN                NaN   \n",
       "1          2.0  Typed Input  ...            NaN                NaN   \n",
       "2          2.0  Typed Input  ...            NaN                NaN   \n",
       "3          2.0  Typed Input  ...            NaN                NaN   \n",
       "4          2.0  Typed Input  ...            NaN                NaN   \n",
       "\n",
       "  mobile_app_device_type page_load_elapsed_time mobile_app_type  \\\n",
       "0                    NaN                    NaN             NaN   \n",
       "1                    NaN                    NaN             NaN   \n",
       "2                    NaN                    NaN             NaN   \n",
       "3                    NaN                    NaN             NaN   \n",
       "4                    NaN                    NaN             NaN   \n",
       "\n",
       "  session_create_date_cst_timezone_partition platform_id_y search_text  \\\n",
       "0                                        NaN           NaN         NaN   \n",
       "1                                        NaN           NaN         NaN   \n",
       "2                                        NaN           NaN         NaN   \n",
       "3                                        NaN           NaN         NaN   \n",
       "4                                        NaN           NaN         NaN   \n",
       "\n",
       "  search_results  session_created_timestamp  \n",
       "0            NaN                        NaN  \n",
       "1            NaN                        NaN  \n",
       "2            NaN                        NaN  \n",
       "3            NaN                        NaN  \n",
       "4            NaN                        NaN  \n",
       "\n",
       "[5 rows x 170 columns]"
      ]
     },
     "execution_count": 55,
     "metadata": {},
     "output_type": "execute_result"
    }
   ],
   "source": [
    "df_combined_web_iva_search.head()"
   ]
  },
  {
   "cell_type": "code",
   "execution_count": 56,
   "metadata": {},
   "outputs": [],
   "source": [
    "# df_combined_web_iva_search.columns.to_list()"
   ]
  },
  {
   "cell_type": "code",
   "execution_count": 57,
   "metadata": {},
   "outputs": [],
   "source": [
    "df_combined_web_iva_search['session_start_cst'] = pd.to_datetime(df_combined_web_iva_search['session_start_cst'])"
   ]
  },
  {
   "cell_type": "code",
   "execution_count": 58,
   "metadata": {},
   "outputs": [
    {
     "data": {
      "text/plain": [
       "(Timestamp('2017-09-16 10:00:50'), Timestamp('2023-03-26 22:31:18'))"
      ]
     },
     "execution_count": 58,
     "metadata": {},
     "output_type": "execute_result"
    }
   ],
   "source": [
    "df_combined_web_iva_search['session_start_cst'].min(), df_combined_web_iva_search['session_start_cst'].max()"
   ]
  },
  {
   "cell_type": "code",
   "execution_count": 59,
   "metadata": {},
   "outputs": [
    {
     "data": {
      "text/plain": [
       "(1245878, 170)"
      ]
     },
     "execution_count": 59,
     "metadata": {},
     "output_type": "execute_result"
    }
   ],
   "source": [
    "df_combined_web_iva_search.shape\n"
   ]
  },
  {
   "cell_type": "code",
   "execution_count": 60,
   "metadata": {},
   "outputs": [
    {
     "data": {
      "text/html": [
       "<div>\n",
       "<style scoped>\n",
       "    .dataframe tbody tr th:only-of-type {\n",
       "        vertical-align: middle;\n",
       "    }\n",
       "\n",
       "    .dataframe tbody tr th {\n",
       "        vertical-align: top;\n",
       "    }\n",
       "\n",
       "    .dataframe thead th {\n",
       "        text-align: right;\n",
       "    }\n",
       "</style>\n",
       "<table border=\"1\" class=\"dataframe\">\n",
       "  <thead>\n",
       "    <tr style=\"text-align: right;\">\n",
       "      <th></th>\n",
       "      <th>input</th>\n",
       "      <th>page_name</th>\n",
       "      <th>search_text</th>\n",
       "      <th>session_start_cst</th>\n",
       "    </tr>\n",
       "  </thead>\n",
       "  <tbody>\n",
       "    <tr>\n",
       "      <th>0</th>\n",
       "      <td>step child a dependent?</td>\n",
       "      <td>NaN</td>\n",
       "      <td>NaN</td>\n",
       "      <td>2017-12-05 21:48:56</td>\n",
       "    </tr>\n",
       "  </tbody>\n",
       "</table>\n",
       "</div>"
      ],
      "text/plain": [
       "                     input page_name search_text   session_start_cst\n",
       "0  step child a dependent?       NaN         NaN 2017-12-05 21:48:56"
      ]
     },
     "execution_count": 60,
     "metadata": {},
     "output_type": "execute_result"
    }
   ],
   "source": [
    "df_combined_web_iva_search = df_combined_web_iva_search[['input','page_name','search_text', 'session_start_cst']]\n",
    "df_combined_web_iva_search.head(1)"
   ]
  },
  {
   "cell_type": "code",
   "execution_count": 61,
   "metadata": {},
   "outputs": [],
   "source": [
    "df_combined_web_iva_search.drop_duplicates(inplace=True)"
   ]
  },
  {
   "cell_type": "code",
   "execution_count": 62,
   "metadata": {},
   "outputs": [
    {
     "data": {
      "text/plain": [
       "(162161, 4)"
      ]
     },
     "execution_count": 62,
     "metadata": {},
     "output_type": "execute_result"
    }
   ],
   "source": [
    "df_combined_web_iva_search.shape"
   ]
  },
  {
   "cell_type": "code",
   "execution_count": 30,
   "metadata": {},
   "outputs": [],
   "source": [
    "# df_combined_web_iva_search.head()"
   ]
  },
  {
   "cell_type": "code",
   "execution_count": 63,
   "metadata": {},
   "outputs": [],
   "source": [
    "monthly_counts_1 = df_combined_web_iva_search.resample('M', on='session_start_cst').count()"
   ]
  },
  {
   "cell_type": "code",
   "execution_count": 67,
   "metadata": {},
   "outputs": [
    {
     "data": {
      "text/html": [
       "<div>\n",
       "<style scoped>\n",
       "    .dataframe tbody tr th:only-of-type {\n",
       "        vertical-align: middle;\n",
       "    }\n",
       "\n",
       "    .dataframe tbody tr th {\n",
       "        vertical-align: top;\n",
       "    }\n",
       "\n",
       "    .dataframe thead th {\n",
       "        text-align: right;\n",
       "    }\n",
       "</style>\n",
       "<table border=\"1\" class=\"dataframe\">\n",
       "  <thead>\n",
       "    <tr style=\"text-align: right;\">\n",
       "      <th></th>\n",
       "      <th>input</th>\n",
       "      <th>page_name</th>\n",
       "      <th>search_text</th>\n",
       "      <th>session_start_cst</th>\n",
       "    </tr>\n",
       "    <tr>\n",
       "      <th>session_start_cst</th>\n",
       "      <th></th>\n",
       "      <th></th>\n",
       "      <th></th>\n",
       "      <th></th>\n",
       "    </tr>\n",
       "  </thead>\n",
       "  <tbody>\n",
       "    <tr>\n",
       "      <th>2017-09-30</th>\n",
       "      <td>428</td>\n",
       "      <td>0</td>\n",
       "      <td>0</td>\n",
       "      <td>428</td>\n",
       "    </tr>\n",
       "    <tr>\n",
       "      <th>2017-10-31</th>\n",
       "      <td>4604</td>\n",
       "      <td>0</td>\n",
       "      <td>0</td>\n",
       "      <td>4604</td>\n",
       "    </tr>\n",
       "    <tr>\n",
       "      <th>2017-11-30</th>\n",
       "      <td>4446</td>\n",
       "      <td>0</td>\n",
       "      <td>0</td>\n",
       "      <td>4446</td>\n",
       "    </tr>\n",
       "    <tr>\n",
       "      <th>2017-12-31</th>\n",
       "      <td>767</td>\n",
       "      <td>0</td>\n",
       "      <td>0</td>\n",
       "      <td>767</td>\n",
       "    </tr>\n",
       "    <tr>\n",
       "      <th>2018-01-31</th>\n",
       "      <td>1216</td>\n",
       "      <td>3</td>\n",
       "      <td>1</td>\n",
       "      <td>1216</td>\n",
       "    </tr>\n",
       "    <tr>\n",
       "      <th>...</th>\n",
       "      <td>...</td>\n",
       "      <td>...</td>\n",
       "      <td>...</td>\n",
       "      <td>...</td>\n",
       "    </tr>\n",
       "    <tr>\n",
       "      <th>2022-11-30</th>\n",
       "      <td>4619</td>\n",
       "      <td>841</td>\n",
       "      <td>457</td>\n",
       "      <td>4619</td>\n",
       "    </tr>\n",
       "    <tr>\n",
       "      <th>2022-12-31</th>\n",
       "      <td>2707</td>\n",
       "      <td>921</td>\n",
       "      <td>443</td>\n",
       "      <td>2707</td>\n",
       "    </tr>\n",
       "    <tr>\n",
       "      <th>2023-01-31</th>\n",
       "      <td>4404</td>\n",
       "      <td>1908</td>\n",
       "      <td>963</td>\n",
       "      <td>4404</td>\n",
       "    </tr>\n",
       "    <tr>\n",
       "      <th>2023-02-28</th>\n",
       "      <td>2909</td>\n",
       "      <td>1129</td>\n",
       "      <td>493</td>\n",
       "      <td>2909</td>\n",
       "    </tr>\n",
       "    <tr>\n",
       "      <th>2023-03-31</th>\n",
       "      <td>3536</td>\n",
       "      <td>899</td>\n",
       "      <td>495</td>\n",
       "      <td>3536</td>\n",
       "    </tr>\n",
       "  </tbody>\n",
       "</table>\n",
       "<p>67 rows × 4 columns</p>\n",
       "</div>"
      ],
      "text/plain": [
       "                   input  page_name  search_text  session_start_cst\n",
       "session_start_cst                                                  \n",
       "2017-09-30           428          0            0                428\n",
       "2017-10-31          4604          0            0               4604\n",
       "2017-11-30          4446          0            0               4446\n",
       "2017-12-31           767          0            0                767\n",
       "2018-01-31          1216          3            1               1216\n",
       "...                  ...        ...          ...                ...\n",
       "2022-11-30          4619        841          457               4619\n",
       "2022-12-31          2707        921          443               2707\n",
       "2023-01-31          4404       1908          963               4404\n",
       "2023-02-28          2909       1129          493               2909\n",
       "2023-03-31          3536        899          495               3536\n",
       "\n",
       "[67 rows x 4 columns]"
      ]
     },
     "execution_count": 67,
     "metadata": {},
     "output_type": "execute_result"
    }
   ],
   "source": [
    "monthly_counts_1"
   ]
  },
  {
   "cell_type": "markdown",
   "metadata": {},
   "source": [
    "## fillna and lower"
   ]
  },
  {
   "cell_type": "code",
   "execution_count": 68,
   "metadata": {},
   "outputs": [],
   "source": [
    "\n",
    "df_combined_web_iva_search['input'] = df_combined_web_iva_search['input'].fillna('unk').str.lower()\n",
    "df_combined_web_iva_search['page_name'] = df_combined_web_iva_search['page_name'].fillna('unk').str.lower()\n",
    "df_combined_web_iva_search['search_text'] = df_combined_web_iva_search['search_text'].fillna('unk').str.lower()"
   ]
  },
  {
   "cell_type": "code",
   "execution_count": 78,
   "metadata": {},
   "outputs": [
    {
     "name": "stderr",
     "output_type": "stream",
     "text": [
      "/tmp/ipykernel_19511/3135634471.py:11: UserWarning: This pattern is interpreted as a regular expression, and has match groups. To actually get the groups, use str.extract.\n",
      "  mask = ((df_combined_web_iva_search['input'].str.contains(r'\\b(' + '|'.join(words_2) + r')\\b', case=False, na=False)) |\n",
      "/tmp/ipykernel_19511/3135634471.py:12: UserWarning: This pattern is interpreted as a regular expression, and has match groups. To actually get the groups, use str.extract.\n",
      "  (df_combined_web_iva_search['page_name'].str.contains(r'\\b(' + '|'.join(words_2) + r')\\b', case=False, na=False)) |\n",
      "/tmp/ipykernel_19511/3135634471.py:13: UserWarning: This pattern is interpreted as a regular expression, and has match groups. To actually get the groups, use str.extract.\n",
      "  (df_combined_web_iva_search['search_text'].str.contains(r'\\b(' + '|'.join(words_2) + r')\\b', case=False, na=False)))\n"
     ]
    },
    {
     "data": {
      "text/html": [
       "<div>\n",
       "<style scoped>\n",
       "    .dataframe tbody tr th:only-of-type {\n",
       "        vertical-align: middle;\n",
       "    }\n",
       "\n",
       "    .dataframe tbody tr th {\n",
       "        vertical-align: top;\n",
       "    }\n",
       "\n",
       "    .dataframe thead th {\n",
       "        text-align: right;\n",
       "    }\n",
       "</style>\n",
       "<table border=\"1\" class=\"dataframe\">\n",
       "  <thead>\n",
       "    <tr style=\"text-align: right;\">\n",
       "      <th></th>\n",
       "      <th>input</th>\n",
       "      <th>page_name</th>\n",
       "      <th>search_text</th>\n",
       "      <th>session_start_cst</th>\n",
       "      <th>category</th>\n",
       "    </tr>\n",
       "  </thead>\n",
       "  <tbody>\n",
       "    <tr>\n",
       "      <th>0</th>\n",
       "      <td>step child a dependent?</td>\n",
       "      <td>unk</td>\n",
       "      <td>unk</td>\n",
       "      <td>2017-12-05 21:48:56</td>\n",
       "      <td>Other</td>\n",
       "    </tr>\n",
       "    <tr>\n",
       "      <th>1</th>\n",
       "      <td>how do i change my dependent daycare deduction</td>\n",
       "      <td>unk</td>\n",
       "      <td>unk</td>\n",
       "      <td>2017-12-11 09:45:09</td>\n",
       "      <td>Other</td>\n",
       "    </tr>\n",
       "    <tr>\n",
       "      <th>2</th>\n",
       "      <td>child last name change</td>\n",
       "      <td>unk</td>\n",
       "      <td>unk</td>\n",
       "      <td>2018-01-22 08:12:28</td>\n",
       "      <td>Other</td>\n",
       "    </tr>\n",
       "    <tr>\n",
       "      <th>3</th>\n",
       "      <td>i am trying to add my children as beneficiarie...</td>\n",
       "      <td>unk</td>\n",
       "      <td>unk</td>\n",
       "      <td>2017-10-15 10:34:01</td>\n",
       "      <td>Other</td>\n",
       "    </tr>\n",
       "    <tr>\n",
       "      <th>4</th>\n",
       "      <td>how much timeoff do i get after the birth of m...</td>\n",
       "      <td>unk</td>\n",
       "      <td>unk</td>\n",
       "      <td>2017-12-29 10:46:58</td>\n",
       "      <td>Other</td>\n",
       "    </tr>\n",
       "  </tbody>\n",
       "</table>\n",
       "</div>"
      ],
      "text/plain": [
       "                                               input page_name search_text  \\\n",
       "0                            step child a dependent?       unk         unk   \n",
       "1     how do i change my dependent daycare deduction       unk         unk   \n",
       "2                             child last name change       unk         unk   \n",
       "3  i am trying to add my children as beneficiarie...       unk         unk   \n",
       "4  how much timeoff do i get after the birth of m...       unk         unk   \n",
       "\n",
       "    session_start_cst category  \n",
       "0 2017-12-05 21:48:56    Other  \n",
       "1 2017-12-11 09:45:09    Other  \n",
       "2 2018-01-22 08:12:28    Other  \n",
       "3 2017-10-15 10:34:01    Other  \n",
       "4 2017-12-29 10:46:58    Other  "
      ]
     },
     "execution_count": 78,
     "metadata": {},
     "output_type": "execute_result"
    }
   ],
   "source": [
    "words_1 = ['senior care', 'elder care', 'geriatric care', 'Aging care', 'elderly-care', 'senior citizen care', 'aging-in-place care', \n",
    "            'elder support', 'senior assistance', 'gerontology care', 'caregiving for the elderly', 'senior health care',\n",
    "            'elderly companion care', 'senior care assistance', 'age related care', 'aged care', 'care for old', 'caring for the elderly',\n",
    "            'care for older people', 'adult daycare', 'adult care', 'old care', 'Golden agers', 'Aged population', 'Aging population', \n",
    "            'Elder population', 'Elderly population', 'Retirees', 'Oldsters', 'Elderly residents', 'Senior members', 'Elder statesmen',\n",
    "            'Elder women', 'Elder generation', 'Elderly people', 'Grey generation', 'Third age population', 'Silver generation', \n",
    "           'adult', 'childelder']\n",
    "words_2 = [word.lower() for word in words_1]\n",
    "\n",
    "\n",
    "mask = ((df_combined_web_iva_search['input'].str.contains(r'\\b(' + '|'.join(words_2) + r')\\b', case=False, na=False)) |\n",
    "        (df_combined_web_iva_search['page_name'].str.contains(r'\\b(' + '|'.join(words_2) + r')\\b', case=False, na=False)) |\n",
    "        (df_combined_web_iva_search['search_text'].str.contains(r'\\b(' + '|'.join(words_2) + r')\\b', case=False, na=False)))\n",
    "\n",
    "df_combined_web_iva_search['category'] = ''\n",
    "df_combined_web_iva_search.loc[mask, 'category'] = 'Elder care'\n",
    "df_combined_web_iva_search.loc[df_combined_web_iva_search['category'] == '', 'category'] = 'Other'\n",
    "\n",
    "df_combined_web_iva_search.head(5)"
   ]
  },
  {
   "cell_type": "code",
   "execution_count": 79,
   "metadata": {},
   "outputs": [
    {
     "data": {
      "text/plain": [
       "Index(['input', 'page_name', 'search_text', 'session_start_cst', 'category'], dtype='object')"
      ]
     },
     "execution_count": 79,
     "metadata": {},
     "output_type": "execute_result"
    }
   ],
   "source": [
    "df_combined_web_iva_search.columns"
   ]
  },
  {
   "cell_type": "code",
   "execution_count": 80,
   "metadata": {},
   "outputs": [
    {
     "data": {
      "text/plain": [
       "(162161, 5)"
      ]
     },
     "execution_count": 80,
     "metadata": {},
     "output_type": "execute_result"
    }
   ],
   "source": [
    "df_combined_web_iva_search.shape"
   ]
  },
  {
   "cell_type": "code",
   "execution_count": 81,
   "metadata": {},
   "outputs": [
    {
     "data": {
      "text/plain": [
       "(Other         0.97619\n",
       " Elder care    0.02381\n",
       " Name: category, dtype: float64,\n",
       " Other         158300\n",
       " Elder care      3861\n",
       " Name: category, dtype: int64)"
      ]
     },
     "execution_count": 81,
     "metadata": {},
     "output_type": "execute_result"
    }
   ],
   "source": [
    "df_combined_web_iva_search.category.value_counts(normalize=True), df_combined_web_iva_search.category.value_counts()"
   ]
  },
  {
   "cell_type": "code",
   "execution_count": 82,
   "metadata": {},
   "outputs": [
    {
     "data": {
      "text/plain": [
       "(Other         0.666667\n",
       " Elder care    0.333333\n",
       " Name: category, dtype: float64,\n",
       " Other         7722\n",
       " Elder care    3861\n",
       " Name: category, dtype: int64)"
      ]
     },
     "execution_count": 82,
     "metadata": {},
     "output_type": "execute_result"
    }
   ],
   "source": [
    "no_of_elder_care = df_combined_web_iva_search[df_combined_web_iva_search['category']=='Elder care'].shape[0]\n",
    "\n",
    "df_combined_web_iva_search = pd.concat([df_combined_web_iva_search[df_combined_web_iva_search['category']=='Elder care'],\n",
    "                                        df_combined_web_iva_search[df_combined_web_iva_search['category']=='Other'].sample(\n",
    "                                            no_of_elder_care*2)\n",
    "                                        ]).sample(frac=1, random_state=42)\n",
    "\n",
    "df_combined_web_iva_search.category.value_counts(normalize=True), df_combined_web_iva_search.category.value_counts()"
   ]
  },
  {
   "cell_type": "code",
   "execution_count": 83,
   "metadata": {},
   "outputs": [
    {
     "data": {
      "text/plain": [
       "(11583, 5)"
      ]
     },
     "execution_count": 83,
     "metadata": {},
     "output_type": "execute_result"
    }
   ],
   "source": [
    "df_combined_web_iva_search.shape"
   ]
  },
  {
   "cell_type": "markdown",
   "metadata": {},
   "source": [
    "### text preprocess"
   ]
  },
  {
   "cell_type": "code",
   "execution_count": 84,
   "metadata": {},
   "outputs": [],
   "source": [
    "def count_intnt_entits(text):\n",
    "    doc = nlp(text)\n",
    "    intents = [token.text for token in doc if token.pos_ == 'VERB']\n",
    "    entities = [token.text for token in doc if token.pos_ in {'NOUN', 'PROPN', 'ADJ', 'NUM', 'ADV'}]\n",
    "    return len(intents), len(entities)\n",
    "\n",
    "import re\n",
    "def clean_text(text):\n",
    "    clean_text = re.sub(r'[^\\w\\s]', '', text)\n",
    "    return clean_text\n",
    "\n",
    "def extract_ner_entities(sentence):\n",
    "    doc = nlp(sentence)\n",
    "    entities = [(entity.text, entity.label_) for entity in doc.ents]\n",
    "    return entities\n",
    "\n",
    "import numpy as np\n",
    "def length_entities(list_entities):\n",
    "    if (list_entities==np.nan or list_entities==None or list_entities==''):\n",
    "        return 0\n",
    "    else:\n",
    "        return len(list_entities)\n",
    "    \n",
    "# filter_func = lambda x: any(item[1] in [\"PERSON\", \"GPE\", \"ORG\", \"LOC\", \"FAC\"] for item in x)\n",
    "def filter_named_entities(text):\n",
    "    # Process the text using Spacy\n",
    "    doc = nlp(text)\n",
    "    # Filter out named entities (ORG, PERSON, and GPE tags)\n",
    "    filtered_words = [token.text for token in doc if token.ent_type_ not in ['ORG', 'PERSON', 'GPE', \"LOC\", \"FAC\"]]\n",
    "    # Join the filtered words back into a string\n",
    "    filtered_text = ' '.join(filtered_words)\n",
    "    return filtered_text"
   ]
  },
  {
   "cell_type": "code",
   "execution_count": 85,
   "metadata": {},
   "outputs": [],
   "source": [
    "import re\n",
    "    \n",
    "list_1 = ['ira','RMD','HRdirect','livechat','what is my hsa','P45','Payslip?',\n",
    "    'sps','F80.2','ub','What is YSA','Paystub please','Sh','mfv','C-128','ax','no is hsa','FormL564','HIS','cif','GreT','YSACard',\n",
    "    'Heli','RxPCN','403(b)','Hsa yes or no','ypr','Gv','ONA?','What is UHC?','HC-2','uo','what is 4DX?','osh','what is my hsa?',\n",
    "    'sPRAVATO','sdr','RMD’s','coverage?How','This is for my hsa','pto?','A&DD','childcareplus','fs','mbi','Is that my lowesbenefit.com',\n",
    "    'hra yes','mri?']\n",
    "\n",
    "def text_preprocess(dataframe, list_1):\n",
    "    dataframe = dataframe.drop_duplicates()\n",
    "    dataframe[['no_of_intents', 'no_of_entities']] = dataframe.apply(lambda x: pd.Series(count_intnt_entits(x['input'])), axis=1)  \n",
    "    dataframe['input_cleaned'] = ''\n",
    "    dataframe.loc[dataframe['input'].notnull(), 'input_cleaned'] = dataframe.loc[dataframe['input'].notnull(), 'input'].apply(clean_text)\n",
    "    dataframe.loc[dataframe['page_name'].notnull(), 'page_name_cleaned'] = dataframe.loc[dataframe['page_name'].notnull(), 'page_name'].apply(clean_text)\n",
    "    dataframe.loc[dataframe['search_text'].notnull(), 'search_text_cleaned'] = dataframe.loc[dataframe['search_text'].notnull(), 'search_text'].apply(clean_text)\n",
    "    dataframe['ner_enities'] = ''\n",
    "    dataframe.loc[dataframe['input_cleaned']!='', 'ner_enities'] = dataframe.loc[dataframe['input_cleaned']!='', 'input_cleaned'].apply(extract_ner_entities)\n",
    "    dataframe['len_ner_enities'] = dataframe['ner_enities'].apply(length_entities)\n",
    "    dataframe3 = dataframe[dataframe['len_ner_enities']>0]\n",
    "    dataframe3['input_cleaned'] = dataframe3['input_cleaned'].apply(filter_named_entities)\n",
    "    dataframe6 = pd.concat([dataframe[dataframe['len_ner_enities']==0], dataframe3], axis = 0)\n",
    "    dataframe6 = dataframe6.drop(['no_of_intents','no_of_entities','ner_enities','len_ner_enities'], axis=1)\n",
    "    dataframe6['input_changed']=dataframe6['input']!=dataframe6['input_cleaned']\n",
    "    dataframe6['page_name_changed']=dataframe6['page_name']!=dataframe6['page_name_cleaned']\n",
    "    dataframe6['search_text_changed']=dataframe6['search_text']!=dataframe6['search_text_cleaned']\n",
    "    \n",
    "    return dataframe6"
   ]
  },
  {
   "cell_type": "code",
   "execution_count": 87,
   "metadata": {},
   "outputs": [
    {
     "name": "stderr",
     "output_type": "stream",
     "text": [
      "/tmp/ipykernel_19511/1333681925.py:11: SettingWithCopyWarning: \n",
      "A value is trying to be set on a copy of a slice from a DataFrame.\n",
      "Try using .loc[row_indexer,col_indexer] = value instead\n",
      "\n",
      "See the caveats in the documentation: https://pandas.pydata.org/pandas-docs/stable/user_guide/indexing.html#returning-a-view-versus-a-copy\n",
      "  dataframe[['no_of_intents', 'no_of_entities']] = dataframe.apply(lambda x: pd.Series(count_intnt_entits(x['input'])), axis=1)\n",
      "/tmp/ipykernel_19511/1333681925.py:11: SettingWithCopyWarning: \n",
      "A value is trying to be set on a copy of a slice from a DataFrame.\n",
      "Try using .loc[row_indexer,col_indexer] = value instead\n",
      "\n",
      "See the caveats in the documentation: https://pandas.pydata.org/pandas-docs/stable/user_guide/indexing.html#returning-a-view-versus-a-copy\n",
      "  dataframe[['no_of_intents', 'no_of_entities']] = dataframe.apply(lambda x: pd.Series(count_intnt_entits(x['input'])), axis=1)\n",
      "/tmp/ipykernel_19511/1333681925.py:12: SettingWithCopyWarning: \n",
      "A value is trying to be set on a copy of a slice from a DataFrame.\n",
      "Try using .loc[row_indexer,col_indexer] = value instead\n",
      "\n",
      "See the caveats in the documentation: https://pandas.pydata.org/pandas-docs/stable/user_guide/indexing.html#returning-a-view-versus-a-copy\n",
      "  dataframe['input_cleaned'] = ''\n",
      "/tmp/ipykernel_19511/1333681925.py:13: SettingWithCopyWarning: \n",
      "A value is trying to be set on a copy of a slice from a DataFrame.\n",
      "Try using .loc[row_indexer,col_indexer] = value instead\n",
      "\n",
      "See the caveats in the documentation: https://pandas.pydata.org/pandas-docs/stable/user_guide/indexing.html#returning-a-view-versus-a-copy\n",
      "  dataframe.loc[dataframe['input'].notnull(), 'input_cleaned'] = dataframe.loc[dataframe['input'].notnull(), 'input'].apply(clean_text)\n",
      "/tmp/ipykernel_19511/1333681925.py:14: SettingWithCopyWarning: \n",
      "A value is trying to be set on a copy of a slice from a DataFrame.\n",
      "Try using .loc[row_indexer,col_indexer] = value instead\n",
      "\n",
      "See the caveats in the documentation: https://pandas.pydata.org/pandas-docs/stable/user_guide/indexing.html#returning-a-view-versus-a-copy\n",
      "  dataframe.loc[dataframe['page_name'].notnull(), 'page_name_cleaned'] = dataframe.loc[dataframe['page_name'].notnull(), 'page_name'].apply(clean_text)\n",
      "/tmp/ipykernel_19511/1333681925.py:15: SettingWithCopyWarning: \n",
      "A value is trying to be set on a copy of a slice from a DataFrame.\n",
      "Try using .loc[row_indexer,col_indexer] = value instead\n",
      "\n",
      "See the caveats in the documentation: https://pandas.pydata.org/pandas-docs/stable/user_guide/indexing.html#returning-a-view-versus-a-copy\n",
      "  dataframe.loc[dataframe['search_text'].notnull(), 'search_text_cleaned'] = dataframe.loc[dataframe['search_text'].notnull(), 'search_text'].apply(clean_text)\n",
      "/tmp/ipykernel_19511/1333681925.py:16: SettingWithCopyWarning: \n",
      "A value is trying to be set on a copy of a slice from a DataFrame.\n",
      "Try using .loc[row_indexer,col_indexer] = value instead\n",
      "\n",
      "See the caveats in the documentation: https://pandas.pydata.org/pandas-docs/stable/user_guide/indexing.html#returning-a-view-versus-a-copy\n",
      "  dataframe['ner_enities'] = ''\n",
      "/tmp/ipykernel_19511/1333681925.py:17: SettingWithCopyWarning: \n",
      "A value is trying to be set on a copy of a slice from a DataFrame.\n",
      "Try using .loc[row_indexer,col_indexer] = value instead\n",
      "\n",
      "See the caveats in the documentation: https://pandas.pydata.org/pandas-docs/stable/user_guide/indexing.html#returning-a-view-versus-a-copy\n",
      "  dataframe.loc[dataframe['input_cleaned']!='', 'ner_enities'] = dataframe.loc[dataframe['input_cleaned']!='', 'input_cleaned'].apply(extract_ner_entities)\n",
      "/tmp/ipykernel_19511/1333681925.py:18: SettingWithCopyWarning: \n",
      "A value is trying to be set on a copy of a slice from a DataFrame.\n",
      "Try using .loc[row_indexer,col_indexer] = value instead\n",
      "\n",
      "See the caveats in the documentation: https://pandas.pydata.org/pandas-docs/stable/user_guide/indexing.html#returning-a-view-versus-a-copy\n",
      "  dataframe['len_ner_enities'] = dataframe['ner_enities'].apply(length_entities)\n",
      "/tmp/ipykernel_19511/1333681925.py:20: SettingWithCopyWarning: \n",
      "A value is trying to be set on a copy of a slice from a DataFrame.\n",
      "Try using .loc[row_indexer,col_indexer] = value instead\n",
      "\n",
      "See the caveats in the documentation: https://pandas.pydata.org/pandas-docs/stable/user_guide/indexing.html#returning-a-view-versus-a-copy\n",
      "  dataframe3['input_cleaned'] = dataframe3['input_cleaned'].apply(filter_named_entities)\n"
     ]
    }
   ],
   "source": [
    "df_combined_ec_model_data_2 = text_preprocess(df_combined_web_iva_search, list_1)"
   ]
  },
  {
   "cell_type": "code",
   "execution_count": 88,
   "metadata": {},
   "outputs": [
    {
     "data": {
      "text/html": [
       "<div>\n",
       "<style scoped>\n",
       "    .dataframe tbody tr th:only-of-type {\n",
       "        vertical-align: middle;\n",
       "    }\n",
       "\n",
       "    .dataframe tbody tr th {\n",
       "        vertical-align: top;\n",
       "    }\n",
       "\n",
       "    .dataframe thead th {\n",
       "        text-align: right;\n",
       "    }\n",
       "</style>\n",
       "<table border=\"1\" class=\"dataframe\">\n",
       "  <thead>\n",
       "    <tr style=\"text-align: right;\">\n",
       "      <th></th>\n",
       "      <th>input</th>\n",
       "      <th>page_name</th>\n",
       "      <th>search_text</th>\n",
       "      <th>session_start_cst</th>\n",
       "      <th>category</th>\n",
       "      <th>input_cleaned</th>\n",
       "      <th>page_name_cleaned</th>\n",
       "      <th>search_text_cleaned</th>\n",
       "      <th>input_changed</th>\n",
       "      <th>page_name_changed</th>\n",
       "      <th>search_text_changed</th>\n",
       "    </tr>\n",
       "  </thead>\n",
       "  <tbody>\n",
       "    <tr>\n",
       "      <th>567824</th>\n",
       "      <td>where can i find information about dependent c...</td>\n",
       "      <td>unk</td>\n",
       "      <td>covering adult children</td>\n",
       "      <td>2022-08-22 13:55:24</td>\n",
       "      <td>Elder care</td>\n",
       "      <td>where can i find information about dependent c...</td>\n",
       "      <td>unk</td>\n",
       "      <td>covering adult children</td>\n",
       "      <td>False</td>\n",
       "      <td>False</td>\n",
       "      <td>False</td>\n",
       "    </tr>\n",
       "    <tr>\n",
       "      <th>580449</th>\n",
       "      <td>how old does your child have to be before i ca...</td>\n",
       "      <td>unk</td>\n",
       "      <td>unk</td>\n",
       "      <td>2018-11-14 08:35:57</td>\n",
       "      <td>Other</td>\n",
       "      <td>how old does your child have to be before i ca...</td>\n",
       "      <td>unk</td>\n",
       "      <td>unk</td>\n",
       "      <td>False</td>\n",
       "      <td>False</td>\n",
       "      <td>False</td>\n",
       "    </tr>\n",
       "    <tr>\n",
       "      <th>131045</th>\n",
       "      <td>do children require a ssn to be covered by hea...</td>\n",
       "      <td>unk</td>\n",
       "      <td>unk</td>\n",
       "      <td>2021-10-31 11:38:28</td>\n",
       "      <td>Other</td>\n",
       "      <td>do children require a ssn to be covered by hea...</td>\n",
       "      <td>unk</td>\n",
       "      <td>unk</td>\n",
       "      <td>True</td>\n",
       "      <td>False</td>\n",
       "      <td>False</td>\n",
       "    </tr>\n",
       "    <tr>\n",
       "      <th>355185</th>\n",
       "      <td>what does a step child fall under?</td>\n",
       "      <td>unk</td>\n",
       "      <td>unk</td>\n",
       "      <td>2019-11-01 19:01:47</td>\n",
       "      <td>Other</td>\n",
       "      <td>what does a step child fall under</td>\n",
       "      <td>unk</td>\n",
       "      <td>unk</td>\n",
       "      <td>True</td>\n",
       "      <td>False</td>\n",
       "      <td>False</td>\n",
       "    </tr>\n",
       "    <tr>\n",
       "      <th>1061554</th>\n",
       "      <td>unk</td>\n",
       "      <td>contentpage - child, adult, and pet care resou...</td>\n",
       "      <td>dependent daycare reimbursement</td>\n",
       "      <td>NaT</td>\n",
       "      <td>Elder care</td>\n",
       "      <td>unk</td>\n",
       "      <td>contentpage  child adult and pet care resources</td>\n",
       "      <td>dependent daycare reimbursement</td>\n",
       "      <td>False</td>\n",
       "      <td>True</td>\n",
       "      <td>False</td>\n",
       "    </tr>\n",
       "    <tr>\n",
       "      <th>6654</th>\n",
       "      <td>why will it not let me add my child</td>\n",
       "      <td>unk</td>\n",
       "      <td>unk</td>\n",
       "      <td>2017-11-03 22:10:20</td>\n",
       "      <td>Other</td>\n",
       "      <td>why will it not let me add my child</td>\n",
       "      <td>unk</td>\n",
       "      <td>unk</td>\n",
       "      <td>False</td>\n",
       "      <td>False</td>\n",
       "      <td>False</td>\n",
       "    </tr>\n",
       "    <tr>\n",
       "      <th>348891</th>\n",
       "      <td>what is my early childhood intervention coverage?</td>\n",
       "      <td>unk</td>\n",
       "      <td>unk</td>\n",
       "      <td>2021-10-05 11:19:24</td>\n",
       "      <td>Other</td>\n",
       "      <td>what is my early childhood intervention coverage</td>\n",
       "      <td>unk</td>\n",
       "      <td>unk</td>\n",
       "      <td>True</td>\n",
       "      <td>False</td>\n",
       "      <td>False</td>\n",
       "    </tr>\n",
       "    <tr>\n",
       "      <th>198565</th>\n",
       "      <td>child coverage</td>\n",
       "      <td>unk</td>\n",
       "      <td>unk</td>\n",
       "      <td>2019-11-27 15:01:29</td>\n",
       "      <td>Other</td>\n",
       "      <td>child coverage</td>\n",
       "      <td>unk</td>\n",
       "      <td>unk</td>\n",
       "      <td>False</td>\n",
       "      <td>False</td>\n",
       "      <td>False</td>\n",
       "    </tr>\n",
       "    <tr>\n",
       "      <th>503993</th>\n",
       "      <td>children don't have ssn</td>\n",
       "      <td>unk</td>\n",
       "      <td>unk</td>\n",
       "      <td>2022-11-02 08:26:00</td>\n",
       "      <td>Other</td>\n",
       "      <td>children dont have ssn</td>\n",
       "      <td>unk</td>\n",
       "      <td>unk</td>\n",
       "      <td>True</td>\n",
       "      <td>False</td>\n",
       "      <td>False</td>\n",
       "    </tr>\n",
       "    <tr>\n",
       "      <th>575982</th>\n",
       "      <td>i want to remove my adult children from my den...</td>\n",
       "      <td>unk</td>\n",
       "      <td>unk</td>\n",
       "      <td>2022-11-02 10:05:40</td>\n",
       "      <td>Elder care</td>\n",
       "      <td>i want to remove my adult children from my den...</td>\n",
       "      <td>unk</td>\n",
       "      <td>unk</td>\n",
       "      <td>True</td>\n",
       "      <td>False</td>\n",
       "      <td>False</td>\n",
       "    </tr>\n",
       "  </tbody>\n",
       "</table>\n",
       "</div>"
      ],
      "text/plain": [
       "                                                     input  \\\n",
       "567824   where can i find information about dependent c...   \n",
       "580449   how old does your child have to be before i ca...   \n",
       "131045   do children require a ssn to be covered by hea...   \n",
       "355185                  what does a step child fall under?   \n",
       "1061554                                                unk   \n",
       "6654                   why will it not let me add my child   \n",
       "348891   what is my early childhood intervention coverage?   \n",
       "198565                                      child coverage   \n",
       "503993                             children don't have ssn   \n",
       "575982   i want to remove my adult children from my den...   \n",
       "\n",
       "                                                 page_name  \\\n",
       "567824                                                 unk   \n",
       "580449                                                 unk   \n",
       "131045                                                 unk   \n",
       "355185                                                 unk   \n",
       "1061554  contentpage - child, adult, and pet care resou...   \n",
       "6654                                                   unk   \n",
       "348891                                                 unk   \n",
       "198565                                                 unk   \n",
       "503993                                                 unk   \n",
       "575982                                                 unk   \n",
       "\n",
       "                             search_text   session_start_cst    category  \\\n",
       "567824           covering adult children 2022-08-22 13:55:24  Elder care   \n",
       "580449                               unk 2018-11-14 08:35:57       Other   \n",
       "131045                               unk 2021-10-31 11:38:28       Other   \n",
       "355185                               unk 2019-11-01 19:01:47       Other   \n",
       "1061554  dependent daycare reimbursement                 NaT  Elder care   \n",
       "6654                                 unk 2017-11-03 22:10:20       Other   \n",
       "348891                               unk 2021-10-05 11:19:24       Other   \n",
       "198565                               unk 2019-11-27 15:01:29       Other   \n",
       "503993                               unk 2022-11-02 08:26:00       Other   \n",
       "575982                               unk 2022-11-02 10:05:40  Elder care   \n",
       "\n",
       "                                             input_cleaned  \\\n",
       "567824   where can i find information about dependent c...   \n",
       "580449   how old does your child have to be before i ca...   \n",
       "131045   do children require a ssn to be covered by hea...   \n",
       "355185                   what does a step child fall under   \n",
       "1061554                                                unk   \n",
       "6654                   why will it not let me add my child   \n",
       "348891    what is my early childhood intervention coverage   \n",
       "198565                                      child coverage   \n",
       "503993                              children dont have ssn   \n",
       "575982   i want to remove my adult children from my den...   \n",
       "\n",
       "                                       page_name_cleaned  \\\n",
       "567824                                               unk   \n",
       "580449                                               unk   \n",
       "131045                                               unk   \n",
       "355185                                               unk   \n",
       "1061554  contentpage  child adult and pet care resources   \n",
       "6654                                                 unk   \n",
       "348891                                               unk   \n",
       "198565                                               unk   \n",
       "503993                                               unk   \n",
       "575982                                               unk   \n",
       "\n",
       "                     search_text_cleaned  input_changed  page_name_changed  \\\n",
       "567824           covering adult children          False              False   \n",
       "580449                               unk          False              False   \n",
       "131045                               unk           True              False   \n",
       "355185                               unk           True              False   \n",
       "1061554  dependent daycare reimbursement          False               True   \n",
       "6654                                 unk          False              False   \n",
       "348891                               unk           True              False   \n",
       "198565                               unk          False              False   \n",
       "503993                               unk           True              False   \n",
       "575982                               unk           True              False   \n",
       "\n",
       "         search_text_changed  \n",
       "567824                 False  \n",
       "580449                 False  \n",
       "131045                 False  \n",
       "355185                 False  \n",
       "1061554                False  \n",
       "6654                   False  \n",
       "348891                 False  \n",
       "198565                 False  \n",
       "503993                 False  \n",
       "575982                 False  "
      ]
     },
     "execution_count": 88,
     "metadata": {},
     "output_type": "execute_result"
    }
   ],
   "source": [
    "df_combined_ec_model_data_2.head(10)"
   ]
  },
  {
   "cell_type": "code",
   "execution_count": 89,
   "metadata": {},
   "outputs": [
    {
     "data": {
      "text/plain": [
       "(11512, 11)"
      ]
     },
     "execution_count": 89,
     "metadata": {},
     "output_type": "execute_result"
    }
   ],
   "source": [
    "df_combined_ec_model_data_2.shape"
   ]
  },
  {
   "cell_type": "code",
   "execution_count": 90,
   "metadata": {},
   "outputs": [],
   "source": [
    "# df_combined_ec_model_data_3 = df_combined_ec_model_data_2.drop(['person_id','person_birth_date','person_gender','global_session_id','web_session_id','business_page_name',\n",
    "#                                                                'page_type_code','page_type','page_web_type_description','browser_language','page_process_name',\n",
    "#                                                                 'page_process_detail','person_eeo'], axis =1)\n",
    "\n",
    "df_combined_ec_model_data_3= df_combined_ec_model_data_2"
   ]
  },
  {
   "cell_type": "code",
   "execution_count": 91,
   "metadata": {},
   "outputs": [
    {
     "data": {
      "text/plain": [
       "Index(['input', 'page_name', 'search_text', 'session_start_cst', 'category',\n",
       "       'input_cleaned', 'page_name_cleaned', 'search_text_cleaned',\n",
       "       'input_changed', 'page_name_changed', 'search_text_changed'],\n",
       "      dtype='object')"
      ]
     },
     "execution_count": 91,
     "metadata": {},
     "output_type": "execute_result"
    }
   ],
   "source": [
    "df_combined_ec_model_data_3.columns"
   ]
  },
  {
   "cell_type": "code",
   "execution_count": 96,
   "metadata": {},
   "outputs": [],
   "source": [
    "df_combined_ec_model_data_3 = df_combined_ec_model_data_3[['input_cleaned', 'page_name_cleaned', 'search_text_cleaned',\n",
    "                                                           'session_start_cst', 'category']]"
   ]
  },
  {
   "cell_type": "code",
   "execution_count": 97,
   "metadata": {},
   "outputs": [
    {
     "data": {
      "text/plain": [
       "(11512, 5)"
      ]
     },
     "execution_count": 97,
     "metadata": {},
     "output_type": "execute_result"
    }
   ],
   "source": [
    "df_combined_ec_model_data_3.shape"
   ]
  },
  {
   "cell_type": "code",
   "execution_count": 98,
   "metadata": {},
   "outputs": [
    {
     "data": {
      "text/plain": [
       "Other         7712\n",
       "Elder care    3800\n",
       "Name: category, dtype: int64"
      ]
     },
     "execution_count": 98,
     "metadata": {},
     "output_type": "execute_result"
    }
   ],
   "source": [
    "df_combined_ec_model_data_3['category'].value_counts()"
   ]
  },
  {
   "cell_type": "code",
   "execution_count": 99,
   "metadata": {},
   "outputs": [],
   "source": [
    "df_combined_ec_model_data_5 = df_combined_ec_model_data_3.copy()"
   ]
  },
  {
   "cell_type": "markdown",
   "metadata": {},
   "source": [
    "## save unseen data for last few months"
   ]
  },
  {
   "cell_type": "code",
   "execution_count": 100,
   "metadata": {},
   "outputs": [],
   "source": [
    "df_combined_ec_model_data_5['session_start_cst'] = pd.to_datetime(df_combined_ec_model_data_5['session_start_cst'], errors='coerce')"
   ]
  },
  {
   "cell_type": "code",
   "execution_count": 101,
   "metadata": {},
   "outputs": [],
   "source": [
    "monthly_counts_2 = df_combined_ec_model_data_5.resample('M', on='session_start_cst').count()"
   ]
  },
  {
   "cell_type": "code",
   "execution_count": 102,
   "metadata": {},
   "outputs": [
    {
     "data": {
      "text/html": [
       "<div>\n",
       "<style scoped>\n",
       "    .dataframe tbody tr th:only-of-type {\n",
       "        vertical-align: middle;\n",
       "    }\n",
       "\n",
       "    .dataframe tbody tr th {\n",
       "        vertical-align: top;\n",
       "    }\n",
       "\n",
       "    .dataframe thead th {\n",
       "        text-align: right;\n",
       "    }\n",
       "</style>\n",
       "<table border=\"1\" class=\"dataframe\">\n",
       "  <thead>\n",
       "    <tr style=\"text-align: right;\">\n",
       "      <th></th>\n",
       "      <th>input_cleaned</th>\n",
       "      <th>page_name_cleaned</th>\n",
       "      <th>search_text_cleaned</th>\n",
       "      <th>session_start_cst</th>\n",
       "      <th>category</th>\n",
       "    </tr>\n",
       "    <tr>\n",
       "      <th>session_start_cst</th>\n",
       "      <th></th>\n",
       "      <th></th>\n",
       "      <th></th>\n",
       "      <th></th>\n",
       "      <th></th>\n",
       "    </tr>\n",
       "  </thead>\n",
       "  <tbody>\n",
       "    <tr>\n",
       "      <th>2017-09-30</th>\n",
       "      <td>26</td>\n",
       "      <td>26</td>\n",
       "      <td>26</td>\n",
       "      <td>26</td>\n",
       "      <td>26</td>\n",
       "    </tr>\n",
       "    <tr>\n",
       "      <th>2017-10-31</th>\n",
       "      <td>291</td>\n",
       "      <td>291</td>\n",
       "      <td>291</td>\n",
       "      <td>291</td>\n",
       "      <td>291</td>\n",
       "    </tr>\n",
       "    <tr>\n",
       "      <th>2017-11-30</th>\n",
       "      <td>333</td>\n",
       "      <td>333</td>\n",
       "      <td>333</td>\n",
       "      <td>333</td>\n",
       "      <td>333</td>\n",
       "    </tr>\n",
       "    <tr>\n",
       "      <th>2017-12-31</th>\n",
       "      <td>47</td>\n",
       "      <td>47</td>\n",
       "      <td>47</td>\n",
       "      <td>47</td>\n",
       "      <td>47</td>\n",
       "    </tr>\n",
       "    <tr>\n",
       "      <th>2018-01-31</th>\n",
       "      <td>80</td>\n",
       "      <td>80</td>\n",
       "      <td>80</td>\n",
       "      <td>80</td>\n",
       "      <td>80</td>\n",
       "    </tr>\n",
       "    <tr>\n",
       "      <th>...</th>\n",
       "      <td>...</td>\n",
       "      <td>...</td>\n",
       "      <td>...</td>\n",
       "      <td>...</td>\n",
       "      <td>...</td>\n",
       "    </tr>\n",
       "    <tr>\n",
       "      <th>2022-11-30</th>\n",
       "      <td>359</td>\n",
       "      <td>359</td>\n",
       "      <td>359</td>\n",
       "      <td>359</td>\n",
       "      <td>359</td>\n",
       "    </tr>\n",
       "    <tr>\n",
       "      <th>2022-12-31</th>\n",
       "      <td>172</td>\n",
       "      <td>172</td>\n",
       "      <td>172</td>\n",
       "      <td>172</td>\n",
       "      <td>172</td>\n",
       "    </tr>\n",
       "    <tr>\n",
       "      <th>2023-01-31</th>\n",
       "      <td>318</td>\n",
       "      <td>318</td>\n",
       "      <td>318</td>\n",
       "      <td>318</td>\n",
       "      <td>318</td>\n",
       "    </tr>\n",
       "    <tr>\n",
       "      <th>2023-02-28</th>\n",
       "      <td>200</td>\n",
       "      <td>200</td>\n",
       "      <td>200</td>\n",
       "      <td>200</td>\n",
       "      <td>200</td>\n",
       "    </tr>\n",
       "    <tr>\n",
       "      <th>2023-03-31</th>\n",
       "      <td>273</td>\n",
       "      <td>273</td>\n",
       "      <td>273</td>\n",
       "      <td>273</td>\n",
       "      <td>273</td>\n",
       "    </tr>\n",
       "  </tbody>\n",
       "</table>\n",
       "<p>67 rows × 5 columns</p>\n",
       "</div>"
      ],
      "text/plain": [
       "                   input_cleaned  page_name_cleaned  search_text_cleaned  \\\n",
       "session_start_cst                                                          \n",
       "2017-09-30                    26                 26                   26   \n",
       "2017-10-31                   291                291                  291   \n",
       "2017-11-30                   333                333                  333   \n",
       "2017-12-31                    47                 47                   47   \n",
       "2018-01-31                    80                 80                   80   \n",
       "...                          ...                ...                  ...   \n",
       "2022-11-30                   359                359                  359   \n",
       "2022-12-31                   172                172                  172   \n",
       "2023-01-31                   318                318                  318   \n",
       "2023-02-28                   200                200                  200   \n",
       "2023-03-31                   273                273                  273   \n",
       "\n",
       "                   session_start_cst  category  \n",
       "session_start_cst                               \n",
       "2017-09-30                        26        26  \n",
       "2017-10-31                       291       291  \n",
       "2017-11-30                       333       333  \n",
       "2017-12-31                        47        47  \n",
       "2018-01-31                        80        80  \n",
       "...                              ...       ...  \n",
       "2022-11-30                       359       359  \n",
       "2022-12-31                       172       172  \n",
       "2023-01-31                       318       318  \n",
       "2023-02-28                       200       200  \n",
       "2023-03-31                       273       273  \n",
       "\n",
       "[67 rows x 5 columns]"
      ]
     },
     "execution_count": 102,
     "metadata": {},
     "output_type": "execute_result"
    }
   ],
   "source": [
    "monthly_counts_2"
   ]
  },
  {
   "cell_type": "code",
   "execution_count": 103,
   "metadata": {},
   "outputs": [
    {
     "data": {
      "text/plain": [
       "(11512, 5)"
      ]
     },
     "execution_count": 103,
     "metadata": {},
     "output_type": "execute_result"
    }
   ],
   "source": [
    "df_combined_ec_model_data_5.shape"
   ]
  },
  {
   "cell_type": "code",
   "execution_count": 104,
   "metadata": {},
   "outputs": [
    {
     "data": {
      "text/plain": [
       "Timestamp('2023-03-26 21:07:53')"
      ]
     },
     "execution_count": 104,
     "metadata": {},
     "output_type": "execute_result"
    }
   ],
   "source": [
    "df_combined_ec_model_data_5['session_start_cst'].max()"
   ]
  },
  {
   "cell_type": "code",
   "execution_count": 105,
   "metadata": {},
   "outputs": [],
   "source": [
    "# filterimg last six month data as unseen test data\n",
    "start_date = pd.to_datetime('2022-12-26 00:00:00')\n",
    "end_date = df_combined_ec_model_data_5['session_start_cst'].max()\n",
    "unseen_test_df = df_combined_ec_model_data_5[(df_combined_ec_model_data_5['session_start_cst'] >= start_date) & (df_combined_ec_model_data_5['session_start_cst'] <= end_date)]"
   ]
  },
  {
   "cell_type": "code",
   "execution_count": 106,
   "metadata": {},
   "outputs": [
    {
     "data": {
      "text/plain": [
       "(824, 5)"
      ]
     },
     "execution_count": 106,
     "metadata": {},
     "output_type": "execute_result"
    }
   ],
   "source": [
    "unseen_test_df.shape"
   ]
  },
  {
   "cell_type": "code",
   "execution_count": 109,
   "metadata": {},
   "outputs": [],
   "source": [
    "unseen_test_df[['input_cleaned', 'search_text_cleaned', 'page_name_cleaned', 'category']].to_excel('EC_unseen_data.xlsx')"
   ]
  },
  {
   "cell_type": "code",
   "execution_count": 110,
   "metadata": {},
   "outputs": [],
   "source": [
    "final_EC_model_df = df_combined_ec_model_data_5[df_combined_ec_model_data_5['session_start_cst'] < start_date]"
   ]
  },
  {
   "cell_type": "code",
   "execution_count": 111,
   "metadata": {},
   "outputs": [
    {
     "data": {
      "text/plain": [
       "Other         6724\n",
       "Elder care    3213\n",
       "Name: category, dtype: int64"
      ]
     },
     "execution_count": 111,
     "metadata": {},
     "output_type": "execute_result"
    }
   ],
   "source": [
    "final_EC_model_df['category'].value_counts()"
   ]
  },
  {
   "cell_type": "code",
   "execution_count": 113,
   "metadata": {},
   "outputs": [],
   "source": [
    "final_EC_model_df.to_excel('final_ec_model_data.xlsx')"
   ]
  },
  {
   "cell_type": "code",
   "execution_count": 112,
   "metadata": {},
   "outputs": [
    {
     "data": {
      "text/plain": [
       "(9937, 5)"
      ]
     },
     "execution_count": 112,
     "metadata": {},
     "output_type": "execute_result"
    }
   ],
   "source": [
    "final_EC_model_df.shape"
   ]
  },
  {
   "cell_type": "markdown",
   "metadata": {},
   "source": [
    "# Load preprocessed data"
   ]
  },
  {
   "cell_type": "code",
   "execution_count": 115,
   "metadata": {},
   "outputs": [
    {
     "data": {
      "text/html": [
       "<div>\n",
       "<style scoped>\n",
       "    .dataframe tbody tr th:only-of-type {\n",
       "        vertical-align: middle;\n",
       "    }\n",
       "\n",
       "    .dataframe tbody tr th {\n",
       "        vertical-align: top;\n",
       "    }\n",
       "\n",
       "    .dataframe thead th {\n",
       "        text-align: right;\n",
       "    }\n",
       "</style>\n",
       "<table border=\"1\" class=\"dataframe\">\n",
       "  <thead>\n",
       "    <tr style=\"text-align: right;\">\n",
       "      <th></th>\n",
       "      <th>input_cleaned</th>\n",
       "      <th>search_text_cleaned</th>\n",
       "      <th>page_name_cleaned</th>\n",
       "      <th>category</th>\n",
       "    </tr>\n",
       "  </thead>\n",
       "  <tbody>\n",
       "    <tr>\n",
       "      <th>8656</th>\n",
       "      <td>child turns 26 does insurance stop</td>\n",
       "      <td>unk</td>\n",
       "      <td>unk</td>\n",
       "      <td>Other</td>\n",
       "    </tr>\n",
       "  </tbody>\n",
       "</table>\n",
       "</div>"
      ],
      "text/plain": [
       "                           input_cleaned search_text_cleaned  \\\n",
       "8656  child turns 26 does insurance stop                 unk   \n",
       "\n",
       "     page_name_cleaned category  \n",
       "8656               unk    Other  "
      ]
     },
     "execution_count": 115,
     "metadata": {},
     "output_type": "execute_result"
    }
   ],
   "source": [
    "# Load the data\n",
    "import pandas as pd\n",
    "data = pd.read_excel('final_ec_model_data.xlsx')[['input_cleaned', 'search_text_cleaned', 'page_name_cleaned', 'category']]\n",
    "data.sample()"
   ]
  },
  {
   "cell_type": "code",
   "execution_count": 116,
   "metadata": {},
   "outputs": [],
   "source": [
    "data.fillna(value={'input_cleaned': 'unk', 'page_name_cleaned': 'unk', 'search_text_cleaned': 'unk'}, inplace=True)"
   ]
  },
  {
   "cell_type": "code",
   "execution_count": 117,
   "metadata": {},
   "outputs": [
    {
     "data": {
      "text/html": [
       "<div>\n",
       "<style scoped>\n",
       "    .dataframe tbody tr th:only-of-type {\n",
       "        vertical-align: middle;\n",
       "    }\n",
       "\n",
       "    .dataframe tbody tr th {\n",
       "        vertical-align: top;\n",
       "    }\n",
       "\n",
       "    .dataframe thead th {\n",
       "        text-align: right;\n",
       "    }\n",
       "</style>\n",
       "<table border=\"1\" class=\"dataframe\">\n",
       "  <thead>\n",
       "    <tr style=\"text-align: right;\">\n",
       "      <th></th>\n",
       "      <th>input_cleaned</th>\n",
       "      <th>search_text_cleaned</th>\n",
       "      <th>page_name_cleaned</th>\n",
       "      <th>category</th>\n",
       "    </tr>\n",
       "  </thead>\n",
       "  <tbody>\n",
       "    <tr>\n",
       "      <th>633</th>\n",
       "      <td>benefits eligibility for children</td>\n",
       "      <td>unk</td>\n",
       "      <td>contentpage  child adult and pet care resources</td>\n",
       "      <td>Elder care</td>\n",
       "    </tr>\n",
       "  </tbody>\n",
       "</table>\n",
       "</div>"
      ],
      "text/plain": [
       "                         input_cleaned search_text_cleaned  \\\n",
       "633  benefits eligibility for children                 unk   \n",
       "\n",
       "                                   page_name_cleaned    category  \n",
       "633  contentpage  child adult and pet care resources  Elder care  "
      ]
     },
     "execution_count": 117,
     "metadata": {},
     "output_type": "execute_result"
    }
   ],
   "source": [
    "data.sample()"
   ]
  },
  {
   "cell_type": "code",
   "execution_count": 118,
   "metadata": {},
   "outputs": [
    {
     "data": {
      "text/plain": [
       "Other         6724\n",
       "Elder care    3213\n",
       "Name: category, dtype: int64"
      ]
     },
     "execution_count": 118,
     "metadata": {},
     "output_type": "execute_result"
    }
   ],
   "source": [
    "data.category.value_counts()"
   ]
  },
  {
   "cell_type": "code",
   "execution_count": 119,
   "metadata": {},
   "outputs": [
    {
     "data": {
      "text/html": [
       "<div>\n",
       "<style scoped>\n",
       "    .dataframe tbody tr th:only-of-type {\n",
       "        vertical-align: middle;\n",
       "    }\n",
       "\n",
       "    .dataframe tbody tr th {\n",
       "        vertical-align: top;\n",
       "    }\n",
       "\n",
       "    .dataframe thead th {\n",
       "        text-align: right;\n",
       "    }\n",
       "</style>\n",
       "<table border=\"1\" class=\"dataframe\">\n",
       "  <thead>\n",
       "    <tr style=\"text-align: right;\">\n",
       "      <th></th>\n",
       "      <th>input_cleaned</th>\n",
       "      <th>search_text_cleaned</th>\n",
       "      <th>page_name_cleaned</th>\n",
       "      <th>category</th>\n",
       "    </tr>\n",
       "  </thead>\n",
       "  <tbody>\n",
       "    <tr>\n",
       "      <th>788</th>\n",
       "      <td>what are the requirements to keep a child in m...</td>\n",
       "      <td>unk</td>\n",
       "      <td>unk</td>\n",
       "      <td>0</td>\n",
       "    </tr>\n",
       "  </tbody>\n",
       "</table>\n",
       "</div>"
      ],
      "text/plain": [
       "                                         input_cleaned search_text_cleaned  \\\n",
       "788  what are the requirements to keep a child in m...                 unk   \n",
       "\n",
       "    page_name_cleaned  category  \n",
       "788               unk         0  "
      ]
     },
     "execution_count": 119,
     "metadata": {},
     "output_type": "execute_result"
    }
   ],
   "source": [
    "data.category = data.category.map({'Other':0, 'Elder care':1})\n",
    "data.sample()"
   ]
  },
  {
   "cell_type": "code",
   "execution_count": 120,
   "metadata": {},
   "outputs": [
    {
     "name": "stdout",
     "output_type": "stream",
     "text": [
      "<class 'pandas.core.frame.DataFrame'>\n",
      "RangeIndex: 9937 entries, 0 to 9936\n",
      "Data columns (total 4 columns):\n",
      " #   Column               Non-Null Count  Dtype \n",
      "---  ------               --------------  ----- \n",
      " 0   input_cleaned        9937 non-null   object\n",
      " 1   search_text_cleaned  9937 non-null   object\n",
      " 2   page_name_cleaned    9937 non-null   object\n",
      " 3   category             9937 non-null   int64 \n",
      "dtypes: int64(1), object(3)\n",
      "memory usage: 310.7+ KB\n"
     ]
    }
   ],
   "source": [
    "data.info()"
   ]
  },
  {
   "cell_type": "code",
   "execution_count": 121,
   "metadata": {},
   "outputs": [
    {
     "data": {
      "text/plain": [
       "unk                                                                       0.851364\n",
       "contentpage  child adult and pet care resources                           0.074469\n",
       "hmcstmchildcarepluslandingpageopen                                        0.052632\n",
       "contentpage  childcare subsidy                                            0.005535\n",
       "contentpage  dependent day care reimbursement account                     0.003321\n",
       "contentpage  backup child and elder care                                  0.002616\n",
       "contentpage  2023 childcare subsidy                                       0.002415\n",
       "hm_cstm_child_caredomainbenhmbaseclientindicatorclientlanguageiden_us     0.001308\n",
       "contentpage  dependent day care fsa                                       0.001107\n",
       "contentpage  backup child and adult care                                  0.001006\n",
       "contentpage  child care  elder care  getting married                      0.000805\n",
       "contentpage  free money for childcare the childcare subsidy               0.000604\n",
       "otherchildcarediscounts                                                   0.000604\n",
       "contentpage  child care services                                          0.000302\n",
       "contentpage  i need to find a child care facility                         0.000302\n",
       "contentpage  health care fsa and day care dcap page                       0.000302\n",
       "hm_cstm_child_caredomainbenhmbaseclientindicatorclient                    0.000302\n",
       "contentpage  dependent child turning 26                                   0.000201\n",
       "contentpage  i need help prepping my child for college                    0.000201\n",
       "contentpage  other childcare discounts                                    0.000201\n",
       "contentpage  child care discounts                                         0.000101\n",
       "contentpage  caring for children                                          0.000101\n",
       "contentpage  i need academic and virtual learning support for my child    0.000101\n",
       "contentpage  child life                                                   0.000101\n",
       "Name: page_name_cleaned, dtype: float64"
      ]
     },
     "execution_count": 121,
     "metadata": {},
     "output_type": "execute_result"
    }
   ],
   "source": [
    "data.page_name_cleaned.value_counts(normalize=True)"
   ]
  },
  {
   "cell_type": "code",
   "execution_count": 122,
   "metadata": {},
   "outputs": [
    {
     "data": {
      "text/plain": [
       "unk                                 0.912750\n",
       "child care                          0.010567\n",
       "elder care                          0.007849\n",
       "childcare                           0.007648\n",
       "child care plus                     0.006441\n",
       "                                      ...   \n",
       "adding children as beneficiaries    0.000101\n",
       "dependent daycare fsa               0.000101\n",
       "child care rules                    0.000101\n",
       "adding coverage for children        0.000101\n",
       "day care dependency form            0.000101\n",
       "Name: search_text_cleaned, Length: 273, dtype: float64"
      ]
     },
     "execution_count": 122,
     "metadata": {},
     "output_type": "execute_result"
    }
   ],
   "source": [
    "data.search_text_cleaned.value_counts(normalize=True)"
   ]
  },
  {
   "cell_type": "code",
   "execution_count": 123,
   "metadata": {},
   "outputs": [
    {
     "data": {
      "text/plain": [
       "0    6724\n",
       "1    3213\n",
       "Name: category, dtype: int64"
      ]
     },
     "execution_count": 123,
     "metadata": {},
     "output_type": "execute_result"
    }
   ],
   "source": [
    "data.category.value_counts()"
   ]
  },
  {
   "cell_type": "code",
   "execution_count": 124,
   "metadata": {},
   "outputs": [],
   "source": [
    "data.to_excel('EC_texts_cols_preprocessed_data.xlsx')"
   ]
  },
  {
   "cell_type": "code",
   "execution_count": 152,
   "metadata": {},
   "outputs": [],
   "source": [
    "# data[data['category']==0]['input_cleaned'].to_list()"
   ]
  },
  {
   "cell_type": "markdown",
   "metadata": {},
   "source": [
    "### Model building on the basis of just text columns"
   ]
  },
  {
   "cell_type": "markdown",
   "metadata": {},
   "source": [
    "------"
   ]
  },
  {
   "cell_type": "code",
   "execution_count": 158,
   "metadata": {},
   "outputs": [],
   "source": [
    "import pandas as pd\n",
    "import numpy as np\n",
    "import torch\n",
    "from sklearn.metrics import accuracy_score, confusion_matrix\n",
    "\n",
    "from torch.utils.data import DataLoader, TensorDataset, random_split\n",
    "from transformers import BertForSequenceClassification, BertTokenizer, AdamW\n",
    "\n",
    "\n",
    "# set the random seed for NumPy\n",
    "np.random.seed(42)\n",
    "\n",
    "# set the random seed for PyTorch\n",
    "torch.manual_seed(42)\n",
    "\n",
    "# load the data\n",
    "# data = pd.read_csv('data.csv')\n",
    "\n",
    "# load the BERT tokenizer\n",
    "tokenizer = BertTokenizer.from_pretrained('bert-base-uncased')"
   ]
  },
  {
   "cell_type": "code",
   "execution_count": 159,
   "metadata": {},
   "outputs": [
    {
     "name": "stdout",
     "output_type": "stream",
     "text": [
      "<class 'pandas.core.frame.DataFrame'>\n",
      "RangeIndex: 9937 entries, 0 to 9936\n",
      "Data columns (total 4 columns):\n",
      " #   Column               Non-Null Count  Dtype \n",
      "---  ------               --------------  ----- \n",
      " 0   input_cleaned        9937 non-null   object\n",
      " 1   search_text_cleaned  9937 non-null   object\n",
      " 2   page_name_cleaned    9937 non-null   object\n",
      " 3   category             9937 non-null   int64 \n",
      "dtypes: int64(1), object(3)\n",
      "memory usage: 310.7+ KB\n"
     ]
    }
   ],
   "source": [
    "data.info()"
   ]
  },
  {
   "cell_type": "code",
   "execution_count": 160,
   "metadata": {},
   "outputs": [
    {
     "name": "stderr",
     "output_type": "stream",
     "text": [
      "Some weights of the model checkpoint at bert-base-uncased were not used when initializing BertForSequenceClassification: ['cls.predictions.transform.LayerNorm.weight', 'cls.seq_relationship.weight', 'cls.predictions.transform.dense.weight', 'cls.predictions.transform.dense.bias', 'cls.seq_relationship.bias', 'cls.predictions.transform.LayerNorm.bias', 'cls.predictions.bias', 'cls.predictions.decoder.weight']\n",
      "- This IS expected if you are initializing BertForSequenceClassification from the checkpoint of a model trained on another task or with another architecture (e.g. initializing a BertForSequenceClassification model from a BertForPreTraining model).\n",
      "- This IS NOT expected if you are initializing BertForSequenceClassification from the checkpoint of a model that you expect to be exactly identical (initializing a BertForSequenceClassification model from a BertForSequenceClassification model).\n",
      "Some weights of BertForSequenceClassification were not initialized from the model checkpoint at bert-base-uncased and are newly initialized: ['classifier.weight', 'classifier.bias']\n",
      "You should probably TRAIN this model on a down-stream task to be able to use it for predictions and inference.\n"
     ]
    },
    {
     "name": "stdout",
     "output_type": "stream",
     "text": [
      "Epoch 1 Loss: 0.2451178169618529\n",
      "Epoch 1 Validation Accuracy: 0.9481891348088531\n",
      "Epoch 1 Confusion Matrix:\n",
      "[[1317   26]\n",
      " [  77  568]]\n",
      "Epoch 2 Loss: 0.15738977935449425\n",
      "Epoch 2 Validation Accuracy: 0.9481891348088531\n",
      "Epoch 2 Confusion Matrix:\n",
      "[[1321   22]\n",
      " [  81  564]]\n",
      "Epoch 3 Loss: 0.12571201949234467\n",
      "Epoch 3 Validation Accuracy: 0.9486921529175051\n",
      "Epoch 3 Confusion Matrix:\n",
      "[[1318   25]\n",
      " [  77  568]]\n",
      "Epoch 4 Loss: 0.09753929063617944\n",
      "Epoch 4 Validation Accuracy: 0.9451710261569416\n",
      "Epoch 4 Confusion Matrix:\n",
      "[[1306   37]\n",
      " [  72  573]]\n",
      "Epoch 5 Loss: 0.0785090953698868\n",
      "Epoch 5 Validation Accuracy: 0.9426559356136821\n",
      "Epoch 5 Confusion Matrix:\n",
      "[[1306   37]\n",
      " [  77  568]]\n",
      "Epoch 6 Loss: 0.06858258088723379\n",
      "Epoch 6 Validation Accuracy: 0.9421529175050302\n",
      "Epoch 6 Confusion Matrix:\n",
      "[[1314   29]\n",
      " [  86  559]]\n",
      "Epoch 7 Loss: 0.06345206988277849\n",
      "Epoch 7 Validation Accuracy: 0.9215291750503019\n",
      "Epoch 7 Confusion Matrix:\n",
      "[[1244   99]\n",
      " [  57  588]]\n",
      "Epoch 8 Loss: 0.055703766404624926\n",
      "Epoch 8 Validation Accuracy: 0.9446680080482898\n",
      "Epoch 8 Confusion Matrix:\n",
      "[[1311   32]\n",
      " [  78  567]]\n",
      "Epoch 9 Loss: 0.04957742599703102\n",
      "Epoch 9 Validation Accuracy: 0.9411468812877264\n",
      "Epoch 9 Confusion Matrix:\n",
      "[[1297   46]\n",
      " [  71  574]]\n",
      "Epoch 10 Loss: 0.047924083940653006\n",
      "Epoch 10 Validation Accuracy: 0.9436619718309859\n",
      "Epoch 10 Confusion Matrix:\n",
      "[[1309   34]\n",
      " [  78  567]]\n",
      "Epoch 11 Loss: 0.0465918730473474\n",
      "Epoch 11 Validation Accuracy: 0.9421529175050302\n",
      "Epoch 11 Confusion Matrix:\n",
      "[[1304   39]\n",
      " [  76  569]]\n",
      "Epoch 12 Loss: 0.04115096703596015\n",
      "Epoch 12 Validation Accuracy: 0.9436619718309859\n",
      "Epoch 12 Confusion Matrix:\n",
      "[[1306   37]\n",
      " [  75  570]]\n",
      "Epoch 13 Loss: 0.039257887700019985\n",
      "Epoch 13 Validation Accuracy: 0.9456740442655935\n",
      "Epoch 13 Confusion Matrix:\n",
      "[[1311   32]\n",
      " [  76  569]]\n",
      "Epoch 14 Loss: 0.04548518796674402\n",
      "Epoch 14 Validation Accuracy: 0.937625754527163\n",
      "Epoch 14 Confusion Matrix:\n",
      "[[1285   58]\n",
      " [  66  579]]\n",
      "Epoch 15 Loss: 0.044775413457270576\n",
      "Epoch 15 Validation Accuracy: 0.943158953722334\n",
      "Epoch 15 Confusion Matrix:\n",
      "[[1300   43]\n",
      " [  70  575]]\n",
      "Epoch 16 Loss: 0.04503159805333773\n",
      "Epoch 16 Validation Accuracy: 0.9436619718309859\n",
      "Epoch 16 Confusion Matrix:\n",
      "[[1312   31]\n",
      " [  81  564]]\n",
      "Epoch 17 Loss: 0.04377869497670233\n",
      "Epoch 17 Validation Accuracy: 0.9421529175050302\n",
      "Epoch 17 Confusion Matrix:\n",
      "[[1300   43]\n",
      " [  72  573]]\n",
      "Epoch 18 Loss: 0.04164231706989041\n",
      "Epoch 18 Validation Accuracy: 0.9436619718309859\n",
      "Epoch 18 Confusion Matrix:\n",
      "[[1313   30]\n",
      " [  82  563]]\n",
      "Epoch 19 Loss: 0.04023367450316577\n",
      "Epoch 19 Validation Accuracy: 0.9471830985915493\n",
      "Epoch 19 Confusion Matrix:\n",
      "[[1316   27]\n",
      " [  78  567]]\n",
      "Epoch 20 Loss: 0.042180771115257025\n",
      "Epoch 20 Validation Accuracy: 0.9451710261569416\n",
      "Epoch 20 Confusion Matrix:\n",
      "[[1307   36]\n",
      " [  73  572]]\n",
      "Epoch 21 Loss: 0.03806833810941831\n",
      "Epoch 21 Validation Accuracy: 0.9461770623742455\n",
      "Epoch 21 Confusion Matrix:\n",
      "[[1312   31]\n",
      " [  76  569]]\n",
      "Epoch 22 Loss: 0.03778518115083339\n",
      "Epoch 22 Validation Accuracy: 0.9446680080482898\n",
      "Epoch 22 Confusion Matrix:\n",
      "[[1312   31]\n",
      " [  79  566]]\n",
      "Epoch 23 Loss: 0.037724450309143724\n",
      "Epoch 23 Validation Accuracy: 0.943158953722334\n",
      "Epoch 23 Confusion Matrix:\n",
      "[[1307   36]\n",
      " [  77  568]]\n",
      "Epoch 24 Loss: 0.04421815758626665\n",
      "Epoch 24 Validation Accuracy: 0.9406438631790744\n",
      "Epoch 24 Confusion Matrix:\n",
      "[[1294   49]\n",
      " [  69  576]]\n",
      "Epoch 25 Loss: 0.039789921651843536\n",
      "Epoch 25 Validation Accuracy: 0.9421529175050302\n",
      "Epoch 25 Confusion Matrix:\n",
      "[[1302   41]\n",
      " [  74  571]]\n"
     ]
    }
   ],
   "source": [
    "# encode the data using the tokenizer\n",
    "encodings = tokenizer(list(data['input_cleaned']), list(data['search_text_cleaned']), list(data['page_name_cleaned']),\n",
    "                      truncation=True, padding=True)\n",
    "\n",
    "# create the dataset\n",
    "dataset = torch.utils.data.TensorDataset(\n",
    "    torch.tensor(encodings['input_ids']),\n",
    "    torch.tensor(encodings['attention_mask']),\n",
    "    torch.tensor(list(data['category']))\n",
    ")\n",
    "\n",
    "# split the dataset into training and validation sets\n",
    "train_size = int(0.8 * len(dataset))\n",
    "val_size = len(dataset) - train_size\n",
    "train_dataset, val_dataset = torch.utils.data.random_split(dataset, [train_size, val_size])\n",
    "\n",
    "# create the DataLoader for the training and validation sets\n",
    "train_loader = torch.utils.data.DataLoader(train_dataset, batch_size=32, shuffle=True)\n",
    "val_loader = torch.utils.data.DataLoader(val_dataset, batch_size=32, shuffle=False)\n",
    "\n",
    "# load the BERT model for sequence classification\n",
    "model = BertForSequenceClassification.from_pretrained('bert-base-uncased', num_labels=2,)\n",
    "\n",
    "# set up the optimizer and loss function\n",
    "optimizer = torch.optim.AdamW(model.parameters(), lr=2e-5)\n",
    "loss_fn = torch.nn.CrossEntropyLoss()\n",
    "\n",
    "epochs=25\n",
    "\n",
    "# train the model\n",
    "for epoch in range(epochs):\n",
    "    running_loss = 0.0\n",
    "    for batch in train_loader:\n",
    "        input_ids, attention_mask, labels = batch\n",
    "        outputs = model(input_ids, attention_mask=attention_mask, labels=labels)\n",
    "        loss = outputs.loss\n",
    "        logits = outputs.logits\n",
    "        loss.backward()\n",
    "        optimizer.step()\n",
    "        optimizer.zero_grad()\n",
    "        running_loss += loss.item()\n",
    "    print(f'Epoch {epoch + 1} Loss: {running_loss / len(train_loader)}')\n",
    "\n",
    "    # make predictions on the data and compute the probabilities\n",
    "    predictions = []\n",
    "#     probabilities = []\n",
    "    true_labels = []\n",
    "    with torch.no_grad():\n",
    "        model.eval()\n",
    "        for batch in val_loader:\n",
    "            input_ids, attention_mask, labels = batch\n",
    "            outputs = model(input_ids, attention_mask=attention_mask)\n",
    "            logits = outputs.logits\n",
    "#             probs = torch.nn.functional.softmax(logits, dim=1)\n",
    "            predictions.extend(torch.argmax(logits, dim=1).tolist())\n",
    "#             probabilities.extend(probs[:, 1].tolist())  # probability of class 1 (assuming binary classification)\n",
    "            true_labels.extend(labels.tolist())\n",
    "    \n",
    "    # convert probabilities to a NumPy array for easier handling\n",
    "#     probabilities = np.array(probabilities)\n",
    "\n",
    "    # print the probabilities for each row of data\n",
    "#     print(f'Probabilities for each row of data:')\n",
    "#     print(probabilities)\n",
    "    \n",
    "    accuracy = accuracy_score(true_labels, predictions)\n",
    "    print(f'Epoch {epoch + 1} Validation Accuracy: {accuracy}')\n",
    "\n",
    "    # generate the confusion matrix\n",
    "    cm = confusion_matrix(true_labels, predictions)\n",
    "    print(f'Epoch {epoch + 1} Confusion Matrix:')\n",
    "    print(cm)\n",
    "    \n"
   ]
  },
  {
   "cell_type": "code",
   "execution_count": 161,
   "metadata": {},
   "outputs": [
    {
     "data": {
      "text/plain": [
       "(7949, 1988)"
      ]
     },
     "execution_count": 161,
     "metadata": {},
     "output_type": "execute_result"
    }
   ],
   "source": [
    "train_size, val_size"
   ]
  },
  {
   "cell_type": "code",
   "execution_count": 172,
   "metadata": {},
   "outputs": [],
   "source": [
    "# define the path to save the model\n",
    "save_path = \"./EC_model_outer_combined_texts_data/\"\n",
    "\n",
    "# create the directory if it doesn't exist\n",
    "import os\n",
    "if not os.path.exists(save_path):\n",
    "    os.makedirs(save_path)\n",
    "\n",
    "# save the model\n",
    "model.save_pretrained(save_path)\n"
   ]
  },
  {
   "cell_type": "markdown",
   "metadata": {},
   "source": [
    "## prediction code"
   ]
  },
  {
   "cell_type": "code",
   "execution_count": 173,
   "metadata": {},
   "outputs": [],
   "source": [
    "import pandas as pd\n",
    "import torch\n",
    "from transformers import BertTokenizer, BertForSequenceClassification\n",
    "\n",
    "# load the BERT tokenizer\n",
    "tokenizer = BertTokenizer.from_pretrained('bert-base-uncased')\n",
    "\n",
    "# load the trained model\n",
    "model = BertForSequenceClassification.from_pretrained(save_path)\n",
    "\n",
    "# load the new data to be predicted\n",
    "new_data = pd.read_excel('EC_unseen_data.xlsx')\n",
    "\n",
    "input_texts = new_data['input_cleaned'].fillna('unk').tolist()\n",
    "search_texts = new_data['search_text_cleaned'].fillna('unk').tolist()\n",
    "page_names = new_data['page_name_cleaned'].fillna('unk').tolist()\n",
    "new_data['category'] = new_data['category'].replace({0:'Other', 1:'Elder care'})"
   ]
  },
  {
   "cell_type": "code",
   "execution_count": 174,
   "metadata": {},
   "outputs": [],
   "source": [
    "encodings = tokenizer(input_texts, search_texts, page_names,\n",
    "                      truncation=True, padding=True)\n",
    "\n",
    "# create the dataset\n",
    "dataset = torch.utils.data.TensorDataset(\n",
    "    torch.tensor(encodings['input_ids']),\n",
    "    torch.tensor(encodings['attention_mask'])\n",
    ")\n",
    "\n",
    "# create the DataLoader for the new data\n",
    "loader = torch.utils.data.DataLoader(dataset, batch_size=32, shuffle=False)\n",
    "\n",
    "# make predictions on the new data\n",
    "\n",
    "predictions = []\n",
    "probabilities = []\n",
    "with torch.no_grad():\n",
    "    model.eval()\n",
    "    for batch in loader:\n",
    "        input_ids, attention_mask = batch\n",
    "        outputs = model(input_ids, attention_mask=attention_mask)\n",
    "        logits = outputs.logits\n",
    "        probs = torch.nn.functional.softmax(logits, dim=1)\n",
    "        probabilities.extend(probs[:, 1].tolist())\n",
    "        predictions.extend(torch.argmax(logits, dim=1).tolist())\n",
    "\n",
    "# replace the mapping of predictions with a function that handles non-binary values\n",
    "# def label_predictions(pred):\n",
    "#     if pred == 0:\n",
    "#         return 'Other'\n",
    "#     elif pred == 1:\n",
    "#         return 'Elder care'\n",
    "#     else:\n",
    "#         return ' '\n",
    "    \n",
    "# add the predictions to the new data DataFrame\n",
    "# new_data['predictions'] = predictions\n",
    "    \n",
    "# new_data['predictions'] = new_data['predictions'].apply(label_predictions)\n",
    "new_data['predictions'] = pd.Series(predictions).apply(lambda x: 'Other' if x==0 else 'Elder care' if x==1 else ' ')\n",
    "\n",
    "# new_data['predictions'] = new_data['predictions'].replace({0:'Other', 1:'Elder care'})\n",
    "\n",
    "new_data['probability'] = probabilities\n",
    "# save the new data with predictions\n",
    "new_data.to_csv('EC_predictions.csv', index=False)"
   ]
  },
  {
   "cell_type": "code",
   "execution_count": 175,
   "metadata": {},
   "outputs": [
    {
     "data": {
      "text/plain": [
       "Other         607\n",
       "Elder care    228\n",
       "Name: predictions, dtype: int64"
      ]
     },
     "execution_count": 175,
     "metadata": {},
     "output_type": "execute_result"
    }
   ],
   "source": [
    "new_data['predictions'].value_counts()"
   ]
  },
  {
   "cell_type": "code",
   "execution_count": 176,
   "metadata": {},
   "outputs": [],
   "source": [
    "# new_data['category']"
   ]
  },
  {
   "cell_type": "code",
   "execution_count": 177,
   "metadata": {},
   "outputs": [
    {
     "name": "stdout",
     "output_type": "stream",
     "text": [
      "[[211  68]\n",
      " [ 17 539]]\n",
      "0.8982035928143712\n"
     ]
    }
   ],
   "source": [
    "# make predictions on the validation set and compute the accuracy\n",
    "predictions = list(new_data['predictions'])\n",
    "true_labels = list(new_data['category'])\n",
    "\n",
    "accuracy = accuracy_score(true_labels, predictions)\n",
    "\n",
    "# generate the confusion matrix\n",
    "cm = confusion_matrix(true_labels, predictions)\n",
    "print(cm)\n",
    "print(accuracy)"
   ]
  },
  {
   "cell_type": "code",
   "execution_count": 178,
   "metadata": {},
   "outputs": [
    {
     "name": "stdout",
     "output_type": "stream",
     "text": [
      "0.8982035928143712\n"
     ]
    },
    {
     "data": {
      "image/png": "[encoded data removed]",
      "text/plain": [
       "<Figure size 432x288 with 2 Axes>"
      ]
     },
     "metadata": {
      "needs_background": "light"
     },
     "output_type": "display_data"
    }
   ],
   "source": [
    "import seaborn as sns\n",
    "import matplotlib.pyplot as plt     \n",
    "\n",
    "ax= plt.subplot()\n",
    "sns.heatmap(cm, annot=True, fmt='g', ax=ax);  #annot=True to annotate cells, ftm='g' to disable scientific notation\n",
    "\n",
    "# labels, title and ticks\n",
    "accuracy = accuracy_score(true_labels, predictions)\n",
    "print(accuracy)\n",
    "\n",
    "ax.set_xlabel('Predicted labels');ax.set_ylabel('True labels'); \n",
    "ax.set_title('Confusion Matrix'); \n",
    "ax.xaxis.set_ticklabels(['Elder care','Other']); ax.yaxis.set_ticklabels(['Elder care', 'Other']);"
   ]
  },
  {
   "cell_type": "code",
   "execution_count": 179,
   "metadata": {},
   "outputs": [],
   "source": [
    "new_data[new_data['category']!=new_data['predictions']].to_csv('EC_model_wrong_predictions_1.csv')"
   ]
  },
  {
   "cell_type": "code",
   "execution_count": 180,
   "metadata": {},
   "outputs": [],
   "source": [
    "new_data.to_csv('EC_model_all_predictions_1.csv')"
   ]
  },
  {
   "cell_type": "code",
   "execution_count": null,
   "metadata": {},
   "outputs": [],
   "source": []
  },
  {
   "cell_type": "code",
   "execution_count": null,
   "metadata": {},
   "outputs": [],
   "source": []
  }
 ],
 "metadata": {
  "instance_type": "ml.r5.24xlarge",
  "kernelspec": {
   "display_name": "python3 (adl-core-custom-docker/1)",
   "language": "python",
   "name": "python3__SAGEMAKER_INTERNAL__arn:aws:sagemaker:us-east-1:660999144548:image-version/adl-core-custom-docker/1"
  },
  "language_info": {
   "codemirror_mode": {
    "name": "ipython",
    "version": 3
   },
   "file_extension": ".py",
   "mimetype": "text/x-python",
   "name": "python",
   "nbconvert_exporter": "python",
   "pygments_lexer": "ipython3",
   "version": "3.9.12"
  }
 },
 "nbformat": 4,
 "nbformat_minor": 4
}
