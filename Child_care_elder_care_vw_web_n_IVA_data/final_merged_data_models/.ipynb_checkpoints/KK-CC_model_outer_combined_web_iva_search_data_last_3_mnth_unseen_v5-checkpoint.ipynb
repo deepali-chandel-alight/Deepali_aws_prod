{
 "cells": [
  {
   "cell_type": "code",
   "execution_count": 216,
   "metadata": {},
   "outputs": [],
   "source": [
    "# !pip install pandas-profiling"
   ]
  },
  {
   "cell_type": "code",
   "execution_count": 217,
   "metadata": {},
   "outputs": [],
   "source": [
    "# !pip install spacy"
   ]
  },
  {
   "cell_type": "code",
   "execution_count": 218,
   "metadata": {},
   "outputs": [],
   "source": [
    "# !pip install en_core_web_sm-3.1.0-py3-none-any.whl"
   ]
  },
  {
   "cell_type": "code",
   "execution_count": 2,
   "metadata": {},
   "outputs": [],
   "source": [
    "import spacy\n",
    "import en_core_web_sm\n",
    "nlp = spacy.load(\"en_core_web_sm\")"
   ]
  },
  {
   "cell_type": "code",
   "execution_count": 3,
   "metadata": {},
   "outputs": [],
   "source": [
    "import pandas as pd"
   ]
  },
  {
   "cell_type": "code",
   "execution_count": 4,
   "metadata": {},
   "outputs": [
    {
     "name": "stderr",
     "output_type": "stream",
     "text": [
      "/tmp/ipykernel_20738/1765538524.py:1: DtypeWarning: Columns (0,1,2,4,5,9,10,11,12,13,14,15,16,17,18,20,21,23,24,25,26,27,28,29,31,33,39,41,56,57,58,59,63,64,65,67,68,70,71,74,75,77,78,80,81,82,83,84,85,86,87,88,89,90,91,92,93,94,95,96,97,98,99,100,101,102,103,106,108,109,110,111,112,113,114,115,116,117,118,119,122,123,124,125,126,127,128,129,130,131,132,134,135,136,137,138,155,156,159,160,161,164,165) have mixed types. Specify dtype option on import or set low_memory=False.\n",
      "  df_combined_web_iva_search = pd.read_csv(\"s3://adl-core-sagemaker-studio/external/IVA/combined_new_adult-child_outer_new.csv\")\n"
     ]
    }
   ],
   "source": [
    "df_combined_web_iva_search = pd.read_csv(\"s3://adl-core-sagemaker-studio/external/IVA/combined_new_adult-child_outer_new.csv\")"
   ]
  },
  {
   "cell_type": "code",
   "execution_count": 5,
   "metadata": {},
   "outputs": [
    {
     "data": {
      "text/html": [
       "<div>\n",
       "<style scoped>\n",
       "    .dataframe tbody tr th:only-of-type {\n",
       "        vertical-align: middle;\n",
       "    }\n",
       "\n",
       "    .dataframe tbody tr th {\n",
       "        vertical-align: top;\n",
       "    }\n",
       "\n",
       "    .dataframe thead th {\n",
       "        text-align: right;\n",
       "    }\n",
       "</style>\n",
       "<table border=\"1\" class=\"dataframe\">\n",
       "  <thead>\n",
       "    <tr style=\"text-align: right;\">\n",
       "      <th></th>\n",
       "      <th>agent_entitlement_client_name</th>\n",
       "      <th>agent_entitlement_access_key</th>\n",
       "      <th>channel</th>\n",
       "      <th>companytracking_clientid</th>\n",
       "      <th>companytracking_companyid</th>\n",
       "      <th>companytracking_companyname</th>\n",
       "      <th>companytracking_multitenantid</th>\n",
       "      <th>entry_id</th>\n",
       "      <th>entry_order</th>\n",
       "      <th>entry_type</th>\n",
       "      <th>...</th>\n",
       "      <th>load_timestamp</th>\n",
       "      <th>source_system_code</th>\n",
       "      <th>mobile_app_device_type</th>\n",
       "      <th>page_load_elapsed_time</th>\n",
       "      <th>mobile_app_type</th>\n",
       "      <th>session_create_date_cst_timezone_partition</th>\n",
       "      <th>platform_id_y</th>\n",
       "      <th>search_text</th>\n",
       "      <th>search_results</th>\n",
       "      <th>session_created_timestamp</th>\n",
       "    </tr>\n",
       "  </thead>\n",
       "  <tbody>\n",
       "    <tr>\n",
       "      <th>0</th>\n",
       "      <td>Enterprise</td>\n",
       "      <td>00000000-0000-0000-0000-000000000000</td>\n",
       "      <td>Web</td>\n",
       "      <td>8141.0</td>\n",
       "      <td>staples</td>\n",
       "      <td>staples</td>\n",
       "      <td>NaN</td>\n",
       "      <td>2292881.0</td>\n",
       "      <td>7.0</td>\n",
       "      <td>Typed Input</td>\n",
       "      <td>...</td>\n",
       "      <td>NaN</td>\n",
       "      <td>NaN</td>\n",
       "      <td>NaN</td>\n",
       "      <td>NaN</td>\n",
       "      <td>NaN</td>\n",
       "      <td>NaN</td>\n",
       "      <td>NaN</td>\n",
       "      <td>NaN</td>\n",
       "      <td>NaN</td>\n",
       "      <td>NaN</td>\n",
       "    </tr>\n",
       "    <tr>\n",
       "      <th>1</th>\n",
       "      <td>Enterprise</td>\n",
       "      <td>00000000-0000-0000-0000-000000000000</td>\n",
       "      <td>Web</td>\n",
       "      <td>8141.0</td>\n",
       "      <td>staples</td>\n",
       "      <td>staples</td>\n",
       "      <td>NaN</td>\n",
       "      <td>2330416.0</td>\n",
       "      <td>2.0</td>\n",
       "      <td>Typed Input</td>\n",
       "      <td>...</td>\n",
       "      <td>NaN</td>\n",
       "      <td>NaN</td>\n",
       "      <td>NaN</td>\n",
       "      <td>NaN</td>\n",
       "      <td>NaN</td>\n",
       "      <td>NaN</td>\n",
       "      <td>NaN</td>\n",
       "      <td>NaN</td>\n",
       "      <td>NaN</td>\n",
       "      <td>NaN</td>\n",
       "    </tr>\n",
       "    <tr>\n",
       "      <th>2</th>\n",
       "      <td>Enterprise</td>\n",
       "      <td>00000000-0000-0000-0000-000000000000</td>\n",
       "      <td>Web</td>\n",
       "      <td>8141.0</td>\n",
       "      <td>staples</td>\n",
       "      <td>staples</td>\n",
       "      <td>NaN</td>\n",
       "      <td>2615890.0</td>\n",
       "      <td>2.0</td>\n",
       "      <td>Typed Input</td>\n",
       "      <td>...</td>\n",
       "      <td>NaN</td>\n",
       "      <td>NaN</td>\n",
       "      <td>NaN</td>\n",
       "      <td>NaN</td>\n",
       "      <td>NaN</td>\n",
       "      <td>NaN</td>\n",
       "      <td>NaN</td>\n",
       "      <td>NaN</td>\n",
       "      <td>NaN</td>\n",
       "      <td>NaN</td>\n",
       "    </tr>\n",
       "    <tr>\n",
       "      <th>3</th>\n",
       "      <td>Enterprise</td>\n",
       "      <td>00000000-0000-0000-0000-000000000000</td>\n",
       "      <td>Web</td>\n",
       "      <td>8141.0</td>\n",
       "      <td>staples</td>\n",
       "      <td>staples</td>\n",
       "      <td>NaN</td>\n",
       "      <td>1332591.0</td>\n",
       "      <td>2.0</td>\n",
       "      <td>Typed Input</td>\n",
       "      <td>...</td>\n",
       "      <td>NaN</td>\n",
       "      <td>NaN</td>\n",
       "      <td>NaN</td>\n",
       "      <td>NaN</td>\n",
       "      <td>NaN</td>\n",
       "      <td>NaN</td>\n",
       "      <td>NaN</td>\n",
       "      <td>NaN</td>\n",
       "      <td>NaN</td>\n",
       "      <td>NaN</td>\n",
       "    </tr>\n",
       "    <tr>\n",
       "      <th>4</th>\n",
       "      <td>Enterprise</td>\n",
       "      <td>00000000-0000-0000-0000-000000000000</td>\n",
       "      <td>Web</td>\n",
       "      <td>8141.0</td>\n",
       "      <td>staples</td>\n",
       "      <td>staples</td>\n",
       "      <td>NaN</td>\n",
       "      <td>2421907.0</td>\n",
       "      <td>2.0</td>\n",
       "      <td>Typed Input</td>\n",
       "      <td>...</td>\n",
       "      <td>NaN</td>\n",
       "      <td>NaN</td>\n",
       "      <td>NaN</td>\n",
       "      <td>NaN</td>\n",
       "      <td>NaN</td>\n",
       "      <td>NaN</td>\n",
       "      <td>NaN</td>\n",
       "      <td>NaN</td>\n",
       "      <td>NaN</td>\n",
       "      <td>NaN</td>\n",
       "    </tr>\n",
       "  </tbody>\n",
       "</table>\n",
       "<p>5 rows × 170 columns</p>\n",
       "</div>"
      ],
      "text/plain": [
       "  agent_entitlement_client_name          agent_entitlement_access_key channel  \\\n",
       "0                    Enterprise  00000000-0000-0000-0000-000000000000     Web   \n",
       "1                    Enterprise  00000000-0000-0000-0000-000000000000     Web   \n",
       "2                    Enterprise  00000000-0000-0000-0000-000000000000     Web   \n",
       "3                    Enterprise  00000000-0000-0000-0000-000000000000     Web   \n",
       "4                    Enterprise  00000000-0000-0000-0000-000000000000     Web   \n",
       "\n",
       "   companytracking_clientid companytracking_companyid  \\\n",
       "0                    8141.0                   staples   \n",
       "1                    8141.0                   staples   \n",
       "2                    8141.0                   staples   \n",
       "3                    8141.0                   staples   \n",
       "4                    8141.0                   staples   \n",
       "\n",
       "  companytracking_companyname  companytracking_multitenantid   entry_id  \\\n",
       "0                     staples                            NaN  2292881.0   \n",
       "1                     staples                            NaN  2330416.0   \n",
       "2                     staples                            NaN  2615890.0   \n",
       "3                     staples                            NaN  1332591.0   \n",
       "4                     staples                            NaN  2421907.0   \n",
       "\n",
       "   entry_order   entry_type  ... load_timestamp source_system_code  \\\n",
       "0          7.0  Typed Input  ...            NaN                NaN   \n",
       "1          2.0  Typed Input  ...            NaN                NaN   \n",
       "2          2.0  Typed Input  ...            NaN                NaN   \n",
       "3          2.0  Typed Input  ...            NaN                NaN   \n",
       "4          2.0  Typed Input  ...            NaN                NaN   \n",
       "\n",
       "  mobile_app_device_type page_load_elapsed_time mobile_app_type  \\\n",
       "0                    NaN                    NaN             NaN   \n",
       "1                    NaN                    NaN             NaN   \n",
       "2                    NaN                    NaN             NaN   \n",
       "3                    NaN                    NaN             NaN   \n",
       "4                    NaN                    NaN             NaN   \n",
       "\n",
       "  session_create_date_cst_timezone_partition platform_id_y search_text  \\\n",
       "0                                        NaN           NaN         NaN   \n",
       "1                                        NaN           NaN         NaN   \n",
       "2                                        NaN           NaN         NaN   \n",
       "3                                        NaN           NaN         NaN   \n",
       "4                                        NaN           NaN         NaN   \n",
       "\n",
       "  search_results  session_created_timestamp  \n",
       "0            NaN                        NaN  \n",
       "1            NaN                        NaN  \n",
       "2            NaN                        NaN  \n",
       "3            NaN                        NaN  \n",
       "4            NaN                        NaN  \n",
       "\n",
       "[5 rows x 170 columns]"
      ]
     },
     "execution_count": 5,
     "metadata": {},
     "output_type": "execute_result"
    }
   ],
   "source": [
    "df_combined_web_iva_search.head()"
   ]
  },
  {
   "cell_type": "code",
   "execution_count": 6,
   "metadata": {},
   "outputs": [],
   "source": [
    "# df_combined_web_iva_search.columns.to_list()"
   ]
  },
  {
   "cell_type": "code",
   "execution_count": 7,
   "metadata": {},
   "outputs": [],
   "source": [
    "df_combined_web_iva_search['session_start_cst'] = pd.to_datetime(df_combined_web_iva_search['session_start_cst'])"
   ]
  },
  {
   "cell_type": "code",
   "execution_count": 8,
   "metadata": {},
   "outputs": [
    {
     "data": {
      "text/plain": [
       "(Timestamp('2017-09-16 10:00:50'), Timestamp('2023-03-26 22:31:18'))"
      ]
     },
     "execution_count": 8,
     "metadata": {},
     "output_type": "execute_result"
    }
   ],
   "source": [
    "df_combined_web_iva_search['session_start_cst'].min(), df_combined_web_iva_search['session_start_cst'].max()"
   ]
  },
  {
   "cell_type": "code",
   "execution_count": 9,
   "metadata": {},
   "outputs": [
    {
     "data": {
      "text/plain": [
       "(1245878, 170)"
      ]
     },
     "execution_count": 9,
     "metadata": {},
     "output_type": "execute_result"
    }
   ],
   "source": [
    "df_combined_web_iva_search.shape\n"
   ]
  },
  {
   "cell_type": "code",
   "execution_count": 10,
   "metadata": {},
   "outputs": [
    {
     "data": {
      "text/html": [
       "<div>\n",
       "<style scoped>\n",
       "    .dataframe tbody tr th:only-of-type {\n",
       "        vertical-align: middle;\n",
       "    }\n",
       "\n",
       "    .dataframe tbody tr th {\n",
       "        vertical-align: top;\n",
       "    }\n",
       "\n",
       "    .dataframe thead th {\n",
       "        text-align: right;\n",
       "    }\n",
       "</style>\n",
       "<table border=\"1\" class=\"dataframe\">\n",
       "  <thead>\n",
       "    <tr style=\"text-align: right;\">\n",
       "      <th></th>\n",
       "      <th>input</th>\n",
       "      <th>page_name</th>\n",
       "      <th>search_text</th>\n",
       "      <th>session_start_cst</th>\n",
       "    </tr>\n",
       "  </thead>\n",
       "  <tbody>\n",
       "    <tr>\n",
       "      <th>0</th>\n",
       "      <td>step child a dependent?</td>\n",
       "      <td>NaN</td>\n",
       "      <td>NaN</td>\n",
       "      <td>2017-12-05 21:48:56</td>\n",
       "    </tr>\n",
       "  </tbody>\n",
       "</table>\n",
       "</div>"
      ],
      "text/plain": [
       "                     input page_name search_text   session_start_cst\n",
       "0  step child a dependent?       NaN         NaN 2017-12-05 21:48:56"
      ]
     },
     "execution_count": 10,
     "metadata": {},
     "output_type": "execute_result"
    }
   ],
   "source": [
    "df_combined_web_iva_search = df_combined_web_iva_search[['input','page_name','search_text', 'session_start_cst']]\n",
    "df_combined_web_iva_search.head(1)"
   ]
  },
  {
   "cell_type": "code",
   "execution_count": 11,
   "metadata": {},
   "outputs": [],
   "source": [
    "df_combined_web_iva_search.drop_duplicates(inplace=True)"
   ]
  },
  {
   "cell_type": "code",
   "execution_count": 12,
   "metadata": {},
   "outputs": [
    {
     "data": {
      "text/plain": [
       "(162161, 4)"
      ]
     },
     "execution_count": 12,
     "metadata": {},
     "output_type": "execute_result"
    }
   ],
   "source": [
    "df_combined_web_iva_search.shape"
   ]
  },
  {
   "cell_type": "code",
   "execution_count": 13,
   "metadata": {},
   "outputs": [],
   "source": [
    "# df_combined_web_iva_search.head()"
   ]
  },
  {
   "cell_type": "code",
   "execution_count": 14,
   "metadata": {},
   "outputs": [],
   "source": [
    "monthly_counts_1 = df_combined_web_iva_search.resample('M', on='session_start_cst').count()"
   ]
  },
  {
   "cell_type": "code",
   "execution_count": 15,
   "metadata": {},
   "outputs": [
    {
     "data": {
      "text/html": [
       "<div>\n",
       "<style scoped>\n",
       "    .dataframe tbody tr th:only-of-type {\n",
       "        vertical-align: middle;\n",
       "    }\n",
       "\n",
       "    .dataframe tbody tr th {\n",
       "        vertical-align: top;\n",
       "    }\n",
       "\n",
       "    .dataframe thead th {\n",
       "        text-align: right;\n",
       "    }\n",
       "</style>\n",
       "<table border=\"1\" class=\"dataframe\">\n",
       "  <thead>\n",
       "    <tr style=\"text-align: right;\">\n",
       "      <th></th>\n",
       "      <th>input</th>\n",
       "      <th>page_name</th>\n",
       "      <th>search_text</th>\n",
       "      <th>session_start_cst</th>\n",
       "    </tr>\n",
       "    <tr>\n",
       "      <th>session_start_cst</th>\n",
       "      <th></th>\n",
       "      <th></th>\n",
       "      <th></th>\n",
       "      <th></th>\n",
       "    </tr>\n",
       "  </thead>\n",
       "  <tbody>\n",
       "    <tr>\n",
       "      <th>2017-09-30</th>\n",
       "      <td>428</td>\n",
       "      <td>0</td>\n",
       "      <td>0</td>\n",
       "      <td>428</td>\n",
       "    </tr>\n",
       "    <tr>\n",
       "      <th>2017-10-31</th>\n",
       "      <td>4604</td>\n",
       "      <td>0</td>\n",
       "      <td>0</td>\n",
       "      <td>4604</td>\n",
       "    </tr>\n",
       "    <tr>\n",
       "      <th>2017-11-30</th>\n",
       "      <td>4446</td>\n",
       "      <td>0</td>\n",
       "      <td>0</td>\n",
       "      <td>4446</td>\n",
       "    </tr>\n",
       "    <tr>\n",
       "      <th>2017-12-31</th>\n",
       "      <td>767</td>\n",
       "      <td>0</td>\n",
       "      <td>0</td>\n",
       "      <td>767</td>\n",
       "    </tr>\n",
       "    <tr>\n",
       "      <th>2018-01-31</th>\n",
       "      <td>1216</td>\n",
       "      <td>3</td>\n",
       "      <td>1</td>\n",
       "      <td>1216</td>\n",
       "    </tr>\n",
       "    <tr>\n",
       "      <th>...</th>\n",
       "      <td>...</td>\n",
       "      <td>...</td>\n",
       "      <td>...</td>\n",
       "      <td>...</td>\n",
       "    </tr>\n",
       "    <tr>\n",
       "      <th>2022-11-30</th>\n",
       "      <td>4619</td>\n",
       "      <td>841</td>\n",
       "      <td>457</td>\n",
       "      <td>4619</td>\n",
       "    </tr>\n",
       "    <tr>\n",
       "      <th>2022-12-31</th>\n",
       "      <td>2707</td>\n",
       "      <td>921</td>\n",
       "      <td>443</td>\n",
       "      <td>2707</td>\n",
       "    </tr>\n",
       "    <tr>\n",
       "      <th>2023-01-31</th>\n",
       "      <td>4404</td>\n",
       "      <td>1908</td>\n",
       "      <td>963</td>\n",
       "      <td>4404</td>\n",
       "    </tr>\n",
       "    <tr>\n",
       "      <th>2023-02-28</th>\n",
       "      <td>2909</td>\n",
       "      <td>1129</td>\n",
       "      <td>493</td>\n",
       "      <td>2909</td>\n",
       "    </tr>\n",
       "    <tr>\n",
       "      <th>2023-03-31</th>\n",
       "      <td>3536</td>\n",
       "      <td>899</td>\n",
       "      <td>495</td>\n",
       "      <td>3536</td>\n",
       "    </tr>\n",
       "  </tbody>\n",
       "</table>\n",
       "<p>67 rows × 4 columns</p>\n",
       "</div>"
      ],
      "text/plain": [
       "                   input  page_name  search_text  session_start_cst\n",
       "session_start_cst                                                  \n",
       "2017-09-30           428          0            0                428\n",
       "2017-10-31          4604          0            0               4604\n",
       "2017-11-30          4446          0            0               4446\n",
       "2017-12-31           767          0            0                767\n",
       "2018-01-31          1216          3            1               1216\n",
       "...                  ...        ...          ...                ...\n",
       "2022-11-30          4619        841          457               4619\n",
       "2022-12-31          2707        921          443               2707\n",
       "2023-01-31          4404       1908          963               4404\n",
       "2023-02-28          2909       1129          493               2909\n",
       "2023-03-31          3536        899          495               3536\n",
       "\n",
       "[67 rows x 4 columns]"
      ]
     },
     "execution_count": 15,
     "metadata": {},
     "output_type": "execute_result"
    }
   ],
   "source": [
    "monthly_counts_1"
   ]
  },
  {
   "cell_type": "markdown",
   "metadata": {},
   "source": [
    "## fillna and lower"
   ]
  },
  {
   "cell_type": "code",
   "execution_count": 16,
   "metadata": {},
   "outputs": [],
   "source": [
    "\n",
    "df_combined_web_iva_search['input'] = df_combined_web_iva_search['input'].fillna('unk').str.lower()\n",
    "df_combined_web_iva_search['page_name'] = df_combined_web_iva_search['page_name'].fillna('unk').str.lower()\n",
    "df_combined_web_iva_search['search_text'] = df_combined_web_iva_search['search_text'].fillna('unk').str.lower()"
   ]
  },
  {
   "cell_type": "code",
   "execution_count": 17,
   "metadata": {},
   "outputs": [
    {
     "name": "stderr",
     "output_type": "stream",
     "text": [
      "/tmp/ipykernel_20738/4280315942.py:8: UserWarning: This pattern is interpreted as a regular expression, and has match groups. To actually get the groups, use str.extract.\n",
      "  mask = ((df_combined_web_iva_search['input'].str.contains(r'\\b(' + '|'.join(words_2) + r')\\b', case=False, na=False)) |\n",
      "/tmp/ipykernel_20738/4280315942.py:9: UserWarning: This pattern is interpreted as a regular expression, and has match groups. To actually get the groups, use str.extract.\n",
      "  (df_combined_web_iva_search['page_name'].str.contains(r'\\b(' + '|'.join(words_2) + r')\\b', case=False, na=False)) |\n",
      "/tmp/ipykernel_20738/4280315942.py:10: UserWarning: This pattern is interpreted as a regular expression, and has match groups. To actually get the groups, use str.extract.\n",
      "  (df_combined_web_iva_search['search_text'].str.contains(r'\\b(' + '|'.join(words_2) + r')\\b', case=False, na=False)))\n"
     ]
    },
    {
     "data": {
      "text/html": [
       "<div>\n",
       "<style scoped>\n",
       "    .dataframe tbody tr th:only-of-type {\n",
       "        vertical-align: middle;\n",
       "    }\n",
       "\n",
       "    .dataframe tbody tr th {\n",
       "        vertical-align: top;\n",
       "    }\n",
       "\n",
       "    .dataframe thead th {\n",
       "        text-align: right;\n",
       "    }\n",
       "</style>\n",
       "<table border=\"1\" class=\"dataframe\">\n",
       "  <thead>\n",
       "    <tr style=\"text-align: right;\">\n",
       "      <th></th>\n",
       "      <th>input</th>\n",
       "      <th>page_name</th>\n",
       "      <th>search_text</th>\n",
       "      <th>session_start_cst</th>\n",
       "      <th>category</th>\n",
       "    </tr>\n",
       "  </thead>\n",
       "  <tbody>\n",
       "    <tr>\n",
       "      <th>0</th>\n",
       "      <td>step child a dependent?</td>\n",
       "      <td>unk</td>\n",
       "      <td>unk</td>\n",
       "      <td>2017-12-05 21:48:56</td>\n",
       "      <td>Other</td>\n",
       "    </tr>\n",
       "    <tr>\n",
       "      <th>1</th>\n",
       "      <td>how do i change my dependent daycare deduction</td>\n",
       "      <td>unk</td>\n",
       "      <td>unk</td>\n",
       "      <td>2017-12-11 09:45:09</td>\n",
       "      <td>Other</td>\n",
       "    </tr>\n",
       "    <tr>\n",
       "      <th>2</th>\n",
       "      <td>child last name change</td>\n",
       "      <td>unk</td>\n",
       "      <td>unk</td>\n",
       "      <td>2018-01-22 08:12:28</td>\n",
       "      <td>Other</td>\n",
       "    </tr>\n",
       "    <tr>\n",
       "      <th>3</th>\n",
       "      <td>i am trying to add my children as beneficiarie...</td>\n",
       "      <td>unk</td>\n",
       "      <td>unk</td>\n",
       "      <td>2017-10-15 10:34:01</td>\n",
       "      <td>Other</td>\n",
       "    </tr>\n",
       "    <tr>\n",
       "      <th>4</th>\n",
       "      <td>how much timeoff do i get after the birth of m...</td>\n",
       "      <td>unk</td>\n",
       "      <td>unk</td>\n",
       "      <td>2017-12-29 10:46:58</td>\n",
       "      <td>Other</td>\n",
       "    </tr>\n",
       "  </tbody>\n",
       "</table>\n",
       "</div>"
      ],
      "text/plain": [
       "                                               input page_name search_text  \\\n",
       "0                            step child a dependent?       unk         unk   \n",
       "1     how do i change my dependent daycare deduction       unk         unk   \n",
       "2                             child last name change       unk         unk   \n",
       "3  i am trying to add my children as beneficiarie...       unk         unk   \n",
       "4  how much timeoff do i get after the birth of m...       unk         unk   \n",
       "\n",
       "    session_start_cst category  \n",
       "0 2017-12-05 21:48:56    Other  \n",
       "1 2017-12-11 09:45:09    Other  \n",
       "2 2018-01-22 08:12:28    Other  \n",
       "3 2017-10-15 10:34:01    Other  \n",
       "4 2017-12-29 10:46:58    Other  "
      ]
     },
     "execution_count": 17,
     "metadata": {},
     "output_type": "execute_result"
    }
   ],
   "source": [
    "words_1 = ['day care', 'creche', 'child care', \n",
    " 'nursery', 'nursery school', 'preschool', 'after-school care', 'day nursery', 'infant school', \n",
    " 'infant care', 'playschool', 'play-group', 'kindergarten', 'childminding', 'babysitting', 'babysitter', \n",
    " 'nanny care', 'children supervision', 'toddler care']\n",
    "words_2 = [word.lower() for word in words_1]\n",
    "\n",
    "\n",
    "mask = ((df_combined_web_iva_search['input'].str.contains(r'\\b(' + '|'.join(words_2) + r')\\b', case=False, na=False)) |\n",
    "        (df_combined_web_iva_search['page_name'].str.contains(r'\\b(' + '|'.join(words_2) + r')\\b', case=False, na=False)) |\n",
    "        (df_combined_web_iva_search['search_text'].str.contains(r'\\b(' + '|'.join(words_2) + r')\\b', case=False, na=False)))\n",
    "\n",
    "df_combined_web_iva_search['category'] = ''\n",
    "df_combined_web_iva_search.loc[mask, 'category'] = 'Child care'\n",
    "df_combined_web_iva_search.loc[df_combined_web_iva_search['category'] == '', 'category'] = 'Other'\n",
    "\n",
    "df_combined_web_iva_search.head(5)"
   ]
  },
  {
   "cell_type": "code",
   "execution_count": 18,
   "metadata": {},
   "outputs": [
    {
     "data": {
      "text/plain": [
       "Index(['input', 'page_name', 'search_text', 'session_start_cst', 'category'], dtype='object')"
      ]
     },
     "execution_count": 18,
     "metadata": {},
     "output_type": "execute_result"
    }
   ],
   "source": [
    "df_combined_web_iva_search.columns"
   ]
  },
  {
   "cell_type": "code",
   "execution_count": 19,
   "metadata": {},
   "outputs": [
    {
     "data": {
      "text/plain": [
       "(162161, 5)"
      ]
     },
     "execution_count": 19,
     "metadata": {},
     "output_type": "execute_result"
    }
   ],
   "source": [
    "df_combined_web_iva_search.shape"
   ]
  },
  {
   "cell_type": "code",
   "execution_count": 20,
   "metadata": {},
   "outputs": [
    {
     "data": {
      "text/plain": [
       "(Other         0.786317\n",
       " Child care    0.213683\n",
       " Name: category, dtype: float64,\n",
       " Other         127510\n",
       " Child care     34651\n",
       " Name: category, dtype: int64)"
      ]
     },
     "execution_count": 20,
     "metadata": {},
     "output_type": "execute_result"
    }
   ],
   "source": [
    "df_combined_web_iva_search.category.value_counts(normalize=True), df_combined_web_iva_search.category.value_counts()"
   ]
  },
  {
   "cell_type": "code",
   "execution_count": 21,
   "metadata": {},
   "outputs": [
    {
     "data": {
      "text/plain": [
       "(Other         0.5\n",
       " Child care    0.5\n",
       " Name: category, dtype: float64,\n",
       " Other         34651\n",
       " Child care    34651\n",
       " Name: category, dtype: int64)"
      ]
     },
     "execution_count": 21,
     "metadata": {},
     "output_type": "execute_result"
    }
   ],
   "source": [
    "no_of_child_care = df_combined_web_iva_search[df_combined_web_iva_search['category']=='Child care'].shape[0]\n",
    "\n",
    "df_combined_web_iva_search = pd.concat([df_combined_web_iva_search[df_combined_web_iva_search['category']=='Child care'],\n",
    "                                        df_combined_web_iva_search[df_combined_web_iva_search['category']=='Other'].sample(\n",
    "                                            no_of_child_care)\n",
    "                                        ]).sample(frac=1, random_state=42)\n",
    "\n",
    "df_combined_web_iva_search.category.value_counts(normalize=True), df_combined_web_iva_search.category.value_counts()"
   ]
  },
  {
   "cell_type": "code",
   "execution_count": 22,
   "metadata": {},
   "outputs": [
    {
     "data": {
      "text/plain": [
       "(69302, 5)"
      ]
     },
     "execution_count": 22,
     "metadata": {},
     "output_type": "execute_result"
    }
   ],
   "source": [
    "df_combined_web_iva_search.shape"
   ]
  },
  {
   "cell_type": "markdown",
   "metadata": {},
   "source": [
    "### text preprocess"
   ]
  },
  {
   "cell_type": "code",
   "execution_count": 23,
   "metadata": {},
   "outputs": [],
   "source": [
    "def count_intnt_entits(text):\n",
    "    doc = nlp(text)\n",
    "    intents = [token.text for token in doc if token.pos_ == 'VERB']\n",
    "    entities = [token.text for token in doc if token.pos_ in {'NOUN', 'PROPN', 'ADJ', 'NUM', 'ADV'}]\n",
    "    return len(intents), len(entities)\n",
    "\n",
    "import re\n",
    "def clean_text(text):\n",
    "    clean_text = re.sub(r'[^\\w\\s]', '', text)\n",
    "    return clean_text\n",
    "\n",
    "def extract_ner_entities(sentence):\n",
    "    doc = nlp(sentence)\n",
    "    entities = [(entity.text, entity.label_) for entity in doc.ents]\n",
    "    return entities\n",
    "\n",
    "import numpy as np\n",
    "def length_entities(list_entities):\n",
    "    if (list_entities==np.nan or list_entities==None or list_entities==''):\n",
    "        return 0\n",
    "    else:\n",
    "        return len(list_entities)\n",
    "    \n",
    "# filter_func = lambda x: any(item[1] in [\"PERSON\", \"GPE\", \"ORG\", \"LOC\", \"FAC\"] for item in x)\n",
    "def filter_named_entities(text):\n",
    "    # Process the text using Spacy\n",
    "    doc = nlp(text)\n",
    "    # Filter out named entities (ORG, PERSON, and GPE tags)\n",
    "    filtered_words = [token.text for token in doc if token.ent_type_ not in ['ORG', 'PERSON', 'GPE', \"LOC\", \"FAC\"]]\n",
    "    # Join the filtered words back into a string\n",
    "    filtered_text = ' '.join(filtered_words)\n",
    "    return filtered_text"
   ]
  },
  {
   "cell_type": "code",
   "execution_count": 24,
   "metadata": {},
   "outputs": [],
   "source": [
    "import re\n",
    "    \n",
    "list_1 = ['ira','RMD','HRdirect','livechat','what is my hsa','P45','Payslip?',\n",
    "    'sps','F80.2','ub','What is YSA','Paystub please','Sh','mfv','C-128','ax','no is hsa','FormL564','HIS','cif','GreT','YSACard',\n",
    "    'Heli','RxPCN','403(b)','Hsa yes or no','ypr','Gv','ONA?','What is UHC?','HC-2','uo','what is 4DX?','osh','what is my hsa?',\n",
    "    'sPRAVATO','sdr','RMD’s','coverage?How','This is for my hsa','pto?','A&DD','childcareplus','fs','mbi','Is that my lowesbenefit.com',\n",
    "    'hra yes','mri?']\n",
    "\n",
    "def text_preprocess(dataframe, list_1):\n",
    "    dataframe = dataframe.drop_duplicates()\n",
    "    dataframe[['no_of_intents', 'no_of_entities']] = dataframe.apply(lambda x: pd.Series(count_intnt_entits(x['input'])), axis=1)  \n",
    "    dataframe['input_cleaned'] = ''\n",
    "    dataframe.loc[dataframe['input'].notnull(), 'input_cleaned'] = dataframe.loc[dataframe['input'].notnull(), 'input'].apply(clean_text)\n",
    "    dataframe.loc[dataframe['page_name'].notnull(), 'page_name_cleaned'] = dataframe.loc[dataframe['page_name'].notnull(), 'page_name'].apply(clean_text)\n",
    "    dataframe.loc[dataframe['search_text'].notnull(), 'search_text_cleaned'] = dataframe.loc[dataframe['search_text'].notnull(), 'search_text'].apply(clean_text)\n",
    "    dataframe['ner_enities'] = ''\n",
    "    dataframe.loc[dataframe['input_cleaned']!='', 'ner_enities'] = dataframe.loc[dataframe['input_cleaned']!='', 'input_cleaned'].apply(extract_ner_entities)\n",
    "    dataframe['len_ner_enities'] = dataframe['ner_enities'].apply(length_entities)\n",
    "    dataframe3 = dataframe[dataframe['len_ner_enities']>0]\n",
    "    dataframe3['input_cleaned'] = dataframe3['input_cleaned'].apply(filter_named_entities)\n",
    "    dataframe6 = pd.concat([dataframe[dataframe['len_ner_enities']==0], dataframe3], axis = 0)\n",
    "    dataframe6 = dataframe6.drop(['no_of_intents','no_of_entities','ner_enities','len_ner_enities'], axis=1)\n",
    "    dataframe6['input_changed']=dataframe6['input']!=dataframe6['input_cleaned']\n",
    "    dataframe6['page_name_changed']=dataframe6['page_name']!=dataframe6['page_name_cleaned']\n",
    "    dataframe6['search_text_changed']=dataframe6['search_text']!=dataframe6['search_text_cleaned']\n",
    "    \n",
    "    return dataframe6"
   ]
  },
  {
   "cell_type": "code",
   "execution_count": 25,
   "metadata": {},
   "outputs": [
    {
     "name": "stderr",
     "output_type": "stream",
     "text": [
      "/tmp/ipykernel_20738/1333681925.py:11: SettingWithCopyWarning: \n",
      "A value is trying to be set on a copy of a slice from a DataFrame.\n",
      "Try using .loc[row_indexer,col_indexer] = value instead\n",
      "\n",
      "See the caveats in the documentation: https://pandas.pydata.org/pandas-docs/stable/user_guide/indexing.html#returning-a-view-versus-a-copy\n",
      "  dataframe[['no_of_intents', 'no_of_entities']] = dataframe.apply(lambda x: pd.Series(count_intnt_entits(x['input'])), axis=1)\n",
      "/tmp/ipykernel_20738/1333681925.py:11: SettingWithCopyWarning: \n",
      "A value is trying to be set on a copy of a slice from a DataFrame.\n",
      "Try using .loc[row_indexer,col_indexer] = value instead\n",
      "\n",
      "See the caveats in the documentation: https://pandas.pydata.org/pandas-docs/stable/user_guide/indexing.html#returning-a-view-versus-a-copy\n",
      "  dataframe[['no_of_intents', 'no_of_entities']] = dataframe.apply(lambda x: pd.Series(count_intnt_entits(x['input'])), axis=1)\n",
      "/tmp/ipykernel_20738/1333681925.py:12: SettingWithCopyWarning: \n",
      "A value is trying to be set on a copy of a slice from a DataFrame.\n",
      "Try using .loc[row_indexer,col_indexer] = value instead\n",
      "\n",
      "See the caveats in the documentation: https://pandas.pydata.org/pandas-docs/stable/user_guide/indexing.html#returning-a-view-versus-a-copy\n",
      "  dataframe['input_cleaned'] = ''\n",
      "/tmp/ipykernel_20738/1333681925.py:13: SettingWithCopyWarning: \n",
      "A value is trying to be set on a copy of a slice from a DataFrame.\n",
      "Try using .loc[row_indexer,col_indexer] = value instead\n",
      "\n",
      "See the caveats in the documentation: https://pandas.pydata.org/pandas-docs/stable/user_guide/indexing.html#returning-a-view-versus-a-copy\n",
      "  dataframe.loc[dataframe['input'].notnull(), 'input_cleaned'] = dataframe.loc[dataframe['input'].notnull(), 'input'].apply(clean_text)\n",
      "/tmp/ipykernel_20738/1333681925.py:14: SettingWithCopyWarning: \n",
      "A value is trying to be set on a copy of a slice from a DataFrame.\n",
      "Try using .loc[row_indexer,col_indexer] = value instead\n",
      "\n",
      "See the caveats in the documentation: https://pandas.pydata.org/pandas-docs/stable/user_guide/indexing.html#returning-a-view-versus-a-copy\n",
      "  dataframe.loc[dataframe['page_name'].notnull(), 'page_name_cleaned'] = dataframe.loc[dataframe['page_name'].notnull(), 'page_name'].apply(clean_text)\n",
      "/tmp/ipykernel_20738/1333681925.py:15: SettingWithCopyWarning: \n",
      "A value is trying to be set on a copy of a slice from a DataFrame.\n",
      "Try using .loc[row_indexer,col_indexer] = value instead\n",
      "\n",
      "See the caveats in the documentation: https://pandas.pydata.org/pandas-docs/stable/user_guide/indexing.html#returning-a-view-versus-a-copy\n",
      "  dataframe.loc[dataframe['search_text'].notnull(), 'search_text_cleaned'] = dataframe.loc[dataframe['search_text'].notnull(), 'search_text'].apply(clean_text)\n",
      "/tmp/ipykernel_20738/1333681925.py:16: SettingWithCopyWarning: \n",
      "A value is trying to be set on a copy of a slice from a DataFrame.\n",
      "Try using .loc[row_indexer,col_indexer] = value instead\n",
      "\n",
      "See the caveats in the documentation: https://pandas.pydata.org/pandas-docs/stable/user_guide/indexing.html#returning-a-view-versus-a-copy\n",
      "  dataframe['ner_enities'] = ''\n",
      "/tmp/ipykernel_20738/1333681925.py:17: SettingWithCopyWarning: \n",
      "A value is trying to be set on a copy of a slice from a DataFrame.\n",
      "Try using .loc[row_indexer,col_indexer] = value instead\n",
      "\n",
      "See the caveats in the documentation: https://pandas.pydata.org/pandas-docs/stable/user_guide/indexing.html#returning-a-view-versus-a-copy\n",
      "  dataframe.loc[dataframe['input_cleaned']!='', 'ner_enities'] = dataframe.loc[dataframe['input_cleaned']!='', 'input_cleaned'].apply(extract_ner_entities)\n",
      "/tmp/ipykernel_20738/1333681925.py:18: SettingWithCopyWarning: \n",
      "A value is trying to be set on a copy of a slice from a DataFrame.\n",
      "Try using .loc[row_indexer,col_indexer] = value instead\n",
      "\n",
      "See the caveats in the documentation: https://pandas.pydata.org/pandas-docs/stable/user_guide/indexing.html#returning-a-view-versus-a-copy\n",
      "  dataframe['len_ner_enities'] = dataframe['ner_enities'].apply(length_entities)\n",
      "/tmp/ipykernel_20738/1333681925.py:20: SettingWithCopyWarning: \n",
      "A value is trying to be set on a copy of a slice from a DataFrame.\n",
      "Try using .loc[row_indexer,col_indexer] = value instead\n",
      "\n",
      "See the caveats in the documentation: https://pandas.pydata.org/pandas-docs/stable/user_guide/indexing.html#returning-a-view-versus-a-copy\n",
      "  dataframe3['input_cleaned'] = dataframe3['input_cleaned'].apply(filter_named_entities)\n"
     ]
    }
   ],
   "source": [
    "df_combined_cc_model_data_2 = text_preprocess(df_combined_web_iva_search, list_1)"
   ]
  },
  {
   "cell_type": "code",
   "execution_count": 26,
   "metadata": {},
   "outputs": [
    {
     "data": {
      "text/html": [
       "<div>\n",
       "<style scoped>\n",
       "    .dataframe tbody tr th:only-of-type {\n",
       "        vertical-align: middle;\n",
       "    }\n",
       "\n",
       "    .dataframe tbody tr th {\n",
       "        vertical-align: top;\n",
       "    }\n",
       "\n",
       "    .dataframe thead th {\n",
       "        text-align: right;\n",
       "    }\n",
       "</style>\n",
       "<table border=\"1\" class=\"dataframe\">\n",
       "  <thead>\n",
       "    <tr style=\"text-align: right;\">\n",
       "      <th></th>\n",
       "      <th>input</th>\n",
       "      <th>page_name</th>\n",
       "      <th>search_text</th>\n",
       "      <th>session_start_cst</th>\n",
       "      <th>category</th>\n",
       "      <th>input_cleaned</th>\n",
       "      <th>page_name_cleaned</th>\n",
       "      <th>search_text_cleaned</th>\n",
       "      <th>input_changed</th>\n",
       "      <th>page_name_changed</th>\n",
       "      <th>search_text_changed</th>\n",
       "    </tr>\n",
       "  </thead>\n",
       "  <tbody>\n",
       "    <tr>\n",
       "      <th>459783</th>\n",
       "      <td>remove child</td>\n",
       "      <td>unk</td>\n",
       "      <td>unk</td>\n",
       "      <td>2020-12-05 08:49:37</td>\n",
       "      <td>Other</td>\n",
       "      <td>remove child</td>\n",
       "      <td>unk</td>\n",
       "      <td>unk</td>\n",
       "      <td>False</td>\n",
       "      <td>False</td>\n",
       "      <td>False</td>\n",
       "    </tr>\n",
       "    <tr>\n",
       "      <th>130444</th>\n",
       "      <td>adding a child</td>\n",
       "      <td>unk</td>\n",
       "      <td>unk</td>\n",
       "      <td>2020-04-28 11:58:50</td>\n",
       "      <td>Other</td>\n",
       "      <td>adding a child</td>\n",
       "      <td>unk</td>\n",
       "      <td>unk</td>\n",
       "      <td>False</td>\n",
       "      <td>False</td>\n",
       "      <td>False</td>\n",
       "    </tr>\n",
       "    <tr>\n",
       "      <th>217962</th>\n",
       "      <td>added a grandchild</td>\n",
       "      <td>unk</td>\n",
       "      <td>unk</td>\n",
       "      <td>2020-08-04 07:44:42</td>\n",
       "      <td>Other</td>\n",
       "      <td>added a grandchild</td>\n",
       "      <td>unk</td>\n",
       "      <td>unk</td>\n",
       "      <td>False</td>\n",
       "      <td>False</td>\n",
       "      <td>False</td>\n",
       "    </tr>\n",
       "    <tr>\n",
       "      <th>391363</th>\n",
       "      <td>follow up on child addition</td>\n",
       "      <td>unk</td>\n",
       "      <td>unk</td>\n",
       "      <td>2022-01-31 15:39:00</td>\n",
       "      <td>Other</td>\n",
       "      <td>follow up on child addition</td>\n",
       "      <td>unk</td>\n",
       "      <td>unk</td>\n",
       "      <td>False</td>\n",
       "      <td>False</td>\n",
       "      <td>False</td>\n",
       "    </tr>\n",
       "    <tr>\n",
       "      <th>593896</th>\n",
       "      <td>depemdany day care fleible spending account</td>\n",
       "      <td>unk</td>\n",
       "      <td>unk</td>\n",
       "      <td>2019-10-27 13:00:04</td>\n",
       "      <td>Child care</td>\n",
       "      <td>depemdany day care fleible spending account</td>\n",
       "      <td>unk</td>\n",
       "      <td>unk</td>\n",
       "      <td>False</td>\n",
       "      <td>False</td>\n",
       "      <td>False</td>\n",
       "    </tr>\n",
       "    <tr>\n",
       "      <th>495214</th>\n",
       "      <td>it’s telling me i can’t add my child due to so...</td>\n",
       "      <td>unk</td>\n",
       "      <td>unk</td>\n",
       "      <td>2019-10-04 15:17:11</td>\n",
       "      <td>Other</td>\n",
       "      <td>its telling me i cant add my child due to some...</td>\n",
       "      <td>unk</td>\n",
       "      <td>unk</td>\n",
       "      <td>True</td>\n",
       "      <td>False</td>\n",
       "      <td>False</td>\n",
       "    </tr>\n",
       "    <tr>\n",
       "      <th>589327</th>\n",
       "      <td>enrolling in child care plus</td>\n",
       "      <td>unk</td>\n",
       "      <td>unk</td>\n",
       "      <td>2022-01-13 12:45:44</td>\n",
       "      <td>Child care</td>\n",
       "      <td>enrolling in child care plus</td>\n",
       "      <td>unk</td>\n",
       "      <td>unk</td>\n",
       "      <td>False</td>\n",
       "      <td>False</td>\n",
       "      <td>False</td>\n",
       "    </tr>\n",
       "    <tr>\n",
       "      <th>573709</th>\n",
       "      <td>where do i go to request child care reimbursement</td>\n",
       "      <td>/hmcstmchildcarepluslandingpageopen</td>\n",
       "      <td>unk</td>\n",
       "      <td>2019-02-21 13:16:24</td>\n",
       "      <td>Child care</td>\n",
       "      <td>where do i go to request child care reimbursement</td>\n",
       "      <td>hmcstmchildcarepluslandingpageopen</td>\n",
       "      <td>unk</td>\n",
       "      <td>False</td>\n",
       "      <td>True</td>\n",
       "      <td>False</td>\n",
       "    </tr>\n",
       "    <tr>\n",
       "      <th>565231</th>\n",
       "      <td>benefits eligibility for children</td>\n",
       "      <td>unk</td>\n",
       "      <td>unk</td>\n",
       "      <td>2019-05-08 17:52:09</td>\n",
       "      <td>Other</td>\n",
       "      <td>benefits eligibility for children</td>\n",
       "      <td>unk</td>\n",
       "      <td>unk</td>\n",
       "      <td>False</td>\n",
       "      <td>False</td>\n",
       "      <td>False</td>\n",
       "    </tr>\n",
       "    <tr>\n",
       "      <th>536434</th>\n",
       "      <td>i received a letter that said my childs ssn wa...</td>\n",
       "      <td>unk</td>\n",
       "      <td>unk</td>\n",
       "      <td>2018-12-17 15:35:15</td>\n",
       "      <td>Other</td>\n",
       "      <td>i received a letter that said my childs ssn wa...</td>\n",
       "      <td>unk</td>\n",
       "      <td>unk</td>\n",
       "      <td>False</td>\n",
       "      <td>False</td>\n",
       "      <td>False</td>\n",
       "    </tr>\n",
       "  </tbody>\n",
       "</table>\n",
       "</div>"
      ],
      "text/plain": [
       "                                                    input  \\\n",
       "459783                                       remove child   \n",
       "130444                                     adding a child   \n",
       "217962                                 added a grandchild   \n",
       "391363                        follow up on child addition   \n",
       "593896        depemdany day care fleible spending account   \n",
       "495214  it’s telling me i can’t add my child due to so...   \n",
       "589327                       enrolling in child care plus   \n",
       "573709  where do i go to request child care reimbursement   \n",
       "565231                  benefits eligibility for children   \n",
       "536434  i received a letter that said my childs ssn wa...   \n",
       "\n",
       "                                  page_name search_text   session_start_cst  \\\n",
       "459783                                  unk         unk 2020-12-05 08:49:37   \n",
       "130444                                  unk         unk 2020-04-28 11:58:50   \n",
       "217962                                  unk         unk 2020-08-04 07:44:42   \n",
       "391363                                  unk         unk 2022-01-31 15:39:00   \n",
       "593896                                  unk         unk 2019-10-27 13:00:04   \n",
       "495214                                  unk         unk 2019-10-04 15:17:11   \n",
       "589327                                  unk         unk 2022-01-13 12:45:44   \n",
       "573709  /hmcstmchildcarepluslandingpageopen         unk 2019-02-21 13:16:24   \n",
       "565231                                  unk         unk 2019-05-08 17:52:09   \n",
       "536434                                  unk         unk 2018-12-17 15:35:15   \n",
       "\n",
       "          category                                      input_cleaned  \\\n",
       "459783       Other                                       remove child   \n",
       "130444       Other                                     adding a child   \n",
       "217962       Other                                 added a grandchild   \n",
       "391363       Other                        follow up on child addition   \n",
       "593896  Child care        depemdany day care fleible spending account   \n",
       "495214       Other  its telling me i cant add my child due to some...   \n",
       "589327  Child care                       enrolling in child care plus   \n",
       "573709  Child care  where do i go to request child care reimbursement   \n",
       "565231       Other                  benefits eligibility for children   \n",
       "536434       Other  i received a letter that said my childs ssn wa...   \n",
       "\n",
       "                         page_name_cleaned search_text_cleaned  input_changed  \\\n",
       "459783                                 unk                 unk          False   \n",
       "130444                                 unk                 unk          False   \n",
       "217962                                 unk                 unk          False   \n",
       "391363                                 unk                 unk          False   \n",
       "593896                                 unk                 unk          False   \n",
       "495214                                 unk                 unk           True   \n",
       "589327                                 unk                 unk          False   \n",
       "573709  hmcstmchildcarepluslandingpageopen                 unk          False   \n",
       "565231                                 unk                 unk          False   \n",
       "536434                                 unk                 unk          False   \n",
       "\n",
       "        page_name_changed  search_text_changed  \n",
       "459783              False                False  \n",
       "130444              False                False  \n",
       "217962              False                False  \n",
       "391363              False                False  \n",
       "593896              False                False  \n",
       "495214              False                False  \n",
       "589327              False                False  \n",
       "573709               True                False  \n",
       "565231              False                False  \n",
       "536434              False                False  "
      ]
     },
     "execution_count": 26,
     "metadata": {},
     "output_type": "execute_result"
    }
   ],
   "source": [
    "df_combined_cc_model_data_2.head(10)"
   ]
  },
  {
   "cell_type": "code",
   "execution_count": 27,
   "metadata": {},
   "outputs": [
    {
     "data": {
      "text/plain": [
       "(68401, 11)"
      ]
     },
     "execution_count": 27,
     "metadata": {},
     "output_type": "execute_result"
    }
   ],
   "source": [
    "df_combined_cc_model_data_2.shape"
   ]
  },
  {
   "cell_type": "code",
   "execution_count": 28,
   "metadata": {},
   "outputs": [],
   "source": [
    "# df_combined_ec_model_data_3 = df_combined_ec_model_data_2.drop(['person_id','person_birth_date','person_gender','global_session_id','web_session_id','business_page_name',\n",
    "#                                                                'page_type_code','page_type','page_web_type_description','browser_language','page_process_name',\n",
    "#                                                                 'page_process_detail','person_eeo'], axis =1)\n",
    "\n",
    "df_combined_cc_model_data_3= df_combined_cc_model_data_2"
   ]
  },
  {
   "cell_type": "code",
   "execution_count": 29,
   "metadata": {},
   "outputs": [
    {
     "data": {
      "text/plain": [
       "Index(['input', 'page_name', 'search_text', 'session_start_cst', 'category',\n",
       "       'input_cleaned', 'page_name_cleaned', 'search_text_cleaned',\n",
       "       'input_changed', 'page_name_changed', 'search_text_changed'],\n",
       "      dtype='object')"
      ]
     },
     "execution_count": 29,
     "metadata": {},
     "output_type": "execute_result"
    }
   ],
   "source": [
    "df_combined_cc_model_data_3.columns"
   ]
  },
  {
   "cell_type": "code",
   "execution_count": 30,
   "metadata": {},
   "outputs": [],
   "source": [
    "df_combined_cc_model_data_3 = df_combined_cc_model_data_3[['input_cleaned', 'page_name_cleaned', 'search_text_cleaned',\n",
    "                                                           'session_start_cst', 'category']]"
   ]
  },
  {
   "cell_type": "code",
   "execution_count": 31,
   "metadata": {},
   "outputs": [
    {
     "data": {
      "text/plain": [
       "(68401, 5)"
      ]
     },
     "execution_count": 31,
     "metadata": {},
     "output_type": "execute_result"
    }
   ],
   "source": [
    "df_combined_cc_model_data_3.shape"
   ]
  },
  {
   "cell_type": "code",
   "execution_count": 32,
   "metadata": {},
   "outputs": [
    {
     "data": {
      "text/plain": [
       "Other         34531\n",
       "Child care    33870\n",
       "Name: category, dtype: int64"
      ]
     },
     "execution_count": 32,
     "metadata": {},
     "output_type": "execute_result"
    }
   ],
   "source": [
    "df_combined_cc_model_data_3['category'].value_counts()"
   ]
  },
  {
   "cell_type": "code",
   "execution_count": 33,
   "metadata": {},
   "outputs": [],
   "source": [
    "df_combined_cc_model_data_5 = df_combined_cc_model_data_3.copy()"
   ]
  },
  {
   "cell_type": "markdown",
   "metadata": {},
   "source": [
    "## save unseen data for last few months"
   ]
  },
  {
   "cell_type": "code",
   "execution_count": 34,
   "metadata": {},
   "outputs": [],
   "source": [
    "df_combined_cc_model_data_5['session_start_cst'] = pd.to_datetime(df_combined_cc_model_data_5['session_start_cst'], errors='coerce')"
   ]
  },
  {
   "cell_type": "code",
   "execution_count": 35,
   "metadata": {},
   "outputs": [],
   "source": [
    "monthly_counts_2 = df_combined_cc_model_data_5.resample('M', on='session_start_cst').count()"
   ]
  },
  {
   "cell_type": "code",
   "execution_count": 36,
   "metadata": {},
   "outputs": [
    {
     "data": {
      "text/html": [
       "<div>\n",
       "<style scoped>\n",
       "    .dataframe tbody tr th:only-of-type {\n",
       "        vertical-align: middle;\n",
       "    }\n",
       "\n",
       "    .dataframe tbody tr th {\n",
       "        vertical-align: top;\n",
       "    }\n",
       "\n",
       "    .dataframe thead th {\n",
       "        text-align: right;\n",
       "    }\n",
       "</style>\n",
       "<table border=\"1\" class=\"dataframe\">\n",
       "  <thead>\n",
       "    <tr style=\"text-align: right;\">\n",
       "      <th></th>\n",
       "      <th>input_cleaned</th>\n",
       "      <th>page_name_cleaned</th>\n",
       "      <th>search_text_cleaned</th>\n",
       "      <th>session_start_cst</th>\n",
       "      <th>category</th>\n",
       "    </tr>\n",
       "    <tr>\n",
       "      <th>session_start_cst</th>\n",
       "      <th></th>\n",
       "      <th></th>\n",
       "      <th></th>\n",
       "      <th></th>\n",
       "      <th></th>\n",
       "    </tr>\n",
       "  </thead>\n",
       "  <tbody>\n",
       "    <tr>\n",
       "      <th>2017-09-30</th>\n",
       "      <td>131</td>\n",
       "      <td>131</td>\n",
       "      <td>131</td>\n",
       "      <td>131</td>\n",
       "      <td>131</td>\n",
       "    </tr>\n",
       "    <tr>\n",
       "      <th>2017-10-31</th>\n",
       "      <td>1536</td>\n",
       "      <td>1536</td>\n",
       "      <td>1536</td>\n",
       "      <td>1536</td>\n",
       "      <td>1536</td>\n",
       "    </tr>\n",
       "    <tr>\n",
       "      <th>2017-11-30</th>\n",
       "      <td>1462</td>\n",
       "      <td>1462</td>\n",
       "      <td>1462</td>\n",
       "      <td>1462</td>\n",
       "      <td>1462</td>\n",
       "    </tr>\n",
       "    <tr>\n",
       "      <th>2017-12-31</th>\n",
       "      <td>276</td>\n",
       "      <td>276</td>\n",
       "      <td>276</td>\n",
       "      <td>276</td>\n",
       "      <td>276</td>\n",
       "    </tr>\n",
       "    <tr>\n",
       "      <th>2018-01-31</th>\n",
       "      <td>425</td>\n",
       "      <td>425</td>\n",
       "      <td>425</td>\n",
       "      <td>425</td>\n",
       "      <td>425</td>\n",
       "    </tr>\n",
       "    <tr>\n",
       "      <th>...</th>\n",
       "      <td>...</td>\n",
       "      <td>...</td>\n",
       "      <td>...</td>\n",
       "      <td>...</td>\n",
       "      <td>...</td>\n",
       "    </tr>\n",
       "    <tr>\n",
       "      <th>2022-11-30</th>\n",
       "      <td>1987</td>\n",
       "      <td>1987</td>\n",
       "      <td>1987</td>\n",
       "      <td>1987</td>\n",
       "      <td>1987</td>\n",
       "    </tr>\n",
       "    <tr>\n",
       "      <th>2022-12-31</th>\n",
       "      <td>1432</td>\n",
       "      <td>1432</td>\n",
       "      <td>1432</td>\n",
       "      <td>1432</td>\n",
       "      <td>1432</td>\n",
       "    </tr>\n",
       "    <tr>\n",
       "      <th>2023-01-31</th>\n",
       "      <td>2496</td>\n",
       "      <td>2496</td>\n",
       "      <td>2496</td>\n",
       "      <td>2496</td>\n",
       "      <td>2496</td>\n",
       "    </tr>\n",
       "    <tr>\n",
       "      <th>2023-02-28</th>\n",
       "      <td>1584</td>\n",
       "      <td>1584</td>\n",
       "      <td>1584</td>\n",
       "      <td>1584</td>\n",
       "      <td>1584</td>\n",
       "    </tr>\n",
       "    <tr>\n",
       "      <th>2023-03-31</th>\n",
       "      <td>1870</td>\n",
       "      <td>1870</td>\n",
       "      <td>1870</td>\n",
       "      <td>1870</td>\n",
       "      <td>1870</td>\n",
       "    </tr>\n",
       "  </tbody>\n",
       "</table>\n",
       "<p>67 rows × 5 columns</p>\n",
       "</div>"
      ],
      "text/plain": [
       "                   input_cleaned  page_name_cleaned  search_text_cleaned  \\\n",
       "session_start_cst                                                          \n",
       "2017-09-30                   131                131                  131   \n",
       "2017-10-31                  1536               1536                 1536   \n",
       "2017-11-30                  1462               1462                 1462   \n",
       "2017-12-31                   276                276                  276   \n",
       "2018-01-31                   425                425                  425   \n",
       "...                          ...                ...                  ...   \n",
       "2022-11-30                  1987               1987                 1987   \n",
       "2022-12-31                  1432               1432                 1432   \n",
       "2023-01-31                  2496               2496                 2496   \n",
       "2023-02-28                  1584               1584                 1584   \n",
       "2023-03-31                  1870               1870                 1870   \n",
       "\n",
       "                   session_start_cst  category  \n",
       "session_start_cst                               \n",
       "2017-09-30                       131       131  \n",
       "2017-10-31                      1536      1536  \n",
       "2017-11-30                      1462      1462  \n",
       "2017-12-31                       276       276  \n",
       "2018-01-31                       425       425  \n",
       "...                              ...       ...  \n",
       "2022-11-30                      1987      1987  \n",
       "2022-12-31                      1432      1432  \n",
       "2023-01-31                      2496      2496  \n",
       "2023-02-28                      1584      1584  \n",
       "2023-03-31                      1870      1870  \n",
       "\n",
       "[67 rows x 5 columns]"
      ]
     },
     "execution_count": 36,
     "metadata": {},
     "output_type": "execute_result"
    }
   ],
   "source": [
    "monthly_counts_2"
   ]
  },
  {
   "cell_type": "code",
   "execution_count": 37,
   "metadata": {},
   "outputs": [
    {
     "data": {
      "text/plain": [
       "(68401, 5)"
      ]
     },
     "execution_count": 37,
     "metadata": {},
     "output_type": "execute_result"
    }
   ],
   "source": [
    "df_combined_cc_model_data_5.shape"
   ]
  },
  {
   "cell_type": "code",
   "execution_count": 38,
   "metadata": {},
   "outputs": [
    {
     "data": {
      "text/plain": [
       "Timestamp('2023-03-26 22:31:18')"
      ]
     },
     "execution_count": 38,
     "metadata": {},
     "output_type": "execute_result"
    }
   ],
   "source": [
    "df_combined_cc_model_data_5['session_start_cst'].max()"
   ]
  },
  {
   "cell_type": "code",
   "execution_count": 39,
   "metadata": {},
   "outputs": [],
   "source": [
    "# filterimg last six month data as unseen test data\n",
    "start_date = pd.to_datetime('2022-12-26 00:00:00')\n",
    "end_date = df_combined_cc_model_data_5['session_start_cst'].max()\n",
    "unseen_test_df = df_combined_cc_model_data_5[(df_combined_cc_model_data_5['session_start_cst'] >= start_date) & (df_combined_cc_model_data_5['session_start_cst'] <= end_date)]"
   ]
  },
  {
   "cell_type": "code",
   "execution_count": 40,
   "metadata": {},
   "outputs": [
    {
     "data": {
      "text/plain": [
       "(6223, 5)"
      ]
     },
     "execution_count": 40,
     "metadata": {},
     "output_type": "execute_result"
    }
   ],
   "source": [
    "unseen_test_df.shape"
   ]
  },
  {
   "cell_type": "code",
   "execution_count": 41,
   "metadata": {},
   "outputs": [],
   "source": [
    "unseen_test_df[['input_cleaned', 'search_text_cleaned', 'page_name_cleaned', 'category']].to_excel('CC_unseen_data_v5.xlsx')"
   ]
  },
  {
   "cell_type": "code",
   "execution_count": 42,
   "metadata": {},
   "outputs": [],
   "source": [
    "final_CC_model_df = df_combined_cc_model_data_5[df_combined_cc_model_data_5['session_start_cst'] < start_date]"
   ]
  },
  {
   "cell_type": "code",
   "execution_count": 43,
   "metadata": {},
   "outputs": [
    {
     "data": {
      "text/plain": [
       "Other         30734\n",
       "Child care    27951\n",
       "Name: category, dtype: int64"
      ]
     },
     "execution_count": 43,
     "metadata": {},
     "output_type": "execute_result"
    }
   ],
   "source": [
    "final_CC_model_df['category'].value_counts()"
   ]
  },
  {
   "cell_type": "code",
   "execution_count": 44,
   "metadata": {},
   "outputs": [],
   "source": [
    "final_CC_model_df.to_excel('final_cc_model_data_v5.xlsx')"
   ]
  },
  {
   "cell_type": "code",
   "execution_count": 45,
   "metadata": {},
   "outputs": [
    {
     "data": {
      "text/plain": [
       "(58685, 5)"
      ]
     },
     "execution_count": 45,
     "metadata": {},
     "output_type": "execute_result"
    }
   ],
   "source": [
    "final_CC_model_df.shape"
   ]
  },
  {
   "cell_type": "markdown",
   "metadata": {},
   "source": [
    "# Load preprocessed data"
   ]
  },
  {
   "cell_type": "code",
   "execution_count": 46,
   "metadata": {},
   "outputs": [
    {
     "data": {
      "text/html": [
       "<div>\n",
       "<style scoped>\n",
       "    .dataframe tbody tr th:only-of-type {\n",
       "        vertical-align: middle;\n",
       "    }\n",
       "\n",
       "    .dataframe tbody tr th {\n",
       "        vertical-align: top;\n",
       "    }\n",
       "\n",
       "    .dataframe thead th {\n",
       "        text-align: right;\n",
       "    }\n",
       "</style>\n",
       "<table border=\"1\" class=\"dataframe\">\n",
       "  <thead>\n",
       "    <tr style=\"text-align: right;\">\n",
       "      <th></th>\n",
       "      <th>input_cleaned</th>\n",
       "      <th>search_text_cleaned</th>\n",
       "      <th>page_name_cleaned</th>\n",
       "      <th>category</th>\n",
       "    </tr>\n",
       "  </thead>\n",
       "  <tbody>\n",
       "    <tr>\n",
       "      <th>29473</th>\n",
       "      <td>how to i use my child life coverage</td>\n",
       "      <td>unk</td>\n",
       "      <td>unk</td>\n",
       "      <td>Other</td>\n",
       "    </tr>\n",
       "  </tbody>\n",
       "</table>\n",
       "</div>"
      ],
      "text/plain": [
       "                             input_cleaned search_text_cleaned  \\\n",
       "29473  how to i use my child life coverage                 unk   \n",
       "\n",
       "      page_name_cleaned category  \n",
       "29473               unk    Other  "
      ]
     },
     "execution_count": 46,
     "metadata": {},
     "output_type": "execute_result"
    }
   ],
   "source": [
    "# Load the data\n",
    "import pandas as pd\n",
    "data = pd.read_excel('final_cc_model_data_v5.xlsx')[['input_cleaned', 'search_text_cleaned', 'page_name_cleaned', 'category']]\n",
    "data.sample()"
   ]
  },
  {
   "cell_type": "code",
   "execution_count": 47,
   "metadata": {},
   "outputs": [],
   "source": [
    "data.fillna(value={'input_cleaned': 'unk', 'page_name_cleaned': 'unk', 'search_text_cleaned': 'unk'}, inplace=True)"
   ]
  },
  {
   "cell_type": "code",
   "execution_count": 48,
   "metadata": {},
   "outputs": [
    {
     "data": {
      "text/html": [
       "<div>\n",
       "<style scoped>\n",
       "    .dataframe tbody tr th:only-of-type {\n",
       "        vertical-align: middle;\n",
       "    }\n",
       "\n",
       "    .dataframe tbody tr th {\n",
       "        vertical-align: top;\n",
       "    }\n",
       "\n",
       "    .dataframe thead th {\n",
       "        text-align: right;\n",
       "    }\n",
       "</style>\n",
       "<table border=\"1\" class=\"dataframe\">\n",
       "  <thead>\n",
       "    <tr style=\"text-align: right;\">\n",
       "      <th></th>\n",
       "      <th>input_cleaned</th>\n",
       "      <th>search_text_cleaned</th>\n",
       "      <th>page_name_cleaned</th>\n",
       "      <th>category</th>\n",
       "    </tr>\n",
       "  </thead>\n",
       "  <tbody>\n",
       "    <tr>\n",
       "      <th>4479</th>\n",
       "      <td>can i use the fsa on daycare for my child</td>\n",
       "      <td>unk</td>\n",
       "      <td>unk</td>\n",
       "      <td>Other</td>\n",
       "    </tr>\n",
       "  </tbody>\n",
       "</table>\n",
       "</div>"
      ],
      "text/plain": [
       "                                  input_cleaned search_text_cleaned  \\\n",
       "4479  can i use the fsa on daycare for my child                 unk   \n",
       "\n",
       "     page_name_cleaned category  \n",
       "4479               unk    Other  "
      ]
     },
     "execution_count": 48,
     "metadata": {},
     "output_type": "execute_result"
    }
   ],
   "source": [
    "data.sample()"
   ]
  },
  {
   "cell_type": "code",
   "execution_count": 49,
   "metadata": {},
   "outputs": [
    {
     "data": {
      "text/plain": [
       "Other         30734\n",
       "Child care    27951\n",
       "Name: category, dtype: int64"
      ]
     },
     "execution_count": 49,
     "metadata": {},
     "output_type": "execute_result"
    }
   ],
   "source": [
    "data.category.value_counts()"
   ]
  },
  {
   "cell_type": "code",
   "execution_count": 50,
   "metadata": {},
   "outputs": [
    {
     "data": {
      "text/html": [
       "<div>\n",
       "<style scoped>\n",
       "    .dataframe tbody tr th:only-of-type {\n",
       "        vertical-align: middle;\n",
       "    }\n",
       "\n",
       "    .dataframe tbody tr th {\n",
       "        vertical-align: top;\n",
       "    }\n",
       "\n",
       "    .dataframe thead th {\n",
       "        text-align: right;\n",
       "    }\n",
       "</style>\n",
       "<table border=\"1\" class=\"dataframe\">\n",
       "  <thead>\n",
       "    <tr style=\"text-align: right;\">\n",
       "      <th></th>\n",
       "      <th>input_cleaned</th>\n",
       "      <th>search_text_cleaned</th>\n",
       "      <th>page_name_cleaned</th>\n",
       "      <th>category</th>\n",
       "    </tr>\n",
       "  </thead>\n",
       "  <tbody>\n",
       "    <tr>\n",
       "      <th>10529</th>\n",
       "      <td>child being dropped in coverage letter</td>\n",
       "      <td>unk</td>\n",
       "      <td>unk</td>\n",
       "      <td>0</td>\n",
       "    </tr>\n",
       "  </tbody>\n",
       "</table>\n",
       "</div>"
      ],
      "text/plain": [
       "                                input_cleaned search_text_cleaned  \\\n",
       "10529  child being dropped in coverage letter                 unk   \n",
       "\n",
       "      page_name_cleaned  category  \n",
       "10529               unk         0  "
      ]
     },
     "execution_count": 50,
     "metadata": {},
     "output_type": "execute_result"
    }
   ],
   "source": [
    "data.category = data.category.map({'Other':0, 'Child care':1})\n",
    "data.sample()"
   ]
  },
  {
   "cell_type": "code",
   "execution_count": 51,
   "metadata": {},
   "outputs": [
    {
     "name": "stdout",
     "output_type": "stream",
     "text": [
      "<class 'pandas.core.frame.DataFrame'>\n",
      "RangeIndex: 58685 entries, 0 to 58684\n",
      "Data columns (total 4 columns):\n",
      " #   Column               Non-Null Count  Dtype \n",
      "---  ------               --------------  ----- \n",
      " 0   input_cleaned        58685 non-null  object\n",
      " 1   search_text_cleaned  58685 non-null  object\n",
      " 2   page_name_cleaned    58685 non-null  object\n",
      " 3   category             58685 non-null  int64 \n",
      "dtypes: int64(1), object(3)\n",
      "memory usage: 1.8+ MB\n"
     ]
    }
   ],
   "source": [
    "data.info()"
   ]
  },
  {
   "cell_type": "code",
   "execution_count": 52,
   "metadata": {},
   "outputs": [
    {
     "data": {
      "text/plain": [
       "unk                                                                      0.799182\n",
       "hmcstmchildcarepluslandingpageopen                                       0.153838\n",
       "contentpage  childcare subsidy                                           0.013138\n",
       "contentpage  child adult and pet care resources                          0.008435\n",
       "contentpage  dependent day care reimbursement account                    0.007821\n",
       "contentpage  2023 childcare subsidy                                      0.004294\n",
       "hm_cstm_child_caredomainbenhmbaseclientindicatorclientlanguageiden_us    0.004039\n",
       "contentpage  dependent day care fsa                                      0.003067\n",
       "hm_cstm_child_caredomainbenhmbaseclientindicatorclient                   0.001125\n",
       "otherchildcarediscounts                                                  0.001074\n",
       "contentpage  child care services                                         0.001022\n",
       "contentpage  free money for childcare the childcare subsidy              0.001005\n",
       "contentpage  health care fsa and day care dcap page                      0.000239\n",
       "contentpage  child care discounts                                        0.000204\n",
       "contentpage  backup child and elder care                                 0.000187\n",
       "contentpage  i need to find a child care facility                        0.000187\n",
       "contentpage  other childcare discounts                                   0.000153\n",
       "contentpage  caring for children                                         0.000153\n",
       "contentpage  child care  elder care  getting married                     0.000136\n",
       "contentpage  backup child and adult care                                 0.000119\n",
       "contentpage  i need help prepping my child for college                   0.000102\n",
       "contentpage  supporting your child                                       0.000102\n",
       "contentpage  dependent day care flexible spending account dcfsa          0.000068\n",
       "contentpage  child leaving for college                                   0.000051\n",
       "contentpage  i need tutoring support for my child                        0.000051\n",
       "contentpage  child care discount program                                 0.000034\n",
       "contentpage  having a baby or adopting a child                           0.000034\n",
       "contentpage  childcare leave benefits  law                               0.000017\n",
       "contentpage  qualified medical child support order qmcso page            0.000017\n",
       "contentpage  child life                                                  0.000017\n",
       "contentpage  uce ce college child hlth cov content page                  0.000017\n",
       "contentpage  dependent day care cost change                              0.000017\n",
       "mlchildcare                                                              0.000017\n",
       "contentpage  dependent child turning 26                                  0.000017\n",
       "ist_ml_childcare                                                         0.000017\n",
       "Name: page_name_cleaned, dtype: float64"
      ]
     },
     "execution_count": 52,
     "metadata": {},
     "output_type": "execute_result"
    }
   ],
   "source": [
    "data.page_name_cleaned.value_counts(normalize=True)"
   ]
  },
  {
   "cell_type": "code",
   "execution_count": 53,
   "metadata": {},
   "outputs": [
    {
     "data": {
      "text/plain": [
       "unk                                    0.845003\n",
       "child care                             0.033450\n",
       "child care plus                        0.019937\n",
       "childcare                              0.011655\n",
       "child care plans                       0.008776\n",
       "                                         ...   \n",
       "when does coverage end for children    0.000017\n",
       "add my child to insurance              0.000017\n",
       "childcare plus upload documents        0.000017\n",
       "childcare reinbu                       0.000017\n",
       "fsa child care                         0.000017\n",
       "Name: search_text_cleaned, Length: 1051, dtype: float64"
      ]
     },
     "execution_count": 53,
     "metadata": {},
     "output_type": "execute_result"
    }
   ],
   "source": [
    "data.search_text_cleaned.value_counts(normalize=True)"
   ]
  },
  {
   "cell_type": "code",
   "execution_count": 54,
   "metadata": {},
   "outputs": [
    {
     "data": {
      "text/plain": [
       "0    30734\n",
       "1    27951\n",
       "Name: category, dtype: int64"
      ]
     },
     "execution_count": 54,
     "metadata": {},
     "output_type": "execute_result"
    }
   ],
   "source": [
    "data.category.value_counts()"
   ]
  },
  {
   "cell_type": "code",
   "execution_count": 55,
   "metadata": {},
   "outputs": [],
   "source": [
    "data.to_excel('CC_texts_cols_preprocessed_data_v5.xlsx')"
   ]
  },
  {
   "cell_type": "code",
   "execution_count": 56,
   "metadata": {},
   "outputs": [],
   "source": [
    "# data[data['category']==0]['input_cleaned'].to_list()"
   ]
  },
  {
   "cell_type": "markdown",
   "metadata": {},
   "source": [
    "### Model building on the basis of just text columns"
   ]
  },
  {
   "cell_type": "markdown",
   "metadata": {},
   "source": [
    "------"
   ]
  },
  {
   "cell_type": "code",
   "execution_count": 57,
   "metadata": {},
   "outputs": [],
   "source": [
    "import pandas as pd\n",
    "import numpy as np\n",
    "import torch\n",
    "from sklearn.metrics import accuracy_score, confusion_matrix\n",
    "\n",
    "from torch.utils.data import DataLoader, TensorDataset, random_split\n",
    "from transformers import BertForSequenceClassification, BertTokenizer, AdamW\n",
    "\n",
    "\n",
    "# set the random seed for NumPy\n",
    "np.random.seed(42)\n",
    "\n",
    "# set the random seed for PyTorch\n",
    "torch.manual_seed(42)\n",
    "\n",
    "# load the data\n",
    "# data = pd.read_csv('data.csv')\n",
    "\n",
    "# load the BERT tokenizer\n",
    "tokenizer = BertTokenizer.from_pretrained('bert-base-uncased')"
   ]
  },
  {
   "cell_type": "code",
   "execution_count": 58,
   "metadata": {},
   "outputs": [
    {
     "name": "stdout",
     "output_type": "stream",
     "text": [
      "<class 'pandas.core.frame.DataFrame'>\n",
      "RangeIndex: 58685 entries, 0 to 58684\n",
      "Data columns (total 4 columns):\n",
      " #   Column               Non-Null Count  Dtype \n",
      "---  ------               --------------  ----- \n",
      " 0   input_cleaned        58685 non-null  object\n",
      " 1   search_text_cleaned  58685 non-null  object\n",
      " 2   page_name_cleaned    58685 non-null  object\n",
      " 3   category             58685 non-null  int64 \n",
      "dtypes: int64(1), object(3)\n",
      "memory usage: 1.8+ MB\n"
     ]
    }
   ],
   "source": [
    "data.info()"
   ]
  },
  {
   "cell_type": "code",
   "execution_count": 59,
   "metadata": {},
   "outputs": [
    {
     "name": "stderr",
     "output_type": "stream",
     "text": [
      "Some weights of the model checkpoint at bert-base-uncased were not used when initializing BertForSequenceClassification: ['cls.seq_relationship.weight', 'cls.predictions.transform.LayerNorm.weight', 'cls.predictions.transform.dense.weight', 'cls.predictions.bias', 'cls.predictions.decoder.weight', 'cls.seq_relationship.bias', 'cls.predictions.transform.LayerNorm.bias', 'cls.predictions.transform.dense.bias']\n",
      "- This IS expected if you are initializing BertForSequenceClassification from the checkpoint of a model trained on another task or with another architecture (e.g. initializing a BertForSequenceClassification model from a BertForPreTraining model).\n",
      "- This IS NOT expected if you are initializing BertForSequenceClassification from the checkpoint of a model that you expect to be exactly identical (initializing a BertForSequenceClassification model from a BertForSequenceClassification model).\n",
      "Some weights of BertForSequenceClassification were not initialized from the model checkpoint at bert-base-uncased and are newly initialized: ['classifier.weight', 'classifier.bias']\n",
      "You should probably TRAIN this model on a down-stream task to be able to use it for predictions and inference.\n"
     ]
    },
    {
     "name": "stdout",
     "output_type": "stream",
     "text": [
      "Epoch 1 Loss: 0.04949810401199015\n",
      "Epoch 1 Validation Accuracy: 0.9936099514356309\n",
      "Epoch 1 Confusion Matrix:\n",
      "[[6093    5]\n",
      " [  70 5569]]\n",
      "Epoch 2 Loss: 0.028883575514302786\n",
      "Epoch 2 Validation Accuracy: 0.993524750788106\n",
      "Epoch 2 Confusion Matrix:\n",
      "[[6091    7]\n",
      " [  69 5570]]\n",
      "Epoch 3 Loss: 0.02422778102230187\n",
      "Epoch 3 Validation Accuracy: 0.993524750788106\n",
      "Epoch 3 Confusion Matrix:\n",
      "[[6091    7]\n",
      " [  69 5570]]\n",
      "Epoch 4 Loss: 0.019261383516271473\n",
      "Epoch 4 Validation Accuracy: 0.993439550140581\n",
      "Epoch 4 Confusion Matrix:\n",
      "[[6088   10]\n",
      " [  67 5572]]\n",
      "Epoch 5 Loss: 0.014893210799570008\n",
      "Epoch 5 Validation Accuracy: 0.9917355371900827\n",
      "Epoch 5 Confusion Matrix:\n",
      "[[6066   32]\n",
      " [  65 5574]]\n",
      "Epoch 6 Loss: 0.009942123207177765\n",
      "Epoch 6 Validation Accuracy: 0.991309533952458\n",
      "Epoch 6 Confusion Matrix:\n",
      "[[6056   42]\n",
      " [  60 5579]]\n",
      "Epoch 7 Loss: 0.008992417503768418\n",
      "Epoch 7 Validation Accuracy: 0.9932691488455312\n",
      "Epoch 7 Confusion Matrix:\n",
      "[[6081   17]\n",
      " [  62 5577]]\n",
      "Epoch 8 Loss: 0.008124205356049873\n",
      "Epoch 8 Validation Accuracy: 0.9925875436653319\n",
      "Epoch 8 Confusion Matrix:\n",
      "[[6080   18]\n",
      " [  69 5570]]\n",
      "Epoch 9 Loss: 0.007968416087519732\n",
      "Epoch 9 Validation Accuracy: 0.9933543494930561\n",
      "Epoch 9 Confusion Matrix:\n",
      "[[6085   13]\n",
      " [  65 5574]]\n",
      "Epoch 10 Loss: 0.005875938118131855\n",
      "Epoch 10 Validation Accuracy: 0.9928431456079067\n",
      "Epoch 10 Confusion Matrix:\n",
      "[[6081   17]\n",
      " [  67 5572]]\n"
     ]
    }
   ],
   "source": [
    "# encode the data using the tokenizer\n",
    "encodings = tokenizer(list(data['input_cleaned']), list(data['search_text_cleaned']), list(data['page_name_cleaned']),\n",
    "                      truncation=True, padding=True)\n",
    "\n",
    "# create the dataset\n",
    "dataset = torch.utils.data.TensorDataset(\n",
    "    torch.tensor(encodings['input_ids']),\n",
    "    torch.tensor(encodings['attention_mask']),\n",
    "    torch.tensor(list(data['category']))\n",
    ")\n",
    "\n",
    "# split the dataset into training and validation sets\n",
    "train_size = int(0.8 * len(dataset))\n",
    "val_size = len(dataset) - train_size\n",
    "train_dataset, val_dataset = torch.utils.data.random_split(dataset, [train_size, val_size])\n",
    "\n",
    "# create the DataLoader for the training and validation sets\n",
    "train_loader = torch.utils.data.DataLoader(train_dataset, batch_size=64, shuffle=True)\n",
    "val_loader = torch.utils.data.DataLoader(val_dataset, batch_size=64, shuffle=False)\n",
    "\n",
    "# load the BERT model for sequence classification\n",
    "model = BertForSequenceClassification.from_pretrained('bert-base-uncased', num_labels=2,)\n",
    "\n",
    "# set up the optimizer and loss function\n",
    "optimizer = torch.optim.AdamW(model.parameters(), lr=2e-5)\n",
    "loss_fn = torch.nn.CrossEntropyLoss()\n",
    "\n",
    "epochs=10\n",
    "\n",
    "# train the model\n",
    "for epoch in range(epochs):\n",
    "    running_loss = 0.0\n",
    "    for batch in train_loader:\n",
    "        input_ids, attention_mask, labels = batch\n",
    "        outputs = model(input_ids, attention_mask=attention_mask, labels=labels)\n",
    "        loss = outputs.loss\n",
    "        logits = outputs.logits\n",
    "        loss.backward()\n",
    "        optimizer.step()\n",
    "        optimizer.zero_grad()\n",
    "        running_loss += loss.item()\n",
    "    print(f'Epoch {epoch + 1} Loss: {running_loss / len(train_loader)}')\n",
    "\n",
    "    # make predictions on the data and compute the probabilities\n",
    "    predictions = []\n",
    "#     probabilities = []\n",
    "    true_labels = []\n",
    "    with torch.no_grad():\n",
    "        model.eval()\n",
    "        for batch in val_loader:\n",
    "            input_ids, attention_mask, labels = batch\n",
    "            outputs = model(input_ids, attention_mask=attention_mask)\n",
    "            logits = outputs.logits\n",
    "#             probs = torch.nn.functional.softmax(logits, dim=1)\n",
    "            predictions.extend(torch.argmax(logits, dim=1).tolist())\n",
    "#             probabilities.extend(probs[:, 1].tolist())  # probability of class 1 (assuming binary classification)\n",
    "            true_labels.extend(labels.tolist())\n",
    "    \n",
    "    # convert probabilities to a NumPy array for easier handling\n",
    "#     probabilities = np.array(probabilities)\n",
    "\n",
    "    # print the probabilities for each row of data\n",
    "#     print(f'Probabilities for each row of data:')\n",
    "#     print(probabilities)\n",
    "    \n",
    "    accuracy = accuracy_score(true_labels, predictions)\n",
    "    print(f'Epoch {epoch + 1} Validation Accuracy: {accuracy}')\n",
    "\n",
    "    # generate the confusion matrix\n",
    "    cm = confusion_matrix(true_labels, predictions)\n",
    "    print(f'Epoch {epoch + 1} Confusion Matrix:')\n",
    "    print(cm)\n",
    "    \n"
   ]
  },
  {
   "cell_type": "code",
   "execution_count": 60,
   "metadata": {},
   "outputs": [
    {
     "data": {
      "text/plain": [
       "(46948, 11737)"
      ]
     },
     "execution_count": 60,
     "metadata": {},
     "output_type": "execute_result"
    }
   ],
   "source": [
    "train_size, val_size"
   ]
  },
  {
   "cell_type": "code",
   "execution_count": 61,
   "metadata": {},
   "outputs": [],
   "source": [
    "# define the path to save the model\n",
    "save_path = \"./CC_model_outer_combined_texts_data_v5/\"\n",
    "\n",
    "# create the directory if it doesn't exist\n",
    "import os\n",
    "if not os.path.exists(save_path):\n",
    "    os.makedirs(save_path)\n",
    "\n",
    "# save the model\n",
    "model.save_pretrained(save_path)\n"
   ]
  },
  {
   "cell_type": "markdown",
   "metadata": {},
   "source": [
    "## prediction code"
   ]
  },
  {
   "cell_type": "code",
   "execution_count": 62,
   "metadata": {},
   "outputs": [],
   "source": [
    "import pandas as pd\n",
    "import torch\n",
    "from transformers import BertTokenizer, BertForSequenceClassification\n",
    "\n",
    "# load the BERT tokenizer\n",
    "tokenizer = BertTokenizer.from_pretrained('bert-base-uncased')\n",
    "\n",
    "# load the trained model\n",
    "model = BertForSequenceClassification.from_pretrained(save_path)\n",
    "\n",
    "# load the new data to be predicted\n",
    "new_data = pd.read_excel('CC_unseen_data_v5.xlsx')\n",
    "\n",
    "input_texts = new_data['input_cleaned'].fillna('unk').tolist()\n",
    "search_texts = new_data['search_text_cleaned'].fillna('unk').tolist()\n",
    "page_names = new_data['page_name_cleaned'].fillna('unk').tolist()\n",
    "new_data['category'] = new_data['category'].replace({0:'Other', 1:'Child care'})"
   ]
  },
  {
   "cell_type": "code",
   "execution_count": 63,
   "metadata": {},
   "outputs": [],
   "source": [
    "encodings = tokenizer(input_texts, search_texts, page_names,\n",
    "                      truncation=True, padding=True)\n",
    "\n",
    "# create the dataset\n",
    "dataset = torch.utils.data.TensorDataset(\n",
    "    torch.tensor(encodings['input_ids']),\n",
    "    torch.tensor(encodings['attention_mask'])\n",
    ")\n",
    "\n",
    "# create the DataLoader for the new data\n",
    "loader = torch.utils.data.DataLoader(dataset, batch_size=62, shuffle=False)\n",
    "\n",
    "# make predictions on the new data\n",
    "\n",
    "predictions = []\n",
    "probabilities = []\n",
    "with torch.no_grad():\n",
    "    model.eval()\n",
    "    for batch in loader:\n",
    "        input_ids, attention_mask = batch\n",
    "        outputs = model(input_ids, attention_mask=attention_mask)\n",
    "        logits = outputs.logits\n",
    "        probs = torch.nn.functional.softmax(logits, dim=1)\n",
    "        probabilities.extend(probs[:, 1].tolist())\n",
    "        predictions.extend(torch.argmax(logits, dim=1).tolist())\n",
    "\n",
    "# replace the mapping of predictions with a function that handles non-binary values\n",
    "# def label_predictions(pred):\n",
    "#     if pred == 0:\n",
    "#         return 'Other'\n",
    "#     elif pred == 1:\n",
    "#         return 'Elder care'\n",
    "#     else:\n",
    "#         return ' '\n",
    "    \n",
    "# add the predictions to the new data DataFrame\n",
    "# new_data['predictions'] = predictions\n",
    "    \n",
    "# new_data['predictions'] = new_data['predictions'].apply(label_predictions)\n",
    "new_data['predictions'] = pd.Series(predictions).apply(lambda x: 'Other' if x==0 else 'Child care' if x==1 else ' ')\n",
    "\n",
    "# new_data['predictions'] = new_data['predictions'].replace({0:'Other', 1:'Elder care'})\n",
    "\n",
    "new_data['probability'] = probabilities\n",
    "# save the new data with predictions\n",
    "new_data.to_csv('CC_predictions_v5.csv', index=False)"
   ]
  },
  {
   "cell_type": "code",
   "execution_count": 64,
   "metadata": {},
   "outputs": [
    {
     "data": {
      "text/plain": [
       "Child care    4270\n",
       "Other         1953\n",
       "Name: predictions, dtype: int64"
      ]
     },
     "execution_count": 64,
     "metadata": {},
     "output_type": "execute_result"
    }
   ],
   "source": [
    "new_data['predictions'].value_counts()"
   ]
  },
  {
   "cell_type": "code",
   "execution_count": 65,
   "metadata": {},
   "outputs": [],
   "source": [
    "# new_data['category']"
   ]
  },
  {
   "cell_type": "code",
   "execution_count": 66,
   "metadata": {},
   "outputs": [
    {
     "name": "stdout",
     "output_type": "stream",
     "text": [
      "[[4264   67]\n",
      " [   6 1886]]\n",
      "0.9882693234774225\n"
     ]
    }
   ],
   "source": [
    "# make predictions on the validation set and compute the accuracy\n",
    "predictions = list(new_data['predictions'])\n",
    "true_labels = list(new_data['category'])\n",
    "\n",
    "accuracy = accuracy_score(true_labels, predictions)\n",
    "\n",
    "# generate the confusion matrix\n",
    "cm = confusion_matrix(true_labels, predictions)\n",
    "print(cm)\n",
    "print(accuracy)"
   ]
  },
  {
   "cell_type": "code",
   "execution_count": 67,
   "metadata": {},
   "outputs": [
    {
     "name": "stdout",
     "output_type": "stream",
     "text": [
      "0.9882693234774225\n"
     ]
    },
    {
     "data": {
      "image/png": "[encoded data removed]",
      "text/plain": [
       "<Figure size 432x288 with 2 Axes>"
      ]
     },
     "metadata": {
      "needs_background": "light"
     },
     "output_type": "display_data"
    }
   ],
   "source": [
    "import seaborn as sns\n",
    "import matplotlib.pyplot as plt     \n",
    "\n",
    "ax= plt.subplot()\n",
    "sns.heatmap(cm, annot=True, fmt='g', ax=ax);  #annot=True to annotate cells, ftm='g' to disable scientific notation\n",
    "\n",
    "# labels, title and ticks\n",
    "accuracy = accuracy_score(true_labels, predictions)\n",
    "print(accuracy)\n",
    "\n",
    "ax.set_xlabel('Predicted labels');ax.set_ylabel('True labels'); \n",
    "ax.set_title('Confusion Matrix'); \n",
    "ax.xaxis.set_ticklabels(['Child care','Other']); ax.yaxis.set_ticklabels(['Child care', 'Other']);"
   ]
  },
  {
   "cell_type": "code",
   "execution_count": 68,
   "metadata": {},
   "outputs": [],
   "source": [
    "new_data[new_data['category']!=new_data['predictions']].to_csv('CC_model_wrong_predictions_v5.csv')"
   ]
  },
  {
   "cell_type": "code",
   "execution_count": 69,
   "metadata": {},
   "outputs": [],
   "source": [
    "new_data.to_csv('CC_model_all_predictions_v5.csv')"
   ]
  },
  {
   "cell_type": "code",
   "execution_count": null,
   "metadata": {},
   "outputs": [],
   "source": []
  },
  {
   "cell_type": "code",
   "execution_count": null,
   "metadata": {},
   "outputs": [],
   "source": []
  }
 ],
 "metadata": {
  "instance_type": "ml.r5.24xlarge",
  "kernelspec": {
   "display_name": "python3 (adl-core-custom-docker/1)",
   "language": "python",
   "name": "python3__SAGEMAKER_INTERNAL__arn:aws:sagemaker:us-east-1:660999144548:image-version/adl-core-custom-docker/1"
  },
  "language_info": {
   "codemirror_mode": {
    "name": "ipython",
    "version": 3
   },
   "file_extension": ".py",
   "mimetype": "text/x-python",
   "name": "python",
   "nbconvert_exporter": "python",
   "pygments_lexer": "ipython3",
   "version": "3.9.12"
  }
 },
 "nbformat": 4,
 "nbformat_minor": 4
}
