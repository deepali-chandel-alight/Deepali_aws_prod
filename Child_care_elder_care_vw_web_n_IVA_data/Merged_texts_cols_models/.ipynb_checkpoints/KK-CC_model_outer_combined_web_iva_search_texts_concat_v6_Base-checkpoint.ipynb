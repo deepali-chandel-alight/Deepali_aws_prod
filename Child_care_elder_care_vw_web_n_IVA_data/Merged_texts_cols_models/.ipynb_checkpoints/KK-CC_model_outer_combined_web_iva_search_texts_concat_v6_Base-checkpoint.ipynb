{
 "cells": [
  {
   "cell_type": "code",
   "execution_count": 4,
   "metadata": {},
   "outputs": [],
   "source": [
    "# !pip install spacy"
   ]
  },
  {
   "cell_type": "code",
   "execution_count": 6,
   "metadata": {},
   "outputs": [],
   "source": [
    "# !pip install sentence_transformers --index-url=https://artifactory.alight.com/artifactory/api/pypi/python-pypi-remote/simple --trusted-host=artifactory.alight.com"
   ]
  },
  {
   "cell_type": "code",
   "execution_count": 8,
   "metadata": {},
   "outputs": [],
   "source": [
    "# !pip install en_core_web_sm-3.1.0-py3-none-any.whl"
   ]
  },
  {
   "cell_type": "code",
   "execution_count": 9,
   "metadata": {},
   "outputs": [],
   "source": [
    "import spacy\n",
    "import torch\n",
    "import en_core_web_sm\n",
    "\n",
    "import pandas as pd\n",
    "import numpy as np\n",
    "from sklearn.metrics.pairwise import cosine_similarity\n",
    "from sklearn.metrics.pairwise import cosine_distances\n",
    "\n",
    "from sentence_transformers import SentenceTransformer\n",
    "model = SentenceTransformer('bert-base-nli-mean-tokens')\n",
    "\n",
    "nlp = spacy.load(\"en_core_web_sm\")"
   ]
  },
  {
   "cell_type": "code",
   "execution_count": 81,
   "metadata": {},
   "outputs": [
    {
     "name": "stderr",
     "output_type": "stream",
     "text": [
      "/opt/conda/lib/python3.7/site-packages/IPython/core/interactiveshell.py:3553: DtypeWarning: Columns (0,1,2,4,5,9,10,11,12,13,14,15,16,17,18,20,21,23,24,25,26,27,28,29,31,33,39,41,56,57,58,59,63,64,65,67,68,70,71,74,75,77,78,80,81,82,83,84,85,86,87,88,89,90,91,92,93,94,95,96,97,98,99,100,101,102,103,106,108,109,110,111,112,113,114,115,116,117,118,119,122,123,124,125,126,127,128,129,130,131,132,134,135,136,137,138,155,156,159,160,161,164,165) have mixed types.Specify dtype option on import or set low_memory=False.\n",
      "  exec(code_obj, self.user_global_ns, self.user_ns)\n"
     ]
    }
   ],
   "source": [
    "df_combined_web_iva_search = pd.read_csv(\"s3://adl-core-sagemaker-studio/external/IVA/combined_new_adult-child_outer_new.csv\")"
   ]
  },
  {
   "cell_type": "code",
   "execution_count": 82,
   "metadata": {
    "tags": []
   },
   "outputs": [
    {
     "data": {
      "text/html": [
       "<div>\n",
       "<style scoped>\n",
       "    .dataframe tbody tr th:only-of-type {\n",
       "        vertical-align: middle;\n",
       "    }\n",
       "\n",
       "    .dataframe tbody tr th {\n",
       "        vertical-align: top;\n",
       "    }\n",
       "\n",
       "    .dataframe thead th {\n",
       "        text-align: right;\n",
       "    }\n",
       "</style>\n",
       "<table border=\"1\" class=\"dataframe\">\n",
       "  <thead>\n",
       "    <tr style=\"text-align: right;\">\n",
       "      <th></th>\n",
       "      <th>input</th>\n",
       "      <th>search_text</th>\n",
       "      <th>page_name</th>\n",
       "    </tr>\n",
       "  </thead>\n",
       "  <tbody>\n",
       "    <tr>\n",
       "      <th>0</th>\n",
       "      <td>step child a dependent?</td>\n",
       "      <td>NaN</td>\n",
       "      <td>NaN</td>\n",
       "    </tr>\n",
       "    <tr>\n",
       "      <th>1</th>\n",
       "      <td>how do i change my dependent daycare deduction</td>\n",
       "      <td>NaN</td>\n",
       "      <td>NaN</td>\n",
       "    </tr>\n",
       "    <tr>\n",
       "      <th>2</th>\n",
       "      <td>Child last name change</td>\n",
       "      <td>NaN</td>\n",
       "      <td>NaN</td>\n",
       "    </tr>\n",
       "    <tr>\n",
       "      <th>3</th>\n",
       "      <td>i am trying to add my children as beneficiarie...</td>\n",
       "      <td>NaN</td>\n",
       "      <td>NaN</td>\n",
       "    </tr>\n",
       "    <tr>\n",
       "      <th>4</th>\n",
       "      <td>how much timeoff do i get after the birth of m...</td>\n",
       "      <td>NaN</td>\n",
       "      <td>NaN</td>\n",
       "    </tr>\n",
       "  </tbody>\n",
       "</table>\n",
       "</div>"
      ],
      "text/plain": [
       "                                               input search_text page_name\n",
       "0                            step child a dependent?         NaN       NaN\n",
       "1     how do i change my dependent daycare deduction         NaN       NaN\n",
       "2                             Child last name change         NaN       NaN\n",
       "3  i am trying to add my children as beneficiarie...         NaN       NaN\n",
       "4  how much timeoff do i get after the birth of m...         NaN       NaN"
      ]
     },
     "execution_count": 82,
     "metadata": {},
     "output_type": "execute_result"
    }
   ],
   "source": [
    "df_combined_web_iva_search[['input','search_text','page_name']].head()"
   ]
  },
  {
   "cell_type": "code",
   "execution_count": 83,
   "metadata": {
    "tags": []
   },
   "outputs": [],
   "source": [
    "df_iva = pd.read_csv(\"s3://adl-core-sagemaker-studio/external/Deepali/IVA_cleaned_labelled(session_id_added).csv\")"
   ]
  },
  {
   "cell_type": "code",
   "execution_count": 84,
   "metadata": {
    "tags": []
   },
   "outputs": [
    {
     "data": {
      "text/plain": [
       "Index(['Unnamed: 0', 'entry_id', 'client_id', 'person_internal_id',\n",
       "       'input_orig', 'labels', 'input_cleaned', 'input_cleaned_dl',\n",
       "       'next_unit_hit', 'previous_unit_hit', 'unit_name', 'response_text',\n",
       "       'session_id'],\n",
       "      dtype='object')"
      ]
     },
     "execution_count": 84,
     "metadata": {},
     "output_type": "execute_result"
    }
   ],
   "source": [
    "df_iva.columns"
   ]
  },
  {
   "cell_type": "code",
   "execution_count": 85,
   "metadata": {
    "tags": []
   },
   "outputs": [],
   "source": [
    "df_iva1 = df_iva.drop(['Unnamed: 0','entry_id','client_id','person_internal_id','next_unit_hit',\n",
    "             'previous_unit_hit','response_text','session_id'], axis=1)"
   ]
  },
  {
   "cell_type": "code",
   "execution_count": 86,
   "metadata": {
    "tags": []
   },
   "outputs": [
    {
     "data": {
      "text/html": [
       "<div>\n",
       "<style scoped>\n",
       "    .dataframe tbody tr th:only-of-type {\n",
       "        vertical-align: middle;\n",
       "    }\n",
       "\n",
       "    .dataframe tbody tr th {\n",
       "        vertical-align: top;\n",
       "    }\n",
       "\n",
       "    .dataframe thead th {\n",
       "        text-align: right;\n",
       "    }\n",
       "</style>\n",
       "<table border=\"1\" class=\"dataframe\">\n",
       "  <thead>\n",
       "    <tr style=\"text-align: right;\">\n",
       "      <th></th>\n",
       "      <th>input_orig</th>\n",
       "      <th>labels</th>\n",
       "      <th>input_cleaned</th>\n",
       "      <th>input_cleaned_dl</th>\n",
       "      <th>unit_name</th>\n",
       "    </tr>\n",
       "  </thead>\n",
       "  <tbody>\n",
       "    <tr>\n",
       "      <th>0</th>\n",
       "      <td>Open enrollment</td>\n",
       "      <td>Enrollment</td>\n",
       "      <td>open enrol</td>\n",
       "      <td>open enrollment</td>\n",
       "      <td>Annual Enrollment Clarifier</td>\n",
       "    </tr>\n",
       "    <tr>\n",
       "      <th>1</th>\n",
       "      <td>enroll in hra</td>\n",
       "      <td>HRA</td>\n",
       "      <td>enrol hra</td>\n",
       "      <td>enroll in hra</td>\n",
       "      <td>Health Reimbursement Account Clarifier</td>\n",
       "    </tr>\n",
       "    <tr>\n",
       "      <th>2</th>\n",
       "      <td>TIRE DISCOUNT</td>\n",
       "      <td>Discounts Issue</td>\n",
       "      <td>tire discount</td>\n",
       "      <td>tire discount</td>\n",
       "      <td>Discounts Clarifier</td>\n",
       "    </tr>\n",
       "    <tr>\n",
       "      <th>3</th>\n",
       "      <td>eligible</td>\n",
       "      <td>HSA related</td>\n",
       "      <td>elig</td>\n",
       "      <td>eligible</td>\n",
       "      <td>Health Savings Account (HSA) Eligible Expenses</td>\n",
       "    </tr>\n",
       "    <tr>\n",
       "      <th>4</th>\n",
       "      <td>Need to update my mail address</td>\n",
       "      <td>General Acount issue</td>\n",
       "      <td>need updat mail address</td>\n",
       "      <td>need to update my mail address</td>\n",
       "      <td>Manage Address</td>\n",
       "    </tr>\n",
       "  </tbody>\n",
       "</table>\n",
       "</div>"
      ],
      "text/plain": [
       "                       input_orig                labels  \\\n",
       "0                 Open enrollment            Enrollment   \n",
       "1                   enroll in hra                   HRA   \n",
       "2                   TIRE DISCOUNT       Discounts Issue   \n",
       "3                        eligible           HSA related   \n",
       "4  Need to update my mail address  General Acount issue   \n",
       "\n",
       "             input_cleaned                input_cleaned_dl  \\\n",
       "0               open enrol                 open enrollment   \n",
       "1                enrol hra                   enroll in hra   \n",
       "2            tire discount                   tire discount   \n",
       "3                     elig                        eligible   \n",
       "4  need updat mail address  need to update my mail address   \n",
       "\n",
       "                                        unit_name  \n",
       "0                     Annual Enrollment Clarifier  \n",
       "1          Health Reimbursement Account Clarifier  \n",
       "2                             Discounts Clarifier  \n",
       "3  Health Savings Account (HSA) Eligible Expenses  \n",
       "4                                  Manage Address  "
      ]
     },
     "execution_count": 86,
     "metadata": {},
     "output_type": "execute_result"
    }
   ],
   "source": [
    "df_iva1.head()"
   ]
  },
  {
   "cell_type": "code",
   "execution_count": 87,
   "metadata": {
    "tags": []
   },
   "outputs": [],
   "source": [
    "df_iva2 = df_iva1.drop(['input_cleaned','input_cleaned_dl'], axis=1)"
   ]
  },
  {
   "cell_type": "code",
   "execution_count": 88,
   "metadata": {
    "tags": []
   },
   "outputs": [
    {
     "data": {
      "text/html": [
       "<div>\n",
       "<style scoped>\n",
       "    .dataframe tbody tr th:only-of-type {\n",
       "        vertical-align: middle;\n",
       "    }\n",
       "\n",
       "    .dataframe tbody tr th {\n",
       "        vertical-align: top;\n",
       "    }\n",
       "\n",
       "    .dataframe thead th {\n",
       "        text-align: right;\n",
       "    }\n",
       "</style>\n",
       "<table border=\"1\" class=\"dataframe\">\n",
       "  <thead>\n",
       "    <tr style=\"text-align: right;\">\n",
       "      <th></th>\n",
       "      <th>input_orig</th>\n",
       "      <th>labels</th>\n",
       "      <th>unit_name</th>\n",
       "    </tr>\n",
       "  </thead>\n",
       "  <tbody>\n",
       "    <tr>\n",
       "      <th>0</th>\n",
       "      <td>Open enrollment</td>\n",
       "      <td>Enrollment</td>\n",
       "      <td>Annual Enrollment Clarifier</td>\n",
       "    </tr>\n",
       "    <tr>\n",
       "      <th>1</th>\n",
       "      <td>enroll in hra</td>\n",
       "      <td>HRA</td>\n",
       "      <td>Health Reimbursement Account Clarifier</td>\n",
       "    </tr>\n",
       "    <tr>\n",
       "      <th>2</th>\n",
       "      <td>TIRE DISCOUNT</td>\n",
       "      <td>Discounts Issue</td>\n",
       "      <td>Discounts Clarifier</td>\n",
       "    </tr>\n",
       "    <tr>\n",
       "      <th>3</th>\n",
       "      <td>eligible</td>\n",
       "      <td>HSA related</td>\n",
       "      <td>Health Savings Account (HSA) Eligible Expenses</td>\n",
       "    </tr>\n",
       "    <tr>\n",
       "      <th>4</th>\n",
       "      <td>Need to update my mail address</td>\n",
       "      <td>General Acount issue</td>\n",
       "      <td>Manage Address</td>\n",
       "    </tr>\n",
       "  </tbody>\n",
       "</table>\n",
       "</div>"
      ],
      "text/plain": [
       "                       input_orig                labels  \\\n",
       "0                 Open enrollment            Enrollment   \n",
       "1                   enroll in hra                   HRA   \n",
       "2                   TIRE DISCOUNT       Discounts Issue   \n",
       "3                        eligible           HSA related   \n",
       "4  Need to update my mail address  General Acount issue   \n",
       "\n",
       "                                        unit_name  \n",
       "0                     Annual Enrollment Clarifier  \n",
       "1          Health Reimbursement Account Clarifier  \n",
       "2                             Discounts Clarifier  \n",
       "3  Health Savings Account (HSA) Eligible Expenses  \n",
       "4                                  Manage Address  "
      ]
     },
     "execution_count": 88,
     "metadata": {},
     "output_type": "execute_result"
    }
   ],
   "source": [
    "df_iva2.head()"
   ]
  },
  {
   "cell_type": "code",
   "execution_count": 89,
   "metadata": {
    "tags": []
   },
   "outputs": [],
   "source": [
    "df_iva3 = pd.read_csv(\"s3://adl-core-sagemaker-studio/external/Deepali/IVA_cleaned_labelled_merged.csv\")"
   ]
  },
  {
   "cell_type": "code",
   "execution_count": 90,
   "metadata": {
    "tags": []
   },
   "outputs": [
    {
     "data": {
      "text/html": [
       "<div>\n",
       "<style scoped>\n",
       "    .dataframe tbody tr th:only-of-type {\n",
       "        vertical-align: middle;\n",
       "    }\n",
       "\n",
       "    .dataframe tbody tr th {\n",
       "        vertical-align: top;\n",
       "    }\n",
       "\n",
       "    .dataframe thead th {\n",
       "        text-align: right;\n",
       "    }\n",
       "</style>\n",
       "<table border=\"1\" class=\"dataframe\">\n",
       "  <thead>\n",
       "    <tr style=\"text-align: right;\">\n",
       "      <th></th>\n",
       "      <th>client_id</th>\n",
       "      <th>person_internal_id</th>\n",
       "      <th>session_id</th>\n",
       "      <th>input_orig</th>\n",
       "      <th>response_text</th>\n",
       "      <th>unit_name</th>\n",
       "    </tr>\n",
       "  </thead>\n",
       "  <tbody>\n",
       "    <tr>\n",
       "      <th>0</th>\n",
       "      <td>245</td>\n",
       "      <td>342020022</td>\n",
       "      <td>13134207</td>\n",
       "      <td>does my fsa carry over</td>\n",
       "      <td>This information isn't available yet.</td>\n",
       "      <td>Flexible Spending Account (FSA) Rollover</td>\n",
       "    </tr>\n",
       "    <tr>\n",
       "      <th>1</th>\n",
       "      <td>936</td>\n",
       "      <td>12351089</td>\n",
       "      <td>13134208</td>\n",
       "      <td>hi | leave/time off</td>\n",
       "      <td>Hi there. What would you like help with today?...</td>\n",
       "      <td>Hello | Paid Time Off Clarifier</td>\n",
       "    </tr>\n",
       "    <tr>\n",
       "      <th>2</th>\n",
       "      <td>936</td>\n",
       "      <td>32861032</td>\n",
       "      <td>13134215</td>\n",
       "      <td>How much does covid pay cover</td>\n",
       "      <td>For possible impacts to your benefits related ...</td>\n",
       "      <td>Natural Disaster</td>\n",
       "    </tr>\n",
       "    <tr>\n",
       "      <th>3</th>\n",
       "      <td>5888</td>\n",
       "      <td>379001056</td>\n",
       "      <td>13134216</td>\n",
       "      <td>I want to roll my future builder into an ira |...</td>\n",
       "      <td>It looks like you're asking about your FutureB...</td>\n",
       "      <td>401k/403b/457 Clarifier | I Don't Know</td>\n",
       "    </tr>\n",
       "    <tr>\n",
       "      <th>4</th>\n",
       "      <td>1040</td>\n",
       "      <td>147720041</td>\n",
       "      <td>13134224</td>\n",
       "      <td>cancel dental</td>\n",
       "      <td>There are 2 ways to cancel your benefits cover...</td>\n",
       "      <td>Cancel Coverage</td>\n",
       "    </tr>\n",
       "  </tbody>\n",
       "</table>\n",
       "</div>"
      ],
      "text/plain": [
       "   client_id  person_internal_id  session_id  \\\n",
       "0        245           342020022    13134207   \n",
       "1        936            12351089    13134208   \n",
       "2        936            32861032    13134215   \n",
       "3       5888           379001056    13134216   \n",
       "4       1040           147720041    13134224   \n",
       "\n",
       "                                          input_orig  \\\n",
       "0                             does my fsa carry over   \n",
       "1                                hi | leave/time off   \n",
       "2                      How much does covid pay cover   \n",
       "3  I want to roll my future builder into an ira |...   \n",
       "4                                      cancel dental   \n",
       "\n",
       "                                       response_text  \\\n",
       "0              This information isn't available yet.   \n",
       "1  Hi there. What would you like help with today?...   \n",
       "2  For possible impacts to your benefits related ...   \n",
       "3  It looks like you're asking about your FutureB...   \n",
       "4  There are 2 ways to cancel your benefits cover...   \n",
       "\n",
       "                                  unit_name  \n",
       "0  Flexible Spending Account (FSA) Rollover  \n",
       "1           Hello | Paid Time Off Clarifier  \n",
       "2                          Natural Disaster  \n",
       "3    401k/403b/457 Clarifier | I Don't Know  \n",
       "4                           Cancel Coverage  "
      ]
     },
     "execution_count": 90,
     "metadata": {},
     "output_type": "execute_result"
    }
   ],
   "source": [
    "df_iva3.head()"
   ]
  },
  {
   "cell_type": "code",
   "execution_count": 91,
   "metadata": {
    "tags": []
   },
   "outputs": [],
   "source": [
    "df_iva3 = df_iva3.rename(columns={'input_orig':'input_orig_1'})"
   ]
  },
  {
   "cell_type": "code",
   "execution_count": 92,
   "metadata": {
    "tags": []
   },
   "outputs": [],
   "source": [
    "# df_iva3 = df_iva3.drop(['client_id','person_internal_id','session_id','response_text','unit_name'], axis=1)"
   ]
  },
  {
   "cell_type": "code",
   "execution_count": 93,
   "metadata": {
    "tags": []
   },
   "outputs": [
    {
     "data": {
      "text/plain": [
       "['does my fsa carry over',\n",
       " 'hi | leave/time off',\n",
       " 'How much does covid pay cover',\n",
       " 'I want to roll my future builder into an ira | nvm',\n",
       " 'cancel dental',\n",
       " 'Mobile App name | What is the name of the mobile application? | What is the name of the mobile app used to be able to login?',\n",
       " 'I want to start a FSA during open enrollment. This is not a life change. | annual enrollment | See feedback | I want to set up a flexible spending account. I am not seeing the page to do that.',\n",
       " 'quickgroup learning',\n",
       " 'what is my retirement savings balance | Does this insurance cover Covid test?',\n",
       " 'new employee emrollment']"
      ]
     },
     "execution_count": 93,
     "metadata": {},
     "output_type": "execute_result"
    }
   ],
   "source": [
    "df_iva3['input_orig_1'].head(10).to_list()"
   ]
  },
  {
   "cell_type": "code",
   "execution_count": 94,
   "metadata": {
    "tags": []
   },
   "outputs": [],
   "source": [
    "# Split the 'col' column using '|' delimiter\n",
    "df_iva3['input_orig_1'] = df_iva3['input_orig_1'].str.split('|')"
   ]
  },
  {
   "cell_type": "code",
   "execution_count": 95,
   "metadata": {
    "tags": []
   },
   "outputs": [],
   "source": [
    "# Explode the 'col' column to expand it row-wise\n",
    "df_iva3 = df_iva3.explode('input_orig_1')"
   ]
  },
  {
   "cell_type": "code",
   "execution_count": 96,
   "metadata": {
    "tags": []
   },
   "outputs": [],
   "source": [
    "# Reset the index\n",
    "df_iva3 = df_iva3.reset_index(drop=True)"
   ]
  },
  {
   "cell_type": "code",
   "execution_count": 97,
   "metadata": {
    "tags": []
   },
   "outputs": [
    {
     "data": {
      "text/html": [
       "<div>\n",
       "<style scoped>\n",
       "    .dataframe tbody tr th:only-of-type {\n",
       "        vertical-align: middle;\n",
       "    }\n",
       "\n",
       "    .dataframe tbody tr th {\n",
       "        vertical-align: top;\n",
       "    }\n",
       "\n",
       "    .dataframe thead th {\n",
       "        text-align: right;\n",
       "    }\n",
       "</style>\n",
       "<table border=\"1\" class=\"dataframe\">\n",
       "  <thead>\n",
       "    <tr style=\"text-align: right;\">\n",
       "      <th></th>\n",
       "      <th>client_id</th>\n",
       "      <th>person_internal_id</th>\n",
       "      <th>session_id</th>\n",
       "      <th>input_orig_1</th>\n",
       "      <th>response_text</th>\n",
       "      <th>unit_name</th>\n",
       "    </tr>\n",
       "  </thead>\n",
       "  <tbody>\n",
       "    <tr>\n",
       "      <th>0</th>\n",
       "      <td>245</td>\n",
       "      <td>342020022</td>\n",
       "      <td>13134207</td>\n",
       "      <td>does my fsa carry over</td>\n",
       "      <td>This information isn't available yet.</td>\n",
       "      <td>Flexible Spending Account (FSA) Rollover</td>\n",
       "    </tr>\n",
       "    <tr>\n",
       "      <th>1</th>\n",
       "      <td>936</td>\n",
       "      <td>12351089</td>\n",
       "      <td>13134208</td>\n",
       "      <td>hi</td>\n",
       "      <td>Hi there. What would you like help with today?...</td>\n",
       "      <td>Hello | Paid Time Off Clarifier</td>\n",
       "    </tr>\n",
       "    <tr>\n",
       "      <th>2</th>\n",
       "      <td>936</td>\n",
       "      <td>12351089</td>\n",
       "      <td>13134208</td>\n",
       "      <td>leave/time off</td>\n",
       "      <td>Hi there. What would you like help with today?...</td>\n",
       "      <td>Hello | Paid Time Off Clarifier</td>\n",
       "    </tr>\n",
       "    <tr>\n",
       "      <th>3</th>\n",
       "      <td>936</td>\n",
       "      <td>32861032</td>\n",
       "      <td>13134215</td>\n",
       "      <td>How much does covid pay cover</td>\n",
       "      <td>For possible impacts to your benefits related ...</td>\n",
       "      <td>Natural Disaster</td>\n",
       "    </tr>\n",
       "    <tr>\n",
       "      <th>4</th>\n",
       "      <td>5888</td>\n",
       "      <td>379001056</td>\n",
       "      <td>13134216</td>\n",
       "      <td>I want to roll my future builder into an ira</td>\n",
       "      <td>It looks like you're asking about your FutureB...</td>\n",
       "      <td>401k/403b/457 Clarifier | I Don't Know</td>\n",
       "    </tr>\n",
       "  </tbody>\n",
       "</table>\n",
       "</div>"
      ],
      "text/plain": [
       "   client_id  person_internal_id  session_id  \\\n",
       "0        245           342020022    13134207   \n",
       "1        936            12351089    13134208   \n",
       "2        936            12351089    13134208   \n",
       "3        936            32861032    13134215   \n",
       "4       5888           379001056    13134216   \n",
       "\n",
       "                                    input_orig_1  \\\n",
       "0                         does my fsa carry over   \n",
       "1                                            hi    \n",
       "2                                 leave/time off   \n",
       "3                  How much does covid pay cover   \n",
       "4  I want to roll my future builder into an ira    \n",
       "\n",
       "                                       response_text  \\\n",
       "0              This information isn't available yet.   \n",
       "1  Hi there. What would you like help with today?...   \n",
       "2  Hi there. What would you like help with today?...   \n",
       "3  For possible impacts to your benefits related ...   \n",
       "4  It looks like you're asking about your FutureB...   \n",
       "\n",
       "                                  unit_name  \n",
       "0  Flexible Spending Account (FSA) Rollover  \n",
       "1           Hello | Paid Time Off Clarifier  \n",
       "2           Hello | Paid Time Off Clarifier  \n",
       "3                          Natural Disaster  \n",
       "4    401k/403b/457 Clarifier | I Don't Know  "
      ]
     },
     "execution_count": 97,
     "metadata": {},
     "output_type": "execute_result"
    }
   ],
   "source": [
    "df_iva3.head()"
   ]
  },
  {
   "cell_type": "code",
   "execution_count": 102,
   "metadata": {
    "tags": []
   },
   "outputs": [],
   "source": [
    "df_concat = pd.concat([df_combined_web_iva_search, df_iva2, df_iva3], axis=0)"
   ]
  },
  {
   "cell_type": "code",
   "execution_count": 103,
   "metadata": {
    "tags": []
   },
   "outputs": [
    {
     "data": {
      "text/html": [
       "<div>\n",
       "<style scoped>\n",
       "    .dataframe tbody tr th:only-of-type {\n",
       "        vertical-align: middle;\n",
       "    }\n",
       "\n",
       "    .dataframe tbody tr th {\n",
       "        vertical-align: top;\n",
       "    }\n",
       "\n",
       "    .dataframe thead th {\n",
       "        text-align: right;\n",
       "    }\n",
       "</style>\n",
       "<table border=\"1\" class=\"dataframe\">\n",
       "  <thead>\n",
       "    <tr style=\"text-align: right;\">\n",
       "      <th></th>\n",
       "      <th>agent_entitlement_client_name</th>\n",
       "      <th>agent_entitlement_access_key</th>\n",
       "      <th>channel</th>\n",
       "      <th>companytracking_clientid</th>\n",
       "      <th>companytracking_companyid</th>\n",
       "      <th>companytracking_companyname</th>\n",
       "      <th>companytracking_multitenantid</th>\n",
       "      <th>entry_id</th>\n",
       "      <th>entry_order</th>\n",
       "      <th>entry_type</th>\n",
       "      <th>...</th>\n",
       "      <th>page_load_elapsed_time</th>\n",
       "      <th>mobile_app_type</th>\n",
       "      <th>session_create_date_cst_timezone_partition</th>\n",
       "      <th>platform_id_y</th>\n",
       "      <th>search_text</th>\n",
       "      <th>search_results</th>\n",
       "      <th>session_created_timestamp</th>\n",
       "      <th>input_orig</th>\n",
       "      <th>labels</th>\n",
       "      <th>input_orig_1</th>\n",
       "    </tr>\n",
       "  </thead>\n",
       "  <tbody>\n",
       "    <tr>\n",
       "      <th>0</th>\n",
       "      <td>Enterprise</td>\n",
       "      <td>00000000-0000-0000-0000-000000000000</td>\n",
       "      <td>Web</td>\n",
       "      <td>8141.0</td>\n",
       "      <td>staples</td>\n",
       "      <td>staples</td>\n",
       "      <td>NaN</td>\n",
       "      <td>2292881.0</td>\n",
       "      <td>7.0</td>\n",
       "      <td>Typed Input</td>\n",
       "      <td>...</td>\n",
       "      <td>NaN</td>\n",
       "      <td>NaN</td>\n",
       "      <td>NaN</td>\n",
       "      <td>NaN</td>\n",
       "      <td>NaN</td>\n",
       "      <td>NaN</td>\n",
       "      <td>NaN</td>\n",
       "      <td>NaN</td>\n",
       "      <td>NaN</td>\n",
       "      <td>NaN</td>\n",
       "    </tr>\n",
       "    <tr>\n",
       "      <th>1</th>\n",
       "      <td>Enterprise</td>\n",
       "      <td>00000000-0000-0000-0000-000000000000</td>\n",
       "      <td>Web</td>\n",
       "      <td>8141.0</td>\n",
       "      <td>staples</td>\n",
       "      <td>staples</td>\n",
       "      <td>NaN</td>\n",
       "      <td>2330416.0</td>\n",
       "      <td>2.0</td>\n",
       "      <td>Typed Input</td>\n",
       "      <td>...</td>\n",
       "      <td>NaN</td>\n",
       "      <td>NaN</td>\n",
       "      <td>NaN</td>\n",
       "      <td>NaN</td>\n",
       "      <td>NaN</td>\n",
       "      <td>NaN</td>\n",
       "      <td>NaN</td>\n",
       "      <td>NaN</td>\n",
       "      <td>NaN</td>\n",
       "      <td>NaN</td>\n",
       "    </tr>\n",
       "    <tr>\n",
       "      <th>2</th>\n",
       "      <td>Enterprise</td>\n",
       "      <td>00000000-0000-0000-0000-000000000000</td>\n",
       "      <td>Web</td>\n",
       "      <td>8141.0</td>\n",
       "      <td>staples</td>\n",
       "      <td>staples</td>\n",
       "      <td>NaN</td>\n",
       "      <td>2615890.0</td>\n",
       "      <td>2.0</td>\n",
       "      <td>Typed Input</td>\n",
       "      <td>...</td>\n",
       "      <td>NaN</td>\n",
       "      <td>NaN</td>\n",
       "      <td>NaN</td>\n",
       "      <td>NaN</td>\n",
       "      <td>NaN</td>\n",
       "      <td>NaN</td>\n",
       "      <td>NaN</td>\n",
       "      <td>NaN</td>\n",
       "      <td>NaN</td>\n",
       "      <td>NaN</td>\n",
       "    </tr>\n",
       "    <tr>\n",
       "      <th>3</th>\n",
       "      <td>Enterprise</td>\n",
       "      <td>00000000-0000-0000-0000-000000000000</td>\n",
       "      <td>Web</td>\n",
       "      <td>8141.0</td>\n",
       "      <td>staples</td>\n",
       "      <td>staples</td>\n",
       "      <td>NaN</td>\n",
       "      <td>1332591.0</td>\n",
       "      <td>2.0</td>\n",
       "      <td>Typed Input</td>\n",
       "      <td>...</td>\n",
       "      <td>NaN</td>\n",
       "      <td>NaN</td>\n",
       "      <td>NaN</td>\n",
       "      <td>NaN</td>\n",
       "      <td>NaN</td>\n",
       "      <td>NaN</td>\n",
       "      <td>NaN</td>\n",
       "      <td>NaN</td>\n",
       "      <td>NaN</td>\n",
       "      <td>NaN</td>\n",
       "    </tr>\n",
       "    <tr>\n",
       "      <th>4</th>\n",
       "      <td>Enterprise</td>\n",
       "      <td>00000000-0000-0000-0000-000000000000</td>\n",
       "      <td>Web</td>\n",
       "      <td>8141.0</td>\n",
       "      <td>staples</td>\n",
       "      <td>staples</td>\n",
       "      <td>NaN</td>\n",
       "      <td>2421907.0</td>\n",
       "      <td>2.0</td>\n",
       "      <td>Typed Input</td>\n",
       "      <td>...</td>\n",
       "      <td>NaN</td>\n",
       "      <td>NaN</td>\n",
       "      <td>NaN</td>\n",
       "      <td>NaN</td>\n",
       "      <td>NaN</td>\n",
       "      <td>NaN</td>\n",
       "      <td>NaN</td>\n",
       "      <td>NaN</td>\n",
       "      <td>NaN</td>\n",
       "      <td>NaN</td>\n",
       "    </tr>\n",
       "  </tbody>\n",
       "</table>\n",
       "<p>5 rows × 173 columns</p>\n",
       "</div>"
      ],
      "text/plain": [
       "  agent_entitlement_client_name          agent_entitlement_access_key channel  \\\n",
       "0                    Enterprise  00000000-0000-0000-0000-000000000000     Web   \n",
       "1                    Enterprise  00000000-0000-0000-0000-000000000000     Web   \n",
       "2                    Enterprise  00000000-0000-0000-0000-000000000000     Web   \n",
       "3                    Enterprise  00000000-0000-0000-0000-000000000000     Web   \n",
       "4                    Enterprise  00000000-0000-0000-0000-000000000000     Web   \n",
       "\n",
       "   companytracking_clientid companytracking_companyid  \\\n",
       "0                    8141.0                   staples   \n",
       "1                    8141.0                   staples   \n",
       "2                    8141.0                   staples   \n",
       "3                    8141.0                   staples   \n",
       "4                    8141.0                   staples   \n",
       "\n",
       "  companytracking_companyname  companytracking_multitenantid   entry_id  \\\n",
       "0                     staples                            NaN  2292881.0   \n",
       "1                     staples                            NaN  2330416.0   \n",
       "2                     staples                            NaN  2615890.0   \n",
       "3                     staples                            NaN  1332591.0   \n",
       "4                     staples                            NaN  2421907.0   \n",
       "\n",
       "   entry_order   entry_type  ... page_load_elapsed_time mobile_app_type  \\\n",
       "0          7.0  Typed Input  ...                    NaN             NaN   \n",
       "1          2.0  Typed Input  ...                    NaN             NaN   \n",
       "2          2.0  Typed Input  ...                    NaN             NaN   \n",
       "3          2.0  Typed Input  ...                    NaN             NaN   \n",
       "4          2.0  Typed Input  ...                    NaN             NaN   \n",
       "\n",
       "  session_create_date_cst_timezone_partition platform_id_y search_text  \\\n",
       "0                                        NaN           NaN         NaN   \n",
       "1                                        NaN           NaN         NaN   \n",
       "2                                        NaN           NaN         NaN   \n",
       "3                                        NaN           NaN         NaN   \n",
       "4                                        NaN           NaN         NaN   \n",
       "\n",
       "  search_results session_created_timestamp input_orig labels  input_orig_1  \n",
       "0            NaN                       NaN        NaN    NaN           NaN  \n",
       "1            NaN                       NaN        NaN    NaN           NaN  \n",
       "2            NaN                       NaN        NaN    NaN           NaN  \n",
       "3            NaN                       NaN        NaN    NaN           NaN  \n",
       "4            NaN                       NaN        NaN    NaN           NaN  \n",
       "\n",
       "[5 rows x 173 columns]"
      ]
     },
     "execution_count": 103,
     "metadata": {},
     "output_type": "execute_result"
    }
   ],
   "source": [
    "df_concat.head()"
   ]
  },
  {
   "cell_type": "code",
   "execution_count": 104,
   "metadata": {
    "tags": []
   },
   "outputs": [
    {
     "data": {
      "text/plain": [
       "(5906010, 173)"
      ]
     },
     "execution_count": 104,
     "metadata": {},
     "output_type": "execute_result"
    }
   ],
   "source": [
    "df_concat.shape"
   ]
  },
  {
   "cell_type": "code",
   "execution_count": 105,
   "metadata": {
    "tags": []
   },
   "outputs": [],
   "source": [
    "# df_concat.columns.to_list()"
   ]
  },
  {
   "cell_type": "code",
   "execution_count": 139,
   "metadata": {
    "tags": []
   },
   "outputs": [],
   "source": [
    "df_concat2 = df_concat[['input','input_orig_1','input_orig','search_text','page_name','labels','unit_name']]"
   ]
  },
  {
   "cell_type": "code",
   "execution_count": 140,
   "metadata": {
    "tags": []
   },
   "outputs": [
    {
     "data": {
      "text/html": [
       "<div>\n",
       "<style scoped>\n",
       "    .dataframe tbody tr th:only-of-type {\n",
       "        vertical-align: middle;\n",
       "    }\n",
       "\n",
       "    .dataframe tbody tr th {\n",
       "        vertical-align: top;\n",
       "    }\n",
       "\n",
       "    .dataframe thead th {\n",
       "        text-align: right;\n",
       "    }\n",
       "</style>\n",
       "<table border=\"1\" class=\"dataframe\">\n",
       "  <thead>\n",
       "    <tr style=\"text-align: right;\">\n",
       "      <th></th>\n",
       "      <th>input</th>\n",
       "      <th>input_orig_1</th>\n",
       "      <th>input_orig</th>\n",
       "      <th>search_text</th>\n",
       "      <th>page_name</th>\n",
       "      <th>labels</th>\n",
       "      <th>unit_name</th>\n",
       "    </tr>\n",
       "  </thead>\n",
       "  <tbody>\n",
       "    <tr>\n",
       "      <th>0</th>\n",
       "      <td>step child a dependent?</td>\n",
       "      <td>NaN</td>\n",
       "      <td>NaN</td>\n",
       "      <td>NaN</td>\n",
       "      <td>NaN</td>\n",
       "      <td>NaN</td>\n",
       "      <td>Benefits Eligibility For Stepchildren</td>\n",
       "    </tr>\n",
       "    <tr>\n",
       "      <th>1</th>\n",
       "      <td>how do i change my dependent daycare deduction</td>\n",
       "      <td>NaN</td>\n",
       "      <td>NaN</td>\n",
       "      <td>NaN</td>\n",
       "      <td>NaN</td>\n",
       "      <td>NaN</td>\n",
       "      <td>Adding or Removing a Dependent _CORE_</td>\n",
       "    </tr>\n",
       "    <tr>\n",
       "      <th>2</th>\n",
       "      <td>Child last name change</td>\n",
       "      <td>NaN</td>\n",
       "      <td>NaN</td>\n",
       "      <td>NaN</td>\n",
       "      <td>NaN</td>\n",
       "      <td>NaN</td>\n",
       "      <td>Updating Legal Name</td>\n",
       "    </tr>\n",
       "    <tr>\n",
       "      <th>3</th>\n",
       "      <td>i am trying to add my children as beneficiarie...</td>\n",
       "      <td>NaN</td>\n",
       "      <td>NaN</td>\n",
       "      <td>NaN</td>\n",
       "      <td>NaN</td>\n",
       "      <td>NaN</td>\n",
       "      <td>Life Insurance Beneficiaries</td>\n",
       "    </tr>\n",
       "    <tr>\n",
       "      <th>4</th>\n",
       "      <td>how much timeoff do i get after the birth of m...</td>\n",
       "      <td>NaN</td>\n",
       "      <td>NaN</td>\n",
       "      <td>NaN</td>\n",
       "      <td>NaN</td>\n",
       "      <td>NaN</td>\n",
       "      <td>Paid Time Off Accrual</td>\n",
       "    </tr>\n",
       "  </tbody>\n",
       "</table>\n",
       "</div>"
      ],
      "text/plain": [
       "                                               input input_orig_1 input_orig  \\\n",
       "0                            step child a dependent?          NaN        NaN   \n",
       "1     how do i change my dependent daycare deduction          NaN        NaN   \n",
       "2                             Child last name change          NaN        NaN   \n",
       "3  i am trying to add my children as beneficiarie...          NaN        NaN   \n",
       "4  how much timeoff do i get after the birth of m...          NaN        NaN   \n",
       "\n",
       "  search_text page_name labels                              unit_name  \n",
       "0         NaN       NaN    NaN  Benefits Eligibility For Stepchildren  \n",
       "1         NaN       NaN    NaN  Adding or Removing a Dependent _CORE_  \n",
       "2         NaN       NaN    NaN                    Updating Legal Name  \n",
       "3         NaN       NaN    NaN           Life Insurance Beneficiaries  \n",
       "4         NaN       NaN    NaN                  Paid Time Off Accrual  "
      ]
     },
     "execution_count": 140,
     "metadata": {},
     "output_type": "execute_result"
    }
   ],
   "source": [
    "df_concat2.head()"
   ]
  },
  {
   "cell_type": "code",
   "execution_count": 143,
   "metadata": {
    "tags": []
   },
   "outputs": [],
   "source": [
    "# select the columns to stack\n",
    "cols_to_stack = ['input', 'input_orig_1', 'input_orig']\n",
    "\n",
    "# stack the columns using melt\n",
    "stacked = pd.melt(df_concat2, id_vars=['search_text', 'page_name', 'labels','unit_name'], \n",
    "                  value_vars=cols_to_stack, var_name='stacked_cols', value_name='stacked_input')"
   ]
  },
  {
   "cell_type": "code",
   "execution_count": 144,
   "metadata": {
    "tags": []
   },
   "outputs": [
    {
     "data": {
      "text/html": [
       "<div>\n",
       "<style scoped>\n",
       "    .dataframe tbody tr th:only-of-type {\n",
       "        vertical-align: middle;\n",
       "    }\n",
       "\n",
       "    .dataframe tbody tr th {\n",
       "        vertical-align: top;\n",
       "    }\n",
       "\n",
       "    .dataframe thead th {\n",
       "        text-align: right;\n",
       "    }\n",
       "</style>\n",
       "<table border=\"1\" class=\"dataframe\">\n",
       "  <thead>\n",
       "    <tr style=\"text-align: right;\">\n",
       "      <th></th>\n",
       "      <th>search_text</th>\n",
       "      <th>page_name</th>\n",
       "      <th>labels</th>\n",
       "      <th>unit_name</th>\n",
       "      <th>stacked_cols</th>\n",
       "      <th>stacked_input</th>\n",
       "    </tr>\n",
       "  </thead>\n",
       "  <tbody>\n",
       "    <tr>\n",
       "      <th>0</th>\n",
       "      <td>NaN</td>\n",
       "      <td>NaN</td>\n",
       "      <td>NaN</td>\n",
       "      <td>Benefits Eligibility For Stepchildren</td>\n",
       "      <td>input</td>\n",
       "      <td>step child a dependent?</td>\n",
       "    </tr>\n",
       "    <tr>\n",
       "      <th>1</th>\n",
       "      <td>NaN</td>\n",
       "      <td>NaN</td>\n",
       "      <td>NaN</td>\n",
       "      <td>Adding or Removing a Dependent _CORE_</td>\n",
       "      <td>input</td>\n",
       "      <td>how do i change my dependent daycare deduction</td>\n",
       "    </tr>\n",
       "    <tr>\n",
       "      <th>2</th>\n",
       "      <td>NaN</td>\n",
       "      <td>NaN</td>\n",
       "      <td>NaN</td>\n",
       "      <td>Updating Legal Name</td>\n",
       "      <td>input</td>\n",
       "      <td>Child last name change</td>\n",
       "    </tr>\n",
       "    <tr>\n",
       "      <th>3</th>\n",
       "      <td>NaN</td>\n",
       "      <td>NaN</td>\n",
       "      <td>NaN</td>\n",
       "      <td>Life Insurance Beneficiaries</td>\n",
       "      <td>input</td>\n",
       "      <td>i am trying to add my children as beneficiarie...</td>\n",
       "    </tr>\n",
       "    <tr>\n",
       "      <th>4</th>\n",
       "      <td>NaN</td>\n",
       "      <td>NaN</td>\n",
       "      <td>NaN</td>\n",
       "      <td>Paid Time Off Accrual</td>\n",
       "      <td>input</td>\n",
       "      <td>how much timeoff do i get after the birth of m...</td>\n",
       "    </tr>\n",
       "  </tbody>\n",
       "</table>\n",
       "</div>"
      ],
      "text/plain": [
       "  search_text page_name labels                              unit_name  \\\n",
       "0         NaN       NaN    NaN  Benefits Eligibility For Stepchildren   \n",
       "1         NaN       NaN    NaN  Adding or Removing a Dependent _CORE_   \n",
       "2         NaN       NaN    NaN                    Updating Legal Name   \n",
       "3         NaN       NaN    NaN           Life Insurance Beneficiaries   \n",
       "4         NaN       NaN    NaN                  Paid Time Off Accrual   \n",
       "\n",
       "  stacked_cols                                      stacked_input  \n",
       "0        input                            step child a dependent?  \n",
       "1        input     how do i change my dependent daycare deduction  \n",
       "2        input                             Child last name change  \n",
       "3        input  i am trying to add my children as beneficiarie...  \n",
       "4        input  how much timeoff do i get after the birth of m...  "
      ]
     },
     "execution_count": 144,
     "metadata": {},
     "output_type": "execute_result"
    }
   ],
   "source": [
    "stacked.head()"
   ]
  },
  {
   "cell_type": "code",
   "execution_count": 145,
   "metadata": {
    "tags": []
   },
   "outputs": [],
   "source": [
    "# df_concat2 = df_concat2.rename(columns={'input_orig':'input_orig_1'})"
   ]
  },
  {
   "cell_type": "code",
   "execution_count": 146,
   "metadata": {
    "tags": []
   },
   "outputs": [],
   "source": [
    "# df_concat2.head()"
   ]
  },
  {
   "cell_type": "code",
   "execution_count": 147,
   "metadata": {
    "tags": []
   },
   "outputs": [
    {
     "data": {
      "text/plain": [
       "(17718030, 6)"
      ]
     },
     "execution_count": 147,
     "metadata": {},
     "output_type": "execute_result"
    }
   ],
   "source": [
    "stacked.shape"
   ]
  },
  {
   "cell_type": "code",
   "execution_count": 148,
   "metadata": {
    "tags": []
   },
   "outputs": [],
   "source": [
    "# Use melt() to stack columns 'A', 'B', and 'C' into a single column 'value'\n",
    "# df_concat2 = pd.melt(df_concat2, value_vars=['input', 'input_orig', 'input_orig'], var_name='column', value_name='stacked_input')"
   ]
  },
  {
   "cell_type": "code",
   "execution_count": 149,
   "metadata": {
    "tags": []
   },
   "outputs": [],
   "source": [
    "# df_concat2.head()"
   ]
  },
  {
   "cell_type": "code",
   "execution_count": 150,
   "metadata": {},
   "outputs": [],
   "source": [
    "# df_stacked_concat2.shape"
   ]
  },
  {
   "cell_type": "code",
   "execution_count": 151,
   "metadata": {},
   "outputs": [],
   "source": [
    "stacked.drop_duplicates(inplace=True)"
   ]
  },
  {
   "cell_type": "code",
   "execution_count": 152,
   "metadata": {
    "tags": []
   },
   "outputs": [
    {
     "data": {
      "text/plain": [
       "(4378178, 6)"
      ]
     },
     "execution_count": 152,
     "metadata": {},
     "output_type": "execute_result"
    }
   ],
   "source": [
    "stacked.shape"
   ]
  },
  {
   "cell_type": "code",
   "execution_count": 153,
   "metadata": {
    "tags": []
   },
   "outputs": [],
   "source": [
    "stacked.dropna(subset=['search_text','page_name','stacked_input'], how='all', inplace=True)"
   ]
  },
  {
   "cell_type": "code",
   "execution_count": 154,
   "metadata": {
    "tags": []
   },
   "outputs": [
    {
     "data": {
      "text/plain": [
       "(3907681, 6)"
      ]
     },
     "execution_count": 154,
     "metadata": {},
     "output_type": "execute_result"
    }
   ],
   "source": [
    "stacked.shape"
   ]
  },
  {
   "cell_type": "code",
   "execution_count": 155,
   "metadata": {
    "tags": []
   },
   "outputs": [],
   "source": [
    "stacked = stacked.drop(['stacked_cols'], axis=1)"
   ]
  },
  {
   "cell_type": "code",
   "execution_count": 156,
   "metadata": {
    "tags": []
   },
   "outputs": [
    {
     "data": {
      "text/html": [
       "<div>\n",
       "<style scoped>\n",
       "    .dataframe tbody tr th:only-of-type {\n",
       "        vertical-align: middle;\n",
       "    }\n",
       "\n",
       "    .dataframe tbody tr th {\n",
       "        vertical-align: top;\n",
       "    }\n",
       "\n",
       "    .dataframe thead th {\n",
       "        text-align: right;\n",
       "    }\n",
       "</style>\n",
       "<table border=\"1\" class=\"dataframe\">\n",
       "  <thead>\n",
       "    <tr style=\"text-align: right;\">\n",
       "      <th></th>\n",
       "      <th>search_text</th>\n",
       "      <th>page_name</th>\n",
       "      <th>labels</th>\n",
       "      <th>unit_name</th>\n",
       "      <th>stacked_input</th>\n",
       "    </tr>\n",
       "  </thead>\n",
       "  <tbody>\n",
       "    <tr>\n",
       "      <th>0</th>\n",
       "      <td>NaN</td>\n",
       "      <td>NaN</td>\n",
       "      <td>NaN</td>\n",
       "      <td>Benefits Eligibility For Stepchildren</td>\n",
       "      <td>step child a dependent?</td>\n",
       "    </tr>\n",
       "    <tr>\n",
       "      <th>1</th>\n",
       "      <td>NaN</td>\n",
       "      <td>NaN</td>\n",
       "      <td>NaN</td>\n",
       "      <td>Adding or Removing a Dependent _CORE_</td>\n",
       "      <td>how do i change my dependent daycare deduction</td>\n",
       "    </tr>\n",
       "    <tr>\n",
       "      <th>2</th>\n",
       "      <td>NaN</td>\n",
       "      <td>NaN</td>\n",
       "      <td>NaN</td>\n",
       "      <td>Updating Legal Name</td>\n",
       "      <td>Child last name change</td>\n",
       "    </tr>\n",
       "    <tr>\n",
       "      <th>3</th>\n",
       "      <td>NaN</td>\n",
       "      <td>NaN</td>\n",
       "      <td>NaN</td>\n",
       "      <td>Life Insurance Beneficiaries</td>\n",
       "      <td>i am trying to add my children as beneficiarie...</td>\n",
       "    </tr>\n",
       "    <tr>\n",
       "      <th>4</th>\n",
       "      <td>NaN</td>\n",
       "      <td>NaN</td>\n",
       "      <td>NaN</td>\n",
       "      <td>Paid Time Off Accrual</td>\n",
       "      <td>how much timeoff do i get after the birth of m...</td>\n",
       "    </tr>\n",
       "  </tbody>\n",
       "</table>\n",
       "</div>"
      ],
      "text/plain": [
       "  search_text page_name labels                              unit_name  \\\n",
       "0         NaN       NaN    NaN  Benefits Eligibility For Stepchildren   \n",
       "1         NaN       NaN    NaN  Adding or Removing a Dependent _CORE_   \n",
       "2         NaN       NaN    NaN                    Updating Legal Name   \n",
       "3         NaN       NaN    NaN           Life Insurance Beneficiaries   \n",
       "4         NaN       NaN    NaN                  Paid Time Off Accrual   \n",
       "\n",
       "                                       stacked_input  \n",
       "0                            step child a dependent?  \n",
       "1     how do i change my dependent daycare deduction  \n",
       "2                             Child last name change  \n",
       "3  i am trying to add my children as beneficiarie...  \n",
       "4  how much timeoff do i get after the birth of m...  "
      ]
     },
     "execution_count": 156,
     "metadata": {},
     "output_type": "execute_result"
    }
   ],
   "source": [
    "stacked.head()"
   ]
  },
  {
   "cell_type": "code",
   "execution_count": 157,
   "metadata": {
    "tags": []
   },
   "outputs": [],
   "source": [
    "import string\n",
    "import nltk\n",
    "nltk.data.path.append('../../nltk_data')\n",
    "from nltk.corpus import stopwords\n",
    "# nltk.download('stopwords')\n"
   ]
  },
  {
   "cell_type": "code",
   "execution_count": 158,
   "metadata": {
    "tags": []
   },
   "outputs": [],
   "source": [
    "def clean_text(df, text_cols):\n",
    "    # Create a new dataframe to hold the cleaned text columns\n",
    "    cleaned_df = pd.DataFrame()\n",
    "    \n",
    "    # Define the list of stopwords\n",
    "    stop_words = set(stopwords.words('english'))\n",
    "    \n",
    "    # Clean each text column and add it to the cleaned dataframe\n",
    "    for text_col in text_cols:\n",
    "        text_list = df[text_col].tolist()\n",
    "        text_list = [str(text) for text in text_list]\n",
    "        text_list = [text if text.strip() and not\n",
    "                     set(text).issubset(set(string.punctuation + string.whitespace)) else '' \n",
    "                     for text in text_list]\n",
    "        text_list = [x.lower() for x in text_list]\n",
    "        translator = str.maketrans(string.punctuation + string.digits + \"_\", \" \" * len(\n",
    "            string.punctuation + string.digits + \"_\"))\n",
    "        cleaned_list = []\n",
    "        for text in text_list:\n",
    "            cleaned_text = text.translate(translator)\n",
    "            cleaned_text = ' '.join(cleaned_text.split())\n",
    "            cleaned_text = ' '.join([word for word in cleaned_text.split() if word not in stop_words])\n",
    "            cleaned_list.append(cleaned_text)\n",
    "        cleaned_df[text_col] = cleaned_list\n",
    "    \n",
    "    # Add the non-text columns to the cleaned dataframe\n",
    "    for col in df.columns:\n",
    "        if col not in text_cols:\n",
    "            cleaned_df[col] = df[col]\n",
    "    \n",
    "    return cleaned_df\n"
   ]
  },
  {
   "cell_type": "code",
   "execution_count": 159,
   "metadata": {
    "tags": []
   },
   "outputs": [
    {
     "data": {
      "text/html": [
       "<div>\n",
       "<style scoped>\n",
       "    .dataframe tbody tr th:only-of-type {\n",
       "        vertical-align: middle;\n",
       "    }\n",
       "\n",
       "    .dataframe tbody tr th {\n",
       "        vertical-align: top;\n",
       "    }\n",
       "\n",
       "    .dataframe thead th {\n",
       "        text-align: right;\n",
       "    }\n",
       "</style>\n",
       "<table border=\"1\" class=\"dataframe\">\n",
       "  <thead>\n",
       "    <tr style=\"text-align: right;\">\n",
       "      <th></th>\n",
       "      <th>search_text</th>\n",
       "      <th>page_name</th>\n",
       "      <th>labels</th>\n",
       "      <th>unit_name</th>\n",
       "      <th>stacked_input</th>\n",
       "    </tr>\n",
       "  </thead>\n",
       "  <tbody>\n",
       "    <tr>\n",
       "      <th>11056943</th>\n",
       "      <td>NaN</td>\n",
       "      <td>NaN</td>\n",
       "      <td>NaN</td>\n",
       "      <td>Vision Insurance Card</td>\n",
       "      <td>I need a vision benefits id card</td>\n",
       "    </tr>\n",
       "  </tbody>\n",
       "</table>\n",
       "</div>"
      ],
      "text/plain": [
       "         search_text page_name labels              unit_name  \\\n",
       "11056943         NaN       NaN    NaN  Vision Insurance Card   \n",
       "\n",
       "                             stacked_input  \n",
       "11056943  I need a vision benefits id card  "
      ]
     },
     "execution_count": 159,
     "metadata": {},
     "output_type": "execute_result"
    }
   ],
   "source": [
    "stacked.sample()"
   ]
  },
  {
   "cell_type": "code",
   "execution_count": 160,
   "metadata": {},
   "outputs": [],
   "source": [
    "df_concat3 = clean_text(stacked, text_cols=['stacked_input','search_text','page_name','unit_name'])\n",
    "# cleaned_stacked, removed_rows = clean_text(stacked, text_cols=['stacked_input','search_text','page_name'])"
   ]
  },
  {
   "cell_type": "code",
   "execution_count": 161,
   "metadata": {},
   "outputs": [
    {
     "data": {
      "text/html": [
       "<div>\n",
       "<style scoped>\n",
       "    .dataframe tbody tr th:only-of-type {\n",
       "        vertical-align: middle;\n",
       "    }\n",
       "\n",
       "    .dataframe tbody tr th {\n",
       "        vertical-align: top;\n",
       "    }\n",
       "\n",
       "    .dataframe thead th {\n",
       "        text-align: right;\n",
       "    }\n",
       "</style>\n",
       "<table border=\"1\" class=\"dataframe\">\n",
       "  <thead>\n",
       "    <tr style=\"text-align: right;\">\n",
       "      <th></th>\n",
       "      <th>stacked_input</th>\n",
       "      <th>search_text</th>\n",
       "      <th>page_name</th>\n",
       "      <th>unit_name</th>\n",
       "      <th>labels</th>\n",
       "    </tr>\n",
       "  </thead>\n",
       "  <tbody>\n",
       "    <tr>\n",
       "      <th>0</th>\n",
       "      <td>step child dependent</td>\n",
       "      <td>nan</td>\n",
       "      <td>nan</td>\n",
       "      <td>benefits eligibility stepchildren</td>\n",
       "      <td>NaN</td>\n",
       "    </tr>\n",
       "    <tr>\n",
       "      <th>1</th>\n",
       "      <td>change dependent daycare deduction</td>\n",
       "      <td>nan</td>\n",
       "      <td>nan</td>\n",
       "      <td>adding removing dependent core</td>\n",
       "      <td>NaN</td>\n",
       "    </tr>\n",
       "    <tr>\n",
       "      <th>2</th>\n",
       "      <td>child last name change</td>\n",
       "      <td>nan</td>\n",
       "      <td>nan</td>\n",
       "      <td>updating legal name</td>\n",
       "      <td>NaN</td>\n",
       "    </tr>\n",
       "    <tr>\n",
       "      <th>3</th>\n",
       "      <td>trying add children beneficiaries life ins</td>\n",
       "      <td>nan</td>\n",
       "      <td>nan</td>\n",
       "      <td>life insurance beneficiaries</td>\n",
       "      <td>NaN</td>\n",
       "    </tr>\n",
       "    <tr>\n",
       "      <th>4</th>\n",
       "      <td>much timeoff get birth child</td>\n",
       "      <td>nan</td>\n",
       "      <td>nan</td>\n",
       "      <td>paid time accrual</td>\n",
       "      <td>NaN</td>\n",
       "    </tr>\n",
       "  </tbody>\n",
       "</table>\n",
       "</div>"
      ],
      "text/plain": [
       "                                stacked_input search_text page_name  \\\n",
       "0                        step child dependent         nan       nan   \n",
       "1          change dependent daycare deduction         nan       nan   \n",
       "2                      child last name change         nan       nan   \n",
       "3  trying add children beneficiaries life ins         nan       nan   \n",
       "4                much timeoff get birth child         nan       nan   \n",
       "\n",
       "                           unit_name labels  \n",
       "0  benefits eligibility stepchildren    NaN  \n",
       "1     adding removing dependent core    NaN  \n",
       "2                updating legal name    NaN  \n",
       "3       life insurance beneficiaries    NaN  \n",
       "4                  paid time accrual    NaN  "
      ]
     },
     "execution_count": 161,
     "metadata": {},
     "output_type": "execute_result"
    }
   ],
   "source": [
    "df_concat3.head(5)"
   ]
  },
  {
   "cell_type": "code",
   "execution_count": 162,
   "metadata": {
    "tags": []
   },
   "outputs": [
    {
     "data": {
      "text/plain": [
       "(3907681, 5)"
      ]
     },
     "execution_count": 162,
     "metadata": {},
     "output_type": "execute_result"
    }
   ],
   "source": [
    "df_concat3.shape"
   ]
  },
  {
   "cell_type": "code",
   "execution_count": 163,
   "metadata": {
    "tags": []
   },
   "outputs": [
    {
     "data": {
      "text/html": [
       "<div>\n",
       "<style scoped>\n",
       "    .dataframe tbody tr th:only-of-type {\n",
       "        vertical-align: middle;\n",
       "    }\n",
       "\n",
       "    .dataframe tbody tr th {\n",
       "        vertical-align: top;\n",
       "    }\n",
       "\n",
       "    .dataframe thead th {\n",
       "        text-align: right;\n",
       "    }\n",
       "</style>\n",
       "<table border=\"1\" class=\"dataframe\">\n",
       "  <thead>\n",
       "    <tr style=\"text-align: right;\">\n",
       "      <th></th>\n",
       "      <th>stacked_input</th>\n",
       "      <th>search_text</th>\n",
       "      <th>page_name</th>\n",
       "      <th>unit_name</th>\n",
       "      <th>labels</th>\n",
       "    </tr>\n",
       "  </thead>\n",
       "  <tbody>\n",
       "    <tr>\n",
       "      <th>0</th>\n",
       "      <td>step child dependent</td>\n",
       "      <td></td>\n",
       "      <td></td>\n",
       "      <td>benefits eligibility stepchildren</td>\n",
       "      <td>NaN</td>\n",
       "    </tr>\n",
       "    <tr>\n",
       "      <th>1</th>\n",
       "      <td>change dependent daycare deduction</td>\n",
       "      <td></td>\n",
       "      <td></td>\n",
       "      <td>adding removing dependent core</td>\n",
       "      <td>NaN</td>\n",
       "    </tr>\n",
       "    <tr>\n",
       "      <th>2</th>\n",
       "      <td>child last name change</td>\n",
       "      <td></td>\n",
       "      <td></td>\n",
       "      <td>updating legal name</td>\n",
       "      <td>NaN</td>\n",
       "    </tr>\n",
       "    <tr>\n",
       "      <th>3</th>\n",
       "      <td>trying add children beneficiaries life ins</td>\n",
       "      <td></td>\n",
       "      <td></td>\n",
       "      <td>life insurance beneficiaries</td>\n",
       "      <td>NaN</td>\n",
       "    </tr>\n",
       "    <tr>\n",
       "      <th>4</th>\n",
       "      <td>much timeoff get birth child</td>\n",
       "      <td></td>\n",
       "      <td></td>\n",
       "      <td>paid time accrual</td>\n",
       "      <td>NaN</td>\n",
       "    </tr>\n",
       "  </tbody>\n",
       "</table>\n",
       "</div>"
      ],
      "text/plain": [
       "                                stacked_input search_text page_name  \\\n",
       "0                        step child dependent                         \n",
       "1          change dependent daycare deduction                         \n",
       "2                      child last name change                         \n",
       "3  trying add children beneficiaries life ins                         \n",
       "4                much timeoff get birth child                         \n",
       "\n",
       "                           unit_name  labels  \n",
       "0  benefits eligibility stepchildren     NaN  \n",
       "1     adding removing dependent core     NaN  \n",
       "2                updating legal name     NaN  \n",
       "3       life insurance beneficiaries     NaN  \n",
       "4                  paid time accrual     NaN  "
      ]
     },
     "execution_count": 163,
     "metadata": {},
     "output_type": "execute_result"
    }
   ],
   "source": [
    "df_concat4 = df_concat3.replace('nan', '')\n",
    "df_concat4.head()"
   ]
  },
  {
   "cell_type": "code",
   "execution_count": 164,
   "metadata": {
    "tags": []
   },
   "outputs": [],
   "source": [
    "df_concat4['text'] = df_concat4[['stacked_input', 'search_text', 'page_name']].apply(lambda x: ' '.join([str(i) for i in x if not pd.isna(i)]), axis=1)"
   ]
  },
  {
   "cell_type": "code",
   "execution_count": 165,
   "metadata": {
    "tags": []
   },
   "outputs": [],
   "source": [
    "df_concat4.drop(['stacked_input','search_text','page_name'], inplace=True, axis=1)"
   ]
  },
  {
   "cell_type": "code",
   "execution_count": 166,
   "metadata": {
    "tags": []
   },
   "outputs": [
    {
     "data": {
      "text/html": [
       "<div>\n",
       "<style scoped>\n",
       "    .dataframe tbody tr th:only-of-type {\n",
       "        vertical-align: middle;\n",
       "    }\n",
       "\n",
       "    .dataframe tbody tr th {\n",
       "        vertical-align: top;\n",
       "    }\n",
       "\n",
       "    .dataframe thead th {\n",
       "        text-align: right;\n",
       "    }\n",
       "</style>\n",
       "<table border=\"1\" class=\"dataframe\">\n",
       "  <thead>\n",
       "    <tr style=\"text-align: right;\">\n",
       "      <th></th>\n",
       "      <th>unit_name</th>\n",
       "      <th>labels</th>\n",
       "      <th>text</th>\n",
       "    </tr>\n",
       "  </thead>\n",
       "  <tbody>\n",
       "    <tr>\n",
       "      <th>0</th>\n",
       "      <td>benefits eligibility stepchildren</td>\n",
       "      <td>NaN</td>\n",
       "      <td>step child dependent</td>\n",
       "    </tr>\n",
       "    <tr>\n",
       "      <th>1</th>\n",
       "      <td>adding removing dependent core</td>\n",
       "      <td>NaN</td>\n",
       "      <td>change dependent daycare deduction</td>\n",
       "    </tr>\n",
       "    <tr>\n",
       "      <th>2</th>\n",
       "      <td>updating legal name</td>\n",
       "      <td>NaN</td>\n",
       "      <td>child last name change</td>\n",
       "    </tr>\n",
       "    <tr>\n",
       "      <th>3</th>\n",
       "      <td>life insurance beneficiaries</td>\n",
       "      <td>NaN</td>\n",
       "      <td>trying add children beneficiaries life ins</td>\n",
       "    </tr>\n",
       "    <tr>\n",
       "      <th>4</th>\n",
       "      <td>paid time accrual</td>\n",
       "      <td>NaN</td>\n",
       "      <td>much timeoff get birth child</td>\n",
       "    </tr>\n",
       "  </tbody>\n",
       "</table>\n",
       "</div>"
      ],
      "text/plain": [
       "                           unit_name  labels  \\\n",
       "0  benefits eligibility stepchildren     NaN   \n",
       "1     adding removing dependent core     NaN   \n",
       "2                updating legal name     NaN   \n",
       "3       life insurance beneficiaries     NaN   \n",
       "4                  paid time accrual     NaN   \n",
       "\n",
       "                                           text  \n",
       "0                        step child dependent    \n",
       "1          change dependent daycare deduction    \n",
       "2                      child last name change    \n",
       "3  trying add children beneficiaries life ins    \n",
       "4                much timeoff get birth child    "
      ]
     },
     "execution_count": 166,
     "metadata": {},
     "output_type": "execute_result"
    }
   ],
   "source": [
    "df_concat4.head()"
   ]
  },
  {
   "cell_type": "code",
   "execution_count": 167,
   "metadata": {
    "tags": []
   },
   "outputs": [],
   "source": [
    "# df_concat4.drop(['input_orig'], inplace=True, axis=1)"
   ]
  },
  {
   "cell_type": "code",
   "execution_count": 168,
   "metadata": {
    "tags": []
   },
   "outputs": [],
   "source": [
    "# df_concat4.head()"
   ]
  },
  {
   "cell_type": "code",
   "execution_count": 169,
   "metadata": {
    "tags": []
   },
   "outputs": [],
   "source": [
    "df_concat4.drop_duplicates(subset=['text'], inplace=True)"
   ]
  },
  {
   "cell_type": "code",
   "execution_count": 170,
   "metadata": {
    "tags": []
   },
   "outputs": [
    {
     "data": {
      "text/plain": [
       "(1336481, 3)"
      ]
     },
     "execution_count": 170,
     "metadata": {},
     "output_type": "execute_result"
    }
   ],
   "source": [
    "df_concat4.shape"
   ]
  },
  {
   "cell_type": "code",
   "execution_count": 171,
   "metadata": {
    "tags": []
   },
   "outputs": [
    {
     "name": "stdout",
     "output_type": "stream",
     "text": [
      "294\n"
     ]
    }
   ],
   "source": [
    "# Get the value counts of the 'labels' column\n",
    "label_counts = df_concat4['unit_name'].value_counts()\n",
    "print(sum(label_counts>500))\n",
    "# Filter the dataframe to only include rows where the label count is greater than 10000\n",
    "df_concat5 = df_concat4[df_concat4['unit_name'].isin(label_counts[label_counts > 10000].index)]\n",
    "\n",
    "# Get the shape of the resulting filtered dataframe\n",
    "df_concat5_shape = df_concat5.shape"
   ]
  },
  {
   "cell_type": "code",
   "execution_count": 172,
   "metadata": {
    "tags": []
   },
   "outputs": [
    {
     "data": {
      "text/plain": [
       "(115888, 3)"
      ]
     },
     "execution_count": 172,
     "metadata": {},
     "output_type": "execute_result"
    }
   ],
   "source": [
    "df_concat5_shape"
   ]
  },
  {
   "cell_type": "code",
   "execution_count": 173,
   "metadata": {
    "tags": []
   },
   "outputs": [
    {
     "data": {
      "text/plain": [
       "know                           36007\n",
       "contact us                     18407\n",
       "benefits clarifier             14650\n",
       "medical benefits clarifier     12475\n",
       "manage dependents clarifier    12177\n",
       "tying units                    12006\n",
       "child care plus information    10166\n",
       "Name: unit_name, dtype: int64"
      ]
     },
     "execution_count": 173,
     "metadata": {},
     "output_type": "execute_result"
    }
   ],
   "source": [
    "df_concat5['unit_name'].value_counts()"
   ]
  },
  {
   "cell_type": "code",
   "execution_count": 174,
   "metadata": {
    "tags": []
   },
   "outputs": [
    {
     "data": {
      "text/plain": [
       "Series([], dtype: int64)"
      ]
     },
     "execution_count": 174,
     "metadata": {},
     "output_type": "execute_result"
    }
   ],
   "source": [
    "df_concat4[df_concat4['text']=='nan '].value_counts()"
   ]
  },
  {
   "cell_type": "code",
   "execution_count": 175,
   "metadata": {
    "tags": []
   },
   "outputs": [],
   "source": [
    "df_concat4.to_parquet('cc_df_concat5.parquet')"
   ]
  },
  {
   "cell_type": "markdown",
   "metadata": {},
   "source": [
    "### finding the texts which contain exact phrases from synonyms list"
   ]
  },
  {
   "cell_type": "code",
   "execution_count": 35,
   "metadata": {
    "tags": []
   },
   "outputs": [
    {
     "data": {
      "text/plain": [
       "41"
      ]
     },
     "execution_count": 35,
     "metadata": {},
     "output_type": "execute_result"
    }
   ],
   "source": [
    "words_3 = ['day care', 'creche', 'childcare', 'daycare', 'after school care', 'pre school', 'child', 'baby',\n",
    "           'infant', 'girl child', 'play school', 'boy child', 'Adolescent', 'nursery', 'preschool', 'day nursery',\n",
    "           'playschool', 'kindergarten', 'childminding', 'babysitting', 'babysitter', 'nanny', 'children supervision', \n",
    "           'toddler care', 'baby sitter', 'children', 'child supervision', 'childs', 'stepchild', 'step daughter', 'step son', \n",
    "           'grandchildren', 'grandchild', 'daughter', 'son', 'stepchildren', 'childhood', 'day cares', 'childrent', 'daycares', \n",
    "           'childplus']\n",
    "\n",
    "\n",
    "words_4 = list(set([word.lower() for word in words_3]))\n",
    "\n",
    "len(words_4)"
   ]
  },
  {
   "cell_type": "code",
   "execution_count": 24,
   "metadata": {
    "tags": []
   },
   "outputs": [],
   "source": [
    "df_concat4 = pd.read_parquet('cc_df_concat5.parquet')"
   ]
  },
  {
   "cell_type": "code",
   "execution_count": 25,
   "metadata": {},
   "outputs": [
    {
     "name": "stderr",
     "output_type": "stream",
     "text": [
      "/opt/conda/lib/python3.7/site-packages/ipykernel_launcher.py:1: UserWarning: This pattern has match groups. To actually get the groups, use str.extract.\n",
      "  \"\"\"Entry point for launching an IPython kernel.\n"
     ]
    },
    {
     "data": {
      "text/html": [
       "<div>\n",
       "<style scoped>\n",
       "    .dataframe tbody tr th:only-of-type {\n",
       "        vertical-align: middle;\n",
       "    }\n",
       "\n",
       "    .dataframe tbody tr th {\n",
       "        vertical-align: top;\n",
       "    }\n",
       "\n",
       "    .dataframe thead th {\n",
       "        text-align: right;\n",
       "    }\n",
       "</style>\n",
       "<table border=\"1\" class=\"dataframe\">\n",
       "  <thead>\n",
       "    <tr style=\"text-align: right;\">\n",
       "      <th></th>\n",
       "      <th>unit_name</th>\n",
       "      <th>labels</th>\n",
       "      <th>text</th>\n",
       "      <th>category</th>\n",
       "    </tr>\n",
       "  </thead>\n",
       "  <tbody>\n",
       "    <tr>\n",
       "      <th>0</th>\n",
       "      <td>benefits eligibility stepchildren</td>\n",
       "      <td>NaN</td>\n",
       "      <td>step child dependent</td>\n",
       "      <td>Child care</td>\n",
       "    </tr>\n",
       "    <tr>\n",
       "      <th>1</th>\n",
       "      <td>adding removing dependent core</td>\n",
       "      <td>NaN</td>\n",
       "      <td>change dependent daycare deduction</td>\n",
       "      <td>Child care</td>\n",
       "    </tr>\n",
       "    <tr>\n",
       "      <th>2</th>\n",
       "      <td>updating legal name</td>\n",
       "      <td>NaN</td>\n",
       "      <td>child last name change</td>\n",
       "      <td>Child care</td>\n",
       "    </tr>\n",
       "    <tr>\n",
       "      <th>3</th>\n",
       "      <td>life insurance beneficiaries</td>\n",
       "      <td>NaN</td>\n",
       "      <td>trying add children beneficiaries life ins</td>\n",
       "      <td>Child care</td>\n",
       "    </tr>\n",
       "    <tr>\n",
       "      <th>4</th>\n",
       "      <td>paid time accrual</td>\n",
       "      <td>NaN</td>\n",
       "      <td>much timeoff get birth child</td>\n",
       "      <td>Child care</td>\n",
       "    </tr>\n",
       "  </tbody>\n",
       "</table>\n",
       "</div>"
      ],
      "text/plain": [
       "                           unit_name  labels  \\\n",
       "0  benefits eligibility stepchildren     NaN   \n",
       "1     adding removing dependent core     NaN   \n",
       "2                updating legal name     NaN   \n",
       "3       life insurance beneficiaries     NaN   \n",
       "4                  paid time accrual     NaN   \n",
       "\n",
       "                                           text    category  \n",
       "0                        step child dependent    Child care  \n",
       "1          change dependent daycare deduction    Child care  \n",
       "2                      child last name change    Child care  \n",
       "3  trying add children beneficiaries life ins    Child care  \n",
       "4                much timeoff get birth child    Child care  "
      ]
     },
     "execution_count": 25,
     "metadata": {},
     "output_type": "execute_result"
    }
   ],
   "source": [
    "mask = (df_concat4['text'].str.contains(r'\\b(' + '|'.join(words_4) + r')\\b', case=False, na=False))\n",
    "\n",
    "df_concat4['category'] = ''\n",
    "df_concat4.loc[mask, 'category'] = 'Child care'\n",
    "# df_combined_web_iva_search.loc[df_combined_web_iva_search['category'] == '', 'category'] = 'Other'\n",
    "\n",
    "df_concat4.head(5)"
   ]
  },
  {
   "cell_type": "code",
   "execution_count": 26,
   "metadata": {
    "tags": []
   },
   "outputs": [],
   "source": [
    "# df_concat4[df_concat4['category']=='Child care'].sample(20)"
   ]
  },
  {
   "cell_type": "code",
   "execution_count": 27,
   "metadata": {
    "tags": []
   },
   "outputs": [
    {
     "data": {
      "text/plain": [
       "(126152, 4)"
      ]
     },
     "execution_count": 27,
     "metadata": {},
     "output_type": "execute_result"
    }
   ],
   "source": [
    "df_concat4[df_concat4['category']=='Child care'].shape"
   ]
  },
  {
   "cell_type": "code",
   "execution_count": 28,
   "metadata": {
    "tags": []
   },
   "outputs": [
    {
     "data": {
      "text/plain": [
       "              1210329\n",
       "Child care     126152\n",
       "Name: category, dtype: int64"
      ]
     },
     "execution_count": 28,
     "metadata": {},
     "output_type": "execute_result"
    }
   ],
   "source": [
    "df_concat4['category'].value_counts()"
   ]
  },
  {
   "cell_type": "markdown",
   "metadata": {},
   "source": [
    "### get text which are similar to phrases in synonnyms list for texts other than which are filtered above"
   ]
  },
  {
   "cell_type": "code",
   "execution_count": 30,
   "metadata": {
    "tags": []
   },
   "outputs": [],
   "source": [
    "from sentence_transformers import SentenceTransformer\n",
    "from sklearn.metrics.pairwise import cosine_similarity\n",
    "\n",
    "def get_similarity(sentence1, sentence2):\n",
    "    # Load the SBERT model\n",
    "    # model = SentenceTransformer('all-MiniLM-L6-v2')\n",
    "    model = SentenceTransformer('all-mpnet-base-v2')\n",
    "\n",
    "    # Encode the sentences and calculate embeddings\n",
    "    embeddings = model.encode([sentence1, sentence2], convert_to_tensor=True)\n",
    "\n",
    "    # Move the embeddings to the CPU and convert to numpy arrays\n",
    "    embeddings_cpu = embeddings.cpu().numpy()\n",
    "\n",
    "    # Calculate cosine similarity\n",
    "    similarity = cosine_similarity(embeddings_cpu[0].reshape(1, -1), embeddings_cpu[1].reshape(1, -1))\n",
    "\n",
    "    return similarity\n"
   ]
  },
  {
   "cell_type": "code",
   "execution_count": 31,
   "metadata": {
    "tags": []
   },
   "outputs": [
    {
     "data": {
      "text/plain": [
       "array([[0.54044855]], dtype=float32)"
      ]
     },
     "execution_count": 31,
     "metadata": {},
     "output_type": "execute_result"
    }
   ],
   "source": [
    "# get_similarity(\"mom\", \"daughter\")\n",
    "get_similarity(\"parental\", \"daughter\")"
   ]
  },
  {
   "cell_type": "code",
   "execution_count": 36,
   "metadata": {
    "tags": []
   },
   "outputs": [],
   "source": [
    "import torch\n",
    "from sentence_transformers import SentenceTransformer\n",
    "import pandas as pd\n",
    "\n",
    "def find_similar_sentences(df, sentences, phrases, model, threshold=0.73, category_name='Child care', device='cuda', batch_size=32):\n",
    "    # Set the device\n",
    "    device = torch.device(device)\n",
    "\n",
    "    # Move the model to the device\n",
    "    model = model.to(device)\n",
    "\n",
    "    # Encode the phrases using the model\n",
    "    phrase_embeddings = model.encode(phrases, convert_to_tensor=True, device=device)\n",
    "\n",
    "    # Initialize empty lists to store the similar sentences and phrases\n",
    "    similar_sentences = []\n",
    "    similar_phrases = []\n",
    "\n",
    "    # Make sure the sentences input is in the correct format\n",
    "    if isinstance(sentences, str):\n",
    "        sentences = [sentences]\n",
    "\n",
    "    # Split the sentences into batches\n",
    "    batches = [sentences[i:i + batch_size] for i in range(0, len(sentences), batch_size)]\n",
    "\n",
    "    with torch.no_grad():\n",
    "        # Iterate over the batches\n",
    "        for batch_sentences in batches:\n",
    "            # Encode the batch of sentences using the model\n",
    "            sentence_embeddings = model.encode(batch_sentences, convert_to_tensor=True, device=device)\n",
    "\n",
    "            # Calculate the cosine similarity between the sentence embeddings and the phrase embeddings\n",
    "            cosine_scores = torch.nn.functional.cosine_similarity(sentence_embeddings.unsqueeze(1), phrase_embeddings.unsqueeze(0), dim=-1)\n",
    "\n",
    "            # Iterate over the batch of sentences and similarity scores and append the sentence to the list if it meets the threshold for at least one phrase\n",
    "            for j, scores_list in enumerate(cosine_scores):\n",
    "                mask = scores_list >= threshold\n",
    "                if mask.any():\n",
    "                    similar_sentences.extend([batch_sentences[j]] * mask.sum().item())\n",
    "                    similar_phrases.extend([phrases[i] for i in torch.nonzero(mask).flatten()])\n",
    "\n",
    "    # Remove duplicates from similar_sentences and similar_phrases while preserving order\n",
    "    seen_sentences = set()\n",
    "    seen_phrases = set()\n",
    "    unique_sentences = []\n",
    "    unique_phrases = []\n",
    "    for sentence, phrase in zip(similar_sentences, similar_phrases):\n",
    "        if sentence not in seen_sentences:\n",
    "            seen_sentences.add(sentence)\n",
    "            seen_phrases.add(phrase)\n",
    "            unique_sentences.append(sentence)\n",
    "            unique_phrases.append(phrase)\n",
    "\n",
    "    # Create a new DataFrame containing only the rows with text that is in the set of similar sentences\n",
    "    similar_df = df[df['text'].isin(unique_sentences)]\n",
    "    similar_df['synonym_phrase'] = unique_phrases\n",
    "    similar_df['category'] = category_name\n",
    "    return similar_df"
   ]
  },
  {
   "cell_type": "code",
   "execution_count": 53,
   "metadata": {
    "tags": []
   },
   "outputs": [
    {
     "name": "stdout",
     "output_type": "stream",
     "text": [
      "1466.0988144874573\n"
     ]
    },
    {
     "name": "stderr",
     "output_type": "stream",
     "text": [
      "/opt/conda/lib/python3.7/site-packages/ipykernel_launcher.py:56: SettingWithCopyWarning: \n",
      "A value is trying to be set on a copy of a slice from a DataFrame.\n",
      "Try using .loc[row_indexer,col_indexer] = value instead\n",
      "\n",
      "See the caveats in the documentation: https://pandas.pydata.org/pandas-docs/stable/user_guide/indexing.html#returning-a-view-versus-a-copy\n",
      "/opt/conda/lib/python3.7/site-packages/ipykernel_launcher.py:57: SettingWithCopyWarning: \n",
      "A value is trying to be set on a copy of a slice from a DataFrame.\n",
      "Try using .loc[row_indexer,col_indexer] = value instead\n",
      "\n",
      "See the caveats in the documentation: https://pandas.pydata.org/pandas-docs/stable/user_guide/indexing.html#returning-a-view-versus-a-copy\n"
     ]
    }
   ],
   "source": [
    "import time\n",
    "start_time = time.time()\n",
    "# find_similar_sentences(df, sentences, phrases, model, threshold=0.73, category_name='Child care', device='cuda', batch_size=32)\n",
    "similar_df = find_similar_sentences(\n",
    "    df_concat4,\n",
    "    df_concat4[df_concat4['category']=='']['text'].to_list(),\n",
    "    words_4,\n",
    "    model,\n",
    "    threshold=0.95,\n",
    "    category_name='Child care',\n",
    "    device='cuda',\n",
    "    batch_size=32\n",
    ")\n",
    "\n",
    "elapsed_time = time.time() - start_time\n",
    "print(elapsed_time)"
   ]
  },
  {
   "cell_type": "code",
   "execution_count": 54,
   "metadata": {
    "tags": []
   },
   "outputs": [
    {
     "data": {
      "text/html": [
       "<div>\n",
       "<style scoped>\n",
       "    .dataframe tbody tr th:only-of-type {\n",
       "        vertical-align: middle;\n",
       "    }\n",
       "\n",
       "    .dataframe tbody tr th {\n",
       "        vertical-align: top;\n",
       "    }\n",
       "\n",
       "    .dataframe thead th {\n",
       "        text-align: right;\n",
       "    }\n",
       "</style>\n",
       "<table border=\"1\" class=\"dataframe\">\n",
       "  <thead>\n",
       "    <tr style=\"text-align: right;\">\n",
       "      <th></th>\n",
       "      <th>unit_name</th>\n",
       "      <th>labels</th>\n",
       "      <th>text</th>\n",
       "      <th>category</th>\n",
       "      <th>synonym_phrase</th>\n",
       "    </tr>\n",
       "  </thead>\n",
       "  <tbody>\n",
       "    <tr>\n",
       "      <th>11551</th>\n",
       "      <td>know</td>\n",
       "      <td>NaN</td>\n",
       "      <td>childrens</td>\n",
       "      <td>Child care</td>\n",
       "      <td>child</td>\n",
       "    </tr>\n",
       "    <tr>\n",
       "      <th>62797</th>\n",
       "      <td>know</td>\n",
       "      <td>NaN</td>\n",
       "      <td>childrenb</td>\n",
       "      <td>Child care</td>\n",
       "      <td>childs</td>\n",
       "    </tr>\n",
       "    <tr>\n",
       "      <th>90973</th>\n",
       "      <td>know</td>\n",
       "      <td>NaN</td>\n",
       "      <td>grandchildern</td>\n",
       "      <td>Child care</td>\n",
       "      <td>grandchild</td>\n",
       "    </tr>\n",
       "    <tr>\n",
       "      <th>95448</th>\n",
       "      <td>know</td>\n",
       "      <td>NaN</td>\n",
       "      <td>childf</td>\n",
       "      <td>Child care</td>\n",
       "      <td>childrent</td>\n",
       "    </tr>\n",
       "    <tr>\n",
       "      <th>123645</th>\n",
       "      <td></td>\n",
       "      <td>NaN</td>\n",
       "      <td>grandchildern</td>\n",
       "      <td>Child care</td>\n",
       "      <td>grandchild</td>\n",
       "    </tr>\n",
       "    <tr>\n",
       "      <th>125619</th>\n",
       "      <td></td>\n",
       "      <td>NaN</td>\n",
       "      <td>childrens</td>\n",
       "      <td>Child care</td>\n",
       "      <td>child</td>\n",
       "    </tr>\n",
       "    <tr>\n",
       "      <th>125800</th>\n",
       "      <td></td>\n",
       "      <td>NaN</td>\n",
       "      <td>stepchildrent</td>\n",
       "      <td>Child care</td>\n",
       "      <td>stepchild</td>\n",
       "    </tr>\n",
       "    <tr>\n",
       "      <th>125952</th>\n",
       "      <td></td>\n",
       "      <td>NaN</td>\n",
       "      <td>childcarew</td>\n",
       "      <td>Child care</td>\n",
       "      <td>childcare</td>\n",
       "    </tr>\n",
       "    <tr>\n",
       "      <th>127026</th>\n",
       "      <td></td>\n",
       "      <td>NaN</td>\n",
       "      <td>childcarepls</td>\n",
       "      <td>Child care</td>\n",
       "      <td>childcare</td>\n",
       "    </tr>\n",
       "    <tr>\n",
       "      <th>127720</th>\n",
       "      <td></td>\n",
       "      <td>NaN</td>\n",
       "      <td>daycarea</td>\n",
       "      <td>Child care</td>\n",
       "      <td>daycares</td>\n",
       "    </tr>\n",
       "    <tr>\n",
       "      <th>127896</th>\n",
       "      <td></td>\n",
       "      <td>NaN</td>\n",
       "      <td>daycaree</td>\n",
       "      <td>Child care</td>\n",
       "      <td>daycares</td>\n",
       "    </tr>\n",
       "    <tr>\n",
       "      <th>128103</th>\n",
       "      <td></td>\n",
       "      <td>NaN</td>\n",
       "      <td>childare</td>\n",
       "      <td>Child care</td>\n",
       "      <td>childs</td>\n",
       "    </tr>\n",
       "    <tr>\n",
       "      <th>147213</th>\n",
       "      <td>sequential idk know submit dependent verification</td>\n",
       "      <td>NaN</td>\n",
       "      <td>kid</td>\n",
       "      <td>Child care</td>\n",
       "      <td>child</td>\n",
       "    </tr>\n",
       "    <tr>\n",
       "      <th>249894</th>\n",
       "      <td>dental benefits clarifier know</td>\n",
       "      <td>NaN</td>\n",
       "      <td>kids</td>\n",
       "      <td>Child care</td>\n",
       "      <td>child</td>\n",
       "    </tr>\n",
       "  </tbody>\n",
       "</table>\n",
       "</div>"
      ],
      "text/plain": [
       "                                                unit_name  labels  \\\n",
       "11551                                                know     NaN   \n",
       "62797                                                know     NaN   \n",
       "90973                                                know     NaN   \n",
       "95448                                                know     NaN   \n",
       "123645                                                        NaN   \n",
       "125619                                                        NaN   \n",
       "125800                                                        NaN   \n",
       "125952                                                        NaN   \n",
       "127026                                                        NaN   \n",
       "127720                                                        NaN   \n",
       "127896                                                        NaN   \n",
       "128103                                                        NaN   \n",
       "147213  sequential idk know submit dependent verification     NaN   \n",
       "249894                     dental benefits clarifier know     NaN   \n",
       "\n",
       "                   text    category synonym_phrase  \n",
       "11551       childrens    Child care          child  \n",
       "62797       childrenb    Child care         childs  \n",
       "90973   grandchildern    Child care     grandchild  \n",
       "95448          childf    Child care      childrent  \n",
       "123645   grandchildern   Child care     grandchild  \n",
       "125619       childrens   Child care          child  \n",
       "125800   stepchildrent   Child care      stepchild  \n",
       "125952      childcarew   Child care      childcare  \n",
       "127026    childcarepls   Child care      childcare  \n",
       "127720        daycarea   Child care       daycares  \n",
       "127896        daycaree   Child care       daycares  \n",
       "128103        childare   Child care         childs  \n",
       "147213            kid    Child care          child  \n",
       "249894           kids    Child care          child  "
      ]
     },
     "execution_count": 54,
     "metadata": {},
     "output_type": "execute_result"
    }
   ],
   "source": [
    "similar_df"
   ]
  },
  {
   "cell_type": "code",
   "execution_count": 55,
   "metadata": {
    "tags": []
   },
   "outputs": [],
   "source": [
    "# similar_df['text'].to_list()"
   ]
  },
  {
   "cell_type": "code",
   "execution_count": 56,
   "metadata": {
    "tags": []
   },
   "outputs": [],
   "source": [
    "similar_df.to_csv('cc_similar_df_95%_sim_v2.csv')"
   ]
  },
  {
   "cell_type": "code",
   "execution_count": 57,
   "metadata": {
    "tags": []
   },
   "outputs": [
    {
     "data": {
      "text/plain": [
       "array([[0.55472887]], dtype=float32)"
      ]
     },
     "execution_count": 57,
     "metadata": {},
     "output_type": "execute_result"
    }
   ],
   "source": [
    "get_similarity(\"wife\", \"daughter\")"
   ]
  },
  {
   "cell_type": "code",
   "execution_count": 58,
   "metadata": {
    "tags": []
   },
   "outputs": [
    {
     "data": {
      "text/plain": [
       "Child care    14\n",
       "Name: category, dtype: int64"
      ]
     },
     "execution_count": 58,
     "metadata": {},
     "output_type": "execute_result"
    }
   ],
   "source": [
    "similar_df['category'].value_counts()"
   ]
  },
  {
   "cell_type": "code",
   "execution_count": 59,
   "metadata": {},
   "outputs": [],
   "source": [
    "only_CC_df = pd.concat([df_concat4[df_concat4['category']=='Child care'], \n",
    "                       similar_df]).sample(frac=1)"
   ]
  },
  {
   "cell_type": "code",
   "execution_count": 60,
   "metadata": {},
   "outputs": [
    {
     "data": {
      "text/plain": [
       "(126166, 5)"
      ]
     },
     "execution_count": 60,
     "metadata": {},
     "output_type": "execute_result"
    }
   ],
   "source": [
    "only_CC_df.shape"
   ]
  },
  {
   "cell_type": "code",
   "execution_count": 61,
   "metadata": {},
   "outputs": [],
   "source": [
    "only_CC_df.drop_duplicates(inplace=True)"
   ]
  },
  {
   "cell_type": "code",
   "execution_count": 62,
   "metadata": {},
   "outputs": [
    {
     "data": {
      "text/plain": [
       "(126166, 5)"
      ]
     },
     "execution_count": 62,
     "metadata": {},
     "output_type": "execute_result"
    }
   ],
   "source": [
    "only_CC_df.shape"
   ]
  },
  {
   "cell_type": "code",
   "execution_count": 63,
   "metadata": {},
   "outputs": [
    {
     "name": "stderr",
     "output_type": "stream",
     "text": [
      "/opt/conda/lib/python3.7/site-packages/ipykernel_launcher.py:3: SettingWithCopyWarning: \n",
      "A value is trying to be set on a copy of a slice from a DataFrame.\n",
      "Try using .loc[row_indexer,col_indexer] = value instead\n",
      "\n",
      "See the caveats in the documentation: https://pandas.pydata.org/pandas-docs/stable/user_guide/indexing.html#returning-a-view-versus-a-copy\n",
      "  This is separate from the ipykernel package so we can avoid doing imports until\n"
     ]
    }
   ],
   "source": [
    "non_similar_df = df_concat4[~df_concat4['text'].isin(only_CC_df['text'])]\n",
    "\n",
    "non_similar_df['category'] = 'Other'"
   ]
  },
  {
   "cell_type": "code",
   "execution_count": 64,
   "metadata": {},
   "outputs": [],
   "source": [
    "df_concatenated = pd.concat([only_CC_df, non_similar_df]).sample(frac=1).reset_index(drop=True)"
   ]
  },
  {
   "cell_type": "code",
   "execution_count": 65,
   "metadata": {
    "tags": []
   },
   "outputs": [],
   "source": [
    "pd.set_option('display.max_colwidth', None)"
   ]
  },
  {
   "cell_type": "code",
   "execution_count": 66,
   "metadata": {
    "tags": []
   },
   "outputs": [
    {
     "data": {
      "text/plain": [
       "(1336481, 5)"
      ]
     },
     "execution_count": 66,
     "metadata": {},
     "output_type": "execute_result"
    }
   ],
   "source": [
    "df_concatenated.shape"
   ]
  },
  {
   "cell_type": "code",
   "execution_count": 67,
   "metadata": {
    "tags": []
   },
   "outputs": [
    {
     "data": {
      "text/plain": [
       "Other         1210315\n",
       "Child care     126166\n",
       "Name: category, dtype: int64"
      ]
     },
     "execution_count": 67,
     "metadata": {},
     "output_type": "execute_result"
    }
   ],
   "source": [
    "df_concatenated['category'].value_counts()"
   ]
  },
  {
   "cell_type": "code",
   "execution_count": 69,
   "metadata": {
    "tags": []
   },
   "outputs": [
    {
     "name": "stderr",
     "output_type": "stream",
     "text": [
      "/opt/conda/lib/python3.7/site-packages/sklearn/model_selection/_split.py:667: UserWarning: The least populated class in y has only 1 members, which is less than n_splits=5.\n",
      "  % (min_groups, self.n_splits)), UserWarning)\n"
     ]
    },
    {
     "name": "stdout",
     "output_type": "stream",
     "text": [
      "Original dataset:\n",
      "know                                                                                                                                                                                                           2.403011e-02\n",
      "contact us                                                                                                                                                                                                     1.483498e-02\n",
      "benefits clarifier                                                                                                                                                                                             9.860243e-03\n",
      "medical benefits clarifier                                                                                                                                                                                     9.398380e-03\n",
      "enroll health benefits medical dental vision                                                                                                                                                                   6.786663e-03\n",
      "                                                                                                                                                                                                                   ...     \n",
      "enroll life insurance clarifier enroll health benefits medical dental vision enroll health benefits medical dental vision dental benefits clarifier                                                            8.262312e-07\n",
      "hello flexible spending account fsa clarifier flexible spending account fsa balance                                                                                                                            8.262312e-07\n",
      "cost adding dependent health benefits medical dental vision cost adding dependent clarifier manage dependents health benefits medical dental vision manage dependents health benefits medical dental vision    8.262312e-07\n",
      "health benefits discounts wellness incentive credit reward received medical provider plan information coverage accident insurance wellness incentive credit reward received                                    8.262312e-07\n",
      "tax forms clarifier form enroll health benefits medical dental vision sequential hits sequential hits                                                                                                          8.262312e-07\n",
      "Name: unit_name, Length: 197696, dtype: float64\n",
      "\n",
      "Sampled dataset:\n",
      "know                                                                                                                                                                                    0.024267\n",
      "contact us                                                                                                                                                                              0.014753\n",
      "benefits clarifier                                                                                                                                                                      0.010027\n",
      "medical benefits clarifier                                                                                                                                                              0.009482\n",
      "enroll health benefits medical dental vision                                                                                                                                            0.006906\n",
      "                                                                                                                                                                                          ...   \n",
      "rollovers savings plan rollovers savings plan withholdings clarifier distribution clarifier                                                                                             0.000003\n",
      "contact us health savings account hsa balance health care spending account clarifier enroll flexible spending account fsa health savings account hsa balance                            0.000003\n",
      "employee assistance program long term disability savings account clarifier                                                                                                              0.000003\n",
      "know manage dependents health benefits medical dental vision know lost forgot login lost forgot login know manage personal identification number lost forgot login lost forgot login    0.000003\n",
      "new user attributes robot vs human password sent via email manage email warnermedia vendors                                                                                             0.000003\n",
      "Name: unit_name, Length: 99813, dtype: float64\n"
     ]
    }
   ],
   "source": [
    "## get 5000 rows including all labels where category is Other in same proportion as original \n",
    "\n",
    "from sklearn.model_selection import StratifiedKFold\n",
    "\n",
    "# Define the number of folds to use for cross-validation\n",
    "n_splits = 5\n",
    "\n",
    "# Create a StratifiedKFold object to generate the cross-validation folds\n",
    "skf = StratifiedKFold(n_splits=n_splits, shuffle=True, random_state=42)\n",
    "\n",
    "# Define an empty DataFrame to store the sampled data\n",
    "Other_sample_df = pd.DataFrame()\n",
    "\n",
    "# Split the DataFrame into training and testing sets using cross-validation\n",
    "for train_index, test_index in skf.split(df_concatenated[df_concatenated['category'] == 'Other'], \n",
    "                                         df_concatenated[df_concatenated['category'] == 'Other']['unit_name']):\n",
    "    # Obtain a random sample of 5000 rows from the training set\n",
    "    train_df = df_concatenated.iloc[train_index]\n",
    "    train_df_other = train_df[train_df['category'] == 'Other']\n",
    "    train_df_other_sample = train_df_other.sample(n=126166*3//n_splits, random_state=42)\n",
    "    Other_sample_df = pd.concat([Other_sample_df, train_df_other_sample])\n",
    "    \n",
    "# Print the value counts of the label column in the original DataFrame and the sample\n",
    "print('Original dataset:')\n",
    "print(df_concatenated[df_concatenated['category'] == 'Other']['unit_name'].value_counts(normalize=True))\n",
    "print('\\nSampled dataset:')\n",
    "print(Other_sample_df['unit_name'].value_counts(normalize=True))\n"
   ]
  },
  {
   "cell_type": "code",
   "execution_count": 71,
   "metadata": {
    "tags": []
   },
   "outputs": [],
   "source": [
    "CC_model_train_df = pd.concat([df_concatenated[df_concatenated.category=='Child care'], \n",
    "                              Other_sample_df]).sample(frac=1).reset_index(drop=True)#.to_excel('fasttext_EC_model_training_data.xlsx')"
   ]
  },
  {
   "cell_type": "code",
   "execution_count": 80,
   "metadata": {
    "tags": []
   },
   "outputs": [
    {
     "data": {
      "text/html": [
       "<div>\n",
       "<style scoped>\n",
       "    .dataframe tbody tr th:only-of-type {\n",
       "        vertical-align: middle;\n",
       "    }\n",
       "\n",
       "    .dataframe tbody tr th {\n",
       "        vertical-align: top;\n",
       "    }\n",
       "\n",
       "    .dataframe thead th {\n",
       "        text-align: right;\n",
       "    }\n",
       "</style>\n",
       "<table border=\"1\" class=\"dataframe\">\n",
       "  <thead>\n",
       "    <tr style=\"text-align: right;\">\n",
       "      <th></th>\n",
       "      <th>unit_name</th>\n",
       "      <th>labels</th>\n",
       "      <th>text</th>\n",
       "      <th>category</th>\n",
       "      <th>synonym_phrase</th>\n",
       "    </tr>\n",
       "  </thead>\n",
       "  <tbody>\n",
       "    <tr>\n",
       "      <th>405044</th>\n",
       "      <td>dependent clarifier</td>\n",
       "      <td>NaN</td>\n",
       "      <td>child covered plan right</td>\n",
       "      <td>Child care</td>\n",
       "      <td>NaN</td>\n",
       "    </tr>\n",
       "    <tr>\n",
       "      <th>128581</th>\n",
       "      <td>dependent turns</td>\n",
       "      <td>NaN</td>\n",
       "      <td>child turns march handle enrollment</td>\n",
       "      <td>Child care</td>\n",
       "      <td>NaN</td>\n",
       "    </tr>\n",
       "    <tr>\n",
       "      <th>487320</th>\n",
       "      <td>health savings account hsa clarifier</td>\n",
       "      <td>NaN</td>\n",
       "      <td>hsa acceptance page continue let us</td>\n",
       "      <td>Other</td>\n",
       "      <td>NaN</td>\n",
       "    </tr>\n",
       "    <tr>\n",
       "      <th>215174</th>\n",
       "      <td>enroll clarifier account clarifier login user id username clarifier new user</td>\n",
       "      <td>NaN</td>\n",
       "      <td>never logged site</td>\n",
       "      <td>Other</td>\n",
       "      <td>NaN</td>\n",
       "    </tr>\n",
       "    <tr>\n",
       "      <th>142199</th>\n",
       "      <td>submit payment health benefits medical dental vision</td>\n",
       "      <td>NaN</td>\n",
       "      <td>pay medical dental benefits</td>\n",
       "      <td>Other</td>\n",
       "      <td>NaN</td>\n",
       "    </tr>\n",
       "    <tr>\n",
       "      <th>423440</th>\n",
       "      <td>buy vacation</td>\n",
       "      <td>NaN</td>\n",
       "      <td>hi tell buy pto</td>\n",
       "      <td>Other</td>\n",
       "      <td>NaN</td>\n",
       "    </tr>\n",
       "    <tr>\n",
       "      <th>192673</th>\n",
       "      <td>lost forgot password issues logging password request options website issues</td>\n",
       "      <td>NaN</td>\n",
       "      <td>login wed site</td>\n",
       "      <td>Other</td>\n",
       "      <td>NaN</td>\n",
       "    </tr>\n",
       "    <tr>\n",
       "      <th>132240</th>\n",
       "      <td>cancel coverage</td>\n",
       "      <td>NaN</td>\n",
       "      <td>remove cindy insurance</td>\n",
       "      <td>Other</td>\n",
       "      <td>NaN</td>\n",
       "    </tr>\n",
       "    <tr>\n",
       "      <th>335085</th>\n",
       "      <td>mental health coverage mental health coverage</td>\n",
       "      <td>NaN</td>\n",
       "      <td>going doctor bipolar depression severe anxiety meds gives longer strong enough says need psychiatrist want get stronger meds depression getting worse need help</td>\n",
       "      <td>Other</td>\n",
       "      <td>NaN</td>\n",
       "    </tr>\n",
       "    <tr>\n",
       "      <th>228907</th>\n",
       "      <td>manage dependents health benefits medical dental vision enrollment clarifier manage annual enrollment</td>\n",
       "      <td>NaN</td>\n",
       "      <td>completed enrollment completed enrollment something changed need make corrections</td>\n",
       "      <td>Other</td>\n",
       "      <td>NaN</td>\n",
       "    </tr>\n",
       "  </tbody>\n",
       "</table>\n",
       "</div>"
      ],
      "text/plain": [
       "                                                                                                    unit_name  \\\n",
       "405044                                                                                    dependent clarifier   \n",
       "128581                                                                                        dependent turns   \n",
       "487320                                                                   health savings account hsa clarifier   \n",
       "215174                           enroll clarifier account clarifier login user id username clarifier new user   \n",
       "142199                                                   submit payment health benefits medical dental vision   \n",
       "423440                                                                                           buy vacation   \n",
       "192673                            lost forgot password issues logging password request options website issues   \n",
       "132240                                                                                        cancel coverage   \n",
       "335085                                                          mental health coverage mental health coverage   \n",
       "228907  manage dependents health benefits medical dental vision enrollment clarifier manage annual enrollment   \n",
       "\n",
       "        labels  \\\n",
       "405044     NaN   \n",
       "128581     NaN   \n",
       "487320     NaN   \n",
       "215174     NaN   \n",
       "142199     NaN   \n",
       "423440     NaN   \n",
       "192673     NaN   \n",
       "132240     NaN   \n",
       "335085     NaN   \n",
       "228907     NaN   \n",
       "\n",
       "                                                                                                                                                                     text  \\\n",
       "405044                                                                                                                                         child covered plan right     \n",
       "128581                                                                                                                              child turns march handle enrollment     \n",
       "487320                                                                                                                              hsa acceptance page continue let us     \n",
       "215174                                                                                                                                                never logged site     \n",
       "142199                                                                                                                                      pay medical dental benefits     \n",
       "423440                                                                                                                                                  hi tell buy pto     \n",
       "192673                                                                                                                                                   login wed site     \n",
       "132240                                                                                                                                           remove cindy insurance     \n",
       "335085  going doctor bipolar depression severe anxiety meds gives longer strong enough says need psychiatrist want get stronger meds depression getting worse need help     \n",
       "228907                                                                                completed enrollment completed enrollment something changed need make corrections     \n",
       "\n",
       "          category synonym_phrase  \n",
       "405044  Child care            NaN  \n",
       "128581  Child care            NaN  \n",
       "487320       Other            NaN  \n",
       "215174       Other            NaN  \n",
       "142199       Other            NaN  \n",
       "423440       Other            NaN  \n",
       "192673       Other            NaN  \n",
       "132240       Other            NaN  \n",
       "335085       Other            NaN  \n",
       "228907       Other            NaN  "
      ]
     },
     "execution_count": 80,
     "metadata": {},
     "output_type": "execute_result"
    }
   ],
   "source": [
    "CC_model_train_df.sample(10)"
   ]
  },
  {
   "cell_type": "code",
   "execution_count": 82,
   "metadata": {
    "tags": []
   },
   "outputs": [
    {
     "data": {
      "text/plain": [
       "Other         378495\n",
       "Child care    126166\n",
       "Name: category, dtype: int64"
      ]
     },
     "execution_count": 82,
     "metadata": {},
     "output_type": "execute_result"
    }
   ],
   "source": [
    "CC_model_train_df.category.value_counts()"
   ]
  },
  {
   "cell_type": "code",
   "execution_count": 81,
   "metadata": {
    "tags": []
   },
   "outputs": [],
   "source": [
    "# df_cc_under_sampled = df_concatenated[df_concatenated['category']=='Child care'].sample(\n",
    "#     df_concatenated[df_concatenated['category']=='Other'].shape[0]*(100//25), random_state=1)"
   ]
  },
  {
   "cell_type": "code",
   "execution_count": 42,
   "metadata": {
    "tags": []
   },
   "outputs": [],
   "source": [
    "# df_cc_other_final = pd.concat([df_cc_under_sampled, df_other]).sample(frac=1).reset_index(drop=True)"
   ]
  },
  {
   "cell_type": "code",
   "execution_count": 43,
   "metadata": {},
   "outputs": [],
   "source": [
    "# df_concatenated[(df_concatenated.text.str.contains('child')) & (df_concatenated.category=='Other')]"
   ]
  },
  {
   "cell_type": "code",
   "execution_count": 83,
   "metadata": {
    "tags": []
   },
   "outputs": [],
   "source": [
    "pd.reset_option('display.max_colwidth')"
   ]
  },
  {
   "cell_type": "code",
   "execution_count": 84,
   "metadata": {},
   "outputs": [],
   "source": [
    "# df_concatenated[df_concatenated.category=='Elder care'].to_excel('fasttext_only_elder_care_training_data.xlsx')"
   ]
  },
  {
   "cell_type": "code",
   "execution_count": 85,
   "metadata": {
    "tags": []
   },
   "outputs": [],
   "source": [
    "## number og labels in label col where value of category col is Other\n",
    "# df_concatenated[df_concatenated['category'] == 'Other']['labels'].nunique()"
   ]
  },
  {
   "cell_type": "code",
   "execution_count": 86,
   "metadata": {
    "tags": []
   },
   "outputs": [],
   "source": [
    "# df_cc_other_final = df_cc_other_final.drop('session_start_cst', axis=1)"
   ]
  },
  {
   "cell_type": "code",
   "execution_count": 91,
   "metadata": {
    "tags": []
   },
   "outputs": [
    {
     "data": {
      "text/plain": [
       "504661"
      ]
     },
     "execution_count": 91,
     "metadata": {},
     "output_type": "execute_result"
    }
   ],
   "source": [
    "CC_model_train_df['labels'].isnull().sum()"
   ]
  },
  {
   "cell_type": "code",
   "execution_count": 90,
   "metadata": {
    "tags": []
   },
   "outputs": [
    {
     "data": {
      "text/plain": [
       "0"
      ]
     },
     "execution_count": 90,
     "metadata": {},
     "output_type": "execute_result"
    }
   ],
   "source": [
    "CC_model_train_df['category'].isnull().sum()"
   ]
  },
  {
   "cell_type": "code",
   "execution_count": 89,
   "metadata": {
    "tags": []
   },
   "outputs": [
    {
     "data": {
      "text/plain": [
       "0"
      ]
     },
     "execution_count": 89,
     "metadata": {},
     "output_type": "execute_result"
    }
   ],
   "source": [
    "CC_model_train_df['text'].isnull().sum()"
   ]
  },
  {
   "cell_type": "code",
   "execution_count": 92,
   "metadata": {
    "tags": []
   },
   "outputs": [],
   "source": [
    "# df_concatenated['labels'] = df_concatenated['labels'].fillna('empty')"
   ]
  },
  {
   "cell_type": "code",
   "execution_count": 93,
   "metadata": {
    "tags": []
   },
   "outputs": [],
   "source": [
    "# EC_model_train_df = pd.concat([df_concatenated2[df_concatenated2.category=='Elder care'], \n",
    "#                               Other_sample_df]).sample(frac=1).reset_index(drop=True)#.to_excel('fasttext_EC_model_training_data.xlsx')"
   ]
  },
  {
   "cell_type": "code",
   "execution_count": 94,
   "metadata": {
    "tags": []
   },
   "outputs": [],
   "source": [
    "# EC_model_train_df.head()"
   ]
  },
  {
   "cell_type": "code",
   "execution_count": 95,
   "metadata": {
    "tags": []
   },
   "outputs": [
    {
     "data": {
      "text/plain": [
       "Other         0.749999\n",
       "Child care    0.250001\n",
       "Name: category, dtype: float64"
      ]
     },
     "execution_count": 95,
     "metadata": {},
     "output_type": "execute_result"
    }
   ],
   "source": [
    "CC_model_train_df.category.value_counts(normalize=True)"
   ]
  },
  {
   "cell_type": "code",
   "execution_count": 96,
   "metadata": {},
   "outputs": [
    {
     "data": {
      "text/plain": [
       "(504661, 5)"
      ]
     },
     "execution_count": 96,
     "metadata": {},
     "output_type": "execute_result"
    }
   ],
   "source": [
    "CC_model_train_df.shape"
   ]
  },
  {
   "cell_type": "code",
   "execution_count": 97,
   "metadata": {
    "tags": []
   },
   "outputs": [],
   "source": [
    "CC_model_train_df.to_csv('CC_model_train_df.csv')"
   ]
  },
  {
   "cell_type": "code",
   "execution_count": 98,
   "metadata": {
    "tags": []
   },
   "outputs": [],
   "source": [
    "# df_concatenated = pd.read_csv('cc_df_concatenated_v1.csv')"
   ]
  },
  {
   "cell_type": "markdown",
   "metadata": {},
   "source": [
    "### text preprocess"
   ]
  },
  {
   "cell_type": "code",
   "execution_count": 99,
   "metadata": {
    "tags": []
   },
   "outputs": [],
   "source": [
    "import re\n",
    "import numpy as np\n",
    "from concurrent.futures import ProcessPoolExecutor\n",
    "from functools import partial\n",
    "\n",
    "def count_intnt_entits(doc):\n",
    "    intents = [token.text for token in doc if token.pos_ == 'VERB']\n",
    "    entities = [token.text for token in doc if token.pos_ in {'NOUN', 'PROPN', 'ADJ', 'NUM', 'ADV'}]\n",
    "    return len(intents), len(entities)\n",
    "\n",
    "def extract_ner_entities(doc, sentence):\n",
    "    entities = [(entity.text, entity.label_) for entity in doc.ents]\n",
    "    return entities\n",
    "\n",
    "def length_entities(list_entities):\n",
    "    if (list_entities == np.nan or list_entities is None or list_entities == ''):\n",
    "        return 0\n",
    "    else:\n",
    "        return len(list_entities)\n",
    "\n",
    "def filter_named_entities(doc, text):\n",
    "    filtered_words = [token.text for token in doc if token.ent_type_ not in ['ORG', 'PERSON', 'GPE', 'LOC', 'FAC']]\n",
    "    filtered_text = ' '.join(filtered_words)\n",
    "    return filtered_text\n",
    "\n",
    "def process_text(text):\n",
    "    doc = nlp(text)\n",
    "    intents, entities = count_intnt_entits(doc)\n",
    "    ner_entities = extract_ner_entities(doc, text)\n",
    "    len_ner_entities = length_entities(ner_entities)\n",
    "    filtered_text = filter_named_entities(doc, text)\n",
    "    return intents, entities, ner_entities, len_ner_entities, filtered_text\n",
    "\n",
    "def text_preprocess(dataframe):\n",
    "    dataframe = dataframe.drop_duplicates()\n",
    "\n",
    "    texts = dataframe['text'].tolist()\n",
    "    with ProcessPoolExecutor(max_workers=96) as executor:\n",
    "        processed_results = list(executor.map(process_text, texts))\n",
    "\n",
    "    intents, entities, ner_entities, len_ner_entities, filtered_texts = zip(*processed_results)\n",
    "    \n",
    "    dataframe['no_of_intents'] = intents\n",
    "    dataframe['no_of_entities'] = entities\n",
    "    dataframe['ner_enities'] = ner_entities\n",
    "    dataframe['len_ner_enities'] = len_ner_entities\n",
    "    dataframe['text'] = filtered_texts\n",
    "    \n",
    "    dataframe = dataframe[dataframe['len_ner_enities'] > 0]\n",
    "    dataframe['text'] = dataframe['text'].str.strip()\n",
    "    dataframe = dataframe.drop(['no_of_intents', 'no_of_entities', 'ner_enities', 'len_ner_enities'], axis=1)\n",
    "    \n",
    "    return dataframe\n"
   ]
  },
  {
   "cell_type": "code",
   "execution_count": 100,
   "metadata": {},
   "outputs": [
    {
     "name": "stderr",
     "output_type": "stream",
     "text": [
      "/opt/conda/lib/python3.7/site-packages/ipykernel_launcher.py:43: SettingWithCopyWarning: \n",
      "A value is trying to be set on a copy of a slice from a DataFrame.\n",
      "Try using .loc[row_indexer,col_indexer] = value instead\n",
      "\n",
      "See the caveats in the documentation: https://pandas.pydata.org/pandas-docs/stable/user_guide/indexing.html#returning-a-view-versus-a-copy\n",
      "/opt/conda/lib/python3.7/site-packages/ipykernel_launcher.py:44: SettingWithCopyWarning: \n",
      "A value is trying to be set on a copy of a slice from a DataFrame.\n",
      "Try using .loc[row_indexer,col_indexer] = value instead\n",
      "\n",
      "See the caveats in the documentation: https://pandas.pydata.org/pandas-docs/stable/user_guide/indexing.html#returning-a-view-versus-a-copy\n",
      "/opt/conda/lib/python3.7/site-packages/ipykernel_launcher.py:45: SettingWithCopyWarning: \n",
      "A value is trying to be set on a copy of a slice from a DataFrame.\n",
      "Try using .loc[row_indexer,col_indexer] = value instead\n",
      "\n",
      "See the caveats in the documentation: https://pandas.pydata.org/pandas-docs/stable/user_guide/indexing.html#returning-a-view-versus-a-copy\n",
      "/opt/conda/lib/python3.7/site-packages/ipykernel_launcher.py:46: SettingWithCopyWarning: \n",
      "A value is trying to be set on a copy of a slice from a DataFrame.\n",
      "Try using .loc[row_indexer,col_indexer] = value instead\n",
      "\n",
      "See the caveats in the documentation: https://pandas.pydata.org/pandas-docs/stable/user_guide/indexing.html#returning-a-view-versus-a-copy\n",
      "/opt/conda/lib/python3.7/site-packages/ipykernel_launcher.py:47: SettingWithCopyWarning: \n",
      "A value is trying to be set on a copy of a slice from a DataFrame.\n",
      "Try using .loc[row_indexer,col_indexer] = value instead\n",
      "\n",
      "See the caveats in the documentation: https://pandas.pydata.org/pandas-docs/stable/user_guide/indexing.html#returning-a-view-versus-a-copy\n"
     ]
    },
    {
     "name": "stdout",
     "output_type": "stream",
     "text": [
      "232.22880244255066\n"
     ]
    }
   ],
   "source": [
    "import time\n",
    "start_time = time.time()\n",
    "\n",
    "df_combined_cc_model_data_2 = text_preprocess(CC_model_train_df)\n",
    "\n",
    "elapsed_time = time.time() - start_time\n",
    "print(elapsed_time)"
   ]
  },
  {
   "cell_type": "code",
   "execution_count": 101,
   "metadata": {},
   "outputs": [
    {
     "data": {
      "text/plain": [
       "(77376, 5)"
      ]
     },
     "execution_count": 101,
     "metadata": {},
     "output_type": "execute_result"
    }
   ],
   "source": [
    "df_combined_cc_model_data_2.shape"
   ]
  },
  {
   "cell_type": "code",
   "execution_count": 102,
   "metadata": {},
   "outputs": [
    {
     "data": {
      "text/plain": [
       "Index(['unit_name', 'labels', 'text', 'category', 'synonym_phrase'], dtype='object')"
      ]
     },
     "execution_count": 102,
     "metadata": {},
     "output_type": "execute_result"
    }
   ],
   "source": [
    "df_combined_cc_model_data_2.columns"
   ]
  },
  {
   "cell_type": "code",
   "execution_count": 103,
   "metadata": {},
   "outputs": [
    {
     "data": {
      "text/plain": [
       "Other         55240\n",
       "Child care    22136\n",
       "Name: category, dtype: int64"
      ]
     },
     "execution_count": 103,
     "metadata": {},
     "output_type": "execute_result"
    }
   ],
   "source": [
    "df_combined_cc_model_data_2['category'].value_counts()"
   ]
  },
  {
   "cell_type": "code",
   "execution_count": 107,
   "metadata": {
    "tags": []
   },
   "outputs": [],
   "source": [
    "df_combined_cc_model_data_2.to_parquet('final_cc_model_data_v9.parq')\n",
    "# df_combined_cc_model_data_2.to_parquet('final_cc_model_data_v7.parq')\n"
   ]
  },
  {
   "cell_type": "code",
   "execution_count": 4,
   "metadata": {
    "tags": []
   },
   "outputs": [],
   "source": [
    "import pandas as pd\n",
    "df_combined_cc_model_data_2 = pd.read_parquet('final_cc_model_data_v7.parq')"
   ]
  },
  {
   "cell_type": "code",
   "execution_count": 5,
   "metadata": {
    "tags": []
   },
   "outputs": [],
   "source": [
    "df_combined_cc_model_data_2.to_csv('final_cc_model_data_v7.csv')"
   ]
  },
  {
   "cell_type": "code",
   "execution_count": 108,
   "metadata": {
    "tags": []
   },
   "outputs": [],
   "source": [
    "# df_unseen = pd.read_excel('unseen_data.xlsx')"
   ]
  },
  {
   "cell_type": "code",
   "execution_count": 109,
   "metadata": {
    "tags": []
   },
   "outputs": [],
   "source": [
    "# df_unseen.head()"
   ]
  },
  {
   "cell_type": "code",
   "execution_count": 110,
   "metadata": {
    "tags": []
   },
   "outputs": [
    {
     "data": {
      "text/plain": [
       "Other         55240\n",
       "Child care    22136\n",
       "Name: label, dtype: int64"
      ]
     },
     "execution_count": 110,
     "metadata": {},
     "output_type": "execute_result"
    }
   ],
   "source": [
    "import pandas as pd\n",
    "# df_combined_cc_model_data_2 = pd.read_parquet('final_cc_model_data_v8.parq')[['text', 'category']].rename(\n",
    "#     columns={'category':'label'})\n",
    "# df_combined_cc_model_data_2.sample(2)\n",
    "df_combined_cc_model_data_2 = pd.read_parquet('final_cc_model_data_v9.parq')[['text', 'category']].rename(\n",
    "    columns={'category':'label'})\n",
    "df_combined_cc_model_data_2['label'].value_counts()"
   ]
  },
  {
   "cell_type": "code",
   "execution_count": 111,
   "metadata": {
    "tags": []
   },
   "outputs": [
    {
     "data": {
      "text/plain": [
       "(77376, 2)"
      ]
     },
     "execution_count": 111,
     "metadata": {},
     "output_type": "execute_result"
    }
   ],
   "source": [
    "df_combined_cc_model_data_2.shape"
   ]
  },
  {
   "cell_type": "code",
   "execution_count": 112,
   "metadata": {
    "tags": []
   },
   "outputs": [
    {
     "data": {
      "text/plain": [
       "text     0\n",
       "label    0\n",
       "dtype: int64"
      ]
     },
     "execution_count": 112,
     "metadata": {},
     "output_type": "execute_result"
    }
   ],
   "source": [
    "df_combined_cc_model_data_2.isnull().sum()"
   ]
  },
  {
   "cell_type": "code",
   "execution_count": 113,
   "metadata": {
    "tags": []
   },
   "outputs": [],
   "source": [
    "df_combined_cc_model_data_2 = df_combined_cc_model_data_2.dropna(subset=['text'])"
   ]
  },
  {
   "cell_type": "code",
   "execution_count": 114,
   "metadata": {
    "tags": []
   },
   "outputs": [],
   "source": [
    "data = df_combined_cc_model_data_2.copy()"
   ]
  },
  {
   "cell_type": "code",
   "execution_count": 115,
   "metadata": {
    "tags": []
   },
   "outputs": [],
   "source": [
    "# # Load your dataset\n",
    "texts = data.text.values  # List of text samples\n",
    "labels =  data.label.values  # List of corresponding labels"
   ]
  },
  {
   "cell_type": "code",
   "execution_count": 117,
   "metadata": {
    "tags": []
   },
   "outputs": [],
   "source": [
    "# # Step 1: Install necessary libraries\n",
    "# !pip install sentence-transformers\n",
    "# !pip install lightgbm\n",
    "# !pip install joblib\n",
    "# !pip install pandas\n",
    "# !pip install seaborn\n",
    "# !pip install matplotlib"
   ]
  },
  {
   "cell_type": "code",
   "execution_count": 118,
   "metadata": {
    "tags": []
   },
   "outputs": [],
   "source": [
    "# Step 2: Import libraries\n",
    "from sentence_transformers import SentenceTransformer\n",
    "from sklearn.metrics import accuracy_score, confusion_matrix\n",
    "from sklearn.model_selection import train_test_split\n",
    "import lightgbm as lgb\n",
    "import joblib\n",
    "import pandas as pd\n",
    "import seaborn as sns\n",
    "import matplotlib.pyplot as plt\n",
    "\n",
    "# Step 3: Load the SentenceTransformer model\n",
    "model = SentenceTransformer('all-mpnet-base-v2')"
   ]
  },
  {
   "cell_type": "code",
   "execution_count": 119,
   "metadata": {
    "tags": []
   },
   "outputs": [],
   "source": [
    "# # Step 4: Prepare training data\n",
    "# texts = [\"This is the first text.\", \"Another example text.\", ...]\n",
    "# labels = [0, 1, ...]\n",
    "\n",
    "# Step 5: Split the data into training and testing sets\n",
    "train_texts, test_texts, train_labels, test_labels = train_test_split(texts, labels, \n",
    "                                                                      test_size=0.005, \n",
    "                                                                      random_state=42)"
   ]
  },
  {
   "cell_type": "code",
   "execution_count": 120,
   "metadata": {
    "tags": []
   },
   "outputs": [
    {
     "data": {
      "text/plain": [
       "(387,)"
      ]
     },
     "execution_count": 120,
     "metadata": {},
     "output_type": "execute_result"
    }
   ],
   "source": [
    "test_texts.shape"
   ]
  },
  {
   "cell_type": "code",
   "execution_count": 121,
   "metadata": {
    "tags": []
   },
   "outputs": [
    {
     "name": "stdout",
     "output_type": "stream",
     "text": [
      "Accuracy: 0.979328165374677\n"
     ]
    },
    {
     "data": {
      "text/plain": [
       "['Bert_CC_model/cc_model_v1.pkl']"
      ]
     },
     "execution_count": 121,
     "metadata": {},
     "output_type": "execute_result"
    }
   ],
   "source": [
    "# Step 6: Encode the text samples\n",
    "train_encodings = model.encode(train_texts)\n",
    "test_encodings = model.encode(test_texts)\n",
    "\n",
    "# Step 7: Train a classifier with LightGBM\n",
    "classifier = lgb.LGBMClassifier()\n",
    "classifier.fit(train_encodings, train_labels)\n",
    "\n",
    "# Step 8: Make predictions and evaluate the model\n",
    "predictions = classifier.predict(test_encodings)\n",
    "accuracy = accuracy_score(test_labels, predictions)\n",
    "test_df = pd.DataFrame({'text':test_texts, 'actual_label':test_labels, \n",
    "                        'predicted_label':predictions})\n",
    "test_df.to_csv('cc_test_df.csv')\n",
    "\n",
    "print(\"Accuracy:\", accuracy)\n",
    "\n",
    "# Step 9: Save the model\n",
    "joblib.dump(classifier, 'Bert_CC_model/cc_model_v1.pkl')"
   ]
  },
  {
   "cell_type": "code",
   "execution_count": 122,
   "metadata": {
    "tags": []
   },
   "outputs": [
    {
     "name": "stdout",
     "output_type": "stream",
     "text": [
      "Classification Report:\n",
      "Label: Child care\n",
      "  Precision: 0.9741379310344828\n",
      "  Recall: 0.9576271186440678\n",
      "  F1-Score: 0.9658119658119658\n",
      "  Support: 118\n",
      "Label: Other\n",
      "  Precision: 0.981549815498155\n",
      "  Recall: 0.9888475836431226\n",
      "  F1-Score: 0.9851851851851852\n",
      "  Support: 269\n",
      "F1 Score: 0.9792781053762966\n",
      "Accuracy: 0.979328165374677\n",
      "Precision: 0.9792898610622033\n",
      "Recall: 0.979328165374677\n",
      "AUC: 0.9732373511435951\n"
     ]
    },
    {
     "data": {
      "image/png": "[encoded data removed]",
      "text/plain": [
       "<Figure size 800x600 with 2 Axes>"
      ]
     },
     "metadata": {},
     "output_type": "display_data"
    },
    {
     "data": {
      "image/png": "[encoded data removed]",
      "text/plain": [
       "<Figure size 800x600 with 1 Axes>"
      ]
     },
     "metadata": {},
     "output_type": "display_data"
    }
   ],
   "source": [
    "import numpy as np\n",
    "import matplotlib.pyplot as plt\n",
    "import seaborn as sns\n",
    "from sklearn.metrics import confusion_matrix, classification_report, roc_auc_score, roc_curve\n",
    "\n",
    "# Step 15: Generate the confusion matrix\n",
    "cm = confusion_matrix(test_labels, predictions)\n",
    "label_names = ['Child care', 'Other']\n",
    "\n",
    "# Convert labels to numerical values\n",
    "test_labels_numeric = np.where(np.array(test_labels) == 'Child care', 0, 1)\n",
    "predictions_numeric = np.where(np.array(predictions) == 'Child care', 0, 1)\n",
    "\n",
    "# Calculate additional metrics\n",
    "classification_metrics = classification_report(test_labels_numeric, predictions_numeric, target_names=label_names, output_dict=True)\n",
    "fpr, tpr, thresholds = roc_curve(test_labels_numeric, predictions_numeric)\n",
    "auc_score = roc_auc_score(test_labels_numeric, predictions_numeric)\n",
    "\n",
    "# Print classification report\n",
    "print(\"Classification Report:\")\n",
    "for label in label_names:\n",
    "    print(f\"Label: {label}\")\n",
    "    print(f\"  Precision: {classification_metrics[label]['precision']}\")\n",
    "    print(f\"  Recall: {classification_metrics[label]['recall']}\")\n",
    "    print(f\"  F1-Score: {classification_metrics[label]['f1-score']}\")\n",
    "    print(f\"  Support: {classification_metrics[label]['support']}\")\n",
    "\n",
    "# Print additional metrics\n",
    "print(\"F1 Score:\", classification_metrics['weighted avg']['f1-score'])\n",
    "print(\"Accuracy:\", classification_metrics['accuracy'])\n",
    "print(\"Precision:\", classification_metrics['weighted avg']['precision'])\n",
    "print(\"Recall:\", classification_metrics['weighted avg']['recall'])\n",
    "print(\"AUC:\", auc_score)\n",
    "\n",
    "# Step 16: Plot the confusion matrix\n",
    "plt.figure(figsize=(8, 6))\n",
    "sns.heatmap(cm, annot=True, fmt='d', cmap='Blues', xticklabels=label_names, yticklabels=label_names)\n",
    "plt.xlabel('Predicted')\n",
    "plt.ylabel('Actual')\n",
    "plt.title('Confusion Matrix')\n",
    "plt.show()\n",
    "\n",
    "# Plot ROC curve\n",
    "plt.figure(figsize=(8, 6))\n",
    "plt.plot(fpr, tpr, label='ROC curve (area = %0.2f)' % auc_score)\n",
    "plt.plot([0, 1], [0, 1], 'k--')\n",
    "plt.xlim([0.0, 1.0])\n",
    "plt.ylim([0.0, 1.05])\n",
    "plt.xlabel('False Positive Rate')\n",
    "plt.ylabel('True Positive Rate')\n",
    "plt.title('Receiver Operating Characteristic')\n",
    "plt.legend(loc=\"lower right\")\n",
    "plt.show()"
   ]
  },
  {
   "cell_type": "code",
   "execution_count": null,
   "metadata": {},
   "outputs": [],
   "source": []
  },
  {
   "cell_type": "markdown",
   "metadata": {},
   "source": [
    "# prediction: "
   ]
  },
  {
   "cell_type": "markdown",
   "metadata": {},
   "source": [
    "### loading data for prediction"
   ]
  },
  {
   "cell_type": "code",
   "execution_count": 124,
   "metadata": {
    "tags": []
   },
   "outputs": [],
   "source": [
    "# !pip install lightgbm"
   ]
  },
  {
   "cell_type": "code",
   "execution_count": 125,
   "metadata": {
    "tags": []
   },
   "outputs": [],
   "source": [
    "import time\n",
    "start_time = time.time()"
   ]
  },
  {
   "cell_type": "code",
   "execution_count": 126,
   "metadata": {
    "tags": []
   },
   "outputs": [],
   "source": [
    "import spacy\n",
    "import en_core_web_sm\n",
    "import lightgbm \n",
    "\n",
    "import pandas as pd\n",
    "import numpy as np\n",
    "from sklearn.metrics.pairwise import cosine_similarity\n",
    "from sklearn.metrics.pairwise import cosine_distances\n",
    "\n",
    "from sentence_transformers import SentenceTransformer\n",
    "\n",
    "nlp = spacy.load(\"en_core_web_sm\")\n",
    "\n",
    "import boto3\n",
    "import pandas as pd\n",
    "import pyarrow.parquet as pq\n",
    "import s3fs\n",
    "\n",
    "import string\n",
    "import nltk\n",
    "nltk.data.path.append('../../nltk_data')\n",
    "from nltk.corpus import stopwords\n",
    "# nltk.download('stopwords')"
   ]
  },
  {
   "cell_type": "code",
   "execution_count": 4,
   "metadata": {
    "tags": []
   },
   "outputs": [
    {
     "name": "stdout",
     "output_type": "stream",
     "text": [
      "   person_internal_id  client_id  \\\n",
      "0            84580040       3349   \n",
      "1           261800048       1012   \n",
      "2           189230015       6352   \n",
      "3           412710098        695   \n",
      "4           412710098        695   \n",
      "\n",
      "                                               input  \\\n",
      "0                                      pet insurance   \n",
      "1  how can I find Cigna human resources contact i...   \n",
      "2                            Associate Discount Card   \n",
      "3                                          Tax forms   \n",
      "4                                            HSA tax   \n",
      "\n",
      "                             unit_name    session_start_utc  session_id  \\\n",
      "0           Coverage for Pet Insurance  2023-04-03 00:06:54    19429827   \n",
      "1  Medical Carrier Contact Information  2023-04-03 00:09:11    19429853   \n",
      "2     Employee/Associate Discount Card  2023-04-03 00:16:57    19429937   \n",
      "3                  Tax Forms Clarifier  2023-04-03 00:18:18    19429950   \n",
      "4                          Tying Units  2023-04-03 00:18:18    19429950   \n",
      "\n",
      "   entry_id  entry_order  \n",
      "0  89662494            5  \n",
      "1  89662690            5  \n",
      "2  89662993            3  \n",
      "3  89663051            6  \n",
      "4  89663066            7  \n"
     ]
    }
   ],
   "source": [
    "# Initialize S3 client\n",
    "s3 = boto3.client('s3')\n",
    "\n",
    "# Specify the S3 bucket and prefix where the Parquet files are stored\n",
    "# s3://adl-core-sagemaker-studio/external/IVA/IVA_daily/\n",
    "# s3://adl-core-sagemaker-studio/external/IVA/Search_daily/\n",
    "# s3://adl-core-sagemaker-studio/external/Deepali/iva-data(3-apr).csv\n",
    "bucket_name = 'adl-core-sagemaker-studio'\n",
    "# prefix = 'external/web_clickstream/clickstream20230403_20230403/'\n",
    "prefix = 'external/Deepali/iva_data/'\n",
    "prefix = 'external/Deepali/iva_data/'\n",
    "\n",
    "\n",
    "# List all Parquet files in the bucket with the specified prefix\n",
    "response = s3.list_objects_v2(Bucket=bucket_name, Prefix=prefix)\n",
    "if 'Contents' in response:\n",
    "    # parquet_files = [obj['Key'] for obj in response['Contents'] if obj['Key'].endswith('.parq')]\n",
    "    csv_files = [obj['Key'] for obj in response['Contents'] if obj['Key'].endswith('.csv')]\n",
    "else:\n",
    "    # parquet_files = []\n",
    "    csv_files = []\n",
    "\n",
    "# Read Parquet files and concatenate them together\n",
    "dfs = []\n",
    "s3fs = s3fs.S3FileSystem()\n",
    "\n",
    "# for file in parquet_files:\n",
    "for file in csv_files:\n",
    "    # Read the Parquet file into a PyArrow table\n",
    "    s3_key = f\"{bucket_name}/{file}\"\n",
    "    # dataset = pq.ParquetDataset(f\"s3://{s3_key}\", filesystem=s3fs)\n",
    "    df = pd.read_csv(f\"s3://{s3_key}\")\n",
    "    # table = dataset.read()\n",
    "    \n",
    "    # Convert the PyArrow table to a Pandas DataFrame\n",
    "    # df = table.to_pandas()\n",
    "    dfs.append(df)\n",
    "\n",
    "# Concatenate all the DataFrames together\n",
    "if dfs:\n",
    "    concatenated_df = pd.concat(dfs, ignore_index=True)\n",
    "    print(concatenated_df.head())\n",
    "else:\n",
    "    # print(\"No Parquet files found.\")\n",
    "    print(\"No csv files found.\")"
   ]
  },
  {
   "cell_type": "code",
   "execution_count": 127,
   "metadata": {
    "tags": []
   },
   "outputs": [],
   "source": [
    "import pandas as pd\n",
    "concatenated_df = pd.read_excel('iva_4th_april.xlsx')"
   ]
  },
  {
   "cell_type": "code",
   "execution_count": 128,
   "metadata": {
    "tags": []
   },
   "outputs": [
    {
     "data": {
      "text/plain": [
       "(97880, 3)"
      ]
     },
     "execution_count": 128,
     "metadata": {},
     "output_type": "execute_result"
    }
   ],
   "source": [
    "concatenated_df.shape"
   ]
  },
  {
   "cell_type": "code",
   "execution_count": 129,
   "metadata": {
    "tags": []
   },
   "outputs": [],
   "source": [
    "concatenated_df = concatenated_df.drop_duplicates(subset=['input'])"
   ]
  },
  {
   "cell_type": "code",
   "execution_count": 130,
   "metadata": {
    "tags": []
   },
   "outputs": [
    {
     "data": {
      "text/plain": [
       "(17645, 3)"
      ]
     },
     "execution_count": 130,
     "metadata": {},
     "output_type": "execute_result"
    }
   ],
   "source": [
    "concatenated_df.shape"
   ]
  },
  {
   "cell_type": "code",
   "execution_count": 131,
   "metadata": {
    "tags": []
   },
   "outputs": [
    {
     "data": {
      "text/plain": [
       "client_id             0\n",
       "person_internal_id    0\n",
       "input                 1\n",
       "dtype: int64"
      ]
     },
     "execution_count": 131,
     "metadata": {},
     "output_type": "execute_result"
    }
   ],
   "source": [
    "concatenated_df.isna().sum()"
   ]
  },
  {
   "cell_type": "code",
   "execution_count": 132,
   "metadata": {
    "tags": []
   },
   "outputs": [],
   "source": [
    "concatenated_df = concatenated_df.dropna(subset=['input'])"
   ]
  },
  {
   "cell_type": "code",
   "execution_count": 133,
   "metadata": {
    "tags": []
   },
   "outputs": [],
   "source": [
    "# # Words to exclude\n",
    "# exclude_words = ['maternity', 'pregnancy', 'fertility','Maternal',\n",
    "#                  'Gestation', 'Conception', 'Reproduction', 'Obstetrics', 'Infertility', 'Prenatal',\n",
    "#                  'Procreation', 'Embryo', 'Contraception', 'family planning','familyplanning']\n",
    "\n",
    "\n",
    "# # Filter the DataFrame\n",
    "# concatenated_filtered_df = concatenated_df[~concatenated_df['input'].str.contains('|'.join(exclude_words), case=False)]\n",
    "\n",
    "# # Print the filtered DataFrame\n",
    "# print(concatenated_filtered_df.shape)"
   ]
  },
  {
   "cell_type": "code",
   "execution_count": 134,
   "metadata": {
    "tags": []
   },
   "outputs": [],
   "source": [
    "# concatenated_df.head()"
   ]
  },
  {
   "cell_type": "code",
   "execution_count": 135,
   "metadata": {
    "tags": []
   },
   "outputs": [],
   "source": [
    "\n",
    "def clean_text(df, text_cols):\n",
    "    # Create a new dataframe to hold the cleaned text columns\n",
    "    cleaned_df = pd.DataFrame()\n",
    "    \n",
    "    # Define the list of stopwords\n",
    "    stop_words = set(stopwords.words('english'))\n",
    "    \n",
    "    # Clean each text column and add it to the cleaned dataframe\n",
    "    for text_col in text_cols:\n",
    "        text_list = df[text_col].tolist()\n",
    "        text_list = [str(text) for text in text_list]\n",
    "        text_list = [text if text.strip() and not\n",
    "                     set(text).issubset(set(string.punctuation + string.whitespace)) else '' \n",
    "                     for text in text_list]\n",
    "        text_list = [x.lower() for x in text_list]\n",
    "        translator = str.maketrans(string.punctuation + string.digits + \"_\", \" \" * len(\n",
    "            string.punctuation + string.digits + \"_\"))\n",
    "        cleaned_list = []\n",
    "        for text in text_list:\n",
    "            cleaned_text = text.translate(translator)\n",
    "            cleaned_text = ' '.join(cleaned_text.split())\n",
    "            cleaned_text = ' '.join([word for word in cleaned_text.split() if word not in stop_words])\n",
    "            cleaned_list.append(cleaned_text)\n",
    "        cleaned_df[text_col] = cleaned_list\n",
    "    \n",
    "    # Add the non-text columns to the cleaned dataframe\n",
    "    for col in df.columns:\n",
    "        if col not in text_cols:\n",
    "            cleaned_df[col] = df[col]\n",
    "    \n",
    "    return cleaned_df\n"
   ]
  },
  {
   "cell_type": "code",
   "execution_count": 136,
   "metadata": {
    "tags": []
   },
   "outputs": [],
   "source": [
    "# cleaned_concatenated_df = clean_text(concatenated_df, text_cols=['page_name'])\n",
    "cleaned_concatenated_df = clean_text(concatenated_df, text_cols=['input'])"
   ]
  },
  {
   "cell_type": "code",
   "execution_count": 137,
   "metadata": {
    "tags": []
   },
   "outputs": [],
   "source": [
    "# words_3 = ['day care', 'creche', 'childcare','daycare','after school care',\n",
    "#            'pre school', 'child', 'baby',\n",
    "#             'infant','girl child', 'play school', \n",
    "#            'boy child','Adolescent',\n",
    "#  'nursery', 'preschool', 'after schoolcare', 'day nursery', \n",
    "#   'playschool', 'kindergarten', 'childminding', 'babysitting',\n",
    "#            'babysitter', \n",
    "#  'nanny', 'children supervision', 'toddler care', 'kindergarten',\n",
    "# 'child minding', 'baby sitting', 'baby sitter', 'children',\n",
    "#  'childrensupervision','child supervision', 'childsupervision', 'children supervision',\n",
    "#            'toddlercare','foster', 'childs','childrens',\n",
    "#            'stepchild','step daughter', 'step son', 'grandchildren','grandchild','daughter','son', \n",
    "#           'stepchildren',\"children's\", 'childhood',\n",
    "#            'stepchildren',\n",
    "#           'day cares','childrent','daycares',\n",
    "#           'childplus']\n",
    "\n",
    "# words_4 = set([word.lower() for word in words_3])\n",
    "\n",
    "# len(words_4)\n"
   ]
  },
  {
   "cell_type": "code",
   "execution_count": 138,
   "metadata": {
    "tags": []
   },
   "outputs": [
    {
     "data": {
      "text/plain": [
       "41"
      ]
     },
     "execution_count": 138,
     "metadata": {},
     "output_type": "execute_result"
    }
   ],
   "source": [
    "words_3 = ['day care', 'creche', 'childcare', 'daycare', 'after school care', 'pre school', 'child', 'baby',\n",
    "           'infant', 'girl child', 'play school', 'boy child', 'Adolescent', 'nursery', 'preschool', 'day nursery',\n",
    "           'playschool', 'kindergarten', 'childminding', 'babysitting', 'babysitter', 'nanny', 'children supervision', \n",
    "           'toddler care', 'baby sitter', 'children', 'child supervision', 'childs', 'stepchild', 'step daughter', 'step son', \n",
    "           'grandchildren', 'grandchild', 'daughter', 'son', 'stepchildren', 'childhood', 'day cares', 'childrent', 'daycares', \n",
    "           'childplus']\n",
    "\n",
    "\n",
    "words_4 = set([word.lower() for word in words_3])\n",
    "\n",
    "len(words_4)"
   ]
  },
  {
   "cell_type": "code",
   "execution_count": 139,
   "metadata": {
    "tags": []
   },
   "outputs": [],
   "source": [
    "# # mask = (cleaned_concatenated_df['input'].str.contains('|'.join(words_4), case=False))\n",
    "\n",
    "# # cleaned_concatenated_df['Contains_syn'] = ''\n",
    "# # cleaned_concatenated_df.loc[mask, 'Contains_syn'] = 'yes'\n",
    "\n",
    "# # Create 'contain_syn' column\n",
    "# cleaned_concatenated_df['contain_syn'] = cleaned_concatenated_df['input'].str.contains('|'.join(words_4), case=False)\n",
    "\n",
    "# # Convert boolean values to 'Yes' and 'No'\n",
    "# cleaned_concatenated_df['contain_syn'] = cleaned_concatenated_df['contain_syn'].map({True: 'Yes', False: 'No'})\n",
    "\n",
    "# # Print the updated DataFrame\n",
    "# print(cleaned_concatenated_df.head())\n",
    "\n",
    "# # df_combined_web_iva_search.loc[df_combined_web_iva_search['category'] == '', 'category'] = 'Other'\n",
    "\n",
    "# # cleaned_concatenated_df.head(5)\n",
    "# # # Apply the function to create a new column\n",
    "# # cleaned_concatenated_df['Contains_syn'] = cleaned_concatenated_df.apply(check_phrases, axis=1)"
   ]
  },
  {
   "cell_type": "code",
   "execution_count": 140,
   "metadata": {
    "tags": []
   },
   "outputs": [],
   "source": [
    "# cleaned_concatenated_df.to_csv('cc_cleaned_concatenated_df.csv')"
   ]
  },
  {
   "cell_type": "code",
   "execution_count": 141,
   "metadata": {
    "tags": []
   },
   "outputs": [],
   "source": [
    "# concatenated_df.columns"
   ]
  },
  {
   "cell_type": "code",
   "execution_count": 142,
   "metadata": {
    "tags": []
   },
   "outputs": [],
   "source": [
    "# concatenated_df= concatenated_df[['client_id','person_internal_id','page_name']]\n",
    "# cleaned_concatenated_df= cleaned_concatenated_df[['client_id','person_internal_id','input', 'contain_syn']]"
   ]
  },
  {
   "cell_type": "code",
   "execution_count": 143,
   "metadata": {
    "tags": []
   },
   "outputs": [],
   "source": [
    "# concatenated_df.head()"
   ]
  },
  {
   "cell_type": "code",
   "execution_count": 144,
   "metadata": {
    "tags": []
   },
   "outputs": [
    {
     "data": {
      "text/plain": [
       "(17644, 3)"
      ]
     },
     "execution_count": 144,
     "metadata": {},
     "output_type": "execute_result"
    }
   ],
   "source": [
    "cleaned_concatenated_df.shape"
   ]
  },
  {
   "cell_type": "code",
   "execution_count": 145,
   "metadata": {
    "tags": []
   },
   "outputs": [],
   "source": [
    "# cleaned_concatenated_df.head()"
   ]
  },
  {
   "cell_type": "code",
   "execution_count": 146,
   "metadata": {
    "tags": []
   },
   "outputs": [],
   "source": [
    "import re\n",
    "import numpy as np\n",
    "from concurrent.futures import ProcessPoolExecutor\n",
    "from functools import partial\n",
    "\n",
    "# def count_intnt_entits(doc):\n",
    "#     intents = [token.text for token in doc if token.pos_ == 'VERB']\n",
    "#     entities = [token.text for token in doc if token.pos_ in {'NOUN', 'PROPN', 'ADJ', 'NUM', 'ADV'}]\n",
    "#     return len(intents), len(entities)\n",
    "\n",
    "# def extract_ner_entities(doc, sentence):\n",
    "#     entities = [(entity.text, entity.label_) for entity in doc.ents]\n",
    "#     return entities\n",
    "\n",
    "# def length_entities(list_entities):\n",
    "#     if (list_entities == np.nan or list_entities is None or list_entities == ''):\n",
    "#         return 0\n",
    "#     else:\n",
    "#         return len(list_entities)\n",
    "\n",
    "# def filter_named_entities(doc, text):\n",
    "#     filtered_words = [token.text for token in doc if token.ent_type_ not in ['ORG', 'PERSON', 'GPE', 'LOC', 'FAC']]\n",
    "#     filtered_text = ' '.join(filtered_words)\n",
    "#     return filtered_text\n",
    "\n",
    "# def process_text(text):\n",
    "#     doc = nlp(text)\n",
    "#     intents, entities = count_intnt_entits(doc)\n",
    "#     ner_entities = extract_ner_entities(doc, text)\n",
    "#     len_ner_entities = length_entities(ner_entities)\n",
    "#     filtered_text = filter_named_entities(doc, text)\n",
    "#     return intents, entities, ner_entities, len_ner_entities, filtered_text\n",
    "\n",
    "# def text_preprocess(dataframe, col='reportingfields_fieldvalue1'):\n",
    "#     dataframe = dataframe.drop_duplicates()\n",
    "#     texts = dataframe[col].tolist()\n",
    "#     # texts = dataframe['text'].tolist()\n",
    "#     with ProcessPoolExecutor(max_workers=96) as executor:\n",
    "#         processed_results = list(executor.map(process_text, texts))\n",
    "\n",
    "#     intents, entities, ner_entities, len_ner_entities, filtered_texts = zip(*processed_results)\n",
    "    \n",
    "#     dataframe['no_of_intents'] = intents\n",
    "#     dataframe['no_of_entities'] = entities\n",
    "#     dataframe['ner_enities'] = ner_entities\n",
    "#     dataframe['len_ner_enities'] = len_ner_entities\n",
    "#     dataframe[col]= filtered_texts\n",
    "    \n",
    "#     dataframe = dataframe[dataframe['len_ner_enities'] > 0]\n",
    "#     dataframe[col] = dataframe[col].str.strip()\n",
    "#     dataframe = dataframe.drop(['no_of_intents', 'no_of_entities', 'ner_enities', 'len_ner_enities'], axis=1)\n",
    "    \n",
    "#     return dataframe\n"
   ]
  },
  {
   "cell_type": "code",
   "execution_count": 147,
   "metadata": {
    "tags": []
   },
   "outputs": [],
   "source": [
    "# text_preprocessed_cleaned_concatenated_df = text_preprocess(cleaned_concatenated_df, col='reportingfields_fieldvalue1' )"
   ]
  },
  {
   "cell_type": "code",
   "execution_count": null,
   "metadata": {},
   "outputs": [],
   "source": []
  },
  {
   "cell_type": "code",
   "execution_count": 157,
   "metadata": {
    "tags": []
   },
   "outputs": [
    {
     "name": "stdout",
     "output_type": "stream",
     "text": [
      "51108.574212789536\n"
     ]
    }
   ],
   "source": [
    "# Step 10: Load the model\n",
    "import joblib\n",
    "\n",
    "loaded_model = joblib.load('Bert_CC_model/cc_model_v1.pkl')\n",
    "model = SentenceTransformer('all-mpnet-base-v2')\n",
    "\n",
    "# Step 12: Encode the text samples from the Parquet file\n",
    "encodings = model.encode(cleaned_concatenated_df['input'].fillna(' ').tolist())\n",
    "\n",
    "# Step 13: Make predictions for the encoded samples\n",
    "cleaned_concatenated_df['prediction'] = loaded_model.predict(encodings)\n",
    "cleaned_concatenated_df['confidence_level'] = np.max(loaded_model.predict_proba(encodings), axis=1)\n",
    "cleaned_concatenated_df['contain_syn'] = cleaned_concatenated_df['input'].apply(\n",
    "    lambda x: 'yes' if any(phrase in x for phrase in list(words_4)) else 'no')\n",
    "\n",
    "# Step 14: Save the predictions in an Excel file\n",
    "# cleaned_concatenated_df.to_excel('cc_iva_4april_predictions_v1.xlsx', index=False)\n",
    "\n",
    "elapsed_time = time.time() - start_time\n",
    "print(elapsed_time)"
   ]
  },
  {
   "cell_type": "code",
   "execution_count": 167,
   "metadata": {},
   "outputs": [
    {
     "data": {
      "text/html": [
       "<div>\n",
       "<style scoped>\n",
       "    .dataframe tbody tr th:only-of-type {\n",
       "        vertical-align: middle;\n",
       "    }\n",
       "\n",
       "    .dataframe tbody tr th {\n",
       "        vertical-align: top;\n",
       "    }\n",
       "\n",
       "    .dataframe thead th {\n",
       "        text-align: right;\n",
       "    }\n",
       "</style>\n",
       "<table border=\"1\" class=\"dataframe\">\n",
       "  <thead>\n",
       "    <tr style=\"text-align: right;\">\n",
       "      <th></th>\n",
       "      <th>input</th>\n",
       "      <th>client_id</th>\n",
       "      <th>person_internal_id</th>\n",
       "      <th>prediction</th>\n",
       "      <th>confidence_level</th>\n",
       "      <th>contain_syn</th>\n",
       "    </tr>\n",
       "  </thead>\n",
       "  <tbody>\n",
       "    <tr>\n",
       "      <th>17168</th>\n",
       "      <td>careplus information</td>\n",
       "      <td>NaN</td>\n",
       "      <td>NaN</td>\n",
       "      <td>Other</td>\n",
       "      <td>0.963541</td>\n",
       "      <td>no</td>\n",
       "    </tr>\n",
       "    <tr>\n",
       "      <th>7586</th>\n",
       "      <td>withdraw get approved</td>\n",
       "      <td>936.0</td>\n",
       "      <td>165561004.0</td>\n",
       "      <td>Other</td>\n",
       "      <td>0.993508</td>\n",
       "      <td>no</td>\n",
       "    </tr>\n",
       "    <tr>\n",
       "      <th>8094</th>\n",
       "      <td>didnt receive document mailbox provides link e...</td>\n",
       "      <td>NaN</td>\n",
       "      <td>NaN</td>\n",
       "      <td>Other</td>\n",
       "      <td>0.996801</td>\n",
       "      <td>no</td>\n",
       "    </tr>\n",
       "    <tr>\n",
       "      <th>2491</th>\n",
       "      <td>dom benefits</td>\n",
       "      <td>NaN</td>\n",
       "      <td>NaN</td>\n",
       "      <td>Other</td>\n",
       "      <td>0.934262</td>\n",
       "      <td>no</td>\n",
       "    </tr>\n",
       "    <tr>\n",
       "      <th>13236</th>\n",
       "      <td>hi legal insurance access legal advisors</td>\n",
       "      <td>NaN</td>\n",
       "      <td>NaN</td>\n",
       "      <td>Other</td>\n",
       "      <td>0.979506</td>\n",
       "      <td>no</td>\n",
       "    </tr>\n",
       "    <tr>\n",
       "      <th>78</th>\n",
       "      <td>wellness fund</td>\n",
       "      <td>NaN</td>\n",
       "      <td>NaN</td>\n",
       "      <td>Other</td>\n",
       "      <td>0.974300</td>\n",
       "      <td>no</td>\n",
       "    </tr>\n",
       "    <tr>\n",
       "      <th>5842</th>\n",
       "      <td>loloan</td>\n",
       "      <td>NaN</td>\n",
       "      <td>NaN</td>\n",
       "      <td>Other</td>\n",
       "      <td>0.995568</td>\n",
       "      <td>no</td>\n",
       "    </tr>\n",
       "    <tr>\n",
       "      <th>9080</th>\n",
       "      <td>sent cash sale addendum portal also uploaded t...</td>\n",
       "      <td>NaN</td>\n",
       "      <td>NaN</td>\n",
       "      <td>Other</td>\n",
       "      <td>0.976331</td>\n",
       "      <td>no</td>\n",
       "    </tr>\n",
       "    <tr>\n",
       "      <th>10159</th>\n",
       "      <td>change k contributions</td>\n",
       "      <td>NaN</td>\n",
       "      <td>NaN</td>\n",
       "      <td>Other</td>\n",
       "      <td>0.996727</td>\n",
       "      <td>no</td>\n",
       "    </tr>\n",
       "    <tr>\n",
       "      <th>5425</th>\n",
       "      <td>nd md</td>\n",
       "      <td>5035.0</td>\n",
       "      <td>254750020.0</td>\n",
       "      <td>Other</td>\n",
       "      <td>0.992235</td>\n",
       "      <td>no</td>\n",
       "    </tr>\n",
       "    <tr>\n",
       "      <th>6347</th>\n",
       "      <td>received form mail tax purposes principal life</td>\n",
       "      <td>936.0</td>\n",
       "      <td>252671085.0</td>\n",
       "      <td>Other</td>\n",
       "      <td>0.992831</td>\n",
       "      <td>no</td>\n",
       "    </tr>\n",
       "    <tr>\n",
       "      <th>14190</th>\n",
       "      <td>change daughter last name aetna</td>\n",
       "      <td>NaN</td>\n",
       "      <td>NaN</td>\n",
       "      <td>Child care</td>\n",
       "      <td>0.980691</td>\n",
       "      <td>yes</td>\n",
       "    </tr>\n",
       "    <tr>\n",
       "      <th>16711</th>\n",
       "      <td>employee id sign employee nmbr user id request...</td>\n",
       "      <td>620.0</td>\n",
       "      <td>453800094.0</td>\n",
       "      <td>Other</td>\n",
       "      <td>0.997220</td>\n",
       "      <td>no</td>\n",
       "    </tr>\n",
       "    <tr>\n",
       "      <th>373</th>\n",
       "      <td>change office location</td>\n",
       "      <td>3742.0</td>\n",
       "      <td>176100007.0</td>\n",
       "      <td>Other</td>\n",
       "      <td>0.993066</td>\n",
       "      <td>no</td>\n",
       "    </tr>\n",
       "    <tr>\n",
       "      <th>9392</th>\n",
       "      <td>wondering received faxed paperwork yesterday</td>\n",
       "      <td>NaN</td>\n",
       "      <td>NaN</td>\n",
       "      <td>Other</td>\n",
       "      <td>0.986888</td>\n",
       "      <td>no</td>\n",
       "    </tr>\n",
       "    <tr>\n",
       "      <th>7219</th>\n",
       "      <td>print health insurance card</td>\n",
       "      <td>NaN</td>\n",
       "      <td>NaN</td>\n",
       "      <td>Other</td>\n",
       "      <td>0.988625</td>\n",
       "      <td>no</td>\n",
       "    </tr>\n",
       "    <tr>\n",
       "      <th>4929</th>\n",
       "      <td>leaving dell</td>\n",
       "      <td>3974.0</td>\n",
       "      <td>157800059.0</td>\n",
       "      <td>Other</td>\n",
       "      <td>0.993175</td>\n",
       "      <td>no</td>\n",
       "    </tr>\n",
       "    <tr>\n",
       "      <th>15265</th>\n",
       "      <td>submit documents online hardship</td>\n",
       "      <td>NaN</td>\n",
       "      <td>NaN</td>\n",
       "      <td>Other</td>\n",
       "      <td>0.847127</td>\n",
       "      <td>no</td>\n",
       "    </tr>\n",
       "    <tr>\n",
       "      <th>9432</th>\n",
       "      <td>i’d like withdraw everything k</td>\n",
       "      <td>NaN</td>\n",
       "      <td>NaN</td>\n",
       "      <td>Other</td>\n",
       "      <td>0.991611</td>\n",
       "      <td>no</td>\n",
       "    </tr>\n",
       "    <tr>\n",
       "      <th>6209</th>\n",
       "      <td>hi lisa regarding child care plus</td>\n",
       "      <td>NaN</td>\n",
       "      <td>NaN</td>\n",
       "      <td>Child care</td>\n",
       "      <td>0.997435</td>\n",
       "      <td>yes</td>\n",
       "    </tr>\n",
       "    <tr>\n",
       "      <th>15035</th>\n",
       "      <td>leave abscenc</td>\n",
       "      <td>NaN</td>\n",
       "      <td>NaN</td>\n",
       "      <td>Other</td>\n",
       "      <td>0.991633</td>\n",
       "      <td>no</td>\n",
       "    </tr>\n",
       "    <tr>\n",
       "      <th>12621</th>\n",
       "      <td>restricted access error</td>\n",
       "      <td>NaN</td>\n",
       "      <td>NaN</td>\n",
       "      <td>Other</td>\n",
       "      <td>0.990419</td>\n",
       "      <td>no</td>\n",
       "    </tr>\n",
       "    <tr>\n",
       "      <th>7690</th>\n",
       "      <td>dependent verification initiation form</td>\n",
       "      <td>NaN</td>\n",
       "      <td>NaN</td>\n",
       "      <td>Other</td>\n",
       "      <td>0.977632</td>\n",
       "      <td>no</td>\n",
       "    </tr>\n",
       "    <tr>\n",
       "      <th>15656</th>\n",
       "      <td>contact error message trying change personal c...</td>\n",
       "      <td>NaN</td>\n",
       "      <td>NaN</td>\n",
       "      <td>Other</td>\n",
       "      <td>0.990505</td>\n",
       "      <td>yes</td>\n",
       "    </tr>\n",
       "    <tr>\n",
       "      <th>11792</th>\n",
       "      <td>going provide password email</td>\n",
       "      <td>NaN</td>\n",
       "      <td>NaN</td>\n",
       "      <td>Other</td>\n",
       "      <td>0.998239</td>\n",
       "      <td>no</td>\n",
       "    </tr>\n",
       "    <tr>\n",
       "      <th>2633</th>\n",
       "      <td>get sa tax form tax filing purpose</td>\n",
       "      <td>16433.0</td>\n",
       "      <td>179000064.0</td>\n",
       "      <td>Other</td>\n",
       "      <td>0.990542</td>\n",
       "      <td>no</td>\n",
       "    </tr>\n",
       "    <tr>\n",
       "      <th>8555</th>\n",
       "      <td></td>\n",
       "      <td>NaN</td>\n",
       "      <td>NaN</td>\n",
       "      <td>Other</td>\n",
       "      <td>0.936458</td>\n",
       "      <td>no</td>\n",
       "    </tr>\n",
       "    <tr>\n",
       "      <th>14784</th>\n",
       "      <td>rollove</td>\n",
       "      <td>NaN</td>\n",
       "      <td>NaN</td>\n",
       "      <td>Other</td>\n",
       "      <td>0.986385</td>\n",
       "      <td>no</td>\n",
       "    </tr>\n",
       "    <tr>\n",
       "      <th>16245</th>\n",
       "      <td>answer question</td>\n",
       "      <td>NaN</td>\n",
       "      <td>NaN</td>\n",
       "      <td>Other</td>\n",
       "      <td>0.948088</td>\n",
       "      <td>no</td>\n",
       "    </tr>\n",
       "    <tr>\n",
       "      <th>3499</th>\n",
       "      <td>pension distribution</td>\n",
       "      <td>NaN</td>\n",
       "      <td>NaN</td>\n",
       "      <td>Other</td>\n",
       "      <td>0.996034</td>\n",
       "      <td>no</td>\n",
       "    </tr>\n",
       "  </tbody>\n",
       "</table>\n",
       "</div>"
      ],
      "text/plain": [
       "                                                   input  client_id  \\\n",
       "17168                               careplus information        NaN   \n",
       "7586                               withdraw get approved      936.0   \n",
       "8094   didnt receive document mailbox provides link e...        NaN   \n",
       "2491                                        dom benefits        NaN   \n",
       "13236           hi legal insurance access legal advisors        NaN   \n",
       "78                                         wellness fund        NaN   \n",
       "5842                                              loloan        NaN   \n",
       "9080   sent cash sale addendum portal also uploaded t...        NaN   \n",
       "10159                             change k contributions        NaN   \n",
       "5425                                               nd md     5035.0   \n",
       "6347      received form mail tax purposes principal life      936.0   \n",
       "14190                    change daughter last name aetna        NaN   \n",
       "16711  employee id sign employee nmbr user id request...      620.0   \n",
       "373                               change office location     3742.0   \n",
       "9392        wondering received faxed paperwork yesterday        NaN   \n",
       "7219                         print health insurance card        NaN   \n",
       "4929                                        leaving dell     3974.0   \n",
       "15265                   submit documents online hardship        NaN   \n",
       "9432                      i’d like withdraw everything k        NaN   \n",
       "6209                   hi lisa regarding child care plus        NaN   \n",
       "15035                                      leave abscenc        NaN   \n",
       "12621                            restricted access error        NaN   \n",
       "7690              dependent verification initiation form        NaN   \n",
       "15656  contact error message trying change personal c...        NaN   \n",
       "11792                       going provide password email        NaN   \n",
       "2633                  get sa tax form tax filing purpose    16433.0   \n",
       "8555                                                            NaN   \n",
       "14784                                            rollove        NaN   \n",
       "16245                                    answer question        NaN   \n",
       "3499                                pension distribution        NaN   \n",
       "\n",
       "       person_internal_id  prediction  confidence_level contain_syn  \n",
       "17168                 NaN       Other          0.963541          no  \n",
       "7586          165561004.0       Other          0.993508          no  \n",
       "8094                  NaN       Other          0.996801          no  \n",
       "2491                  NaN       Other          0.934262          no  \n",
       "13236                 NaN       Other          0.979506          no  \n",
       "78                    NaN       Other          0.974300          no  \n",
       "5842                  NaN       Other          0.995568          no  \n",
       "9080                  NaN       Other          0.976331          no  \n",
       "10159                 NaN       Other          0.996727          no  \n",
       "5425          254750020.0       Other          0.992235          no  \n",
       "6347          252671085.0       Other          0.992831          no  \n",
       "14190                 NaN  Child care          0.980691         yes  \n",
       "16711         453800094.0       Other          0.997220          no  \n",
       "373           176100007.0       Other          0.993066          no  \n",
       "9392                  NaN       Other          0.986888          no  \n",
       "7219                  NaN       Other          0.988625          no  \n",
       "4929          157800059.0       Other          0.993175          no  \n",
       "15265                 NaN       Other          0.847127          no  \n",
       "9432                  NaN       Other          0.991611          no  \n",
       "6209                  NaN  Child care          0.997435         yes  \n",
       "15035                 NaN       Other          0.991633          no  \n",
       "12621                 NaN       Other          0.990419          no  \n",
       "7690                  NaN       Other          0.977632          no  \n",
       "15656                 NaN       Other          0.990505         yes  \n",
       "11792                 NaN       Other          0.998239          no  \n",
       "2633          179000064.0       Other          0.990542          no  \n",
       "8555                  NaN       Other          0.936458          no  \n",
       "14784                 NaN       Other          0.986385          no  \n",
       "16245                 NaN       Other          0.948088          no  \n",
       "3499                  NaN       Other          0.996034          no  "
      ]
     },
     "execution_count": 167,
     "metadata": {},
     "output_type": "execute_result"
    }
   ],
   "source": [
    "cleaned_concatenated_df.sample(30)"
   ]
  },
  {
   "cell_type": "code",
   "execution_count": 168,
   "metadata": {
    "tags": []
   },
   "outputs": [],
   "source": [
    "cleaned_concatenated_df.to_excel('cc_iva_4april_predictions_v1.xlsx', index=False)"
   ]
  },
  {
   "cell_type": "code",
   "execution_count": null,
   "metadata": {},
   "outputs": [],
   "source": []
  },
  {
   "cell_type": "code",
   "execution_count": null,
   "metadata": {
    "tags": []
   },
   "outputs": [],
   "source": [
    "df = pd.read_excel('cc_search_3april_predictions.xlsx')"
   ]
  },
  {
   "cell_type": "code",
   "execution_count": null,
   "metadata": {
    "tags": []
   },
   "outputs": [],
   "source": [
    "list_unique_words = list(words_4)"
   ]
  },
  {
   "cell_type": "code",
   "execution_count": null,
   "metadata": {
    "tags": []
   },
   "outputs": [],
   "source": [
    "# Encode phrases using the SentenceTransformer model\n",
    "phrase_embeddings = model.encode(list_unique_words)"
   ]
  },
  {
   "cell_type": "code",
   "execution_count": null,
   "metadata": {
    "tags": []
   },
   "outputs": [],
   "source": [
    "# Function to calculate similarity between a text and the phrases\n",
    "def calculate_similarity(text):\n",
    "    text = str(text)\n",
    "    text_embedding = model.encode([text])\n",
    "    similarity_scores = cosine_similarity(text_embedding, phrase_embeddings)\n",
    "    \n",
    "    pos = np.argmax(similarity_scores[0])\n",
    "    return similarity_scores[0][pos], list_unique_words[pos]\n"
   ]
  },
  {
   "cell_type": "code",
   "execution_count": null,
   "metadata": {
    "tags": []
   },
   "outputs": [],
   "source": [
    "df['Similarity_Scores'] = df[df['Contains_syn'].isna()]['search_text'].apply(calculate_similarity)\n",
    "# df['Similarity_Scores'] = df[df['Contains_syn'].isna()]['search_text'].apply(calculate_similarity)\n"
   ]
  },
  {
   "cell_type": "code",
   "execution_count": null,
   "metadata": {
    "tags": []
   },
   "outputs": [],
   "source": [
    "df[(df['prediction']=='Child care') & df['Contains_syn'].isna()].to_csv('cc_cat_not_contain_syn.csv')"
   ]
  },
  {
   "cell_type": "code",
   "execution_count": null,
   "metadata": {
    "tags": []
   },
   "outputs": [],
   "source": [
    "df[df['Contains_syn']=='']"
   ]
  },
  {
   "cell_type": "code",
   "execution_count": 85,
   "metadata": {
    "tags": []
   },
   "outputs": [],
   "source": [
    "# np.max(loaded_model.predict_proba(encodings[:10]), axis=1)"
   ]
  },
  {
   "cell_type": "code",
   "execution_count": 77,
   "metadata": {
    "tags": []
   },
   "outputs": [],
   "source": [
    "# loaded_model.predict(encodings[:10])"
   ]
  },
  {
   "cell_type": "code",
   "execution_count": 78,
   "metadata": {
    "tags": []
   },
   "outputs": [],
   "source": [
    "# loaded_model.classes_"
   ]
  },
  {
   "cell_type": "code",
   "execution_count": null,
   "metadata": {},
   "outputs": [],
   "source": []
  },
  {
   "cell_type": "code",
   "execution_count": null,
   "metadata": {},
   "outputs": [],
   "source": []
  },
  {
   "cell_type": "code",
   "execution_count": null,
   "metadata": {},
   "outputs": [],
   "source": []
  },
  {
   "cell_type": "code",
   "execution_count": null,
   "metadata": {},
   "outputs": [],
   "source": []
  },
  {
   "cell_type": "code",
   "execution_count": null,
   "metadata": {},
   "outputs": [],
   "source": []
  },
  {
   "cell_type": "code",
   "execution_count": null,
   "metadata": {},
   "outputs": [],
   "source": []
  },
  {
   "cell_type": "code",
   "execution_count": null,
   "metadata": {},
   "outputs": [],
   "source": []
  },
  {
   "cell_type": "code",
   "execution_count": null,
   "metadata": {},
   "outputs": [],
   "source": []
  },
  {
   "cell_type": "code",
   "execution_count": null,
   "metadata": {},
   "outputs": [],
   "source": []
  },
  {
   "cell_type": "code",
   "execution_count": null,
   "metadata": {},
   "outputs": [],
   "source": []
  },
  {
   "cell_type": "code",
   "execution_count": null,
   "metadata": {},
   "outputs": [],
   "source": []
  },
  {
   "cell_type": "code",
   "execution_count": null,
   "metadata": {},
   "outputs": [],
   "source": []
  },
  {
   "cell_type": "code",
   "execution_count": null,
   "metadata": {},
   "outputs": [],
   "source": []
  },
  {
   "cell_type": "code",
   "execution_count": null,
   "metadata": {},
   "outputs": [],
   "source": []
  },
  {
   "cell_type": "code",
   "execution_count": null,
   "metadata": {},
   "outputs": [],
   "source": []
  },
  {
   "cell_type": "code",
   "execution_count": null,
   "metadata": {},
   "outputs": [],
   "source": []
  },
  {
   "cell_type": "code",
   "execution_count": null,
   "metadata": {},
   "outputs": [],
   "source": []
  },
  {
   "cell_type": "code",
   "execution_count": null,
   "metadata": {},
   "outputs": [],
   "source": []
  },
  {
   "cell_type": "code",
   "execution_count": null,
   "metadata": {},
   "outputs": [],
   "source": []
  },
  {
   "cell_type": "code",
   "execution_count": null,
   "metadata": {},
   "outputs": [],
   "source": []
  },
  {
   "cell_type": "code",
   "execution_count": null,
   "metadata": {},
   "outputs": [],
   "source": []
  },
  {
   "cell_type": "code",
   "execution_count": null,
   "metadata": {},
   "outputs": [],
   "source": []
  },
  {
   "cell_type": "code",
   "execution_count": null,
   "metadata": {},
   "outputs": [],
   "source": []
  },
  {
   "cell_type": "code",
   "execution_count": null,
   "metadata": {},
   "outputs": [],
   "source": []
  },
  {
   "cell_type": "code",
   "execution_count": 81,
   "metadata": {
    "tags": []
   },
   "outputs": [
    {
     "name": "stderr",
     "output_type": "stream",
     "text": [
      "/tmp/ipykernel_74027/3565708624.py:36: FutureWarning: The default value of regex will change from True to False in a future version.\n",
      "  df['text'] = df['text'].str.replace('\\d+', '')\n",
      "/tmp/ipykernel_74027/3565708624.py:43: SettingWithCopyWarning: \n",
      "A value is trying to be set on a copy of a slice from a DataFrame.\n",
      "Try using .loc[row_indexer,col_indexer] = value instead\n",
      "\n",
      "See the caveats in the documentation: https://pandas.pydata.org/pandas-docs/stable/user_guide/indexing.html#returning-a-view-versus-a-copy\n",
      "  df3['text'] = df3['text'].apply(filter_named_entities)\n"
     ]
    },
    {
     "data": {
      "text/html": [
       "<div>\n",
       "<style scoped>\n",
       "    .dataframe tbody tr th:only-of-type {\n",
       "        vertical-align: middle;\n",
       "    }\n",
       "\n",
       "    .dataframe tbody tr th {\n",
       "        vertical-align: top;\n",
       "    }\n",
       "\n",
       "    .dataframe thead th {\n",
       "        text-align: right;\n",
       "    }\n",
       "</style>\n",
       "<table border=\"1\" class=\"dataframe\">\n",
       "  <thead>\n",
       "    <tr style=\"text-align: right;\">\n",
       "      <th></th>\n",
       "      <th>text</th>\n",
       "      <th>prediction</th>\n",
       "      <th>probability</th>\n",
       "    </tr>\n",
       "  </thead>\n",
       "  <tbody>\n",
       "    <tr>\n",
       "      <th>0</th>\n",
       "      <td>senior citizen care expense reimbursement</td>\n",
       "      <td>Elder care</td>\n",
       "      <td>0.999973</td>\n",
       "    </tr>\n",
       "    <tr>\n",
       "      <th>1</th>\n",
       "      <td>elderly care plus</td>\n",
       "      <td>Elder care</td>\n",
       "      <td>0.999985</td>\n",
       "    </tr>\n",
       "    <tr>\n",
       "      <th>2</th>\n",
       "      <td>aging care home</td>\n",
       "      <td>Elder care</td>\n",
       "      <td>0.999983</td>\n",
       "    </tr>\n",
       "    <tr>\n",
       "      <th>3</th>\n",
       "      <td>retirees care reimbirsement</td>\n",
       "      <td>Elder care</td>\n",
       "      <td>0.999841</td>\n",
       "    </tr>\n",
       "    <tr>\n",
       "      <th>4</th>\n",
       "      <td>senior assistance required</td>\n",
       "      <td>Elder care</td>\n",
       "      <td>0.999977</td>\n",
       "    </tr>\n",
       "    <tr>\n",
       "      <th>5</th>\n",
       "      <td>daycare expense reimbursement</td>\n",
       "      <td>Other</td>\n",
       "      <td>0.999982</td>\n",
       "    </tr>\n",
       "    <tr>\n",
       "      <th>6</th>\n",
       "      <td>baby care licensed</td>\n",
       "      <td>Other</td>\n",
       "      <td>0.999976</td>\n",
       "    </tr>\n",
       "    <tr>\n",
       "      <th>7</th>\n",
       "      <td>oldsters care home</td>\n",
       "      <td>Other</td>\n",
       "      <td>0.991685</td>\n",
       "    </tr>\n",
       "    <tr>\n",
       "      <th>8</th>\n",
       "      <td>contentpage eldercare subsidy</td>\n",
       "      <td>Elder care</td>\n",
       "      <td>0.999982</td>\n",
       "    </tr>\n",
       "    <tr>\n",
       "      <th>9</th>\n",
       "      <td>elder statesmen care</td>\n",
       "      <td>Elder care</td>\n",
       "      <td>0.999982</td>\n",
       "    </tr>\n",
       "    <tr>\n",
       "      <th>10</th>\n",
       "      <td>elder women care</td>\n",
       "      <td>Elder care</td>\n",
       "      <td>0.999983</td>\n",
       "    </tr>\n",
       "    <tr>\n",
       "      <th>11</th>\n",
       "      <td>silver generation care</td>\n",
       "      <td>Other</td>\n",
       "      <td>0.996034</td>\n",
       "    </tr>\n",
       "    <tr>\n",
       "      <th>12</th>\n",
       "      <td>contentpage elder care subsidy</td>\n",
       "      <td>Elder care</td>\n",
       "      <td>0.999981</td>\n",
       "    </tr>\n",
       "    <tr>\n",
       "      <th>13</th>\n",
       "      <td>gerontology care</td>\n",
       "      <td>Other</td>\n",
       "      <td>0.931354</td>\n",
       "    </tr>\n",
       "  </tbody>\n",
       "</table>\n",
       "</div>"
      ],
      "text/plain": [
       "                                         text  prediction  probability\n",
       "0   senior citizen care expense reimbursement  Elder care     0.999973\n",
       "1                           elderly care plus  Elder care     0.999985\n",
       "2                             aging care home  Elder care     0.999983\n",
       "3                 retirees care reimbirsement  Elder care     0.999841\n",
       "4                  senior assistance required  Elder care     0.999977\n",
       "5               daycare expense reimbursement       Other     0.999982\n",
       "6                          baby care licensed       Other     0.999976\n",
       "7                          oldsters care home       Other     0.991685\n",
       "8               contentpage eldercare subsidy  Elder care     0.999982\n",
       "9                        elder statesmen care  Elder care     0.999982\n",
       "10                           elder women care  Elder care     0.999983\n",
       "11                     silver generation care       Other     0.996034\n",
       "12             contentpage elder care subsidy  Elder care     0.999981\n",
       "13                           gerontology care       Other     0.931354"
      ]
     },
     "execution_count": 81,
     "metadata": {},
     "output_type": "execute_result"
    }
   ],
   "source": [
    "list_of_texts = [\"senior-citizen?care expense reimbursement\", \n",
    "                 \"elderly*care plus\",\n",
    "                 \"aging care home\", \"retirees care reimbirsement\", \n",
    "                 \"senior assistance required\",\"Daycare@expense reimbursement\",\n",
    "                 \"baby care licensed\", \"oldsters care home\",\"geriatric care home\",\n",
    "                 \"contentPage 2023 Eldercare!!!!!!!!!!!!!****@_Subsidy\",\"Elder statesmen care\",\n",
    "                 \"Elder women care\",\"Silver generation care\",\n",
    "                 \"contentPage {}[]/\\|?><,.;:!@#+\\t\\n\\r\\f\\v 2023 Elder care Subsidy\",\"gerontology care\",\n",
    "                 \"Elderly Care Plus Information\"]\n"
   ]
  },
  {
   "cell_type": "markdown",
   "metadata": {},
   "source": [
    "### convert saved model .bin and config.json to .pkl compatible files"
   ]
  },
  {
   "cell_type": "code",
   "execution_count": null,
   "metadata": {},
   "outputs": [],
   "source": [
    "# convert saved model .bin and config.json to .pkl compatible files\n",
    "from transformers import AutoConfig, AutoModelForSequenceClassification\n",
    "import torch\n",
    "import pickle\n",
    "\n",
    "# Load the model configuration from the config.json file\n",
    "config = AutoConfig.from_pretrained('EC_model_outer_combined_texts_data_v6', num_labels=2)\n",
    "\n",
    "# Load the model from the binary file using the configuration\n",
    "model = AutoModelForSequenceClassification.from_pretrained('EC_model_outer_combined_texts_data_v6', config=config)\n",
    "\n",
    "# Save the model and configuration as a pickle file\n",
    "with open('EC_model_outer_combined_texts_data_v6/EC_model.pkl', 'wb') as f:\n",
    "    pickle.dump((config, model.state_dict()), f)"
   ]
  },
  {
   "cell_type": "markdown",
   "metadata": {},
   "source": [
    "## tagging the unseen_data for analysisng the predictions"
   ]
  },
  {
   "cell_type": "markdown",
   "metadata": {},
   "source": [
    "### finding the texts which contain exact phrases from synonyms list"
   ]
  },
  {
   "cell_type": "code",
   "execution_count": 41,
   "metadata": {
    "tags": []
   },
   "outputs": [
    {
     "data": {
      "text/plain": [
       "49"
      ]
     },
     "execution_count": 41,
     "metadata": {},
     "output_type": "execute_result"
    }
   ],
   "source": [
    "words_3 = ['older parent','older people','grand parents','elder','old parents','elder women',\n",
    " 'silver generation','aged people', 'older women','older men','old age home','elder',\n",
    " 'aged',\n",
    " 'elderly people',\n",
    " 'senior assistance',\n",
    " 'aging-in-place',\n",
    " 'aged population',\n",
    " 'golden agers',\n",
    " 'aging in place',\n",
    " 'grey generation',\n",
    " 'silver generation',\n",
    " 'senior health',\n",
    " 'aged population',\n",
    " 'elderly companion',\n",
    " 'golden agers',\n",
    " 'senior citizen',\n",
    " 'elder support',\n",
    " 'elderly',\n",
    " 'senior members',\n",
    " 'elder population',\n",
    " 'elderly residents',\n",
    " 'senior assistance',\n",
    " 'oldsters',\n",
    " 'grey generation',\n",
    " 'aging population',\n",
    " 'elder statesmen',\n",
    " 'elderly',\n",
    " 'elderly people',\n",
    " 'aging',\n",
    " 'elderly residents',\n",
    " 'elder',\n",
    " 'elder women',\n",
    " 'senior',\n",
    " 'elder generation',\n",
    " 'gerontology',\n",
    " 'elderly population',\n",
    " 'senior members',\n",
    " 'retirees',\n",
    " 'elderly population',\n",
    " 'eldercare',\n",
    " 'geriatric',\n",
    " 'elder statesmen',\n",
    " 'age related',\n",
    " 'retirees',\n",
    " 'third age population',\n",
    " 'aging population',\n",
    " 'elder population',\n",
    " 'oldsters',\n",
    " 'third age population','eldercae', 'eldercarr', 'eldermann', \n",
    "'aged home','eldercre','eldery','elderman','elders','eldercrae',]\n",
    "words_4 = list(set([word.lower() for word in words_3]))\n",
    "len(words_4)"
   ]
  },
  {
   "cell_type": "code",
   "execution_count": 42,
   "metadata": {
    "tags": []
   },
   "outputs": [
    {
     "data": {
      "text/html": [
       "<div>\n",
       "<style scoped>\n",
       "    .dataframe tbody tr th:only-of-type {\n",
       "        vertical-align: middle;\n",
       "    }\n",
       "\n",
       "    .dataframe tbody tr th {\n",
       "        vertical-align: top;\n",
       "    }\n",
       "\n",
       "    .dataframe thead th {\n",
       "        text-align: right;\n",
       "    }\n",
       "</style>\n",
       "<table border=\"1\" class=\"dataframe\">\n",
       "  <thead>\n",
       "    <tr style=\"text-align: right;\">\n",
       "      <th></th>\n",
       "      <th>text</th>\n",
       "    </tr>\n",
       "  </thead>\n",
       "  <tbody>\n",
       "    <tr>\n",
       "      <th>0</th>\n",
       "      <td>welcomeuserfollowup</td>\n",
       "    </tr>\n",
       "    <tr>\n",
       "      <th>1</th>\n",
       "      <td>medical plan credit</td>\n",
       "    </tr>\n",
       "    <tr>\n",
       "      <th>2</th>\n",
       "      <td>welcomeuser</td>\n",
       "    </tr>\n",
       "    <tr>\n",
       "      <th>3</th>\n",
       "      <td>general purpose loans</td>\n",
       "    </tr>\n",
       "    <tr>\n",
       "      <th>4</th>\n",
       "      <td>chiropractor visits</td>\n",
       "    </tr>\n",
       "  </tbody>\n",
       "</table>\n",
       "</div>"
      ],
      "text/plain": [
       "                    text\n",
       "0    welcomeuserfollowup\n",
       "1    medical plan credit\n",
       "2            welcomeuser\n",
       "3  general purpose loans\n",
       "4    chiropractor visits"
      ]
     },
     "execution_count": 42,
     "metadata": {},
     "output_type": "execute_result"
    }
   ],
   "source": [
    "df_cleaned = pd.DataFrame()\n",
    "df_cleaned['text'] =cleaned_text_list\n",
    "df_cleaned.head(5)"
   ]
  },
  {
   "cell_type": "code",
   "execution_count": 43,
   "metadata": {},
   "outputs": [
    {
     "name": "stderr",
     "output_type": "stream",
     "text": [
      "/tmp/ipykernel_74027/3427755096.py:1: UserWarning: This pattern is interpreted as a regular expression, and has match groups. To actually get the groups, use str.extract.\n",
      "  mask = (df_cleaned['text'].str.contains(r'\\b(' + '|'.join(words_4) + r')\\b', case=False, na=False))\n"
     ]
    },
    {
     "data": {
      "text/html": [
       "<div>\n",
       "<style scoped>\n",
       "    .dataframe tbody tr th:only-of-type {\n",
       "        vertical-align: middle;\n",
       "    }\n",
       "\n",
       "    .dataframe tbody tr th {\n",
       "        vertical-align: top;\n",
       "    }\n",
       "\n",
       "    .dataframe thead th {\n",
       "        text-align: right;\n",
       "    }\n",
       "</style>\n",
       "<table border=\"1\" class=\"dataframe\">\n",
       "  <thead>\n",
       "    <tr style=\"text-align: right;\">\n",
       "      <th></th>\n",
       "      <th>text</th>\n",
       "      <th>category</th>\n",
       "    </tr>\n",
       "  </thead>\n",
       "  <tbody>\n",
       "    <tr>\n",
       "      <th>0</th>\n",
       "      <td>welcomeuserfollowup</td>\n",
       "      <td></td>\n",
       "    </tr>\n",
       "    <tr>\n",
       "      <th>1</th>\n",
       "      <td>medical plan credit</td>\n",
       "      <td></td>\n",
       "    </tr>\n",
       "    <tr>\n",
       "      <th>2</th>\n",
       "      <td>welcomeuser</td>\n",
       "      <td></td>\n",
       "    </tr>\n",
       "    <tr>\n",
       "      <th>3</th>\n",
       "      <td>general purpose loans</td>\n",
       "      <td></td>\n",
       "    </tr>\n",
       "    <tr>\n",
       "      <th>4</th>\n",
       "      <td>chiropractor visits</td>\n",
       "      <td></td>\n",
       "    </tr>\n",
       "  </tbody>\n",
       "</table>\n",
       "</div>"
      ],
      "text/plain": [
       "                    text category\n",
       "0    welcomeuserfollowup         \n",
       "1    medical plan credit         \n",
       "2            welcomeuser         \n",
       "3  general purpose loans         \n",
       "4    chiropractor visits         "
      ]
     },
     "execution_count": 43,
     "metadata": {},
     "output_type": "execute_result"
    }
   ],
   "source": [
    "mask = (df_cleaned['text'].str.contains(r'\\b(' + '|'.join(words_4) + r')\\b', case=False, na=False))\n",
    "\n",
    "df_cleaned['category'] = ''\n",
    "df_cleaned.loc[mask, 'category'] = 'Elder care'\n",
    "# df_combined_web_iva_search.loc[df_combined_web_iva_search['category'] == '', 'category'] = 'Other'\n",
    "\n",
    "df_cleaned.head(5)"
   ]
  },
  {
   "cell_type": "code",
   "execution_count": 45,
   "metadata": {
    "tags": []
   },
   "outputs": [
    {
     "data": {
      "text/html": [
       "<div>\n",
       "<style scoped>\n",
       "    .dataframe tbody tr th:only-of-type {\n",
       "        vertical-align: middle;\n",
       "    }\n",
       "\n",
       "    .dataframe tbody tr th {\n",
       "        vertical-align: top;\n",
       "    }\n",
       "\n",
       "    .dataframe thead th {\n",
       "        text-align: right;\n",
       "    }\n",
       "</style>\n",
       "<table border=\"1\" class=\"dataframe\">\n",
       "  <thead>\n",
       "    <tr style=\"text-align: right;\">\n",
       "      <th></th>\n",
       "      <th>text</th>\n",
       "      <th>category</th>\n",
       "    </tr>\n",
       "  </thead>\n",
       "  <tbody>\n",
       "    <tr>\n",
       "      <th>5666</th>\n",
       "      <td>ongoing elderly care</td>\n",
       "      <td>Elder care</td>\n",
       "    </tr>\n",
       "  </tbody>\n",
       "</table>\n",
       "</div>"
      ],
      "text/plain": [
       "                      text    category\n",
       "5666  ongoing elderly care  Elder care"
      ]
     },
     "execution_count": 45,
     "metadata": {},
     "output_type": "execute_result"
    }
   ],
   "source": [
    "df_cleaned[df_cleaned['category']=='Elder care'].sample(1)"
   ]
  },
  {
   "cell_type": "code",
   "execution_count": 46,
   "metadata": {},
   "outputs": [
    {
     "data": {
      "text/plain": [
       "(13, 2)"
      ]
     },
     "execution_count": 46,
     "metadata": {},
     "output_type": "execute_result"
    }
   ],
   "source": [
    "df_cleaned[df_cleaned['category']=='Elder care'].shape"
   ]
  },
  {
   "cell_type": "markdown",
   "metadata": {},
   "source": [
    "### get text which are similar to phrases in synonnyms list for texts other than which are filtered above"
   ]
  },
  {
   "cell_type": "code",
   "execution_count": 50,
   "metadata": {},
   "outputs": [],
   "source": [
    "model = SentenceTransformer('bert-base-nli-mean-tokens')"
   ]
  },
  {
   "cell_type": "code",
   "execution_count": 51,
   "metadata": {},
   "outputs": [],
   "source": [
    "def find_similar_sentences(df, sentences, phrases, threshold=0.95, category_name = 'Elder care'):\n",
    "    # encode the phrases using the model\n",
    "    phrase_embeddings = model.encode(phrases, convert_to_tensor=True)\n",
    "    \n",
    "    # initialize an empty list to store the similar sentences\n",
    "    similar_sentences = []\n",
    "    \n",
    "    # iterate over the sentences\n",
    "    for sentence in sentences:\n",
    "        # encode the sentence using the model\n",
    "        sentence_embedding = model.encode(sentence, convert_to_tensor=True)\n",
    "        # reshape the sentence embedding to a 2D array\n",
    "        sentence_embedding = sentence_embedding.reshape(1, -1)\n",
    "        \n",
    "        # calculate the cosine similarity between the sentence embedding and each phrase embedding\n",
    "        cosine_scores = 1 - cosine_distances(sentence_embedding, phrase_embeddings)\n",
    "        \n",
    "        # convert the cosine similarity scores to a list\n",
    "        scores_list = cosine_scores.tolist()[0]\n",
    "        \n",
    "        # iterate over the phrases and similarity scores and append the sentence to the list if it meets the threshold for at least one phrase\n",
    "        for phrase, score in zip(phrases, scores_list):\n",
    "            if score >= threshold:\n",
    "                similar_sentences.append(sentence)\n",
    "                break\n",
    "    \n",
    "    # convert the list of similar sentences to a set to remove duplicates\n",
    "    similar_sentences = set(similar_sentences)\n",
    "    \n",
    "    # create a new dataframe containing only the rows with text that is in the set of similar sentences\n",
    "    similar_df = df[df['text'].isin(similar_sentences)]\n",
    "    similar_df['category']=category_name\n",
    "    return similar_df"
   ]
  },
  {
   "cell_type": "code",
   "execution_count": 52,
   "metadata": {},
   "outputs": [
    {
     "name": "stderr",
     "output_type": "stream",
     "text": [
      "/tmp/ipykernel_74027/2749835889.py:32: SettingWithCopyWarning: \n",
      "A value is trying to be set on a copy of a slice from a DataFrame.\n",
      "Try using .loc[row_indexer,col_indexer] = value instead\n",
      "\n",
      "See the caveats in the documentation: https://pandas.pydata.org/pandas-docs/stable/user_guide/indexing.html#returning-a-view-versus-a-copy\n",
      "  similar_df['category']=category_name\n"
     ]
    }
   ],
   "source": [
    "similar_df_unseen = find_similar_sentences(df_cleaned, \n",
    "                                    df_cleaned[df_cleaned['category']=='']['text'].to_list(), \n",
    "                                    words_4)"
   ]
  },
  {
   "cell_type": "code",
   "execution_count": 53,
   "metadata": {
    "tags": []
   },
   "outputs": [
    {
     "data": {
      "text/html": [
       "<div>\n",
       "<style scoped>\n",
       "    .dataframe tbody tr th:only-of-type {\n",
       "        vertical-align: middle;\n",
       "    }\n",
       "\n",
       "    .dataframe tbody tr th {\n",
       "        vertical-align: top;\n",
       "    }\n",
       "\n",
       "    .dataframe thead th {\n",
       "        text-align: right;\n",
       "    }\n",
       "</style>\n",
       "<table border=\"1\" class=\"dataframe\">\n",
       "  <thead>\n",
       "    <tr style=\"text-align: right;\">\n",
       "      <th></th>\n",
       "      <th>text</th>\n",
       "      <th>category</th>\n",
       "    </tr>\n",
       "  </thead>\n",
       "  <tbody>\n",
       "    <tr>\n",
       "      <th>7095</th>\n",
       "      <td>retiremen</td>\n",
       "      <td>Elder care</td>\n",
       "    </tr>\n",
       "  </tbody>\n",
       "</table>\n",
       "</div>"
      ],
      "text/plain": [
       "           text    category\n",
       "7095  retiremen  Elder care"
      ]
     },
     "execution_count": 53,
     "metadata": {},
     "output_type": "execute_result"
    }
   ],
   "source": [
    "similar_df_unseen"
   ]
  },
  {
   "cell_type": "code",
   "execution_count": 54,
   "metadata": {},
   "outputs": [],
   "source": [
    "unseen_EC_df = pd.concat([df_cleaned[df_cleaned['category']=='Elder care'], \n",
    "                       similar_df_unseen]).sample(frac=1)"
   ]
  },
  {
   "cell_type": "code",
   "execution_count": 55,
   "metadata": {},
   "outputs": [
    {
     "data": {
      "text/plain": [
       "(14, 2)"
      ]
     },
     "execution_count": 55,
     "metadata": {},
     "output_type": "execute_result"
    }
   ],
   "source": [
    "unseen_EC_df.shape"
   ]
  },
  {
   "cell_type": "code",
   "execution_count": 56,
   "metadata": {},
   "outputs": [],
   "source": [
    "unseen_EC_df.drop_duplicates(inplace=True)"
   ]
  },
  {
   "cell_type": "code",
   "execution_count": 57,
   "metadata": {},
   "outputs": [
    {
     "data": {
      "text/plain": [
       "(14, 2)"
      ]
     },
     "execution_count": 57,
     "metadata": {},
     "output_type": "execute_result"
    }
   ],
   "source": [
    "unseen_EC_df.shape"
   ]
  },
  {
   "cell_type": "code",
   "execution_count": 58,
   "metadata": {},
   "outputs": [
    {
     "name": "stderr",
     "output_type": "stream",
     "text": [
      "/tmp/ipykernel_74027/3802977147.py:6: SettingWithCopyWarning: \n",
      "A value is trying to be set on a copy of a slice from a DataFrame.\n",
      "Try using .loc[row_indexer,col_indexer] = value instead\n",
      "\n",
      "See the caveats in the documentation: https://pandas.pydata.org/pandas-docs/stable/user_guide/indexing.html#returning-a-view-versus-a-copy\n",
      "  non_similar_unseen_df['category'] = 'Other'\n"
     ]
    }
   ],
   "source": [
    "# filter out the rows with similar text from the original DataFrame\n",
    "non_similar_unseen_df = df_cleaned[~df_cleaned['text'].isin(unseen_EC_df['text'])]\n",
    "\n",
    "# sample twice as many rows from the non-similar DataFrame as there are in the similar DataFrame\n",
    "# non_similar_df = non_similar_df.sample(n=only_EC_df.shape[0]*2)\n",
    "non_similar_unseen_df['category'] = 'Other'"
   ]
  },
  {
   "cell_type": "code",
   "execution_count": 59,
   "metadata": {},
   "outputs": [],
   "source": [
    "df_unseen_concatenated = pd.concat([unseen_EC_df, non_similar_unseen_df]).sample(frac=1).reset_index(drop=True)\n",
    "# df_concatenated = df_concatenated\n",
    "# df_concatenated.drop(columns=['input', 'search_text', 'page_name'], inplace=True)"
   ]
  },
  {
   "cell_type": "code",
   "execution_count": 60,
   "metadata": {
    "tags": []
   },
   "outputs": [],
   "source": [
    "pd.set_option('display.max_colwidth', None)"
   ]
  },
  {
   "cell_type": "code",
   "execution_count": 61,
   "metadata": {
    "tags": []
   },
   "outputs": [
    {
     "data": {
      "text/plain": [
       "(12584, 2)"
      ]
     },
     "execution_count": 61,
     "metadata": {},
     "output_type": "execute_result"
    }
   ],
   "source": [
    "df_unseen_concatenated.shape"
   ]
  },
  {
   "cell_type": "code",
   "execution_count": 62,
   "metadata": {},
   "outputs": [
    {
     "data": {
      "text/html": [
       "<div>\n",
       "<style scoped>\n",
       "    .dataframe tbody tr th:only-of-type {\n",
       "        vertical-align: middle;\n",
       "    }\n",
       "\n",
       "    .dataframe tbody tr th {\n",
       "        vertical-align: top;\n",
       "    }\n",
       "\n",
       "    .dataframe thead th {\n",
       "        text-align: right;\n",
       "    }\n",
       "</style>\n",
       "<table border=\"1\" class=\"dataframe\">\n",
       "  <thead>\n",
       "    <tr style=\"text-align: right;\">\n",
       "      <th></th>\n",
       "      <th>text</th>\n",
       "      <th>category</th>\n",
       "    </tr>\n",
       "  </thead>\n",
       "  <tbody>\n",
       "  </tbody>\n",
       "</table>\n",
       "</div>"
      ],
      "text/plain": [
       "Empty DataFrame\n",
       "Columns: [text, category]\n",
       "Index: []"
      ]
     },
     "execution_count": 62,
     "metadata": {},
     "output_type": "execute_result"
    }
   ],
   "source": [
    "df_unseen_concatenated[(df_unseen_concatenated.text.str.contains('elder')) & (df_unseen_concatenated.category=='Other')]"
   ]
  },
  {
   "cell_type": "code",
   "execution_count": 63,
   "metadata": {
    "tags": []
   },
   "outputs": [],
   "source": [
    "pd.reset_option('display.max_colwidth')"
   ]
  },
  {
   "cell_type": "code",
   "execution_count": 64,
   "metadata": {
    "tags": []
   },
   "outputs": [],
   "source": [
    "df_unseen_concatenated.to_excel('labelled_unseen_data.xlsx')"
   ]
  },
  {
   "cell_type": "code",
   "execution_count": null,
   "metadata": {},
   "outputs": [],
   "source": []
  }
 ],
 "metadata": {
  "availableInstances": [
   {
    "_defaultOrder": 0,
    "_isFastLaunch": true,
    "category": "General purpose",
    "gpuNum": 0,
    "hideHardwareSpecs": false,
    "memoryGiB": 4,
    "name": "ml.t3.medium",
    "vcpuNum": 2
   },
   {
    "_defaultOrder": 1,
    "_isFastLaunch": false,
    "category": "General purpose",
    "gpuNum": 0,
    "hideHardwareSpecs": false,
    "memoryGiB": 8,
    "name": "ml.t3.large",
    "vcpuNum": 2
   },
   {
    "_defaultOrder": 2,
    "_isFastLaunch": false,
    "category": "General purpose",
    "gpuNum": 0,
    "hideHardwareSpecs": false,
    "memoryGiB": 16,
    "name": "ml.t3.xlarge",
    "vcpuNum": 4
   },
   {
    "_defaultOrder": 3,
    "_isFastLaunch": false,
    "category": "General purpose",
    "gpuNum": 0,
    "hideHardwareSpecs": false,
    "memoryGiB": 32,
    "name": "ml.t3.2xlarge",
    "vcpuNum": 8
   },
   {
    "_defaultOrder": 4,
    "_isFastLaunch": true,
    "category": "General purpose",
    "gpuNum": 0,
    "hideHardwareSpecs": false,
    "memoryGiB": 8,
    "name": "ml.m5.large",
    "vcpuNum": 2
   },
   {
    "_defaultOrder": 5,
    "_isFastLaunch": false,
    "category": "General purpose",
    "gpuNum": 0,
    "hideHardwareSpecs": false,
    "memoryGiB": 16,
    "name": "ml.m5.xlarge",
    "vcpuNum": 4
   },
   {
    "_defaultOrder": 6,
    "_isFastLaunch": false,
    "category": "General purpose",
    "gpuNum": 0,
    "hideHardwareSpecs": false,
    "memoryGiB": 32,
    "name": "ml.m5.2xlarge",
    "vcpuNum": 8
   },
   {
    "_defaultOrder": 7,
    "_isFastLaunch": false,
    "category": "General purpose",
    "gpuNum": 0,
    "hideHardwareSpecs": false,
    "memoryGiB": 64,
    "name": "ml.m5.4xlarge",
    "vcpuNum": 16
   },
   {
    "_defaultOrder": 8,
    "_isFastLaunch": false,
    "category": "General purpose",
    "gpuNum": 0,
    "hideHardwareSpecs": false,
    "memoryGiB": 128,
    "name": "ml.m5.8xlarge",
    "vcpuNum": 32
   },
   {
    "_defaultOrder": 9,
    "_isFastLaunch": false,
    "category": "General purpose",
    "gpuNum": 0,
    "hideHardwareSpecs": false,
    "memoryGiB": 192,
    "name": "ml.m5.12xlarge",
    "vcpuNum": 48
   },
   {
    "_defaultOrder": 10,
    "_isFastLaunch": false,
    "category": "General purpose",
    "gpuNum": 0,
    "hideHardwareSpecs": false,
    "memoryGiB": 256,
    "name": "ml.m5.16xlarge",
    "vcpuNum": 64
   },
   {
    "_defaultOrder": 11,
    "_isFastLaunch": false,
    "category": "General purpose",
    "gpuNum": 0,
    "hideHardwareSpecs": false,
    "memoryGiB": 384,
    "name": "ml.m5.24xlarge",
    "vcpuNum": 96
   },
   {
    "_defaultOrder": 12,
    "_isFastLaunch": false,
    "category": "General purpose",
    "gpuNum": 0,
    "hideHardwareSpecs": false,
    "memoryGiB": 8,
    "name": "ml.m5d.large",
    "vcpuNum": 2
   },
   {
    "_defaultOrder": 13,
    "_isFastLaunch": false,
    "category": "General purpose",
    "gpuNum": 0,
    "hideHardwareSpecs": false,
    "memoryGiB": 16,
    "name": "ml.m5d.xlarge",
    "vcpuNum": 4
   },
   {
    "_defaultOrder": 14,
    "_isFastLaunch": false,
    "category": "General purpose",
    "gpuNum": 0,
    "hideHardwareSpecs": false,
    "memoryGiB": 32,
    "name": "ml.m5d.2xlarge",
    "vcpuNum": 8
   },
   {
    "_defaultOrder": 15,
    "_isFastLaunch": false,
    "category": "General purpose",
    "gpuNum": 0,
    "hideHardwareSpecs": false,
    "memoryGiB": 64,
    "name": "ml.m5d.4xlarge",
    "vcpuNum": 16
   },
   {
    "_defaultOrder": 16,
    "_isFastLaunch": false,
    "category": "General purpose",
    "gpuNum": 0,
    "hideHardwareSpecs": false,
    "memoryGiB": 128,
    "name": "ml.m5d.8xlarge",
    "vcpuNum": 32
   },
   {
    "_defaultOrder": 17,
    "_isFastLaunch": false,
    "category": "General purpose",
    "gpuNum": 0,
    "hideHardwareSpecs": false,
    "memoryGiB": 192,
    "name": "ml.m5d.12xlarge",
    "vcpuNum": 48
   },
   {
    "_defaultOrder": 18,
    "_isFastLaunch": false,
    "category": "General purpose",
    "gpuNum": 0,
    "hideHardwareSpecs": false,
    "memoryGiB": 256,
    "name": "ml.m5d.16xlarge",
    "vcpuNum": 64
   },
   {
    "_defaultOrder": 19,
    "_isFastLaunch": false,
    "category": "General purpose",
    "gpuNum": 0,
    "hideHardwareSpecs": false,
    "memoryGiB": 384,
    "name": "ml.m5d.24xlarge",
    "vcpuNum": 96
   },
   {
    "_defaultOrder": 20,
    "_isFastLaunch": false,
    "category": "General purpose",
    "gpuNum": 0,
    "hideHardwareSpecs": true,
    "memoryGiB": 0,
    "name": "ml.geospatial.interactive",
    "supportedImageNames": [
     "sagemaker-geospatial-v1-0"
    ],
    "vcpuNum": 0
   },
   {
    "_defaultOrder": 21,
    "_isFastLaunch": true,
    "category": "Compute optimized",
    "gpuNum": 0,
    "hideHardwareSpecs": false,
    "memoryGiB": 4,
    "name": "ml.c5.large",
    "vcpuNum": 2
   },
   {
    "_defaultOrder": 22,
    "_isFastLaunch": false,
    "category": "Compute optimized",
    "gpuNum": 0,
    "hideHardwareSpecs": false,
    "memoryGiB": 8,
    "name": "ml.c5.xlarge",
    "vcpuNum": 4
   },
   {
    "_defaultOrder": 23,
    "_isFastLaunch": false,
    "category": "Compute optimized",
    "gpuNum": 0,
    "hideHardwareSpecs": false,
    "memoryGiB": 16,
    "name": "ml.c5.2xlarge",
    "vcpuNum": 8
   },
   {
    "_defaultOrder": 24,
    "_isFastLaunch": false,
    "category": "Compute optimized",
    "gpuNum": 0,
    "hideHardwareSpecs": false,
    "memoryGiB": 32,
    "name": "ml.c5.4xlarge",
    "vcpuNum": 16
   },
   {
    "_defaultOrder": 25,
    "_isFastLaunch": false,
    "category": "Compute optimized",
    "gpuNum": 0,
    "hideHardwareSpecs": false,
    "memoryGiB": 72,
    "name": "ml.c5.9xlarge",
    "vcpuNum": 36
   },
   {
    "_defaultOrder": 26,
    "_isFastLaunch": false,
    "category": "Compute optimized",
    "gpuNum": 0,
    "hideHardwareSpecs": false,
    "memoryGiB": 96,
    "name": "ml.c5.12xlarge",
    "vcpuNum": 48
   },
   {
    "_defaultOrder": 27,
    "_isFastLaunch": false,
    "category": "Compute optimized",
    "gpuNum": 0,
    "hideHardwareSpecs": false,
    "memoryGiB": 144,
    "name": "ml.c5.18xlarge",
    "vcpuNum": 72
   },
   {
    "_defaultOrder": 28,
    "_isFastLaunch": false,
    "category": "Compute optimized",
    "gpuNum": 0,
    "hideHardwareSpecs": false,
    "memoryGiB": 192,
    "name": "ml.c5.24xlarge",
    "vcpuNum": 96
   },
   {
    "_defaultOrder": 29,
    "_isFastLaunch": true,
    "category": "Accelerated computing",
    "gpuNum": 1,
    "hideHardwareSpecs": false,
    "memoryGiB": 16,
    "name": "ml.g4dn.xlarge",
    "vcpuNum": 4
   },
   {
    "_defaultOrder": 30,
    "_isFastLaunch": false,
    "category": "Accelerated computing",
    "gpuNum": 1,
    "hideHardwareSpecs": false,
    "memoryGiB": 32,
    "name": "ml.g4dn.2xlarge",
    "vcpuNum": 8
   },
   {
    "_defaultOrder": 31,
    "_isFastLaunch": false,
    "category": "Accelerated computing",
    "gpuNum": 1,
    "hideHardwareSpecs": false,
    "memoryGiB": 64,
    "name": "ml.g4dn.4xlarge",
    "vcpuNum": 16
   },
   {
    "_defaultOrder": 32,
    "_isFastLaunch": false,
    "category": "Accelerated computing",
    "gpuNum": 1,
    "hideHardwareSpecs": false,
    "memoryGiB": 128,
    "name": "ml.g4dn.8xlarge",
    "vcpuNum": 32
   },
   {
    "_defaultOrder": 33,
    "_isFastLaunch": false,
    "category": "Accelerated computing",
    "gpuNum": 4,
    "hideHardwareSpecs": false,
    "memoryGiB": 192,
    "name": "ml.g4dn.12xlarge",
    "vcpuNum": 48
   },
   {
    "_defaultOrder": 34,
    "_isFastLaunch": false,
    "category": "Accelerated computing",
    "gpuNum": 1,
    "hideHardwareSpecs": false,
    "memoryGiB": 256,
    "name": "ml.g4dn.16xlarge",
    "vcpuNum": 64
   },
   {
    "_defaultOrder": 35,
    "_isFastLaunch": false,
    "category": "Accelerated computing",
    "gpuNum": 1,
    "hideHardwareSpecs": false,
    "memoryGiB": 61,
    "name": "ml.p3.2xlarge",
    "vcpuNum": 8
   },
   {
    "_defaultOrder": 36,
    "_isFastLaunch": false,
    "category": "Accelerated computing",
    "gpuNum": 4,
    "hideHardwareSpecs": false,
    "memoryGiB": 244,
    "name": "ml.p3.8xlarge",
    "vcpuNum": 32
   },
   {
    "_defaultOrder": 37,
    "_isFastLaunch": false,
    "category": "Accelerated computing",
    "gpuNum": 8,
    "hideHardwareSpecs": false,
    "memoryGiB": 488,
    "name": "ml.p3.16xlarge",
    "vcpuNum": 64
   },
   {
    "_defaultOrder": 38,
    "_isFastLaunch": false,
    "category": "Accelerated computing",
    "gpuNum": 8,
    "hideHardwareSpecs": false,
    "memoryGiB": 768,
    "name": "ml.p3dn.24xlarge",
    "vcpuNum": 96
   },
   {
    "_defaultOrder": 39,
    "_isFastLaunch": false,
    "category": "Memory Optimized",
    "gpuNum": 0,
    "hideHardwareSpecs": false,
    "memoryGiB": 16,
    "name": "ml.r5.large",
    "vcpuNum": 2
   },
   {
    "_defaultOrder": 40,
    "_isFastLaunch": false,
    "category": "Memory Optimized",
    "gpuNum": 0,
    "hideHardwareSpecs": false,
    "memoryGiB": 32,
    "name": "ml.r5.xlarge",
    "vcpuNum": 4
   },
   {
    "_defaultOrder": 41,
    "_isFastLaunch": false,
    "category": "Memory Optimized",
    "gpuNum": 0,
    "hideHardwareSpecs": false,
    "memoryGiB": 64,
    "name": "ml.r5.2xlarge",
    "vcpuNum": 8
   },
   {
    "_defaultOrder": 42,
    "_isFastLaunch": false,
    "category": "Memory Optimized",
    "gpuNum": 0,
    "hideHardwareSpecs": false,
    "memoryGiB": 128,
    "name": "ml.r5.4xlarge",
    "vcpuNum": 16
   },
   {
    "_defaultOrder": 43,
    "_isFastLaunch": false,
    "category": "Memory Optimized",
    "gpuNum": 0,
    "hideHardwareSpecs": false,
    "memoryGiB": 256,
    "name": "ml.r5.8xlarge",
    "vcpuNum": 32
   },
   {
    "_defaultOrder": 44,
    "_isFastLaunch": false,
    "category": "Memory Optimized",
    "gpuNum": 0,
    "hideHardwareSpecs": false,
    "memoryGiB": 384,
    "name": "ml.r5.12xlarge",
    "vcpuNum": 48
   },
   {
    "_defaultOrder": 45,
    "_isFastLaunch": false,
    "category": "Memory Optimized",
    "gpuNum": 0,
    "hideHardwareSpecs": false,
    "memoryGiB": 512,
    "name": "ml.r5.16xlarge",
    "vcpuNum": 64
   },
   {
    "_defaultOrder": 46,
    "_isFastLaunch": false,
    "category": "Memory Optimized",
    "gpuNum": 0,
    "hideHardwareSpecs": false,
    "memoryGiB": 768,
    "name": "ml.r5.24xlarge",
    "vcpuNum": 96
   },
   {
    "_defaultOrder": 47,
    "_isFastLaunch": false,
    "category": "Accelerated computing",
    "gpuNum": 1,
    "hideHardwareSpecs": false,
    "memoryGiB": 16,
    "name": "ml.g5.xlarge",
    "vcpuNum": 4
   },
   {
    "_defaultOrder": 48,
    "_isFastLaunch": false,
    "category": "Accelerated computing",
    "gpuNum": 1,
    "hideHardwareSpecs": false,
    "memoryGiB": 32,
    "name": "ml.g5.2xlarge",
    "vcpuNum": 8
   },
   {
    "_defaultOrder": 49,
    "_isFastLaunch": false,
    "category": "Accelerated computing",
    "gpuNum": 1,
    "hideHardwareSpecs": false,
    "memoryGiB": 64,
    "name": "ml.g5.4xlarge",
    "vcpuNum": 16
   },
   {
    "_defaultOrder": 50,
    "_isFastLaunch": false,
    "category": "Accelerated computing",
    "gpuNum": 1,
    "hideHardwareSpecs": false,
    "memoryGiB": 128,
    "name": "ml.g5.8xlarge",
    "vcpuNum": 32
   },
   {
    "_defaultOrder": 51,
    "_isFastLaunch": false,
    "category": "Accelerated computing",
    "gpuNum": 1,
    "hideHardwareSpecs": false,
    "memoryGiB": 256,
    "name": "ml.g5.16xlarge",
    "vcpuNum": 64
   },
   {
    "_defaultOrder": 52,
    "_isFastLaunch": false,
    "category": "Accelerated computing",
    "gpuNum": 4,
    "hideHardwareSpecs": false,
    "memoryGiB": 192,
    "name": "ml.g5.12xlarge",
    "vcpuNum": 48
   },
   {
    "_defaultOrder": 53,
    "_isFastLaunch": false,
    "category": "Accelerated computing",
    "gpuNum": 4,
    "hideHardwareSpecs": false,
    "memoryGiB": 384,
    "name": "ml.g5.24xlarge",
    "vcpuNum": 96
   },
   {
    "_defaultOrder": 54,
    "_isFastLaunch": false,
    "category": "Accelerated computing",
    "gpuNum": 8,
    "hideHardwareSpecs": false,
    "memoryGiB": 768,
    "name": "ml.g5.48xlarge",
    "vcpuNum": 192
   },
   {
    "_defaultOrder": 55,
    "_isFastLaunch": false,
    "category": "Accelerated computing",
    "gpuNum": 8,
    "hideHardwareSpecs": false,
    "memoryGiB": 1152,
    "name": "ml.p4d.24xlarge",
    "vcpuNum": 96
   },
   {
    "_defaultOrder": 56,
    "_isFastLaunch": false,
    "category": "Accelerated computing",
    "gpuNum": 8,
    "hideHardwareSpecs": false,
    "memoryGiB": 1152,
    "name": "ml.p4de.24xlarge",
    "vcpuNum": 96
   }
  ],
  "kernelspec": {
   "display_name": "Python 3 (Data Science)",
   "language": "python",
   "name": "python3__SAGEMAKER_INTERNAL__arn:aws:sagemaker:us-east-1:081325390199:image/datascience-1.0"
  },
  "language_info": {
   "codemirror_mode": {
    "name": "ipython",
    "version": 3
   },
   "file_extension": ".py",
   "mimetype": "text/x-python",
   "name": "python",
   "nbconvert_exporter": "python",
   "pygments_lexer": "ipython3",
   "version": "3.7.10"
  }
 },
 "nbformat": 4,
 "nbformat_minor": 4
}
