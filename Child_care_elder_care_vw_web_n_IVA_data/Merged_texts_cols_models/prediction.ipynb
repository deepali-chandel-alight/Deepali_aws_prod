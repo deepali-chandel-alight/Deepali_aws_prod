{
 "cells": [
  {
   "cell_type": "markdown",
   "metadata": {},
   "source": [
    "## Prediction pipeline "
   ]
  },
  {
   "cell_type": "code",
   "execution_count": 2,
   "metadata": {},
   "outputs": [],
   "source": [
    "# !pip install pandas\n",
    "# !pip install numpy\n",
    "# !pip install torch\n",
    "# !pip install scikit-learn\n",
    "# !pip install transformers\n",
    "# !pip install spacy\n",
    "# ! pip install en_core_web_sm-3.1.0-py3-none-any.whl\n",
    "# !pip install sentence_transformers"
   ]
  },
  {
   "cell_type": "code",
   "execution_count": 3,
   "metadata": {},
   "outputs": [],
   "source": [
    "import pandas as pd\n",
    "import numpy as np\n",
    "import torch\n",
    "import re\n",
    "import pickle\n",
    "from torch.utils.data import DataLoader, TensorDataset, random_split\n",
    "from transformers import BertForSequenceClassification, BertTokenizer\n",
    "import spacy\n",
    "import en_core_web_sm\n",
    "import string\n",
    "nlp = spacy.load(\"en_core_web_sm\")\n",
    "from sklearn.metrics.pairwise import cosine_distances\n"
   ]
  },
  {
   "cell_type": "markdown",
   "metadata": {},
   "source": [
    "### text preprocess"
   ]
  },
  {
   "cell_type": "code",
   "execution_count": 4,
   "metadata": {
    "tags": []
   },
   "outputs": [],
   "source": [
    "def count_intnt_entits(text):\n",
    "    if str(text).isnumeric():\n",
    "        return 0,0    \n",
    "    try:\n",
    "        doc = nlp(str(text))\n",
    "        intents = [token.text for token in doc if token.pos_ == 'VERB']\n",
    "        entities = [token.text for token in doc if token.pos_ in {'NOUN', 'PROPN', 'ADJ', 'NUM', 'ADV'}]\n",
    "    except:\n",
    "        print(text)\n",
    "        raise\n",
    "    return len(intents), len(entities)\n",
    "\n",
    "def extract_ner_entities(sentence):\n",
    "    doc = nlp(str(sentence))\n",
    "    entities = [(entity.text, entity.label_) for entity in doc.ents]\n",
    "    return entities\n",
    "\n",
    "def length_entities(list_entities):\n",
    "    if (list_entities==np.nan or list_entities==None or list_entities==''):\n",
    "        return 0\n",
    "    else:\n",
    "        return len(list_entities)\n",
    "    \n",
    "def filter_named_entities(text):\n",
    "    # Process the text using Spacy\n",
    "    doc = nlp(str(text))\n",
    "    # Filter out named entities (ORG, PERSON, and GPE tags)\n",
    "    filtered_words = [token.text for token in doc if token.ent_type_ not in ['ORG', 'PERSON', 'GPE', \"LOC\", \"FAC\"]]\n",
    "    # Join the filtered words back into a string\n",
    "    filtered_text = ' '.join(filtered_words)\n",
    "    return filtered_text\n",
    "\n",
    "def text_preprocess(col):\n",
    "    df = pd.DataFrame({ 'text': col })\n",
    "    df = df.drop_duplicates()\n",
    "    df['text'] = df['text'].str.replace('\\d+', '')\n",
    "    df[['no_of_intents', 'no_of_entities']] = df.apply(lambda x: pd.Series(count_intnt_entits(x['text'])), axis=1)  \n",
    "\n",
    "    df['ner_enities'] = ''\n",
    "    df.loc[df['text']!='', 'ner_enities'] = df.loc[df['text']!='', 'text'].apply(extract_ner_entities)\n",
    "    df['len_ner_enities'] = df['ner_enities'].apply(length_entities)\n",
    "    df3 = df[df['len_ner_enities']>0]\n",
    "    df3['text'] = df3['text'].apply(filter_named_entities)\n",
    "    df6 = pd.concat([df[df['len_ner_enities']==0], df3], axis = 0)\n",
    "    df6 = df6.drop(['no_of_intents','no_of_entities','ner_enities','len_ner_enities'], axis=1)\n",
    "\n",
    "    df6['text'] = df6['text'].str.strip()\n",
    "    \n",
    "    return df6['text'].to_list()\n",
    "\n",
    "def clean_text(text_list):\n",
    "    # Clean the text\n",
    "    text_list = text_preprocess(text_list)\n",
    "    #text_list = [text for text in text_list if text.strip() and not set(text).issubset(set(string.punctuation + string.whitespace))]\n",
    "    text_list1 = []\n",
    "    for text in text_list:\n",
    "        if isinstance(text, str):\n",
    "            if text.strip() and not set(text).issubset(set(string.punctuation + string.whitespace)):\n",
    "                text_list1.append(text)\n",
    "            \n",
    "    text_list = text_list1\n",
    "    \n",
    "    text_list = [x.lower() for x in text_list]\n",
    "    # Define a translation table to replace punctuation and special characters with empty string\n",
    "    translator = str.maketrans(string.punctuation + \"_\", \" \" * len(string.punctuation + \"_\"))\n",
    "    # Loop through each text in the list and clean it\n",
    "    cleaned_list = []\n",
    "    for text in text_list:\n",
    "        # Replace punctuation and special characters with empty string\n",
    "        cleaned_text = text.translate(translator)\n",
    "        # Remove any remaining special characters, punctuation, or whitespaces\n",
    "        cleaned_text = ' '.join(cleaned_text.split())\n",
    "        cleaned_list.append(cleaned_text)\n",
    "    \n",
    "    return cleaned_list"
   ]
  },
  {
   "cell_type": "markdown",
   "metadata": {},
   "source": []
  },
  {
   "cell_type": "markdown",
   "metadata": {},
   "source": [
    "## labelling unseen data for matrix after prediction"
   ]
  },
  {
   "cell_type": "code",
   "execution_count": 5,
   "metadata": {
    "tags": []
   },
   "outputs": [],
   "source": [
    "import sentence_transformers"
   ]
  },
  {
   "cell_type": "code",
   "execution_count": 6,
   "metadata": {
    "tags": []
   },
   "outputs": [],
   "source": [
    "from sentence_transformers import SentenceTransformer"
   ]
  },
  {
   "cell_type": "code",
   "execution_count": 7,
   "metadata": {},
   "outputs": [],
   "source": [
    "model = SentenceTransformer('bert-base-nli-mean-tokens')"
   ]
  },
  {
   "cell_type": "code",
   "execution_count": 8,
   "metadata": {
    "tags": []
   },
   "outputs": [],
   "source": [
    "df_unseen = pd.read_parquet('web_new.parquet')"
   ]
  },
  {
   "cell_type": "code",
   "execution_count": 9,
   "metadata": {
    "tags": []
   },
   "outputs": [
    {
     "data": {
      "text/html": [
       "<div>\n",
       "<style scoped>\n",
       "    .dataframe tbody tr th:only-of-type {\n",
       "        vertical-align: middle;\n",
       "    }\n",
       "\n",
       "    .dataframe tbody tr th {\n",
       "        vertical-align: top;\n",
       "    }\n",
       "\n",
       "    .dataframe thead th {\n",
       "        text-align: right;\n",
       "    }\n",
       "</style>\n",
       "<table border=\"1\" class=\"dataframe\">\n",
       "  <thead>\n",
       "    <tr style=\"text-align: right;\">\n",
       "      <th></th>\n",
       "      <th>web_page_detail_event_key</th>\n",
       "      <th>web_page_detail_event_key_columns</th>\n",
       "      <th>client_key</th>\n",
       "      <th>implementation_key</th>\n",
       "      <th>participant_key</th>\n",
       "      <th>platform_id</th>\n",
       "      <th>client_id</th>\n",
       "      <th>implementation_hierarchy_key</th>\n",
       "      <th>person_id</th>\n",
       "      <th>person_internal_id</th>\n",
       "      <th>...</th>\n",
       "      <th>page_process_detail</th>\n",
       "      <th>iva_used_indicator</th>\n",
       "      <th>event_position</th>\n",
       "      <th>action_type</th>\n",
       "      <th>load_timestamp</th>\n",
       "      <th>source_system_code</th>\n",
       "      <th>mobile_app_device_type</th>\n",
       "      <th>page_load_elapsed_time</th>\n",
       "      <th>mobile_app_type</th>\n",
       "      <th>session_create_date_cst_timezone_partition</th>\n",
       "    </tr>\n",
       "  </thead>\n",
       "  <tbody>\n",
       "    <tr>\n",
       "      <th>891191</th>\n",
       "      <td>905A1CB23A6B143336DDD260CB49F2E6_3349#2023-04-...</td>\n",
       "      <td>web_session_id#session_create_timestamp_cst_ti...</td>\n",
       "      <td>13349</td>\n",
       "      <td>334933493jxgemzn5qhzvwzg1avc42clfkdt05vcylcnk1...</td>\n",
       "      <td>participant_key</td>\n",
       "      <td>3349</td>\n",
       "      <td>3349</td>\n",
       "      <td>33493349</td>\n",
       "      <td>person_id</td>\n",
       "      <td>384470017</td>\n",
       "      <td>...</td>\n",
       "      <td>Home</td>\n",
       "      <td>0</td>\n",
       "      <td>None</td>\n",
       "      <td>Button Click</td>\n",
       "      <td>2023-04-26 05:57:46</td>\n",
       "      <td>2n</td>\n",
       "      <td>None</td>\n",
       "      <td>NaN</td>\n",
       "      <td>Unused</td>\n",
       "      <td>2023-04-25</td>\n",
       "    </tr>\n",
       "    <tr>\n",
       "      <th>735128</th>\n",
       "      <td>A6B3302CB400D34A0CE098C1BC34F24A_1215#2023-04-...</td>\n",
       "      <td>web_session_id#session_create_timestamp_cst_ti...</td>\n",
       "      <td>11215</td>\n",
       "      <td>121512153jxgemzn5qhzvwzg1avc42clfkdt05vcylcnk1...</td>\n",
       "      <td>participant_key</td>\n",
       "      <td>1215</td>\n",
       "      <td>1215</td>\n",
       "      <td>12151215</td>\n",
       "      <td>person_id</td>\n",
       "      <td>351441044</td>\n",
       "      <td>...</td>\n",
       "      <td>GMC</td>\n",
       "      <td>0</td>\n",
       "      <td>None</td>\n",
       "      <td>PAGEVIEW</td>\n",
       "      <td>2023-04-26 05:57:46</td>\n",
       "      <td>2n</td>\n",
       "      <td>None</td>\n",
       "      <td>143.0</td>\n",
       "      <td>Unused</td>\n",
       "      <td>2023-04-25</td>\n",
       "    </tr>\n",
       "    <tr>\n",
       "      <th>775969</th>\n",
       "      <td>3B6B469B5451D94D833D5294AEFBF7E0_1122#2023-04-...</td>\n",
       "      <td>web_session_id#session_create_timestamp_cst_ti...</td>\n",
       "      <td>11122</td>\n",
       "      <td>112211223jxgemzn5qhzvwzg1avc42clfkdt05vcylcnk1...</td>\n",
       "      <td>participant_key</td>\n",
       "      <td>1122</td>\n",
       "      <td>1122</td>\n",
       "      <td>11221122</td>\n",
       "      <td>person_id</td>\n",
       "      <td>152200078</td>\n",
       "      <td>...</td>\n",
       "      <td>Home</td>\n",
       "      <td>0</td>\n",
       "      <td>None</td>\n",
       "      <td>PAGEVIEW</td>\n",
       "      <td>2023-04-26 05:57:46</td>\n",
       "      <td>2n</td>\n",
       "      <td>None</td>\n",
       "      <td>663.0</td>\n",
       "      <td>Unused</td>\n",
       "      <td>2023-04-25</td>\n",
       "    </tr>\n",
       "    <tr>\n",
       "      <th>818964</th>\n",
       "      <td>00722DFC4D4500D18D5B379173AA7541.42327_LR_PU_C...</td>\n",
       "      <td>web_session_id#session_create_timestamp_cst_ti...</td>\n",
       "      <td>12346</td>\n",
       "      <td>234623463jxgemzn5qhzvwzg1avc42clfkdt05vcylcnk1...</td>\n",
       "      <td>participant_key</td>\n",
       "      <td>2346</td>\n",
       "      <td>2346</td>\n",
       "      <td>23462346</td>\n",
       "      <td>person_id</td>\n",
       "      <td>344960009</td>\n",
       "      <td>...</td>\n",
       "      <td>Single Sign On Pass</td>\n",
       "      <td>0</td>\n",
       "      <td>None</td>\n",
       "      <td>Internal Link Click</td>\n",
       "      <td>2023-04-26 05:57:46</td>\n",
       "      <td>2o</td>\n",
       "      <td>None</td>\n",
       "      <td>1.0</td>\n",
       "      <td>Unused</td>\n",
       "      <td>2023-04-25</td>\n",
       "    </tr>\n",
       "    <tr>\n",
       "      <th>766529</th>\n",
       "      <td>3F7E6BF225A2C44E74C0D5825F244C7B_16707#2023-04...</td>\n",
       "      <td>web_session_id#session_create_timestamp_cst_ti...</td>\n",
       "      <td>116707</td>\n",
       "      <td>16707167073jxgemzn5qhzvwzg1avc42clfkdt05vcylcn...</td>\n",
       "      <td>participant_key</td>\n",
       "      <td>16707</td>\n",
       "      <td>16707</td>\n",
       "      <td>1670716707</td>\n",
       "      <td>person_id</td>\n",
       "      <td>51100057</td>\n",
       "      <td>...</td>\n",
       "      <td>Mobile App Dashboard</td>\n",
       "      <td>0</td>\n",
       "      <td>None</td>\n",
       "      <td>On Screen Actions</td>\n",
       "      <td>2023-04-26 05:57:46</td>\n",
       "      <td>2a</td>\n",
       "      <td>iOS16.1.1iPhone13,2</td>\n",
       "      <td>NaN</td>\n",
       "      <td>Unused</td>\n",
       "      <td>2023-04-25</td>\n",
       "    </tr>\n",
       "  </tbody>\n",
       "</table>\n",
       "<p>5 rows × 101 columns</p>\n",
       "</div>"
      ],
      "text/plain": [
       "                                web_page_detail_event_key  \\\n",
       "891191  905A1CB23A6B143336DDD260CB49F2E6_3349#2023-04-...   \n",
       "735128  A6B3302CB400D34A0CE098C1BC34F24A_1215#2023-04-...   \n",
       "775969  3B6B469B5451D94D833D5294AEFBF7E0_1122#2023-04-...   \n",
       "818964  00722DFC4D4500D18D5B379173AA7541.42327_LR_PU_C...   \n",
       "766529  3F7E6BF225A2C44E74C0D5825F244C7B_16707#2023-04...   \n",
       "\n",
       "                        web_page_detail_event_key_columns  client_key  \\\n",
       "891191  web_session_id#session_create_timestamp_cst_ti...       13349   \n",
       "735128  web_session_id#session_create_timestamp_cst_ti...       11215   \n",
       "775969  web_session_id#session_create_timestamp_cst_ti...       11122   \n",
       "818964  web_session_id#session_create_timestamp_cst_ti...       12346   \n",
       "766529  web_session_id#session_create_timestamp_cst_ti...      116707   \n",
       "\n",
       "                                       implementation_key  participant_key  \\\n",
       "891191  334933493jxgemzn5qhzvwzg1avc42clfkdt05vcylcnk1...  participant_key   \n",
       "735128  121512153jxgemzn5qhzvwzg1avc42clfkdt05vcylcnk1...  participant_key   \n",
       "775969  112211223jxgemzn5qhzvwzg1avc42clfkdt05vcylcnk1...  participant_key   \n",
       "818964  234623463jxgemzn5qhzvwzg1avc42clfkdt05vcylcnk1...  participant_key   \n",
       "766529  16707167073jxgemzn5qhzvwzg1avc42clfkdt05vcylcn...  participant_key   \n",
       "\n",
       "        platform_id  client_id  implementation_hierarchy_key  person_id  \\\n",
       "891191         3349       3349                      33493349  person_id   \n",
       "735128         1215       1215                      12151215  person_id   \n",
       "775969         1122       1122                      11221122  person_id   \n",
       "818964         2346       2346                      23462346  person_id   \n",
       "766529        16707      16707                    1670716707  person_id   \n",
       "\n",
       "        person_internal_id  ...   page_process_detail  iva_used_indicator  \\\n",
       "891191           384470017  ...                  Home                   0   \n",
       "735128           351441044  ...                   GMC                   0   \n",
       "775969           152200078  ...                  Home                   0   \n",
       "818964           344960009  ...   Single Sign On Pass                   0   \n",
       "766529            51100057  ...  Mobile App Dashboard                   0   \n",
       "\n",
       "       event_position          action_type       load_timestamp  \\\n",
       "891191           None         Button Click  2023-04-26 05:57:46   \n",
       "735128           None             PAGEVIEW  2023-04-26 05:57:46   \n",
       "775969           None             PAGEVIEW  2023-04-26 05:57:46   \n",
       "818964           None  Internal Link Click  2023-04-26 05:57:46   \n",
       "766529           None    On Screen Actions  2023-04-26 05:57:46   \n",
       "\n",
       "       source_system_code mobile_app_device_type page_load_elapsed_time  \\\n",
       "891191                 2n                   None                    NaN   \n",
       "735128                 2n                   None                  143.0   \n",
       "775969                 2n                   None                  663.0   \n",
       "818964                 2o                   None                    1.0   \n",
       "766529                 2a    iOS16.1.1iPhone13,2                    NaN   \n",
       "\n",
       "       mobile_app_type session_create_date_cst_timezone_partition  \n",
       "891191          Unused                                 2023-04-25  \n",
       "735128          Unused                                 2023-04-25  \n",
       "775969          Unused                                 2023-04-25  \n",
       "818964          Unused                                 2023-04-25  \n",
       "766529          Unused                                 2023-04-25  \n",
       "\n",
       "[5 rows x 101 columns]"
      ]
     },
     "execution_count": 9,
     "metadata": {},
     "output_type": "execute_result"
    }
   ],
   "source": [
    "df_unseen.head(5)"
   ]
  },
  {
   "cell_type": "code",
   "execution_count": 10,
   "metadata": {
    "tags": []
   },
   "outputs": [],
   "source": [
    "df_unseen = df_unseen[['business_page_name']]"
   ]
  },
  {
   "cell_type": "code",
   "execution_count": 11,
   "metadata": {
    "tags": []
   },
   "outputs": [
    {
     "data": {
      "text/html": [
       "<div>\n",
       "<style scoped>\n",
       "    .dataframe tbody tr th:only-of-type {\n",
       "        vertical-align: middle;\n",
       "    }\n",
       "\n",
       "    .dataframe tbody tr th {\n",
       "        vertical-align: top;\n",
       "    }\n",
       "\n",
       "    .dataframe thead th {\n",
       "        text-align: right;\n",
       "    }\n",
       "</style>\n",
       "<table border=\"1\" class=\"dataframe\">\n",
       "  <thead>\n",
       "    <tr style=\"text-align: right;\">\n",
       "      <th></th>\n",
       "      <th>business_page_name</th>\n",
       "    </tr>\n",
       "  </thead>\n",
       "  <tbody>\n",
       "    <tr>\n",
       "      <th>891191</th>\n",
       "      <td>homepage</td>\n",
       "    </tr>\n",
       "    <tr>\n",
       "      <th>735128</th>\n",
       "      <td>gmc</td>\n",
       "    </tr>\n",
       "    <tr>\n",
       "      <th>775969</th>\n",
       "      <td>homepage</td>\n",
       "    </tr>\n",
       "    <tr>\n",
       "      <th>818964</th>\n",
       "      <td>SSO</td>\n",
       "    </tr>\n",
       "    <tr>\n",
       "      <th>766529</th>\n",
       "      <td>Common: Home Screen</td>\n",
       "    </tr>\n",
       "  </tbody>\n",
       "</table>\n",
       "</div>"
      ],
      "text/plain": [
       "         business_page_name\n",
       "891191             homepage\n",
       "735128                  gmc\n",
       "775969             homepage\n",
       "818964                  SSO\n",
       "766529  Common: Home Screen"
      ]
     },
     "execution_count": 11,
     "metadata": {},
     "output_type": "execute_result"
    }
   ],
   "source": [
    "df_unseen.head()"
   ]
  },
  {
   "cell_type": "code",
   "execution_count": 14,
   "metadata": {
    "tags": []
   },
   "outputs": [
    {
     "data": {
      "text/plain": [
       "(17345, 1)"
      ]
     },
     "execution_count": 14,
     "metadata": {},
     "output_type": "execute_result"
    }
   ],
   "source": [
    "df_unseen.shape"
   ]
  },
  {
   "cell_type": "code",
   "execution_count": 12,
   "metadata": {
    "tags": []
   },
   "outputs": [],
   "source": [
    "# df_search_unseen_cleaned = df_search_unseen.copy()"
   ]
  },
  {
   "cell_type": "code",
   "execution_count": 16,
   "metadata": {
    "tags": []
   },
   "outputs": [
    {
     "name": "stderr",
     "output_type": "stream",
     "text": [
      "/opt/conda/lib/python3.7/site-packages/ipykernel_launcher.py:36: FutureWarning: The default value of regex will change from True to False in a future version.\n"
     ]
    },
    {
     "name": "stdout",
     "output_type": "stream",
     "text": [
      "10.409914255142212\n"
     ]
    },
    {
     "name": "stderr",
     "output_type": "stream",
     "text": [
      "/opt/conda/lib/python3.7/site-packages/ipykernel_launcher.py:43: SettingWithCopyWarning: \n",
      "A value is trying to be set on a copy of a slice from a DataFrame.\n",
      "Try using .loc[row_indexer,col_indexer] = value instead\n",
      "\n",
      "See the caveats in the documentation: https://pandas.pydata.org/pandas-docs/stable/user_guide/indexing.html#returning-a-view-versus-a-copy\n"
     ]
    }
   ],
   "source": [
    "# df_search_unseen_cleaned = df_search_unseen.copy()\n",
    "# df_search_unseen_cleaned['cleaned_search_text'] = clean_text(df_search_unseen_cleaned['search_text'].tolist())\n",
    "import time\n",
    "\n",
    "# Start the timer\n",
    "start_time = time.time()\n",
    "\n",
    "cleaned_text_list = clean_text(df_unseen['business_page_name'].to_list())\n",
    "\n",
    "elapsed_time = time.time() - start_time\n",
    "print(elapsed_time)"
   ]
  },
  {
   "cell_type": "code",
   "execution_count": 19,
   "metadata": {
    "tags": []
   },
   "outputs": [],
   "source": [
    "df_unseen_cleaned = pd.DataFrame()\n",
    "df_unseen_cleaned['business_page_name'] = cleaned_text_list"
   ]
  },
  {
   "cell_type": "code",
   "execution_count": 20,
   "metadata": {
    "tags": []
   },
   "outputs": [
    {
     "data": {
      "text/html": [
       "<div>\n",
       "<style scoped>\n",
       "    .dataframe tbody tr th:only-of-type {\n",
       "        vertical-align: middle;\n",
       "    }\n",
       "\n",
       "    .dataframe tbody tr th {\n",
       "        vertical-align: top;\n",
       "    }\n",
       "\n",
       "    .dataframe thead th {\n",
       "        text-align: right;\n",
       "    }\n",
       "</style>\n",
       "<table border=\"1\" class=\"dataframe\">\n",
       "  <thead>\n",
       "    <tr style=\"text-align: right;\">\n",
       "      <th></th>\n",
       "      <th>business_page_name</th>\n",
       "    </tr>\n",
       "  </thead>\n",
       "  <tbody>\n",
       "    <tr>\n",
       "      <th>0</th>\n",
       "      <td>homepage</td>\n",
       "    </tr>\n",
       "    <tr>\n",
       "      <th>1</th>\n",
       "      <td>sso</td>\n",
       "    </tr>\n",
       "    <tr>\n",
       "      <th>2</th>\n",
       "      <td>common home screen</td>\n",
       "    </tr>\n",
       "    <tr>\n",
       "      <th>3</th>\n",
       "      <td>hmportalenrollerrorpage</td>\n",
       "    </tr>\n",
       "    <tr>\n",
       "      <th>4</th>\n",
       "      <td>common shortcut cards screen</td>\n",
       "    </tr>\n",
       "  </tbody>\n",
       "</table>\n",
       "</div>"
      ],
      "text/plain": [
       "             business_page_name\n",
       "0                      homepage\n",
       "1                           sso\n",
       "2            common home screen\n",
       "3       hmportalenrollerrorpage\n",
       "4  common shortcut cards screen"
      ]
     },
     "execution_count": 20,
     "metadata": {},
     "output_type": "execute_result"
    }
   ],
   "source": [
    "df_unseen_cleaned.head()"
   ]
  },
  {
   "cell_type": "code",
   "execution_count": 21,
   "metadata": {
    "tags": []
   },
   "outputs": [
    {
     "data": {
      "text/plain": [
       "37"
      ]
     },
     "execution_count": 21,
     "metadata": {},
     "output_type": "execute_result"
    }
   ],
   "source": [
    "words_3 = ['grand parents','elder','elder women',\n",
    " 'silver generation','elder',\n",
    " 'retiree','Pensioner','Mature adults','Octogenarians','Nonagenarians','Centenarians',\n",
    "'elderly people',\n",
    " 'senior assistance',\n",
    " 'grey generation',\n",
    " 'silver generation',\n",
    " 'senior health',\n",
    " 'elderly companion',\n",
    " 'senior citizen',\n",
    " 'elder support',\n",
    " 'elderly',\n",
    " 'senior members',\n",
    " 'elder population',\n",
    " 'elderly residents',\n",
    " 'senior assistance',\n",
    " 'grey generation',\n",
    " 'elder statesmen',\n",
    " 'elderly',\n",
    " 'elderly people',\n",
    " 'elderly residents',\n",
    " 'elder',\n",
    " 'elder women',\n",
    " 'senior','senior citizen',\n",
    " 'elder generation',\n",
    " 'gerontology',\n",
    " 'elderly population',\n",
    " 'senior members',\n",
    " 'retirees',\n",
    " 'elderly population',\n",
    " 'eldercare',\n",
    " 'geriatric',\n",
    " 'elder statesmen',\n",
    " 'retirees',\n",
    " 'elder population',\n",
    "'eldercae', 'eldercarr', 'eldermann',\n",
    "'eldercre','eldery','elderman','elders','eldercrae']\n",
    "words_4 = list(set([word.lower() for word in words_3]))\n",
    "len(words_4)"
   ]
  },
  {
   "cell_type": "code",
   "execution_count": 22,
   "metadata": {
    "tags": []
   },
   "outputs": [],
   "source": [
    "# words_3 = ['day care', 'creche', 'childcare','daycare','nurseryschool','after school care',\n",
    "#            'pre school', 'child', 'baby', 'minor care','minorcare','offspring',\n",
    "#            'daynursery', 'infantschool','pre K', 'childcarer', 'childcarers','girl child',\n",
    "#  'infantcare', 'play school', 'playgroup','boy child','Adolescent','Little one','Young one',\n",
    "#  'nursery', 'nursery school', 'preschool', 'after schoolcare', 'day nursery', 'infant school', \n",
    "#  'infant care', 'playschool', 'play group', 'kindergarten', 'childminding', 'babysitting',\n",
    "#            'babysitter', \n",
    "#  'nanny care', 'children supervision', 'toddler care', 'prekindergarten',\n",
    "#            'Junior care','Sprout care',\n",
    "# 'child minding', 'baby sitting', 'baby sitter', 'children',\n",
    "#  'nannycare', 'childrensupervision','child supervision', 'childsupervision', \n",
    "#            'toddlercare','foster', 'childs','childrens',\n",
    "#            'stepchild','step daughter', 'step son', 'grandchildren','grandchild',\n",
    "#           'stepchildren','childbirth',\"children's\", 'childhood',\n",
    "#           'childsupport','childcarereimbursement','mychildren',\n",
    "#            'mychild','childcareplus','childcarea','stepchildren',\n",
    "#            'childbirthing','dependentchild',\n",
    "#           'childcard',\n",
    "#           'childplus','childbonding']\n",
    "# words_4 = list(set([word.lower() for word in words_3]))\n",
    "\n",
    "# len(words_4)\n"
   ]
  },
  {
   "cell_type": "code",
   "execution_count": 27,
   "metadata": {
    "tags": []
   },
   "outputs": [],
   "source": [
    "df_unseen_cleaned = df_unseen_cleaned.rename(\n",
    "    columns = {'business_page_name':'text'})"
   ]
  },
  {
   "cell_type": "code",
   "execution_count": 28,
   "metadata": {
    "tags": []
   },
   "outputs": [
    {
     "data": {
      "text/html": [
       "<div>\n",
       "<style scoped>\n",
       "    .dataframe tbody tr th:only-of-type {\n",
       "        vertical-align: middle;\n",
       "    }\n",
       "\n",
       "    .dataframe tbody tr th {\n",
       "        vertical-align: top;\n",
       "    }\n",
       "\n",
       "    .dataframe thead th {\n",
       "        text-align: right;\n",
       "    }\n",
       "</style>\n",
       "<table border=\"1\" class=\"dataframe\">\n",
       "  <thead>\n",
       "    <tr style=\"text-align: right;\">\n",
       "      <th></th>\n",
       "      <th>text</th>\n",
       "    </tr>\n",
       "  </thead>\n",
       "  <tbody>\n",
       "    <tr>\n",
       "      <th>0</th>\n",
       "      <td>homepage</td>\n",
       "    </tr>\n",
       "    <tr>\n",
       "      <th>1</th>\n",
       "      <td>sso</td>\n",
       "    </tr>\n",
       "    <tr>\n",
       "      <th>2</th>\n",
       "      <td>common home screen</td>\n",
       "    </tr>\n",
       "    <tr>\n",
       "      <th>3</th>\n",
       "      <td>hmportalenrollerrorpage</td>\n",
       "    </tr>\n",
       "    <tr>\n",
       "      <th>4</th>\n",
       "      <td>common shortcut cards screen</td>\n",
       "    </tr>\n",
       "  </tbody>\n",
       "</table>\n",
       "</div>"
      ],
      "text/plain": [
       "                           text\n",
       "0                      homepage\n",
       "1                           sso\n",
       "2            common home screen\n",
       "3       hmportalenrollerrorpage\n",
       "4  common shortcut cards screen"
      ]
     },
     "execution_count": 28,
     "metadata": {},
     "output_type": "execute_result"
    }
   ],
   "source": [
    "df_unseen_cleaned.head()"
   ]
  },
  {
   "cell_type": "code",
   "execution_count": 29,
   "metadata": {
    "tags": []
   },
   "outputs": [
    {
     "name": "stderr",
     "output_type": "stream",
     "text": [
      "/opt/conda/lib/python3.7/site-packages/ipykernel_launcher.py:2: UserWarning: This pattern has match groups. To actually get the groups, use str.extract.\n",
      "  \n"
     ]
    },
    {
     "data": {
      "text/html": [
       "<div>\n",
       "<style scoped>\n",
       "    .dataframe tbody tr th:only-of-type {\n",
       "        vertical-align: middle;\n",
       "    }\n",
       "\n",
       "    .dataframe tbody tr th {\n",
       "        vertical-align: top;\n",
       "    }\n",
       "\n",
       "    .dataframe thead th {\n",
       "        text-align: right;\n",
       "    }\n",
       "</style>\n",
       "<table border=\"1\" class=\"dataframe\">\n",
       "  <thead>\n",
       "    <tr style=\"text-align: right;\">\n",
       "      <th></th>\n",
       "      <th>text</th>\n",
       "      <th>category</th>\n",
       "    </tr>\n",
       "  </thead>\n",
       "  <tbody>\n",
       "    <tr>\n",
       "      <th>0</th>\n",
       "      <td>homepage</td>\n",
       "      <td></td>\n",
       "    </tr>\n",
       "    <tr>\n",
       "      <th>1</th>\n",
       "      <td>sso</td>\n",
       "      <td></td>\n",
       "    </tr>\n",
       "    <tr>\n",
       "      <th>2</th>\n",
       "      <td>common home screen</td>\n",
       "      <td></td>\n",
       "    </tr>\n",
       "    <tr>\n",
       "      <th>3</th>\n",
       "      <td>hmportalenrollerrorpage</td>\n",
       "      <td></td>\n",
       "    </tr>\n",
       "    <tr>\n",
       "      <th>4</th>\n",
       "      <td>common shortcut cards screen</td>\n",
       "      <td></td>\n",
       "    </tr>\n",
       "  </tbody>\n",
       "</table>\n",
       "</div>"
      ],
      "text/plain": [
       "                           text category\n",
       "0                      homepage         \n",
       "1                           sso         \n",
       "2            common home screen         \n",
       "3       hmportalenrollerrorpage         \n",
       "4  common shortcut cards screen         "
      ]
     },
     "execution_count": 29,
     "metadata": {},
     "output_type": "execute_result"
    }
   ],
   "source": [
    "mask = (df_unseen_cleaned['text'].str.contains(\n",
    "    r'\\b(' + '|'.join(words_4) + r')\\b', case=False, na=False))\n",
    "\n",
    "df_unseen_cleaned['category'] = ''\n",
    "df_unseen_cleaned.loc[mask, 'category'] = 'Elder care'\n",
    "# df_combined_web_iva_search.loc[df_combined_web_iva_search['category'] == '', 'category'] = 'Other'\n",
    "\n",
    "df_unseen_cleaned.head(5)"
   ]
  },
  {
   "cell_type": "code",
   "execution_count": 30,
   "metadata": {
    "tags": []
   },
   "outputs": [],
   "source": [
    "## get text which are similar to phrases in synonnyms list for texts other than which are filtered above\n",
    "# 86 threshold for cc model\n",
    "# def find_similar_sentences(df, sentences, phrases, threshold=0.86, category_name = 'Child care'):\n",
    "#     # encode the phrases using the model\n",
    "#     phrase_embeddings = model.encode(phrases, convert_to_tensor=True)\n",
    "    \n",
    "#     # initialize an empty list to store the similar sentences\n",
    "#     similar_sentences = []\n",
    "    \n",
    "#     # iterate over the sentences\n",
    "#     for sentence in sentences:\n",
    "#         # encode the sentence using the model\n",
    "#         sentence_embedding = model.encode(sentence, convert_to_tensor=True)\n",
    "#         # reshape the sentence embedding to a 2D array\n",
    "#         sentence_embedding = sentence_embedding.reshape(1, -1)\n",
    "        \n",
    "#         # calculate the cosine similarity between the sentence embedding and each phrase embedding\n",
    "#         cosine_scores = 1 - cosine_distances(sentence_embedding, phrase_embeddings)\n",
    "        \n",
    "#         # convert the cosine similarity scores to a list\n",
    "#         scores_list = cosine_scores.tolist()[0]\n",
    "        \n",
    "#         # iterate over the phrases and similarity scores and append the sentence to the list if it meets the threshold for at least one phrase\n",
    "#         for phrase, score in zip(phrases, scores_list):\n",
    "#             if score >= threshold:\n",
    "#                 similar_sentences.append(sentence)\n",
    "#                 break\n",
    "    \n",
    "#     # convert the list of similar sentences to a set to remove duplicates\n",
    "#     similar_sentences = set(similar_sentences)\n",
    "    \n",
    "#     # create a new dataframe containing only the rows with text that is in the set of similar sentences\n",
    "#     similar_df = df[df['text'].isin(similar_sentences)]\n",
    "#     similar_df['category']=category_name\n",
    "#     return similar_df\n"
   ]
  },
  {
   "cell_type": "code",
   "execution_count": 31,
   "metadata": {
    "tags": []
   },
   "outputs": [],
   "source": [
    "def find_similar_sentences(df, sentences, phrases, threshold=0.90, category_name = 'Elder care'):\n",
    "    # encode the phrases using the model\n",
    "    phrase_embeddings = model.encode(phrases, convert_to_tensor=True)\n",
    "    \n",
    "    # initialize an empty list to store the similar sentences\n",
    "    similar_sentences = []\n",
    "    \n",
    "    # iterate over the sentences\n",
    "    for sentence in sentences:\n",
    "        # encode the sentence using the model\n",
    "        sentence_embedding = model.encode(sentence, convert_to_tensor=True)\n",
    "        # reshape the sentence embedding to a 2D array\n",
    "        sentence_embedding = sentence_embedding.reshape(1, -1)\n",
    "        \n",
    "        # calculate the cosine similarity between the sentence embedding and each phrase embedding\n",
    "        cosine_scores = 1 - cosine_distances(sentence_embedding, phrase_embeddings)\n",
    "        \n",
    "        # convert the cosine similarity scores to a list\n",
    "        scores_list = cosine_scores.tolist()[0]\n",
    "        \n",
    "        # iterate over the phrases and similarity scores and append the sentence to the list if it meets the threshold for at least one phrase\n",
    "        for phrase, score in zip(phrases, scores_list):\n",
    "            if score >= threshold:\n",
    "                similar_sentences.append(sentence)\n",
    "                break\n",
    "    \n",
    "    # convert the list of similar sentences to a set to remove duplicates\n",
    "    similar_sentences = set(similar_sentences)\n",
    "    \n",
    "    # create a new dataframe containing only the rows with text that is in the set of similar sentences\n",
    "    similar_df = df[df['text'].isin(similar_sentences)]\n",
    "    similar_df['category']=category_name\n",
    "    return similar_df\n"
   ]
  },
  {
   "cell_type": "code",
   "execution_count": 32,
   "metadata": {
    "tags": []
   },
   "outputs": [],
   "source": [
    "\n",
    "df_unseen_cleaned = df_unseen_cleaned.dropna(subset=['text'])"
   ]
  },
  {
   "cell_type": "code",
   "execution_count": 33,
   "metadata": {},
   "outputs": [],
   "source": [
    "similar_df_unseen = find_similar_sentences(df_unseen_cleaned, \n",
    "                                    df_unseen_cleaned[df_unseen_cleaned['category']=='']['text'].to_list(), \n",
    "                                    words_4)"
   ]
  },
  {
   "cell_type": "code",
   "execution_count": 34,
   "metadata": {
    "tags": []
   },
   "outputs": [
    {
     "data": {
      "text/html": [
       "<div>\n",
       "<style scoped>\n",
       "    .dataframe tbody tr th:only-of-type {\n",
       "        vertical-align: middle;\n",
       "    }\n",
       "\n",
       "    .dataframe tbody tr th {\n",
       "        vertical-align: top;\n",
       "    }\n",
       "\n",
       "    .dataframe thead th {\n",
       "        text-align: right;\n",
       "    }\n",
       "</style>\n",
       "<table border=\"1\" class=\"dataframe\">\n",
       "  <thead>\n",
       "    <tr style=\"text-align: right;\">\n",
       "      <th></th>\n",
       "      <th>text</th>\n",
       "      <th>category</th>\n",
       "    </tr>\n",
       "  </thead>\n",
       "  <tbody>\n",
       "  </tbody>\n",
       "</table>\n",
       "</div>"
      ],
      "text/plain": [
       "Empty DataFrame\n",
       "Columns: [text, category]\n",
       "Index: []"
      ]
     },
     "execution_count": 34,
     "metadata": {},
     "output_type": "execute_result"
    }
   ],
   "source": [
    "similar_df_unseen"
   ]
  },
  {
   "cell_type": "code",
   "execution_count": 35,
   "metadata": {},
   "outputs": [],
   "source": [
    "unseen_EC_df = pd.concat([df_unseen_cleaned[df_unseen_cleaned['category']=='Elder care'], \n",
    "                       similar_df_unseen]).sample(frac=1)"
   ]
  },
  {
   "cell_type": "code",
   "execution_count": 36,
   "metadata": {},
   "outputs": [
    {
     "data": {
      "text/plain": [
       "(0, 2)"
      ]
     },
     "execution_count": 36,
     "metadata": {},
     "output_type": "execute_result"
    }
   ],
   "source": [
    "unseen_EC_df.shape"
   ]
  },
  {
   "cell_type": "code",
   "execution_count": 37,
   "metadata": {},
   "outputs": [
    {
     "data": {
      "text/html": [
       "<div>\n",
       "<style scoped>\n",
       "    .dataframe tbody tr th:only-of-type {\n",
       "        vertical-align: middle;\n",
       "    }\n",
       "\n",
       "    .dataframe tbody tr th {\n",
       "        vertical-align: top;\n",
       "    }\n",
       "\n",
       "    .dataframe thead th {\n",
       "        text-align: right;\n",
       "    }\n",
       "</style>\n",
       "<table border=\"1\" class=\"dataframe\">\n",
       "  <thead>\n",
       "    <tr style=\"text-align: right;\">\n",
       "      <th></th>\n",
       "      <th>text</th>\n",
       "      <th>category</th>\n",
       "    </tr>\n",
       "  </thead>\n",
       "  <tbody>\n",
       "  </tbody>\n",
       "</table>\n",
       "</div>"
      ],
      "text/plain": [
       "Empty DataFrame\n",
       "Columns: [text, category]\n",
       "Index: []"
      ]
     },
     "execution_count": 37,
     "metadata": {},
     "output_type": "execute_result"
    }
   ],
   "source": [
    "unseen_EC_df.drop_duplicates(inplace=True)"
   ]
  },
  {
   "cell_type": "code",
   "execution_count": 38,
   "metadata": {},
   "outputs": [
    {
     "data": {
      "text/plain": [
       "(0, 2)"
      ]
     },
     "execution_count": 38,
     "metadata": {},
     "output_type": "execute_result"
    }
   ],
   "source": [
    "unseen_EC_df.shape"
   ]
  },
  {
   "cell_type": "code",
   "execution_count": 39,
   "metadata": {},
   "outputs": [],
   "source": [
    "# filter out the rows with similar text from the original DataFrame\n",
    "non_similar_unseen_df = df_unseen_cleaned[~df_unseen_cleaned['text'].isin(unseen_EC_df['text'])]\n",
    "\n",
    "# sample twice as many rows from the non-similar DataFrame as there are in the similar DataFrame\n",
    "# non_similar_df = non_similar_df.sample(n=only_EC_df.shape[0]*2)\n",
    "non_similar_unseen_df['category'] = 'Other'"
   ]
  },
  {
   "cell_type": "code",
   "execution_count": 40,
   "metadata": {},
   "outputs": [],
   "source": [
    "df_unseen_concatenated = pd.concat([unseen_EC_df, non_similar_unseen_df]).sample(frac=1).reset_index(drop=True)\n",
    "# df_concatenated = df_concatenated\n",
    "# df_concatenated.drop(columns=['input', 'search_text', 'page_name'], inplace=True)"
   ]
  },
  {
   "cell_type": "code",
   "execution_count": 41,
   "metadata": {
    "tags": []
   },
   "outputs": [],
   "source": [
    "pd.set_option('display.max_colwidth', None)"
   ]
  },
  {
   "cell_type": "code",
   "execution_count": 42,
   "metadata": {
    "tags": []
   },
   "outputs": [
    {
     "data": {
      "text/plain": [
       "(581, 2)"
      ]
     },
     "execution_count": 42,
     "metadata": {},
     "output_type": "execute_result"
    }
   ],
   "source": [
    "df_unseen_concatenated.shape"
   ]
  },
  {
   "cell_type": "code",
   "execution_count": 44,
   "metadata": {},
   "outputs": [
    {
     "data": {
      "text/html": [
       "<div>\n",
       "<style scoped>\n",
       "    .dataframe tbody tr th:only-of-type {\n",
       "        vertical-align: middle;\n",
       "    }\n",
       "\n",
       "    .dataframe tbody tr th {\n",
       "        vertical-align: top;\n",
       "    }\n",
       "\n",
       "    .dataframe thead th {\n",
       "        text-align: right;\n",
       "    }\n",
       "</style>\n",
       "<table border=\"1\" class=\"dataframe\">\n",
       "  <thead>\n",
       "    <tr style=\"text-align: right;\">\n",
       "      <th></th>\n",
       "      <th>text</th>\n",
       "      <th>category</th>\n",
       "    </tr>\n",
       "  </thead>\n",
       "  <tbody>\n",
       "  </tbody>\n",
       "</table>\n",
       "</div>"
      ],
      "text/plain": [
       "Empty DataFrame\n",
       "Columns: [text, category]\n",
       "Index: []"
      ]
     },
     "execution_count": 44,
     "metadata": {},
     "output_type": "execute_result"
    }
   ],
   "source": [
    "df_unseen_concatenated[(df_unseen_concatenated.text.str.contains('elder')) & (df_unseen_concatenated.category=='Other')]"
   ]
  },
  {
   "cell_type": "code",
   "execution_count": 45,
   "metadata": {
    "tags": []
   },
   "outputs": [],
   "source": [
    "pd.reset_option('display.max_colwidth')"
   ]
  },
  {
   "cell_type": "code",
   "execution_count": 46,
   "metadata": {
    "tags": []
   },
   "outputs": [],
   "source": [
    "df_unseen_concatenated.to_excel('labelled_unseen_data.xlsx')"
   ]
  },
  {
   "cell_type": "markdown",
   "metadata": {},
   "source": [
    "## prediction on labelled unseen data"
   ]
  },
  {
   "cell_type": "code",
   "execution_count": 48,
   "metadata": {
    "tags": []
   },
   "outputs": [
    {
     "name": "stderr",
     "output_type": "stream",
     "text": [
      "Some weights of the model checkpoint at bert-base-uncased were not used when initializing BertForSequenceClassification: ['cls.predictions.transform.dense.weight', 'cls.seq_relationship.bias', 'cls.predictions.transform.LayerNorm.bias', 'cls.predictions.bias', 'cls.seq_relationship.weight', 'cls.predictions.transform.dense.bias', 'cls.predictions.decoder.weight', 'cls.predictions.transform.LayerNorm.weight']\n",
      "- This IS expected if you are initializing BertForSequenceClassification from the checkpoint of a model trained on another task or with another architecture (e.g. initializing a BertForSequenceClassification model from a BertForPreTraining model).\n",
      "- This IS NOT expected if you are initializing BertForSequenceClassification from the checkpoint of a model that you expect to be exactly identical (initializing a BertForSequenceClassification model from a BertForSequenceClassification model).\n",
      "Some weights of BertForSequenceClassification were not initialized from the model checkpoint at bert-base-uncased and are newly initialized: ['classifier.bias', 'classifier.weight']\n",
      "You should probably TRAIN this model on a down-stream task to be able to use it for predictions and inference.\n"
     ]
    }
   ],
   "source": [
    "import torch.nn as nn\n",
    "# Load the saved model\n",
    "model = BertForSequenceClassification.from_pretrained('bert-base-uncased')\n",
    "tokenizer = BertTokenizer.from_pretrained('bert-base-uncased')\n",
    "model.load_state_dict(torch.load(\"Bert_EC_model/ec_model_10_epoch.pth\"))\n",
    "\n",
    "# Load the input Excel file\n",
    "df = pd.read_excel('labelled_unseen_data.xlsx')\n",
    "cleaned_text_list = df['text'].to_list()\n",
    "category_list = df['category'].to_list()\n",
    "\n",
    "# Make predictions for each text in the Excel file\n",
    "predictions = []\n",
    "for i in range(len(cleaned_text_list)):\n",
    "    text = cleaned_text_list[i]\n",
    "    category = category_list[i]\n",
    "    input_ids = torch.tensor([tokenizer.encode(text, add_special_tokens=True)])\n",
    "    attention_mask = torch.tensor([[int(token_id > 0) for token_id in input_ids[0]]])\n",
    "    logits = model(input_ids, attention_mask).logits\n",
    "    probs = nn.functional.softmax(logits, dim=-1)\n",
    "    predicted_label = torch.argmax(probs, dim=-1)\n",
    "    if predicted_label == 1:\n",
    "        predictions.append((text, 'Elder care', category, probs[0][1].item()))\n",
    "    else:\n",
    "        predictions.append((text, 'Other', category, probs[0][0].item()))\n",
    "\n",
    "# Save the predictions to a new file\n",
    "df_pred = pd.DataFrame(predictions, columns=['text', 'prediction', 'category', 'probability'])\n",
    "df_pred.to_excel('bert_labelled_ec_web_pred_1.xlsx', index=False)\n"
   ]
  },
  {
   "cell_type": "markdown",
   "metadata": {},
   "source": [
    "## Elder care prediction"
   ]
  },
  {
   "cell_type": "code",
   "execution_count": 11,
   "metadata": {},
   "outputs": [
    {
     "data": {
      "text/plain": [
       "28"
      ]
     },
     "execution_count": 11,
     "metadata": {},
     "output_type": "execute_result"
    }
   ],
   "source": [
    "# list_of_texts = [\"HmCstmElderCarePlusLandingPageOpen\", \"senior-citizen?care expense reimbursement\", \n",
    "#                  \"Grey generation care home\", \"elderly*care plus\",\"golden(agers care service required\",\n",
    "#                  \"aging care home\", \"retirees care reimbirsement\", \"third age population care community home\",\n",
    "#                  \"third age community care home\",\"age related care home\",\"care for old\",\"care for older people\",\n",
    "#                  \"senior assistance required\",\"Daycare@expense reimbursement\",\"adult daycare required\",\n",
    "#                  \"baby care licensed\",\"olders care home required\", \"oldsters care home\",\"geriatric care home\",\n",
    "#                  \"contentPage 2023 Eldercare!!!!!!!!!!!!!****@_Subsidy\",\"Elder statesmen care\",\n",
    "#                  \"Elder women care\",\"Silver generation care\",\n",
    "#                  \"contentPage {}[]/\\|?><,.;:!@#+\\t\\n\\r\\f\\v 2023 Elder care Subsidy\",\"gerontology care\",\n",
    "#                  \"Elderly Care Plus Information\", \"care for older people\",\"age related care\" ]\n",
    "\n",
    "# len(list_of_texts)"
   ]
  },
  {
   "cell_type": "markdown",
   "metadata": {},
   "source": [
    "### Child care prediction"
   ]
  },
  {
   "cell_type": "code",
   "execution_count": 61,
   "metadata": {},
   "outputs": [
    {
     "data": {
      "text/plain": [
       "29"
      ]
     },
     "execution_count": 61,
     "metadata": {},
     "output_type": "execute_result"
    }
   ],
   "source": [
    "# list_of_texts_cc = [\"!@#$%^&*()_+\",\" \",\"_\",\"\",\"\",\"HmCstmChildCarePlusLandingPageOpen\", \n",
    "#                     \"foster care expense reimbursement\"\n",
    "#                     ,\"pre school\",\n",
    "#                  \"foster care reimbursement\",\"require nursery school for child\",\"want after school care\",\n",
    "#                 \"infant care plus\",\"want info about day nursery\",\n",
    "#                  \"day care reimbirsement\", \"kindergarten facility required\",\"looking for infant school\",\n",
    "#                 \"Day care reimbursement\", \"Daycare reimbursement\", \"Daycare expense reimbursement\", \n",
    "#                     \"baby care licensed\",\n",
    "#                   \"@#^&*contentPage 2023 children care\", \"!!!!!!!!!!!!!****@_looking for creche\",\n",
    "#                  \"want childcarer\",\"require info about playgroup\",\"want someone for child minding\",\n",
    "#                  \"looking for baby sitter\", \"{}[]/\\|?><,.;:!@#+\\t\\n\\r\\f\\v women for nanny care\", \n",
    "#                     \"someone require for child supervision\",\n",
    "#                  \"want someone for toddler care\"]\n",
    "# len(list_of_texts_cc2)"
   ]
  },
  {
   "cell_type": "code",
   "execution_count": null,
   "metadata": {},
   "outputs": [],
   "source": []
  }
 ],
 "metadata": {
  "availableInstances": [
   {
    "_defaultOrder": 0,
    "_isFastLaunch": true,
    "category": "General purpose",
    "gpuNum": 0,
    "hideHardwareSpecs": false,
    "memoryGiB": 4,
    "name": "ml.t3.medium",
    "vcpuNum": 2
   },
   {
    "_defaultOrder": 1,
    "_isFastLaunch": false,
    "category": "General purpose",
    "gpuNum": 0,
    "hideHardwareSpecs": false,
    "memoryGiB": 8,
    "name": "ml.t3.large",
    "vcpuNum": 2
   },
   {
    "_defaultOrder": 2,
    "_isFastLaunch": false,
    "category": "General purpose",
    "gpuNum": 0,
    "hideHardwareSpecs": false,
    "memoryGiB": 16,
    "name": "ml.t3.xlarge",
    "vcpuNum": 4
   },
   {
    "_defaultOrder": 3,
    "_isFastLaunch": false,
    "category": "General purpose",
    "gpuNum": 0,
    "hideHardwareSpecs": false,
    "memoryGiB": 32,
    "name": "ml.t3.2xlarge",
    "vcpuNum": 8
   },
   {
    "_defaultOrder": 4,
    "_isFastLaunch": true,
    "category": "General purpose",
    "gpuNum": 0,
    "hideHardwareSpecs": false,
    "memoryGiB": 8,
    "name": "ml.m5.large",
    "vcpuNum": 2
   },
   {
    "_defaultOrder": 5,
    "_isFastLaunch": false,
    "category": "General purpose",
    "gpuNum": 0,
    "hideHardwareSpecs": false,
    "memoryGiB": 16,
    "name": "ml.m5.xlarge",
    "vcpuNum": 4
   },
   {
    "_defaultOrder": 6,
    "_isFastLaunch": false,
    "category": "General purpose",
    "gpuNum": 0,
    "hideHardwareSpecs": false,
    "memoryGiB": 32,
    "name": "ml.m5.2xlarge",
    "vcpuNum": 8
   },
   {
    "_defaultOrder": 7,
    "_isFastLaunch": false,
    "category": "General purpose",
    "gpuNum": 0,
    "hideHardwareSpecs": false,
    "memoryGiB": 64,
    "name": "ml.m5.4xlarge",
    "vcpuNum": 16
   },
   {
    "_defaultOrder": 8,
    "_isFastLaunch": false,
    "category": "General purpose",
    "gpuNum": 0,
    "hideHardwareSpecs": false,
    "memoryGiB": 128,
    "name": "ml.m5.8xlarge",
    "vcpuNum": 32
   },
   {
    "_defaultOrder": 9,
    "_isFastLaunch": false,
    "category": "General purpose",
    "gpuNum": 0,
    "hideHardwareSpecs": false,
    "memoryGiB": 192,
    "name": "ml.m5.12xlarge",
    "vcpuNum": 48
   },
   {
    "_defaultOrder": 10,
    "_isFastLaunch": false,
    "category": "General purpose",
    "gpuNum": 0,
    "hideHardwareSpecs": false,
    "memoryGiB": 256,
    "name": "ml.m5.16xlarge",
    "vcpuNum": 64
   },
   {
    "_defaultOrder": 11,
    "_isFastLaunch": false,
    "category": "General purpose",
    "gpuNum": 0,
    "hideHardwareSpecs": false,
    "memoryGiB": 384,
    "name": "ml.m5.24xlarge",
    "vcpuNum": 96
   },
   {
    "_defaultOrder": 12,
    "_isFastLaunch": false,
    "category": "General purpose",
    "gpuNum": 0,
    "hideHardwareSpecs": false,
    "memoryGiB": 8,
    "name": "ml.m5d.large",
    "vcpuNum": 2
   },
   {
    "_defaultOrder": 13,
    "_isFastLaunch": false,
    "category": "General purpose",
    "gpuNum": 0,
    "hideHardwareSpecs": false,
    "memoryGiB": 16,
    "name": "ml.m5d.xlarge",
    "vcpuNum": 4
   },
   {
    "_defaultOrder": 14,
    "_isFastLaunch": false,
    "category": "General purpose",
    "gpuNum": 0,
    "hideHardwareSpecs": false,
    "memoryGiB": 32,
    "name": "ml.m5d.2xlarge",
    "vcpuNum": 8
   },
   {
    "_defaultOrder": 15,
    "_isFastLaunch": false,
    "category": "General purpose",
    "gpuNum": 0,
    "hideHardwareSpecs": false,
    "memoryGiB": 64,
    "name": "ml.m5d.4xlarge",
    "vcpuNum": 16
   },
   {
    "_defaultOrder": 16,
    "_isFastLaunch": false,
    "category": "General purpose",
    "gpuNum": 0,
    "hideHardwareSpecs": false,
    "memoryGiB": 128,
    "name": "ml.m5d.8xlarge",
    "vcpuNum": 32
   },
   {
    "_defaultOrder": 17,
    "_isFastLaunch": false,
    "category": "General purpose",
    "gpuNum": 0,
    "hideHardwareSpecs": false,
    "memoryGiB": 192,
    "name": "ml.m5d.12xlarge",
    "vcpuNum": 48
   },
   {
    "_defaultOrder": 18,
    "_isFastLaunch": false,
    "category": "General purpose",
    "gpuNum": 0,
    "hideHardwareSpecs": false,
    "memoryGiB": 256,
    "name": "ml.m5d.16xlarge",
    "vcpuNum": 64
   },
   {
    "_defaultOrder": 19,
    "_isFastLaunch": false,
    "category": "General purpose",
    "gpuNum": 0,
    "hideHardwareSpecs": false,
    "memoryGiB": 384,
    "name": "ml.m5d.24xlarge",
    "vcpuNum": 96
   },
   {
    "_defaultOrder": 20,
    "_isFastLaunch": false,
    "category": "General purpose",
    "gpuNum": 0,
    "hideHardwareSpecs": true,
    "memoryGiB": 0,
    "name": "ml.geospatial.interactive",
    "supportedImageNames": [
     "sagemaker-geospatial-v1-0"
    ],
    "vcpuNum": 0
   },
   {
    "_defaultOrder": 21,
    "_isFastLaunch": true,
    "category": "Compute optimized",
    "gpuNum": 0,
    "hideHardwareSpecs": false,
    "memoryGiB": 4,
    "name": "ml.c5.large",
    "vcpuNum": 2
   },
   {
    "_defaultOrder": 22,
    "_isFastLaunch": false,
    "category": "Compute optimized",
    "gpuNum": 0,
    "hideHardwareSpecs": false,
    "memoryGiB": 8,
    "name": "ml.c5.xlarge",
    "vcpuNum": 4
   },
   {
    "_defaultOrder": 23,
    "_isFastLaunch": false,
    "category": "Compute optimized",
    "gpuNum": 0,
    "hideHardwareSpecs": false,
    "memoryGiB": 16,
    "name": "ml.c5.2xlarge",
    "vcpuNum": 8
   },
   {
    "_defaultOrder": 24,
    "_isFastLaunch": false,
    "category": "Compute optimized",
    "gpuNum": 0,
    "hideHardwareSpecs": false,
    "memoryGiB": 32,
    "name": "ml.c5.4xlarge",
    "vcpuNum": 16
   },
   {
    "_defaultOrder": 25,
    "_isFastLaunch": false,
    "category": "Compute optimized",
    "gpuNum": 0,
    "hideHardwareSpecs": false,
    "memoryGiB": 72,
    "name": "ml.c5.9xlarge",
    "vcpuNum": 36
   },
   {
    "_defaultOrder": 26,
    "_isFastLaunch": false,
    "category": "Compute optimized",
    "gpuNum": 0,
    "hideHardwareSpecs": false,
    "memoryGiB": 96,
    "name": "ml.c5.12xlarge",
    "vcpuNum": 48
   },
   {
    "_defaultOrder": 27,
    "_isFastLaunch": false,
    "category": "Compute optimized",
    "gpuNum": 0,
    "hideHardwareSpecs": false,
    "memoryGiB": 144,
    "name": "ml.c5.18xlarge",
    "vcpuNum": 72
   },
   {
    "_defaultOrder": 28,
    "_isFastLaunch": false,
    "category": "Compute optimized",
    "gpuNum": 0,
    "hideHardwareSpecs": false,
    "memoryGiB": 192,
    "name": "ml.c5.24xlarge",
    "vcpuNum": 96
   },
   {
    "_defaultOrder": 29,
    "_isFastLaunch": true,
    "category": "Accelerated computing",
    "gpuNum": 1,
    "hideHardwareSpecs": false,
    "memoryGiB": 16,
    "name": "ml.g4dn.xlarge",
    "vcpuNum": 4
   },
   {
    "_defaultOrder": 30,
    "_isFastLaunch": false,
    "category": "Accelerated computing",
    "gpuNum": 1,
    "hideHardwareSpecs": false,
    "memoryGiB": 32,
    "name": "ml.g4dn.2xlarge",
    "vcpuNum": 8
   },
   {
    "_defaultOrder": 31,
    "_isFastLaunch": false,
    "category": "Accelerated computing",
    "gpuNum": 1,
    "hideHardwareSpecs": false,
    "memoryGiB": 64,
    "name": "ml.g4dn.4xlarge",
    "vcpuNum": 16
   },
   {
    "_defaultOrder": 32,
    "_isFastLaunch": false,
    "category": "Accelerated computing",
    "gpuNum": 1,
    "hideHardwareSpecs": false,
    "memoryGiB": 128,
    "name": "ml.g4dn.8xlarge",
    "vcpuNum": 32
   },
   {
    "_defaultOrder": 33,
    "_isFastLaunch": false,
    "category": "Accelerated computing",
    "gpuNum": 4,
    "hideHardwareSpecs": false,
    "memoryGiB": 192,
    "name": "ml.g4dn.12xlarge",
    "vcpuNum": 48
   },
   {
    "_defaultOrder": 34,
    "_isFastLaunch": false,
    "category": "Accelerated computing",
    "gpuNum": 1,
    "hideHardwareSpecs": false,
    "memoryGiB": 256,
    "name": "ml.g4dn.16xlarge",
    "vcpuNum": 64
   },
   {
    "_defaultOrder": 35,
    "_isFastLaunch": false,
    "category": "Accelerated computing",
    "gpuNum": 1,
    "hideHardwareSpecs": false,
    "memoryGiB": 61,
    "name": "ml.p3.2xlarge",
    "vcpuNum": 8
   },
   {
    "_defaultOrder": 36,
    "_isFastLaunch": false,
    "category": "Accelerated computing",
    "gpuNum": 4,
    "hideHardwareSpecs": false,
    "memoryGiB": 244,
    "name": "ml.p3.8xlarge",
    "vcpuNum": 32
   },
   {
    "_defaultOrder": 37,
    "_isFastLaunch": false,
    "category": "Accelerated computing",
    "gpuNum": 8,
    "hideHardwareSpecs": false,
    "memoryGiB": 488,
    "name": "ml.p3.16xlarge",
    "vcpuNum": 64
   },
   {
    "_defaultOrder": 38,
    "_isFastLaunch": false,
    "category": "Accelerated computing",
    "gpuNum": 8,
    "hideHardwareSpecs": false,
    "memoryGiB": 768,
    "name": "ml.p3dn.24xlarge",
    "vcpuNum": 96
   },
   {
    "_defaultOrder": 39,
    "_isFastLaunch": false,
    "category": "Memory Optimized",
    "gpuNum": 0,
    "hideHardwareSpecs": false,
    "memoryGiB": 16,
    "name": "ml.r5.large",
    "vcpuNum": 2
   },
   {
    "_defaultOrder": 40,
    "_isFastLaunch": false,
    "category": "Memory Optimized",
    "gpuNum": 0,
    "hideHardwareSpecs": false,
    "memoryGiB": 32,
    "name": "ml.r5.xlarge",
    "vcpuNum": 4
   },
   {
    "_defaultOrder": 41,
    "_isFastLaunch": false,
    "category": "Memory Optimized",
    "gpuNum": 0,
    "hideHardwareSpecs": false,
    "memoryGiB": 64,
    "name": "ml.r5.2xlarge",
    "vcpuNum": 8
   },
   {
    "_defaultOrder": 42,
    "_isFastLaunch": false,
    "category": "Memory Optimized",
    "gpuNum": 0,
    "hideHardwareSpecs": false,
    "memoryGiB": 128,
    "name": "ml.r5.4xlarge",
    "vcpuNum": 16
   },
   {
    "_defaultOrder": 43,
    "_isFastLaunch": false,
    "category": "Memory Optimized",
    "gpuNum": 0,
    "hideHardwareSpecs": false,
    "memoryGiB": 256,
    "name": "ml.r5.8xlarge",
    "vcpuNum": 32
   },
   {
    "_defaultOrder": 44,
    "_isFastLaunch": false,
    "category": "Memory Optimized",
    "gpuNum": 0,
    "hideHardwareSpecs": false,
    "memoryGiB": 384,
    "name": "ml.r5.12xlarge",
    "vcpuNum": 48
   },
   {
    "_defaultOrder": 45,
    "_isFastLaunch": false,
    "category": "Memory Optimized",
    "gpuNum": 0,
    "hideHardwareSpecs": false,
    "memoryGiB": 512,
    "name": "ml.r5.16xlarge",
    "vcpuNum": 64
   },
   {
    "_defaultOrder": 46,
    "_isFastLaunch": false,
    "category": "Memory Optimized",
    "gpuNum": 0,
    "hideHardwareSpecs": false,
    "memoryGiB": 768,
    "name": "ml.r5.24xlarge",
    "vcpuNum": 96
   },
   {
    "_defaultOrder": 47,
    "_isFastLaunch": false,
    "category": "Accelerated computing",
    "gpuNum": 1,
    "hideHardwareSpecs": false,
    "memoryGiB": 16,
    "name": "ml.g5.xlarge",
    "vcpuNum": 4
   },
   {
    "_defaultOrder": 48,
    "_isFastLaunch": false,
    "category": "Accelerated computing",
    "gpuNum": 1,
    "hideHardwareSpecs": false,
    "memoryGiB": 32,
    "name": "ml.g5.2xlarge",
    "vcpuNum": 8
   },
   {
    "_defaultOrder": 49,
    "_isFastLaunch": false,
    "category": "Accelerated computing",
    "gpuNum": 1,
    "hideHardwareSpecs": false,
    "memoryGiB": 64,
    "name": "ml.g5.4xlarge",
    "vcpuNum": 16
   },
   {
    "_defaultOrder": 50,
    "_isFastLaunch": false,
    "category": "Accelerated computing",
    "gpuNum": 1,
    "hideHardwareSpecs": false,
    "memoryGiB": 128,
    "name": "ml.g5.8xlarge",
    "vcpuNum": 32
   },
   {
    "_defaultOrder": 51,
    "_isFastLaunch": false,
    "category": "Accelerated computing",
    "gpuNum": 1,
    "hideHardwareSpecs": false,
    "memoryGiB": 256,
    "name": "ml.g5.16xlarge",
    "vcpuNum": 64
   },
   {
    "_defaultOrder": 52,
    "_isFastLaunch": false,
    "category": "Accelerated computing",
    "gpuNum": 4,
    "hideHardwareSpecs": false,
    "memoryGiB": 192,
    "name": "ml.g5.12xlarge",
    "vcpuNum": 48
   },
   {
    "_defaultOrder": 53,
    "_isFastLaunch": false,
    "category": "Accelerated computing",
    "gpuNum": 4,
    "hideHardwareSpecs": false,
    "memoryGiB": 384,
    "name": "ml.g5.24xlarge",
    "vcpuNum": 96
   },
   {
    "_defaultOrder": 54,
    "_isFastLaunch": false,
    "category": "Accelerated computing",
    "gpuNum": 8,
    "hideHardwareSpecs": false,
    "memoryGiB": 768,
    "name": "ml.g5.48xlarge",
    "vcpuNum": 192
   },
   {
    "_defaultOrder": 55,
    "_isFastLaunch": false,
    "category": "Accelerated computing",
    "gpuNum": 8,
    "hideHardwareSpecs": false,
    "memoryGiB": 1152,
    "name": "ml.p4d.24xlarge",
    "vcpuNum": 96
   },
   {
    "_defaultOrder": 56,
    "_isFastLaunch": false,
    "category": "Accelerated computing",
    "gpuNum": 8,
    "hideHardwareSpecs": false,
    "memoryGiB": 1152,
    "name": "ml.p4de.24xlarge",
    "vcpuNum": 96
   }
  ],
  "instance_type": "ml.t3.medium",
  "kernelspec": {
   "display_name": "Python 3 (Data Science)",
   "language": "python",
   "name": "python3__SAGEMAKER_INTERNAL__arn:aws:sagemaker:us-east-1:081325390199:image/datascience-1.0"
  },
  "language_info": {
   "codemirror_mode": {
    "name": "ipython",
    "version": 3
   },
   "file_extension": ".py",
   "mimetype": "text/x-python",
   "name": "python",
   "nbconvert_exporter": "python",
   "pygments_lexer": "ipython3",
   "version": "3.7.10"
  }
 },
 "nbformat": 4,
 "nbformat_minor": 4
}
