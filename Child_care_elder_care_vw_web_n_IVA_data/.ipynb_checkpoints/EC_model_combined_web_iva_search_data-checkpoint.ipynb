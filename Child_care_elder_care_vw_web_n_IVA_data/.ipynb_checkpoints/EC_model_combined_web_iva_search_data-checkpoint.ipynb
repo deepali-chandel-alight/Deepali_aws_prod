{
 "cells": [
  {
   "cell_type": "code",
   "execution_count": 216,
   "metadata": {},
   "outputs": [],
   "source": [
    "# !pip install pandas-profiling"
   ]
  },
  {
   "cell_type": "code",
   "execution_count": 217,
   "metadata": {},
   "outputs": [],
   "source": [
    "# !pip install spacy"
   ]
  },
  {
   "cell_type": "code",
   "execution_count": 218,
   "metadata": {},
   "outputs": [],
   "source": [
    "# !pip install en_core_web_sm-3.1.0-py3-none-any.whl"
   ]
  },
  {
   "cell_type": "code",
   "execution_count": 2,
   "metadata": {},
   "outputs": [],
   "source": [
    "import spacy\n",
    "import en_core_web_sm\n",
    "nlp = spacy.load(\"en_core_web_sm\")"
   ]
  },
  {
   "cell_type": "code",
   "execution_count": 3,
   "metadata": {},
   "outputs": [],
   "source": [
    "import pandas as pd"
   ]
  },
  {
   "cell_type": "code",
   "execution_count": 4,
   "metadata": {},
   "outputs": [
    {
     "name": "stderr",
     "output_type": "stream",
     "text": [
      "/tmp/ipykernel_13546/3072104149.py:1: DtypeWarning: Columns (28,84,101,118) have mixed types. Specify dtype option on import or set low_memory=False.\n",
      "  df_combined_web_iva_search = pd.read_csv(\"s3://adl-core-sagemaker-studio/external/IVA/combined_new.csv\")\n"
     ]
    }
   ],
   "source": [
    "df_combined_web_iva_search = pd.read_csv(\"s3://adl-core-sagemaker-studio/external/IVA/combined_new.csv\")"
   ]
  },
  {
   "cell_type": "code",
   "execution_count": 5,
   "metadata": {},
   "outputs": [
    {
     "data": {
      "text/html": [
       "<div>\n",
       "<style scoped>\n",
       "    .dataframe tbody tr th:only-of-type {\n",
       "        vertical-align: middle;\n",
       "    }\n",
       "\n",
       "    .dataframe tbody tr th {\n",
       "        vertical-align: top;\n",
       "    }\n",
       "\n",
       "    .dataframe thead th {\n",
       "        text-align: right;\n",
       "    }\n",
       "</style>\n",
       "<table border=\"1\" class=\"dataframe\">\n",
       "  <thead>\n",
       "    <tr style=\"text-align: right;\">\n",
       "      <th></th>\n",
       "      <th>agent_entitlement_client_name</th>\n",
       "      <th>agent_entitlement_access_key</th>\n",
       "      <th>channel</th>\n",
       "      <th>companytracking_clientid</th>\n",
       "      <th>companytracking_companyid</th>\n",
       "      <th>companytracking_companyname</th>\n",
       "      <th>companytracking_multitenantid</th>\n",
       "      <th>entry_id</th>\n",
       "      <th>entry_order</th>\n",
       "      <th>entry_type</th>\n",
       "      <th>...</th>\n",
       "      <th>load_timestamp</th>\n",
       "      <th>source_system_code</th>\n",
       "      <th>mobile_app_device_type</th>\n",
       "      <th>page_load_elapsed_time</th>\n",
       "      <th>mobile_app_type</th>\n",
       "      <th>session_create_date_cst_timezone_partition</th>\n",
       "      <th>platform_id_y</th>\n",
       "      <th>search_text</th>\n",
       "      <th>search_results</th>\n",
       "      <th>session_created_timestamp</th>\n",
       "    </tr>\n",
       "  </thead>\n",
       "  <tbody>\n",
       "    <tr>\n",
       "      <th>0</th>\n",
       "      <td>Enterprise</td>\n",
       "      <td>00000000-0000-0000-0000-000000000000</td>\n",
       "      <td>Web</td>\n",
       "      <td>1141</td>\n",
       "      <td>jci</td>\n",
       "      <td>Johnson Controls Inc</td>\n",
       "      <td>NaN</td>\n",
       "      <td>2584351</td>\n",
       "      <td>3</td>\n",
       "      <td>Click Unit Link</td>\n",
       "      <td>...</td>\n",
       "      <td>NaN</td>\n",
       "      <td>NaN</td>\n",
       "      <td>NaN</td>\n",
       "      <td>NaN</td>\n",
       "      <td>NaN</td>\n",
       "      <td>NaN</td>\n",
       "      <td>NaN</td>\n",
       "      <td>NaN</td>\n",
       "      <td>NaN</td>\n",
       "      <td>NaN</td>\n",
       "    </tr>\n",
       "    <tr>\n",
       "      <th>1</th>\n",
       "      <td>Enterprise</td>\n",
       "      <td>00000000-0000-0000-0000-000000000000</td>\n",
       "      <td>Web</td>\n",
       "      <td>8666</td>\n",
       "      <td>bestbuy</td>\n",
       "      <td>Best Buy</td>\n",
       "      <td>NaN</td>\n",
       "      <td>2657214</td>\n",
       "      <td>6</td>\n",
       "      <td>Click Unit Link</td>\n",
       "      <td>...</td>\n",
       "      <td>NaN</td>\n",
       "      <td>NaN</td>\n",
       "      <td>NaN</td>\n",
       "      <td>NaN</td>\n",
       "      <td>NaN</td>\n",
       "      <td>NaN</td>\n",
       "      <td>NaN</td>\n",
       "      <td>NaN</td>\n",
       "      <td>NaN</td>\n",
       "      <td>NaN</td>\n",
       "    </tr>\n",
       "    <tr>\n",
       "      <th>2</th>\n",
       "      <td>Enterprise</td>\n",
       "      <td>00000000-0000-0000-0000-000000000000</td>\n",
       "      <td>Web</td>\n",
       "      <td>8053</td>\n",
       "      <td>sodexo</td>\n",
       "      <td>sodexo</td>\n",
       "      <td>NaN</td>\n",
       "      <td>2743663</td>\n",
       "      <td>4</td>\n",
       "      <td>Click Unit Link</td>\n",
       "      <td>...</td>\n",
       "      <td>NaN</td>\n",
       "      <td>NaN</td>\n",
       "      <td>NaN</td>\n",
       "      <td>NaN</td>\n",
       "      <td>NaN</td>\n",
       "      <td>NaN</td>\n",
       "      <td>NaN</td>\n",
       "      <td>NaN</td>\n",
       "      <td>NaN</td>\n",
       "      <td>NaN</td>\n",
       "    </tr>\n",
       "    <tr>\n",
       "      <th>3</th>\n",
       "      <td>Enterprise</td>\n",
       "      <td>00000000-0000-0000-0000-000000000000</td>\n",
       "      <td>Web</td>\n",
       "      <td>8053</td>\n",
       "      <td>sodexo</td>\n",
       "      <td>sodexo</td>\n",
       "      <td>NaN</td>\n",
       "      <td>2743662</td>\n",
       "      <td>3</td>\n",
       "      <td>Click Unit Link</td>\n",
       "      <td>...</td>\n",
       "      <td>NaN</td>\n",
       "      <td>NaN</td>\n",
       "      <td>NaN</td>\n",
       "      <td>NaN</td>\n",
       "      <td>NaN</td>\n",
       "      <td>NaN</td>\n",
       "      <td>NaN</td>\n",
       "      <td>NaN</td>\n",
       "      <td>NaN</td>\n",
       "      <td>NaN</td>\n",
       "    </tr>\n",
       "    <tr>\n",
       "      <th>4</th>\n",
       "      <td>Huntington Ingalls Industries Inc.</td>\n",
       "      <td>376b48f5-f9f3-4911-9e73-7d40c25b47c7</td>\n",
       "      <td>Web</td>\n",
       "      <td>15757</td>\n",
       "      <td>hii</td>\n",
       "      <td>Huntington Ingalls Industries</td>\n",
       "      <td>NaN</td>\n",
       "      <td>10566463</td>\n",
       "      <td>2</td>\n",
       "      <td>Typed Input</td>\n",
       "      <td>...</td>\n",
       "      <td>NaN</td>\n",
       "      <td>NaN</td>\n",
       "      <td>NaN</td>\n",
       "      <td>NaN</td>\n",
       "      <td>NaN</td>\n",
       "      <td>NaN</td>\n",
       "      <td>NaN</td>\n",
       "      <td>NaN</td>\n",
       "      <td>NaN</td>\n",
       "      <td>NaN</td>\n",
       "    </tr>\n",
       "  </tbody>\n",
       "</table>\n",
       "<p>5 rows × 170 columns</p>\n",
       "</div>"
      ],
      "text/plain": [
       "        agent_entitlement_client_name          agent_entitlement_access_key  \\\n",
       "0                          Enterprise  00000000-0000-0000-0000-000000000000   \n",
       "1                          Enterprise  00000000-0000-0000-0000-000000000000   \n",
       "2                          Enterprise  00000000-0000-0000-0000-000000000000   \n",
       "3                          Enterprise  00000000-0000-0000-0000-000000000000   \n",
       "4  Huntington Ingalls Industries Inc.  376b48f5-f9f3-4911-9e73-7d40c25b47c7   \n",
       "\n",
       "  channel  companytracking_clientid companytracking_companyid  \\\n",
       "0     Web                      1141                       jci   \n",
       "1     Web                      8666                   bestbuy   \n",
       "2     Web                      8053                    sodexo   \n",
       "3     Web                      8053                    sodexo   \n",
       "4     Web                     15757                       hii   \n",
       "\n",
       "     companytracking_companyname  companytracking_multitenantid  entry_id  \\\n",
       "0           Johnson Controls Inc                            NaN   2584351   \n",
       "1                       Best Buy                            NaN   2657214   \n",
       "2                         sodexo                            NaN   2743663   \n",
       "3                         sodexo                            NaN   2743662   \n",
       "4  Huntington Ingalls Industries                            NaN  10566463   \n",
       "\n",
       "   entry_order       entry_type  ... load_timestamp  source_system_code  \\\n",
       "0            3  Click Unit Link  ...            NaN                 NaN   \n",
       "1            6  Click Unit Link  ...            NaN                 NaN   \n",
       "2            4  Click Unit Link  ...            NaN                 NaN   \n",
       "3            3  Click Unit Link  ...            NaN                 NaN   \n",
       "4            2      Typed Input  ...            NaN                 NaN   \n",
       "\n",
       "  mobile_app_device_type page_load_elapsed_time mobile_app_type  \\\n",
       "0                    NaN                    NaN             NaN   \n",
       "1                    NaN                    NaN             NaN   \n",
       "2                    NaN                    NaN             NaN   \n",
       "3                    NaN                    NaN             NaN   \n",
       "4                    NaN                    NaN             NaN   \n",
       "\n",
       "  session_create_date_cst_timezone_partition platform_id_y search_text  \\\n",
       "0                                        NaN           NaN         NaN   \n",
       "1                                        NaN           NaN         NaN   \n",
       "2                                        NaN           NaN         NaN   \n",
       "3                                        NaN           NaN         NaN   \n",
       "4                                        NaN           NaN         NaN   \n",
       "\n",
       "  search_results  session_created_timestamp  \n",
       "0            NaN                        NaN  \n",
       "1            NaN                        NaN  \n",
       "2            NaN                        NaN  \n",
       "3            NaN                        NaN  \n",
       "4            NaN                        NaN  \n",
       "\n",
       "[5 rows x 170 columns]"
      ]
     },
     "execution_count": 5,
     "metadata": {},
     "output_type": "execute_result"
    }
   ],
   "source": [
    "df_combined_web_iva_search.head()"
   ]
  },
  {
   "cell_type": "code",
   "execution_count": 13,
   "metadata": {},
   "outputs": [
    {
     "data": {
      "text/plain": [
       "['agent_entitlement_client_name',\n",
       " 'agent_entitlement_access_key',\n",
       " 'channel',\n",
       " 'companytracking_clientid',\n",
       " 'companytracking_companyid',\n",
       " 'companytracking_companyname',\n",
       " 'companytracking_multitenantid',\n",
       " 'entry_id',\n",
       " 'entry_order',\n",
       " 'entry_type',\n",
       " 'input',\n",
       " 'inputnotunderstood_type',\n",
       " 'knowledge_category',\n",
       " 'knowledge_category_path',\n",
       " 'navigation_url',\n",
       " 'next_unit_hit',\n",
       " 'previous_unit_hit',\n",
       " 'response_condition',\n",
       " 'response_text',\n",
       " 'session_id',\n",
       " 'session_start_utc',\n",
       " 'session_start_cst',\n",
       " 'transactioncontribution_factor',\n",
       " 'unit_name',\n",
       " 'agent_session_id',\n",
       " 'time_submitted_utc',\n",
       " 'time_submitted_cst',\n",
       " 'unit_id',\n",
       " 'response_name',\n",
       " 'related_links',\n",
       " 'matched_search_criteria',\n",
       " 'agent_user_id',\n",
       " 'escalation_type',\n",
       " 'companytracking_personalid',\n",
       " 'person_internal_id',\n",
       " 'client_id',\n",
       " 'prompting_task',\n",
       " 'prompting_task_step',\n",
       " 'other_active_tasks',\n",
       " 'complete_tasks',\n",
       " 'cancelled_tasks',\n",
       " 'conversation_rating_random_sample_queue',\n",
       " 'conversation_rating_all_conversations_queue',\n",
       " 'conversation_rating_reason_random_sample_queue',\n",
       " 'conversation_rating_comment_random_sample_queue',\n",
       " 'conversation_rating_reason_all_conversations_queue',\n",
       " 'conversation_rating_comment_all_conversations_queue',\n",
       " 'entry_rating_random_sample_queue',\n",
       " 'entry_rating_reason_random_sample_queue',\n",
       " 'entry_rating_comment_random_sample_queue',\n",
       " 'entry_rating_all_conversations_queue',\n",
       " 'entry_rating_reason_all_conversations_queue',\n",
       " 'entry_rating_comment_all_conversations_queue',\n",
       " 'entry_feedback_rating_end_user_feedback_queue',\n",
       " 'entry_feedback_rating_reason_end_user_feedback_queue',\n",
       " 'entry_feedback_rating_comment_end_user_feedback_queue',\n",
       " 'fpml_version',\n",
       " 'last_unit_in_conversation',\n",
       " 'transactionnegation',\n",
       " 'knowledgetie_units_0_label',\n",
       " 'knowledgetie_units_0_unit_id',\n",
       " 'referralaccepted_destchannel',\n",
       " 'referralaccepted_destqueue',\n",
       " 'load_ts',\n",
       " 'language',\n",
       " 'reporting_events',\n",
       " 'yyyymm',\n",
       " 'web_page_detail_event_key',\n",
       " 'web_page_detail_event_key_columns',\n",
       " 'client_key',\n",
       " 'implementation_key',\n",
       " 'participant_key',\n",
       " 'platform_id_x',\n",
       " 'implementation_hierarchy_key',\n",
       " 'person_id',\n",
       " 'platform_person_internal_id',\n",
       " 'source_person_internal_id',\n",
       " 'source_person_id',\n",
       " 'person_birth_date',\n",
       " 'person_age',\n",
       " 'person_gender',\n",
       " 'person_employment_status',\n",
       " 'person_state',\n",
       " 'person_union_vs_non_union',\n",
       " 'person_salary',\n",
       " 'person_eeo',\n",
       " 'admin_id',\n",
       " 'user_id_type',\n",
       " 'source_global_session_id',\n",
       " 'source_global_session_create_timestamp',\n",
       " 'global_session_id',\n",
       " 'global_session_create_timestamp_cst_timezone',\n",
       " 'web_session_id',\n",
       " 'session_create_timestamp_cst_timezone',\n",
       " 'web_user_type_id',\n",
       " 'web_user_type_description',\n",
       " 'web_user_system_id',\n",
       " 'remote_ip_address',\n",
       " 'page_name',\n",
       " 'page_visit_date_cst_timezone',\n",
       " 'page_visit_timestamp_cst_timezone',\n",
       " 'portlet_name',\n",
       " 'business_page_name',\n",
       " 'page_domain',\n",
       " 'page_type_code',\n",
       " 'page_type',\n",
       " 'page_web_type_description',\n",
       " 'page_sequence_number',\n",
       " 'request_method_description',\n",
       " 'global_session_end_page_name',\n",
       " 'global_session_end_portlet_name',\n",
       " 'global_session_end_page_process_name',\n",
       " 'global_session_end_business_page_name',\n",
       " 'global_session_end_page_domain',\n",
       " 'global_session_end_page_type_code',\n",
       " 'global_session_end_page_type',\n",
       " 'global_session_end_page_web_type_description',\n",
       " 'link_id',\n",
       " 'link_destination_url',\n",
       " 'link_id_display',\n",
       " 'link_external_info',\n",
       " 'link_flow',\n",
       " 'link_type_code',\n",
       " 'link_type_description',\n",
       " 'business_link_id',\n",
       " 'web_conversation_id',\n",
       " 'web_channel_application_code',\n",
       " 'web_channel_application_description',\n",
       " 'web_channel_application_version',\n",
       " 'initial_web_channel_application_code',\n",
       " 'initial_web_channel_application_description',\n",
       " 'initial_web_channel_application_version',\n",
       " 'host_name_description',\n",
       " 'web_authentication_level_id',\n",
       " 'web_authentication_level_description',\n",
       " 'web_security_method_description',\n",
       " 'web_logon_type_description',\n",
       " 'web_device_type',\n",
       " 'browser_language',\n",
       " 'page_visit_duration',\n",
       " 'web_session_page_indicator',\n",
       " 'outbound_page_link_indicator',\n",
       " 'hint_page_indicator',\n",
       " 'error_page_indicator',\n",
       " 'logon_page_indicator',\n",
       " 'logoff_page_indicator',\n",
       " 'last_visited_page_indicator',\n",
       " 'password_reset_page_indicator',\n",
       " 'hm_enrollment_abandoned_indicator',\n",
       " 'hm_enrollment_initiated_indicator',\n",
       " 'hm_enrollment_completed_indicator',\n",
       " 'web_page_abandoned_indicator',\n",
       " 'web_chat_request_indicator',\n",
       " 'page_slide_indicator',\n",
       " 'web_page_payload_size',\n",
       " 'page_process_name',\n",
       " 'page_process_detail',\n",
       " 'iva_used_indicator',\n",
       " 'event_position',\n",
       " 'action_type',\n",
       " 'load_timestamp',\n",
       " 'source_system_code',\n",
       " 'mobile_app_device_type',\n",
       " 'page_load_elapsed_time',\n",
       " 'mobile_app_type',\n",
       " 'session_create_date_cst_timezone_partition',\n",
       " 'platform_id_y',\n",
       " 'search_text',\n",
       " 'search_results',\n",
       " 'session_created_timestamp']"
      ]
     },
     "execution_count": 13,
     "metadata": {},
     "output_type": "execute_result"
    }
   ],
   "source": [
    "df_combined_web_iva_search.columns.to_list()"
   ]
  },
  {
   "cell_type": "code",
   "execution_count": 14,
   "metadata": {},
   "outputs": [],
   "source": [
    "df_combined_web_iva_search['yyyymm'] = pd.to_datetime(df_combined_web_iva_search['yyyymm'])"
   ]
  },
  {
   "cell_type": "code",
   "execution_count": 15,
   "metadata": {},
   "outputs": [
    {
     "data": {
      "text/plain": [
       "Timestamp('1970-01-01 00:00:00.000201709')"
      ]
     },
     "execution_count": 15,
     "metadata": {},
     "output_type": "execute_result"
    }
   ],
   "source": [
    "df_combined_web_iva_search['yyyymm'].min()"
   ]
  },
  {
   "cell_type": "code",
   "execution_count": 16,
   "metadata": {},
   "outputs": [
    {
     "data": {
      "text/plain": [
       "Timestamp('1970-01-01 00:00:00.000202303')"
      ]
     },
     "execution_count": 16,
     "metadata": {},
     "output_type": "execute_result"
    }
   ],
   "source": [
    "df_combined_web_iva_search['yyyymm'].max()"
   ]
  },
  {
   "cell_type": "code",
   "execution_count": 17,
   "metadata": {},
   "outputs": [],
   "source": [
    "df_combined_web_iva_search['session_created_timestamp'] = pd.to_datetime(df_combined_web_iva_search['session_created_timestamp'])"
   ]
  },
  {
   "cell_type": "code",
   "execution_count": 18,
   "metadata": {},
   "outputs": [
    {
     "data": {
      "text/plain": [
       "Timestamp('2018-02-21 00:00:00')"
      ]
     },
     "execution_count": 18,
     "metadata": {},
     "output_type": "execute_result"
    }
   ],
   "source": [
    "df_combined_web_iva_search['session_created_timestamp'].min()"
   ]
  },
  {
   "cell_type": "code",
   "execution_count": 19,
   "metadata": {},
   "outputs": [
    {
     "data": {
      "text/plain": [
       "Timestamp('2023-03-22 00:00:00')"
      ]
     },
     "execution_count": 19,
     "metadata": {},
     "output_type": "execute_result"
    }
   ],
   "source": [
    "df_combined_web_iva_search['session_created_timestamp'].max()"
   ]
  },
  {
   "cell_type": "code",
   "execution_count": 10,
   "metadata": {},
   "outputs": [],
   "source": [
    "df_combined_web_iva_search['session_create_date_cst_timezone_partition'] = pd.to_datetime(df_combined_web_iva_search['session_create_date_cst_timezone_partition'])"
   ]
  },
  {
   "cell_type": "code",
   "execution_count": 11,
   "metadata": {},
   "outputs": [
    {
     "data": {
      "text/plain": [
       "Timestamp('2023-02-28 00:00:00')"
      ]
     },
     "execution_count": 11,
     "metadata": {},
     "output_type": "execute_result"
    }
   ],
   "source": [
    "df_combined_web_iva_search['session_create_date_cst_timezone_partition'].max()"
   ]
  },
  {
   "cell_type": "code",
   "execution_count": 12,
   "metadata": {},
   "outputs": [
    {
     "data": {
      "text/plain": [
       "Timestamp('2022-07-02 00:00:00')"
      ]
     },
     "execution_count": 12,
     "metadata": {},
     "output_type": "execute_result"
    }
   ],
   "source": [
    "df_combined_web_iva_search['session_create_date_cst_timezone_partition'].min()"
   ]
  },
  {
   "cell_type": "code",
   "execution_count": null,
   "metadata": {},
   "outputs": [],
   "source": []
  },
  {
   "cell_type": "code",
   "execution_count": 20,
   "metadata": {},
   "outputs": [],
   "source": [
    "df_combined_web_iva_search['session_create_timestamp_cst_timezone'] = pd.to_datetime(df_combined_web_iva_search['session_create_timestamp_cst_timezone'])"
   ]
  },
  {
   "cell_type": "code",
   "execution_count": 21,
   "metadata": {},
   "outputs": [
    {
     "data": {
      "text/plain": [
       "Timestamp('2022-07-02 00:14:39.825000')"
      ]
     },
     "execution_count": 21,
     "metadata": {},
     "output_type": "execute_result"
    }
   ],
   "source": [
    "df_combined_web_iva_search['session_create_timestamp_cst_timezone'].min()"
   ]
  },
  {
   "cell_type": "code",
   "execution_count": 22,
   "metadata": {},
   "outputs": [
    {
     "data": {
      "text/plain": [
       "Timestamp('2023-02-28 21:48:40.642000')"
      ]
     },
     "execution_count": 22,
     "metadata": {},
     "output_type": "execute_result"
    }
   ],
   "source": [
    "df_combined_web_iva_search['session_create_timestamp_cst_timezone'].max()"
   ]
  },
  {
   "cell_type": "code",
   "execution_count": null,
   "metadata": {},
   "outputs": [],
   "source": [
    "'global_session_create_timestamp_cst_timezone'"
   ]
  },
  {
   "cell_type": "code",
   "execution_count": 23,
   "metadata": {},
   "outputs": [],
   "source": [
    "df_combined_web_iva_search['global_session_create_timestamp_cst_timezone'] = pd.to_datetime(df_combined_web_iva_search['global_session_create_timestamp_cst_timezone'])"
   ]
  },
  {
   "cell_type": "code",
   "execution_count": 24,
   "metadata": {},
   "outputs": [
    {
     "data": {
      "text/plain": [
       "Timestamp('2022-07-02 00:14:39.825000')"
      ]
     },
     "execution_count": 24,
     "metadata": {},
     "output_type": "execute_result"
    }
   ],
   "source": [
    "df_combined_web_iva_search['global_session_create_timestamp_cst_timezone'].min()"
   ]
  },
  {
   "cell_type": "code",
   "execution_count": 25,
   "metadata": {},
   "outputs": [
    {
     "data": {
      "text/plain": [
       "(355888, 170)"
      ]
     },
     "execution_count": 25,
     "metadata": {},
     "output_type": "execute_result"
    }
   ],
   "source": [
    "df_combined_web_iva_search.shape\n"
   ]
  },
  {
   "cell_type": "code",
   "execution_count": 26,
   "metadata": {},
   "outputs": [],
   "source": [
    "df_combined_web_iva_search.drop_duplicates(inplace=True)"
   ]
  },
  {
   "cell_type": "code",
   "execution_count": 27,
   "metadata": {},
   "outputs": [
    {
     "data": {
      "text/plain": [
       "(318633, 170)"
      ]
     },
     "execution_count": 27,
     "metadata": {},
     "output_type": "execute_result"
    }
   ],
   "source": [
    "df_combined_web_iva_search.shape"
   ]
  },
  {
   "cell_type": "code",
   "execution_count": 28,
   "metadata": {},
   "outputs": [
    {
     "data": {
      "text/html": [
       "<div>\n",
       "<style scoped>\n",
       "    .dataframe tbody tr th:only-of-type {\n",
       "        vertical-align: middle;\n",
       "    }\n",
       "\n",
       "    .dataframe tbody tr th {\n",
       "        vertical-align: top;\n",
       "    }\n",
       "\n",
       "    .dataframe thead th {\n",
       "        text-align: right;\n",
       "    }\n",
       "</style>\n",
       "<table border=\"1\" class=\"dataframe\">\n",
       "  <thead>\n",
       "    <tr style=\"text-align: right;\">\n",
       "      <th></th>\n",
       "      <th>agent_entitlement_client_name</th>\n",
       "      <th>agent_entitlement_access_key</th>\n",
       "      <th>channel</th>\n",
       "      <th>companytracking_clientid</th>\n",
       "      <th>companytracking_companyid</th>\n",
       "      <th>companytracking_companyname</th>\n",
       "      <th>companytracking_multitenantid</th>\n",
       "      <th>entry_id</th>\n",
       "      <th>entry_order</th>\n",
       "      <th>entry_type</th>\n",
       "      <th>...</th>\n",
       "      <th>load_timestamp</th>\n",
       "      <th>source_system_code</th>\n",
       "      <th>mobile_app_device_type</th>\n",
       "      <th>page_load_elapsed_time</th>\n",
       "      <th>mobile_app_type</th>\n",
       "      <th>session_create_date_cst_timezone_partition</th>\n",
       "      <th>platform_id_y</th>\n",
       "      <th>search_text</th>\n",
       "      <th>search_results</th>\n",
       "      <th>session_created_timestamp</th>\n",
       "    </tr>\n",
       "  </thead>\n",
       "  <tbody>\n",
       "    <tr>\n",
       "      <th>0</th>\n",
       "      <td>Enterprise</td>\n",
       "      <td>00000000-0000-0000-0000-000000000000</td>\n",
       "      <td>Web</td>\n",
       "      <td>1141</td>\n",
       "      <td>jci</td>\n",
       "      <td>Johnson Controls Inc</td>\n",
       "      <td>NaN</td>\n",
       "      <td>2584351</td>\n",
       "      <td>3</td>\n",
       "      <td>Click Unit Link</td>\n",
       "      <td>...</td>\n",
       "      <td>NaN</td>\n",
       "      <td>NaN</td>\n",
       "      <td>NaN</td>\n",
       "      <td>NaN</td>\n",
       "      <td>NaN</td>\n",
       "      <td>NaT</td>\n",
       "      <td>NaN</td>\n",
       "      <td>NaN</td>\n",
       "      <td>NaN</td>\n",
       "      <td>NaT</td>\n",
       "    </tr>\n",
       "    <tr>\n",
       "      <th>1</th>\n",
       "      <td>Enterprise</td>\n",
       "      <td>00000000-0000-0000-0000-000000000000</td>\n",
       "      <td>Web</td>\n",
       "      <td>8666</td>\n",
       "      <td>bestbuy</td>\n",
       "      <td>Best Buy</td>\n",
       "      <td>NaN</td>\n",
       "      <td>2657214</td>\n",
       "      <td>6</td>\n",
       "      <td>Click Unit Link</td>\n",
       "      <td>...</td>\n",
       "      <td>NaN</td>\n",
       "      <td>NaN</td>\n",
       "      <td>NaN</td>\n",
       "      <td>NaN</td>\n",
       "      <td>NaN</td>\n",
       "      <td>NaT</td>\n",
       "      <td>NaN</td>\n",
       "      <td>NaN</td>\n",
       "      <td>NaN</td>\n",
       "      <td>NaT</td>\n",
       "    </tr>\n",
       "    <tr>\n",
       "      <th>2</th>\n",
       "      <td>Enterprise</td>\n",
       "      <td>00000000-0000-0000-0000-000000000000</td>\n",
       "      <td>Web</td>\n",
       "      <td>8053</td>\n",
       "      <td>sodexo</td>\n",
       "      <td>sodexo</td>\n",
       "      <td>NaN</td>\n",
       "      <td>2743663</td>\n",
       "      <td>4</td>\n",
       "      <td>Click Unit Link</td>\n",
       "      <td>...</td>\n",
       "      <td>NaN</td>\n",
       "      <td>NaN</td>\n",
       "      <td>NaN</td>\n",
       "      <td>NaN</td>\n",
       "      <td>NaN</td>\n",
       "      <td>NaT</td>\n",
       "      <td>NaN</td>\n",
       "      <td>NaN</td>\n",
       "      <td>NaN</td>\n",
       "      <td>NaT</td>\n",
       "    </tr>\n",
       "    <tr>\n",
       "      <th>3</th>\n",
       "      <td>Enterprise</td>\n",
       "      <td>00000000-0000-0000-0000-000000000000</td>\n",
       "      <td>Web</td>\n",
       "      <td>8053</td>\n",
       "      <td>sodexo</td>\n",
       "      <td>sodexo</td>\n",
       "      <td>NaN</td>\n",
       "      <td>2743662</td>\n",
       "      <td>3</td>\n",
       "      <td>Click Unit Link</td>\n",
       "      <td>...</td>\n",
       "      <td>NaN</td>\n",
       "      <td>NaN</td>\n",
       "      <td>NaN</td>\n",
       "      <td>NaN</td>\n",
       "      <td>NaN</td>\n",
       "      <td>NaT</td>\n",
       "      <td>NaN</td>\n",
       "      <td>NaN</td>\n",
       "      <td>NaN</td>\n",
       "      <td>NaT</td>\n",
       "    </tr>\n",
       "    <tr>\n",
       "      <th>4</th>\n",
       "      <td>Huntington Ingalls Industries Inc.</td>\n",
       "      <td>376b48f5-f9f3-4911-9e73-7d40c25b47c7</td>\n",
       "      <td>Web</td>\n",
       "      <td>15757</td>\n",
       "      <td>hii</td>\n",
       "      <td>Huntington Ingalls Industries</td>\n",
       "      <td>NaN</td>\n",
       "      <td>10566463</td>\n",
       "      <td>2</td>\n",
       "      <td>Typed Input</td>\n",
       "      <td>...</td>\n",
       "      <td>NaN</td>\n",
       "      <td>NaN</td>\n",
       "      <td>NaN</td>\n",
       "      <td>NaN</td>\n",
       "      <td>NaN</td>\n",
       "      <td>NaT</td>\n",
       "      <td>NaN</td>\n",
       "      <td>NaN</td>\n",
       "      <td>NaN</td>\n",
       "      <td>NaT</td>\n",
       "    </tr>\n",
       "  </tbody>\n",
       "</table>\n",
       "<p>5 rows × 170 columns</p>\n",
       "</div>"
      ],
      "text/plain": [
       "        agent_entitlement_client_name          agent_entitlement_access_key  \\\n",
       "0                          Enterprise  00000000-0000-0000-0000-000000000000   \n",
       "1                          Enterprise  00000000-0000-0000-0000-000000000000   \n",
       "2                          Enterprise  00000000-0000-0000-0000-000000000000   \n",
       "3                          Enterprise  00000000-0000-0000-0000-000000000000   \n",
       "4  Huntington Ingalls Industries Inc.  376b48f5-f9f3-4911-9e73-7d40c25b47c7   \n",
       "\n",
       "  channel  companytracking_clientid companytracking_companyid  \\\n",
       "0     Web                      1141                       jci   \n",
       "1     Web                      8666                   bestbuy   \n",
       "2     Web                      8053                    sodexo   \n",
       "3     Web                      8053                    sodexo   \n",
       "4     Web                     15757                       hii   \n",
       "\n",
       "     companytracking_companyname  companytracking_multitenantid  entry_id  \\\n",
       "0           Johnson Controls Inc                            NaN   2584351   \n",
       "1                       Best Buy                            NaN   2657214   \n",
       "2                         sodexo                            NaN   2743663   \n",
       "3                         sodexo                            NaN   2743662   \n",
       "4  Huntington Ingalls Industries                            NaN  10566463   \n",
       "\n",
       "   entry_order       entry_type  ... load_timestamp  source_system_code  \\\n",
       "0            3  Click Unit Link  ...            NaN                 NaN   \n",
       "1            6  Click Unit Link  ...            NaN                 NaN   \n",
       "2            4  Click Unit Link  ...            NaN                 NaN   \n",
       "3            3  Click Unit Link  ...            NaN                 NaN   \n",
       "4            2      Typed Input  ...            NaN                 NaN   \n",
       "\n",
       "  mobile_app_device_type page_load_elapsed_time mobile_app_type  \\\n",
       "0                    NaN                    NaN             NaN   \n",
       "1                    NaN                    NaN             NaN   \n",
       "2                    NaN                    NaN             NaN   \n",
       "3                    NaN                    NaN             NaN   \n",
       "4                    NaN                    NaN             NaN   \n",
       "\n",
       "  session_create_date_cst_timezone_partition platform_id_y search_text  \\\n",
       "0                                        NaT           NaN         NaN   \n",
       "1                                        NaT           NaN         NaN   \n",
       "2                                        NaT           NaN         NaN   \n",
       "3                                        NaT           NaN         NaN   \n",
       "4                                        NaT           NaN         NaN   \n",
       "\n",
       "  search_results  session_created_timestamp  \n",
       "0            NaN                        NaT  \n",
       "1            NaN                        NaT  \n",
       "2            NaN                        NaT  \n",
       "3            NaN                        NaT  \n",
       "4            NaN                        NaT  \n",
       "\n",
       "[5 rows x 170 columns]"
      ]
     },
     "execution_count": 28,
     "metadata": {},
     "output_type": "execute_result"
    }
   ],
   "source": [
    "df_combined_web_iva_search.head()"
   ]
  },
  {
   "cell_type": "code",
   "execution_count": 30,
   "metadata": {},
   "outputs": [],
   "source": [
    "monthly_counts_1 = df_combined_web_iva_search.resample('M', on='session_created_timestamp').count()"
   ]
  },
  {
   "cell_type": "code",
   "execution_count": 31,
   "metadata": {},
   "outputs": [
    {
     "data": {
      "text/html": [
       "<div>\n",
       "<style scoped>\n",
       "    .dataframe tbody tr th:only-of-type {\n",
       "        vertical-align: middle;\n",
       "    }\n",
       "\n",
       "    .dataframe tbody tr th {\n",
       "        vertical-align: top;\n",
       "    }\n",
       "\n",
       "    .dataframe thead th {\n",
       "        text-align: right;\n",
       "    }\n",
       "</style>\n",
       "<table border=\"1\" class=\"dataframe\">\n",
       "  <thead>\n",
       "    <tr style=\"text-align: right;\">\n",
       "      <th></th>\n",
       "      <th>agent_entitlement_client_name</th>\n",
       "      <th>agent_entitlement_access_key</th>\n",
       "      <th>channel</th>\n",
       "      <th>companytracking_clientid</th>\n",
       "      <th>companytracking_companyid</th>\n",
       "      <th>companytracking_companyname</th>\n",
       "      <th>companytracking_multitenantid</th>\n",
       "      <th>entry_id</th>\n",
       "      <th>entry_order</th>\n",
       "      <th>entry_type</th>\n",
       "      <th>...</th>\n",
       "      <th>load_timestamp</th>\n",
       "      <th>source_system_code</th>\n",
       "      <th>mobile_app_device_type</th>\n",
       "      <th>page_load_elapsed_time</th>\n",
       "      <th>mobile_app_type</th>\n",
       "      <th>session_create_date_cst_timezone_partition</th>\n",
       "      <th>platform_id_y</th>\n",
       "      <th>search_text</th>\n",
       "      <th>search_results</th>\n",
       "      <th>session_created_timestamp</th>\n",
       "    </tr>\n",
       "    <tr>\n",
       "      <th>session_created_timestamp</th>\n",
       "      <th></th>\n",
       "      <th></th>\n",
       "      <th></th>\n",
       "      <th></th>\n",
       "      <th></th>\n",
       "      <th></th>\n",
       "      <th></th>\n",
       "      <th></th>\n",
       "      <th></th>\n",
       "      <th></th>\n",
       "      <th></th>\n",
       "      <th></th>\n",
       "      <th></th>\n",
       "      <th></th>\n",
       "      <th></th>\n",
       "      <th></th>\n",
       "      <th></th>\n",
       "      <th></th>\n",
       "      <th></th>\n",
       "      <th></th>\n",
       "      <th></th>\n",
       "    </tr>\n",
       "  </thead>\n",
       "  <tbody>\n",
       "    <tr>\n",
       "      <th>2018-02-28</th>\n",
       "      <td>4</td>\n",
       "      <td>4</td>\n",
       "      <td>4</td>\n",
       "      <td>4</td>\n",
       "      <td>4</td>\n",
       "      <td>4</td>\n",
       "      <td>0</td>\n",
       "      <td>4</td>\n",
       "      <td>4</td>\n",
       "      <td>4</td>\n",
       "      <td>...</td>\n",
       "      <td>0</td>\n",
       "      <td>0</td>\n",
       "      <td>0</td>\n",
       "      <td>0</td>\n",
       "      <td>0</td>\n",
       "      <td>0</td>\n",
       "      <td>4</td>\n",
       "      <td>4</td>\n",
       "      <td>4</td>\n",
       "      <td>4</td>\n",
       "    </tr>\n",
       "    <tr>\n",
       "      <th>2018-03-31</th>\n",
       "      <td>0</td>\n",
       "      <td>0</td>\n",
       "      <td>0</td>\n",
       "      <td>0</td>\n",
       "      <td>0</td>\n",
       "      <td>0</td>\n",
       "      <td>0</td>\n",
       "      <td>0</td>\n",
       "      <td>0</td>\n",
       "      <td>0</td>\n",
       "      <td>...</td>\n",
       "      <td>0</td>\n",
       "      <td>0</td>\n",
       "      <td>0</td>\n",
       "      <td>0</td>\n",
       "      <td>0</td>\n",
       "      <td>0</td>\n",
       "      <td>0</td>\n",
       "      <td>0</td>\n",
       "      <td>0</td>\n",
       "      <td>0</td>\n",
       "    </tr>\n",
       "    <tr>\n",
       "      <th>2018-04-30</th>\n",
       "      <td>1</td>\n",
       "      <td>1</td>\n",
       "      <td>1</td>\n",
       "      <td>1</td>\n",
       "      <td>1</td>\n",
       "      <td>1</td>\n",
       "      <td>0</td>\n",
       "      <td>1</td>\n",
       "      <td>1</td>\n",
       "      <td>1</td>\n",
       "      <td>...</td>\n",
       "      <td>0</td>\n",
       "      <td>0</td>\n",
       "      <td>0</td>\n",
       "      <td>0</td>\n",
       "      <td>0</td>\n",
       "      <td>0</td>\n",
       "      <td>1</td>\n",
       "      <td>1</td>\n",
       "      <td>1</td>\n",
       "      <td>1</td>\n",
       "    </tr>\n",
       "    <tr>\n",
       "      <th>2018-05-31</th>\n",
       "      <td>0</td>\n",
       "      <td>0</td>\n",
       "      <td>0</td>\n",
       "      <td>0</td>\n",
       "      <td>0</td>\n",
       "      <td>0</td>\n",
       "      <td>0</td>\n",
       "      <td>0</td>\n",
       "      <td>0</td>\n",
       "      <td>0</td>\n",
       "      <td>...</td>\n",
       "      <td>0</td>\n",
       "      <td>0</td>\n",
       "      <td>0</td>\n",
       "      <td>0</td>\n",
       "      <td>0</td>\n",
       "      <td>0</td>\n",
       "      <td>0</td>\n",
       "      <td>0</td>\n",
       "      <td>0</td>\n",
       "      <td>0</td>\n",
       "    </tr>\n",
       "    <tr>\n",
       "      <th>2018-06-30</th>\n",
       "      <td>0</td>\n",
       "      <td>0</td>\n",
       "      <td>0</td>\n",
       "      <td>0</td>\n",
       "      <td>0</td>\n",
       "      <td>0</td>\n",
       "      <td>0</td>\n",
       "      <td>0</td>\n",
       "      <td>0</td>\n",
       "      <td>0</td>\n",
       "      <td>...</td>\n",
       "      <td>0</td>\n",
       "      <td>0</td>\n",
       "      <td>0</td>\n",
       "      <td>0</td>\n",
       "      <td>0</td>\n",
       "      <td>0</td>\n",
       "      <td>0</td>\n",
       "      <td>0</td>\n",
       "      <td>0</td>\n",
       "      <td>0</td>\n",
       "    </tr>\n",
       "    <tr>\n",
       "      <th>...</th>\n",
       "      <td>...</td>\n",
       "      <td>...</td>\n",
       "      <td>...</td>\n",
       "      <td>...</td>\n",
       "      <td>...</td>\n",
       "      <td>...</td>\n",
       "      <td>...</td>\n",
       "      <td>...</td>\n",
       "      <td>...</td>\n",
       "      <td>...</td>\n",
       "      <td>...</td>\n",
       "      <td>...</td>\n",
       "      <td>...</td>\n",
       "      <td>...</td>\n",
       "      <td>...</td>\n",
       "      <td>...</td>\n",
       "      <td>...</td>\n",
       "      <td>...</td>\n",
       "      <td>...</td>\n",
       "      <td>...</td>\n",
       "      <td>...</td>\n",
       "    </tr>\n",
       "    <tr>\n",
       "      <th>2022-11-30</th>\n",
       "      <td>4590</td>\n",
       "      <td>4590</td>\n",
       "      <td>4590</td>\n",
       "      <td>4590</td>\n",
       "      <td>4590</td>\n",
       "      <td>4590</td>\n",
       "      <td>0</td>\n",
       "      <td>4590</td>\n",
       "      <td>4590</td>\n",
       "      <td>4590</td>\n",
       "      <td>...</td>\n",
       "      <td>4556</td>\n",
       "      <td>4556</td>\n",
       "      <td>0</td>\n",
       "      <td>4552</td>\n",
       "      <td>4556</td>\n",
       "      <td>4556</td>\n",
       "      <td>4590</td>\n",
       "      <td>4590</td>\n",
       "      <td>4590</td>\n",
       "      <td>4590</td>\n",
       "    </tr>\n",
       "    <tr>\n",
       "      <th>2022-12-31</th>\n",
       "      <td>3661</td>\n",
       "      <td>3661</td>\n",
       "      <td>3661</td>\n",
       "      <td>3661</td>\n",
       "      <td>3661</td>\n",
       "      <td>3661</td>\n",
       "      <td>0</td>\n",
       "      <td>3661</td>\n",
       "      <td>3661</td>\n",
       "      <td>3661</td>\n",
       "      <td>...</td>\n",
       "      <td>3606</td>\n",
       "      <td>3606</td>\n",
       "      <td>0</td>\n",
       "      <td>3601</td>\n",
       "      <td>3606</td>\n",
       "      <td>3606</td>\n",
       "      <td>3661</td>\n",
       "      <td>3661</td>\n",
       "      <td>3661</td>\n",
       "      <td>3661</td>\n",
       "    </tr>\n",
       "    <tr>\n",
       "      <th>2023-01-31</th>\n",
       "      <td>6271</td>\n",
       "      <td>6271</td>\n",
       "      <td>6271</td>\n",
       "      <td>6271</td>\n",
       "      <td>6271</td>\n",
       "      <td>6271</td>\n",
       "      <td>0</td>\n",
       "      <td>6271</td>\n",
       "      <td>6271</td>\n",
       "      <td>6271</td>\n",
       "      <td>...</td>\n",
       "      <td>6223</td>\n",
       "      <td>6223</td>\n",
       "      <td>0</td>\n",
       "      <td>6207</td>\n",
       "      <td>6223</td>\n",
       "      <td>6223</td>\n",
       "      <td>6271</td>\n",
       "      <td>6271</td>\n",
       "      <td>6271</td>\n",
       "      <td>6271</td>\n",
       "    </tr>\n",
       "    <tr>\n",
       "      <th>2023-02-28</th>\n",
       "      <td>1527</td>\n",
       "      <td>1527</td>\n",
       "      <td>1527</td>\n",
       "      <td>1527</td>\n",
       "      <td>1527</td>\n",
       "      <td>1527</td>\n",
       "      <td>0</td>\n",
       "      <td>1527</td>\n",
       "      <td>1527</td>\n",
       "      <td>1527</td>\n",
       "      <td>...</td>\n",
       "      <td>1481</td>\n",
       "      <td>1481</td>\n",
       "      <td>0</td>\n",
       "      <td>1481</td>\n",
       "      <td>1481</td>\n",
       "      <td>1481</td>\n",
       "      <td>1527</td>\n",
       "      <td>1527</td>\n",
       "      <td>1527</td>\n",
       "      <td>1527</td>\n",
       "    </tr>\n",
       "    <tr>\n",
       "      <th>2023-03-31</th>\n",
       "      <td>1638</td>\n",
       "      <td>1638</td>\n",
       "      <td>1638</td>\n",
       "      <td>1638</td>\n",
       "      <td>1638</td>\n",
       "      <td>1638</td>\n",
       "      <td>0</td>\n",
       "      <td>1638</td>\n",
       "      <td>1638</td>\n",
       "      <td>1638</td>\n",
       "      <td>...</td>\n",
       "      <td>1613</td>\n",
       "      <td>1613</td>\n",
       "      <td>0</td>\n",
       "      <td>1609</td>\n",
       "      <td>1613</td>\n",
       "      <td>1613</td>\n",
       "      <td>1638</td>\n",
       "      <td>1638</td>\n",
       "      <td>1638</td>\n",
       "      <td>1638</td>\n",
       "    </tr>\n",
       "  </tbody>\n",
       "</table>\n",
       "<p>62 rows × 170 columns</p>\n",
       "</div>"
      ],
      "text/plain": [
       "                           agent_entitlement_client_name  \\\n",
       "session_created_timestamp                                  \n",
       "2018-02-28                                             4   \n",
       "2018-03-31                                             0   \n",
       "2018-04-30                                             1   \n",
       "2018-05-31                                             0   \n",
       "2018-06-30                                             0   \n",
       "...                                                  ...   \n",
       "2022-11-30                                          4590   \n",
       "2022-12-31                                          3661   \n",
       "2023-01-31                                          6271   \n",
       "2023-02-28                                          1527   \n",
       "2023-03-31                                          1638   \n",
       "\n",
       "                           agent_entitlement_access_key  channel  \\\n",
       "session_created_timestamp                                          \n",
       "2018-02-28                                            4        4   \n",
       "2018-03-31                                            0        0   \n",
       "2018-04-30                                            1        1   \n",
       "2018-05-31                                            0        0   \n",
       "2018-06-30                                            0        0   \n",
       "...                                                 ...      ...   \n",
       "2022-11-30                                         4590     4590   \n",
       "2022-12-31                                         3661     3661   \n",
       "2023-01-31                                         6271     6271   \n",
       "2023-02-28                                         1527     1527   \n",
       "2023-03-31                                         1638     1638   \n",
       "\n",
       "                           companytracking_clientid  \\\n",
       "session_created_timestamp                             \n",
       "2018-02-28                                        4   \n",
       "2018-03-31                                        0   \n",
       "2018-04-30                                        1   \n",
       "2018-05-31                                        0   \n",
       "2018-06-30                                        0   \n",
       "...                                             ...   \n",
       "2022-11-30                                     4590   \n",
       "2022-12-31                                     3661   \n",
       "2023-01-31                                     6271   \n",
       "2023-02-28                                     1527   \n",
       "2023-03-31                                     1638   \n",
       "\n",
       "                           companytracking_companyid  \\\n",
       "session_created_timestamp                              \n",
       "2018-02-28                                         4   \n",
       "2018-03-31                                         0   \n",
       "2018-04-30                                         1   \n",
       "2018-05-31                                         0   \n",
       "2018-06-30                                         0   \n",
       "...                                              ...   \n",
       "2022-11-30                                      4590   \n",
       "2022-12-31                                      3661   \n",
       "2023-01-31                                      6271   \n",
       "2023-02-28                                      1527   \n",
       "2023-03-31                                      1638   \n",
       "\n",
       "                           companytracking_companyname  \\\n",
       "session_created_timestamp                                \n",
       "2018-02-28                                           4   \n",
       "2018-03-31                                           0   \n",
       "2018-04-30                                           1   \n",
       "2018-05-31                                           0   \n",
       "2018-06-30                                           0   \n",
       "...                                                ...   \n",
       "2022-11-30                                        4590   \n",
       "2022-12-31                                        3661   \n",
       "2023-01-31                                        6271   \n",
       "2023-02-28                                        1527   \n",
       "2023-03-31                                        1638   \n",
       "\n",
       "                           companytracking_multitenantid  entry_id  \\\n",
       "session_created_timestamp                                            \n",
       "2018-02-28                                             0         4   \n",
       "2018-03-31                                             0         0   \n",
       "2018-04-30                                             0         1   \n",
       "2018-05-31                                             0         0   \n",
       "2018-06-30                                             0         0   \n",
       "...                                                  ...       ...   \n",
       "2022-11-30                                             0      4590   \n",
       "2022-12-31                                             0      3661   \n",
       "2023-01-31                                             0      6271   \n",
       "2023-02-28                                             0      1527   \n",
       "2023-03-31                                             0      1638   \n",
       "\n",
       "                           entry_order  entry_type  ...  load_timestamp  \\\n",
       "session_created_timestamp                           ...                   \n",
       "2018-02-28                           4           4  ...               0   \n",
       "2018-03-31                           0           0  ...               0   \n",
       "2018-04-30                           1           1  ...               0   \n",
       "2018-05-31                           0           0  ...               0   \n",
       "2018-06-30                           0           0  ...               0   \n",
       "...                                ...         ...  ...             ...   \n",
       "2022-11-30                        4590        4590  ...            4556   \n",
       "2022-12-31                        3661        3661  ...            3606   \n",
       "2023-01-31                        6271        6271  ...            6223   \n",
       "2023-02-28                        1527        1527  ...            1481   \n",
       "2023-03-31                        1638        1638  ...            1613   \n",
       "\n",
       "                           source_system_code  mobile_app_device_type  \\\n",
       "session_created_timestamp                                               \n",
       "2018-02-28                                  0                       0   \n",
       "2018-03-31                                  0                       0   \n",
       "2018-04-30                                  0                       0   \n",
       "2018-05-31                                  0                       0   \n",
       "2018-06-30                                  0                       0   \n",
       "...                                       ...                     ...   \n",
       "2022-11-30                               4556                       0   \n",
       "2022-12-31                               3606                       0   \n",
       "2023-01-31                               6223                       0   \n",
       "2023-02-28                               1481                       0   \n",
       "2023-03-31                               1613                       0   \n",
       "\n",
       "                           page_load_elapsed_time  mobile_app_type  \\\n",
       "session_created_timestamp                                            \n",
       "2018-02-28                                      0                0   \n",
       "2018-03-31                                      0                0   \n",
       "2018-04-30                                      0                0   \n",
       "2018-05-31                                      0                0   \n",
       "2018-06-30                                      0                0   \n",
       "...                                           ...              ...   \n",
       "2022-11-30                                   4552             4556   \n",
       "2022-12-31                                   3601             3606   \n",
       "2023-01-31                                   6207             6223   \n",
       "2023-02-28                                   1481             1481   \n",
       "2023-03-31                                   1609             1613   \n",
       "\n",
       "                           session_create_date_cst_timezone_partition  \\\n",
       "session_created_timestamp                                               \n",
       "2018-02-28                                                          0   \n",
       "2018-03-31                                                          0   \n",
       "2018-04-30                                                          0   \n",
       "2018-05-31                                                          0   \n",
       "2018-06-30                                                          0   \n",
       "...                                                               ...   \n",
       "2022-11-30                                                       4556   \n",
       "2022-12-31                                                       3606   \n",
       "2023-01-31                                                       6223   \n",
       "2023-02-28                                                       1481   \n",
       "2023-03-31                                                       1613   \n",
       "\n",
       "                           platform_id_y  search_text  search_results  \\\n",
       "session_created_timestamp                                               \n",
       "2018-02-28                             4            4               4   \n",
       "2018-03-31                             0            0               0   \n",
       "2018-04-30                             1            1               1   \n",
       "2018-05-31                             0            0               0   \n",
       "2018-06-30                             0            0               0   \n",
       "...                                  ...          ...             ...   \n",
       "2022-11-30                          4590         4590            4590   \n",
       "2022-12-31                          3661         3661            3661   \n",
       "2023-01-31                          6271         6271            6271   \n",
       "2023-02-28                          1527         1527            1527   \n",
       "2023-03-31                          1638         1638            1638   \n",
       "\n",
       "                           session_created_timestamp  \n",
       "session_created_timestamp                             \n",
       "2018-02-28                                         4  \n",
       "2018-03-31                                         0  \n",
       "2018-04-30                                         1  \n",
       "2018-05-31                                         0  \n",
       "2018-06-30                                         0  \n",
       "...                                              ...  \n",
       "2022-11-30                                      4590  \n",
       "2022-12-31                                      3661  \n",
       "2023-01-31                                      6271  \n",
       "2023-02-28                                      1527  \n",
       "2023-03-31                                      1638  \n",
       "\n",
       "[62 rows x 170 columns]"
      ]
     },
     "execution_count": 31,
     "metadata": {},
     "output_type": "execute_result"
    }
   ],
   "source": [
    "monthly_counts_1"
   ]
  },
  {
   "cell_type": "code",
   "execution_count": 138,
   "metadata": {},
   "outputs": [],
   "source": [
    "# from pandas_profiling import ProfileReport\n",
    "# prof = ProfileReport(df_combined_web_iva_search)\n",
    "# prof.to_file(output_file='output.html')"
   ]
  },
  {
   "cell_type": "code",
   "execution_count": 139,
   "metadata": {},
   "outputs": [],
   "source": [
    "# df_combined_web_iva_search.columns.to_list() # 'input', 'session_id','person_internal_id','client_id',\n",
    "# 'yyyymm',"
   ]
  },
  {
   "cell_type": "code",
   "execution_count": 41,
   "metadata": {},
   "outputs": [],
   "source": [
    "df_combined_web_iva_search2 = df_combined_web_iva_search[['input', 'session_id','person_internal_id',\n",
    "'client_id','yyyymm','person_id','person_birth_date', 'person_age', 'person_gender', \n",
    "'person_employment_status','person_state', 'person_union_vs_non_union', 'person_salary',\n",
    "'person_eeo',\n",
    "'global_session_id',\n",
    "'web_session_id',\n",
    "'page_name',\n",
    "'business_page_name',\n",
    "'page_domain',\n",
    "'page_type_code',\n",
    "'page_type',\n",
    "'page_web_type_description',\n",
    "'browser_language',\n",
    "'page_visit_duration',\n",
    "'page_process_name',\n",
    "'page_process_detail',\n",
    " 'session_created_timestamp',                                                         \n",
    "'search_text',\n",
    "'search_results']]"
   ]
  },
  {
   "cell_type": "code",
   "execution_count": 42,
   "metadata": {},
   "outputs": [
    {
     "data": {
      "text/html": [
       "<div>\n",
       "<style scoped>\n",
       "    .dataframe tbody tr th:only-of-type {\n",
       "        vertical-align: middle;\n",
       "    }\n",
       "\n",
       "    .dataframe tbody tr th {\n",
       "        vertical-align: top;\n",
       "    }\n",
       "\n",
       "    .dataframe thead th {\n",
       "        text-align: right;\n",
       "    }\n",
       "</style>\n",
       "<table border=\"1\" class=\"dataframe\">\n",
       "  <thead>\n",
       "    <tr style=\"text-align: right;\">\n",
       "      <th></th>\n",
       "      <th>input</th>\n",
       "      <th>session_id</th>\n",
       "      <th>person_internal_id</th>\n",
       "      <th>client_id</th>\n",
       "      <th>yyyymm</th>\n",
       "      <th>person_id</th>\n",
       "      <th>person_birth_date</th>\n",
       "      <th>person_age</th>\n",
       "      <th>person_gender</th>\n",
       "      <th>person_employment_status</th>\n",
       "      <th>...</th>\n",
       "      <th>page_type_code</th>\n",
       "      <th>page_type</th>\n",
       "      <th>page_web_type_description</th>\n",
       "      <th>browser_language</th>\n",
       "      <th>page_visit_duration</th>\n",
       "      <th>page_process_name</th>\n",
       "      <th>page_process_detail</th>\n",
       "      <th>session_created_timestamp</th>\n",
       "      <th>search_text</th>\n",
       "      <th>search_results</th>\n",
       "    </tr>\n",
       "  </thead>\n",
       "  <tbody>\n",
       "    <tr>\n",
       "      <th>0</th>\n",
       "      <td>Benefits Eligibility For Stepchildren</td>\n",
       "      <td>943111</td>\n",
       "      <td>0</td>\n",
       "      <td>1141</td>\n",
       "      <td>1970-01-01 00:00:00.000201801</td>\n",
       "      <td>NaN</td>\n",
       "      <td>NaN</td>\n",
       "      <td>NaN</td>\n",
       "      <td>NaN</td>\n",
       "      <td>NaN</td>\n",
       "      <td>...</td>\n",
       "      <td>NaN</td>\n",
       "      <td>NaN</td>\n",
       "      <td>NaN</td>\n",
       "      <td>NaN</td>\n",
       "      <td>NaN</td>\n",
       "      <td>NaN</td>\n",
       "      <td>NaN</td>\n",
       "      <td>NaT</td>\n",
       "      <td>NaN</td>\n",
       "      <td>NaN</td>\n",
       "    </tr>\n",
       "    <tr>\n",
       "      <th>1</th>\n",
       "      <td>Benefits Eligibility For Children</td>\n",
       "      <td>967684</td>\n",
       "      <td>319320025</td>\n",
       "      <td>8666</td>\n",
       "      <td>1970-01-01 00:00:00.000201801</td>\n",
       "      <td>NaN</td>\n",
       "      <td>NaN</td>\n",
       "      <td>NaN</td>\n",
       "      <td>NaN</td>\n",
       "      <td>NaN</td>\n",
       "      <td>...</td>\n",
       "      <td>NaN</td>\n",
       "      <td>NaN</td>\n",
       "      <td>NaN</td>\n",
       "      <td>NaN</td>\n",
       "      <td>NaN</td>\n",
       "      <td>NaN</td>\n",
       "      <td>NaN</td>\n",
       "      <td>NaT</td>\n",
       "      <td>NaN</td>\n",
       "      <td>NaN</td>\n",
       "    </tr>\n",
       "    <tr>\n",
       "      <th>2</th>\n",
       "      <td>Benefits Eligibility For Children</td>\n",
       "      <td>997133</td>\n",
       "      <td>26800016</td>\n",
       "      <td>8053</td>\n",
       "      <td>1970-01-01 00:00:00.000201801</td>\n",
       "      <td>NaN</td>\n",
       "      <td>NaN</td>\n",
       "      <td>NaN</td>\n",
       "      <td>NaN</td>\n",
       "      <td>NaN</td>\n",
       "      <td>...</td>\n",
       "      <td>NaN</td>\n",
       "      <td>NaN</td>\n",
       "      <td>NaN</td>\n",
       "      <td>NaN</td>\n",
       "      <td>NaN</td>\n",
       "      <td>NaN</td>\n",
       "      <td>NaN</td>\n",
       "      <td>NaT</td>\n",
       "      <td>NaN</td>\n",
       "      <td>NaN</td>\n",
       "    </tr>\n",
       "    <tr>\n",
       "      <th>3</th>\n",
       "      <td>Benefits Eligibility For Children</td>\n",
       "      <td>997133</td>\n",
       "      <td>26800016</td>\n",
       "      <td>8053</td>\n",
       "      <td>1970-01-01 00:00:00.000201801</td>\n",
       "      <td>NaN</td>\n",
       "      <td>NaN</td>\n",
       "      <td>NaN</td>\n",
       "      <td>NaN</td>\n",
       "      <td>NaN</td>\n",
       "      <td>...</td>\n",
       "      <td>NaN</td>\n",
       "      <td>NaN</td>\n",
       "      <td>NaN</td>\n",
       "      <td>NaN</td>\n",
       "      <td>NaN</td>\n",
       "      <td>NaN</td>\n",
       "      <td>NaN</td>\n",
       "      <td>NaT</td>\n",
       "      <td>NaN</td>\n",
       "      <td>NaN</td>\n",
       "    </tr>\n",
       "    <tr>\n",
       "      <th>4</th>\n",
       "      <td>It says we now have to verify my daughter by A...</td>\n",
       "      <td>4306768</td>\n",
       "      <td>391930089</td>\n",
       "      <td>15757</td>\n",
       "      <td>1970-01-01 00:00:00.000201907</td>\n",
       "      <td>NaN</td>\n",
       "      <td>NaN</td>\n",
       "      <td>NaN</td>\n",
       "      <td>NaN</td>\n",
       "      <td>NaN</td>\n",
       "      <td>...</td>\n",
       "      <td>NaN</td>\n",
       "      <td>NaN</td>\n",
       "      <td>NaN</td>\n",
       "      <td>NaN</td>\n",
       "      <td>NaN</td>\n",
       "      <td>NaN</td>\n",
       "      <td>NaN</td>\n",
       "      <td>NaT</td>\n",
       "      <td>NaN</td>\n",
       "      <td>NaN</td>\n",
       "    </tr>\n",
       "  </tbody>\n",
       "</table>\n",
       "<p>5 rows × 29 columns</p>\n",
       "</div>"
      ],
      "text/plain": [
       "                                               input  session_id  \\\n",
       "0              Benefits Eligibility For Stepchildren      943111   \n",
       "1                  Benefits Eligibility For Children      967684   \n",
       "2                  Benefits Eligibility For Children      997133   \n",
       "3                  Benefits Eligibility For Children      997133   \n",
       "4  It says we now have to verify my daughter by A...     4306768   \n",
       "\n",
       "   person_internal_id  client_id                        yyyymm person_id  \\\n",
       "0                   0       1141 1970-01-01 00:00:00.000201801       NaN   \n",
       "1           319320025       8666 1970-01-01 00:00:00.000201801       NaN   \n",
       "2            26800016       8053 1970-01-01 00:00:00.000201801       NaN   \n",
       "3            26800016       8053 1970-01-01 00:00:00.000201801       NaN   \n",
       "4           391930089      15757 1970-01-01 00:00:00.000201907       NaN   \n",
       "\n",
       "  person_birth_date  person_age person_gender person_employment_status  ...  \\\n",
       "0               NaN         NaN           NaN                      NaN  ...   \n",
       "1               NaN         NaN           NaN                      NaN  ...   \n",
       "2               NaN         NaN           NaN                      NaN  ...   \n",
       "3               NaN         NaN           NaN                      NaN  ...   \n",
       "4               NaN         NaN           NaN                      NaN  ...   \n",
       "\n",
       "  page_type_code page_type page_web_type_description browser_language  \\\n",
       "0            NaN       NaN                       NaN              NaN   \n",
       "1            NaN       NaN                       NaN              NaN   \n",
       "2            NaN       NaN                       NaN              NaN   \n",
       "3            NaN       NaN                       NaN              NaN   \n",
       "4            NaN       NaN                       NaN              NaN   \n",
       "\n",
       "  page_visit_duration page_process_name page_process_detail  \\\n",
       "0                 NaN               NaN                 NaN   \n",
       "1                 NaN               NaN                 NaN   \n",
       "2                 NaN               NaN                 NaN   \n",
       "3                 NaN               NaN                 NaN   \n",
       "4                 NaN               NaN                 NaN   \n",
       "\n",
       "  session_created_timestamp search_text  search_results  \n",
       "0                       NaT         NaN             NaN  \n",
       "1                       NaT         NaN             NaN  \n",
       "2                       NaT         NaN             NaN  \n",
       "3                       NaT         NaN             NaN  \n",
       "4                       NaT         NaN             NaN  \n",
       "\n",
       "[5 rows x 29 columns]"
      ]
     },
     "execution_count": 42,
     "metadata": {},
     "output_type": "execute_result"
    }
   ],
   "source": [
    "df_combined_web_iva_search2.head()"
   ]
  },
  {
   "cell_type": "code",
   "execution_count": 43,
   "metadata": {},
   "outputs": [],
   "source": [
    "df_combined_web_iva_search3 = df_combined_web_iva_search2.fillna('')"
   ]
  },
  {
   "cell_type": "code",
   "execution_count": 44,
   "metadata": {},
   "outputs": [
    {
     "data": {
      "text/html": [
       "<div>\n",
       "<style scoped>\n",
       "    .dataframe tbody tr th:only-of-type {\n",
       "        vertical-align: middle;\n",
       "    }\n",
       "\n",
       "    .dataframe tbody tr th {\n",
       "        vertical-align: top;\n",
       "    }\n",
       "\n",
       "    .dataframe thead th {\n",
       "        text-align: right;\n",
       "    }\n",
       "</style>\n",
       "<table border=\"1\" class=\"dataframe\">\n",
       "  <thead>\n",
       "    <tr style=\"text-align: right;\">\n",
       "      <th></th>\n",
       "      <th>input</th>\n",
       "      <th>session_id</th>\n",
       "      <th>person_internal_id</th>\n",
       "      <th>client_id</th>\n",
       "      <th>yyyymm</th>\n",
       "      <th>person_id</th>\n",
       "      <th>person_birth_date</th>\n",
       "      <th>person_age</th>\n",
       "      <th>person_gender</th>\n",
       "      <th>person_employment_status</th>\n",
       "      <th>...</th>\n",
       "      <th>page_type_code</th>\n",
       "      <th>page_type</th>\n",
       "      <th>page_web_type_description</th>\n",
       "      <th>browser_language</th>\n",
       "      <th>page_visit_duration</th>\n",
       "      <th>page_process_name</th>\n",
       "      <th>page_process_detail</th>\n",
       "      <th>session_created_timestamp</th>\n",
       "      <th>search_text</th>\n",
       "      <th>search_results</th>\n",
       "    </tr>\n",
       "  </thead>\n",
       "  <tbody>\n",
       "    <tr>\n",
       "      <th>0</th>\n",
       "      <td>Benefits Eligibility For Stepchildren</td>\n",
       "      <td>943111</td>\n",
       "      <td>0</td>\n",
       "      <td>1141</td>\n",
       "      <td>1970-01-01 00:00:00.000201801</td>\n",
       "      <td></td>\n",
       "      <td></td>\n",
       "      <td></td>\n",
       "      <td></td>\n",
       "      <td></td>\n",
       "      <td>...</td>\n",
       "      <td></td>\n",
       "      <td></td>\n",
       "      <td></td>\n",
       "      <td></td>\n",
       "      <td></td>\n",
       "      <td></td>\n",
       "      <td></td>\n",
       "      <td>NaT</td>\n",
       "      <td></td>\n",
       "      <td></td>\n",
       "    </tr>\n",
       "    <tr>\n",
       "      <th>1</th>\n",
       "      <td>Benefits Eligibility For Children</td>\n",
       "      <td>967684</td>\n",
       "      <td>319320025</td>\n",
       "      <td>8666</td>\n",
       "      <td>1970-01-01 00:00:00.000201801</td>\n",
       "      <td></td>\n",
       "      <td></td>\n",
       "      <td></td>\n",
       "      <td></td>\n",
       "      <td></td>\n",
       "      <td>...</td>\n",
       "      <td></td>\n",
       "      <td></td>\n",
       "      <td></td>\n",
       "      <td></td>\n",
       "      <td></td>\n",
       "      <td></td>\n",
       "      <td></td>\n",
       "      <td>NaT</td>\n",
       "      <td></td>\n",
       "      <td></td>\n",
       "    </tr>\n",
       "    <tr>\n",
       "      <th>2</th>\n",
       "      <td>Benefits Eligibility For Children</td>\n",
       "      <td>997133</td>\n",
       "      <td>26800016</td>\n",
       "      <td>8053</td>\n",
       "      <td>1970-01-01 00:00:00.000201801</td>\n",
       "      <td></td>\n",
       "      <td></td>\n",
       "      <td></td>\n",
       "      <td></td>\n",
       "      <td></td>\n",
       "      <td>...</td>\n",
       "      <td></td>\n",
       "      <td></td>\n",
       "      <td></td>\n",
       "      <td></td>\n",
       "      <td></td>\n",
       "      <td></td>\n",
       "      <td></td>\n",
       "      <td>NaT</td>\n",
       "      <td></td>\n",
       "      <td></td>\n",
       "    </tr>\n",
       "    <tr>\n",
       "      <th>3</th>\n",
       "      <td>Benefits Eligibility For Children</td>\n",
       "      <td>997133</td>\n",
       "      <td>26800016</td>\n",
       "      <td>8053</td>\n",
       "      <td>1970-01-01 00:00:00.000201801</td>\n",
       "      <td></td>\n",
       "      <td></td>\n",
       "      <td></td>\n",
       "      <td></td>\n",
       "      <td></td>\n",
       "      <td>...</td>\n",
       "      <td></td>\n",
       "      <td></td>\n",
       "      <td></td>\n",
       "      <td></td>\n",
       "      <td></td>\n",
       "      <td></td>\n",
       "      <td></td>\n",
       "      <td>NaT</td>\n",
       "      <td></td>\n",
       "      <td></td>\n",
       "    </tr>\n",
       "    <tr>\n",
       "      <th>4</th>\n",
       "      <td>It says we now have to verify my daughter by A...</td>\n",
       "      <td>4306768</td>\n",
       "      <td>391930089</td>\n",
       "      <td>15757</td>\n",
       "      <td>1970-01-01 00:00:00.000201907</td>\n",
       "      <td></td>\n",
       "      <td></td>\n",
       "      <td></td>\n",
       "      <td></td>\n",
       "      <td></td>\n",
       "      <td>...</td>\n",
       "      <td></td>\n",
       "      <td></td>\n",
       "      <td></td>\n",
       "      <td></td>\n",
       "      <td></td>\n",
       "      <td></td>\n",
       "      <td></td>\n",
       "      <td>NaT</td>\n",
       "      <td></td>\n",
       "      <td></td>\n",
       "    </tr>\n",
       "  </tbody>\n",
       "</table>\n",
       "<p>5 rows × 29 columns</p>\n",
       "</div>"
      ],
      "text/plain": [
       "                                               input  session_id  \\\n",
       "0              Benefits Eligibility For Stepchildren      943111   \n",
       "1                  Benefits Eligibility For Children      967684   \n",
       "2                  Benefits Eligibility For Children      997133   \n",
       "3                  Benefits Eligibility For Children      997133   \n",
       "4  It says we now have to verify my daughter by A...     4306768   \n",
       "\n",
       "   person_internal_id  client_id                        yyyymm person_id  \\\n",
       "0                   0       1141 1970-01-01 00:00:00.000201801             \n",
       "1           319320025       8666 1970-01-01 00:00:00.000201801             \n",
       "2            26800016       8053 1970-01-01 00:00:00.000201801             \n",
       "3            26800016       8053 1970-01-01 00:00:00.000201801             \n",
       "4           391930089      15757 1970-01-01 00:00:00.000201907             \n",
       "\n",
       "  person_birth_date person_age person_gender person_employment_status  ...  \\\n",
       "0                                                                      ...   \n",
       "1                                                                      ...   \n",
       "2                                                                      ...   \n",
       "3                                                                      ...   \n",
       "4                                                                      ...   \n",
       "\n",
       "  page_type_code page_type page_web_type_description browser_language  \\\n",
       "0                                                                       \n",
       "1                                                                       \n",
       "2                                                                       \n",
       "3                                                                       \n",
       "4                                                                       \n",
       "\n",
       "  page_visit_duration page_process_name page_process_detail  \\\n",
       "0                                                             \n",
       "1                                                             \n",
       "2                                                             \n",
       "3                                                             \n",
       "4                                                             \n",
       "\n",
       "  session_created_timestamp search_text search_results  \n",
       "0                       NaT                             \n",
       "1                       NaT                             \n",
       "2                       NaT                             \n",
       "3                       NaT                             \n",
       "4                       NaT                             \n",
       "\n",
       "[5 rows x 29 columns]"
      ]
     },
     "execution_count": 44,
     "metadata": {},
     "output_type": "execute_result"
    }
   ],
   "source": [
    "df_combined_web_iva_search3.head()"
   ]
  },
  {
   "cell_type": "code",
   "execution_count": 45,
   "metadata": {},
   "outputs": [
    {
     "data": {
      "text/plain": [
       "Index(['input', 'session_id', 'person_internal_id', 'client_id', 'yyyymm',\n",
       "       'person_id', 'person_birth_date', 'person_age', 'person_gender',\n",
       "       'person_employment_status', 'person_state', 'person_union_vs_non_union',\n",
       "       'person_salary', 'person_eeo', 'global_session_id', 'web_session_id',\n",
       "       'page_name', 'business_page_name', 'page_domain', 'page_type_code',\n",
       "       'page_type', 'page_web_type_description', 'browser_language',\n",
       "       'page_visit_duration', 'page_process_name', 'page_process_detail',\n",
       "       'session_created_timestamp', 'search_text', 'search_results'],\n",
       "      dtype='object')"
      ]
     },
     "execution_count": 45,
     "metadata": {},
     "output_type": "execute_result"
    }
   ],
   "source": [
    "df_combined_web_iva_search3.columns"
   ]
  },
  {
   "cell_type": "code",
   "execution_count": 46,
   "metadata": {},
   "outputs": [],
   "source": [
    "words_2 = ['senior care', 'elder care', 'geriatric care', 'Aging care', 'elderly-care', 'senior citizen care', 'aging-in-place care', \n",
    " 'elder support', 'senior assistance', 'gerontology care', 'caregiving for the elderly', 'senior health care',\n",
    " 'elderly companion care', 'senior care assistance', 'age related care', 'aged care', 'care for old', 'caring for the elderly',\n",
    " 'care for older people', 'adult daycare', 'adult care', 'old care', 'Golden agers', 'Aged population', 'Aging population', \n",
    "'Elder population', 'Elderly population', 'Retirees', 'Oldsters', 'Elderly residents', 'Senior members', 'Elder statesmen',\n",
    " 'Elder women', 'Elder generation', 'Elderly people', 'Grey generation', 'Third age population', 'Silver generation']\n",
    "\n",
    "df_combined_web_iva_search5= df_combined_web_iva_search3[(df_combined_web_iva_search3['input'].str.contains('|'.join(words_2), case=False, na=False)) \n",
    "                                                            | (df_combined_web_iva_search3['page_name'].str.contains('|'.join(words_2), case=False, na=False))\n",
    "                                                           | (df_combined_web_iva_search3['search_text'].str.contains('|'.join(words_2), case=False, na=False))]\n",
    "# df_combined_web_iva_search4_2 = df_combined_web_iva_search3[df_combined_web_iva_search3['page_name'].str.contains('|'.join(words_2), case=False, na=False)]\n",
    "# df_combined_web_iva_search4_3 = df_combined_web_iva_search3[df_combined_web_iva_search3['search_text'].str.contains('|'.join(words_2), case=False, na=False)]\n"
   ]
  },
  {
   "cell_type": "code",
   "execution_count": 47,
   "metadata": {},
   "outputs": [
    {
     "data": {
      "text/plain": [
       "(318633, 29)"
      ]
     },
     "execution_count": 47,
     "metadata": {},
     "output_type": "execute_result"
    }
   ],
   "source": [
    "df_combined_web_iva_search3.shape"
   ]
  },
  {
   "cell_type": "code",
   "execution_count": 48,
   "metadata": {},
   "outputs": [
    {
     "data": {
      "text/plain": [
       "(991, 29)"
      ]
     },
     "execution_count": 48,
     "metadata": {},
     "output_type": "execute_result"
    }
   ],
   "source": [
    "df_combined_web_iva_search5.shape"
   ]
  },
  {
   "cell_type": "code",
   "execution_count": 148,
   "metadata": {},
   "outputs": [],
   "source": [
    "# df_combined_web_iva_search5 = pd.concat([df_combined_web_iva_search4_1, df_combined_web_iva_search4_2, df_combined_web_iva_search4_3], axis=0)"
   ]
  },
  {
   "cell_type": "code",
   "execution_count": 149,
   "metadata": {},
   "outputs": [],
   "source": [
    "df_combined_web_iva_search5 = df_combined_web_iva_search5.sample(frac=1, random_state=42)"
   ]
  },
  {
   "cell_type": "code",
   "execution_count": 150,
   "metadata": {},
   "outputs": [],
   "source": [
    "# df_combined_web_iva_search5['category'] = 'Elder care'"
   ]
  },
  {
   "cell_type": "code",
   "execution_count": 151,
   "metadata": {},
   "outputs": [
    {
     "data": {
      "text/plain": [
       "(991, 29)"
      ]
     },
     "execution_count": 151,
     "metadata": {},
     "output_type": "execute_result"
    }
   ],
   "source": [
    "df_combined_web_iva_search5.shape"
   ]
  },
  {
   "cell_type": "code",
   "execution_count": 152,
   "metadata": {},
   "outputs": [],
   "source": [
    "df_combined_non_ec_web_iva_search = df_combined_web_iva_search3[(~df_combined_web_iva_search3['input'].str.contains('|'.join(words_2), case=False, na=False))\n",
    "                                                            | (~df_combined_web_iva_search3['page_name'].str.contains('|'.join(words_2), case=False, na=False))\n",
    "                                                           | (~df_combined_web_iva_search3['search_text'].str.contains('|'.join(words_2), case=False, na=False))].head(df_combined_web_iva_search5.shape[0]//3)"
   ]
  },
  {
   "cell_type": "code",
   "execution_count": 153,
   "metadata": {},
   "outputs": [],
   "source": [
    "# df_combined_non_ec_web_iva_search = pd.concat([df_combined_non_ec_web_iva_search1, df_combined_non_ec_web_iva_search2, df_combined_non_ec_web_iva_search3], axis=0)"
   ]
  },
  {
   "cell_type": "code",
   "execution_count": 154,
   "metadata": {},
   "outputs": [],
   "source": [
    "df_combined_non_ec_web_iva_search = df_combined_non_ec_web_iva_search.sample(frac=1, random_state=42)"
   ]
  },
  {
   "cell_type": "code",
   "execution_count": 155,
   "metadata": {},
   "outputs": [],
   "source": [
    "# df_combined_non_ec_web_iva_search['category'] = 'other'"
   ]
  },
  {
   "cell_type": "code",
   "execution_count": 156,
   "metadata": {},
   "outputs": [],
   "source": [
    "df_combined_ec_model_data = pd.concat([df_combined_web_iva_search5, df_combined_non_ec_web_iva_search], axis=0).sample(frac=1, random_state=42)"
   ]
  },
  {
   "cell_type": "code",
   "execution_count": 157,
   "metadata": {},
   "outputs": [
    {
     "data": {
      "text/plain": [
       "(1321, 29)"
      ]
     },
     "execution_count": 157,
     "metadata": {},
     "output_type": "execute_result"
    }
   ],
   "source": [
    "df_combined_ec_model_data.shape"
   ]
  },
  {
   "cell_type": "code",
   "execution_count": 158,
   "metadata": {},
   "outputs": [],
   "source": [
    "# df_combined_ec_model_data['session_create_date_cst_timezone_partition'].max()"
   ]
  },
  {
   "cell_type": "code",
   "execution_count": 159,
   "metadata": {},
   "outputs": [],
   "source": [
    "# group the dataframe by month and count the number of rows in each month\n",
    "# monthly_counts = df_combined_ec_model_data.resample('M', on='session_create_date_cst_timezone_partition').count()"
   ]
  },
  {
   "cell_type": "code",
   "execution_count": 160,
   "metadata": {},
   "outputs": [],
   "source": [
    "# monthly_counts"
   ]
  },
  {
   "cell_type": "code",
   "execution_count": 161,
   "metadata": {},
   "outputs": [],
   "source": [
    "# df_combined_ec_model_data_2 = df_combined_ec_model_data[df_combined_ec_model_data['session_create_date_cst_timezone_partition']<start_date]"
   ]
  },
  {
   "cell_type": "code",
   "execution_count": 162,
   "metadata": {},
   "outputs": [],
   "source": [
    "# df_combined_ec_model_data_2.shape"
   ]
  },
  {
   "cell_type": "markdown",
   "metadata": {},
   "source": [
    "### text preprocess"
   ]
  },
  {
   "cell_type": "code",
   "execution_count": 163,
   "metadata": {},
   "outputs": [],
   "source": [
    "def count_intnt_entits(text):\n",
    "    doc = nlp(text)\n",
    "    intents = [token.text for token in doc if token.pos_ == 'VERB']\n",
    "    entities = [token.text for token in doc if token.pos_ in {'NOUN', 'PROPN', 'ADJ', 'NUM', 'ADV'}]\n",
    "    return len(intents), len(entities)\n",
    "\n",
    "import re\n",
    "def clean_text(text):\n",
    "    clean_text = re.sub(r'[^\\w\\s]', '', text)\n",
    "    return clean_text\n",
    "\n",
    "def extract_ner_entities(sentence):\n",
    "    doc = nlp(sentence)\n",
    "    entities = [(entity.text, entity.label_) for entity in doc.ents]\n",
    "    return entities\n",
    "\n",
    "import numpy as np\n",
    "def length_entities(list_entities):\n",
    "    if (list_entities==np.nan or list_entities==None or list_entities==''):\n",
    "        return 0\n",
    "    else:\n",
    "        return len(list_entities)\n",
    "    \n",
    "# filter_func = lambda x: any(item[1] in [\"PERSON\", \"GPE\", \"ORG\", \"LOC\", \"FAC\"] for item in x)\n",
    "def filter_named_entities(text):\n",
    "    # Process the text using Spacy\n",
    "    doc = nlp(text)\n",
    "    # Filter out named entities (ORG, PERSON, and GPE tags)\n",
    "    filtered_words = [token.text for token in doc if token.ent_type_ not in ['ORG', 'PERSON', 'GPE', \"LOC\", \"FAC\"]]\n",
    "    # Join the filtered words back into a string\n",
    "    filtered_text = ' '.join(filtered_words)\n",
    "    return filtered_text"
   ]
  },
  {
   "cell_type": "code",
   "execution_count": 164,
   "metadata": {},
   "outputs": [],
   "source": [
    "import re\n",
    "    \n",
    "list_1 = ['ira','RMD','HRdirect','livechat','what is my hsa','P45','Payslip?',\n",
    "    'sps','F80.2','ub','What is YSA','Paystub please','Sh','mfv','C-128','ax','no is hsa','FormL564','HIS','cif','GreT','YSACard',\n",
    "    'Heli','RxPCN','403(b)','Hsa yes or no','ypr','Gv','ONA?','What is UHC?','HC-2','uo','what is 4DX?','osh','what is my hsa?',\n",
    "    'sPRAVATO','sdr','RMD’s','coverage?How','This is for my hsa','pto?','A&DD','childcareplus','fs','mbi','Is that my lowesbenefit.com',\n",
    "    'hra yes','mri?']\n",
    "\n",
    "def text_preprocess(dataframe, list_1):\n",
    "    dataframe = dataframe.drop_duplicates()\n",
    "    dataframe[['no_of_intents', 'no_of_entities']] = dataframe.apply(lambda x: pd.Series(count_intnt_entits(x['input'])), axis=1)  \n",
    "    dataframe['input_cleaned'] = ''\n",
    "    dataframe.loc[dataframe['input'].notnull(), 'input_cleaned'] = dataframe.loc[dataframe['input'].notnull(), 'input'].apply(clean_text)\n",
    "    dataframe.loc[dataframe['page_name'].notnull(), 'page_name_cleaned'] = dataframe.loc[dataframe['page_name'].notnull(), 'page_name'].apply(clean_text)\n",
    "    dataframe.loc[dataframe['search_text'].notnull(), 'search_text_cleaned'] = dataframe.loc[dataframe['search_text'].notnull(), 'search_text'].apply(clean_text)\n",
    "    dataframe['ner_enities'] = ''\n",
    "    dataframe.loc[dataframe['input_cleaned']!='', 'ner_enities'] = dataframe.loc[dataframe['input_cleaned']!='', 'input_cleaned'].apply(extract_ner_entities)\n",
    "    dataframe['len_ner_enities'] = dataframe['ner_enities'].apply(length_entities)\n",
    "    dataframe3 = dataframe[dataframe['len_ner_enities']>0]\n",
    "    dataframe3['input_cleaned'] = dataframe3['input_cleaned'].apply(filter_named_entities)\n",
    "    dataframe6 = pd.concat([dataframe[dataframe['len_ner_enities']==0], dataframe3], axis = 0)\n",
    "    dataframe6 = dataframe6.drop(['no_of_intents','no_of_entities','ner_enities','len_ner_enities'], axis=1)\n",
    "    dataframe6['input_changed']=dataframe6['input']!=dataframe6['input_cleaned']\n",
    "    dataframe6['page_name_changed']=dataframe6['page_name']!=dataframe6['page_name_cleaned']\n",
    "    dataframe6['search_text_changed']=dataframe6['search_text']!=dataframe6['search_text_cleaned']\n",
    "    \n",
    "    # create a new column 'category' containing 'Elder care' for rows where the words in words_2 appear in any of the cleaned text columns\n",
    "    words_1 = ['senior care', 'elder care', 'geriatric care', 'Aging care', 'elderly-care', 'senior citizen care', 'aging-in-place care', \n",
    "                'elder support', 'senior assistance', 'gerontology care', 'caregiving for the elderly', 'senior health care',\n",
    "                'elderly companion care', 'senior care assistance', 'age related care', 'aged care', 'care for old', 'caring for the elderly',\n",
    "                'care for older people', 'adult daycare', 'adult care', 'old care', 'Golden agers', 'Aged population', 'Aging population', \n",
    "                'Elder population', 'Elderly population', 'Retirees', 'Oldsters', 'Elderly residents', 'Senior members', 'Elder statesmen',\n",
    "                'Elder women', 'Elder generation', 'Elderly people', 'Grey generation', 'Third age population', 'Silver generation']\n",
    "    words_2 = [word.lower() for word in words_1]\n",
    "\n",
    "    def contains_category(text):\n",
    "        for word in words_2:\n",
    "            pattern = r'(?<![^\\W_])' + re.escape(word) + r'(?![^\\W_])'\n",
    "            if re.search(pattern, text.lower()):\n",
    "#                 print(word)\n",
    "                return True\n",
    "        return False\n",
    "\n",
    "    dataframe6['category'] = ''\n",
    "    mask = (dataframe6['input_cleaned'].apply(contains_category) |\n",
    "        dataframe6['page_name_cleaned'].apply(contains_category) |\n",
    "        dataframe6['search_text_cleaned'].apply(contains_category)) & (dataframe6['category'] != 'Other')\n",
    "    dataframe6.loc[mask, 'category'] = 'Elder care'\n",
    "    dataframe6.loc[dataframe6['category'] == '', 'category'] = 'Other'\n",
    "    \n",
    "    return dataframe6"
   ]
  },
  {
   "cell_type": "code",
   "execution_count": 165,
   "metadata": {},
   "outputs": [
    {
     "name": "stderr",
     "output_type": "stream",
     "text": [
      "/tmp/ipykernel_11120/3230591633.py:11: SettingWithCopyWarning: \n",
      "A value is trying to be set on a copy of a slice from a DataFrame.\n",
      "Try using .loc[row_indexer,col_indexer] = value instead\n",
      "\n",
      "See the caveats in the documentation: https://pandas.pydata.org/pandas-docs/stable/user_guide/indexing.html#returning-a-view-versus-a-copy\n",
      "  dataframe[['no_of_intents', 'no_of_entities']] = dataframe.apply(lambda x: pd.Series(count_intnt_entits(x['input'])), axis=1)\n",
      "/tmp/ipykernel_11120/3230591633.py:11: SettingWithCopyWarning: \n",
      "A value is trying to be set on a copy of a slice from a DataFrame.\n",
      "Try using .loc[row_indexer,col_indexer] = value instead\n",
      "\n",
      "See the caveats in the documentation: https://pandas.pydata.org/pandas-docs/stable/user_guide/indexing.html#returning-a-view-versus-a-copy\n",
      "  dataframe[['no_of_intents', 'no_of_entities']] = dataframe.apply(lambda x: pd.Series(count_intnt_entits(x['input'])), axis=1)\n",
      "/tmp/ipykernel_11120/3230591633.py:12: SettingWithCopyWarning: \n",
      "A value is trying to be set on a copy of a slice from a DataFrame.\n",
      "Try using .loc[row_indexer,col_indexer] = value instead\n",
      "\n",
      "See the caveats in the documentation: https://pandas.pydata.org/pandas-docs/stable/user_guide/indexing.html#returning-a-view-versus-a-copy\n",
      "  dataframe['input_cleaned'] = ''\n",
      "/tmp/ipykernel_11120/3230591633.py:13: SettingWithCopyWarning: \n",
      "A value is trying to be set on a copy of a slice from a DataFrame.\n",
      "Try using .loc[row_indexer,col_indexer] = value instead\n",
      "\n",
      "See the caveats in the documentation: https://pandas.pydata.org/pandas-docs/stable/user_guide/indexing.html#returning-a-view-versus-a-copy\n",
      "  dataframe.loc[dataframe['input'].notnull(), 'input_cleaned'] = dataframe.loc[dataframe['input'].notnull(), 'input'].apply(clean_text)\n",
      "/tmp/ipykernel_11120/3230591633.py:14: SettingWithCopyWarning: \n",
      "A value is trying to be set on a copy of a slice from a DataFrame.\n",
      "Try using .loc[row_indexer,col_indexer] = value instead\n",
      "\n",
      "See the caveats in the documentation: https://pandas.pydata.org/pandas-docs/stable/user_guide/indexing.html#returning-a-view-versus-a-copy\n",
      "  dataframe.loc[dataframe['page_name'].notnull(), 'page_name_cleaned'] = dataframe.loc[dataframe['page_name'].notnull(), 'page_name'].apply(clean_text)\n",
      "/tmp/ipykernel_11120/3230591633.py:15: SettingWithCopyWarning: \n",
      "A value is trying to be set on a copy of a slice from a DataFrame.\n",
      "Try using .loc[row_indexer,col_indexer] = value instead\n",
      "\n",
      "See the caveats in the documentation: https://pandas.pydata.org/pandas-docs/stable/user_guide/indexing.html#returning-a-view-versus-a-copy\n",
      "  dataframe.loc[dataframe['search_text'].notnull(), 'search_text_cleaned'] = dataframe.loc[dataframe['search_text'].notnull(), 'search_text'].apply(clean_text)\n",
      "/tmp/ipykernel_11120/3230591633.py:16: SettingWithCopyWarning: \n",
      "A value is trying to be set on a copy of a slice from a DataFrame.\n",
      "Try using .loc[row_indexer,col_indexer] = value instead\n",
      "\n",
      "See the caveats in the documentation: https://pandas.pydata.org/pandas-docs/stable/user_guide/indexing.html#returning-a-view-versus-a-copy\n",
      "  dataframe['ner_enities'] = ''\n",
      "/tmp/ipykernel_11120/3230591633.py:17: SettingWithCopyWarning: \n",
      "A value is trying to be set on a copy of a slice from a DataFrame.\n",
      "Try using .loc[row_indexer,col_indexer] = value instead\n",
      "\n",
      "See the caveats in the documentation: https://pandas.pydata.org/pandas-docs/stable/user_guide/indexing.html#returning-a-view-versus-a-copy\n",
      "  dataframe.loc[dataframe['input_cleaned']!='', 'ner_enities'] = dataframe.loc[dataframe['input_cleaned']!='', 'input_cleaned'].apply(extract_ner_entities)\n",
      "/tmp/ipykernel_11120/3230591633.py:18: SettingWithCopyWarning: \n",
      "A value is trying to be set on a copy of a slice from a DataFrame.\n",
      "Try using .loc[row_indexer,col_indexer] = value instead\n",
      "\n",
      "See the caveats in the documentation: https://pandas.pydata.org/pandas-docs/stable/user_guide/indexing.html#returning-a-view-versus-a-copy\n",
      "  dataframe['len_ner_enities'] = dataframe['ner_enities'].apply(length_entities)\n",
      "/tmp/ipykernel_11120/3230591633.py:20: SettingWithCopyWarning: \n",
      "A value is trying to be set on a copy of a slice from a DataFrame.\n",
      "Try using .loc[row_indexer,col_indexer] = value instead\n",
      "\n",
      "See the caveats in the documentation: https://pandas.pydata.org/pandas-docs/stable/user_guide/indexing.html#returning-a-view-versus-a-copy\n",
      "  dataframe3['input_cleaned'] = dataframe3['input_cleaned'].apply(filter_named_entities)\n"
     ]
    }
   ],
   "source": [
    "df_combined_ec_model_data_2 = text_preprocess(df_combined_ec_model_data, list_1)"
   ]
  },
  {
   "cell_type": "code",
   "execution_count": 166,
   "metadata": {},
   "outputs": [
    {
     "data": {
      "text/html": [
       "<div>\n",
       "<style scoped>\n",
       "    .dataframe tbody tr th:only-of-type {\n",
       "        vertical-align: middle;\n",
       "    }\n",
       "\n",
       "    .dataframe tbody tr th {\n",
       "        vertical-align: top;\n",
       "    }\n",
       "\n",
       "    .dataframe thead th {\n",
       "        text-align: right;\n",
       "    }\n",
       "</style>\n",
       "<table border=\"1\" class=\"dataframe\">\n",
       "  <thead>\n",
       "    <tr style=\"text-align: right;\">\n",
       "      <th></th>\n",
       "      <th>input</th>\n",
       "      <th>session_id</th>\n",
       "      <th>person_internal_id</th>\n",
       "      <th>client_id</th>\n",
       "      <th>yyyymm</th>\n",
       "      <th>person_id</th>\n",
       "      <th>person_birth_date</th>\n",
       "      <th>person_age</th>\n",
       "      <th>person_gender</th>\n",
       "      <th>person_employment_status</th>\n",
       "      <th>...</th>\n",
       "      <th>session_create_date_cst_timezone_partition</th>\n",
       "      <th>search_text</th>\n",
       "      <th>search_results</th>\n",
       "      <th>input_cleaned</th>\n",
       "      <th>page_name_cleaned</th>\n",
       "      <th>search_text_cleaned</th>\n",
       "      <th>input_changed</th>\n",
       "      <th>page_name_changed</th>\n",
       "      <th>search_text_changed</th>\n",
       "      <th>category</th>\n",
       "    </tr>\n",
       "  </thead>\n",
       "  <tbody>\n",
       "    <tr>\n",
       "      <th>245942</th>\n",
       "      <td>Managed Care Copay</td>\n",
       "      <td>15414457</td>\n",
       "      <td>279300083</td>\n",
       "      <td>3979</td>\n",
       "      <td>202207</td>\n",
       "      <td></td>\n",
       "      <td></td>\n",
       "      <td></td>\n",
       "      <td></td>\n",
       "      <td></td>\n",
       "      <td>...</td>\n",
       "      <td>NaT</td>\n",
       "      <td></td>\n",
       "      <td></td>\n",
       "      <td>Managed Care Copay</td>\n",
       "      <td></td>\n",
       "      <td></td>\n",
       "      <td>False</td>\n",
       "      <td>False</td>\n",
       "      <td>False</td>\n",
       "      <td>Other</td>\n",
       "    </tr>\n",
       "    <tr>\n",
       "      <th>239067</th>\n",
       "      <td>explain what would be considered an elder care...</td>\n",
       "      <td>8969865</td>\n",
       "      <td>244100023</td>\n",
       "      <td>8053</td>\n",
       "      <td>202011</td>\n",
       "      <td></td>\n",
       "      <td></td>\n",
       "      <td></td>\n",
       "      <td></td>\n",
       "      <td></td>\n",
       "      <td>...</td>\n",
       "      <td>NaT</td>\n",
       "      <td></td>\n",
       "      <td></td>\n",
       "      <td>explain what would be considered an elder care...</td>\n",
       "      <td></td>\n",
       "      <td></td>\n",
       "      <td>False</td>\n",
       "      <td>False</td>\n",
       "      <td>False</td>\n",
       "      <td>Elder care</td>\n",
       "    </tr>\n",
       "    <tr>\n",
       "      <th>92366</th>\n",
       "      <td>child care plus</td>\n",
       "      <td>16477588</td>\n",
       "      <td>24830055</td>\n",
       "      <td>1487</td>\n",
       "      <td>202210</td>\n",
       "      <td>person_id</td>\n",
       "      <td>person_birth_date</td>\n",
       "      <td>31.0</td>\n",
       "      <td>person_gender</td>\n",
       "      <td>Active</td>\n",
       "      <td>...</td>\n",
       "      <td>2022-08-04</td>\n",
       "      <td>elder care</td>\n",
       "      <td>42.0</td>\n",
       "      <td>child care plus</td>\n",
       "      <td>HmCstmChildCarePlusLandingPageOpen</td>\n",
       "      <td>elder care</td>\n",
       "      <td>False</td>\n",
       "      <td>True</td>\n",
       "      <td>False</td>\n",
       "      <td>Elder care</td>\n",
       "    </tr>\n",
       "    <tr>\n",
       "      <th>92406</th>\n",
       "      <td>child care plus</td>\n",
       "      <td>16477588</td>\n",
       "      <td>24830055</td>\n",
       "      <td>1487</td>\n",
       "      <td>202210</td>\n",
       "      <td>person_id</td>\n",
       "      <td>person_birth_date</td>\n",
       "      <td>31.0</td>\n",
       "      <td>person_gender</td>\n",
       "      <td>Active</td>\n",
       "      <td>...</td>\n",
       "      <td>2022-07-15</td>\n",
       "      <td>elder care</td>\n",
       "      <td>42.0</td>\n",
       "      <td>child care plus</td>\n",
       "      <td>HmCstmChildCarePlusLandingPageOpen</td>\n",
       "      <td>elder care</td>\n",
       "      <td>False</td>\n",
       "      <td>True</td>\n",
       "      <td>False</td>\n",
       "      <td>Elder care</td>\n",
       "    </tr>\n",
       "    <tr>\n",
       "      <th>71220</th>\n",
       "      <td>Manage Managed Care Benefits</td>\n",
       "      <td>18881160</td>\n",
       "      <td>291730021</td>\n",
       "      <td>1487</td>\n",
       "      <td>202303</td>\n",
       "      <td>person_id</td>\n",
       "      <td>person_birth_date</td>\n",
       "      <td>35.0</td>\n",
       "      <td>person_gender</td>\n",
       "      <td>Active</td>\n",
       "      <td>...</td>\n",
       "      <td>2023-01-11</td>\n",
       "      <td></td>\n",
       "      <td></td>\n",
       "      <td>Manage Managed Care Benefits</td>\n",
       "      <td>HmCstmChildCarePlusLandingPageOpen</td>\n",
       "      <td></td>\n",
       "      <td>False</td>\n",
       "      <td>True</td>\n",
       "      <td>False</td>\n",
       "      <td>Other</td>\n",
       "    </tr>\n",
       "  </tbody>\n",
       "</table>\n",
       "<p>5 rows × 36 columns</p>\n",
       "</div>"
      ],
      "text/plain": [
       "                                                    input  session_id  \\\n",
       "245942                                 Managed Care Copay    15414457   \n",
       "239067  explain what would be considered an elder care...     8969865   \n",
       "92366                                     child care plus    16477588   \n",
       "92406                                     child care plus    16477588   \n",
       "71220                        Manage Managed Care Benefits    18881160   \n",
       "\n",
       "        person_internal_id  client_id  yyyymm  person_id  person_birth_date  \\\n",
       "245942           279300083       3979  202207                                 \n",
       "239067           244100023       8053  202011                                 \n",
       "92366             24830055       1487  202210  person_id  person_birth_date   \n",
       "92406             24830055       1487  202210  person_id  person_birth_date   \n",
       "71220            291730021       1487  202303  person_id  person_birth_date   \n",
       "\n",
       "       person_age  person_gender person_employment_status  ...  \\\n",
       "245942                                                     ...   \n",
       "239067                                                     ...   \n",
       "92366        31.0  person_gender                   Active  ...   \n",
       "92406        31.0  person_gender                   Active  ...   \n",
       "71220        35.0  person_gender                   Active  ...   \n",
       "\n",
       "       session_create_date_cst_timezone_partition search_text search_results  \\\n",
       "245942                                        NaT                              \n",
       "239067                                        NaT                              \n",
       "92366                                  2022-08-04  elder care           42.0   \n",
       "92406                                  2022-07-15  elder care           42.0   \n",
       "71220                                  2023-01-11                              \n",
       "\n",
       "                                            input_cleaned  \\\n",
       "245942                                 Managed Care Copay   \n",
       "239067  explain what would be considered an elder care...   \n",
       "92366                                     child care plus   \n",
       "92406                                     child care plus   \n",
       "71220                        Manage Managed Care Benefits   \n",
       "\n",
       "                         page_name_cleaned search_text_cleaned input_changed  \\\n",
       "245942                                                                 False   \n",
       "239067                                                                 False   \n",
       "92366   HmCstmChildCarePlusLandingPageOpen          elder care         False   \n",
       "92406   HmCstmChildCarePlusLandingPageOpen          elder care         False   \n",
       "71220   HmCstmChildCarePlusLandingPageOpen                             False   \n",
       "\n",
       "       page_name_changed search_text_changed    category  \n",
       "245942             False               False       Other  \n",
       "239067             False               False  Elder care  \n",
       "92366               True               False  Elder care  \n",
       "92406               True               False  Elder care  \n",
       "71220               True               False       Other  \n",
       "\n",
       "[5 rows x 36 columns]"
      ]
     },
     "execution_count": 166,
     "metadata": {},
     "output_type": "execute_result"
    }
   ],
   "source": [
    "df_combined_ec_model_data_2.head(5)"
   ]
  },
  {
   "cell_type": "code",
   "execution_count": 167,
   "metadata": {},
   "outputs": [],
   "source": [
    "# for column in df_combined_ec_model_data_2.columns:\n",
    "#     print(f\"{column}: {df_combined_ec_model_data_2[column].head(10)}\", end='\\n\\n')"
   ]
  },
  {
   "cell_type": "code",
   "execution_count": 168,
   "metadata": {},
   "outputs": [],
   "source": [
    "# df_combined_ec_model_data_2['person_eeo'].value_counts()"
   ]
  },
  {
   "cell_type": "code",
   "execution_count": 169,
   "metadata": {},
   "outputs": [],
   "source": [
    "df_combined_ec_model_data_3 = df_combined_ec_model_data_2.drop(['person_id','person_birth_date','person_gender','global_session_id','web_session_id','business_page_name',\n",
    "                                                               'page_type_code','page_type','page_web_type_description','browser_language','page_process_name',\n",
    "                                                                'page_process_detail','person_eeo'], axis =1)"
   ]
  },
  {
   "cell_type": "code",
   "execution_count": 170,
   "metadata": {},
   "outputs": [
    {
     "data": {
      "text/plain": [
       "Index(['input', 'session_id', 'person_internal_id', 'client_id', 'yyyymm',\n",
       "       'person_age', 'person_employment_status', 'person_state',\n",
       "       'person_union_vs_non_union', 'person_salary', 'page_name',\n",
       "       'page_domain', 'page_visit_duration',\n",
       "       'session_create_date_cst_timezone_partition', 'search_text',\n",
       "       'search_results', 'input_cleaned', 'page_name_cleaned',\n",
       "       'search_text_cleaned', 'input_changed', 'page_name_changed',\n",
       "       'search_text_changed', 'category'],\n",
       "      dtype='object')"
      ]
     },
     "execution_count": 170,
     "metadata": {},
     "output_type": "execute_result"
    }
   ],
   "source": [
    "df_combined_ec_model_data_3.columns"
   ]
  },
  {
   "cell_type": "code",
   "execution_count": 171,
   "metadata": {},
   "outputs": [],
   "source": [
    "df_combined_ec_model_data_3 = df_combined_ec_model_data_3[[ 'session_id', 'person_internal_id', 'client_id', 'input','input_cleaned',\n",
    "                                                            'search_text','search_text_cleaned', 'page_name','page_name_cleaned',\n",
    "                                                           'category','person_age',\n",
    "        'person_employment_status', 'person_state',\n",
    "       'person_union_vs_non_union', 'person_salary',\n",
    "       'page_domain', 'page_visit_duration',\n",
    "       'session_create_date_cst_timezone_partition',\n",
    "       'search_results', 'yyyymm',\n",
    "        'input_changed', 'page_name_changed',\n",
    "       'search_text_changed']]"
   ]
  },
  {
   "cell_type": "code",
   "execution_count": 172,
   "metadata": {},
   "outputs": [],
   "source": [
    "# df_combined_ec_model_data_3.to_excel('ec_model_combined_cleaned_data_v10.xlsx')"
   ]
  },
  {
   "cell_type": "code",
   "execution_count": 173,
   "metadata": {},
   "outputs": [
    {
     "data": {
      "text/plain": [
       "session_id                                             int64\n",
       "person_internal_id                                     int64\n",
       "client_id                                              int64\n",
       "input                                                 object\n",
       "input_cleaned                                         object\n",
       "search_text                                           object\n",
       "search_text_cleaned                                   object\n",
       "page_name                                             object\n",
       "page_name_cleaned                                     object\n",
       "category                                              object\n",
       "person_age                                            object\n",
       "person_employment_status                              object\n",
       "person_state                                          object\n",
       "person_union_vs_non_union                             object\n",
       "person_salary                                         object\n",
       "page_domain                                           object\n",
       "page_visit_duration                                   object\n",
       "session_create_date_cst_timezone_partition    datetime64[ns]\n",
       "search_results                                        object\n",
       "yyyymm                                                 int64\n",
       "input_changed                                           bool\n",
       "page_name_changed                                       bool\n",
       "search_text_changed                                     bool\n",
       "dtype: object"
      ]
     },
     "execution_count": 173,
     "metadata": {},
     "output_type": "execute_result"
    }
   ],
   "source": [
    "df_combined_ec_model_data_3.dtypes"
   ]
  },
  {
   "cell_type": "code",
   "execution_count": 174,
   "metadata": {},
   "outputs": [],
   "source": [
    "df_combined_ec_model_data_4 = df_combined_ec_model_data_3.drop(['input','search_text','page_name','input_changed','page_name_changed',\n",
    "                                                               'search_text_changed'], axis=1)"
   ]
  },
  {
   "cell_type": "code",
   "execution_count": 175,
   "metadata": {},
   "outputs": [],
   "source": [
    "# df_combined_ec_model_data_4.replace('', np.nan, inplace=True)"
   ]
  },
  {
   "cell_type": "code",
   "execution_count": 176,
   "metadata": {},
   "outputs": [],
   "source": [
    "# df_combined_ec_model_data_4.fillna(0, inplace=True)"
   ]
  },
  {
   "cell_type": "code",
   "execution_count": 177,
   "metadata": {},
   "outputs": [],
   "source": [
    "df_combined_ec_model_data_5 = df_combined_ec_model_data_4.copy()"
   ]
  },
  {
   "cell_type": "code",
   "execution_count": 178,
   "metadata": {},
   "outputs": [],
   "source": [
    "df_combined_ec_model_data_5[['person_age','person_salary','page_visit_duration']] = df_combined_ec_model_data_4[['person_age','person_salary','page_visit_duration']].apply(pd.to_numeric,errors='coerce')\n",
    "# combined_ec_model_data_5['person_salary'] = df_combined_ec_model_data_4['person_salary'].to_numeric()\n",
    "# combined_ec_model_data_5['page_visit_duration'] = df_combined_ec_model_data_4['page_visit_duration'].to_numeric()\n",
    "# .astype({\"person_age\": float, \"person_salary\": float, \"page_visit_duration\": float })"
   ]
  },
  {
   "cell_type": "code",
   "execution_count": 179,
   "metadata": {},
   "outputs": [],
   "source": [
    "df_combined_ec_model_data_5['session_create_date_cst_timezone_partition'] = pd.to_datetime(\n",
    "    df_combined_ec_model_data_4['session_create_date_cst_timezone_partition'])"
   ]
  },
  {
   "cell_type": "code",
   "execution_count": 180,
   "metadata": {},
   "outputs": [
    {
     "data": {
      "text/plain": [
       "(1174, 17)"
      ]
     },
     "execution_count": 180,
     "metadata": {},
     "output_type": "execute_result"
    }
   ],
   "source": [
    "df_combined_ec_model_data_5.shape"
   ]
  },
  {
   "cell_type": "code",
   "execution_count": 181,
   "metadata": {},
   "outputs": [],
   "source": [
    "# df_combined_ec_model_data_5.to_excel('final_ec_model_data.xlsx')"
   ]
  },
  {
   "cell_type": "code",
   "execution_count": null,
   "metadata": {},
   "outputs": [],
   "source": []
  },
  {
   "cell_type": "code",
   "execution_count": null,
   "metadata": {},
   "outputs": [],
   "source": []
  },
  {
   "cell_type": "code",
   "execution_count": 182,
   "metadata": {},
   "outputs": [],
   "source": [
    "import pandas as pd"
   ]
  },
  {
   "cell_type": "markdown",
   "metadata": {},
   "source": [
    "Combined(web, IVA, and Search) data in s3 at the location: \n",
    "\n",
    "s3://adl-core-dev-sagemaker-studio/external/IVA/Combined_Data/combined1.csv\n",
    "\n",
    "contains 8 months data only from July 2022 to Feb 2023."
   ]
  },
  {
   "cell_type": "code",
   "execution_count": 184,
   "metadata": {},
   "outputs": [],
   "source": [
    "df_combined_ec_model_data_5['session_create_date_cst_timezone_partition'] = pd.to_datetime(df_combined_ec_model_data_5['session_create_date_cst_timezone_partition'])"
   ]
  },
  {
   "cell_type": "code",
   "execution_count": 185,
   "metadata": {},
   "outputs": [],
   "source": [
    "# filterimg last sox month data as unseen test data\n",
    "start_date = pd.to_datetime('2023-01-01 00:00:00')\n",
    "end_date = df_combined_ec_model_data_5['session_create_date_cst_timezone_partition'].max()\n",
    "unseen_test_df = df_combined_ec_model_data_5[(df_combined_ec_model_data_5['session_create_date_cst_timezone_partition'] >= start_date) & (df_combined_ec_model_data_5['session_create_date_cst_timezone_partition'] <= end_date)]"
   ]
  },
  {
   "cell_type": "code",
   "execution_count": 186,
   "metadata": {},
   "outputs": [
    {
     "data": {
      "text/plain": [
       "(164, 17)"
      ]
     },
     "execution_count": 186,
     "metadata": {},
     "output_type": "execute_result"
    }
   ],
   "source": [
    "unseen_test_df.shape"
   ]
  },
  {
   "cell_type": "code",
   "execution_count": 187,
   "metadata": {},
   "outputs": [
    {
     "name": "stderr",
     "output_type": "stream",
     "text": [
      "/tmp/ipykernel_11120/3508498311.py:1: SettingWithCopyWarning: \n",
      "A value is trying to be set on a copy of a slice from a DataFrame.\n",
      "Try using .loc[row_indexer,col_indexer] = value instead\n",
      "\n",
      "See the caveats in the documentation: https://pandas.pydata.org/pandas-docs/stable/user_guide/indexing.html#returning-a-view-versus-a-copy\n",
      "  unseen_test_df.fillna(value={'input_cleaned': ' ', 'page_name_cleaned': ' ', 'search_text_cleaned': ' '}, inplace=True)\n"
     ]
    }
   ],
   "source": [
    "unseen_test_df.fillna(value={'input_cleaned': ' ', 'page_name_cleaned': ' ', 'search_text_cleaned': ' '}, inplace=True)"
   ]
  },
  {
   "cell_type": "code",
   "execution_count": 188,
   "metadata": {},
   "outputs": [],
   "source": [
    "unseen_test_df[['input_cleaned', 'search_text_cleaned', 'page_name_cleaned', 'category']].to_excel('unseen_data.xlsx')"
   ]
  },
  {
   "cell_type": "code",
   "execution_count": 189,
   "metadata": {},
   "outputs": [],
   "source": [
    "final_EC_model_df = df_combined_ec_model_data_5[df_combined_ec_model_data_5['session_create_date_cst_timezone_partition'] < start_date]"
   ]
  },
  {
   "cell_type": "code",
   "execution_count": 190,
   "metadata": {},
   "outputs": [],
   "source": [
    "final_EC_model_df.to_excel('final_ec_model_data.xlsx')"
   ]
  },
  {
   "cell_type": "code",
   "execution_count": 191,
   "metadata": {},
   "outputs": [
    {
     "data": {
      "text/plain": [
       "(392, 17)"
      ]
     },
     "execution_count": 191,
     "metadata": {},
     "output_type": "execute_result"
    }
   ],
   "source": [
    "final_EC_model_df.shape"
   ]
  },
  {
   "cell_type": "code",
   "execution_count": 192,
   "metadata": {},
   "outputs": [
    {
     "data": {
      "text/html": [
       "<div>\n",
       "<style scoped>\n",
       "    .dataframe tbody tr th:only-of-type {\n",
       "        vertical-align: middle;\n",
       "    }\n",
       "\n",
       "    .dataframe tbody tr th {\n",
       "        vertical-align: top;\n",
       "    }\n",
       "\n",
       "    .dataframe thead th {\n",
       "        text-align: right;\n",
       "    }\n",
       "</style>\n",
       "<table border=\"1\" class=\"dataframe\">\n",
       "  <thead>\n",
       "    <tr style=\"text-align: right;\">\n",
       "      <th></th>\n",
       "      <th>input_cleaned</th>\n",
       "      <th>search_text_cleaned</th>\n",
       "      <th>page_name_cleaned</th>\n",
       "      <th>category</th>\n",
       "    </tr>\n",
       "  </thead>\n",
       "  <tbody>\n",
       "    <tr>\n",
       "      <th>78</th>\n",
       "      <td>elder care</td>\n",
       "      <td>NaN</td>\n",
       "      <td>HmCstmChildCarePlusLandingPageOpen</td>\n",
       "      <td>Elder care</td>\n",
       "    </tr>\n",
       "  </tbody>\n",
       "</table>\n",
       "</div>"
      ],
      "text/plain": [
       "   input_cleaned search_text_cleaned                   page_name_cleaned  \\\n",
       "78    elder care                 NaN  HmCstmChildCarePlusLandingPageOpen   \n",
       "\n",
       "      category  \n",
       "78  Elder care  "
      ]
     },
     "execution_count": 192,
     "metadata": {},
     "output_type": "execute_result"
    }
   ],
   "source": [
    "# Load the data\n",
    "data = pd.read_excel('final_ec_model_data.xlsx')[['input_cleaned', 'search_text_cleaned', 'page_name_cleaned', 'category']]\n",
    "data.sample()"
   ]
  },
  {
   "cell_type": "code",
   "execution_count": 193,
   "metadata": {},
   "outputs": [],
   "source": [
    "data.fillna(value={'input_cleaned': ' ', 'page_name_cleaned': ' ', 'search_text_cleaned': ' '}, inplace=True)"
   ]
  },
  {
   "cell_type": "code",
   "execution_count": 194,
   "metadata": {},
   "outputs": [
    {
     "data": {
      "text/html": [
       "<div>\n",
       "<style scoped>\n",
       "    .dataframe tbody tr th:only-of-type {\n",
       "        vertical-align: middle;\n",
       "    }\n",
       "\n",
       "    .dataframe tbody tr th {\n",
       "        vertical-align: top;\n",
       "    }\n",
       "\n",
       "    .dataframe thead th {\n",
       "        text-align: right;\n",
       "    }\n",
       "</style>\n",
       "<table border=\"1\" class=\"dataframe\">\n",
       "  <thead>\n",
       "    <tr style=\"text-align: right;\">\n",
       "      <th></th>\n",
       "      <th>input_cleaned</th>\n",
       "      <th>search_text_cleaned</th>\n",
       "      <th>page_name_cleaned</th>\n",
       "      <th>category</th>\n",
       "    </tr>\n",
       "  </thead>\n",
       "  <tbody>\n",
       "    <tr>\n",
       "      <th>382</th>\n",
       "      <td>Dependent Age</td>\n",
       "      <td></td>\n",
       "      <td>contentPage  Child adult and pet care resources</td>\n",
       "      <td>Other</td>\n",
       "    </tr>\n",
       "  </tbody>\n",
       "</table>\n",
       "</div>"
      ],
      "text/plain": [
       "     input_cleaned search_text_cleaned  \\\n",
       "382  Dependent Age                       \n",
       "\n",
       "                                   page_name_cleaned category  \n",
       "382  contentPage  Child adult and pet care resources    Other  "
      ]
     },
     "execution_count": 194,
     "metadata": {},
     "output_type": "execute_result"
    }
   ],
   "source": [
    "data.sample()"
   ]
  },
  {
   "cell_type": "code",
   "execution_count": 195,
   "metadata": {},
   "outputs": [
    {
     "data": {
      "text/plain": [
       "Elder care    198\n",
       "Other         194\n",
       "Name: category, dtype: int64"
      ]
     },
     "execution_count": 195,
     "metadata": {},
     "output_type": "execute_result"
    }
   ],
   "source": [
    "data.category.value_counts()"
   ]
  },
  {
   "cell_type": "code",
   "execution_count": 196,
   "metadata": {},
   "outputs": [
    {
     "data": {
      "text/html": [
       "<div>\n",
       "<style scoped>\n",
       "    .dataframe tbody tr th:only-of-type {\n",
       "        vertical-align: middle;\n",
       "    }\n",
       "\n",
       "    .dataframe tbody tr th {\n",
       "        vertical-align: top;\n",
       "    }\n",
       "\n",
       "    .dataframe thead th {\n",
       "        text-align: right;\n",
       "    }\n",
       "</style>\n",
       "<table border=\"1\" class=\"dataframe\">\n",
       "  <thead>\n",
       "    <tr style=\"text-align: right;\">\n",
       "      <th></th>\n",
       "      <th>input_cleaned</th>\n",
       "      <th>search_text_cleaned</th>\n",
       "      <th>page_name_cleaned</th>\n",
       "      <th>category</th>\n",
       "    </tr>\n",
       "  </thead>\n",
       "  <tbody>\n",
       "    <tr>\n",
       "      <th>109</th>\n",
       "      <td>child care plus</td>\n",
       "      <td>elder care</td>\n",
       "      <td>HmCstmChildCarePlusLandingPageOpen</td>\n",
       "      <td>1</td>\n",
       "    </tr>\n",
       "  </tbody>\n",
       "</table>\n",
       "</div>"
      ],
      "text/plain": [
       "       input_cleaned search_text_cleaned                   page_name_cleaned  \\\n",
       "109  child care plus          elder care  HmCstmChildCarePlusLandingPageOpen   \n",
       "\n",
       "     category  \n",
       "109         1  "
      ]
     },
     "execution_count": 196,
     "metadata": {},
     "output_type": "execute_result"
    }
   ],
   "source": [
    "data.category = data.category.map({'Other':0, 'Elder care':1})\n",
    "data.sample()"
   ]
  },
  {
   "cell_type": "code",
   "execution_count": 197,
   "metadata": {},
   "outputs": [],
   "source": [
    "# from sklearn.model_selection import train_test_split\n",
    "\n",
    "# # split the dataset into training and testing sets\n",
    "# data, unseen_data = train_test_split(data, test_size=0.1, random_state=6)\n",
    "# unseen_data.to_excel('unseen_data.xlsx')"
   ]
  },
  {
   "cell_type": "markdown",
   "metadata": {},
   "source": [
    "### Model building on the basis of just text columns"
   ]
  },
  {
   "cell_type": "markdown",
   "metadata": {},
   "source": [
    "------"
   ]
  },
  {
   "cell_type": "code",
   "execution_count": 198,
   "metadata": {},
   "outputs": [
    {
     "name": "stderr",
     "output_type": "stream",
     "text": [
      "Some weights of the model checkpoint at bert-base-uncased were not used when initializing BertForSequenceClassification: ['cls.predictions.decoder.weight', 'cls.predictions.transform.LayerNorm.weight', 'cls.predictions.transform.dense.weight', 'cls.seq_relationship.bias', 'cls.predictions.transform.LayerNorm.bias', 'cls.seq_relationship.weight', 'cls.predictions.transform.dense.bias', 'cls.predictions.bias']\n",
      "- This IS expected if you are initializing BertForSequenceClassification from the checkpoint of a model trained on another task or with another architecture (e.g. initializing a BertForSequenceClassification model from a BertForPreTraining model).\n",
      "- This IS NOT expected if you are initializing BertForSequenceClassification from the checkpoint of a model that you expect to be exactly identical (initializing a BertForSequenceClassification model from a BertForSequenceClassification model).\n",
      "Some weights of BertForSequenceClassification were not initialized from the model checkpoint at bert-base-uncased and are newly initialized: ['classifier.bias', 'classifier.weight']\n",
      "You should probably TRAIN this model on a down-stream task to be able to use it for predictions and inference.\n"
     ]
    },
    {
     "name": "stdout",
     "output_type": "stream",
     "text": [
      "Epoch 1 Loss: 0.34283212199807167\n",
      "Epoch 1 Validation Accuracy: 0.9873417721518988\n",
      "Epoch 1 Confusion Matrix:\n",
      "[[38  1]\n",
      " [ 0 40]]\n",
      "Epoch 2 Loss: 0.060940293874591586\n",
      "Epoch 2 Validation Accuracy: 0.9873417721518988\n",
      "Epoch 2 Confusion Matrix:\n",
      "[[38  1]\n",
      " [ 0 40]]\n",
      "Epoch 3 Loss: 0.025831894529983402\n",
      "Epoch 3 Validation Accuracy: 1.0\n",
      "Epoch 3 Confusion Matrix:\n",
      "[[39  0]\n",
      " [ 0 40]]\n",
      "Epoch 4 Loss: 0.007642560871317983\n",
      "Epoch 4 Validation Accuracy: 1.0\n",
      "Epoch 4 Confusion Matrix:\n",
      "[[39  0]\n",
      " [ 0 40]]\n",
      "Epoch 5 Loss: 0.0044135111500509085\n",
      "Epoch 5 Validation Accuracy: 1.0\n",
      "Epoch 5 Confusion Matrix:\n",
      "[[39  0]\n",
      " [ 0 40]]\n",
      "Epoch 6 Loss: 0.0030801770742982628\n",
      "Epoch 6 Validation Accuracy: 1.0\n",
      "Epoch 6 Confusion Matrix:\n",
      "[[39  0]\n",
      " [ 0 40]]\n",
      "Epoch 7 Loss: 0.0023162031546235086\n",
      "Epoch 7 Validation Accuracy: 0.9873417721518988\n",
      "Epoch 7 Confusion Matrix:\n",
      "[[38  1]\n",
      " [ 0 40]]\n",
      "Epoch 8 Loss: 0.0018131122167687863\n",
      "Epoch 8 Validation Accuracy: 0.9873417721518988\n",
      "Epoch 8 Confusion Matrix:\n",
      "[[38  1]\n",
      " [ 0 40]]\n",
      "Epoch 9 Loss: 0.0014579245820641519\n",
      "Epoch 9 Validation Accuracy: 0.9873417721518988\n",
      "Epoch 9 Confusion Matrix:\n",
      "[[38  1]\n",
      " [ 0 40]]\n",
      "Epoch 10 Loss: 0.0012122895976062864\n",
      "Epoch 10 Validation Accuracy: 0.9873417721518988\n",
      "Epoch 10 Confusion Matrix:\n",
      "[[38  1]\n",
      " [ 0 40]]\n"
     ]
    }
   ],
   "source": [
    "import pandas as pd\n",
    "import numpy as np\n",
    "import torch\n",
    "from sklearn.metrics import accuracy_score, confusion_matrix\n",
    "from transformers import BertTokenizer, BertForSequenceClassification\n",
    "\n",
    "# set the random seed for NumPy\n",
    "np.random.seed(42)\n",
    "\n",
    "# set the random seed for PyTorch\n",
    "torch.manual_seed(42)\n",
    "\n",
    "# load the data\n",
    "# data = pd.read_csv('data.csv')\n",
    "\n",
    "# load the BERT tokenizer\n",
    "tokenizer = BertTokenizer.from_pretrained('bert-base-uncased')\n",
    "\n",
    "# encode the data using the tokenizer\n",
    "encodings = tokenizer(list(data['input_cleaned']), list(data['search_text_cleaned']), list(data['page_name_cleaned']),\n",
    "                      truncation=True, padding=True)\n",
    "\n",
    "# create the dataset\n",
    "dataset = torch.utils.data.TensorDataset(\n",
    "    torch.tensor(encodings['input_ids']),\n",
    "    torch.tensor(encodings['attention_mask']),\n",
    "    torch.tensor(list(data['category']))\n",
    ")\n",
    "\n",
    "# split the dataset into training and validation sets\n",
    "train_size = int(0.8 * len(dataset))\n",
    "val_size = len(dataset) - train_size\n",
    "train_dataset, val_dataset = torch.utils.data.random_split(dataset, [train_size, val_size])\n",
    "\n",
    "# create the DataLoader for the training and validation sets\n",
    "train_loader = torch.utils.data.DataLoader(train_dataset, batch_size=16, shuffle=True)\n",
    "val_loader = torch.utils.data.DataLoader(val_dataset, batch_size=16, shuffle=False)\n",
    "\n",
    "# load the BERT model for sequence classification\n",
    "model = BertForSequenceClassification.from_pretrained('bert-base-uncased', num_labels=2,)\n",
    "\n",
    "# set up the optimizer and loss function\n",
    "optimizer = torch.optim.AdamW(model.parameters(), lr=2e-5)\n",
    "loss_fn = torch.nn.CrossEntropyLoss()\n",
    "\n",
    "epochs=10\n",
    "\n",
    "# train the model\n",
    "for epoch in range(epochs):\n",
    "    running_loss = 0.0\n",
    "    for batch in train_loader:\n",
    "        input_ids, attention_mask, labels = batch\n",
    "        outputs = model(input_ids, attention_mask=attention_mask, labels=labels)\n",
    "        loss = outputs.loss\n",
    "        logits = outputs.logits\n",
    "        loss.backward()\n",
    "        optimizer.step()\n",
    "        optimizer.zero_grad()\n",
    "        running_loss += loss.item()\n",
    "    print(f'Epoch {epoch + 1} Loss: {running_loss / len(train_loader)}')\n",
    "\n",
    "    # make predictions on the validation set and compute the accuracy\n",
    "    predictions = []\n",
    "    true_labels = []\n",
    "    with torch.no_grad():\n",
    "        model.eval()\n",
    "        for batch in val_loader:\n",
    "            input_ids, attention_mask, labels = batch\n",
    "            outputs = model(input_ids, attention_mask=attention_mask)\n",
    "            logits = outputs.logits\n",
    "            predictions.extend(torch.argmax(logits, dim=1).tolist())\n",
    "            true_labels.extend(labels.tolist())\n",
    "\n",
    "    accuracy = accuracy_score(true_labels, predictions)\n",
    "    print(f'Epoch {epoch + 1} Validation Accuracy: {accuracy}')\n",
    "\n",
    "    # generate the confusion matrix\n",
    "    cm = confusion_matrix(true_labels, predictions)\n",
    "    print(f'Epoch {epoch + 1} Confusion Matrix:')\n",
    "    print(cm)\n"
   ]
  },
  {
   "cell_type": "code",
   "execution_count": 203,
   "metadata": {},
   "outputs": [
    {
     "data": {
      "text/plain": [
       "313"
      ]
     },
     "execution_count": 203,
     "metadata": {},
     "output_type": "execute_result"
    }
   ],
   "source": [
    "train_size"
   ]
  },
  {
   "cell_type": "code",
   "execution_count": 204,
   "metadata": {},
   "outputs": [
    {
     "data": {
      "text/plain": [
       "79"
      ]
     },
     "execution_count": 204,
     "metadata": {},
     "output_type": "execute_result"
    }
   ],
   "source": [
    "val_size"
   ]
  },
  {
   "cell_type": "code",
   "execution_count": 199,
   "metadata": {},
   "outputs": [],
   "source": [
    "# define the path to save the model\n",
    "save_path = \"./EC_model_combined_texts_data/\"\n",
    "\n",
    "# create the directory if it doesn't exist\n",
    "import os\n",
    "if not os.path.exists(save_path):\n",
    "    os.makedirs(save_path)\n",
    "\n",
    "# save the model\n",
    "model.save_pretrained(save_path)\n"
   ]
  },
  {
   "cell_type": "markdown",
   "metadata": {},
   "source": [
    "## prediction code"
   ]
  },
  {
   "cell_type": "code",
   "execution_count": 200,
   "metadata": {},
   "outputs": [
    {
     "ename": "ValueError",
     "evalue": "text input must of type `str` (single example), `List[str]` (batch or single pretokenized example) or `List[List[str]]` (batch of pretokenized examples).",
     "output_type": "error",
     "traceback": [
      "\u001b[0;31m---------------------------------------------------------------------------\u001b[0m",
      "\u001b[0;31mValueError\u001b[0m                                Traceback (most recent call last)",
      "Input \u001b[0;32mIn [200]\u001b[0m, in \u001b[0;36m<cell line: 15>\u001b[0;34m()\u001b[0m\n\u001b[1;32m     12\u001b[0m new_data \u001b[38;5;241m=\u001b[39m pd\u001b[38;5;241m.\u001b[39mread_excel(\u001b[38;5;124m'\u001b[39m\u001b[38;5;124munseen_data.xlsx\u001b[39m\u001b[38;5;124m'\u001b[39m)\n\u001b[1;32m     14\u001b[0m \u001b[38;5;66;03m# encode the new data using the tokenizer\u001b[39;00m\n\u001b[0;32m---> 15\u001b[0m encodings \u001b[38;5;241m=\u001b[39m \u001b[43mtokenizer\u001b[49m\u001b[43m(\u001b[49m\u001b[38;5;28;43mlist\u001b[39;49m\u001b[43m(\u001b[49m\u001b[43mnew_data\u001b[49m\u001b[43m[\u001b[49m\u001b[38;5;124;43m'\u001b[39;49m\u001b[38;5;124;43minput_cleaned\u001b[39;49m\u001b[38;5;124;43m'\u001b[39;49m\u001b[43m]\u001b[49m\u001b[43m)\u001b[49m\u001b[43m,\u001b[49m\u001b[43m \u001b[49m\u001b[38;5;28;43mlist\u001b[39;49m\u001b[43m(\u001b[49m\u001b[43mnew_data\u001b[49m\u001b[43m[\u001b[49m\u001b[38;5;124;43m'\u001b[39;49m\u001b[38;5;124;43msearch_text_cleaned\u001b[39;49m\u001b[38;5;124;43m'\u001b[39;49m\u001b[43m]\u001b[49m\u001b[43m)\u001b[49m\u001b[43m,\u001b[49m\u001b[43m \u001b[49m\u001b[38;5;28;43mlist\u001b[39;49m\u001b[43m(\u001b[49m\u001b[43mnew_data\u001b[49m\u001b[43m[\u001b[49m\u001b[38;5;124;43m'\u001b[39;49m\u001b[38;5;124;43mpage_name_cleaned\u001b[39;49m\u001b[38;5;124;43m'\u001b[39;49m\u001b[43m]\u001b[49m\u001b[43m)\u001b[49m\u001b[43m,\u001b[49m\n\u001b[1;32m     16\u001b[0m \u001b[43m                      \u001b[49m\u001b[43mtruncation\u001b[49m\u001b[38;5;241;43m=\u001b[39;49m\u001b[38;5;28;43;01mTrue\u001b[39;49;00m\u001b[43m,\u001b[49m\u001b[43m \u001b[49m\u001b[43mpadding\u001b[49m\u001b[38;5;241;43m=\u001b[39;49m\u001b[38;5;28;43;01mTrue\u001b[39;49;00m\u001b[43m)\u001b[49m\n\u001b[1;32m     18\u001b[0m \u001b[38;5;66;03m# create the dataset\u001b[39;00m\n\u001b[1;32m     19\u001b[0m dataset \u001b[38;5;241m=\u001b[39m torch\u001b[38;5;241m.\u001b[39mutils\u001b[38;5;241m.\u001b[39mdata\u001b[38;5;241m.\u001b[39mTensorDataset(\n\u001b[1;32m     20\u001b[0m     torch\u001b[38;5;241m.\u001b[39mtensor(encodings[\u001b[38;5;124m'\u001b[39m\u001b[38;5;124minput_ids\u001b[39m\u001b[38;5;124m'\u001b[39m]),\n\u001b[1;32m     21\u001b[0m     torch\u001b[38;5;241m.\u001b[39mtensor(encodings[\u001b[38;5;124m'\u001b[39m\u001b[38;5;124mattention_mask\u001b[39m\u001b[38;5;124m'\u001b[39m])\n\u001b[1;32m     22\u001b[0m )\n",
      "File \u001b[0;32m/opt/conda/lib/python3.9/site-packages/transformers/tokenization_utils_base.py:2495\u001b[0m, in \u001b[0;36mPreTrainedTokenizerBase.__call__\u001b[0;34m(self, text, text_pair, add_special_tokens, padding, truncation, max_length, stride, is_split_into_words, pad_to_multiple_of, return_tensors, return_token_type_ids, return_attention_mask, return_overflowing_tokens, return_special_tokens_mask, return_offsets_mapping, return_length, verbose, **kwargs)\u001b[0m\n\u001b[1;32m   2489\u001b[0m     \u001b[38;5;28;01mraise\u001b[39;00m \u001b[38;5;167;01mValueError\u001b[39;00m(\n\u001b[1;32m   2490\u001b[0m         \u001b[38;5;124m\"\u001b[39m\u001b[38;5;124mtext input must of type `str` (single example), `List[str]` (batch or single pretokenized example) \u001b[39m\u001b[38;5;124m\"\u001b[39m\n\u001b[1;32m   2491\u001b[0m         \u001b[38;5;124m\"\u001b[39m\u001b[38;5;124mor `List[List[str]]` (batch of pretokenized examples).\u001b[39m\u001b[38;5;124m\"\u001b[39m\n\u001b[1;32m   2492\u001b[0m     )\n\u001b[1;32m   2494\u001b[0m \u001b[38;5;28;01mif\u001b[39;00m text_pair \u001b[38;5;129;01mis\u001b[39;00m \u001b[38;5;129;01mnot\u001b[39;00m \u001b[38;5;28;01mNone\u001b[39;00m \u001b[38;5;129;01mand\u001b[39;00m \u001b[38;5;129;01mnot\u001b[39;00m _is_valid_text_input(text_pair):\n\u001b[0;32m-> 2495\u001b[0m     \u001b[38;5;28;01mraise\u001b[39;00m \u001b[38;5;167;01mValueError\u001b[39;00m(\n\u001b[1;32m   2496\u001b[0m         \u001b[38;5;124m\"\u001b[39m\u001b[38;5;124mtext input must of type `str` (single example), `List[str]` (batch or single pretokenized example) \u001b[39m\u001b[38;5;124m\"\u001b[39m\n\u001b[1;32m   2497\u001b[0m         \u001b[38;5;124m\"\u001b[39m\u001b[38;5;124mor `List[List[str]]` (batch of pretokenized examples).\u001b[39m\u001b[38;5;124m\"\u001b[39m\n\u001b[1;32m   2498\u001b[0m     )\n\u001b[1;32m   2500\u001b[0m \u001b[38;5;28;01mif\u001b[39;00m is_split_into_words:\n\u001b[1;32m   2501\u001b[0m     is_batched \u001b[38;5;241m=\u001b[39m \u001b[38;5;28misinstance\u001b[39m(text, (\u001b[38;5;28mlist\u001b[39m, \u001b[38;5;28mtuple\u001b[39m)) \u001b[38;5;129;01mand\u001b[39;00m text \u001b[38;5;129;01mand\u001b[39;00m \u001b[38;5;28misinstance\u001b[39m(text[\u001b[38;5;241m0\u001b[39m], (\u001b[38;5;28mlist\u001b[39m, \u001b[38;5;28mtuple\u001b[39m))\n",
      "\u001b[0;31mValueError\u001b[0m: text input must of type `str` (single example), `List[str]` (batch or single pretokenized example) or `List[List[str]]` (batch of pretokenized examples)."
     ]
    }
   ],
   "source": [
    "import pandas as pd\n",
    "import torch\n",
    "from transformers import BertTokenizer, BertForSequenceClassification\n",
    "\n",
    "# load the BERT tokenizer\n",
    "tokenizer = BertTokenizer.from_pretrained('bert-base-uncased')\n",
    "\n",
    "# load the trained model\n",
    "model = BertForSequenceClassification.from_pretrained(save_path)\n",
    "\n",
    "# load the new data to be predicted\n",
    "new_data = pd.read_excel('unseen_data.xlsx')\n",
    "\n",
    "# encode the new data using the tokenizer\n",
    "encodings = tokenizer(list(new_data['input_cleaned']), list(new_data['search_text_cleaned']), list(new_data['page_name_cleaned']),\n",
    "                      truncation=True, padding=True)\n",
    "\n",
    "# create the dataset\n",
    "dataset = torch.utils.data.TensorDataset(\n",
    "    torch.tensor(encodings['input_ids']),\n",
    "    torch.tensor(encodings['attention_mask'])\n",
    ")\n",
    "\n",
    "# create the DataLoader for the new data\n",
    "loader = torch.utils.data.DataLoader(dataset, batch_size=16, shuffle=False)\n",
    "\n",
    "# make predictions on the new data\n",
    "predictions = []\n",
    "with torch.no_grad():\n",
    "    model.eval()\n",
    "    for batch in loader:\n",
    "        input_ids, attention_mask = batch\n",
    "        outputs = model(input_ids, attention_mask=attention_mask)\n",
    "        logits = outputs.logits\n",
    "        predictions.extend(torch.argmax(logits, dim=1).tolist())\n",
    "\n",
    "# add the predictions to the new data DataFrame\n",
    "new_data['predictions'] = predictions\n",
    "\n",
    "# save the new data with predictions\n",
    "new_data.to_csv('EC_predictions.csv', index=False)"
   ]
  },
  {
   "cell_type": "code",
   "execution_count": null,
   "metadata": {},
   "outputs": [],
   "source": []
  },
  {
   "cell_type": "code",
   "execution_count": null,
   "metadata": {},
   "outputs": [],
   "source": []
  },
  {
   "cell_type": "code",
   "execution_count": null,
   "metadata": {},
   "outputs": [],
   "source": []
  },
  {
   "cell_type": "code",
   "execution_count": null,
   "metadata": {},
   "outputs": [],
   "source": []
  }
 ],
 "metadata": {
  "instance_type": "ml.r5.24xlarge",
  "kernelspec": {
   "display_name": "python3 (adl-core-custom-docker/1)",
   "language": "python",
   "name": "python3__SAGEMAKER_INTERNAL__arn:aws:sagemaker:us-east-1:660999144548:image-version/adl-core-custom-docker/1"
  },
  "language_info": {
   "codemirror_mode": {
    "name": "ipython",
    "version": 3
   },
   "file_extension": ".py",
   "mimetype": "text/x-python",
   "name": "python",
   "nbconvert_exporter": "python",
   "pygments_lexer": "ipython3",
   "version": "3.9.12"
  }
 },
 "nbformat": 4,
 "nbformat_minor": 4
}
