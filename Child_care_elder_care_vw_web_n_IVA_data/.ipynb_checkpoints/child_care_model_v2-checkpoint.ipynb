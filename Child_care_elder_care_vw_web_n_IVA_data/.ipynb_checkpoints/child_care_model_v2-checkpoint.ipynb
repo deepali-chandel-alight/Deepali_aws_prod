{
 "cells": [
  {
   "cell_type": "code",
   "execution_count": 2,
   "metadata": {},
   "outputs": [
    {
     "name": "stdout",
     "output_type": "stream",
     "text": [
      "/bin/bash: warning: setlocale: LC_ALL: cannot change locale (en_US.UTF-8)\n",
      "Defaulting to user installation because normal site-packages is not writeable\n",
      "Looking in indexes: https://artifactory.alight.com/artifactory/api/pypi/python-pypi-remote/simple\n",
      "Requirement already satisfied: spacy in /home/sagemaker-user/.local/lib/python3.9/site-packages (3.1.7)\n",
      "Requirement already satisfied: wasabi<1.1.0,>=0.8.1 in /opt/conda/lib/python3.9/site-packages (from spacy) (0.10.1)\n",
      "Requirement already satisfied: requests<3.0.0,>=2.13.0 in /opt/conda/lib/python3.9/site-packages (from spacy) (2.27.1)\n",
      "Requirement already satisfied: smart-open<7.0.0,>=5.2.1 in /opt/conda/lib/python3.9/site-packages (from spacy) (5.2.1)\n",
      "Requirement already satisfied: typer<0.5.0,>=0.3.0 in /opt/conda/lib/python3.9/site-packages (from spacy) (0.4.2)\n",
      "Requirement already satisfied: preshed<3.1.0,>=3.0.2 in /opt/conda/lib/python3.9/site-packages (from spacy) (3.0.7)\n",
      "Requirement already satisfied: packaging>=20.0 in /opt/conda/lib/python3.9/site-packages (from spacy) (21.3)\n",
      "Requirement already satisfied: spacy-legacy<3.1.0,>=3.0.8 in /opt/conda/lib/python3.9/site-packages (from spacy) (3.0.10)\n",
      "Requirement already satisfied: cymem<2.1.0,>=2.0.2 in /opt/conda/lib/python3.9/site-packages (from spacy) (2.0.6)\n",
      "Requirement already satisfied: pathy>=0.3.5 in /opt/conda/lib/python3.9/site-packages (from spacy) (0.6.2)\n",
      "Requirement already satisfied: thinc<8.1.0,>=8.0.12 in /home/sagemaker-user/.local/lib/python3.9/site-packages (from spacy) (8.0.17)\n",
      "Requirement already satisfied: srsly<3.0.0,>=2.4.1 in /opt/conda/lib/python3.9/site-packages (from spacy) (2.4.4)\n",
      "Requirement already satisfied: setuptools in /opt/conda/lib/python3.9/site-packages (from spacy) (61.2.0)\n",
      "Requirement already satisfied: jinja2 in /opt/conda/lib/python3.9/site-packages (from spacy) (2.11.3)\n",
      "Requirement already satisfied: catalogue<2.1.0,>=2.0.6 in /opt/conda/lib/python3.9/site-packages (from spacy) (2.0.8)\n",
      "Requirement already satisfied: murmurhash<1.1.0,>=0.28.0 in /opt/conda/lib/python3.9/site-packages (from spacy) (1.0.8)\n",
      "Requirement already satisfied: blis<0.8.0,>=0.4.0 in /home/sagemaker-user/.local/lib/python3.9/site-packages (from spacy) (0.7.9)\n",
      "Requirement already satisfied: pydantic!=1.8,!=1.8.1,<1.9.0,>=1.7.4 in /home/sagemaker-user/.local/lib/python3.9/site-packages (from spacy) (1.8.2)\n",
      "Requirement already satisfied: numpy>=1.15.0 in /opt/conda/lib/python3.9/site-packages (from spacy) (1.21.5)\n",
      "Requirement already satisfied: tqdm<5.0.0,>=4.38.0 in /opt/conda/lib/python3.9/site-packages (from spacy) (4.64.0)\n",
      "Requirement already satisfied: pyparsing!=3.0.5,>=2.0.2 in /opt/conda/lib/python3.9/site-packages (from packaging>=20.0->spacy) (3.0.4)\n",
      "Requirement already satisfied: typing-extensions>=3.7.4.3 in /opt/conda/lib/python3.9/site-packages (from pydantic!=1.8,!=1.8.1,<1.9.0,>=1.7.4->spacy) (4.1.1)\n",
      "Requirement already satisfied: idna<4,>=2.5 in /opt/conda/lib/python3.9/site-packages (from requests<3.0.0,>=2.13.0->spacy) (3.3)\n",
      "Requirement already satisfied: urllib3<1.27,>=1.21.1 in /opt/conda/lib/python3.9/site-packages (from requests<3.0.0,>=2.13.0->spacy) (1.26.9)\n",
      "Requirement already satisfied: certifi>=2017.4.17 in /opt/conda/lib/python3.9/site-packages (from requests<3.0.0,>=2.13.0->spacy) (2021.10.8)\n",
      "Requirement already satisfied: charset-normalizer~=2.0.0 in /opt/conda/lib/python3.9/site-packages (from requests<3.0.0,>=2.13.0->spacy) (2.0.4)\n",
      "Requirement already satisfied: click<9.0.0,>=7.1.1 in /opt/conda/lib/python3.9/site-packages (from typer<0.5.0,>=0.3.0->spacy) (8.0.4)\n",
      "Requirement already satisfied: MarkupSafe>=0.23 in /opt/conda/lib/python3.9/site-packages (from jinja2->spacy) (2.0.1)\n"
     ]
    }
   ],
   "source": [
    "!pip install spacy"
   ]
  },
  {
   "cell_type": "code",
   "execution_count": 3,
   "metadata": {},
   "outputs": [
    {
     "name": "stdout",
     "output_type": "stream",
     "text": [
      "/bin/bash: warning: setlocale: LC_ALL: cannot change locale (en_US.UTF-8)\n",
      "Defaulting to user installation because normal site-packages is not writeable\n",
      "Looking in indexes: https://artifactory.alight.com/artifactory/api/pypi/python-pypi-remote/simple\n",
      "Processing ./en_core_web_sm-3.1.0-py3-none-any.whl\n",
      "Requirement already satisfied: spacy<3.2.0,>=3.1.0 in /home/sagemaker-user/.local/lib/python3.9/site-packages (from en-core-web-sm==3.1.0) (3.1.7)\n",
      "Requirement already satisfied: jinja2 in /opt/conda/lib/python3.9/site-packages (from spacy<3.2.0,>=3.1.0->en-core-web-sm==3.1.0) (2.11.3)\n",
      "Requirement already satisfied: preshed<3.1.0,>=3.0.2 in /opt/conda/lib/python3.9/site-packages (from spacy<3.2.0,>=3.1.0->en-core-web-sm==3.1.0) (3.0.7)\n",
      "Requirement already satisfied: packaging>=20.0 in /opt/conda/lib/python3.9/site-packages (from spacy<3.2.0,>=3.1.0->en-core-web-sm==3.1.0) (21.3)\n",
      "Requirement already satisfied: spacy-legacy<3.1.0,>=3.0.8 in /opt/conda/lib/python3.9/site-packages (from spacy<3.2.0,>=3.1.0->en-core-web-sm==3.1.0) (3.0.10)\n",
      "Requirement already satisfied: blis<0.8.0,>=0.4.0 in /home/sagemaker-user/.local/lib/python3.9/site-packages (from spacy<3.2.0,>=3.1.0->en-core-web-sm==3.1.0) (0.7.9)\n",
      "Requirement already satisfied: setuptools in /opt/conda/lib/python3.9/site-packages (from spacy<3.2.0,>=3.1.0->en-core-web-sm==3.1.0) (61.2.0)\n",
      "Requirement already satisfied: pydantic!=1.8,!=1.8.1,<1.9.0,>=1.7.4 in /home/sagemaker-user/.local/lib/python3.9/site-packages (from spacy<3.2.0,>=3.1.0->en-core-web-sm==3.1.0) (1.8.2)\n",
      "Requirement already satisfied: requests<3.0.0,>=2.13.0 in /opt/conda/lib/python3.9/site-packages (from spacy<3.2.0,>=3.1.0->en-core-web-sm==3.1.0) (2.27.1)\n",
      "Requirement already satisfied: srsly<3.0.0,>=2.4.1 in /opt/conda/lib/python3.9/site-packages (from spacy<3.2.0,>=3.1.0->en-core-web-sm==3.1.0) (2.4.4)\n",
      "Requirement already satisfied: numpy>=1.15.0 in /opt/conda/lib/python3.9/site-packages (from spacy<3.2.0,>=3.1.0->en-core-web-sm==3.1.0) (1.21.5)\n",
      "Requirement already satisfied: murmurhash<1.1.0,>=0.28.0 in /opt/conda/lib/python3.9/site-packages (from spacy<3.2.0,>=3.1.0->en-core-web-sm==3.1.0) (1.0.8)\n",
      "Requirement already satisfied: typer<0.5.0,>=0.3.0 in /opt/conda/lib/python3.9/site-packages (from spacy<3.2.0,>=3.1.0->en-core-web-sm==3.1.0) (0.4.2)\n",
      "Requirement already satisfied: cymem<2.1.0,>=2.0.2 in /opt/conda/lib/python3.9/site-packages (from spacy<3.2.0,>=3.1.0->en-core-web-sm==3.1.0) (2.0.6)\n",
      "Requirement already satisfied: pathy>=0.3.5 in /opt/conda/lib/python3.9/site-packages (from spacy<3.2.0,>=3.1.0->en-core-web-sm==3.1.0) (0.6.2)\n",
      "Requirement already satisfied: catalogue<2.1.0,>=2.0.6 in /opt/conda/lib/python3.9/site-packages (from spacy<3.2.0,>=3.1.0->en-core-web-sm==3.1.0) (2.0.8)\n",
      "Requirement already satisfied: smart-open<7.0.0,>=5.2.1 in /opt/conda/lib/python3.9/site-packages (from spacy<3.2.0,>=3.1.0->en-core-web-sm==3.1.0) (5.2.1)\n",
      "Requirement already satisfied: wasabi<1.1.0,>=0.8.1 in /opt/conda/lib/python3.9/site-packages (from spacy<3.2.0,>=3.1.0->en-core-web-sm==3.1.0) (0.10.1)\n",
      "Requirement already satisfied: thinc<8.1.0,>=8.0.12 in /home/sagemaker-user/.local/lib/python3.9/site-packages (from spacy<3.2.0,>=3.1.0->en-core-web-sm==3.1.0) (8.0.17)\n",
      "Requirement already satisfied: tqdm<5.0.0,>=4.38.0 in /opt/conda/lib/python3.9/site-packages (from spacy<3.2.0,>=3.1.0->en-core-web-sm==3.1.0) (4.64.0)\n",
      "Requirement already satisfied: pyparsing!=3.0.5,>=2.0.2 in /opt/conda/lib/python3.9/site-packages (from packaging>=20.0->spacy<3.2.0,>=3.1.0->en-core-web-sm==3.1.0) (3.0.4)\n",
      "Requirement already satisfied: typing-extensions>=3.7.4.3 in /opt/conda/lib/python3.9/site-packages (from pydantic!=1.8,!=1.8.1,<1.9.0,>=1.7.4->spacy<3.2.0,>=3.1.0->en-core-web-sm==3.1.0) (4.1.1)\n",
      "Requirement already satisfied: charset-normalizer~=2.0.0 in /opt/conda/lib/python3.9/site-packages (from requests<3.0.0,>=2.13.0->spacy<3.2.0,>=3.1.0->en-core-web-sm==3.1.0) (2.0.4)\n",
      "Requirement already satisfied: urllib3<1.27,>=1.21.1 in /opt/conda/lib/python3.9/site-packages (from requests<3.0.0,>=2.13.0->spacy<3.2.0,>=3.1.0->en-core-web-sm==3.1.0) (1.26.9)\n",
      "Requirement already satisfied: idna<4,>=2.5 in /opt/conda/lib/python3.9/site-packages (from requests<3.0.0,>=2.13.0->spacy<3.2.0,>=3.1.0->en-core-web-sm==3.1.0) (3.3)\n",
      "Requirement already satisfied: certifi>=2017.4.17 in /opt/conda/lib/python3.9/site-packages (from requests<3.0.0,>=2.13.0->spacy<3.2.0,>=3.1.0->en-core-web-sm==3.1.0) (2021.10.8)\n",
      "Requirement already satisfied: click<9.0.0,>=7.1.1 in /opt/conda/lib/python3.9/site-packages (from typer<0.5.0,>=0.3.0->spacy<3.2.0,>=3.1.0->en-core-web-sm==3.1.0) (8.0.4)\n",
      "Requirement already satisfied: MarkupSafe>=0.23 in /opt/conda/lib/python3.9/site-packages (from jinja2->spacy<3.2.0,>=3.1.0->en-core-web-sm==3.1.0) (2.0.1)\n",
      "en-core-web-sm is already installed with the same version as the provided wheel. Use --force-reinstall to force an installation of the wheel.\n"
     ]
    }
   ],
   "source": [
    "!pip install en_core_web_sm-3.1.0-py3-none-any.whl"
   ]
  },
  {
   "cell_type": "code",
   "execution_count": 4,
   "metadata": {},
   "outputs": [],
   "source": [
    "import spacy\n",
    "import en_core_web_sm"
   ]
  },
  {
   "cell_type": "code",
   "execution_count": 5,
   "metadata": {},
   "outputs": [],
   "source": [
    "nlp = spacy.load(\"en_core_web_sm\")"
   ]
  },
  {
   "cell_type": "code",
   "execution_count": 6,
   "metadata": {},
   "outputs": [],
   "source": [
    "import pandas as pd"
   ]
  },
  {
   "cell_type": "code",
   "execution_count": 7,
   "metadata": {},
   "outputs": [
    {
     "name": "stderr",
     "output_type": "stream",
     "text": [
      "/tmp/ipykernel_992/1269742681.py:1: DtypeWarning: Columns (36,37,38,41,42,43,44,61) have mixed types. Specify dtype option on import or set low_memory=False.\n",
      "  df_iva_sample = pd.read_csv(\"s3://adl-core-sagemaker-studio/external/Deepali/query202208-12.csv\")\n"
     ]
    }
   ],
   "source": [
    "df_iva_sample = pd.read_csv(\"s3://adl-core-sagemaker-studio/external/Deepali/query202208-12.csv\")"
   ]
  },
  {
   "cell_type": "code",
   "execution_count": 8,
   "metadata": {},
   "outputs": [
    {
     "name": "stderr",
     "output_type": "stream",
     "text": [
      "/tmp/ipykernel_992/1666922987.py:1: DtypeWarning: Columns (36,37,38,39,40,41,42,43,44,45,46,47,48,49,50,51,52,53,54,55) have mixed types. Specify dtype option on import or set low_memory=False.\n",
      "  df_iva_sample_1 = pd.read_csv(\"s3://adl-core-sagemaker-studio/external/IVA/query202201.csv\")\n"
     ]
    }
   ],
   "source": [
    "df_iva_sample_1 = pd.read_csv(\"s3://adl-core-sagemaker-studio/external/IVA/query202201.csv\")"
   ]
  },
  {
   "cell_type": "code",
   "execution_count": 9,
   "metadata": {},
   "outputs": [
    {
     "name": "stderr",
     "output_type": "stream",
     "text": [
      "/tmp/ipykernel_992/2423618519.py:1: DtypeWarning: Columns (36,38,41,43) have mixed types. Specify dtype option on import or set low_memory=False.\n",
      "  df_iva_sample_2 = pd.read_csv(\"s3://adl-core-sagemaker-studio/external/IVA/query202202-05.csv\")\n"
     ]
    }
   ],
   "source": [
    "df_iva_sample_2 = pd.read_csv(\"s3://adl-core-sagemaker-studio/external/IVA/query202202-05.csv\")"
   ]
  },
  {
   "cell_type": "code",
   "execution_count": 10,
   "metadata": {},
   "outputs": [
    {
     "name": "stderr",
     "output_type": "stream",
     "text": [
      "/tmp/ipykernel_992/3523077079.py:1: DtypeWarning: Columns (36,41) have mixed types. Specify dtype option on import or set low_memory=False.\n",
      "  df_iva_sample_3 = pd.read_csv(\"s3://adl-core-sagemaker-studio/external/IVA/query202206.csv\")\n"
     ]
    }
   ],
   "source": [
    "df_iva_sample_3 = pd.read_csv(\"s3://adl-core-sagemaker-studio/external/IVA/query202206.csv\")"
   ]
  },
  {
   "cell_type": "code",
   "execution_count": 11,
   "metadata": {},
   "outputs": [
    {
     "name": "stderr",
     "output_type": "stream",
     "text": [
      "/tmp/ipykernel_992/3794833382.py:1: DtypeWarning: Columns (36,37,41,42) have mixed types. Specify dtype option on import or set low_memory=False.\n",
      "  df_iva_sample_4 = pd.read_csv(\"s3://adl-core-sagemaker-studio/external/IVA/query202207.csv\")\n"
     ]
    }
   ],
   "source": [
    "df_iva_sample_4 = pd.read_csv(\"s3://adl-core-sagemaker-studio/external/IVA/query202207.csv\")"
   ]
  },
  {
   "cell_type": "code",
   "execution_count": 12,
   "metadata": {},
   "outputs": [],
   "source": [
    "df_iva = pd.concat([df_iva_sample, df_iva_sample_1, df_iva_sample_2, df_iva_sample_3, df_iva_sample_4 ], axis = 0)"
   ]
  },
  {
   "cell_type": "code",
   "execution_count": 13,
   "metadata": {},
   "outputs": [],
   "source": [
    "df_iva = df_iva.drop_duplicates()"
   ]
  },
  {
   "cell_type": "code",
   "execution_count": 14,
   "metadata": {},
   "outputs": [
    {
     "data": {
      "text/plain": [
       "(11859121, 67)"
      ]
     },
     "execution_count": 14,
     "metadata": {},
     "output_type": "execute_result"
    }
   ],
   "source": [
    "df_iva.shape"
   ]
  },
  {
   "cell_type": "code",
   "execution_count": 15,
   "metadata": {},
   "outputs": [],
   "source": [
    "df_iva = df_iva[['client_id','person_internal_id','input','unit_name','response_text','next_unit_hit','previous_unit_hit','knowledge_category']].drop_duplicates()"
   ]
  },
  {
   "cell_type": "code",
   "execution_count": 16,
   "metadata": {},
   "outputs": [],
   "source": [
    "df_iva = df_iva.drop_duplicates()"
   ]
  },
  {
   "cell_type": "code",
   "execution_count": 17,
   "metadata": {},
   "outputs": [
    {
     "data": {
      "text/plain": [
       "(9379811, 8)"
      ]
     },
     "execution_count": 17,
     "metadata": {},
     "output_type": "execute_result"
    }
   ],
   "source": [
    "df_iva.shape"
   ]
  },
  {
   "cell_type": "code",
   "execution_count": 18,
   "metadata": {},
   "outputs": [
    {
     "data": {
      "text/plain": [
       "Index(['client_id', 'person_internal_id', 'input', 'unit_name',\n",
       "       'response_text', 'next_unit_hit', 'previous_unit_hit',\n",
       "       'knowledge_category'],\n",
       "      dtype='object')"
      ]
     },
     "execution_count": 18,
     "metadata": {},
     "output_type": "execute_result"
    }
   ],
   "source": [
    "df_iva.columns"
   ]
  },
  {
   "cell_type": "code",
   "execution_count": 19,
   "metadata": {},
   "outputs": [],
   "source": [
    "words_2 = ['day care', 'creche', 'child care', \n",
    " 'nursery', 'nursery school', 'preschool', 'after-school care', 'day nursery', 'infant school', \n",
    " 'infant care', 'playschool', 'play-group', 'kindergarten', 'childminding', 'babysitting', 'babysitter', \n",
    " 'nanny care', 'children supervision', 'toddler care']\n",
    "\n",
    "df_iva_cc = df_iva[df_iva['input'].str.contains('|'.join(words_2), case=False, na=False)]"
   ]
  },
  {
   "cell_type": "code",
   "execution_count": 20,
   "metadata": {},
   "outputs": [
    {
     "name": "stderr",
     "output_type": "stream",
     "text": [
      "/tmp/ipykernel_992/1145258041.py:1: SettingWithCopyWarning: \n",
      "A value is trying to be set on a copy of a slice from a DataFrame.\n",
      "Try using .loc[row_indexer,col_indexer] = value instead\n",
      "\n",
      "See the caveats in the documentation: https://pandas.pydata.org/pandas-docs/stable/user_guide/indexing.html#returning-a-view-versus-a-copy\n",
      "  df_iva_cc['category'] = 'Child care'\n"
     ]
    }
   ],
   "source": [
    "df_iva_cc['category'] = 'Child care'"
   ]
  },
  {
   "cell_type": "code",
   "execution_count": 22,
   "metadata": {},
   "outputs": [],
   "source": [
    "df_iva_non_child = df_iva[~df_iva['input'].str.contains('|'.join(words_2), case=False, na=False)][['client_id','person_internal_id','input','next_unit_hit','unit_name','knowledge_category','response_text']].head(df_iva_cc.shape[0])"
   ]
  },
  {
   "cell_type": "code",
   "execution_count": 23,
   "metadata": {},
   "outputs": [],
   "source": [
    "df_iva_non_child['category'] = 'other'"
   ]
  },
  {
   "cell_type": "code",
   "execution_count": 24,
   "metadata": {},
   "outputs": [],
   "source": [
    "df_iva_child_non_child_care = pd.concat([df_iva_cc, df_iva_non_child], axis = 0)"
   ]
  },
  {
   "cell_type": "code",
   "execution_count": 25,
   "metadata": {},
   "outputs": [],
   "source": [
    "df_iva_child_non_child_care = df_iva_child_non_child_care.sample(frac=1, random_state=42)"
   ]
  },
  {
   "cell_type": "code",
   "execution_count": 26,
   "metadata": {},
   "outputs": [
    {
     "data": {
      "text/plain": [
       "(12900, 9)"
      ]
     },
     "execution_count": 26,
     "metadata": {},
     "output_type": "execute_result"
    }
   ],
   "source": [
    "df_iva_child_non_child_care.shape"
   ]
  },
  {
   "cell_type": "code",
   "execution_count": 27,
   "metadata": {},
   "outputs": [],
   "source": [
    "df_iva_child_non_child_care = df_iva_child_non_child_care.drop_duplicates()"
   ]
  },
  {
   "cell_type": "code",
   "execution_count": 28,
   "metadata": {},
   "outputs": [
    {
     "data": {
      "text/plain": [
       "(12893, 9)"
      ]
     },
     "execution_count": 28,
     "metadata": {},
     "output_type": "execute_result"
    }
   ],
   "source": [
    "df_iva_child_non_child_care.shape"
   ]
  },
  {
   "cell_type": "code",
   "execution_count": 29,
   "metadata": {},
   "outputs": [
    {
     "data": {
      "text/plain": [
       "<bound method IndexOpsMixin.value_counts of 5268          Technical Units\n",
       "2970        Health Management\n",
       "8198            HM-Clarifiers\n",
       "4241       Technical Behavior\n",
       "5266       General Clarifiers\n",
       "                  ...        \n",
       "5747        Health Management\n",
       "1936850     Health Management\n",
       "2337698     Health Management\n",
       "1377143         HM-Clarifiers\n",
       "836           Technical Units\n",
       "Name: knowledge_category, Length: 12893, dtype: object>"
      ]
     },
     "execution_count": 29,
     "metadata": {},
     "output_type": "execute_result"
    }
   ],
   "source": [
    "df_iva_child_non_child_care['knowledge_category'].value_counts"
   ]
  },
  {
   "cell_type": "code",
   "execution_count": 30,
   "metadata": {},
   "outputs": [],
   "source": [
    "def count_intnt_entits(text):\n",
    "    doc = nlp(text)\n",
    "    intents = [token.text for token in doc if token.pos_ == 'VERB']\n",
    "    entities = [token.text for token in doc if token.pos_ in {'NOUN', 'PROPN', 'ADJ', 'NUM', 'ADV'}]\n",
    "    return len(intents), len(entities)\n",
    "\n",
    "import re\n",
    "def clean_text(text):\n",
    "    clean_text = re.sub(r'[^\\w\\s]', '', text)\n",
    "    return clean_text\n",
    "\n",
    "def extract_ner_entities(sentence):\n",
    "    doc = nlp(sentence)\n",
    "    entities = [(entity.text, entity.label_) for entity in doc.ents]\n",
    "    return entities\n",
    "\n",
    "import numpy as np\n",
    "def length_entities(list_entities):\n",
    "    if (list_entities==np.nan or list_entities==None or list_entities==''):\n",
    "        return 0\n",
    "    else:\n",
    "        return len(list_entities)\n",
    "    \n",
    "filter_func = lambda x: any(item[1] in [\"PERSON\", \"GPE\", \"ORG\", \"LOC\", \"FAC\"] for item in x)"
   ]
  },
  {
   "cell_type": "code",
   "execution_count": 31,
   "metadata": {},
   "outputs": [],
   "source": [
    "list_1 = ['ira','RMD','HRdirect','livechat','what is my hsa','P45','Payslip?',\n",
    "    'sps','F80.2','ub','What is YSA','Paystub please','Sh','mfv','C-128','ax','no is hsa','FormL564','HIS','cif','GreT','YSACard',\n",
    "    'Heli','RxPCN','403(b)','Hsa yes or no','ypr','Gv','ONA?','What is UHC?','HC-2','uo','what is 4DX?','osh','what is my hsa?',\n",
    "    'sPRAVATO','sdr','RMD’s','coverage?How','This is for my hsa','pto?','A&DD','childcareplus','fs','mbi','Is that my lowesbenefit.com',\n",
    "    'hra yes','mri?']\n",
    "    \n",
    "def text_preprocess(dataframe, list_1):\n",
    "    dataframe = dataframe.drop_duplicates()\n",
    "#     dataframe = dataframe[dataframe['knowledge_category']!='Technical Units']\n",
    "    dataframe['input_cleaned'] = dataframe.input.fillna('')\n",
    "    dataframe[['no_of_intents', 'no_of_entities']] = dataframe.input_cleaned.apply(lambda x: pd.Series(count_intnt_entits(x)))  \n",
    "#     print(dataframe)\n",
    "    dataframe = dataframe[((dataframe['no_of_intents']>0) & (dataframe['no_of_entities']>0))|(dataframe['input_cleaned'].isin(list_1))]\n",
    "#     print(dataframe)\n",
    "    dataframe = dataframe.drop(['no_of_intents','no_of_entities'], axis=1)\n",
    "#     print(dataframe)\n",
    "    dataframe = dataframe.drop_duplicates(subset = ['input','input_cleaned','unit_name','response_text','next_unit_hit','previous_unit_hit','knowledge_category'])\n",
    "#     print(dataframe)\n",
    "    dataframe['input_cleaned'] = dataframe['input_cleaned'].apply(clean_text)\n",
    "#     print(dataframe)\n",
    "    dataframe['ner_enities'] = dataframe['input_cleaned'].apply(extract_ner_entities)\n",
    "#     print(dataframe)\n",
    "    dataframe['len_ner_enities'] = dataframe['ner_enities'].apply(length_entities)\n",
    "#     print(dataframe)\n",
    "    dataframe3 = dataframe[dataframe['len_ner_enities']>0]\n",
    "#     print(dataframe)\n",
    "    dataframe4 = dataframe[dataframe['len_ner_enities']==0]\n",
    "#     print(dataframe)\n",
    "    dataframe5 = dataframe3[~dataframe3[\"ner_enities\"].apply(filter_func)]\n",
    "#     print(dataframe)\n",
    "    dataframe6 = pd.concat([dataframe4, dataframe5], axis = 0)\n",
    "#     print(dataframe)\n",
    "    dataframe6 = dataframe6.drop(['ner_enities','len_ner_enities'], axis=1)\n",
    "#     print(dataframe)\n",
    "    dataframe6['input_changed']=dataframe6['input']!=dataframe6['input_cleaned']\n",
    "#     df_iva6.to_excel('IVA_all_cat_claened_data.xlsx')\n",
    "    \n",
    "    return dataframe6"
   ]
  },
  {
   "cell_type": "code",
   "execution_count": 32,
   "metadata": {},
   "outputs": [],
   "source": [
    "df_iva_cleaned = text_preprocess(df_iva_child_non_child_care, list_1)"
   ]
  },
  {
   "cell_type": "code",
   "execution_count": 33,
   "metadata": {},
   "outputs": [
    {
     "data": {
      "text/html": [
       "<div>\n",
       "<style scoped>\n",
       "    .dataframe tbody tr th:only-of-type {\n",
       "        vertical-align: middle;\n",
       "    }\n",
       "\n",
       "    .dataframe tbody tr th {\n",
       "        vertical-align: top;\n",
       "    }\n",
       "\n",
       "    .dataframe thead th {\n",
       "        text-align: right;\n",
       "    }\n",
       "</style>\n",
       "<table border=\"1\" class=\"dataframe\">\n",
       "  <thead>\n",
       "    <tr style=\"text-align: right;\">\n",
       "      <th></th>\n",
       "      <th>client_id</th>\n",
       "      <th>person_internal_id</th>\n",
       "      <th>input</th>\n",
       "      <th>unit_name</th>\n",
       "      <th>response_text</th>\n",
       "      <th>next_unit_hit</th>\n",
       "      <th>previous_unit_hit</th>\n",
       "      <th>knowledge_category</th>\n",
       "      <th>category</th>\n",
       "      <th>input_cleaned</th>\n",
       "      <th>input_changed</th>\n",
       "    </tr>\n",
       "  </thead>\n",
       "  <tbody>\n",
       "    <tr>\n",
       "      <th>8198</th>\n",
       "      <td>1487</td>\n",
       "      <td>481540053</td>\n",
       "      <td>need copy of child care request reimbursement ...</td>\n",
       "      <td>Dependent Care Spending Account Clarifier</td>\n",
       "      <td>A Dependent Care FSA allows you to set aside b...</td>\n",
       "      <td>Form Clarifier</td>\n",
       "      <td>AppEvent WelcomeUserFollowUp</td>\n",
       "      <td>HM-Clarifiers</td>\n",
       "      <td>Child care</td>\n",
       "      <td>need copy of child care request reimbursement ...</td>\n",
       "      <td>False</td>\n",
       "    </tr>\n",
       "    <tr>\n",
       "      <th>4241</th>\n",
       "      <td>1698</td>\n",
       "      <td>251140059</td>\n",
       "      <td>Find Additional Support</td>\n",
       "      <td>Contact Us Page - Related Link Only</td>\n",
       "      <td>I can point you in the right direction. Just c...</td>\n",
       "      <td>NaN</td>\n",
       "      <td>NaN</td>\n",
       "      <td>Technical Behavior</td>\n",
       "      <td>other</td>\n",
       "      <td>Find Additional Support</td>\n",
       "      <td>False</td>\n",
       "    </tr>\n",
       "    <tr>\n",
       "      <th>3619606</th>\n",
       "      <td>1487</td>\n",
       "      <td>384500009</td>\n",
       "      <td>Am I enrolled in Child Care Plus</td>\n",
       "      <td>Child Care Plus Information</td>\n",
       "      <td>Child Care Plus reimburses eligible employees ...</td>\n",
       "      <td>AppEvent GradingComplete</td>\n",
       "      <td>AppEvent WelcomeUserFollowUp</td>\n",
       "      <td>Health Management</td>\n",
       "      <td>Child care</td>\n",
       "      <td>Am I enrolled in Child Care Plus</td>\n",
       "      <td>False</td>\n",
       "    </tr>\n",
       "    <tr>\n",
       "      <th>6462</th>\n",
       "      <td>3979</td>\n",
       "      <td>309100044</td>\n",
       "      <td>well, how do I change the date</td>\n",
       "      <td>Update Clarifier</td>\n",
       "      <td>Please click on a link below:</td>\n",
       "      <td>Annual Enrollment Clarifier</td>\n",
       "      <td>NaN</td>\n",
       "      <td>General Clarifiers</td>\n",
       "      <td>other</td>\n",
       "      <td>well how do I change the date</td>\n",
       "      <td>True</td>\n",
       "    </tr>\n",
       "    <tr>\n",
       "      <th>3983</th>\n",
       "      <td>936</td>\n",
       "      <td>59171068</td>\n",
       "      <td>I want to get pet insurance</td>\n",
       "      <td>Enroll in Pet Insurance</td>\n",
       "      <td>If this benefit is available to you, you can e...</td>\n",
       "      <td>Manage Benefits Due to Life Event</td>\n",
       "      <td>NaN</td>\n",
       "      <td>Health Management</td>\n",
       "      <td>other</td>\n",
       "      <td>I want to get pet insurance</td>\n",
       "      <td>False</td>\n",
       "    </tr>\n",
       "    <tr>\n",
       "      <th>...</th>\n",
       "      <td>...</td>\n",
       "      <td>...</td>\n",
       "      <td>...</td>\n",
       "      <td>...</td>\n",
       "      <td>...</td>\n",
       "      <td>...</td>\n",
       "      <td>...</td>\n",
       "      <td>...</td>\n",
       "      <td>...</td>\n",
       "      <td>...</td>\n",
       "      <td>...</td>\n",
       "    </tr>\n",
       "    <tr>\n",
       "      <th>3350967</th>\n",
       "      <td>1808</td>\n",
       "      <td>207210037</td>\n",
       "      <td>Need help with Dependent day care fsa</td>\n",
       "      <td>Dependent Care Spending Account Clarifier</td>\n",
       "      <td>Sorry, I understand what you’re asking, but I ...</td>\n",
       "      <td>NaN</td>\n",
       "      <td>AppEvent WelcomeUserFollowUp</td>\n",
       "      <td>HM-Clarifiers</td>\n",
       "      <td>Child care</td>\n",
       "      <td>Need help with Dependent day care fsa</td>\n",
       "      <td>False</td>\n",
       "    </tr>\n",
       "    <tr>\n",
       "      <th>2745919</th>\n",
       "      <td>1971</td>\n",
       "      <td>297900047</td>\n",
       "      <td>i need to submit a claim for my dependent day ...</td>\n",
       "      <td>Dependent Care Spending Account Claim</td>\n",
       "      <td>To submit a claim, please view the link I’ve a...</td>\n",
       "      <td>NaN</td>\n",
       "      <td>AppEvent GradingComplete</td>\n",
       "      <td>Health Management</td>\n",
       "      <td>Child care</td>\n",
       "      <td>i need to submit a claim for my dependent day ...</td>\n",
       "      <td>False</td>\n",
       "    </tr>\n",
       "    <tr>\n",
       "      <th>2103544</th>\n",
       "      <td>4508</td>\n",
       "      <td>434940034</td>\n",
       "      <td>contributo to Dependent Day Care Reimbursement...</td>\n",
       "      <td>Dependent Care Spending Account Reimbursement</td>\n",
       "      <td>You can get reimbursed from your Flexible Spen...</td>\n",
       "      <td>Dependent Care Spending Account Eligible Expenses</td>\n",
       "      <td>AppEvent GradingComplete</td>\n",
       "      <td>Health Management</td>\n",
       "      <td>Child care</td>\n",
       "      <td>contributo to Dependent Day Care Reimbursement...</td>\n",
       "      <td>False</td>\n",
       "    </tr>\n",
       "    <tr>\n",
       "      <th>5341707</th>\n",
       "      <td>1487</td>\n",
       "      <td>321600070</td>\n",
       "      <td>How do enroll for 2023 for child care plus?</td>\n",
       "      <td>Child Care Plus Information</td>\n",
       "      <td>Child Care Plus reimburses eligible employees ...</td>\n",
       "      <td>AppEvent GradingComplete</td>\n",
       "      <td>Child Care Plus Information</td>\n",
       "      <td>Health Management</td>\n",
       "      <td>Child care</td>\n",
       "      <td>How do enroll for 2023 for child care plus</td>\n",
       "      <td>True</td>\n",
       "    </tr>\n",
       "    <tr>\n",
       "      <th>3426325</th>\n",
       "      <td>9408</td>\n",
       "      <td>610083</td>\n",
       "      <td>Qualified dependent day care flexible spending...</td>\n",
       "      <td>Dependent Care Spending Account Eligibility</td>\n",
       "      <td>I see you're asking about dependent care spend...</td>\n",
       "      <td>Dependent Care Spending Account Eligible Expenses</td>\n",
       "      <td>AppEvent WelcomeUserFollowUp</td>\n",
       "      <td>Health Management</td>\n",
       "      <td>Child care</td>\n",
       "      <td>Qualified dependent day care flexible spending...</td>\n",
       "      <td>False</td>\n",
       "    </tr>\n",
       "  </tbody>\n",
       "</table>\n",
       "<p>3557 rows × 11 columns</p>\n",
       "</div>"
      ],
      "text/plain": [
       "         client_id  person_internal_id  \\\n",
       "8198          1487           481540053   \n",
       "4241          1698           251140059   \n",
       "3619606       1487           384500009   \n",
       "6462          3979           309100044   \n",
       "3983           936            59171068   \n",
       "...            ...                 ...   \n",
       "3350967       1808           207210037   \n",
       "2745919       1971           297900047   \n",
       "2103544       4508           434940034   \n",
       "5341707       1487           321600070   \n",
       "3426325       9408              610083   \n",
       "\n",
       "                                                     input  \\\n",
       "8198     need copy of child care request reimbursement ...   \n",
       "4241                               Find Additional Support   \n",
       "3619606                   Am I enrolled in Child Care Plus   \n",
       "6462                        well, how do I change the date   \n",
       "3983                           I want to get pet insurance   \n",
       "...                                                    ...   \n",
       "3350967              Need help with Dependent day care fsa   \n",
       "2745919  i need to submit a claim for my dependent day ...   \n",
       "2103544  contributo to Dependent Day Care Reimbursement...   \n",
       "5341707        How do enroll for 2023 for child care plus?   \n",
       "3426325  Qualified dependent day care flexible spending...   \n",
       "\n",
       "                                             unit_name  \\\n",
       "8198         Dependent Care Spending Account Clarifier   \n",
       "4241               Contact Us Page - Related Link Only   \n",
       "3619606                    Child Care Plus Information   \n",
       "6462                                  Update Clarifier   \n",
       "3983                           Enroll in Pet Insurance   \n",
       "...                                                ...   \n",
       "3350967      Dependent Care Spending Account Clarifier   \n",
       "2745919          Dependent Care Spending Account Claim   \n",
       "2103544  Dependent Care Spending Account Reimbursement   \n",
       "5341707                    Child Care Plus Information   \n",
       "3426325    Dependent Care Spending Account Eligibility   \n",
       "\n",
       "                                             response_text  \\\n",
       "8198     A Dependent Care FSA allows you to set aside b...   \n",
       "4241     I can point you in the right direction. Just c...   \n",
       "3619606  Child Care Plus reimburses eligible employees ...   \n",
       "6462                         Please click on a link below:   \n",
       "3983     If this benefit is available to you, you can e...   \n",
       "...                                                    ...   \n",
       "3350967  Sorry, I understand what you’re asking, but I ...   \n",
       "2745919  To submit a claim, please view the link I’ve a...   \n",
       "2103544  You can get reimbursed from your Flexible Spen...   \n",
       "5341707  Child Care Plus reimburses eligible employees ...   \n",
       "3426325  I see you're asking about dependent care spend...   \n",
       "\n",
       "                                             next_unit_hit  \\\n",
       "8198                                        Form Clarifier   \n",
       "4241                                                   NaN   \n",
       "3619606                           AppEvent GradingComplete   \n",
       "6462                           Annual Enrollment Clarifier   \n",
       "3983                     Manage Benefits Due to Life Event   \n",
       "...                                                    ...   \n",
       "3350967                                                NaN   \n",
       "2745919                                                NaN   \n",
       "2103544  Dependent Care Spending Account Eligible Expenses   \n",
       "5341707                           AppEvent GradingComplete   \n",
       "3426325  Dependent Care Spending Account Eligible Expenses   \n",
       "\n",
       "                    previous_unit_hit  knowledge_category    category  \\\n",
       "8198     AppEvent WelcomeUserFollowUp       HM-Clarifiers  Child care   \n",
       "4241                              NaN  Technical Behavior       other   \n",
       "3619606  AppEvent WelcomeUserFollowUp   Health Management  Child care   \n",
       "6462                              NaN  General Clarifiers       other   \n",
       "3983                              NaN   Health Management       other   \n",
       "...                               ...                 ...         ...   \n",
       "3350967  AppEvent WelcomeUserFollowUp       HM-Clarifiers  Child care   \n",
       "2745919      AppEvent GradingComplete   Health Management  Child care   \n",
       "2103544      AppEvent GradingComplete   Health Management  Child care   \n",
       "5341707   Child Care Plus Information   Health Management  Child care   \n",
       "3426325  AppEvent WelcomeUserFollowUp   Health Management  Child care   \n",
       "\n",
       "                                             input_cleaned  input_changed  \n",
       "8198     need copy of child care request reimbursement ...          False  \n",
       "4241                               Find Additional Support          False  \n",
       "3619606                   Am I enrolled in Child Care Plus          False  \n",
       "6462                         well how do I change the date           True  \n",
       "3983                           I want to get pet insurance          False  \n",
       "...                                                    ...            ...  \n",
       "3350967              Need help with Dependent day care fsa          False  \n",
       "2745919  i need to submit a claim for my dependent day ...          False  \n",
       "2103544  contributo to Dependent Day Care Reimbursement...          False  \n",
       "5341707         How do enroll for 2023 for child care plus           True  \n",
       "3426325  Qualified dependent day care flexible spending...          False  \n",
       "\n",
       "[3557 rows x 11 columns]"
      ]
     },
     "execution_count": 33,
     "metadata": {},
     "output_type": "execute_result"
    }
   ],
   "source": [
    "df_iva_cleaned"
   ]
  },
  {
   "cell_type": "code",
   "execution_count": 34,
   "metadata": {},
   "outputs": [],
   "source": [
    "df_iva_cleaned.loc[df_iva_cleaned['input_cleaned'].str.lower().str.contains('childelder'), 'category'] = 'Child/Elder care'"
   ]
  },
  {
   "cell_type": "code",
   "execution_count": 35,
   "metadata": {},
   "outputs": [],
   "source": [
    "df_iva_cleaned.to_excel('IVA_data_child_care_model.xlsx')"
   ]
  },
  {
   "cell_type": "code",
   "execution_count": 36,
   "metadata": {},
   "outputs": [],
   "source": [
    "df_iva_cleaned2 = df_iva_cleaned.drop(['input','next_unit_hit','unit_name'], axis=1)"
   ]
  },
  {
   "cell_type": "code",
   "execution_count": 37,
   "metadata": {},
   "outputs": [
    {
     "data": {
      "text/html": [
       "<div>\n",
       "<style scoped>\n",
       "    .dataframe tbody tr th:only-of-type {\n",
       "        vertical-align: middle;\n",
       "    }\n",
       "\n",
       "    .dataframe tbody tr th {\n",
       "        vertical-align: top;\n",
       "    }\n",
       "\n",
       "    .dataframe thead th {\n",
       "        text-align: right;\n",
       "    }\n",
       "</style>\n",
       "<table border=\"1\" class=\"dataframe\">\n",
       "  <thead>\n",
       "    <tr style=\"text-align: right;\">\n",
       "      <th></th>\n",
       "      <th>client_id</th>\n",
       "      <th>person_internal_id</th>\n",
       "      <th>response_text</th>\n",
       "      <th>previous_unit_hit</th>\n",
       "      <th>knowledge_category</th>\n",
       "      <th>category</th>\n",
       "      <th>input_cleaned</th>\n",
       "      <th>input_changed</th>\n",
       "    </tr>\n",
       "  </thead>\n",
       "  <tbody>\n",
       "    <tr>\n",
       "      <th>8198</th>\n",
       "      <td>1487</td>\n",
       "      <td>481540053</td>\n",
       "      <td>A Dependent Care FSA allows you to set aside b...</td>\n",
       "      <td>AppEvent WelcomeUserFollowUp</td>\n",
       "      <td>HM-Clarifiers</td>\n",
       "      <td>Child care</td>\n",
       "      <td>need copy of child care request reimbursement ...</td>\n",
       "      <td>False</td>\n",
       "    </tr>\n",
       "    <tr>\n",
       "      <th>4241</th>\n",
       "      <td>1698</td>\n",
       "      <td>251140059</td>\n",
       "      <td>I can point you in the right direction. Just c...</td>\n",
       "      <td>NaN</td>\n",
       "      <td>Technical Behavior</td>\n",
       "      <td>other</td>\n",
       "      <td>Find Additional Support</td>\n",
       "      <td>False</td>\n",
       "    </tr>\n",
       "    <tr>\n",
       "      <th>3619606</th>\n",
       "      <td>1487</td>\n",
       "      <td>384500009</td>\n",
       "      <td>Child Care Plus reimburses eligible employees ...</td>\n",
       "      <td>AppEvent WelcomeUserFollowUp</td>\n",
       "      <td>Health Management</td>\n",
       "      <td>Child care</td>\n",
       "      <td>Am I enrolled in Child Care Plus</td>\n",
       "      <td>False</td>\n",
       "    </tr>\n",
       "    <tr>\n",
       "      <th>6462</th>\n",
       "      <td>3979</td>\n",
       "      <td>309100044</td>\n",
       "      <td>Please click on a link below:</td>\n",
       "      <td>NaN</td>\n",
       "      <td>General Clarifiers</td>\n",
       "      <td>other</td>\n",
       "      <td>well how do I change the date</td>\n",
       "      <td>True</td>\n",
       "    </tr>\n",
       "    <tr>\n",
       "      <th>3983</th>\n",
       "      <td>936</td>\n",
       "      <td>59171068</td>\n",
       "      <td>If this benefit is available to you, you can e...</td>\n",
       "      <td>NaN</td>\n",
       "      <td>Health Management</td>\n",
       "      <td>other</td>\n",
       "      <td>I want to get pet insurance</td>\n",
       "      <td>False</td>\n",
       "    </tr>\n",
       "  </tbody>\n",
       "</table>\n",
       "</div>"
      ],
      "text/plain": [
       "         client_id  person_internal_id  \\\n",
       "8198          1487           481540053   \n",
       "4241          1698           251140059   \n",
       "3619606       1487           384500009   \n",
       "6462          3979           309100044   \n",
       "3983           936            59171068   \n",
       "\n",
       "                                             response_text  \\\n",
       "8198     A Dependent Care FSA allows you to set aside b...   \n",
       "4241     I can point you in the right direction. Just c...   \n",
       "3619606  Child Care Plus reimburses eligible employees ...   \n",
       "6462                         Please click on a link below:   \n",
       "3983     If this benefit is available to you, you can e...   \n",
       "\n",
       "                    previous_unit_hit  knowledge_category    category  \\\n",
       "8198     AppEvent WelcomeUserFollowUp       HM-Clarifiers  Child care   \n",
       "4241                              NaN  Technical Behavior       other   \n",
       "3619606  AppEvent WelcomeUserFollowUp   Health Management  Child care   \n",
       "6462                              NaN  General Clarifiers       other   \n",
       "3983                              NaN   Health Management       other   \n",
       "\n",
       "                                             input_cleaned  input_changed  \n",
       "8198     need copy of child care request reimbursement ...          False  \n",
       "4241                               Find Additional Support          False  \n",
       "3619606                   Am I enrolled in Child Care Plus          False  \n",
       "6462                         well how do I change the date           True  \n",
       "3983                           I want to get pet insurance          False  "
      ]
     },
     "execution_count": 37,
     "metadata": {},
     "output_type": "execute_result"
    }
   ],
   "source": [
    "df_iva_cleaned2.head(5)"
   ]
  },
  {
   "cell_type": "code",
   "execution_count": 38,
   "metadata": {},
   "outputs": [
    {
     "data": {
      "text/plain": [
       "(3557, 8)"
      ]
     },
     "execution_count": 38,
     "metadata": {},
     "output_type": "execute_result"
    }
   ],
   "source": [
    "df_iva_cleaned2.shape"
   ]
  },
  {
   "cell_type": "markdown",
   "metadata": {},
   "source": [
    "--------"
   ]
  },
  {
   "cell_type": "markdown",
   "metadata": {},
   "source": [
    "--------"
   ]
  },
  {
   "cell_type": "markdown",
   "metadata": {},
   "source": [
    "## Building Elder care model"
   ]
  },
  {
   "cell_type": "markdown",
   "metadata": {},
   "source": [
    "-----"
   ]
  },
  {
   "cell_type": "code",
   "execution_count": 39,
   "metadata": {},
   "outputs": [],
   "source": [
    "import transformers\n",
    "import torch\n",
    "import numpy as np\n",
    "\n",
    "import numpy as np\n",
    "import regex as re\n",
    "import pandas as pd\n",
    "import matplotlib.pyplot as plt\n",
    "import seaborn as sns\n",
    "import statistics\n",
    "import math\n",
    "import os\n",
    "\n",
    "from sklearn.model_selection import StratifiedKFold\n",
    "from sklearn.metrics import accuracy_score\n",
    "from sklearn.model_selection import train_test_split\n",
    "\n",
    "import tensorflow as tf\n",
    "import tensorflow.keras.backend as K\n",
    "import tokenizers\n",
    "from transformers import RobertaTokenizer, TFRobertaModel\n",
    "\n",
    "from collections import Counter\n",
    "\n",
    "import warnings\n",
    "warnings.filterwarnings(\"ignore\")"
   ]
  },
  {
   "cell_type": "markdown",
   "metadata": {},
   "source": [
    "----"
   ]
  },
  {
   "cell_type": "code",
   "execution_count": 40,
   "metadata": {},
   "outputs": [],
   "source": [
    "import torch\n",
    "from transformers import RobertaTokenizer, RobertaForSequenceClassification\n",
    "# from transformers import DistilBertTokenizer, DistilBertModel\n",
    "from sklearn.model_selection import train_test_split\n",
    "from sklearn.preprocessing import LabelEncoder"
   ]
  },
  {
   "cell_type": "code",
   "execution_count": 41,
   "metadata": {},
   "outputs": [],
   "source": [
    "# Load the dataset\n",
    "# Replace `X_train`, `Y_train`, `X_test`, and `Y_test` with your own data\n",
    "X_train, X_test, Y_train, Y_test = train_test_split(df_iva_cleaned2['input_cleaned'], df_iva_cleaned2['category'], test_size=0.2)"
   ]
  },
  {
   "cell_type": "code",
   "execution_count": 42,
   "metadata": {},
   "outputs": [],
   "source": [
    "# Encode the labels\n",
    "le = LabelEncoder()\n",
    "Y_train = le.fit_transform(Y_train)\n",
    "Y_test = le.transform(Y_test)"
   ]
  },
  {
   "cell_type": "code",
   "execution_count": 43,
   "metadata": {},
   "outputs": [],
   "source": [
    "# Load the tokenizer\n",
    "tokenizer = RobertaTokenizer.from_pretrained('roberta-base')\n",
    "#distilbert-base-uncased\n",
    "\n",
    "# tokenizer = DistilBertTokenizer.from_pretrained('distilbert-base-uncased')\n",
    "# model = DistilBertModel.from_pretrained(\"distilbert-base-uncased\")"
   ]
  },
  {
   "cell_type": "code",
   "execution_count": 44,
   "metadata": {},
   "outputs": [],
   "source": [
    "# Tokenize the input data\n",
    "train_encodings = tokenizer(list(X_train), truncation=True, padding=True, max_length=512)\n",
    "test_encodings = tokenizer(list(X_test), truncation=True, padding=True, max_length=512)"
   ]
  },
  {
   "cell_type": "code",
   "execution_count": 45,
   "metadata": {},
   "outputs": [],
   "source": [
    "# Convert the input data into PyTorch tensors\n",
    "X_train = torch.tensor(train_encodings['input_ids'])\n",
    "train_masks = torch.tensor(train_encodings['attention_mask'])\n",
    "Y_train = torch.tensor(Y_train)\n",
    "X_test = torch.tensor(test_encodings['input_ids'])\n",
    "test_masks = torch.tensor(test_encodings['attention_mask'])\n",
    "Y_test = torch.tensor(Y_test)"
   ]
  },
  {
   "cell_type": "code",
   "execution_count": 46,
   "metadata": {},
   "outputs": [
    {
     "name": "stderr",
     "output_type": "stream",
     "text": [
      "Some weights of the model checkpoint at roberta-base were not used when initializing RobertaForSequenceClassification: ['lm_head.decoder.weight', 'lm_head.layer_norm.weight', 'lm_head.bias', 'lm_head.dense.bias', 'lm_head.layer_norm.bias', 'roberta.pooler.dense.weight', 'lm_head.dense.weight', 'roberta.pooler.dense.bias']\n",
      "- This IS expected if you are initializing RobertaForSequenceClassification from the checkpoint of a model trained on another task or with another architecture (e.g. initializing a BertForSequenceClassification model from a BertForPreTraining model).\n",
      "- This IS NOT expected if you are initializing RobertaForSequenceClassification from the checkpoint of a model that you expect to be exactly identical (initializing a BertForSequenceClassification model from a BertForSequenceClassification model).\n",
      "Some weights of RobertaForSequenceClassification were not initialized from the model checkpoint at roberta-base and are newly initialized: ['classifier.out_proj.weight', 'classifier.dense.bias', 'classifier.out_proj.bias', 'classifier.dense.weight']\n",
      "You should probably TRAIN this model on a down-stream task to be able to use it for predictions and inference.\n"
     ]
    }
   ],
   "source": [
    "# Define the model\n",
    "model = RobertaForSequenceClassification.from_pretrained('roberta-base', num_labels=len(le.classes_))\n",
    "# model = DistilBertModel.from_pretrained('distilbert-base-uncased', num_labels=len(le.classes_))"
   ]
  },
  {
   "cell_type": "code",
   "execution_count": 47,
   "metadata": {},
   "outputs": [],
   "source": [
    "# Set up the optimizer and loss function\n",
    "optimizer = torch.optim.AdamW(model.parameters(), lr=2e-5)\n",
    "loss_fn = torch.nn.CrossEntropyLoss()\n",
    "epochs = 40"
   ]
  },
  {
   "cell_type": "code",
   "execution_count": 48,
   "metadata": {},
   "outputs": [
    {
     "name": "stdout",
     "output_type": "stream",
     "text": [
      "Epoch 0: train_loss=1.165, val_loss=1.116\n",
      "Epoch 1: train_loss=1.119, val_loss=1.080\n",
      "Epoch 2: train_loss=1.078, val_loss=1.041\n",
      "Epoch 3: train_loss=1.035, val_loss=0.997\n",
      "Epoch 4: train_loss=0.986, val_loss=0.944\n",
      "Epoch 5: train_loss=0.932, val_loss=0.870\n",
      "Epoch 6: train_loss=0.862, val_loss=0.789\n",
      "Epoch 7: train_loss=0.783, val_loss=0.717\n",
      "Epoch 8: train_loss=0.715, val_loss=0.692\n",
      "Epoch 9: train_loss=0.678, val_loss=0.657\n",
      "Epoch 10: train_loss=0.646, val_loss=0.589\n",
      "Epoch 11: train_loss=0.596, val_loss=0.509\n",
      "Epoch 12: train_loss=0.546, val_loss=0.432\n",
      "Epoch 13: train_loss=0.487, val_loss=0.361\n",
      "Epoch 14: train_loss=0.419, val_loss=0.296\n",
      "Epoch 15: train_loss=0.352, val_loss=0.230\n",
      "Epoch 16: train_loss=0.288, val_loss=0.165\n",
      "Epoch 17: train_loss=0.221, val_loss=0.113\n",
      "Epoch 18: train_loss=0.168, val_loss=0.078\n",
      "Epoch 19: train_loss=0.127, val_loss=0.058\n",
      "Epoch 20: train_loss=0.096, val_loss=0.048\n",
      "Epoch 21: train_loss=0.079, val_loss=0.042\n",
      "Epoch 22: train_loss=0.065, val_loss=0.038\n",
      "Epoch 23: train_loss=0.055, val_loss=0.034\n",
      "Epoch 24: train_loss=0.048, val_loss=0.030\n",
      "Epoch 25: train_loss=0.043, val_loss=0.026\n",
      "Epoch 26: train_loss=0.034, val_loss=0.022\n",
      "Epoch 27: train_loss=0.029, val_loss=0.020\n",
      "Epoch 28: train_loss=0.028, val_loss=0.018\n",
      "Epoch 29: train_loss=0.024, val_loss=0.015\n",
      "Epoch 30: train_loss=0.021, val_loss=0.015\n",
      "Epoch 31: train_loss=0.018, val_loss=0.017\n",
      "Epoch 32: train_loss=0.017, val_loss=0.019\n",
      "Epoch 33: train_loss=0.016, val_loss=0.022\n",
      "Epoch 34: train_loss=0.013, val_loss=0.024\n",
      "Epoch 35: train_loss=0.012, val_loss=0.026\n",
      "Epoch 36: train_loss=0.012, val_loss=0.026\n",
      "Epoch 37: train_loss=0.011, val_loss=0.026\n",
      "Epoch 38: train_loss=0.010, val_loss=0.024\n",
      "Epoch 39: train_loss=0.009, val_loss=0.021\n"
     ]
    }
   ],
   "source": [
    "# Train the model\n",
    "device = torch.device('cuda' if torch.cuda.is_available() else 'cpu')\n",
    "model.to(device)\n",
    "\n",
    "for epoch in range(epochs):\n",
    "    model.train()\n",
    "    optimizer.zero_grad()\n",
    "    outputs = model(X_train.to(device), attention_mask=train_masks.to(device), labels=Y_train.to(device))\n",
    "    loss = loss_fn(outputs[1], Y_train.to(device))\n",
    "    loss.backward()\n",
    "    optimizer.step()\n",
    "    \n",
    "    model.eval()\n",
    "    with torch.no_grad():\n",
    "        val_outputs = model(X_test.to(device), attention_mask=test_masks.to(device))\n",
    "        val_loss = loss_fn(val_outputs.logits, Y_test.to(device))\n",
    "        print(f\"Epoch {epoch}: train_loss={loss:.3f}, val_loss={val_loss:.3f}\")\n"
   ]
  },
  {
   "cell_type": "code",
   "execution_count": 49,
   "metadata": {},
   "outputs": [],
   "source": [
    "import numpy as np\n",
    "from sklearn.metrics import confusion_matrix\n",
    "\n",
    "import seaborn as sns\n",
    "import matplotlib.pyplot as plt"
   ]
  },
  {
   "cell_type": "code",
   "execution_count": 50,
   "metadata": {},
   "outputs": [
    {
     "name": "stdout",
     "output_type": "stream",
     "text": [
      "Confusion matrix:\n",
      "[[470   3]\n",
      " [  0 239]]\n"
     ]
    }
   ],
   "source": [
    "# Get the model's predictions for the test set\n",
    "with torch.no_grad():\n",
    "    test_outputs = model(X_test.to(device), attention_mask=test_masks.to(device))\n",
    "    test_preds = np.argmax(test_outputs.logits.detach().cpu().numpy(), axis=1)\n",
    "\n",
    "# Create the confusion matrix\n",
    "confusion = confusion_matrix(Y_test, test_preds)\n",
    "\n",
    "print(\"Confusion matrix:\")\n",
    "print(confusion)"
   ]
  },
  {
   "cell_type": "code",
   "execution_count": 51,
   "metadata": {},
   "outputs": [
    {
     "data": {
      "image/png": "[encoded data removed]",
      "text/plain": [
       "<Figure size 432x288 with 2 Axes>"
      ]
     },
     "metadata": {
      "needs_background": "light"
     },
     "output_type": "display_data"
    }
   ],
   "source": [
    "# Plot the confusion matrix as a heatmap\n",
    "sns.heatmap(confusion, annot=True, cmap='Blues', fmt='d', xticklabels=le.classes_, yticklabels=le.classes_)\n",
    "plt.xlabel('Predicted label')\n",
    "plt.ylabel('True label')\n",
    "plt.title('Confusion matrix')\n",
    "plt.show()"
   ]
  },
  {
   "cell_type": "code",
   "execution_count": 84,
   "metadata": {},
   "outputs": [],
   "source": [
    "# Save the model\n",
    "# 15 epochs model\n",
    "# torch.save({\n",
    "#             'epoch': epochs,\n",
    "#             'model_state_dict': model.state_dict(),\n",
    "#             'optimizer_state_dict': optimizer.state_dict(),\n",
    "#             'train_loss': 0.098,\n",
    "#             'val_loss': 0.041,\n",
    "#             }, '15epoch_model.pth')"
   ]
  },
  {
   "cell_type": "code",
   "execution_count": 85,
   "metadata": {},
   "outputs": [],
   "source": [
    "# Save the model\n",
    "# 25 epochs model\n",
    "# torch.save({\n",
    "#             'epoch': epochs,\n",
    "#             'model_state_dict': model.state_dict(),\n",
    "#             'optimizer_state_dict': optimizer.state_dict(),\n",
    "#             'train_loss': 0.005,\n",
    "#             'val_loss': 0.010,\n",
    "#             }, '25epoch_model.pth')"
   ]
  },
  {
   "cell_type": "code",
   "execution_count": 246,
   "metadata": {},
   "outputs": [],
   "source": [
    "# Load the model\n",
    "# checkpoint = torch.load('model.pth')\n",
    "# model.load_state_dict(checkpoint['model_state_dict'])\n",
    "# optimizer.load_state_dict(checkpoint['optimizer_state_dict'])\n",
    "# epoch = checkpoint['epoch']\n",
    "# train_loss_history = checkpoint['train_loss']\n",
    "# val_loss_history = checkpoint['val_loss']\n",
    "# hyperparams = checkpoint['hyperparams']"
   ]
  },
  {
   "cell_type": "code",
   "execution_count": null,
   "metadata": {},
   "outputs": [],
   "source": []
  }
 ],
 "metadata": {
  "availableInstances": [
   {
    "_defaultOrder": 0,
    "_isFastLaunch": true,
    "category": "General purpose",
    "gpuNum": 0,
    "hideHardwareSpecs": false,
    "memoryGiB": 4,
    "name": "ml.t3.medium",
    "vcpuNum": 2
   },
   {
    "_defaultOrder": 1,
    "_isFastLaunch": false,
    "category": "General purpose",
    "gpuNum": 0,
    "hideHardwareSpecs": false,
    "memoryGiB": 8,
    "name": "ml.t3.large",
    "vcpuNum": 2
   },
   {
    "_defaultOrder": 2,
    "_isFastLaunch": false,
    "category": "General purpose",
    "gpuNum": 0,
    "hideHardwareSpecs": false,
    "memoryGiB": 16,
    "name": "ml.t3.xlarge",
    "vcpuNum": 4
   },
   {
    "_defaultOrder": 3,
    "_isFastLaunch": false,
    "category": "General purpose",
    "gpuNum": 0,
    "hideHardwareSpecs": false,
    "memoryGiB": 32,
    "name": "ml.t3.2xlarge",
    "vcpuNum": 8
   },
   {
    "_defaultOrder": 4,
    "_isFastLaunch": true,
    "category": "General purpose",
    "gpuNum": 0,
    "hideHardwareSpecs": false,
    "memoryGiB": 8,
    "name": "ml.m5.large",
    "vcpuNum": 2
   },
   {
    "_defaultOrder": 5,
    "_isFastLaunch": false,
    "category": "General purpose",
    "gpuNum": 0,
    "hideHardwareSpecs": false,
    "memoryGiB": 16,
    "name": "ml.m5.xlarge",
    "vcpuNum": 4
   },
   {
    "_defaultOrder": 6,
    "_isFastLaunch": false,
    "category": "General purpose",
    "gpuNum": 0,
    "hideHardwareSpecs": false,
    "memoryGiB": 32,
    "name": "ml.m5.2xlarge",
    "vcpuNum": 8
   },
   {
    "_defaultOrder": 7,
    "_isFastLaunch": false,
    "category": "General purpose",
    "gpuNum": 0,
    "hideHardwareSpecs": false,
    "memoryGiB": 64,
    "name": "ml.m5.4xlarge",
    "vcpuNum": 16
   },
   {
    "_defaultOrder": 8,
    "_isFastLaunch": false,
    "category": "General purpose",
    "gpuNum": 0,
    "hideHardwareSpecs": false,
    "memoryGiB": 128,
    "name": "ml.m5.8xlarge",
    "vcpuNum": 32
   },
   {
    "_defaultOrder": 9,
    "_isFastLaunch": false,
    "category": "General purpose",
    "gpuNum": 0,
    "hideHardwareSpecs": false,
    "memoryGiB": 192,
    "name": "ml.m5.12xlarge",
    "vcpuNum": 48
   },
   {
    "_defaultOrder": 10,
    "_isFastLaunch": false,
    "category": "General purpose",
    "gpuNum": 0,
    "hideHardwareSpecs": false,
    "memoryGiB": 256,
    "name": "ml.m5.16xlarge",
    "vcpuNum": 64
   },
   {
    "_defaultOrder": 11,
    "_isFastLaunch": false,
    "category": "General purpose",
    "gpuNum": 0,
    "hideHardwareSpecs": false,
    "memoryGiB": 384,
    "name": "ml.m5.24xlarge",
    "vcpuNum": 96
   },
   {
    "_defaultOrder": 12,
    "_isFastLaunch": false,
    "category": "General purpose",
    "gpuNum": 0,
    "hideHardwareSpecs": false,
    "memoryGiB": 8,
    "name": "ml.m5d.large",
    "vcpuNum": 2
   },
   {
    "_defaultOrder": 13,
    "_isFastLaunch": false,
    "category": "General purpose",
    "gpuNum": 0,
    "hideHardwareSpecs": false,
    "memoryGiB": 16,
    "name": "ml.m5d.xlarge",
    "vcpuNum": 4
   },
   {
    "_defaultOrder": 14,
    "_isFastLaunch": false,
    "category": "General purpose",
    "gpuNum": 0,
    "hideHardwareSpecs": false,
    "memoryGiB": 32,
    "name": "ml.m5d.2xlarge",
    "vcpuNum": 8
   },
   {
    "_defaultOrder": 15,
    "_isFastLaunch": false,
    "category": "General purpose",
    "gpuNum": 0,
    "hideHardwareSpecs": false,
    "memoryGiB": 64,
    "name": "ml.m5d.4xlarge",
    "vcpuNum": 16
   },
   {
    "_defaultOrder": 16,
    "_isFastLaunch": false,
    "category": "General purpose",
    "gpuNum": 0,
    "hideHardwareSpecs": false,
    "memoryGiB": 128,
    "name": "ml.m5d.8xlarge",
    "vcpuNum": 32
   },
   {
    "_defaultOrder": 17,
    "_isFastLaunch": false,
    "category": "General purpose",
    "gpuNum": 0,
    "hideHardwareSpecs": false,
    "memoryGiB": 192,
    "name": "ml.m5d.12xlarge",
    "vcpuNum": 48
   },
   {
    "_defaultOrder": 18,
    "_isFastLaunch": false,
    "category": "General purpose",
    "gpuNum": 0,
    "hideHardwareSpecs": false,
    "memoryGiB": 256,
    "name": "ml.m5d.16xlarge",
    "vcpuNum": 64
   },
   {
    "_defaultOrder": 19,
    "_isFastLaunch": false,
    "category": "General purpose",
    "gpuNum": 0,
    "hideHardwareSpecs": false,
    "memoryGiB": 384,
    "name": "ml.m5d.24xlarge",
    "vcpuNum": 96
   },
   {
    "_defaultOrder": 20,
    "_isFastLaunch": false,
    "category": "General purpose",
    "gpuNum": 0,
    "hideHardwareSpecs": true,
    "memoryGiB": 0,
    "name": "ml.geospatial.interactive",
    "supportedImageNames": [
     "sagemaker-geospatial-v1-0"
    ],
    "vcpuNum": 0
   },
   {
    "_defaultOrder": 21,
    "_isFastLaunch": true,
    "category": "Compute optimized",
    "gpuNum": 0,
    "hideHardwareSpecs": false,
    "memoryGiB": 4,
    "name": "ml.c5.large",
    "vcpuNum": 2
   },
   {
    "_defaultOrder": 22,
    "_isFastLaunch": false,
    "category": "Compute optimized",
    "gpuNum": 0,
    "hideHardwareSpecs": false,
    "memoryGiB": 8,
    "name": "ml.c5.xlarge",
    "vcpuNum": 4
   },
   {
    "_defaultOrder": 23,
    "_isFastLaunch": false,
    "category": "Compute optimized",
    "gpuNum": 0,
    "hideHardwareSpecs": false,
    "memoryGiB": 16,
    "name": "ml.c5.2xlarge",
    "vcpuNum": 8
   },
   {
    "_defaultOrder": 24,
    "_isFastLaunch": false,
    "category": "Compute optimized",
    "gpuNum": 0,
    "hideHardwareSpecs": false,
    "memoryGiB": 32,
    "name": "ml.c5.4xlarge",
    "vcpuNum": 16
   },
   {
    "_defaultOrder": 25,
    "_isFastLaunch": false,
    "category": "Compute optimized",
    "gpuNum": 0,
    "hideHardwareSpecs": false,
    "memoryGiB": 72,
    "name": "ml.c5.9xlarge",
    "vcpuNum": 36
   },
   {
    "_defaultOrder": 26,
    "_isFastLaunch": false,
    "category": "Compute optimized",
    "gpuNum": 0,
    "hideHardwareSpecs": false,
    "memoryGiB": 96,
    "name": "ml.c5.12xlarge",
    "vcpuNum": 48
   },
   {
    "_defaultOrder": 27,
    "_isFastLaunch": false,
    "category": "Compute optimized",
    "gpuNum": 0,
    "hideHardwareSpecs": false,
    "memoryGiB": 144,
    "name": "ml.c5.18xlarge",
    "vcpuNum": 72
   },
   {
    "_defaultOrder": 28,
    "_isFastLaunch": false,
    "category": "Compute optimized",
    "gpuNum": 0,
    "hideHardwareSpecs": false,
    "memoryGiB": 192,
    "name": "ml.c5.24xlarge",
    "vcpuNum": 96
   },
   {
    "_defaultOrder": 29,
    "_isFastLaunch": true,
    "category": "Accelerated computing",
    "gpuNum": 1,
    "hideHardwareSpecs": false,
    "memoryGiB": 16,
    "name": "ml.g4dn.xlarge",
    "vcpuNum": 4
   },
   {
    "_defaultOrder": 30,
    "_isFastLaunch": false,
    "category": "Accelerated computing",
    "gpuNum": 1,
    "hideHardwareSpecs": false,
    "memoryGiB": 32,
    "name": "ml.g4dn.2xlarge",
    "vcpuNum": 8
   },
   {
    "_defaultOrder": 31,
    "_isFastLaunch": false,
    "category": "Accelerated computing",
    "gpuNum": 1,
    "hideHardwareSpecs": false,
    "memoryGiB": 64,
    "name": "ml.g4dn.4xlarge",
    "vcpuNum": 16
   },
   {
    "_defaultOrder": 32,
    "_isFastLaunch": false,
    "category": "Accelerated computing",
    "gpuNum": 1,
    "hideHardwareSpecs": false,
    "memoryGiB": 128,
    "name": "ml.g4dn.8xlarge",
    "vcpuNum": 32
   },
   {
    "_defaultOrder": 33,
    "_isFastLaunch": false,
    "category": "Accelerated computing",
    "gpuNum": 4,
    "hideHardwareSpecs": false,
    "memoryGiB": 192,
    "name": "ml.g4dn.12xlarge",
    "vcpuNum": 48
   },
   {
    "_defaultOrder": 34,
    "_isFastLaunch": false,
    "category": "Accelerated computing",
    "gpuNum": 1,
    "hideHardwareSpecs": false,
    "memoryGiB": 256,
    "name": "ml.g4dn.16xlarge",
    "vcpuNum": 64
   },
   {
    "_defaultOrder": 35,
    "_isFastLaunch": false,
    "category": "Accelerated computing",
    "gpuNum": 1,
    "hideHardwareSpecs": false,
    "memoryGiB": 61,
    "name": "ml.p3.2xlarge",
    "vcpuNum": 8
   },
   {
    "_defaultOrder": 36,
    "_isFastLaunch": false,
    "category": "Accelerated computing",
    "gpuNum": 4,
    "hideHardwareSpecs": false,
    "memoryGiB": 244,
    "name": "ml.p3.8xlarge",
    "vcpuNum": 32
   },
   {
    "_defaultOrder": 37,
    "_isFastLaunch": false,
    "category": "Accelerated computing",
    "gpuNum": 8,
    "hideHardwareSpecs": false,
    "memoryGiB": 488,
    "name": "ml.p3.16xlarge",
    "vcpuNum": 64
   },
   {
    "_defaultOrder": 38,
    "_isFastLaunch": false,
    "category": "Accelerated computing",
    "gpuNum": 8,
    "hideHardwareSpecs": false,
    "memoryGiB": 768,
    "name": "ml.p3dn.24xlarge",
    "vcpuNum": 96
   },
   {
    "_defaultOrder": 39,
    "_isFastLaunch": false,
    "category": "Memory Optimized",
    "gpuNum": 0,
    "hideHardwareSpecs": false,
    "memoryGiB": 16,
    "name": "ml.r5.large",
    "vcpuNum": 2
   },
   {
    "_defaultOrder": 40,
    "_isFastLaunch": false,
    "category": "Memory Optimized",
    "gpuNum": 0,
    "hideHardwareSpecs": false,
    "memoryGiB": 32,
    "name": "ml.r5.xlarge",
    "vcpuNum": 4
   },
   {
    "_defaultOrder": 41,
    "_isFastLaunch": false,
    "category": "Memory Optimized",
    "gpuNum": 0,
    "hideHardwareSpecs": false,
    "memoryGiB": 64,
    "name": "ml.r5.2xlarge",
    "vcpuNum": 8
   },
   {
    "_defaultOrder": 42,
    "_isFastLaunch": false,
    "category": "Memory Optimized",
    "gpuNum": 0,
    "hideHardwareSpecs": false,
    "memoryGiB": 128,
    "name": "ml.r5.4xlarge",
    "vcpuNum": 16
   },
   {
    "_defaultOrder": 43,
    "_isFastLaunch": false,
    "category": "Memory Optimized",
    "gpuNum": 0,
    "hideHardwareSpecs": false,
    "memoryGiB": 256,
    "name": "ml.r5.8xlarge",
    "vcpuNum": 32
   },
   {
    "_defaultOrder": 44,
    "_isFastLaunch": false,
    "category": "Memory Optimized",
    "gpuNum": 0,
    "hideHardwareSpecs": false,
    "memoryGiB": 384,
    "name": "ml.r5.12xlarge",
    "vcpuNum": 48
   },
   {
    "_defaultOrder": 45,
    "_isFastLaunch": false,
    "category": "Memory Optimized",
    "gpuNum": 0,
    "hideHardwareSpecs": false,
    "memoryGiB": 512,
    "name": "ml.r5.16xlarge",
    "vcpuNum": 64
   },
   {
    "_defaultOrder": 46,
    "_isFastLaunch": false,
    "category": "Memory Optimized",
    "gpuNum": 0,
    "hideHardwareSpecs": false,
    "memoryGiB": 768,
    "name": "ml.r5.24xlarge",
    "vcpuNum": 96
   },
   {
    "_defaultOrder": 47,
    "_isFastLaunch": false,
    "category": "Accelerated computing",
    "gpuNum": 1,
    "hideHardwareSpecs": false,
    "memoryGiB": 16,
    "name": "ml.g5.xlarge",
    "vcpuNum": 4
   },
   {
    "_defaultOrder": 48,
    "_isFastLaunch": false,
    "category": "Accelerated computing",
    "gpuNum": 1,
    "hideHardwareSpecs": false,
    "memoryGiB": 32,
    "name": "ml.g5.2xlarge",
    "vcpuNum": 8
   },
   {
    "_defaultOrder": 49,
    "_isFastLaunch": false,
    "category": "Accelerated computing",
    "gpuNum": 1,
    "hideHardwareSpecs": false,
    "memoryGiB": 64,
    "name": "ml.g5.4xlarge",
    "vcpuNum": 16
   },
   {
    "_defaultOrder": 50,
    "_isFastLaunch": false,
    "category": "Accelerated computing",
    "gpuNum": 1,
    "hideHardwareSpecs": false,
    "memoryGiB": 128,
    "name": "ml.g5.8xlarge",
    "vcpuNum": 32
   },
   {
    "_defaultOrder": 51,
    "_isFastLaunch": false,
    "category": "Accelerated computing",
    "gpuNum": 1,
    "hideHardwareSpecs": false,
    "memoryGiB": 256,
    "name": "ml.g5.16xlarge",
    "vcpuNum": 64
   },
   {
    "_defaultOrder": 52,
    "_isFastLaunch": false,
    "category": "Accelerated computing",
    "gpuNum": 4,
    "hideHardwareSpecs": false,
    "memoryGiB": 192,
    "name": "ml.g5.12xlarge",
    "vcpuNum": 48
   },
   {
    "_defaultOrder": 53,
    "_isFastLaunch": false,
    "category": "Accelerated computing",
    "gpuNum": 4,
    "hideHardwareSpecs": false,
    "memoryGiB": 384,
    "name": "ml.g5.24xlarge",
    "vcpuNum": 96
   },
   {
    "_defaultOrder": 54,
    "_isFastLaunch": false,
    "category": "Accelerated computing",
    "gpuNum": 8,
    "hideHardwareSpecs": false,
    "memoryGiB": 768,
    "name": "ml.g5.48xlarge",
    "vcpuNum": 192
   },
   {
    "_defaultOrder": 55,
    "_isFastLaunch": false,
    "category": "Accelerated computing",
    "gpuNum": 8,
    "hideHardwareSpecs": false,
    "memoryGiB": 1152,
    "name": "ml.p4d.24xlarge",
    "vcpuNum": 96
   },
   {
    "_defaultOrder": 56,
    "_isFastLaunch": false,
    "category": "Accelerated computing",
    "gpuNum": 8,
    "hideHardwareSpecs": false,
    "memoryGiB": 1152,
    "name": "ml.p4de.24xlarge",
    "vcpuNum": 96
   }
  ],
  "instance_type": "ml.t3.medium",
  "kernelspec": {
   "display_name": "python3 (adl-core-custom-docker/1)",
   "language": "python",
   "name": "python3__SAGEMAKER_INTERNAL__arn:aws:sagemaker:us-east-1:660999144548:image-version/adl-core-custom-docker/1"
  },
  "language_info": {
   "codemirror_mode": {
    "name": "ipython",
    "version": 3
   },
   "file_extension": ".py",
   "mimetype": "text/x-python",
   "name": "python",
   "nbconvert_exporter": "python",
   "pygments_lexer": "ipython3",
   "version": "3.9.12"
  }
 },
 "nbformat": 4,
 "nbformat_minor": 4
}
