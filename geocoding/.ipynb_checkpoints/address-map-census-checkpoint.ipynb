{
 "cells": [
  {
   "cell_type": "code",
   "execution_count": 39,
   "metadata": {},
   "outputs": [],
   "source": [
    "import pandas as pd\n",
    "import numpy as np\n",
    "import dask.dataframe as dd\n",
    "import matplotlib.pyplot as plt\n",
    "import warnings\n",
    "from matplotlib.ticker import PercentFormatter\n",
    "import seaborn as sns\n",
    "import boto3\n",
    "import io\n",
    "\n",
    "pd.set_option('display.max_columns',None)\n",
    "warnings.filterwarnings('ignore')"
   ]
  },
  {
   "cell_type": "code",
   "execution_count": 40,
   "metadata": {},
   "outputs": [],
   "source": [
    "s3 = boto3.client('s3')\n",
    "\n",
    "# Mention the bucket name where raw data is present\n",
    "bucket='adl-core-sagemaker-studio'\n",
    "\n",
    "# Mention the correct directory where raw-data is present, if data is in multiple files make sure all files are present in this directory\n",
    "file_key = 'external/SDoH/SDoH_Geocoding_Input.csv'\n"
   ]
  },
  {
   "cell_type": "code",
   "execution_count": 41,
   "metadata": {},
   "outputs": [],
   "source": [
    "#s3://adl-core-sagemaker-studio/external/SDoH/SDoH_Demographics.csv"
   ]
  },
  {
   "cell_type": "code",
   "execution_count": 42,
   "metadata": {},
   "outputs": [
    {
     "data": {
      "text/html": [
       "<div>\n",
       "<style scoped>\n",
       "    .dataframe tbody tr th:only-of-type {\n",
       "        vertical-align: middle;\n",
       "    }\n",
       "\n",
       "    .dataframe tbody tr th {\n",
       "        vertical-align: top;\n",
       "    }\n",
       "\n",
       "    .dataframe thead th {\n",
       "        text-align: right;\n",
       "    }\n",
       "</style>\n",
       "<table border=\"1\" class=\"dataframe\">\n",
       "  <thead>\n",
       "    <tr style=\"text-align: right;\">\n",
       "      <th></th>\n",
       "      <th>udp_global_person_identifier</th>\n",
       "      <th>platform_id</th>\n",
       "      <th>client_id</th>\n",
       "      <th>person_internal_id</th>\n",
       "      <th>address_line_1_text</th>\n",
       "      <th>address_line_2_text</th>\n",
       "      <th>county</th>\n",
       "      <th>city</th>\n",
       "      <th>state</th>\n",
       "      <th>postal_code</th>\n",
       "      <th>postal_code_extnsn</th>\n",
       "      <th>country</th>\n",
       "    </tr>\n",
       "  </thead>\n",
       "  <tbody>\n",
       "    <tr>\n",
       "      <th>0</th>\n",
       "      <td>5ae0dad711a4b928befebe25</td>\n",
       "      <td>936</td>\n",
       "      <td>936</td>\n",
       "      <td>289290011</td>\n",
       "      <td>1000 Nicollet Mall</td>\n",
       "      <td>NaN</td>\n",
       "      <td>NaN</td>\n",
       "      <td>Minneapolis</td>\n",
       "      <td>MN</td>\n",
       "      <td>99999</td>\n",
       "      <td>NaN</td>\n",
       "      <td>USA</td>\n",
       "    </tr>\n",
       "    <tr>\n",
       "      <th>1</th>\n",
       "      <td>592055a411a4b937c7344e46</td>\n",
       "      <td>936</td>\n",
       "      <td>936</td>\n",
       "      <td>491590056</td>\n",
       "      <td>1000 NICOLLETT MALL</td>\n",
       "      <td>NaN</td>\n",
       "      <td>NaN</td>\n",
       "      <td>MINNEAPOLIS</td>\n",
       "      <td>MN</td>\n",
       "      <td>99999</td>\n",
       "      <td>NaN</td>\n",
       "      <td>USA</td>\n",
       "    </tr>\n",
       "    <tr>\n",
       "      <th>2</th>\n",
       "      <td>58cb485cdab54b14d1856a95</td>\n",
       "      <td>936</td>\n",
       "      <td>936</td>\n",
       "      <td>159590029</td>\n",
       "      <td>1000 NICOLLETT MALL</td>\n",
       "      <td>NaN</td>\n",
       "      <td>NaN</td>\n",
       "      <td>MINNEAPOLIS</td>\n",
       "      <td>MN</td>\n",
       "      <td>99999</td>\n",
       "      <td>NaN</td>\n",
       "      <td>USA</td>\n",
       "    </tr>\n",
       "    <tr>\n",
       "      <th>3</th>\n",
       "      <td>5ae0dac411a4b928befeb762</td>\n",
       "      <td>936</td>\n",
       "      <td>936</td>\n",
       "      <td>199490041</td>\n",
       "      <td>1000 NICOLLETT MALL</td>\n",
       "      <td>NaN</td>\n",
       "      <td>NaN</td>\n",
       "      <td>MINNEAPOLIS</td>\n",
       "      <td>MN</td>\n",
       "      <td>99999</td>\n",
       "      <td>NaN</td>\n",
       "      <td>USA</td>\n",
       "    </tr>\n",
       "    <tr>\n",
       "      <th>4</th>\n",
       "      <td>5ae0dad411a4b928befebce3</td>\n",
       "      <td>936</td>\n",
       "      <td>936</td>\n",
       "      <td>214590063</td>\n",
       "      <td>1000 NICOLLETT MALL</td>\n",
       "      <td>NaN</td>\n",
       "      <td>NaN</td>\n",
       "      <td>MINNEAPOLIS</td>\n",
       "      <td>MN</td>\n",
       "      <td>99999</td>\n",
       "      <td>NaN</td>\n",
       "      <td>USA</td>\n",
       "    </tr>\n",
       "  </tbody>\n",
       "</table>\n",
       "</div>"
      ],
      "text/plain": [
       "  udp_global_person_identifier  platform_id  client_id  person_internal_id  \\\n",
       "0     5ae0dad711a4b928befebe25          936        936           289290011   \n",
       "1     592055a411a4b937c7344e46          936        936           491590056   \n",
       "2     58cb485cdab54b14d1856a95          936        936           159590029   \n",
       "3     5ae0dac411a4b928befeb762          936        936           199490041   \n",
       "4     5ae0dad411a4b928befebce3          936        936           214590063   \n",
       "\n",
       "   address_line_1_text address_line_2_text county         city state  \\\n",
       "0   1000 Nicollet Mall                 NaN    NaN  Minneapolis    MN   \n",
       "1  1000 NICOLLETT MALL                 NaN    NaN  MINNEAPOLIS    MN   \n",
       "2  1000 NICOLLETT MALL                 NaN    NaN  MINNEAPOLIS    MN   \n",
       "3  1000 NICOLLETT MALL                 NaN    NaN  MINNEAPOLIS    MN   \n",
       "4  1000 NICOLLETT MALL                 NaN    NaN  MINNEAPOLIS    MN   \n",
       "\n",
       "  postal_code  postal_code_extnsn country  \n",
       "0       99999                 NaN     USA  \n",
       "1       99999                 NaN     USA  \n",
       "2       99999                 NaN     USA  \n",
       "3       99999                 NaN     USA  \n",
       "4       99999                 NaN     USA  "
      ]
     },
     "execution_count": 42,
     "metadata": {},
     "output_type": "execute_result"
    }
   ],
   "source": [
    "\n",
    "s3uri = 's3://{}/{}'.format(bucket, file_key)\n",
    "\n",
    "df = pd.read_csv(s3uri, dtype={'postal_code': 'string'}, on_bad_lines='skip')\n",
    "\n",
    "# df = pd.read_csv(s3uri)\n",
    "\n",
    "df.head()"
   ]
  },
  {
   "cell_type": "code",
   "execution_count": 43,
   "metadata": {},
   "outputs": [
    {
     "data": {
      "text/plain": [
       "Index(['udp_global_person_identifier', 'platform_id', 'client_id',\n",
       "       'person_internal_id', 'address_line_1_text', 'address_line_2_text',\n",
       "       'county', 'city', 'state', 'postal_code', 'postal_code_extnsn',\n",
       "       'country'],\n",
       "      dtype='object')"
      ]
     },
     "execution_count": 43,
     "metadata": {},
     "output_type": "execute_result"
    }
   ],
   "source": [
    "df.columns"
   ]
  },
  {
   "cell_type": "code",
   "execution_count": 44,
   "metadata": {},
   "outputs": [
    {
     "data": {
      "text/plain": [
       "udp_global_person_identifier    220791\n",
       "platform_id                          0\n",
       "client_id                            0\n",
       "person_internal_id                   0\n",
       "address_line_1_text                  2\n",
       "address_line_2_text             628401\n",
       "county                          688613\n",
       "city                                 1\n",
       "state                               55\n",
       "postal_code                         26\n",
       "postal_code_extnsn              690744\n",
       "country                              1\n",
       "dtype: int64"
      ]
     },
     "execution_count": 44,
     "metadata": {},
     "output_type": "execute_result"
    }
   ],
   "source": [
    "df.isna().sum()"
   ]
  },
  {
   "cell_type": "code",
   "execution_count": 45,
   "metadata": {},
   "outputs": [
    {
     "name": "stdout",
     "output_type": "stream",
     "text": [
      "<class 'pandas.core.frame.DataFrame'>\n",
      "RangeIndex: 690744 entries, 0 to 690743\n",
      "Data columns (total 12 columns):\n",
      " #   Column                        Non-Null Count   Dtype  \n",
      "---  ------                        --------------   -----  \n",
      " 0   udp_global_person_identifier  469953 non-null  object \n",
      " 1   platform_id                   690744 non-null  int64  \n",
      " 2   client_id                     690744 non-null  int64  \n",
      " 3   person_internal_id            690744 non-null  int64  \n",
      " 4   address_line_1_text           690742 non-null  object \n",
      " 5   address_line_2_text           62343 non-null   object \n",
      " 6   county                        2131 non-null    object \n",
      " 7   city                          690743 non-null  object \n",
      " 8   state                         690689 non-null  object \n",
      " 9   postal_code                   690718 non-null  string \n",
      " 10  postal_code_extnsn            0 non-null       float64\n",
      " 11  country                       690743 non-null  object \n",
      "dtypes: float64(1), int64(3), object(7), string(1)\n",
      "memory usage: 63.2+ MB\n"
     ]
    }
   ],
   "source": [
    "df.info()"
   ]
  },
  {
   "cell_type": "code",
   "execution_count": 46,
   "metadata": {},
   "outputs": [
    {
     "data": {
      "text/plain": [
       "(690744, 12)"
      ]
     },
     "execution_count": 46,
     "metadata": {},
     "output_type": "execute_result"
    }
   ],
   "source": [
    "df.shape"
   ]
  },
  {
   "cell_type": "code",
   "execution_count": 47,
   "metadata": {},
   "outputs": [],
   "source": [
    "new_df = df.groupby(['address_line_1_text','city','state','postal_code']).sum().reset_index()"
   ]
  },
  {
   "cell_type": "code",
   "execution_count": 48,
   "metadata": {},
   "outputs": [],
   "source": [
    "group = new_df[['address_line_1_text','city','state','postal_code']]"
   ]
  },
  {
   "cell_type": "code",
   "execution_count": 49,
   "metadata": {},
   "outputs": [
    {
     "data": {
      "text/plain": [
       "(668039, 4)"
      ]
     },
     "execution_count": 49,
     "metadata": {},
     "output_type": "execute_result"
    }
   ],
   "source": [
    "group.shape"
   ]
  },
  {
   "cell_type": "code",
   "execution_count": 50,
   "metadata": {},
   "outputs": [
    {
     "data": {
      "text/html": [
       "<div>\n",
       "<style scoped>\n",
       "    .dataframe tbody tr th:only-of-type {\n",
       "        vertical-align: middle;\n",
       "    }\n",
       "\n",
       "    .dataframe tbody tr th {\n",
       "        vertical-align: top;\n",
       "    }\n",
       "\n",
       "    .dataframe thead th {\n",
       "        text-align: right;\n",
       "    }\n",
       "</style>\n",
       "<table border=\"1\" class=\"dataframe\">\n",
       "  <thead>\n",
       "    <tr style=\"text-align: right;\">\n",
       "      <th></th>\n",
       "      <th>address_line_1_text</th>\n",
       "      <th>city</th>\n",
       "      <th>state</th>\n",
       "      <th>postal_code</th>\n",
       "    </tr>\n",
       "  </thead>\n",
       "  <tbody>\n",
       "    <tr>\n",
       "      <th>0</th>\n",
       "      <td># 3 Villa Paseos Avenue</td>\n",
       "      <td>Vega Baja</td>\n",
       "      <td>PR</td>\n",
       "      <td>693</td>\n",
       "    </tr>\n",
       "    <tr>\n",
       "      <th>1</th>\n",
       "      <td>#1 Ne 48Th Place</td>\n",
       "      <td>Lawton</td>\n",
       "      <td>OK</td>\n",
       "      <td>73507</td>\n",
       "    </tr>\n",
       "    <tr>\n",
       "      <th>2</th>\n",
       "      <td>#1 Scott Circle Apt 611</td>\n",
       "      <td>Washington</td>\n",
       "      <td>DC</td>\n",
       "      <td>20036</td>\n",
       "    </tr>\n",
       "    <tr>\n",
       "      <th>3</th>\n",
       "      <td>#1-82 Collier Road SE</td>\n",
       "      <td>Medicine Hat</td>\n",
       "      <td>AB</td>\n",
       "      <td>T1B1H7</td>\n",
       "    </tr>\n",
       "    <tr>\n",
       "      <th>4</th>\n",
       "      <td>#2 LAST CHANCE CT.</td>\n",
       "      <td>ST. PETERS</td>\n",
       "      <td>MO</td>\n",
       "      <td>633760000</td>\n",
       "    </tr>\n",
       "    <tr>\n",
       "      <th>...</th>\n",
       "      <td>...</td>\n",
       "      <td>...</td>\n",
       "      <td>...</td>\n",
       "      <td>...</td>\n",
       "    </tr>\n",
       "    <tr>\n",
       "      <th>668034</th>\n",
       "      <td>villa carolina</td>\n",
       "      <td>Carolina</td>\n",
       "      <td>PR</td>\n",
       "      <td>985</td>\n",
       "    </tr>\n",
       "    <tr>\n",
       "      <th>668035</th>\n",
       "      <td>w2522 wedgewood ct</td>\n",
       "      <td>Appleton</td>\n",
       "      <td>WI</td>\n",
       "      <td>54915</td>\n",
       "    </tr>\n",
       "    <tr>\n",
       "      <th>668036</th>\n",
       "      <td>w3812 Hull Rd</td>\n",
       "      <td>Horicon</td>\n",
       "      <td>WI</td>\n",
       "      <td>53032</td>\n",
       "    </tr>\n",
       "    <tr>\n",
       "      <th>668037</th>\n",
       "      <td>w4442 mary hill park dr</td>\n",
       "      <td>Fond du lac</td>\n",
       "      <td>WI</td>\n",
       "      <td>54937</td>\n",
       "    </tr>\n",
       "    <tr>\n",
       "      <th>668038</th>\n",
       "      <td>w788 Violet rd</td>\n",
       "      <td>Genoa City</td>\n",
       "      <td>WI</td>\n",
       "      <td>53128</td>\n",
       "    </tr>\n",
       "  </tbody>\n",
       "</table>\n",
       "<p>668039 rows × 4 columns</p>\n",
       "</div>"
      ],
      "text/plain": [
       "            address_line_1_text          city state postal_code\n",
       "0       # 3 Villa Paseos Avenue     Vega Baja    PR         693\n",
       "1              #1 Ne 48Th Place        Lawton    OK       73507\n",
       "2       #1 Scott Circle Apt 611    Washington    DC       20036\n",
       "3         #1-82 Collier Road SE  Medicine Hat    AB      T1B1H7\n",
       "4            #2 LAST CHANCE CT.    ST. PETERS    MO   633760000\n",
       "...                         ...           ...   ...         ...\n",
       "668034           villa carolina      Carolina    PR         985\n",
       "668035       w2522 wedgewood ct      Appleton    WI       54915\n",
       "668036            w3812 Hull Rd       Horicon    WI       53032\n",
       "668037  w4442 mary hill park dr   Fond du lac    WI       54937\n",
       "668038           w788 Violet rd    Genoa City    WI       53128\n",
       "\n",
       "[668039 rows x 4 columns]"
      ]
     },
     "execution_count": 50,
     "metadata": {},
     "output_type": "execute_result"
    }
   ],
   "source": [
    "group"
   ]
  },
  {
   "cell_type": "code",
   "execution_count": 51,
   "metadata": {},
   "outputs": [],
   "source": [
    "group[\"address_line_1_text\"] = group[\"address_line_1_text\"].str.replace(\"#\",\"\")"
   ]
  },
  {
   "cell_type": "code",
   "execution_count": 52,
   "metadata": {},
   "outputs": [
    {
     "data": {
      "text/html": [
       "<div>\n",
       "<style scoped>\n",
       "    .dataframe tbody tr th:only-of-type {\n",
       "        vertical-align: middle;\n",
       "    }\n",
       "\n",
       "    .dataframe tbody tr th {\n",
       "        vertical-align: top;\n",
       "    }\n",
       "\n",
       "    .dataframe thead th {\n",
       "        text-align: right;\n",
       "    }\n",
       "</style>\n",
       "<table border=\"1\" class=\"dataframe\">\n",
       "  <thead>\n",
       "    <tr style=\"text-align: right;\">\n",
       "      <th></th>\n",
       "      <th>address_line_1_text</th>\n",
       "      <th>city</th>\n",
       "      <th>state</th>\n",
       "      <th>postal_code</th>\n",
       "    </tr>\n",
       "  </thead>\n",
       "  <tbody>\n",
       "    <tr>\n",
       "      <th>0</th>\n",
       "      <td>3 Villa Paseos Avenue</td>\n",
       "      <td>Vega Baja</td>\n",
       "      <td>PR</td>\n",
       "      <td>693</td>\n",
       "    </tr>\n",
       "    <tr>\n",
       "      <th>1</th>\n",
       "      <td>1 Ne 48Th Place</td>\n",
       "      <td>Lawton</td>\n",
       "      <td>OK</td>\n",
       "      <td>73507</td>\n",
       "    </tr>\n",
       "    <tr>\n",
       "      <th>2</th>\n",
       "      <td>1 Scott Circle Apt 611</td>\n",
       "      <td>Washington</td>\n",
       "      <td>DC</td>\n",
       "      <td>20036</td>\n",
       "    </tr>\n",
       "    <tr>\n",
       "      <th>3</th>\n",
       "      <td>1-82 Collier Road SE</td>\n",
       "      <td>Medicine Hat</td>\n",
       "      <td>AB</td>\n",
       "      <td>T1B1H7</td>\n",
       "    </tr>\n",
       "    <tr>\n",
       "      <th>4</th>\n",
       "      <td>2 LAST CHANCE CT.</td>\n",
       "      <td>ST. PETERS</td>\n",
       "      <td>MO</td>\n",
       "      <td>633760000</td>\n",
       "    </tr>\n",
       "  </tbody>\n",
       "</table>\n",
       "</div>"
      ],
      "text/plain": [
       "      address_line_1_text          city state postal_code\n",
       "0   3 Villa Paseos Avenue     Vega Baja    PR         693\n",
       "1         1 Ne 48Th Place        Lawton    OK       73507\n",
       "2  1 Scott Circle Apt 611    Washington    DC       20036\n",
       "3    1-82 Collier Road SE  Medicine Hat    AB      T1B1H7\n",
       "4       2 LAST CHANCE CT.    ST. PETERS    MO   633760000"
      ]
     },
     "execution_count": 52,
     "metadata": {},
     "output_type": "execute_result"
    }
   ],
   "source": [
    "group.head()"
   ]
  },
  {
   "cell_type": "code",
   "execution_count": 53,
   "metadata": {},
   "outputs": [],
   "source": [
    "group.reset_index(inplace=True)"
   ]
  },
  {
   "cell_type": "code",
   "execution_count": 55,
   "metadata": {},
   "outputs": [
    {
     "data": {
      "text/html": [
       "<div>\n",
       "<style scoped>\n",
       "    .dataframe tbody tr th:only-of-type {\n",
       "        vertical-align: middle;\n",
       "    }\n",
       "\n",
       "    .dataframe tbody tr th {\n",
       "        vertical-align: top;\n",
       "    }\n",
       "\n",
       "    .dataframe thead th {\n",
       "        text-align: right;\n",
       "    }\n",
       "</style>\n",
       "<table border=\"1\" class=\"dataframe\">\n",
       "  <thead>\n",
       "    <tr style=\"text-align: right;\">\n",
       "      <th></th>\n",
       "      <th>index</th>\n",
       "      <th>address_line_1_text</th>\n",
       "      <th>city</th>\n",
       "      <th>state</th>\n",
       "      <th>postal_code</th>\n",
       "    </tr>\n",
       "  </thead>\n",
       "  <tbody>\n",
       "    <tr>\n",
       "      <th>1</th>\n",
       "      <td>0</td>\n",
       "      <td>3 Villa Paseos Avenue</td>\n",
       "      <td>Vega Baja</td>\n",
       "      <td>PR</td>\n",
       "      <td>693</td>\n",
       "    </tr>\n",
       "    <tr>\n",
       "      <th>2</th>\n",
       "      <td>1</td>\n",
       "      <td>1 Ne 48Th Place</td>\n",
       "      <td>Lawton</td>\n",
       "      <td>OK</td>\n",
       "      <td>73507</td>\n",
       "    </tr>\n",
       "    <tr>\n",
       "      <th>3</th>\n",
       "      <td>2</td>\n",
       "      <td>1 Scott Circle Apt 611</td>\n",
       "      <td>Washington</td>\n",
       "      <td>DC</td>\n",
       "      <td>20036</td>\n",
       "    </tr>\n",
       "    <tr>\n",
       "      <th>4</th>\n",
       "      <td>3</td>\n",
       "      <td>1-82 Collier Road SE</td>\n",
       "      <td>Medicine Hat</td>\n",
       "      <td>AB</td>\n",
       "      <td>T1B1H7</td>\n",
       "    </tr>\n",
       "    <tr>\n",
       "      <th>5</th>\n",
       "      <td>4</td>\n",
       "      <td>2 LAST CHANCE CT.</td>\n",
       "      <td>ST. PETERS</td>\n",
       "      <td>MO</td>\n",
       "      <td>633760000</td>\n",
       "    </tr>\n",
       "  </tbody>\n",
       "</table>\n",
       "</div>"
      ],
      "text/plain": [
       "   index     address_line_1_text          city state postal_code\n",
       "1      0   3 Villa Paseos Avenue     Vega Baja    PR         693\n",
       "2      1         1 Ne 48Th Place        Lawton    OK       73507\n",
       "3      2  1 Scott Circle Apt 611    Washington    DC       20036\n",
       "4      3    1-82 Collier Road SE  Medicine Hat    AB      T1B1H7\n",
       "5      4       2 LAST CHANCE CT.    ST. PETERS    MO   633760000"
      ]
     },
     "execution_count": 55,
     "metadata": {},
     "output_type": "execute_result"
    }
   ],
   "source": [
    "group.index = np.arange(1, len(group) + 1)\n",
    "group.head()"
   ]
  },
  {
   "cell_type": "code",
   "execution_count": 56,
   "metadata": {},
   "outputs": [],
   "source": [
    "group.drop(['index'],axis=1,inplace=True)"
   ]
  },
  {
   "cell_type": "code",
   "execution_count": 57,
   "metadata": {},
   "outputs": [],
   "source": [
    "import re\n",
    "\n",
    "def make_zipcode_5digit(zipcode):\n",
    "    if zipcode.isdigit()==False:\n",
    "        zipcode = re.sub('\\D', '', zipcode)\n",
    "    if len(zipcode)<5:\n",
    "        i = 5-len(zipcode)\n",
    "        zipcode = ('0'*i)+zipcode\n",
    "    if len(zipcode)>5:\n",
    "        zipcode = zipcode[:5]\n",
    "    return zipcode"
   ]
  },
  {
   "cell_type": "code",
   "execution_count": 36,
   "metadata": {},
   "outputs": [],
   "source": [
    "# make_zipcode_5digit('T1B1H7')"
   ]
  },
  {
   "cell_type": "code",
   "execution_count": 37,
   "metadata": {},
   "outputs": [],
   "source": [
    "# make_zipcode_5digit('633760000')"
   ]
  },
  {
   "cell_type": "code",
   "execution_count": 58,
   "metadata": {},
   "outputs": [],
   "source": [
    "group['postal_code']=group['postal_code'].apply(make_zipcode_5digit)"
   ]
  },
  {
   "cell_type": "code",
   "execution_count": 70,
   "metadata": {},
   "outputs": [],
   "source": [
    "group['address_line_1_text'] = group['address_line_1_text'].apply(lambda x: x.strip('.#@!$%^&*'))"
   ]
  },
  {
   "cell_type": "code",
   "execution_count": 71,
   "metadata": {},
   "outputs": [
    {
     "data": {
      "text/html": [
       "<div>\n",
       "<style scoped>\n",
       "    .dataframe tbody tr th:only-of-type {\n",
       "        vertical-align: middle;\n",
       "    }\n",
       "\n",
       "    .dataframe tbody tr th {\n",
       "        vertical-align: top;\n",
       "    }\n",
       "\n",
       "    .dataframe thead th {\n",
       "        text-align: right;\n",
       "    }\n",
       "</style>\n",
       "<table border=\"1\" class=\"dataframe\">\n",
       "  <thead>\n",
       "    <tr style=\"text-align: right;\">\n",
       "      <th></th>\n",
       "      <th>address_line_1_text</th>\n",
       "      <th>city</th>\n",
       "      <th>state</th>\n",
       "      <th>postal_code</th>\n",
       "    </tr>\n",
       "  </thead>\n",
       "  <tbody>\n",
       "    <tr>\n",
       "      <th>1</th>\n",
       "      <td>3 Villa Paseos Avenue</td>\n",
       "      <td>Vega Baja</td>\n",
       "      <td>PR</td>\n",
       "      <td>00693</td>\n",
       "    </tr>\n",
       "    <tr>\n",
       "      <th>2</th>\n",
       "      <td>1 Ne 48Th Place</td>\n",
       "      <td>Lawton</td>\n",
       "      <td>OK</td>\n",
       "      <td>73507</td>\n",
       "    </tr>\n",
       "    <tr>\n",
       "      <th>3</th>\n",
       "      <td>1 Scott Circle Apt 611</td>\n",
       "      <td>Washington</td>\n",
       "      <td>DC</td>\n",
       "      <td>20036</td>\n",
       "    </tr>\n",
       "    <tr>\n",
       "      <th>4</th>\n",
       "      <td>1-82 Collier Road SE</td>\n",
       "      <td>Medicine Hat</td>\n",
       "      <td>AB</td>\n",
       "      <td>00117</td>\n",
       "    </tr>\n",
       "    <tr>\n",
       "      <th>5</th>\n",
       "      <td>2 LAST CHANCE CT</td>\n",
       "      <td>ST. PETERS</td>\n",
       "      <td>MO</td>\n",
       "      <td>63376</td>\n",
       "    </tr>\n",
       "  </tbody>\n",
       "</table>\n",
       "</div>"
      ],
      "text/plain": [
       "      address_line_1_text          city state postal_code\n",
       "1   3 Villa Paseos Avenue     Vega Baja    PR       00693\n",
       "2         1 Ne 48Th Place        Lawton    OK       73507\n",
       "3  1 Scott Circle Apt 611    Washington    DC       20036\n",
       "4    1-82 Collier Road SE  Medicine Hat    AB       00117\n",
       "5        2 LAST CHANCE CT    ST. PETERS    MO       63376"
      ]
     },
     "execution_count": 71,
     "metadata": {},
     "output_type": "execute_result"
    }
   ],
   "source": [
    "group.head()"
   ]
  },
  {
   "cell_type": "code",
   "execution_count": null,
   "metadata": {},
   "outputs": [],
   "source": []
  },
  {
   "cell_type": "code",
   "execution_count": null,
   "metadata": {},
   "outputs": [],
   "source": [
    "#Unique ID, Street address, City, State, ZIP"
   ]
  },
  {
   "cell_type": "code",
   "execution_count": 72,
   "metadata": {},
   "outputs": [
    {
     "data": {
      "text/plain": [
       "address_line_1_text    0\n",
       "city                   0\n",
       "state                  0\n",
       "postal_code            0\n",
       "dtype: int64"
      ]
     },
     "execution_count": 72,
     "metadata": {},
     "output_type": "execute_result"
    }
   ],
   "source": [
    "group.isna().sum()"
   ]
  },
  {
   "cell_type": "code",
   "execution_count": 73,
   "metadata": {},
   "outputs": [
    {
     "data": {
      "text/plain": [
       "(668039, 4)"
      ]
     },
     "execution_count": 73,
     "metadata": {},
     "output_type": "execute_result"
    }
   ],
   "source": [
    "group.shape"
   ]
  },
  {
   "cell_type": "code",
   "execution_count": 74,
   "metadata": {},
   "outputs": [
    {
     "data": {
      "text/html": [
       "<div>\n",
       "<style scoped>\n",
       "    .dataframe tbody tr th:only-of-type {\n",
       "        vertical-align: middle;\n",
       "    }\n",
       "\n",
       "    .dataframe tbody tr th {\n",
       "        vertical-align: top;\n",
       "    }\n",
       "\n",
       "    .dataframe thead th {\n",
       "        text-align: right;\n",
       "    }\n",
       "</style>\n",
       "<table border=\"1\" class=\"dataframe\">\n",
       "  <thead>\n",
       "    <tr style=\"text-align: right;\">\n",
       "      <th></th>\n",
       "      <th>address_line_1_text</th>\n",
       "      <th>city</th>\n",
       "      <th>state</th>\n",
       "      <th>postal_code</th>\n",
       "    </tr>\n",
       "  </thead>\n",
       "  <tbody>\n",
       "    <tr>\n",
       "      <th>1</th>\n",
       "      <td>3 Villa Paseos Avenue</td>\n",
       "      <td>Vega Baja</td>\n",
       "      <td>PR</td>\n",
       "      <td>00693</td>\n",
       "    </tr>\n",
       "    <tr>\n",
       "      <th>2</th>\n",
       "      <td>1 Ne 48Th Place</td>\n",
       "      <td>Lawton</td>\n",
       "      <td>OK</td>\n",
       "      <td>73507</td>\n",
       "    </tr>\n",
       "    <tr>\n",
       "      <th>3</th>\n",
       "      <td>1 Scott Circle Apt 611</td>\n",
       "      <td>Washington</td>\n",
       "      <td>DC</td>\n",
       "      <td>20036</td>\n",
       "    </tr>\n",
       "    <tr>\n",
       "      <th>4</th>\n",
       "      <td>1-82 Collier Road SE</td>\n",
       "      <td>Medicine Hat</td>\n",
       "      <td>AB</td>\n",
       "      <td>00117</td>\n",
       "    </tr>\n",
       "    <tr>\n",
       "      <th>5</th>\n",
       "      <td>2 LAST CHANCE CT</td>\n",
       "      <td>ST. PETERS</td>\n",
       "      <td>MO</td>\n",
       "      <td>63376</td>\n",
       "    </tr>\n",
       "    <tr>\n",
       "      <th>...</th>\n",
       "      <td>...</td>\n",
       "      <td>...</td>\n",
       "      <td>...</td>\n",
       "      <td>...</td>\n",
       "    </tr>\n",
       "    <tr>\n",
       "      <th>9996</th>\n",
       "      <td>1011a Southside Ave</td>\n",
       "      <td>Nashville</td>\n",
       "      <td>TN</td>\n",
       "      <td>37203</td>\n",
       "    </tr>\n",
       "    <tr>\n",
       "      <th>9997</th>\n",
       "      <td>1012</td>\n",
       "      <td>ECLECTIC</td>\n",
       "      <td>AL</td>\n",
       "      <td>36024</td>\n",
       "    </tr>\n",
       "    <tr>\n",
       "      <th>9998</th>\n",
       "      <td>1012 1/2 N 12TH ST</td>\n",
       "      <td>BISMARCK</td>\n",
       "      <td>ND</td>\n",
       "      <td>58501</td>\n",
       "    </tr>\n",
       "    <tr>\n",
       "      <th>9999</th>\n",
       "      <td>1012 169TH ST APT 3B</td>\n",
       "      <td>HAMMOND</td>\n",
       "      <td>IN</td>\n",
       "      <td>46324</td>\n",
       "    </tr>\n",
       "    <tr>\n",
       "      <th>10000</th>\n",
       "      <td>1012 16th Avenue South</td>\n",
       "      <td>Birmingham</td>\n",
       "      <td>AL</td>\n",
       "      <td>35205</td>\n",
       "    </tr>\n",
       "  </tbody>\n",
       "</table>\n",
       "<p>10000 rows × 4 columns</p>\n",
       "</div>"
      ],
      "text/plain": [
       "          address_line_1_text          city state postal_code\n",
       "1       3 Villa Paseos Avenue     Vega Baja    PR       00693\n",
       "2             1 Ne 48Th Place        Lawton    OK       73507\n",
       "3      1 Scott Circle Apt 611    Washington    DC       20036\n",
       "4        1-82 Collier Road SE  Medicine Hat    AB       00117\n",
       "5            2 LAST CHANCE CT    ST. PETERS    MO       63376\n",
       "...                       ...           ...   ...         ...\n",
       "9996      1011a Southside Ave     Nashville    TN       37203\n",
       "9997                     1012      ECLECTIC    AL       36024\n",
       "9998       1012 1/2 N 12TH ST      BISMARCK    ND       58501\n",
       "9999     1012 169TH ST APT 3B       HAMMOND    IN       46324\n",
       "10000  1012 16th Avenue South    Birmingham    AL       35205\n",
       "\n",
       "[10000 rows x 4 columns]"
      ]
     },
     "execution_count": 74,
     "metadata": {},
     "output_type": "execute_result"
    }
   ],
   "source": [
    "group[0:10000]"
   ]
  },
  {
   "cell_type": "code",
   "execution_count": 75,
   "metadata": {},
   "outputs": [],
   "source": [
    "for row in range(0,len(group),10000):\n",
    "    group[row : row+10000].to_csv(f'census/data_{row}_{row+10000}.csv',index=True,header=False)\n"
   ]
  },
  {
   "cell_type": "code",
   "execution_count": 52,
   "metadata": {},
   "outputs": [],
   "source": []
  }
 ],
 "metadata": {
  "instance_type": "ml.g4dn.xlarge",
  "kernelspec": {
   "display_name": "Python 3 (Data Science)",
   "language": "python",
   "name": "python3__SAGEMAKER_INTERNAL__arn:aws:sagemaker:us-east-1:081325390199:image/datascience-1.0"
  },
  "language_info": {
   "codemirror_mode": {
    "name": "ipython",
    "version": 3
   },
   "file_extension": ".py",
   "mimetype": "text/x-python",
   "name": "python",
   "nbconvert_exporter": "python",
   "pygments_lexer": "ipython3",
   "version": "3.7.10"
  }
 },
 "nbformat": 4,
 "nbformat_minor": 4
}
