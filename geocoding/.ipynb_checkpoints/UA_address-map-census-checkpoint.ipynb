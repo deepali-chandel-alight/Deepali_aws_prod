{
 "cells": [
  {
   "cell_type": "code",
   "execution_count": 126,
   "metadata": {},
   "outputs": [],
   "source": [
    "import pandas as pd\n",
    "import numpy as np\n",
    "import dask.dataframe as dd\n",
    "import matplotlib.pyplot as plt\n",
    "import warnings\n",
    "from matplotlib.ticker import PercentFormatter\n",
    "import seaborn as sns\n",
    "import boto3\n",
    "import io\n",
    "\n",
    "pd.set_option('display.max_columns',None)\n",
    "warnings.filterwarnings('ignore')"
   ]
  },
  {
   "cell_type": "code",
   "execution_count": 127,
   "metadata": {},
   "outputs": [],
   "source": [
    "s3 = boto3.client('s3')\n",
    "\n",
    "# Mention the bucket name where raw data is present\n",
    "bucket='adl-core-sagemaker-studio'\n",
    "\n",
    "# Mention the correct directory where raw-data is present, if data is in multiple files make sure all files are present in this directory\n",
    "file_key = 'external/SDoH/SDoH_Geocoding_Input_UA.csv'\n",
    "#s3://adl-core-sagemaker-studio/external/SDoH/SDoH_Geocoding_Input_UA.csv\n"
   ]
  },
  {
   "cell_type": "code",
   "execution_count": 128,
   "metadata": {},
   "outputs": [],
   "source": [
    "#s3://adl-core-sagemaker-studio/external/SDoH/SDoH_Demographics.csv"
   ]
  },
  {
   "cell_type": "code",
   "execution_count": 129,
   "metadata": {},
   "outputs": [
    {
     "data": {
      "text/html": [
       "<div>\n",
       "<style scoped>\n",
       "    .dataframe tbody tr th:only-of-type {\n",
       "        vertical-align: middle;\n",
       "    }\n",
       "\n",
       "    .dataframe tbody tr th {\n",
       "        vertical-align: top;\n",
       "    }\n",
       "\n",
       "    .dataframe thead th {\n",
       "        text-align: right;\n",
       "    }\n",
       "</style>\n",
       "<table border=\"1\" class=\"dataframe\">\n",
       "  <thead>\n",
       "    <tr style=\"text-align: right;\">\n",
       "      <th></th>\n",
       "      <th>udp_global_person_identifier</th>\n",
       "      <th>platform_id</th>\n",
       "      <th>client_id</th>\n",
       "      <th>person_internal_id</th>\n",
       "      <th>address_line_1_text</th>\n",
       "      <th>address_line_2_text</th>\n",
       "      <th>county</th>\n",
       "      <th>city</th>\n",
       "      <th>state</th>\n",
       "      <th>postal_code</th>\n",
       "      <th>postal_code_extnsn</th>\n",
       "      <th>country</th>\n",
       "    </tr>\n",
       "  </thead>\n",
       "  <tbody>\n",
       "    <tr>\n",
       "      <th>0</th>\n",
       "      <td>597ceecd69b3123f10d3941b</td>\n",
       "      <td>245</td>\n",
       "      <td>245</td>\n",
       "      <td>240620038</td>\n",
       "      <td>Soleado Koyasudori 405</td>\n",
       "      <td>Kanagawa-ku, Koyasudori 1-105</td>\n",
       "      <td>NaN</td>\n",
       "      <td>Yokohama</td>\n",
       "      <td>NaN</td>\n",
       "      <td>2210021</td>\n",
       "      <td>NaN</td>\n",
       "      <td>JPN</td>\n",
       "    </tr>\n",
       "    <tr>\n",
       "      <th>1</th>\n",
       "      <td>5984fab611a4b97391711d46</td>\n",
       "      <td>245</td>\n",
       "      <td>245</td>\n",
       "      <td>136620070</td>\n",
       "      <td>2-28-33 Mishuku Setagaya-ku</td>\n",
       "      <td>NaN</td>\n",
       "      <td>NaN</td>\n",
       "      <td>Tokyo</td>\n",
       "      <td>NaN</td>\n",
       "      <td>1540005</td>\n",
       "      <td>NaN</td>\n",
       "      <td>JPN</td>\n",
       "    </tr>\n",
       "    <tr>\n",
       "      <th>2</th>\n",
       "      <td>597ced6edab54b2d66d0c168</td>\n",
       "      <td>245</td>\n",
       "      <td>245</td>\n",
       "      <td>422620011</td>\n",
       "      <td>2 11 5 6 Jyosuiminami Cho</td>\n",
       "      <td>NaN</td>\n",
       "      <td>NaN</td>\n",
       "      <td>Kodaira Shi Tokyo</td>\n",
       "      <td>NaN</td>\n",
       "      <td>187</td>\n",
       "      <td>NaN</td>\n",
       "      <td>JPN</td>\n",
       "    </tr>\n",
       "    <tr>\n",
       "      <th>3</th>\n",
       "      <td>597cef5011a4b96e2b6a6cb9</td>\n",
       "      <td>245</td>\n",
       "      <td>245</td>\n",
       "      <td>144620052</td>\n",
       "      <td>4 F N32  Lane 165</td>\n",
       "      <td>Tun Hua N. Road</td>\n",
       "      <td>NaN</td>\n",
       "      <td>Taipei</td>\n",
       "      <td>NaN</td>\n",
       "      <td>105</td>\n",
       "      <td>NaN</td>\n",
       "      <td>TWN</td>\n",
       "    </tr>\n",
       "    <tr>\n",
       "      <th>4</th>\n",
       "      <td>5985027969b312548933e097</td>\n",
       "      <td>245</td>\n",
       "      <td>245</td>\n",
       "      <td>213620001</td>\n",
       "      <td>1 13 633 Kawaracho</td>\n",
       "      <td>Saiwai Ku</td>\n",
       "      <td>NaN</td>\n",
       "      <td>Kawasaki Shi Kanagawa Ken</td>\n",
       "      <td>NaN</td>\n",
       "      <td>&lt;NA&gt;</td>\n",
       "      <td>NaN</td>\n",
       "      <td>JPN</td>\n",
       "    </tr>\n",
       "  </tbody>\n",
       "</table>\n",
       "</div>"
      ],
      "text/plain": [
       "  udp_global_person_identifier  platform_id  client_id  person_internal_id  \\\n",
       "0     597ceecd69b3123f10d3941b          245        245           240620038   \n",
       "1     5984fab611a4b97391711d46          245        245           136620070   \n",
       "2     597ced6edab54b2d66d0c168          245        245           422620011   \n",
       "3     597cef5011a4b96e2b6a6cb9          245        245           144620052   \n",
       "4     5985027969b312548933e097          245        245           213620001   \n",
       "\n",
       "           address_line_1_text            address_line_2_text county  \\\n",
       "0       Soleado Koyasudori 405  Kanagawa-ku, Koyasudori 1-105    NaN   \n",
       "1  2-28-33 Mishuku Setagaya-ku                            NaN    NaN   \n",
       "2    2 11 5 6 Jyosuiminami Cho                            NaN    NaN   \n",
       "3            4 F N32  Lane 165                Tun Hua N. Road    NaN   \n",
       "4           1 13 633 Kawaracho                      Saiwai Ku    NaN   \n",
       "\n",
       "                        city state postal_code  postal_code_extnsn country  \n",
       "0                   Yokohama   NaN     2210021                 NaN     JPN  \n",
       "1                      Tokyo   NaN     1540005                 NaN     JPN  \n",
       "2          Kodaira Shi Tokyo   NaN         187                 NaN     JPN  \n",
       "3                     Taipei   NaN         105                 NaN     TWN  \n",
       "4  Kawasaki Shi Kanagawa Ken   NaN        <NA>                 NaN     JPN  "
      ]
     },
     "execution_count": 129,
     "metadata": {},
     "output_type": "execute_result"
    }
   ],
   "source": [
    "\n",
    "s3uri = 's3://{}/{}'.format(bucket, file_key)\n",
    "\n",
    "df = pd.read_csv(s3uri, dtype={'postal_code': 'string'}, on_bad_lines='skip')\n",
    "\n",
    "# df = pd.read_csv(s3uri)\n",
    "\n",
    "df.head()"
   ]
  },
  {
   "cell_type": "code",
   "execution_count": 130,
   "metadata": {},
   "outputs": [
    {
     "data": {
      "text/plain": [
       "Index(['udp_global_person_identifier', 'platform_id', 'client_id',\n",
       "       'person_internal_id', 'address_line_1_text', 'address_line_2_text',\n",
       "       'county', 'city', 'state', 'postal_code', 'postal_code_extnsn',\n",
       "       'country'],\n",
       "      dtype='object')"
      ]
     },
     "execution_count": 130,
     "metadata": {},
     "output_type": "execute_result"
    }
   ],
   "source": [
    "df.columns"
   ]
  },
  {
   "cell_type": "code",
   "execution_count": 131,
   "metadata": {},
   "outputs": [
    {
     "data": {
      "text/plain": [
       "udp_global_person_identifier    15891\n",
       "platform_id                         0\n",
       "client_id                           0\n",
       "person_internal_id                  0\n",
       "address_line_1_text                11\n",
       "address_line_2_text             76952\n",
       "county                          93352\n",
       "city                               45\n",
       "state                            9086\n",
       "postal_code                      1257\n",
       "postal_code_extnsn              94221\n",
       "country                           517\n",
       "dtype: int64"
      ]
     },
     "execution_count": 131,
     "metadata": {},
     "output_type": "execute_result"
    }
   ],
   "source": [
    "df.isna().sum()"
   ]
  },
  {
   "cell_type": "code",
   "execution_count": 132,
   "metadata": {},
   "outputs": [
    {
     "name": "stdout",
     "output_type": "stream",
     "text": [
      "<class 'pandas.core.frame.DataFrame'>\n",
      "RangeIndex: 94221 entries, 0 to 94220\n",
      "Data columns (total 12 columns):\n",
      " #   Column                        Non-Null Count  Dtype  \n",
      "---  ------                        --------------  -----  \n",
      " 0   udp_global_person_identifier  78330 non-null  object \n",
      " 1   platform_id                   94221 non-null  int64  \n",
      " 2   client_id                     94221 non-null  int64  \n",
      " 3   person_internal_id            94221 non-null  int64  \n",
      " 4   address_line_1_text           94210 non-null  object \n",
      " 5   address_line_2_text           17269 non-null  object \n",
      " 6   county                        869 non-null    object \n",
      " 7   city                          94176 non-null  object \n",
      " 8   state                         85135 non-null  object \n",
      " 9   postal_code                   92964 non-null  string \n",
      " 10  postal_code_extnsn            0 non-null      float64\n",
      " 11  country                       93704 non-null  object \n",
      "dtypes: float64(1), int64(3), object(7), string(1)\n",
      "memory usage: 8.6+ MB\n"
     ]
    }
   ],
   "source": [
    "df.info()"
   ]
  },
  {
   "cell_type": "code",
   "execution_count": 133,
   "metadata": {},
   "outputs": [
    {
     "data": {
      "text/plain": [
       "(94221, 12)"
      ]
     },
     "execution_count": 133,
     "metadata": {},
     "output_type": "execute_result"
    }
   ],
   "source": [
    "df.shape"
   ]
  },
  {
   "cell_type": "code",
   "execution_count": 134,
   "metadata": {},
   "outputs": [],
   "source": [
    "df_2 = df[df['address_line_1_text'].notna() & df['postal_code'].notna()]"
   ]
  },
  {
   "cell_type": "code",
   "execution_count": 135,
   "metadata": {},
   "outputs": [
    {
     "data": {
      "text/html": [
       "<div>\n",
       "<style scoped>\n",
       "    .dataframe tbody tr th:only-of-type {\n",
       "        vertical-align: middle;\n",
       "    }\n",
       "\n",
       "    .dataframe tbody tr th {\n",
       "        vertical-align: top;\n",
       "    }\n",
       "\n",
       "    .dataframe thead th {\n",
       "        text-align: right;\n",
       "    }\n",
       "</style>\n",
       "<table border=\"1\" class=\"dataframe\">\n",
       "  <thead>\n",
       "    <tr style=\"text-align: right;\">\n",
       "      <th></th>\n",
       "      <th>udp_global_person_identifier</th>\n",
       "      <th>platform_id</th>\n",
       "      <th>client_id</th>\n",
       "      <th>person_internal_id</th>\n",
       "      <th>address_line_1_text</th>\n",
       "      <th>address_line_2_text</th>\n",
       "      <th>county</th>\n",
       "      <th>city</th>\n",
       "      <th>state</th>\n",
       "      <th>postal_code</th>\n",
       "      <th>postal_code_extnsn</th>\n",
       "      <th>country</th>\n",
       "    </tr>\n",
       "  </thead>\n",
       "  <tbody>\n",
       "    <tr>\n",
       "      <th>0</th>\n",
       "      <td>597ceecd69b3123f10d3941b</td>\n",
       "      <td>245</td>\n",
       "      <td>245</td>\n",
       "      <td>240620038</td>\n",
       "      <td>Soleado Koyasudori 405</td>\n",
       "      <td>Kanagawa-ku, Koyasudori 1-105</td>\n",
       "      <td>NaN</td>\n",
       "      <td>Yokohama</td>\n",
       "      <td>NaN</td>\n",
       "      <td>2210021</td>\n",
       "      <td>NaN</td>\n",
       "      <td>JPN</td>\n",
       "    </tr>\n",
       "    <tr>\n",
       "      <th>1</th>\n",
       "      <td>5984fab611a4b97391711d46</td>\n",
       "      <td>245</td>\n",
       "      <td>245</td>\n",
       "      <td>136620070</td>\n",
       "      <td>2-28-33 Mishuku Setagaya-ku</td>\n",
       "      <td>NaN</td>\n",
       "      <td>NaN</td>\n",
       "      <td>Tokyo</td>\n",
       "      <td>NaN</td>\n",
       "      <td>1540005</td>\n",
       "      <td>NaN</td>\n",
       "      <td>JPN</td>\n",
       "    </tr>\n",
       "    <tr>\n",
       "      <th>2</th>\n",
       "      <td>597ced6edab54b2d66d0c168</td>\n",
       "      <td>245</td>\n",
       "      <td>245</td>\n",
       "      <td>422620011</td>\n",
       "      <td>2 11 5 6 Jyosuiminami Cho</td>\n",
       "      <td>NaN</td>\n",
       "      <td>NaN</td>\n",
       "      <td>Kodaira Shi Tokyo</td>\n",
       "      <td>NaN</td>\n",
       "      <td>187</td>\n",
       "      <td>NaN</td>\n",
       "      <td>JPN</td>\n",
       "    </tr>\n",
       "    <tr>\n",
       "      <th>3</th>\n",
       "      <td>597cef5011a4b96e2b6a6cb9</td>\n",
       "      <td>245</td>\n",
       "      <td>245</td>\n",
       "      <td>144620052</td>\n",
       "      <td>4 F N32  Lane 165</td>\n",
       "      <td>Tun Hua N. Road</td>\n",
       "      <td>NaN</td>\n",
       "      <td>Taipei</td>\n",
       "      <td>NaN</td>\n",
       "      <td>105</td>\n",
       "      <td>NaN</td>\n",
       "      <td>TWN</td>\n",
       "    </tr>\n",
       "    <tr>\n",
       "      <th>5</th>\n",
       "      <td>59813cc269b3123a5ca06c6c</td>\n",
       "      <td>245</td>\n",
       "      <td>245</td>\n",
       "      <td>117620092</td>\n",
       "      <td>Rua Saint Roman</td>\n",
       "      <td>204</td>\n",
       "      <td>NaN</td>\n",
       "      <td>Rio De Janeiro</td>\n",
       "      <td>NaN</td>\n",
       "      <td>22071060</td>\n",
       "      <td>NaN</td>\n",
       "      <td>BRA</td>\n",
       "    </tr>\n",
       "  </tbody>\n",
       "</table>\n",
       "</div>"
      ],
      "text/plain": [
       "  udp_global_person_identifier  platform_id  client_id  person_internal_id  \\\n",
       "0     597ceecd69b3123f10d3941b          245        245           240620038   \n",
       "1     5984fab611a4b97391711d46          245        245           136620070   \n",
       "2     597ced6edab54b2d66d0c168          245        245           422620011   \n",
       "3     597cef5011a4b96e2b6a6cb9          245        245           144620052   \n",
       "5     59813cc269b3123a5ca06c6c          245        245           117620092   \n",
       "\n",
       "           address_line_1_text            address_line_2_text county  \\\n",
       "0       Soleado Koyasudori 405  Kanagawa-ku, Koyasudori 1-105    NaN   \n",
       "1  2-28-33 Mishuku Setagaya-ku                            NaN    NaN   \n",
       "2    2 11 5 6 Jyosuiminami Cho                            NaN    NaN   \n",
       "3            4 F N32  Lane 165                Tun Hua N. Road    NaN   \n",
       "5              Rua Saint Roman                            204    NaN   \n",
       "\n",
       "                city state postal_code  postal_code_extnsn country  \n",
       "0           Yokohama   NaN     2210021                 NaN     JPN  \n",
       "1              Tokyo   NaN     1540005                 NaN     JPN  \n",
       "2  Kodaira Shi Tokyo   NaN         187                 NaN     JPN  \n",
       "3             Taipei   NaN         105                 NaN     TWN  \n",
       "5     Rio De Janeiro   NaN    22071060                 NaN     BRA  "
      ]
     },
     "execution_count": 135,
     "metadata": {},
     "output_type": "execute_result"
    }
   ],
   "source": [
    "df_2.head(5)"
   ]
  },
  {
   "cell_type": "code",
   "execution_count": 136,
   "metadata": {},
   "outputs": [
    {
     "data": {
      "text/plain": [
       "udp_global_person_identifier    15552\n",
       "platform_id                         0\n",
       "client_id                           0\n",
       "person_internal_id                  0\n",
       "address_line_1_text                 0\n",
       "address_line_2_text             76539\n",
       "county                          92135\n",
       "city                               16\n",
       "state                            7824\n",
       "postal_code                         0\n",
       "postal_code_extnsn              92959\n",
       "country                            22\n",
       "dtype: int64"
      ]
     },
     "execution_count": 136,
     "metadata": {},
     "output_type": "execute_result"
    }
   ],
   "source": [
    "df_2.isna().sum()"
   ]
  },
  {
   "cell_type": "code",
   "execution_count": 13,
   "metadata": {},
   "outputs": [],
   "source": [
    "# new_df = df.groupby(['address_line_1_text','city','state','postal_code']).sum().reset_index()"
   ]
  },
  {
   "cell_type": "code",
   "execution_count": 14,
   "metadata": {},
   "outputs": [],
   "source": [
    "# group = new_df[['address_line_1_text','city','state','postal_code']]"
   ]
  },
  {
   "cell_type": "code",
   "execution_count": 15,
   "metadata": {},
   "outputs": [],
   "source": [
    "# group.shape"
   ]
  },
  {
   "cell_type": "code",
   "execution_count": 16,
   "metadata": {},
   "outputs": [],
   "source": [
    "# group"
   ]
  },
  {
   "cell_type": "code",
   "execution_count": 137,
   "metadata": {},
   "outputs": [],
   "source": [
    "df[\"address_line_1_text\"] = df[\"address_line_1_text\"].str.replace(\"#\",\"\")"
   ]
  },
  {
   "cell_type": "code",
   "execution_count": 18,
   "metadata": {},
   "outputs": [],
   "source": [
    "# group.head()"
   ]
  },
  {
   "cell_type": "code",
   "execution_count": 19,
   "metadata": {},
   "outputs": [],
   "source": [
    "# group.reset_index(inplace=True)"
   ]
  },
  {
   "cell_type": "code",
   "execution_count": 20,
   "metadata": {},
   "outputs": [],
   "source": [
    "# group.index = np.arange(1, len(group) + 1)\n",
    "# group.head()"
   ]
  },
  {
   "cell_type": "code",
   "execution_count": 21,
   "metadata": {},
   "outputs": [],
   "source": [
    "# group.drop(['index'],axis=1,inplace=True)"
   ]
  },
  {
   "cell_type": "code",
   "execution_count": 138,
   "metadata": {},
   "outputs": [],
   "source": [
    "import re\n",
    "\n",
    "def make_zipcode_5digit(zipcode):\n",
    "    if zipcode.isdigit()==False:\n",
    "        zipcode = re.sub('\\D', '', zipcode)\n",
    "    if len(zipcode)<5:\n",
    "        i = 5-len(zipcode)\n",
    "        zipcode = ('0'*i)+zipcode\n",
    "    if len(zipcode)>5:\n",
    "        zipcode = zipcode[:5]\n",
    "    return zipcode"
   ]
  },
  {
   "cell_type": "code",
   "execution_count": 139,
   "metadata": {},
   "outputs": [],
   "source": [
    "# make_zipcode_5digit('T1B1H7')"
   ]
  },
  {
   "cell_type": "code",
   "execution_count": 140,
   "metadata": {},
   "outputs": [],
   "source": [
    "# make_zipcode_5digit('633760000')"
   ]
  },
  {
   "cell_type": "code",
   "execution_count": 141,
   "metadata": {},
   "outputs": [],
   "source": [
    "df_2['postal_code']=df_2['postal_code'].apply(make_zipcode_5digit)"
   ]
  },
  {
   "cell_type": "code",
   "execution_count": 142,
   "metadata": {},
   "outputs": [],
   "source": [
    "df_2['address_line_1_text'] = df_2['address_line_1_text'].apply(lambda x: x.strip('.#@!$%^&*'))"
   ]
  },
  {
   "cell_type": "code",
   "execution_count": 143,
   "metadata": {},
   "outputs": [
    {
     "data": {
      "text/html": [
       "<div>\n",
       "<style scoped>\n",
       "    .dataframe tbody tr th:only-of-type {\n",
       "        vertical-align: middle;\n",
       "    }\n",
       "\n",
       "    .dataframe tbody tr th {\n",
       "        vertical-align: top;\n",
       "    }\n",
       "\n",
       "    .dataframe thead th {\n",
       "        text-align: right;\n",
       "    }\n",
       "</style>\n",
       "<table border=\"1\" class=\"dataframe\">\n",
       "  <thead>\n",
       "    <tr style=\"text-align: right;\">\n",
       "      <th></th>\n",
       "      <th>udp_global_person_identifier</th>\n",
       "      <th>platform_id</th>\n",
       "      <th>client_id</th>\n",
       "      <th>person_internal_id</th>\n",
       "      <th>address_line_1_text</th>\n",
       "      <th>address_line_2_text</th>\n",
       "      <th>county</th>\n",
       "      <th>city</th>\n",
       "      <th>state</th>\n",
       "      <th>postal_code</th>\n",
       "      <th>postal_code_extnsn</th>\n",
       "      <th>country</th>\n",
       "    </tr>\n",
       "  </thead>\n",
       "  <tbody>\n",
       "    <tr>\n",
       "      <th>0</th>\n",
       "      <td>597ceecd69b3123f10d3941b</td>\n",
       "      <td>245</td>\n",
       "      <td>245</td>\n",
       "      <td>240620038</td>\n",
       "      <td>Soleado Koyasudori 405</td>\n",
       "      <td>Kanagawa-ku, Koyasudori 1-105</td>\n",
       "      <td>NaN</td>\n",
       "      <td>Yokohama</td>\n",
       "      <td>NaN</td>\n",
       "      <td>22100</td>\n",
       "      <td>NaN</td>\n",
       "      <td>JPN</td>\n",
       "    </tr>\n",
       "    <tr>\n",
       "      <th>1</th>\n",
       "      <td>5984fab611a4b97391711d46</td>\n",
       "      <td>245</td>\n",
       "      <td>245</td>\n",
       "      <td>136620070</td>\n",
       "      <td>2-28-33 Mishuku Setagaya-ku</td>\n",
       "      <td>NaN</td>\n",
       "      <td>NaN</td>\n",
       "      <td>Tokyo</td>\n",
       "      <td>NaN</td>\n",
       "      <td>15400</td>\n",
       "      <td>NaN</td>\n",
       "      <td>JPN</td>\n",
       "    </tr>\n",
       "    <tr>\n",
       "      <th>2</th>\n",
       "      <td>597ced6edab54b2d66d0c168</td>\n",
       "      <td>245</td>\n",
       "      <td>245</td>\n",
       "      <td>422620011</td>\n",
       "      <td>2 11 5 6 Jyosuiminami Cho</td>\n",
       "      <td>NaN</td>\n",
       "      <td>NaN</td>\n",
       "      <td>Kodaira Shi Tokyo</td>\n",
       "      <td>NaN</td>\n",
       "      <td>00187</td>\n",
       "      <td>NaN</td>\n",
       "      <td>JPN</td>\n",
       "    </tr>\n",
       "    <tr>\n",
       "      <th>3</th>\n",
       "      <td>597cef5011a4b96e2b6a6cb9</td>\n",
       "      <td>245</td>\n",
       "      <td>245</td>\n",
       "      <td>144620052</td>\n",
       "      <td>4 F N32  Lane 165</td>\n",
       "      <td>Tun Hua N. Road</td>\n",
       "      <td>NaN</td>\n",
       "      <td>Taipei</td>\n",
       "      <td>NaN</td>\n",
       "      <td>00105</td>\n",
       "      <td>NaN</td>\n",
       "      <td>TWN</td>\n",
       "    </tr>\n",
       "    <tr>\n",
       "      <th>5</th>\n",
       "      <td>59813cc269b3123a5ca06c6c</td>\n",
       "      <td>245</td>\n",
       "      <td>245</td>\n",
       "      <td>117620092</td>\n",
       "      <td>Rua Saint Roman</td>\n",
       "      <td>204</td>\n",
       "      <td>NaN</td>\n",
       "      <td>Rio De Janeiro</td>\n",
       "      <td>NaN</td>\n",
       "      <td>22071</td>\n",
       "      <td>NaN</td>\n",
       "      <td>BRA</td>\n",
       "    </tr>\n",
       "  </tbody>\n",
       "</table>\n",
       "</div>"
      ],
      "text/plain": [
       "  udp_global_person_identifier  platform_id  client_id  person_internal_id  \\\n",
       "0     597ceecd69b3123f10d3941b          245        245           240620038   \n",
       "1     5984fab611a4b97391711d46          245        245           136620070   \n",
       "2     597ced6edab54b2d66d0c168          245        245           422620011   \n",
       "3     597cef5011a4b96e2b6a6cb9          245        245           144620052   \n",
       "5     59813cc269b3123a5ca06c6c          245        245           117620092   \n",
       "\n",
       "           address_line_1_text            address_line_2_text county  \\\n",
       "0       Soleado Koyasudori 405  Kanagawa-ku, Koyasudori 1-105    NaN   \n",
       "1  2-28-33 Mishuku Setagaya-ku                            NaN    NaN   \n",
       "2    2 11 5 6 Jyosuiminami Cho                            NaN    NaN   \n",
       "3            4 F N32  Lane 165                Tun Hua N. Road    NaN   \n",
       "5              Rua Saint Roman                            204    NaN   \n",
       "\n",
       "                city state postal_code  postal_code_extnsn country  \n",
       "0           Yokohama   NaN       22100                 NaN     JPN  \n",
       "1              Tokyo   NaN       15400                 NaN     JPN  \n",
       "2  Kodaira Shi Tokyo   NaN       00187                 NaN     JPN  \n",
       "3             Taipei   NaN       00105                 NaN     TWN  \n",
       "5     Rio De Janeiro   NaN       22071                 NaN     BRA  "
      ]
     },
     "execution_count": 143,
     "metadata": {},
     "output_type": "execute_result"
    }
   ],
   "source": [
    "df_2.head()"
   ]
  },
  {
   "cell_type": "code",
   "execution_count": 144,
   "metadata": {},
   "outputs": [],
   "source": [
    "# '_UGPI_' = 'udp_global_person_identifier'\n",
    "# '_PI_' = 'platform_id'\n",
    "# '_CI_' = 'client_id'\n",
    "# '_PID_' = 'person_internal_id'\n",
    "# created unique_id with above four ids to pass geocoding api as unique_id"
   ]
  },
  {
   "cell_type": "code",
   "execution_count": 145,
   "metadata": {},
   "outputs": [],
   "source": [
    "df_2['RECORD ID NUMBER'] = '_UGPI_'+df_2['udp_global_person_identifier'].astype(str)+'_PI_'+df_2['platform_id'].astype(str)+'_CI_'+df_2['client_id'].astype(str)+'_PID_'+df_2['person_internal_id'].astype(str)"
   ]
  },
  {
   "cell_type": "code",
   "execution_count": 146,
   "metadata": {},
   "outputs": [
    {
     "data": {
      "text/html": [
       "<div>\n",
       "<style scoped>\n",
       "    .dataframe tbody tr th:only-of-type {\n",
       "        vertical-align: middle;\n",
       "    }\n",
       "\n",
       "    .dataframe tbody tr th {\n",
       "        vertical-align: top;\n",
       "    }\n",
       "\n",
       "    .dataframe thead th {\n",
       "        text-align: right;\n",
       "    }\n",
       "</style>\n",
       "<table border=\"1\" class=\"dataframe\">\n",
       "  <thead>\n",
       "    <tr style=\"text-align: right;\">\n",
       "      <th></th>\n",
       "      <th>udp_global_person_identifier</th>\n",
       "      <th>platform_id</th>\n",
       "      <th>client_id</th>\n",
       "      <th>person_internal_id</th>\n",
       "      <th>address_line_1_text</th>\n",
       "      <th>address_line_2_text</th>\n",
       "      <th>county</th>\n",
       "      <th>city</th>\n",
       "      <th>state</th>\n",
       "      <th>postal_code</th>\n",
       "      <th>postal_code_extnsn</th>\n",
       "      <th>country</th>\n",
       "      <th>RECORD ID NUMBER</th>\n",
       "    </tr>\n",
       "  </thead>\n",
       "  <tbody>\n",
       "    <tr>\n",
       "      <th>0</th>\n",
       "      <td>597ceecd69b3123f10d3941b</td>\n",
       "      <td>245</td>\n",
       "      <td>245</td>\n",
       "      <td>240620038</td>\n",
       "      <td>Soleado Koyasudori 405</td>\n",
       "      <td>Kanagawa-ku, Koyasudori 1-105</td>\n",
       "      <td>NaN</td>\n",
       "      <td>Yokohama</td>\n",
       "      <td>NaN</td>\n",
       "      <td>22100</td>\n",
       "      <td>NaN</td>\n",
       "      <td>JPN</td>\n",
       "      <td>_UGPI_597ceecd69b3123f10d3941b_PI_245_CI_245_P...</td>\n",
       "    </tr>\n",
       "    <tr>\n",
       "      <th>1</th>\n",
       "      <td>5984fab611a4b97391711d46</td>\n",
       "      <td>245</td>\n",
       "      <td>245</td>\n",
       "      <td>136620070</td>\n",
       "      <td>2-28-33 Mishuku Setagaya-ku</td>\n",
       "      <td>NaN</td>\n",
       "      <td>NaN</td>\n",
       "      <td>Tokyo</td>\n",
       "      <td>NaN</td>\n",
       "      <td>15400</td>\n",
       "      <td>NaN</td>\n",
       "      <td>JPN</td>\n",
       "      <td>_UGPI_5984fab611a4b97391711d46_PI_245_CI_245_P...</td>\n",
       "    </tr>\n",
       "    <tr>\n",
       "      <th>2</th>\n",
       "      <td>597ced6edab54b2d66d0c168</td>\n",
       "      <td>245</td>\n",
       "      <td>245</td>\n",
       "      <td>422620011</td>\n",
       "      <td>2 11 5 6 Jyosuiminami Cho</td>\n",
       "      <td>NaN</td>\n",
       "      <td>NaN</td>\n",
       "      <td>Kodaira Shi Tokyo</td>\n",
       "      <td>NaN</td>\n",
       "      <td>00187</td>\n",
       "      <td>NaN</td>\n",
       "      <td>JPN</td>\n",
       "      <td>_UGPI_597ced6edab54b2d66d0c168_PI_245_CI_245_P...</td>\n",
       "    </tr>\n",
       "    <tr>\n",
       "      <th>3</th>\n",
       "      <td>597cef5011a4b96e2b6a6cb9</td>\n",
       "      <td>245</td>\n",
       "      <td>245</td>\n",
       "      <td>144620052</td>\n",
       "      <td>4 F N32  Lane 165</td>\n",
       "      <td>Tun Hua N. Road</td>\n",
       "      <td>NaN</td>\n",
       "      <td>Taipei</td>\n",
       "      <td>NaN</td>\n",
       "      <td>00105</td>\n",
       "      <td>NaN</td>\n",
       "      <td>TWN</td>\n",
       "      <td>_UGPI_597cef5011a4b96e2b6a6cb9_PI_245_CI_245_P...</td>\n",
       "    </tr>\n",
       "    <tr>\n",
       "      <th>5</th>\n",
       "      <td>59813cc269b3123a5ca06c6c</td>\n",
       "      <td>245</td>\n",
       "      <td>245</td>\n",
       "      <td>117620092</td>\n",
       "      <td>Rua Saint Roman</td>\n",
       "      <td>204</td>\n",
       "      <td>NaN</td>\n",
       "      <td>Rio De Janeiro</td>\n",
       "      <td>NaN</td>\n",
       "      <td>22071</td>\n",
       "      <td>NaN</td>\n",
       "      <td>BRA</td>\n",
       "      <td>_UGPI_59813cc269b3123a5ca06c6c_PI_245_CI_245_P...</td>\n",
       "    </tr>\n",
       "  </tbody>\n",
       "</table>\n",
       "</div>"
      ],
      "text/plain": [
       "  udp_global_person_identifier  platform_id  client_id  person_internal_id  \\\n",
       "0     597ceecd69b3123f10d3941b          245        245           240620038   \n",
       "1     5984fab611a4b97391711d46          245        245           136620070   \n",
       "2     597ced6edab54b2d66d0c168          245        245           422620011   \n",
       "3     597cef5011a4b96e2b6a6cb9          245        245           144620052   \n",
       "5     59813cc269b3123a5ca06c6c          245        245           117620092   \n",
       "\n",
       "           address_line_1_text            address_line_2_text county  \\\n",
       "0       Soleado Koyasudori 405  Kanagawa-ku, Koyasudori 1-105    NaN   \n",
       "1  2-28-33 Mishuku Setagaya-ku                            NaN    NaN   \n",
       "2    2 11 5 6 Jyosuiminami Cho                            NaN    NaN   \n",
       "3            4 F N32  Lane 165                Tun Hua N. Road    NaN   \n",
       "5              Rua Saint Roman                            204    NaN   \n",
       "\n",
       "                city state postal_code  postal_code_extnsn country  \\\n",
       "0           Yokohama   NaN       22100                 NaN     JPN   \n",
       "1              Tokyo   NaN       15400                 NaN     JPN   \n",
       "2  Kodaira Shi Tokyo   NaN       00187                 NaN     JPN   \n",
       "3             Taipei   NaN       00105                 NaN     TWN   \n",
       "5     Rio De Janeiro   NaN       22071                 NaN     BRA   \n",
       "\n",
       "                                    RECORD ID NUMBER  \n",
       "0  _UGPI_597ceecd69b3123f10d3941b_PI_245_CI_245_P...  \n",
       "1  _UGPI_5984fab611a4b97391711d46_PI_245_CI_245_P...  \n",
       "2  _UGPI_597ced6edab54b2d66d0c168_PI_245_CI_245_P...  \n",
       "3  _UGPI_597cef5011a4b96e2b6a6cb9_PI_245_CI_245_P...  \n",
       "5  _UGPI_59813cc269b3123a5ca06c6c_PI_245_CI_245_P...  "
      ]
     },
     "execution_count": 146,
     "metadata": {},
     "output_type": "execute_result"
    }
   ],
   "source": [
    "df_2.head()"
   ]
  },
  {
   "cell_type": "code",
   "execution_count": 31,
   "metadata": {},
   "outputs": [],
   "source": [
    "#Unique ID, Street address, City, State, ZIP\n",
    "# just considering address line 1 as address line 2 has lot of nan values 76539 out of 94221"
   ]
  },
  {
   "cell_type": "code",
   "execution_count": 147,
   "metadata": {},
   "outputs": [],
   "source": [
    "df_3 = df_2[['RECORD ID NUMBER','address_line_1_text', 'city', 'state', 'postal_code']]"
   ]
  },
  {
   "cell_type": "code",
   "execution_count": 148,
   "metadata": {},
   "outputs": [
    {
     "data": {
      "text/html": [
       "<div>\n",
       "<style scoped>\n",
       "    .dataframe tbody tr th:only-of-type {\n",
       "        vertical-align: middle;\n",
       "    }\n",
       "\n",
       "    .dataframe tbody tr th {\n",
       "        vertical-align: top;\n",
       "    }\n",
       "\n",
       "    .dataframe thead th {\n",
       "        text-align: right;\n",
       "    }\n",
       "</style>\n",
       "<table border=\"1\" class=\"dataframe\">\n",
       "  <thead>\n",
       "    <tr style=\"text-align: right;\">\n",
       "      <th></th>\n",
       "      <th>RECORD ID NUMBER</th>\n",
       "      <th>address_line_1_text</th>\n",
       "      <th>city</th>\n",
       "      <th>state</th>\n",
       "      <th>postal_code</th>\n",
       "    </tr>\n",
       "  </thead>\n",
       "  <tbody>\n",
       "    <tr>\n",
       "      <th>0</th>\n",
       "      <td>_UGPI_597ceecd69b3123f10d3941b_PI_245_CI_245_P...</td>\n",
       "      <td>Soleado Koyasudori 405</td>\n",
       "      <td>Yokohama</td>\n",
       "      <td>NaN</td>\n",
       "      <td>22100</td>\n",
       "    </tr>\n",
       "    <tr>\n",
       "      <th>1</th>\n",
       "      <td>_UGPI_5984fab611a4b97391711d46_PI_245_CI_245_P...</td>\n",
       "      <td>2-28-33 Mishuku Setagaya-ku</td>\n",
       "      <td>Tokyo</td>\n",
       "      <td>NaN</td>\n",
       "      <td>15400</td>\n",
       "    </tr>\n",
       "    <tr>\n",
       "      <th>2</th>\n",
       "      <td>_UGPI_597ced6edab54b2d66d0c168_PI_245_CI_245_P...</td>\n",
       "      <td>2 11 5 6 Jyosuiminami Cho</td>\n",
       "      <td>Kodaira Shi Tokyo</td>\n",
       "      <td>NaN</td>\n",
       "      <td>00187</td>\n",
       "    </tr>\n",
       "    <tr>\n",
       "      <th>3</th>\n",
       "      <td>_UGPI_597cef5011a4b96e2b6a6cb9_PI_245_CI_245_P...</td>\n",
       "      <td>4 F N32  Lane 165</td>\n",
       "      <td>Taipei</td>\n",
       "      <td>NaN</td>\n",
       "      <td>00105</td>\n",
       "    </tr>\n",
       "    <tr>\n",
       "      <th>5</th>\n",
       "      <td>_UGPI_59813cc269b3123a5ca06c6c_PI_245_CI_245_P...</td>\n",
       "      <td>Rua Saint Roman</td>\n",
       "      <td>Rio De Janeiro</td>\n",
       "      <td>NaN</td>\n",
       "      <td>22071</td>\n",
       "    </tr>\n",
       "  </tbody>\n",
       "</table>\n",
       "</div>"
      ],
      "text/plain": [
       "                                    RECORD ID NUMBER  \\\n",
       "0  _UGPI_597ceecd69b3123f10d3941b_PI_245_CI_245_P...   \n",
       "1  _UGPI_5984fab611a4b97391711d46_PI_245_CI_245_P...   \n",
       "2  _UGPI_597ced6edab54b2d66d0c168_PI_245_CI_245_P...   \n",
       "3  _UGPI_597cef5011a4b96e2b6a6cb9_PI_245_CI_245_P...   \n",
       "5  _UGPI_59813cc269b3123a5ca06c6c_PI_245_CI_245_P...   \n",
       "\n",
       "           address_line_1_text               city state postal_code  \n",
       "0       Soleado Koyasudori 405           Yokohama   NaN       22100  \n",
       "1  2-28-33 Mishuku Setagaya-ku              Tokyo   NaN       15400  \n",
       "2    2 11 5 6 Jyosuiminami Cho  Kodaira Shi Tokyo   NaN       00187  \n",
       "3            4 F N32  Lane 165             Taipei   NaN       00105  \n",
       "5              Rua Saint Roman     Rio De Janeiro   NaN       22071  "
      ]
     },
     "execution_count": 148,
     "metadata": {},
     "output_type": "execute_result"
    }
   ],
   "source": [
    "df_3.head()"
   ]
  },
  {
   "cell_type": "code",
   "execution_count": 59,
   "metadata": {},
   "outputs": [],
   "source": [
    "# df_3.set_index('unique_id')"
   ]
  },
  {
   "cell_type": "code",
   "execution_count": 149,
   "metadata": {},
   "outputs": [
    {
     "data": {
      "text/plain": [
       "RECORD ID NUMBER          0\n",
       "address_line_1_text       0\n",
       "city                     16\n",
       "state                  7824\n",
       "postal_code               0\n",
       "dtype: int64"
      ]
     },
     "execution_count": 149,
     "metadata": {},
     "output_type": "execute_result"
    }
   ],
   "source": [
    "df_3.isna().sum()"
   ]
  },
  {
   "cell_type": "code",
   "execution_count": 150,
   "metadata": {},
   "outputs": [],
   "source": [
    "df_4 = df_3.dropna(subset=['city','state'], axis=0)"
   ]
  },
  {
   "cell_type": "code",
   "execution_count": 151,
   "metadata": {},
   "outputs": [
    {
     "data": {
      "text/plain": [
       "(85135, 5)"
      ]
     },
     "execution_count": 151,
     "metadata": {},
     "output_type": "execute_result"
    }
   ],
   "source": [
    "df_4.shape"
   ]
  },
  {
   "cell_type": "code",
   "execution_count": 152,
   "metadata": {},
   "outputs": [],
   "source": [
    "df_4 = df_4.reset_index(drop=True)"
   ]
  },
  {
   "cell_type": "code",
   "execution_count": 153,
   "metadata": {},
   "outputs": [
    {
     "name": "stdout",
     "output_type": "stream",
     "text": [
      "<class 'pandas.core.frame.DataFrame'>\n",
      "RangeIndex: 85135 entries, 0 to 85134\n",
      "Data columns (total 5 columns):\n",
      " #   Column               Non-Null Count  Dtype \n",
      "---  ------               --------------  ----- \n",
      " 0   RECORD ID NUMBER     85135 non-null  object\n",
      " 1   address_line_1_text  85135 non-null  object\n",
      " 2   city                 85135 non-null  object\n",
      " 3   state                85135 non-null  object\n",
      " 4   postal_code          85135 non-null  object\n",
      "dtypes: object(5)\n",
      "memory usage: 3.2+ MB\n"
     ]
    }
   ],
   "source": [
    "df_4.info()"
   ]
  },
  {
   "cell_type": "code",
   "execution_count": 154,
   "metadata": {},
   "outputs": [],
   "source": [
    "# So out of 94221 we got 85135 non nan rows"
   ]
  },
  {
   "cell_type": "code",
   "execution_count": 157,
   "metadata": {},
   "outputs": [],
   "source": [
    "for row in range(0,len(df_4),10000):\n",
    "    df_4[row : row+10000].to_excel(f'census_ua/data_{row}_{row+10000}.xlsx',index=False,header=False)"
   ]
  },
  {
   "cell_type": "code",
   "execution_count": 158,
   "metadata": {},
   "outputs": [
    {
     "data": {
      "text/html": [
       "<div>\n",
       "<style scoped>\n",
       "    .dataframe tbody tr th:only-of-type {\n",
       "        vertical-align: middle;\n",
       "    }\n",
       "\n",
       "    .dataframe tbody tr th {\n",
       "        vertical-align: top;\n",
       "    }\n",
       "\n",
       "    .dataframe thead th {\n",
       "        text-align: right;\n",
       "    }\n",
       "</style>\n",
       "<table border=\"1\" class=\"dataframe\">\n",
       "  <thead>\n",
       "    <tr style=\"text-align: right;\">\n",
       "      <th></th>\n",
       "      <th>RECORD ID NUMBER</th>\n",
       "      <th>address_line_1_text</th>\n",
       "      <th>city</th>\n",
       "      <th>state</th>\n",
       "      <th>postal_code</th>\n",
       "    </tr>\n",
       "  </thead>\n",
       "  <tbody>\n",
       "    <tr>\n",
       "      <th>0</th>\n",
       "      <td>_UGPI_58b7bc53f7a4412b0817e5c7_PI_245_CI_245_P...</td>\n",
       "      <td>7069-144th Street</td>\n",
       "      <td>Surrey</td>\n",
       "      <td>BC</td>\n",
       "      <td>00351</td>\n",
       "    </tr>\n",
       "    <tr>\n",
       "      <th>1</th>\n",
       "      <td>_UGPI_5e26eb0e69b31214dd575803_PI_245_CI_245_P...</td>\n",
       "      <td>Flat No 1102, A3, Ivy Building</td>\n",
       "      <td>Thane</td>\n",
       "      <td>MH</td>\n",
       "      <td>40060</td>\n",
       "    </tr>\n",
       "    <tr>\n",
       "      <th>2</th>\n",
       "      <td>_UGPI_5c118a2d69b3125eaff5eefa_PI_245_CI_245_P...</td>\n",
       "      <td>7758 Quail Street</td>\n",
       "      <td>Arvada</td>\n",
       "      <td>CO</td>\n",
       "      <td>80005</td>\n",
       "    </tr>\n",
       "    <tr>\n",
       "      <th>3</th>\n",
       "      <td>_UGPI_58b7fefd985bac4b586113f1_PI_245_CI_245_P...</td>\n",
       "      <td>558 NH route 101</td>\n",
       "      <td>Temple</td>\n",
       "      <td>NH</td>\n",
       "      <td>03084</td>\n",
       "    </tr>\n",
       "    <tr>\n",
       "      <th>4</th>\n",
       "      <td>_UGPI_58b7b467042fec4615e667e8_PI_245_CI_245_P...</td>\n",
       "      <td>621 Boone Trail</td>\n",
       "      <td>Charlottesville</td>\n",
       "      <td>VA</td>\n",
       "      <td>22903</td>\n",
       "    </tr>\n",
       "  </tbody>\n",
       "</table>\n",
       "</div>"
      ],
      "text/plain": [
       "                                    RECORD ID NUMBER  \\\n",
       "0  _UGPI_58b7bc53f7a4412b0817e5c7_PI_245_CI_245_P...   \n",
       "1  _UGPI_5e26eb0e69b31214dd575803_PI_245_CI_245_P...   \n",
       "2  _UGPI_5c118a2d69b3125eaff5eefa_PI_245_CI_245_P...   \n",
       "3  _UGPI_58b7fefd985bac4b586113f1_PI_245_CI_245_P...   \n",
       "4  _UGPI_58b7b467042fec4615e667e8_PI_245_CI_245_P...   \n",
       "\n",
       "              address_line_1_text             city state postal_code  \n",
       "0               7069-144th Street           Surrey    BC       00351  \n",
       "1  Flat No 1102, A3, Ivy Building            Thane    MH       40060  \n",
       "2               7758 Quail Street           Arvada    CO       80005  \n",
       "3                558 NH route 101           Temple    NH       03084  \n",
       "4                 621 Boone Trail  Charlottesville    VA       22903  "
      ]
     },
     "execution_count": 158,
     "metadata": {},
     "output_type": "execute_result"
    }
   ],
   "source": [
    "df_4[0:10000].head()"
   ]
  },
  {
   "cell_type": "code",
   "execution_count": null,
   "metadata": {},
   "outputs": [],
   "source": []
  }
 ],
 "metadata": {
  "instance_type": "ml.g4dn.xlarge",
  "kernelspec": {
   "display_name": "python3 (adl-core-custom-docker/1)",
   "language": "python",
   "name": "python3__SAGEMAKER_INTERNAL__arn:aws:sagemaker:us-east-1:660999144548:image-version/adl-core-custom-docker/1"
  },
  "language_info": {
   "codemirror_mode": {
    "name": "ipython",
    "version": 3
   },
   "file_extension": ".py",
   "mimetype": "text/x-python",
   "name": "python",
   "nbconvert_exporter": "python",
   "pygments_lexer": "ipython3",
   "version": "3.9.12"
  }
 },
 "nbformat": 4,
 "nbformat_minor": 4
}
