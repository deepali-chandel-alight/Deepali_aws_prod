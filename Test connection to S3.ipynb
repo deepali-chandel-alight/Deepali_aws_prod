{
 "cells": [
  {
   "cell_type": "code",
   "execution_count": null,
   "metadata": {},
   "outputs": [],
   "source": [
    "# !pip install boto3 pandas sagemaker --index-url https://artifactory.alight.com/artifactory/api/pypi/hws-pypi-local/simple --extra-index https://artifactory.alight.com/artifactory/api/pypi/python-pypi-remote/simple"
   ]
  },
  {
   "cell_type": "code",
   "execution_count": 1,
   "metadata": {},
   "outputs": [
    {
     "name": "stdout",
     "output_type": "stream",
     "text": [
      "/opt/conda/lib/python3.7/site-packages/secretstorage/dhcrypto.py:16: CryptographyDeprecationWarning: int_from_bytes is deprecated, use int.from_bytes instead\n",
      "  from cryptography.utils import int_from_bytes\n",
      "/opt/conda/lib/python3.7/site-packages/secretstorage/util.py:25: CryptographyDeprecationWarning: int_from_bytes is deprecated, use int.from_bytes instead\n",
      "  from cryptography.utils import int_from_bytes\n",
      "Looking in indexes: https://artifactory.alight.com/artifactory/api/pypi/hws-pypi-local/simple, https://artifactory.alight.com/artifactory/api/pypi/python-pypi-remote/simple\n",
      "Requirement already satisfied: boto3 in /opt/conda/lib/python3.7/site-packages (1.18.32)\n",
      "Requirement already satisfied: pandas in /opt/conda/lib/python3.7/site-packages (1.0.1)\n",
      "Requirement already satisfied: sagemaker in /opt/conda/lib/python3.7/site-packages (2.57.0)\n",
      "Requirement already satisfied: botocore<1.22.0,>=1.21.32 in /opt/conda/lib/python3.7/site-packages (from boto3) (1.21.32)\n",
      "Requirement already satisfied: s3transfer<0.6.0,>=0.5.0 in /opt/conda/lib/python3.7/site-packages (from boto3) (0.5.0)\n",
      "Requirement already satisfied: jmespath<1.0.0,>=0.7.1 in /opt/conda/lib/python3.7/site-packages (from boto3) (0.10.0)\n",
      "Requirement already satisfied: pytz>=2017.2 in /opt/conda/lib/python3.7/site-packages (from pandas) (2019.3)\n",
      "Requirement already satisfied: python-dateutil>=2.6.1 in /opt/conda/lib/python3.7/site-packages (from pandas) (2.8.1)\n",
      "Requirement already satisfied: numpy>=1.13.3 in /opt/conda/lib/python3.7/site-packages (from pandas) (1.20.3)\n",
      "Requirement already satisfied: protobuf>=3.1 in /opt/conda/lib/python3.7/site-packages (from sagemaker) (3.17.3)\n",
      "Requirement already satisfied: protobuf3-to-dict>=0.1.5 in /opt/conda/lib/python3.7/site-packages (from sagemaker) (0.1.5)\n",
      "Requirement already satisfied: importlib-metadata>=1.4.0 in /opt/conda/lib/python3.7/site-packages (from sagemaker) (1.5.0)\n",
      "Requirement already satisfied: attrs in /opt/conda/lib/python3.7/site-packages (from sagemaker) (19.3.0)\n",
      "Requirement already satisfied: packaging>=20.0 in /opt/conda/lib/python3.7/site-packages (from sagemaker) (20.1)\n",
      "Requirement already satisfied: pathos in /opt/conda/lib/python3.7/site-packages (from sagemaker) (0.2.8)\n",
      "Requirement already satisfied: google-pasta in /opt/conda/lib/python3.7/site-packages (from sagemaker) (0.2.0)\n",
      "Requirement already satisfied: smdebug-rulesconfig==1.0.1 in /opt/conda/lib/python3.7/site-packages (from sagemaker) (1.0.1)\n",
      "Requirement already satisfied: urllib3<1.27,>=1.25.4 in /opt/conda/lib/python3.7/site-packages (from botocore<1.22.0,>=1.21.32->boto3) (1.26.6)\n",
      "Requirement already satisfied: zipp>=0.5 in /opt/conda/lib/python3.7/site-packages (from importlib-metadata>=1.4.0->sagemaker) (2.2.0)\n",
      "Requirement already satisfied: six in /opt/conda/lib/python3.7/site-packages (from packaging>=20.0->sagemaker) (1.14.0)\n",
      "Requirement already satisfied: pyparsing>=2.0.2 in /opt/conda/lib/python3.7/site-packages (from packaging>=20.0->sagemaker) (2.4.6)\n",
      "Requirement already satisfied: ppft>=1.6.6.4 in /opt/conda/lib/python3.7/site-packages (from pathos->sagemaker) (1.6.6.4)\n",
      "Requirement already satisfied: multiprocess>=0.70.12 in /opt/conda/lib/python3.7/site-packages (from pathos->sagemaker) (0.70.12.2)\n",
      "Requirement already satisfied: pox>=0.3.0 in /opt/conda/lib/python3.7/site-packages (from pathos->sagemaker) (0.3.0)\n",
      "Requirement already satisfied: dill>=0.3.4 in /opt/conda/lib/python3.7/site-packages (from pathos->sagemaker) (0.3.4)\n",
      "\u001b[33mWARNING: Running pip as the 'root' user can result in broken permissions and conflicting behaviour with the system package manager. It is recommended to use a virtual environment instead: https://pip.pypa.io/warnings/venv\u001b[0m\n",
      "Could not fetch URL https://artifactory.alight.com/artifactory/api/pypi/hws-pypi-local/simple/pip/: There was a problem confirming the ssl certificate: HTTPSConnectionPool(host='artifactory.alight.com', port=443): Max retries exceeded with url: /artifactory/api/pypi/hws-pypi-local/simple/pip/ (Caused by SSLError(SSLCertVerificationError(1, '[SSL: CERTIFICATE_VERIFY_FAILED] certificate verify failed: self signed certificate in certificate chain (_ssl.c:1091)'))) - skipping\n",
      "Could not fetch URL https://artifactory.alight.com/artifactory/api/pypi/python-pypi-remote/simple/pip/: There was a problem confirming the ssl certificate: HTTPSConnectionPool(host='artifactory.alight.com', port=443): Max retries exceeded with url: /artifactory/api/pypi/python-pypi-remote/simple/pip/ (Caused by SSLError(SSLCertVerificationError(1, '[SSL: CERTIFICATE_VERIFY_FAILED] certificate verify failed: self signed certificate in certificate chain (_ssl.c:1091)'))) - skipping\n"
     ]
    }
   ],
   "source": [
    "!pip install boto3 pandas sagemaker --index-url https://artifactory.alight.com/artifactory/api/pypi/hws-pypi-local/simple --extra-index https://artifactory.alight.com/artifactory/api/pypi/python-pypi-remote/simple"
   ]
  },
  {
   "cell_type": "code",
   "execution_count": 2,
   "metadata": {},
   "outputs": [],
   "source": [
    "import os\n",
    "import json\n",
    "import boto3"
   ]
  },
  {
   "cell_type": "code",
   "execution_count": 3,
   "metadata": {},
   "outputs": [],
   "source": [
    "bucket_name = 'adl-core-sagemaker-studio'\n",
    "s3_client = boto3.client('s3')\n",
    "s3_resource = boto3.resource('s3')"
   ]
  },
  {
   "cell_type": "code",
   "execution_count": 4,
   "metadata": {},
   "outputs": [],
   "source": [
    "list_json_objects = []"
   ]
  },
  {
   "cell_type": "code",
   "execution_count": 7,
   "metadata": {},
   "outputs": [
    {
     "name": "stdout",
     "output_type": "stream",
     "text": [
      "external/named-entity-recognition/sample_emails.txt\n"
     ]
    }
   ],
   "source": [
    "for obj in s3_resource.Bucket(bucket_name).objects.all():  # change this to pull just 10 or so items\n",
    "    if obj.key == \"external/named-entity-recognition/sample_emails.txt\":\n",
    "        print(obj.key)\n",
    "#         list_json_objects.append(json.loads(\n",
    "#             s3_client.get_object(Bucket=bucket_name, Key=obj.key)['Body'].read().decode('utf-8')\n",
    "#         ))"
   ]
  },
  {
   "cell_type": "code",
   "execution_count": 18,
   "metadata": {},
   "outputs": [
    {
     "name": "stdout",
     "output_type": "stream",
     "text": [
      "[b'Amudhan C.S <amudhan.cs@alight.com>', b'Yoginder Pal <yoginder.pal@alight.com>', b'Devendra Yadav <devendra.yadav@alight.com>', b'Jeff Christians <jeff.christians@alight.com>', b'DG-AH-Global-LMB-LPA-LPAe <DG-AH-Global-LMB-LPA-LPAe@alight.com>', b'Mike Flynn <mike.flynn@alight.com>', b'Robert Schoen <robert.schoen@alight.com>', b'Frank Denisi <frank.denisi@alight.com>', b'Debbie Myslinski <debbie.myslinski@alight.com>', b'Arif Khan <arif.khan.3@alight.com>', b'Pandian Paramaguru <pandian.paramaguru@alight.com>', b'Stan Higginbotham <stan.higginbotham.2@alight.com>', b'Frank Pandola <frank.pandola@alight.com>', b'Tiffani Hoang <tiffani.hoang@alight.com>', b'Gagan Mohan <gagan.mohan@alight.com>', b'Micah Purdy <micah.purdy@alight.com>', b'Cameron Willis <cameron.willis@alight.com>', b'Aditaya Singh <aditaya.kumar.singh@alight.com>', b'Kavithaa Kirubakaran <kavithaa.kirubakaran@alight.com>', b'Andrew Burns <andrew.burns@alight.com>', b'Stewart Stuber <stewart.stuber@alight.com>', b'Frank Lee Roberts <frank.roberts@alight.com>', b'Christopher Kong <christopher.kong@alight.com>', b'Pradeep Kumar <pradeep.kumar.3@alight.com>', b'Ravdeep Saluja <ravdeep.singh.saluja@alight.com>', b'Antriksh Varshney <antriksh.varshney@alight.com>', b'Vipra Malhotra <vipra.bhatia@alight.com>', b'Nand Singh <nand.kishor.singh@alight.com>', b'Jo Ann Smith <jo.ann.smith@alight.com>', b'Prasanna Natarajan <prasanna.natarajan@alight.com>\\r', b'Pat Johlie <pat.johlie@alight.com>', b'Sweta Bansal <sweta.bansal@alight.com>', b'NUPUR TUTEJA <nupur.tuteja@alight.com>', b'Gunjan Aggarwal <gunjan.aggarwal@alight.com>', b'Mohanchand Bhuvanagiri <mohanchand.bhuvanagiri@alight.com>', b'Saravanan S <saravanan.s.3@alight.com>', b'Tyler Zeruk <tyler.zeruk@alight.com>', b'Vasanthi Chandran <vasanthi.chandran@alight.com>', b'Ruchika Baweja <ruchika.baweja@alight.com>', b'Kande Penchalaiah <kande.penchalaiah@alight.com>', b'Prabhakaran C <prabhakaran.c.3@alight.com>', b'Nitin Arya <nitin.arya.2@alight.com>', b'Dave Bolakowski <dave.bolakowski@alight.com>', b'Ashwani Sahu <ashwani.sahu@alight.com>', b'Prabu V <prabu.v@alight.com>', b'Hala Osmani <hala.osmani@alight.com>', b'Jim DeLozier <jim.delozier@alight.com>', b'Steve Charles <steve.charles.2@alight.com>', b'Missy Estenson <missy.estenson@alight.com>', b'Ayse Dincer <ayse.dincer@alight.com>', b'Ryan Kosik <ryan.kosik@alight.com>', b'Chad Magee <chad.magee@alight.com>', b'Masthan Palagiri <masthan.palagiri@alight.com>', b'Dave Kooi <david.kooi@alight.com>', b'Sachin Tayal <sachin.tayal@alight.com>', b'A G Charlie <a.g.charlie@alight.com>', b'Aditi Saxena <aditi.saxena.2@alight.com>', b'Bo Dada <bo.dada@alight.com>', b'Ryan Cody <ryan.cody@alight.com>', b'Ling Luo <ling.luo@alight.com>', b'Priya P <priya.p.2@alight.com>', b'Sethuraman V <sethuraman.v@alight.com>', b'MadhuMitha P <madhumitha.p.2@alight.com>', b'Aasish Jain <aasish.jain.2@alight.com>', b'Priya Srivastava <priya.dutt.srivastava@alight.com>', b'Arunkumar Selvaraj <arunkumar.selvaraj@alight.com>', b'Saranya K <saranya.k@alight.com>', b'Ajita Upadhyay <ajita.tripathi@alight.com>', b'Krishna Varipilli <krishna.varipilli@alight.com>', b'Saranyaa K R <saranyaa.k.r@alight.com>', b'Eric Kenyon <eric.kenyon@alight.com>', b'Srinivasan K G <srinivasan.k.g@alight.com>', b'Richard Hu <richard.hu.2@alight.com>', b'Nirmala M <nirmala.m@alight.com>', b'Manish Mahesh <manish.mahesh@alight.com>', b'Rama Rajeswari S <rama.rajeswari.s@alight.com>', b'Charumathi Arjunan <charumathi.arjunan@alight.com>', b'Natalia Cuartas <natalia.cuartas@alight.com>', b'Richard Crawford <richard.crawford@alight.com>', b'Arun Prasad M <arun.prasad.m@alight.com>', b'Tom Hand <tom.hand.2@alight.com>', b'Ariharasuthan R <ariharasuthan.r@alight.com>', b'Sachin Jain <sachin.jain.2@alight.com>', b'Siva Sankararao Pinjala <sivasankararao.pinjala@alight.com>', b'Arun Balaji A', b'Priyadharshini Murugesan <priyadharshini.murugesan@alight.com>', b'Akhil Gupta <akhil.gupta@alight.com>', b'Sathish S <sathish.s.2@alight.com>', b'Abhishek Dhand <abhishek.dhand@alight.com>', b'A. Divya <a.divya@alight.com>', b'Ioana Tamas <ioana.tamas@alight.com>', b'Toni Watson <toni.watson@alight.com>', b'Ravindran V <ravindran.v@alight.com>', b'Karthik Mani <karthik.mani@alight.com>', b'Bharathiraja B <bharathiraja.bharathiraja@alight.com>', b'Thamarai Selvi V K <thamarai.selvi.v.k@alight.com>', b'Philomena X <philomena.x@alight.com>', b'Dhruti Mehta <dhruti.shah@alight.com>', b'Neha Bisht <neha.bisht@alight.com>', b'Matt Thomas <matt.thomas.3@alight.com>', b'Kakoli Neog <kakoli.neog@alight.com>', b'Archana A <archana.rathee@alight.com>', b'CHANDRA KUMAR R <chandrakumar.r@alight.com>', b'Garima Chaubey <garima.chaubey@alight.com>', b'Ratnesh Kumar <ratnesh.kumar.2@alight.com>', b'Gomathi P <gomathi.p@alight.com>', b'Mohan kumar V.S <mohankumar.vs@alight.com>', b'Uma Maheswari S <uma.maheswari.s@alight.com>', b'Abinash Kumar <abinash.kumar@alight.com>', b'Aditi Sehgal Madaan <aditi.sehgal@alight.com>', b'Amrendra Pandey <amrendra.pandey@alight.com>', b'Anupam Karwal', b'Ashish Jain <ashish.jain.5@alight.com>', b'Bharathi P <bharathi.p@alight.com>', b'Bhuvaneswari Natarajan <bhuvaneswari.natarajan@alight.com>', b'Deepan Raj S <deepan.raj.s@alight.com>', b'Elakkiya V <elakkiya.v@alight.com>', b'Elangkumaran A <elangkumaran.a@alight.com>', b'Karthik D <karthik.d.2@alight.com>', b'Kathiravan Paramasivam <kathiravan.paramasivam@alight.com>', b'Keena J <keena.j@alight.com>', b'Leonia Princy Rani S <leoniaprincyrani.s@alight.com>', b'Madhan Chakravarthy <madhan.chakravarthy@alight.com>', b'Mandeepak Singh <mandeepak.singh@alight.com>', b'Neeraj Kumar <neeraj.kumar.16@alight.com>', b'Pranav Arora <pranav.arora@alight.com>', b'Pratheep Ananth K <pratheep.ananth.k@alight.com>', b'Preethi Philiphena R <preethi.philiphena.r@alight.com>', b'Rajesh S <rajesh.s.2@alight.com>', b'Sai Ramani B <sai.ramani.b@alight.com>', b'SAJAN JAI SAJAN H <sajanjaisajan.h@alight.com>', b'Selvakumar Muthusamy <selvakumar.muthusamy@alight.com>', b'Sivakumar K <sivakumar.k.2@alight.com>', b'Sudarsan Panneerselvam <sudarsan.panneerselvam@alight.com>', b'Dhruti Mehta <damehta55@gmail.com>', b'Shelita White <shelita.white@alight.com>', b'Shahab Saquib <shahab.saquib.2@alight.com>', b'Nikhil Agarwal <nikhil.agarwal.2@alight.com>', b'Nitin Sharma <nitin.sharma.3@alight.com>', b'Michael DuFour <michael.dufour@alight.com>', b'Anahita Alfred <anahita.alfred@alight.com>', b'Nadia Al-Kindy <nadia.al-kindy@alight.com>', b'John Bell <john.bell@alight.com>', b'Mukesh Khurana <mukesh.khurana@alight.com>', b'Dhivya Manoharan <dhivya.manoharan@alight.com>', b'Michael Morin <michael.morin@alight.com>', b'Mukesh Sharma <mukesh.sharma.3@alight.com>', b'MY WGLs New', b'Kerri Moriarty <kerri.moriarty@alight.com>', b'Parul Garg <parul.garg.3@alight.com>', b'Neha Sharma <neha.sharma.15@alight.com>', b'Avinash Kumar <avinash.kumar.8@alight.com>', b'Fowad Ahmad <fowad.ahmad@alight.com>', b'AAKASH GAUR <aakash.gaur@alight.com>', b'AJAY SHARMA <ajay.sharma@alight.com>', b'Vineet Vinayak <vineet.vinayak@alight.com>\\r', b'']\n"
     ]
    }
   ],
   "source": [
    "for obj in s3_resource.Bucket(bucket_name).objects.all(): # change this to pull just 10 or so items\n",
    "    if obj.key == \"external/named-entity-recognition/sample_emails.txt\":\n",
    "        data = obj.get()['Body'].read()\n",
    "print(data.split(b'\\n'))"
   ]
  },
  {
   "cell_type": "code",
   "execution_count": 20,
   "metadata": {},
   "outputs": [
    {
     "name": "stdout",
     "output_type": "stream",
     "text": [
      "[b'Amudhan C.S <amudhan.cs@alight.com>', b'Yoginder Pal <yoginder.pal@alight.com>', b'Devendra Yadav <devendra.yadav@alight.com>', b'Jeff Christians <jeff.christians@alight.com>', b'DG-AH-Global-LMB-LPA-LPAe <DG-AH-Global-LMB-LPA-LPAe@alight.com>', b'Mike Flynn <mike.flynn@alight.com>', b'Robert Schoen <robert.schoen@alight.com>', b'Frank Denisi <frank.denisi@alight.com>', b'Debbie Myslinski <debbie.myslinski@alight.com>', b'Arif Khan <arif.khan.3@alight.com>']\n"
     ]
    }
   ],
   "source": [
    "for obj in s3_resource.Bucket(bucket_name).objects.all(): # change this to pull just 10 or so items\n",
    "    if obj.key == \"external/named-entity-recognition/sample_emails.txt\":\n",
    "        data = obj.get()['Body'].read()\n",
    "print(data.split(b'\\n')[:10])"
   ]
  },
  {
   "cell_type": "code",
   "execution_count": 23,
   "metadata": {},
   "outputs": [
    {
     "name": "stdout",
     "output_type": "stream",
     "text": [
      "s3.ObjectSummary(bucket_name='adl-core-sagemaker-studio', key='/external/User/rhp/Aws_data/All_data/all_bmo_meijer_single_leg_17sep2021.xlsx')\n",
      "s3.ObjectSummary(bucket_name='adl-core-sagemaker-studio', key='/external/metadata/query/File_after_map.csv')\n",
      "s3.ObjectSummary(bucket_name='adl-core-sagemaker-studio', key='calldata/')\n",
      "s3.ObjectSummary(bucket_name='adl-core-sagemaker-studio', key='calldata/2021-06-02/ootb/.write_access_check_file.temp')\n",
      "s3.ObjectSummary(bucket_name='adl-core-sagemaker-studio', key='calldata/2021-06-02/ootb/NICE_6969173012808538951_Summed.wav2021-06-07T19_11_05.json')\n",
      "s3.ObjectSummary(bucket_name='adl-core-sagemaker-studio', key='calldata/2021-06-02/ootb/NICE_6969173411638621059_Summed.wav2021-06-07T19_11_05.json')\n",
      "s3.ObjectSummary(bucket_name='adl-core-sagemaker-studio', key='calldata/2021-06-02/ootb/NICE_6969173437408424842_Summed.wav2021-06-07T19_11_05.json')\n",
      "s3.ObjectSummary(bucket_name='adl-core-sagemaker-studio', key='calldata/2021-06-02/ootb/NICE_6969173992061082488_Summed.wav2021-06-07T19_11_05.json')\n",
      "s3.ObjectSummary(bucket_name='adl-core-sagemaker-studio', key='calldata/2021-06-02/ootb/NICE_6969174051588748372_Summed.wav2021-06-07T19_11_05.json')\n",
      "s3.ObjectSummary(bucket_name='adl-core-sagemaker-studio', key='calldata/2021-06-02/ootb/NICE_6969174052079482409_Summed.wav2021-06-07T19_11_05.json')\n"
     ]
    }
   ],
   "source": [
    "n=10\n",
    "\n",
    "for index, obj in enumerate(s3_resource.Bucket(bucket_name).objects.all()): # change this to pull just 10 or so items\n",
    "    if index==n:\n",
    "        break\n",
    "    print(obj)"
   ]
  },
  {
   "cell_type": "code",
   "execution_count": 13,
   "metadata": {},
   "outputs": [
    {
     "data": {
      "text/plain": [
       "0"
      ]
     },
     "execution_count": 13,
     "metadata": {},
     "output_type": "execute_result"
    }
   ],
   "source": [
    "len(list_json_objects)"
   ]
  },
  {
   "cell_type": "code",
   "execution_count": 9,
   "metadata": {},
   "outputs": [],
   "source": [
    "# list_json_objects[3]['results']['transcripts'][0]['transcript'][:100]"
   ]
  },
  {
   "cell_type": "code",
   "execution_count": null,
   "metadata": {},
   "outputs": [],
   "source": []
  }
 ],
 "metadata": {
  "instance_type": "ml.t3.medium",
  "kernelspec": {
   "display_name": "Python 3 (Data Science)",
   "language": "python",
   "name": "python3__SAGEMAKER_INTERNAL__arn:aws:sagemaker:us-east-1:081325390199:image/datascience-1.0"
  },
  "language_info": {
   "codemirror_mode": {
    "name": "ipython",
    "version": 3
   },
   "file_extension": ".py",
   "mimetype": "text/x-python",
   "name": "python",
   "nbconvert_exporter": "python",
   "pygments_lexer": "ipython3",
   "version": "3.7.10"
  }
 },
 "nbformat": 4,
 "nbformat_minor": 4
}
